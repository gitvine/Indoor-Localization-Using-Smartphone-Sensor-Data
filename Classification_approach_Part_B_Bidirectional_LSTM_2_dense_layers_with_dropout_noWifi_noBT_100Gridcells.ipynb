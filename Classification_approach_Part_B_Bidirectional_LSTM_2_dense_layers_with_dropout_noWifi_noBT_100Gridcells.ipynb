{
  "nbformat": 4,
  "nbformat_minor": 0,
  "metadata": {
    "colab": {
      "name": "Part_B_classification_approach_Bidirectional_LSTM_2_dense_layers_with_dropout_noWifi_noBT.ipynb",
      "provenance": [],
      "collapsed_sections": []
    },
    "kernelspec": {
      "display_name": "Python 3",
      "language": "python",
      "name": "python3"
    },
    "language_info": {
      "codemirror_mode": {
        "name": "ipython",
        "version": 3
      },
      "file_extension": ".py",
      "mimetype": "text/x-python",
      "name": "python",
      "nbconvert_exporter": "python",
      "pygments_lexer": "ipython3",
      "version": "3.8.5"
    }
  },
  "cells": [
    {
      "cell_type": "markdown",
      "metadata": {
        "id": "QktZ8WbxTv2T"
      },
      "source": [
        "## We have divided the problem into two parts\n",
        "(a) Predict the floor number\n",
        "(b) Predict the way points or location on that floor"
      ]
    },
    {
      "cell_type": "code",
      "metadata": {
        "id": "1f5bwMxmPWjQ"
      },
      "source": [
        "import pandas as pd\n",
        "import numpy as np\n",
        "%matplotlib inline\n",
        "import matplotlib.pyplot as plt\n",
        "from os import listdir\n",
        "from pathlib import Path\n",
        "pd.options.mode.chained_assignment = None  # default='warn'\n",
        "from dataclasses import dataclass\n",
        "from sklearn import preprocessing"
      ],
      "execution_count": null,
      "outputs": []
    },
    {
      "cell_type": "code",
      "metadata": {
        "id": "q6hAEaR6tmi9"
      },
      "source": [
        "import keras\n",
        "from keras.utils import to_categorical\n",
        "from keras.preprocessing import sequence\n",
        "import tensorflow as tf\n",
        "from keras.models import Sequential\n",
        "from keras.layers import Dense\n",
        "from keras.layers import LSTM\n",
        "from keras.optimizers import Adam\n",
        "from keras.models import load_model\n",
        "from keras.callbacks import ModelCheckpoint\n",
        "from keras.layers import Bidirectional"
      ],
      "execution_count": null,
      "outputs": []
    },
    {
      "cell_type": "code",
      "metadata": {
        "colab": {
          "base_uri": "https://localhost:8080/"
        },
        "id": "BfbMebYYWEIw",
        "outputId": "533270d7-5952-4f5a-99f1-49f8b8ed2c3b"
      },
      "source": [
        "from google.colab import drive\n",
        "drive.mount('/content/drive')"
      ],
      "execution_count": null,
      "outputs": [
        {
          "output_type": "stream",
          "text": [
            "Mounted at /content/drive\n"
          ],
          "name": "stdout"
        }
      ]
    },
    {
      "cell_type": "code",
      "metadata": {
        "id": "XpKnmwl6M_3_"
      },
      "source": [
        "#Function to connect waypoint coordinates with straight lines\n",
        "#This will be used for second part of project.We will discuss about this later.\n",
        "def connect_waypoints(wp_df):\n",
        "  if(wp_df.at[0,'waypoint_val1']==''):\n",
        "    wp_df.at[0,'waypoint_val1']=0\n",
        "  if(wp_df.at[0,'waypoint_val2']==''):\n",
        "    wp_df.at[0,'waypoint_val2']=0  \n",
        "  j=0\n",
        "  i=0\n",
        "  last=0\n",
        "  #print(wp_df.head(5))\n",
        "  while i < (len(wp_df)-1):\n",
        "    j=i+1\n",
        "    while((wp_df.at[j,'waypoint_val1']==0) and (wp_df.at[j,'waypoint_val2']==0) ):\n",
        "      if(j==len(wp_df)-1):\n",
        "        wp_df.at[j,'waypoint_val1']=wp_df.at[i,'waypoint_val1']\n",
        "        wp_df.at[j,'waypoint_val2']=wp_df.at[i,'waypoint_val2']\n",
        "        last=1\n",
        "        break\n",
        "      j+=1\n",
        "    temp_arrayx=np.linspace(wp_df.at[i,'waypoint_val1'],wp_df.at[j,'waypoint_val1'], num=j-i+1)\n",
        "    temp_arrayy=np.linspace(wp_df.at[i,'waypoint_val2'],wp_df.at[j,'waypoint_val2'], num=j-i+1)\n",
        "    #print(temp_arrayx)\n",
        "    m=0\n",
        "    for k in range(i,j+1):\n",
        "      wp_df.at[k,'waypoint_val1']=temp_arrayx[m]\n",
        "      wp_df.at[k,'waypoint_val2']=temp_arrayy[m]\n",
        "      #For final comparison of our predicted location, we will need to mark which waypoints were in original data before connecting them\n",
        "      #print('k=',k,'i=',i,'j=',j)\n",
        "      if((k==i) and (last==0)):\n",
        "        wp_df.at[k,'interpolated']=1 #original waypoints\n",
        "      else:\n",
        "        wp_df.at[k,'interpolated']=0  #interpolated waypoints\n",
        "      m+=1\n",
        "    i=j\n",
        "  return wp_df     \n"
      ],
      "execution_count": null,
      "outputs": []
    },
    {
      "cell_type": "code",
      "metadata": {
        "id": "hycBgmQSPWjX"
      },
      "source": [
        "# Function to extract arrays for each sensor with timeslots.\n",
        "# This particular function is modified from the function provided by the competition's github page at https://github.com/location-competition/indoor-location-competition-20/blob/master/io_f.py\n",
        "\n",
        "@dataclass\n",
        "class ReadData:\n",
        "    acce: np.ndarray\n",
        "    acce_uncali: np.ndarray\n",
        "    gyro: np.ndarray\n",
        "    gyro_uncali: np.ndarray\n",
        "    magn: np.ndarray\n",
        "    magn_uncali: np.ndarray\n",
        "    ahrs: np.ndarray\n",
        "    wifi: np.ndarray\n",
        "    ibeacon: np.ndarray\n",
        "    waypoint: np.ndarray\n",
        "\n",
        "\n",
        "def read_data_file(data_filename):\n",
        "    acce = []\n",
        "    acce_uncali = []\n",
        "    gyro = []\n",
        "    gyro_uncali = []\n",
        "    magn = []\n",
        "    magn_uncali = []\n",
        "    ahrs = []\n",
        "    wifi = []\n",
        "    ibeacon = []\n",
        "    waypoint = []\n",
        "    line_count=0\n",
        "    with open(data_filename, 'r', encoding='utf-8') as file:\n",
        "        lines = file.readlines()\n",
        "\n",
        "    for line_data in lines:\n",
        "        #line_count=line_count+1\n",
        "        #if(line_count>3000):\n",
        "        #  break\n",
        "        line_data = line_data.strip()\n",
        "        if not line_data or line_data[0] == '#':\n",
        "            continue\n",
        "\n",
        "        line_data = line_data.split('\\t')\n",
        "\n",
        "        if line_data[1] == 'TYPE_ACCELEROMETER':\n",
        "            acce.append([int(line_data[0]), float(line_data[2]), float(line_data[3]), float(line_data[4])])\n",
        "            continue\n",
        "\n",
        "        if line_data[1] == 'TYPE_ACCELEROMETER_UNCALIBRATED':\n",
        "            acce_uncali.append([int(line_data[0]), float(line_data[2]), float(line_data[3]), float(line_data[4])])\n",
        "            continue\n",
        "\n",
        "        if line_data[1] == 'TYPE_GYROSCOPE':\n",
        "            gyro.append([int(line_data[0]), float(line_data[2]), float(line_data[3]), float(line_data[4])])\n",
        "            continue\n",
        "\n",
        "        if line_data[1] == 'TYPE_GYROSCOPE_UNCALIBRATED':\n",
        "            gyro_uncali.append([int(line_data[0]), float(line_data[2]), float(line_data[3]), float(line_data[4])])\n",
        "            continue\n",
        "\n",
        "        if line_data[1] == 'TYPE_MAGNETIC_FIELD':\n",
        "            magn.append([int(line_data[0]), float(line_data[2]), float(line_data[3]), float(line_data[4])])\n",
        "            continue\n",
        "\n",
        "        if line_data[1] == 'TYPE_MAGNETIC_FIELD_UNCALIBRATED':\n",
        "            magn_uncali.append([int(line_data[0]), float(line_data[2]), float(line_data[3]), float(line_data[4])])\n",
        "            continue\n",
        "\n",
        "        if line_data[1] == 'TYPE_ROTATION_VECTOR':\n",
        "            ahrs.append([int(line_data[0]), float(line_data[2]), float(line_data[3]), float(line_data[4])])\n",
        "            continue\n",
        "\n",
        "        if line_data[1] == 'TYPE_WIFI':\n",
        "            sys_ts = int(line_data[0])\n",
        "            ssid = line_data[2]\n",
        "            bssid = line_data[3]\n",
        "            rssi = line_data[4]\n",
        "            lastseen_ts = line_data[6]\n",
        "            wifi_data = [sys_ts, ssid, bssid, rssi, lastseen_ts]\n",
        "            wifi.append(wifi_data)\n",
        "            continue\n",
        "\n",
        "        if line_data[1] == 'TYPE_BEACON':\n",
        "            ts = int(line_data[0])\n",
        "            uuid = line_data[2]\n",
        "            major = line_data[3]\n",
        "            minor = line_data[4]\n",
        "            rssi = line_data[6]\n",
        "            ibeacon_data = [ts, '_'.join([uuid, major, minor]), rssi]\n",
        "            ibeacon.append(ibeacon_data)\n",
        "            continue\n",
        "\n",
        "        if line_data[1] == 'TYPE_WAYPOINT':\n",
        "            waypoint.append([int(line_data[0]), float(line_data[2]), float(line_data[3])])\n",
        "\n",
        "    acce = np.array(acce,dtype=np.float)\n",
        "    acce_uncali = np.array(acce_uncali,dtype=np.float)\n",
        "    gyro = np.array(gyro,dtype=np.float)\n",
        "    gyro_uncali = np.array(gyro_uncali,dtype=np.float)\n",
        "    magn = np.array(magn,dtype=np.float)\n",
        "    magn_uncali = np.array(magn_uncali,dtype=np.float)\n",
        "    ahrs = np.array(ahrs)\n",
        "    wifi = np.array(wifi)\n",
        "    ibeacon = np.array(ibeacon)\n",
        "    waypoint = np.array(waypoint)\n",
        "\n",
        "    return ReadData(acce, acce_uncali, gyro, gyro_uncali, magn, magn_uncali, ahrs, wifi, ibeacon, waypoint)"
      ],
      "execution_count": null,
      "outputs": []
    },
    {
      "cell_type": "code",
      "metadata": {
        "id": "FpAoHhUmPWjb"
      },
      "source": [
        "#Function to go through all the files in the folder and return the sensor data \n",
        "# in the form of arrays\n",
        "@dataclass\n",
        "class trace:\n",
        "    sequence: np.ndarray\n",
        "    target_seq: np.ndarray\n",
        "    waypoint_seq: np.ndarray\n",
        "    wp_full_seq: np.ndarray\n",
        "\n",
        "def convert_to_df(file_path,floor,timeslots):\n",
        "    pathlist = Path(file_path).rglob('*.txt')\n",
        "    sequence = list()\n",
        "    target_seq=list()\n",
        "    waypoint_seq=list()\n",
        "    wp_full_seq=list()\n",
        "    path_id=1\n",
        "    floor_trace_df=pd.DataFrame()\n",
        "    for path in pathlist:\n",
        "         # because path is object not string\n",
        "        path_in_str = str(path)\n",
        "         # print(path_in_str)\n",
        "        trace_file = read_data_file(path_in_str)\n",
        "        trace_df=pd.DataFrame()\n",
        "        if(trace_file.acce.size):\n",
        "            acce_df=pd.DataFrame(trace_file.acce, columns=['Timestamp','acce_val1','acce_val2','acce_val3'])\n",
        "        if(trace_file.acce_uncali.size):\n",
        "            acce__uncal_df=pd.DataFrame(trace_file.acce_uncali, columns=['Timestamp','acce_uncal_val1','acce_uncal_val2','acce_uncal_val3'])   \n",
        "        if(trace_file.gyro.size):\n",
        "            gyro_df=pd.DataFrame(trace_file.gyro, columns=['Timestamp','gyro_val1','gyro_val2','gyro_val3'])\n",
        "        if(trace_file.gyro_uncali.size):\n",
        "            gyro_uncal_df=pd.DataFrame(trace_file.gyro_uncali, columns=['Timestamp','gyro_uncal_val1','gyro_uncal_val2','gyro_uncal_val3'])\n",
        "        if(trace_file.magn.size):\n",
        "            magn_df=pd.DataFrame(trace_file.magn, columns=['Timestamp','magn_val1','magn_val2','magn_val3'])\n",
        "        if(trace_file.magn_uncali.size):\n",
        "            magn_uncal_df=pd.DataFrame(trace_file.magn_uncali, columns=['Timestamp','magn_uncal_val1','magn_uncal_val2','magn_uncal_val3'])\n",
        "        if(trace_file.ahrs.size):\n",
        "            rot_df=pd.DataFrame(trace_file.ahrs, columns=['Timestamp','rot_val1','rot_val2','rot_val3'])           \n",
        "        if(trace_file.wifi.size):\n",
        "            wifi_df=pd.DataFrame(trace_file.wifi, columns=['Timestamp','wifi_val1','wifi_val2','wifi_val3','wifi_val4']) \n",
        "        if(trace_file.ibeacon.size):\n",
        "            ibeacon_df=pd.DataFrame(trace_file.ibeacon, columns=['Timestamp','ibeacon_val1','ibeacon_val2'])    \n",
        "        if(trace_file.waypoint.size):\n",
        "            waypoint_df=pd.DataFrame(trace_file.waypoint, columns=['Timestamp','waypoint_val1','waypoint_val2'])\n",
        "        \n",
        "        #change data type of wifi dataframe timestamp and ibeacon timestamp\n",
        "        wifi_df[\"Timestamp\"] = wifi_df.Timestamp.astype(float)\n",
        "        ibeacon_df[\"Timestamp\"] = ibeacon_df.Timestamp.astype(float)\n",
        "        trace_df = pd.merge(acce_df, acce__uncal_df, on='Timestamp', how='outer')\n",
        "        trace_df = pd.merge(trace_df, gyro_df, on='Timestamp', how='outer')\n",
        "        trace_df = pd.merge(trace_df, gyro_uncal_df, on='Timestamp', how='outer')\n",
        "        trace_df = pd.merge(trace_df, magn_df, on='Timestamp', how='outer')\n",
        "        trace_df = pd.merge(trace_df, magn_uncal_df, on='Timestamp', how='outer')\n",
        "        trace_df = pd.merge(trace_df, rot_df, on='Timestamp', how='outer')\n",
        "        #trace_df = pd.merge(trace_df, wifi_df, on='Timestamp', how='outer')\n",
        "        #trace_df = pd.merge(trace_df, ibeacon_df, on='Timestamp', how='outer')\n",
        "        trace_df = pd.merge(trace_df, waypoint_df, on='Timestamp', how='outer')\n",
        "        ###### Cast time stamp to integer\n",
        "        trace_df[\"Timestamp\"] = trace_df.Timestamp.astype(int)\n",
        "\n",
        "        # sorting by Timestamp and deleting duplicate timeslots \n",
        "        \n",
        "        trace_df.sort_values(\"Timestamp\", inplace = True)\n",
        "        trace_df = trace_df.reset_index(drop=True)\n",
        "        trace_df.drop_duplicates(subset=\"Timestamp\",keep=False, inplace=True)\n",
        "        trace_df = trace_df.reset_index(drop=True)\n",
        "        \n",
        "        trace_df=trace_df.replace(np.nan,0)\n",
        "\n",
        "        #keep only top 200 rows in one sequence     \n",
        "        #trace_df=trace_df.head(200)\n",
        "\n",
        "        #for i in range(0,len(trace_df)):\n",
        "         # trace_df.at[i,'Timestamp']=i\n",
        "        \n",
        "        #trace_df['time_index'] = trace_df.index\n",
        "        #print(trace_df.head())\n",
        "        #trace_df['floor_name']=floor\n",
        "        #trace_df['path_id']=floor+path_id\n",
        "        #path_id=path_id+1\n",
        "        #trace_df['wifi_df'].fillna(0)\n",
        "        #trace_df['ibeacon_df'].fillna(0)\n",
        "        #trace_df['wifi_df'].fillna(0)\n",
        "        \n",
        "\n",
        "        wp_df = trace_df[['waypoint_val1', 'waypoint_val2']].copy()\n",
        "        wp_df=connect_waypoints(wp_df)\n",
        "        wp_values=wp_df.values\n",
        "        #Removing text based fields in dataframe\n",
        "        trace_df=trace_df.drop(['Timestamp'], axis=1)\n",
        "        #trace_df=trace_df.drop(['wifi_val1'], axis=1)\n",
        "        #trace_df=trace_df.drop(['wifi_val2'], axis=1)\n",
        "        #trace_df=trace_df.drop(['ibeacon_val1'], axis=1)\n",
        "        trace_df.astype('float32')        \n",
        "        trace_df=trace_df.drop(['waypoint_val1','waypoint_val2'], axis=1)\n",
        "        #floor_trace_df=floor_trace_df.append(trace_df)\n",
        "        values = trace_df.values \n",
        "\n",
        "\n",
        "        \n",
        "\n",
        "\n",
        "        #Now split sequence into required number of timeslots\n",
        "        l=int(len(values)/timeslots)\n",
        "        k=0\n",
        "        for m in range(l):\n",
        "          s_temp=values[k:k+timeslots]\n",
        "          wp_temp=wp_values[k:k+timeslots]\n",
        "          #Normalize\n",
        "          #min_max_scaler = preprocessing.MinMaxScaler()\n",
        "          #s_scaled = min_max_scaler.fit_transform(s_temp)\n",
        "          sequence.append(s_temp)\n",
        "          wp_full_seq.append(wp_temp)\n",
        "          target_seq.append(floor)\n",
        "          wp_temp=wp_df.iloc[k:k+timeslots,0:]\n",
        "          wp_temp=wp_temp.reset_index(drop=True)\n",
        "          #wp_temp=connect_waypoints(wp_temp)\n",
        "        #Now after connecting the waypoints, the avearge has become a wieghted average in time series\n",
        "          wp_avg_x=wp_temp['waypoint_val1'].mean()\n",
        "          wp_avg_y=wp_temp['waypoint_val2'].mean()\n",
        "        #maximum and minimum will be useful in second part\n",
        "          wp_max_x=wp_temp['waypoint_val1'].max()\n",
        "          wp_min_x=wp_temp['waypoint_val1'].min()\n",
        "          wp_max_y=wp_temp['waypoint_val2'].max()\n",
        "          wp_min_y=wp_temp['waypoint_val2'].min()\n",
        "          \n",
        "          waypoint_seq.append([wp_avg_x,wp_avg_y,wp_max_x,wp_min_x,wp_max_y,wp_min_y])\n",
        "          k+=timeslots\n",
        "\n",
        "    return trace(sequence,target_seq,waypoint_seq,wp_full_seq)"
      ],
      "execution_count": null,
      "outputs": []
    },
    {
      "cell_type": "code",
      "metadata": {
        "id": "RIHmyZk8PWje"
      },
      "source": [
        "#Extracting data for B1 floor only\n",
        "sequences = list()\n",
        "target_sequence=list()\n",
        "waypoint_sequence=list()\n",
        "waypoint_full_sequence=list()\n",
        "#floors_df=pd.DataFrame()\n",
        "file_path = '/content/drive/MyDrive/building1/data/B1'\n",
        "trace_values=(convert_to_df(file_path,0,5))\n",
        "sequences.extend(trace_values.sequence)\n",
        "target_sequence.extend(trace_values.target_seq)\n",
        "waypoint_sequence.extend(trace_values.waypoint_seq)\n",
        "waypoint_full_sequence.extend(trace_values.wp_full_seq)"
      ],
      "execution_count": null,
      "outputs": []
    },
    {
      "cell_type": "code",
      "metadata": {
        "colab": {
          "base_uri": "https://localhost:8080/"
        },
        "id": "-H8pSsXd15bP",
        "outputId": "aa2575ac-8272-43ba-d165-d4b9859e28e2"
      },
      "source": [
        "len(waypoint_sequence)"
      ],
      "execution_count": null,
      "outputs": [
        {
          "output_type": "execute_result",
          "data": {
            "text/plain": [
              "38874"
            ]
          },
          "metadata": {
            "tags": []
          },
          "execution_count": 9
        }
      ]
    },
    {
      "cell_type": "code",
      "metadata": {
        "colab": {
          "base_uri": "https://localhost:8080/"
        },
        "id": "cu3Zj31ukXcD",
        "outputId": "20b59f65-a45d-45ad-c4fb-9a8b857b9aca"
      },
      "source": [
        "len(sequences[0])"
      ],
      "execution_count": null,
      "outputs": [
        {
          "output_type": "execute_result",
          "data": {
            "text/plain": [
              "5"
            ]
          },
          "metadata": {
            "tags": []
          },
          "execution_count": 11
        }
      ]
    },
    {
      "cell_type": "code",
      "metadata": {
        "colab": {
          "base_uri": "https://localhost:8080/"
        },
        "id": "z_7S8TmaPWje",
        "outputId": "09f6fb3c-67cb-44e1-9ac1-251f96cd8e3d"
      },
      "source": [
        "print('Number of sequences',len(sequences))\n",
        "print('Number of targets',len(target_sequence))\n",
        "print('Number of timeslots in first sequence',(sequences[0].shape)[0])\n",
        "print('Number of timeslots in tenth sequence',(sequences[9].shape)[0])\n",
        "print('Number of timeslots in hundredth sequence',(sequences[99].shape)[0])"
      ],
      "execution_count": null,
      "outputs": [
        {
          "output_type": "stream",
          "text": [
            "Number of sequences 38874\n",
            "Number of targets 38874\n",
            "Number of timeslots in first sequence 5\n",
            "Number of timeslots in tenth sequence 5\n",
            "Number of timeslots in hundredth sequence 5\n"
          ],
          "name": "stdout"
        }
      ]
    },
    {
      "cell_type": "markdown",
      "metadata": {
        "id": "vo62w2LuQHNq"
      },
      "source": [
        "# Part 2 "
      ]
    },
    {
      "cell_type": "markdown",
      "metadata": {
        "id": "Qnk26WqnQJKY"
      },
      "source": [
        "### After knowing the floor, now we need to predict waypoints on that floor."
      ]
    },
    {
      "cell_type": "markdown",
      "metadata": {
        "id": "uGoxuEgijbH1"
      },
      "source": [
        "### We assume that floor B1 was predicted in first part. So, for this part we will only take data of floor B1."
      ]
    },
    {
      "cell_type": "code",
      "metadata": {
        "colab": {
          "base_uri": "https://localhost:8080/"
        },
        "id": "ISwnNpCoPWji",
        "outputId": "fe90c5f1-960a-46fa-a259-0901208cbf06"
      },
      "source": [
        "len(waypoint_sequence)"
      ],
      "execution_count": null,
      "outputs": [
        {
          "output_type": "execute_result",
          "data": {
            "text/plain": [
              "38874"
            ]
          },
          "metadata": {
            "tags": []
          },
          "execution_count": 12
        }
      ]
    },
    {
      "cell_type": "code",
      "metadata": {
        "colab": {
          "base_uri": "https://localhost:8080/"
        },
        "id": "xXPijH_9Y8VR",
        "outputId": "e350e446-e3bd-43d0-b9a3-b7021d2893fc"
      },
      "source": [
        "len(sequences)"
      ],
      "execution_count": null,
      "outputs": [
        {
          "output_type": "execute_result",
          "data": {
            "text/plain": [
              "38874"
            ]
          },
          "metadata": {
            "tags": []
          },
          "execution_count": 13
        }
      ]
    },
    {
      "cell_type": "code",
      "metadata": {
        "colab": {
          "base_uri": "https://localhost:8080/"
        },
        "id": "ZvxwS2mkjomJ",
        "outputId": "48c65862-78ca-48d7-b0da-38bf7c4f7f2d"
      },
      "source": [
        "##We will divide the area into grids. But first we need to know the dimensions to work with\n",
        "wp_df = pd.DataFrame(waypoint_sequence, columns = ['avg_x','avg_y','max_x','min_x','max_y','min_y',])\n",
        "wp_df=wp_df.head(len(sequences))  #number of sequences for floor B1\n",
        "wp_df = wp_df.round(decimals=5)\n",
        "floor_max_x=wp_df['max_x'].max()\n",
        "floor_min_x=wp_df['min_x'].min()\n",
        "floor_max_y=wp_df['max_y'].max()\n",
        "floor_min_y=wp_df['min_y'].min()\n",
        "print(floor_max_x,floor_min_x,floor_max_y,floor_min_y)"
      ],
      "execution_count": null,
      "outputs": [
        {
          "output_type": "stream",
          "text": [
            "233.94418 36.63454 192.99721 75.00506\n"
          ],
          "name": "stdout"
        }
      ]
    },
    {
      "cell_type": "code",
      "metadata": {
        "id": "1QefxsOkmJDo"
      },
      "source": [
        "#Creating grid for labelling\n",
        "#We will create a 10X10 grid for 100 labels\n",
        "array_x=np.linspace(floor_min_x,floor_max_x,11)\n",
        "array_y=np.linspace(floor_min_y,floor_max_y,11)\n",
        "label=list()\n",
        "k=0\n",
        "for j in range(1,11):\n",
        "  for i in range(1,11):\n",
        "    label.append([array_x[i],array_y[j],k])\n",
        "    k+=1  "
      ],
      "execution_count": null,
      "outputs": []
    },
    {
      "cell_type": "code",
      "metadata": {
        "colab": {
          "base_uri": "https://localhost:8080/"
        },
        "id": "01lxZoqopST6",
        "outputId": "1e6aa7bd-e9bf-4c64-e6c8-26515c539998"
      },
      "source": [
        "#Now we need to give labels to our waypoints sequence on the basis of average waypoints\n",
        "print(wp_df.head())\n",
        "for i in range(len(wp_df)):\n",
        "  for j in range(len(label)):\n",
        "    if(wp_df.at[i,'avg_x']<=label[j][0]):\n",
        "       for p in range(len(label)):\n",
        "         if(wp_df.at[i,'avg_y']<=label[p][1]):\n",
        "           wp_df.at[i,'label']=label[j+p][2]\n",
        "           break\n",
        "       break    \n",
        "print(wp_df.head(20))           "
      ],
      "execution_count": null,
      "outputs": [
        {
          "output_type": "stream",
          "text": [
            "       avg_x      avg_y      max_x      min_x      max_y      min_y\n",
            "0  198.39960  163.51350  198.43087  198.36833  163.52063  163.50637\n",
            "1  198.47778  163.49568  198.50905  198.44651  163.50281  163.48855\n",
            "2  198.55596  163.47785  198.58723  198.52469  163.48498  163.47072\n",
            "3  198.63414  163.46003  198.66541  198.60287  163.46716  163.45290\n",
            "4  198.71232  163.44220  198.74359  198.68105  163.44933  163.43507\n",
            "        avg_x      avg_y      max_x      min_x      max_y      min_y  label\n",
            "0   198.39960  163.51350  198.43087  198.36833  163.52063  163.50637   78.0\n",
            "1   198.47778  163.49568  198.50905  198.44651  163.50281  163.48855   78.0\n",
            "2   198.55596  163.47785  198.58723  198.52469  163.48498  163.47072   78.0\n",
            "3   198.63414  163.46003  198.66541  198.60287  163.46716  163.45290   78.0\n",
            "4   198.71232  163.44220  198.74359  198.68105  163.44933  163.43507   78.0\n",
            "5   198.79050  163.42438  198.82177  198.75923  163.43151  163.41725   78.0\n",
            "6   198.86868  163.40656  198.89995  198.83741  163.41369  163.39943   78.0\n",
            "7   198.94686  163.38873  198.97813  198.91559  163.39586  163.38160   78.0\n",
            "8   199.02504  163.37091  199.05631  198.99377  163.37804  163.36378   78.0\n",
            "9   199.10322  163.35308  199.13449  199.07195  163.36021  163.34595   78.0\n",
            "10  199.18140  163.33526  199.21267  199.15013  163.34239  163.32813   78.0\n",
            "11  199.25958  163.31744  199.29085  199.22831  163.32456  163.31031   78.0\n",
            "12  199.33776  163.29961  199.36903  199.30649  163.30674  163.29248   78.0\n",
            "13  199.41594  163.28179  199.44721  199.38467  163.28892  163.27466   78.0\n",
            "14  199.49412  163.26396  199.52539  199.46285  163.27109  163.25683   78.0\n",
            "15  199.57230  163.24614  199.60357  199.54103  163.25327  163.23901   78.0\n",
            "16  199.65048  163.22831  199.68175  199.61921  163.23544  163.22118   78.0\n",
            "17  199.72866  163.21049  199.75993  199.69739  163.21762  163.20336   78.0\n",
            "18  199.80684  163.19267  199.83811  199.77557  163.19980  163.18554   78.0\n",
            "19  199.88502  163.17484  199.91629  199.85375  163.18197  163.16771   78.0\n"
          ],
          "name": "stdout"
        }
      ]
    },
    {
      "cell_type": "code",
      "metadata": {
        "colab": {
          "base_uri": "https://localhost:8080/"
        },
        "id": "wB-6V2700gTq",
        "outputId": "42133f89-2de6-456c-8fde-18df627f86d5"
      },
      "source": [
        "#Now we need to create new train, validation and test split for only building 1\n",
        "train_length=int(len(sequences)*0.7)\n",
        "val_length=int(len(sequences)*0.15)\n",
        "test_length=len(sequences)-train_length-val_length\n",
        "\n",
        "train_flags=np.full((train_length), 0)\n",
        "validation_flags=np.full((val_length), 1)\n",
        "test_flags=np.full((test_length), 2)\n",
        "\n",
        "flags=[]\n",
        "flags.extend(train_flags)\n",
        "flags.extend(validation_flags)\n",
        "flags.extend(test_flags)\n",
        "np.random.shuffle(flags)\n",
        "len(flags)"
      ],
      "execution_count": null,
      "outputs": [
        {
          "output_type": "execute_result",
          "data": {
            "text/plain": [
              "38874"
            ]
          },
          "metadata": {
            "tags": []
          },
          "execution_count": 17
        }
      ]
    },
    {
      "cell_type": "code",
      "metadata": {
        "colab": {
          "base_uri": "https://localhost:8080/"
        },
        "id": "QfUNUjSi3fu_",
        "outputId": "e32f6fd0-d1e9-456d-fa0e-d83756966c2c"
      },
      "source": [
        "#Creating target sequence\n",
        "target_sequence2=wp_df['label'].values\n",
        "#Slice the sequence to get only floor B1 data\n",
        "sequences2=sequences[0:len(sequences)]\n",
        "target_sequence2=np.array(target_sequence2)\n",
        "target_sequence2"
      ],
      "execution_count": null,
      "outputs": [
        {
          "output_type": "execute_result",
          "data": {
            "text/plain": [
              "array([78., 78., 78., ..., 73., 73., 73.])"
            ]
          },
          "metadata": {
            "tags": []
          },
          "execution_count": 18
        }
      ]
    },
    {
      "cell_type": "code",
      "metadata": {
        "id": "PXaAAD281td9"
      },
      "source": [
        "train = [sequences2[i] for i in range(len(flags)) if (flags[i]==0)]\n",
        "validation = [sequences2[i] for i in range(len(flags)) if flags[i]==1]\n",
        "test = [sequences2[i] for i in range(len(flags)) if flags[i]==2]\n",
        "test_seq_wp=[waypoint_full_sequence[i] for i in range(len(flags)) if flags[i]==2]\n",
        "\n",
        "train_target = [target_sequence2[i] for i in range(len(flags)) if (flags[i]==0)]\n",
        "validation_target = [target_sequence2[i] for i in range(len(flags)) if flags[i]==1]\n",
        "test_target = [target_sequence2[i] for i in range(len(flags)) if flags[i]==2]\n",
        "train = np.array(train)\n",
        "validation = np.array(validation)\n",
        "test = np.array(test)\n",
        "\n",
        "train_target = np.array(train_target)\n",
        "train_target=to_categorical(train_target,num_classes = 100)\n",
        "\n",
        "validation_target = np.array(validation_target)\n",
        "validation_target=to_categorical(validation_target,num_classes = 100)\n",
        "test_target = np.array(test_target)\n",
        "test_target=to_categorical(test_target,num_classes = 100)"
      ],
      "execution_count": null,
      "outputs": []
    },
    {
      "cell_type": "code",
      "metadata": {
        "colab": {
          "base_uri": "https://localhost:8080/"
        },
        "id": "yDFDCkPn-GDs",
        "outputId": "1de1e5c3-bf65-4c49-d324-54ce2486c330"
      },
      "source": [
        "print(sequences2[0].shape)\n",
        "train_target[0]\n",
        "len(test_seq_wp)"
      ],
      "execution_count": null,
      "outputs": [
        {
          "output_type": "stream",
          "text": [
            "(5, 21)\n"
          ],
          "name": "stdout"
        },
        {
          "output_type": "execute_result",
          "data": {
            "text/plain": [
              "5832"
            ]
          },
          "metadata": {
            "tags": []
          },
          "execution_count": 20
        }
      ]
    },
    {
      "cell_type": "code",
      "metadata": {
        "id": "Clp7vzIBcMfP"
      },
      "source": [
        "train=tf.convert_to_tensor(train, np.float32)\n",
        "train_target=tf.convert_to_tensor(train_target, np.float32)\n",
        "validation=tf.convert_to_tensor(validation, np.float32)\n",
        "validation_target=tf.convert_to_tensor(validation_target, np.float32)\n",
        "test=tf.convert_to_tensor(test, np.float32)\n",
        "test_target=tf.convert_to_tensor(test_target, np.float32)"
      ],
      "execution_count": null,
      "outputs": []
    },
    {
      "cell_type": "code",
      "metadata": {
        "colab": {
          "base_uri": "https://localhost:8080/"
        },
        "id": "Vlq3I9B0C9HQ",
        "outputId": "43f7e940-4fad-4ff6-b5a9-0f56e5232dc5"
      },
      "source": [
        "#Trial with 100 grid cells \n",
        "from keras.layers import Dropout\n",
        "seq_len = 5\n",
        "seq_bredth=21\n",
        "model = Sequential()\n",
        "model.add(Bidirectional(LSTM(256,return_sequences=True),input_shape=(seq_len, seq_bredth),merge_mode='concat'))\n",
        "model.add(Dropout(0.2))\n",
        "model.add(LSTM(256, input_shape=(3, 512)))\n",
        "model.add(Dropout(0.2))\n",
        "model.add(Dense(128, activation='relu'))\n",
        "model.add(Dropout(0.2))\n",
        "model.add(Dense(100, activation='softmax'))\n",
        "model.summary()"
      ],
      "execution_count": null,
      "outputs": [
        {
          "output_type": "stream",
          "text": [
            "Model: \"sequential\"\n",
            "_________________________________________________________________\n",
            "Layer (type)                 Output Shape              Param #   \n",
            "=================================================================\n",
            "bidirectional (Bidirectional (None, 5, 512)            569344    \n",
            "_________________________________________________________________\n",
            "dropout (Dropout)            (None, 5, 512)            0         \n",
            "_________________________________________________________________\n",
            "lstm_1 (LSTM)                (None, 256)               787456    \n",
            "_________________________________________________________________\n",
            "dropout_1 (Dropout)          (None, 256)               0         \n",
            "_________________________________________________________________\n",
            "dense (Dense)                (None, 128)               32896     \n",
            "_________________________________________________________________\n",
            "dropout_2 (Dropout)          (None, 128)               0         \n",
            "_________________________________________________________________\n",
            "dense_1 (Dense)              (None, 100)               12900     \n",
            "=================================================================\n",
            "Total params: 1,402,596\n",
            "Trainable params: 1,402,596\n",
            "Non-trainable params: 0\n",
            "_________________________________________________________________\n"
          ],
          "name": "stdout"
        }
      ]
    },
    {
      "cell_type": "code",
      "metadata": {
        "colab": {
          "base_uri": "https://localhost:8080/"
        },
        "id": "8QzFV7hnDMyS",
        "outputId": "49cf61f4-4cb4-4230-c67f-7b9342501c5f"
      },
      "source": [
        "#This is 100 cells simple LSTM\n",
        "adam = Adam(lr=0.001)\n",
        "checkpoint_filepath = '/content/drive/MyDrive/building1/noWiFiBT27March5slots_200epochs_biDirLSTMDoubleDenseDropout/best_model.pkl'\n",
        "chk = ModelCheckpoint(filepath=checkpoint_filepath, monitor='val_accuracy', save_best_only=True, mode='max', verbose=1)\n",
        "model.compile(loss='categorical_crossentropy', optimizer=adam, metrics=['accuracy'])\n",
        "history=model.fit(train, train_target, epochs=200, batch_size=128, callbacks=[chk], validation_data=(validation,validation_target))"
      ],
      "execution_count": null,
      "outputs": [
        {
          "output_type": "stream",
          "text": [
            "Epoch 1/200\n",
            "213/213 [==============================] - 29s 117ms/step - loss: 3.5363 - accuracy: 0.1047 - val_loss: 2.2777 - val_accuracy: 0.2960\n",
            "\n",
            "Epoch 00001: val_accuracy improved from -inf to 0.29600, saving model to /content/drive/MyDrive/building1/noWiFiBT27March5slots_200epochs_biDirLSTMDoubleDenseDropout/best_model.pkl\n"
          ],
          "name": "stdout"
        },
        {
          "output_type": "stream",
          "text": [
            "WARNING:absl:Found untraced functions such as lstm_cell_3_layer_call_and_return_conditional_losses, lstm_cell_3_layer_call_fn, lstm_cell_1_layer_call_and_return_conditional_losses, lstm_cell_1_layer_call_fn, lstm_cell_2_layer_call_and_return_conditional_losses while saving (showing 5 of 15). These functions will not be directly callable after loading.\n",
            "WARNING:absl:Found untraced functions such as lstm_cell_3_layer_call_and_return_conditional_losses, lstm_cell_3_layer_call_fn, lstm_cell_1_layer_call_and_return_conditional_losses, lstm_cell_1_layer_call_fn, lstm_cell_2_layer_call_and_return_conditional_losses while saving (showing 5 of 15). These functions will not be directly callable after loading.\n"
          ],
          "name": "stderr"
        },
        {
          "output_type": "stream",
          "text": [
            "INFO:tensorflow:Assets written to: /content/drive/MyDrive/building1/noWiFiBT27March5slots_200epochs_biDirLSTMDoubleDenseDropout/best_model.pkl/assets\n"
          ],
          "name": "stdout"
        },
        {
          "output_type": "stream",
          "text": [
            "INFO:tensorflow:Assets written to: /content/drive/MyDrive/building1/noWiFiBT27March5slots_200epochs_biDirLSTMDoubleDenseDropout/best_model.pkl/assets\n"
          ],
          "name": "stderr"
        },
        {
          "output_type": "stream",
          "text": [
            "Epoch 2/200\n",
            "213/213 [==============================] - 23s 109ms/step - loss: 2.2534 - accuracy: 0.2728 - val_loss: 1.8162 - val_accuracy: 0.3758\n",
            "\n",
            "Epoch 00002: val_accuracy improved from 0.29600 to 0.37575, saving model to /content/drive/MyDrive/building1/noWiFiBT27March5slots_200epochs_biDirLSTMDoubleDenseDropout/best_model.pkl\n"
          ],
          "name": "stdout"
        },
        {
          "output_type": "stream",
          "text": [
            "WARNING:absl:Found untraced functions such as lstm_cell_3_layer_call_and_return_conditional_losses, lstm_cell_3_layer_call_fn, lstm_cell_1_layer_call_and_return_conditional_losses, lstm_cell_1_layer_call_fn, lstm_cell_2_layer_call_and_return_conditional_losses while saving (showing 5 of 15). These functions will not be directly callable after loading.\n",
            "WARNING:absl:Found untraced functions such as lstm_cell_3_layer_call_and_return_conditional_losses, lstm_cell_3_layer_call_fn, lstm_cell_1_layer_call_and_return_conditional_losses, lstm_cell_1_layer_call_fn, lstm_cell_2_layer_call_and_return_conditional_losses while saving (showing 5 of 15). These functions will not be directly callable after loading.\n"
          ],
          "name": "stderr"
        },
        {
          "output_type": "stream",
          "text": [
            "INFO:tensorflow:Assets written to: /content/drive/MyDrive/building1/noWiFiBT27March5slots_200epochs_biDirLSTMDoubleDenseDropout/best_model.pkl/assets\n"
          ],
          "name": "stdout"
        },
        {
          "output_type": "stream",
          "text": [
            "INFO:tensorflow:Assets written to: /content/drive/MyDrive/building1/noWiFiBT27March5slots_200epochs_biDirLSTMDoubleDenseDropout/best_model.pkl/assets\n"
          ],
          "name": "stderr"
        },
        {
          "output_type": "stream",
          "text": [
            "Epoch 3/200\n",
            "213/213 [==============================] - 24s 112ms/step - loss: 1.9286 - accuracy: 0.3440 - val_loss: 1.5901 - val_accuracy: 0.4399\n",
            "\n",
            "Epoch 00003: val_accuracy improved from 0.37575 to 0.43989, saving model to /content/drive/MyDrive/building1/noWiFiBT27March5slots_200epochs_biDirLSTMDoubleDenseDropout/best_model.pkl\n"
          ],
          "name": "stdout"
        },
        {
          "output_type": "stream",
          "text": [
            "WARNING:absl:Found untraced functions such as lstm_cell_3_layer_call_and_return_conditional_losses, lstm_cell_3_layer_call_fn, lstm_cell_1_layer_call_and_return_conditional_losses, lstm_cell_1_layer_call_fn, lstm_cell_2_layer_call_and_return_conditional_losses while saving (showing 5 of 15). These functions will not be directly callable after loading.\n",
            "WARNING:absl:Found untraced functions such as lstm_cell_3_layer_call_and_return_conditional_losses, lstm_cell_3_layer_call_fn, lstm_cell_1_layer_call_and_return_conditional_losses, lstm_cell_1_layer_call_fn, lstm_cell_2_layer_call_and_return_conditional_losses while saving (showing 5 of 15). These functions will not be directly callable after loading.\n"
          ],
          "name": "stderr"
        },
        {
          "output_type": "stream",
          "text": [
            "INFO:tensorflow:Assets written to: /content/drive/MyDrive/building1/noWiFiBT27March5slots_200epochs_biDirLSTMDoubleDenseDropout/best_model.pkl/assets\n"
          ],
          "name": "stdout"
        },
        {
          "output_type": "stream",
          "text": [
            "INFO:tensorflow:Assets written to: /content/drive/MyDrive/building1/noWiFiBT27March5slots_200epochs_biDirLSTMDoubleDenseDropout/best_model.pkl/assets\n"
          ],
          "name": "stderr"
        },
        {
          "output_type": "stream",
          "text": [
            "Epoch 4/200\n",
            "213/213 [==============================] - 24s 111ms/step - loss: 1.6833 - accuracy: 0.4089 - val_loss: 1.7819 - val_accuracy: 0.3857\n",
            "\n",
            "Epoch 00004: val_accuracy did not improve from 0.43989\n",
            "Epoch 5/200\n",
            "213/213 [==============================] - 24s 112ms/step - loss: 1.6024 - accuracy: 0.4370 - val_loss: 1.3975 - val_accuracy: 0.4896\n",
            "\n",
            "Epoch 00005: val_accuracy improved from 0.43989 to 0.48962, saving model to /content/drive/MyDrive/building1/noWiFiBT27March5slots_200epochs_biDirLSTMDoubleDenseDropout/best_model.pkl\n"
          ],
          "name": "stdout"
        },
        {
          "output_type": "stream",
          "text": [
            "WARNING:absl:Found untraced functions such as lstm_cell_3_layer_call_and_return_conditional_losses, lstm_cell_3_layer_call_fn, lstm_cell_1_layer_call_and_return_conditional_losses, lstm_cell_1_layer_call_fn, lstm_cell_2_layer_call_and_return_conditional_losses while saving (showing 5 of 15). These functions will not be directly callable after loading.\n",
            "WARNING:absl:Found untraced functions such as lstm_cell_3_layer_call_and_return_conditional_losses, lstm_cell_3_layer_call_fn, lstm_cell_1_layer_call_and_return_conditional_losses, lstm_cell_1_layer_call_fn, lstm_cell_2_layer_call_and_return_conditional_losses while saving (showing 5 of 15). These functions will not be directly callable after loading.\n"
          ],
          "name": "stderr"
        },
        {
          "output_type": "stream",
          "text": [
            "INFO:tensorflow:Assets written to: /content/drive/MyDrive/building1/noWiFiBT27March5slots_200epochs_biDirLSTMDoubleDenseDropout/best_model.pkl/assets\n"
          ],
          "name": "stdout"
        },
        {
          "output_type": "stream",
          "text": [
            "INFO:tensorflow:Assets written to: /content/drive/MyDrive/building1/noWiFiBT27March5slots_200epochs_biDirLSTMDoubleDenseDropout/best_model.pkl/assets\n"
          ],
          "name": "stderr"
        },
        {
          "output_type": "stream",
          "text": [
            "Epoch 6/200\n",
            "213/213 [==============================] - 23s 110ms/step - loss: 1.4837 - accuracy: 0.4636 - val_loss: 1.3698 - val_accuracy: 0.4968\n",
            "\n",
            "Epoch 00006: val_accuracy improved from 0.48962 to 0.49683, saving model to /content/drive/MyDrive/building1/noWiFiBT27March5slots_200epochs_biDirLSTMDoubleDenseDropout/best_model.pkl\n"
          ],
          "name": "stdout"
        },
        {
          "output_type": "stream",
          "text": [
            "WARNING:absl:Found untraced functions such as lstm_cell_3_layer_call_and_return_conditional_losses, lstm_cell_3_layer_call_fn, lstm_cell_1_layer_call_and_return_conditional_losses, lstm_cell_1_layer_call_fn, lstm_cell_2_layer_call_and_return_conditional_losses while saving (showing 5 of 15). These functions will not be directly callable after loading.\n",
            "WARNING:absl:Found untraced functions such as lstm_cell_3_layer_call_and_return_conditional_losses, lstm_cell_3_layer_call_fn, lstm_cell_1_layer_call_and_return_conditional_losses, lstm_cell_1_layer_call_fn, lstm_cell_2_layer_call_and_return_conditional_losses while saving (showing 5 of 15). These functions will not be directly callable after loading.\n"
          ],
          "name": "stderr"
        },
        {
          "output_type": "stream",
          "text": [
            "INFO:tensorflow:Assets written to: /content/drive/MyDrive/building1/noWiFiBT27March5slots_200epochs_biDirLSTMDoubleDenseDropout/best_model.pkl/assets\n"
          ],
          "name": "stdout"
        },
        {
          "output_type": "stream",
          "text": [
            "INFO:tensorflow:Assets written to: /content/drive/MyDrive/building1/noWiFiBT27March5slots_200epochs_biDirLSTMDoubleDenseDropout/best_model.pkl/assets\n"
          ],
          "name": "stderr"
        },
        {
          "output_type": "stream",
          "text": [
            "Epoch 7/200\n",
            "213/213 [==============================] - 24s 112ms/step - loss: 1.4878 - accuracy: 0.4741 - val_loss: 1.2577 - val_accuracy: 0.5340\n",
            "\n",
            "Epoch 00007: val_accuracy improved from 0.49683 to 0.53404, saving model to /content/drive/MyDrive/building1/noWiFiBT27March5slots_200epochs_biDirLSTMDoubleDenseDropout/best_model.pkl\n"
          ],
          "name": "stdout"
        },
        {
          "output_type": "stream",
          "text": [
            "WARNING:absl:Found untraced functions such as lstm_cell_3_layer_call_and_return_conditional_losses, lstm_cell_3_layer_call_fn, lstm_cell_1_layer_call_and_return_conditional_losses, lstm_cell_1_layer_call_fn, lstm_cell_2_layer_call_and_return_conditional_losses while saving (showing 5 of 15). These functions will not be directly callable after loading.\n",
            "WARNING:absl:Found untraced functions such as lstm_cell_3_layer_call_and_return_conditional_losses, lstm_cell_3_layer_call_fn, lstm_cell_1_layer_call_and_return_conditional_losses, lstm_cell_1_layer_call_fn, lstm_cell_2_layer_call_and_return_conditional_losses while saving (showing 5 of 15). These functions will not be directly callable after loading.\n"
          ],
          "name": "stderr"
        },
        {
          "output_type": "stream",
          "text": [
            "INFO:tensorflow:Assets written to: /content/drive/MyDrive/building1/noWiFiBT27March5slots_200epochs_biDirLSTMDoubleDenseDropout/best_model.pkl/assets\n"
          ],
          "name": "stdout"
        },
        {
          "output_type": "stream",
          "text": [
            "INFO:tensorflow:Assets written to: /content/drive/MyDrive/building1/noWiFiBT27March5slots_200epochs_biDirLSTMDoubleDenseDropout/best_model.pkl/assets\n"
          ],
          "name": "stderr"
        },
        {
          "output_type": "stream",
          "text": [
            "Epoch 8/200\n",
            "213/213 [==============================] - 24s 112ms/step - loss: 1.3461 - accuracy: 0.5116 - val_loss: 1.3496 - val_accuracy: 0.4994\n",
            "\n",
            "Epoch 00008: val_accuracy did not improve from 0.53404\n",
            "Epoch 9/200\n",
            "213/213 [==============================] - 24s 114ms/step - loss: 1.4060 - accuracy: 0.4947 - val_loss: 1.2504 - val_accuracy: 0.5440\n",
            "\n",
            "Epoch 00009: val_accuracy improved from 0.53404 to 0.54399, saving model to /content/drive/MyDrive/building1/noWiFiBT27March5slots_200epochs_biDirLSTMDoubleDenseDropout/best_model.pkl\n"
          ],
          "name": "stdout"
        },
        {
          "output_type": "stream",
          "text": [
            "WARNING:absl:Found untraced functions such as lstm_cell_3_layer_call_and_return_conditional_losses, lstm_cell_3_layer_call_fn, lstm_cell_1_layer_call_and_return_conditional_losses, lstm_cell_1_layer_call_fn, lstm_cell_2_layer_call_and_return_conditional_losses while saving (showing 5 of 15). These functions will not be directly callable after loading.\n",
            "WARNING:absl:Found untraced functions such as lstm_cell_3_layer_call_and_return_conditional_losses, lstm_cell_3_layer_call_fn, lstm_cell_1_layer_call_and_return_conditional_losses, lstm_cell_1_layer_call_fn, lstm_cell_2_layer_call_and_return_conditional_losses while saving (showing 5 of 15). These functions will not be directly callable after loading.\n"
          ],
          "name": "stderr"
        },
        {
          "output_type": "stream",
          "text": [
            "INFO:tensorflow:Assets written to: /content/drive/MyDrive/building1/noWiFiBT27March5slots_200epochs_biDirLSTMDoubleDenseDropout/best_model.pkl/assets\n"
          ],
          "name": "stdout"
        },
        {
          "output_type": "stream",
          "text": [
            "INFO:tensorflow:Assets written to: /content/drive/MyDrive/building1/noWiFiBT27March5slots_200epochs_biDirLSTMDoubleDenseDropout/best_model.pkl/assets\n"
          ],
          "name": "stderr"
        },
        {
          "output_type": "stream",
          "text": [
            "Epoch 10/200\n",
            "213/213 [==============================] - 24s 112ms/step - loss: 1.2726 - accuracy: 0.5376 - val_loss: 1.1690 - val_accuracy: 0.5707\n",
            "\n",
            "Epoch 00010: val_accuracy improved from 0.54399 to 0.57074, saving model to /content/drive/MyDrive/building1/noWiFiBT27March5slots_200epochs_biDirLSTMDoubleDenseDropout/best_model.pkl\n"
          ],
          "name": "stdout"
        },
        {
          "output_type": "stream",
          "text": [
            "WARNING:absl:Found untraced functions such as lstm_cell_3_layer_call_and_return_conditional_losses, lstm_cell_3_layer_call_fn, lstm_cell_1_layer_call_and_return_conditional_losses, lstm_cell_1_layer_call_fn, lstm_cell_2_layer_call_and_return_conditional_losses while saving (showing 5 of 15). These functions will not be directly callable after loading.\n",
            "WARNING:absl:Found untraced functions such as lstm_cell_3_layer_call_and_return_conditional_losses, lstm_cell_3_layer_call_fn, lstm_cell_1_layer_call_and_return_conditional_losses, lstm_cell_1_layer_call_fn, lstm_cell_2_layer_call_and_return_conditional_losses while saving (showing 5 of 15). These functions will not be directly callable after loading.\n"
          ],
          "name": "stderr"
        },
        {
          "output_type": "stream",
          "text": [
            "INFO:tensorflow:Assets written to: /content/drive/MyDrive/building1/noWiFiBT27March5slots_200epochs_biDirLSTMDoubleDenseDropout/best_model.pkl/assets\n"
          ],
          "name": "stdout"
        },
        {
          "output_type": "stream",
          "text": [
            "INFO:tensorflow:Assets written to: /content/drive/MyDrive/building1/noWiFiBT27March5slots_200epochs_biDirLSTMDoubleDenseDropout/best_model.pkl/assets\n"
          ],
          "name": "stderr"
        },
        {
          "output_type": "stream",
          "text": [
            "Epoch 11/200\n",
            "213/213 [==============================] - 24s 111ms/step - loss: 1.2077 - accuracy: 0.5575 - val_loss: 1.1823 - val_accuracy: 0.5558\n",
            "\n",
            "Epoch 00011: val_accuracy did not improve from 0.57074\n",
            "Epoch 12/200\n",
            "213/213 [==============================] - 23s 110ms/step - loss: 1.1726 - accuracy: 0.5723 - val_loss: 1.2703 - val_accuracy: 0.5421\n",
            "\n",
            "Epoch 00012: val_accuracy did not improve from 0.57074\n",
            "Epoch 13/200\n",
            "213/213 [==============================] - 23s 109ms/step - loss: 1.1588 - accuracy: 0.5735 - val_loss: 1.0218 - val_accuracy: 0.6191\n",
            "\n",
            "Epoch 00013: val_accuracy improved from 0.57074 to 0.61910, saving model to /content/drive/MyDrive/building1/noWiFiBT27March5slots_200epochs_biDirLSTMDoubleDenseDropout/best_model.pkl\n"
          ],
          "name": "stdout"
        },
        {
          "output_type": "stream",
          "text": [
            "WARNING:absl:Found untraced functions such as lstm_cell_3_layer_call_and_return_conditional_losses, lstm_cell_3_layer_call_fn, lstm_cell_1_layer_call_and_return_conditional_losses, lstm_cell_1_layer_call_fn, lstm_cell_2_layer_call_and_return_conditional_losses while saving (showing 5 of 15). These functions will not be directly callable after loading.\n",
            "WARNING:absl:Found untraced functions such as lstm_cell_3_layer_call_and_return_conditional_losses, lstm_cell_3_layer_call_fn, lstm_cell_1_layer_call_and_return_conditional_losses, lstm_cell_1_layer_call_fn, lstm_cell_2_layer_call_and_return_conditional_losses while saving (showing 5 of 15). These functions will not be directly callable after loading.\n"
          ],
          "name": "stderr"
        },
        {
          "output_type": "stream",
          "text": [
            "INFO:tensorflow:Assets written to: /content/drive/MyDrive/building1/noWiFiBT27March5slots_200epochs_biDirLSTMDoubleDenseDropout/best_model.pkl/assets\n"
          ],
          "name": "stdout"
        },
        {
          "output_type": "stream",
          "text": [
            "INFO:tensorflow:Assets written to: /content/drive/MyDrive/building1/noWiFiBT27March5slots_200epochs_biDirLSTMDoubleDenseDropout/best_model.pkl/assets\n"
          ],
          "name": "stderr"
        },
        {
          "output_type": "stream",
          "text": [
            "Epoch 14/200\n",
            "213/213 [==============================] - 24s 113ms/step - loss: 1.3021 - accuracy: 0.5510 - val_loss: 1.0320 - val_accuracy: 0.6275\n",
            "\n",
            "Epoch 00014: val_accuracy improved from 0.61910 to 0.62751, saving model to /content/drive/MyDrive/building1/noWiFiBT27March5slots_200epochs_biDirLSTMDoubleDenseDropout/best_model.pkl\n"
          ],
          "name": "stdout"
        },
        {
          "output_type": "stream",
          "text": [
            "WARNING:absl:Found untraced functions such as lstm_cell_3_layer_call_and_return_conditional_losses, lstm_cell_3_layer_call_fn, lstm_cell_1_layer_call_and_return_conditional_losses, lstm_cell_1_layer_call_fn, lstm_cell_2_layer_call_and_return_conditional_losses while saving (showing 5 of 15). These functions will not be directly callable after loading.\n",
            "WARNING:absl:Found untraced functions such as lstm_cell_3_layer_call_and_return_conditional_losses, lstm_cell_3_layer_call_fn, lstm_cell_1_layer_call_and_return_conditional_losses, lstm_cell_1_layer_call_fn, lstm_cell_2_layer_call_and_return_conditional_losses while saving (showing 5 of 15). These functions will not be directly callable after loading.\n"
          ],
          "name": "stderr"
        },
        {
          "output_type": "stream",
          "text": [
            "INFO:tensorflow:Assets written to: /content/drive/MyDrive/building1/noWiFiBT27March5slots_200epochs_biDirLSTMDoubleDenseDropout/best_model.pkl/assets\n"
          ],
          "name": "stdout"
        },
        {
          "output_type": "stream",
          "text": [
            "INFO:tensorflow:Assets written to: /content/drive/MyDrive/building1/noWiFiBT27March5slots_200epochs_biDirLSTMDoubleDenseDropout/best_model.pkl/assets\n"
          ],
          "name": "stderr"
        },
        {
          "output_type": "stream",
          "text": [
            "Epoch 15/200\n",
            "213/213 [==============================] - 24s 113ms/step - loss: 1.1009 - accuracy: 0.5947 - val_loss: 1.0137 - val_accuracy: 0.6218\n",
            "\n",
            "Epoch 00015: val_accuracy did not improve from 0.62751\n",
            "Epoch 16/200\n",
            "213/213 [==============================] - 24s 112ms/step - loss: 1.0695 - accuracy: 0.6075 - val_loss: 1.0037 - val_accuracy: 0.6263\n",
            "\n",
            "Epoch 00016: val_accuracy did not improve from 0.62751\n",
            "Epoch 17/200\n",
            "213/213 [==============================] - 24s 111ms/step - loss: 1.0629 - accuracy: 0.6138 - val_loss: 0.9425 - val_accuracy: 0.6443\n",
            "\n",
            "Epoch 00017: val_accuracy improved from 0.62751 to 0.64431, saving model to /content/drive/MyDrive/building1/noWiFiBT27March5slots_200epochs_biDirLSTMDoubleDenseDropout/best_model.pkl\n"
          ],
          "name": "stdout"
        },
        {
          "output_type": "stream",
          "text": [
            "WARNING:absl:Found untraced functions such as lstm_cell_3_layer_call_and_return_conditional_losses, lstm_cell_3_layer_call_fn, lstm_cell_1_layer_call_and_return_conditional_losses, lstm_cell_1_layer_call_fn, lstm_cell_2_layer_call_and_return_conditional_losses while saving (showing 5 of 15). These functions will not be directly callable after loading.\n",
            "WARNING:absl:Found untraced functions such as lstm_cell_3_layer_call_and_return_conditional_losses, lstm_cell_3_layer_call_fn, lstm_cell_1_layer_call_and_return_conditional_losses, lstm_cell_1_layer_call_fn, lstm_cell_2_layer_call_and_return_conditional_losses while saving (showing 5 of 15). These functions will not be directly callable after loading.\n"
          ],
          "name": "stderr"
        },
        {
          "output_type": "stream",
          "text": [
            "INFO:tensorflow:Assets written to: /content/drive/MyDrive/building1/noWiFiBT27March5slots_200epochs_biDirLSTMDoubleDenseDropout/best_model.pkl/assets\n"
          ],
          "name": "stdout"
        },
        {
          "output_type": "stream",
          "text": [
            "INFO:tensorflow:Assets written to: /content/drive/MyDrive/building1/noWiFiBT27March5slots_200epochs_biDirLSTMDoubleDenseDropout/best_model.pkl/assets\n"
          ],
          "name": "stderr"
        },
        {
          "output_type": "stream",
          "text": [
            "Epoch 18/200\n",
            "213/213 [==============================] - 24s 113ms/step - loss: 1.0320 - accuracy: 0.6172 - val_loss: 0.9369 - val_accuracy: 0.6448\n",
            "\n",
            "Epoch 00018: val_accuracy improved from 0.64431 to 0.64483, saving model to /content/drive/MyDrive/building1/noWiFiBT27March5slots_200epochs_biDirLSTMDoubleDenseDropout/best_model.pkl\n"
          ],
          "name": "stdout"
        },
        {
          "output_type": "stream",
          "text": [
            "WARNING:absl:Found untraced functions such as lstm_cell_3_layer_call_and_return_conditional_losses, lstm_cell_3_layer_call_fn, lstm_cell_1_layer_call_and_return_conditional_losses, lstm_cell_1_layer_call_fn, lstm_cell_2_layer_call_and_return_conditional_losses while saving (showing 5 of 15). These functions will not be directly callable after loading.\n",
            "WARNING:absl:Found untraced functions such as lstm_cell_3_layer_call_and_return_conditional_losses, lstm_cell_3_layer_call_fn, lstm_cell_1_layer_call_and_return_conditional_losses, lstm_cell_1_layer_call_fn, lstm_cell_2_layer_call_and_return_conditional_losses while saving (showing 5 of 15). These functions will not be directly callable after loading.\n"
          ],
          "name": "stderr"
        },
        {
          "output_type": "stream",
          "text": [
            "INFO:tensorflow:Assets written to: /content/drive/MyDrive/building1/noWiFiBT27March5slots_200epochs_biDirLSTMDoubleDenseDropout/best_model.pkl/assets\n"
          ],
          "name": "stdout"
        },
        {
          "output_type": "stream",
          "text": [
            "INFO:tensorflow:Assets written to: /content/drive/MyDrive/building1/noWiFiBT27March5slots_200epochs_biDirLSTMDoubleDenseDropout/best_model.pkl/assets\n"
          ],
          "name": "stderr"
        },
        {
          "output_type": "stream",
          "text": [
            "Epoch 19/200\n",
            "213/213 [==============================] - 24s 112ms/step - loss: 0.9698 - accuracy: 0.6401 - val_loss: 1.0826 - val_accuracy: 0.6056\n",
            "\n",
            "Epoch 00019: val_accuracy did not improve from 0.64483\n",
            "Epoch 20/200\n",
            "213/213 [==============================] - 24s 112ms/step - loss: 0.9692 - accuracy: 0.6400 - val_loss: 1.0890 - val_accuracy: 0.6141\n",
            "\n",
            "Epoch 00020: val_accuracy did not improve from 0.64483\n",
            "Epoch 21/200\n",
            "213/213 [==============================] - 24s 112ms/step - loss: 1.0424 - accuracy: 0.6258 - val_loss: 0.9246 - val_accuracy: 0.6544\n",
            "\n",
            "Epoch 00021: val_accuracy improved from 0.64483 to 0.65443, saving model to /content/drive/MyDrive/building1/noWiFiBT27March5slots_200epochs_biDirLSTMDoubleDenseDropout/best_model.pkl\n"
          ],
          "name": "stdout"
        },
        {
          "output_type": "stream",
          "text": [
            "WARNING:absl:Found untraced functions such as lstm_cell_3_layer_call_and_return_conditional_losses, lstm_cell_3_layer_call_fn, lstm_cell_1_layer_call_and_return_conditional_losses, lstm_cell_1_layer_call_fn, lstm_cell_2_layer_call_and_return_conditional_losses while saving (showing 5 of 15). These functions will not be directly callable after loading.\n",
            "WARNING:absl:Found untraced functions such as lstm_cell_3_layer_call_and_return_conditional_losses, lstm_cell_3_layer_call_fn, lstm_cell_1_layer_call_and_return_conditional_losses, lstm_cell_1_layer_call_fn, lstm_cell_2_layer_call_and_return_conditional_losses while saving (showing 5 of 15). These functions will not be directly callable after loading.\n"
          ],
          "name": "stderr"
        },
        {
          "output_type": "stream",
          "text": [
            "INFO:tensorflow:Assets written to: /content/drive/MyDrive/building1/noWiFiBT27March5slots_200epochs_biDirLSTMDoubleDenseDropout/best_model.pkl/assets\n"
          ],
          "name": "stdout"
        },
        {
          "output_type": "stream",
          "text": [
            "INFO:tensorflow:Assets written to: /content/drive/MyDrive/building1/noWiFiBT27March5slots_200epochs_biDirLSTMDoubleDenseDropout/best_model.pkl/assets\n"
          ],
          "name": "stderr"
        },
        {
          "output_type": "stream",
          "text": [
            "Epoch 22/200\n",
            "213/213 [==============================] - 24s 112ms/step - loss: 0.9593 - accuracy: 0.6494 - val_loss: 0.8810 - val_accuracy: 0.6748\n",
            "\n",
            "Epoch 00022: val_accuracy improved from 0.65443 to 0.67484, saving model to /content/drive/MyDrive/building1/noWiFiBT27March5slots_200epochs_biDirLSTMDoubleDenseDropout/best_model.pkl\n"
          ],
          "name": "stdout"
        },
        {
          "output_type": "stream",
          "text": [
            "WARNING:absl:Found untraced functions such as lstm_cell_3_layer_call_and_return_conditional_losses, lstm_cell_3_layer_call_fn, lstm_cell_1_layer_call_and_return_conditional_losses, lstm_cell_1_layer_call_fn, lstm_cell_2_layer_call_and_return_conditional_losses while saving (showing 5 of 15). These functions will not be directly callable after loading.\n",
            "WARNING:absl:Found untraced functions such as lstm_cell_3_layer_call_and_return_conditional_losses, lstm_cell_3_layer_call_fn, lstm_cell_1_layer_call_and_return_conditional_losses, lstm_cell_1_layer_call_fn, lstm_cell_2_layer_call_and_return_conditional_losses while saving (showing 5 of 15). These functions will not be directly callable after loading.\n"
          ],
          "name": "stderr"
        },
        {
          "output_type": "stream",
          "text": [
            "INFO:tensorflow:Assets written to: /content/drive/MyDrive/building1/noWiFiBT27March5slots_200epochs_biDirLSTMDoubleDenseDropout/best_model.pkl/assets\n"
          ],
          "name": "stdout"
        },
        {
          "output_type": "stream",
          "text": [
            "INFO:tensorflow:Assets written to: /content/drive/MyDrive/building1/noWiFiBT27March5slots_200epochs_biDirLSTMDoubleDenseDropout/best_model.pkl/assets\n"
          ],
          "name": "stderr"
        },
        {
          "output_type": "stream",
          "text": [
            "Epoch 23/200\n",
            "213/213 [==============================] - 24s 114ms/step - loss: 0.9428 - accuracy: 0.6565 - val_loss: 1.1669 - val_accuracy: 0.6006\n",
            "\n",
            "Epoch 00023: val_accuracy did not improve from 0.67484\n",
            "Epoch 24/200\n",
            "213/213 [==============================] - 24s 112ms/step - loss: 0.9260 - accuracy: 0.6576 - val_loss: 0.8658 - val_accuracy: 0.6760\n",
            "\n",
            "Epoch 00024: val_accuracy improved from 0.67484 to 0.67604, saving model to /content/drive/MyDrive/building1/noWiFiBT27March5slots_200epochs_biDirLSTMDoubleDenseDropout/best_model.pkl\n"
          ],
          "name": "stdout"
        },
        {
          "output_type": "stream",
          "text": [
            "WARNING:absl:Found untraced functions such as lstm_cell_3_layer_call_and_return_conditional_losses, lstm_cell_3_layer_call_fn, lstm_cell_1_layer_call_and_return_conditional_losses, lstm_cell_1_layer_call_fn, lstm_cell_2_layer_call_and_return_conditional_losses while saving (showing 5 of 15). These functions will not be directly callable after loading.\n",
            "WARNING:absl:Found untraced functions such as lstm_cell_3_layer_call_and_return_conditional_losses, lstm_cell_3_layer_call_fn, lstm_cell_1_layer_call_and_return_conditional_losses, lstm_cell_1_layer_call_fn, lstm_cell_2_layer_call_and_return_conditional_losses while saving (showing 5 of 15). These functions will not be directly callable after loading.\n"
          ],
          "name": "stderr"
        },
        {
          "output_type": "stream",
          "text": [
            "INFO:tensorflow:Assets written to: /content/drive/MyDrive/building1/noWiFiBT27March5slots_200epochs_biDirLSTMDoubleDenseDropout/best_model.pkl/assets\n"
          ],
          "name": "stdout"
        },
        {
          "output_type": "stream",
          "text": [
            "INFO:tensorflow:Assets written to: /content/drive/MyDrive/building1/noWiFiBT27March5slots_200epochs_biDirLSTMDoubleDenseDropout/best_model.pkl/assets\n"
          ],
          "name": "stderr"
        },
        {
          "output_type": "stream",
          "text": [
            "Epoch 25/200\n",
            "213/213 [==============================] - 24s 111ms/step - loss: 0.8544 - accuracy: 0.6823 - val_loss: 0.8418 - val_accuracy: 0.6970\n",
            "\n",
            "Epoch 00025: val_accuracy improved from 0.67604 to 0.69696, saving model to /content/drive/MyDrive/building1/noWiFiBT27March5slots_200epochs_biDirLSTMDoubleDenseDropout/best_model.pkl\n"
          ],
          "name": "stdout"
        },
        {
          "output_type": "stream",
          "text": [
            "WARNING:absl:Found untraced functions such as lstm_cell_3_layer_call_and_return_conditional_losses, lstm_cell_3_layer_call_fn, lstm_cell_1_layer_call_and_return_conditional_losses, lstm_cell_1_layer_call_fn, lstm_cell_2_layer_call_and_return_conditional_losses while saving (showing 5 of 15). These functions will not be directly callable after loading.\n",
            "WARNING:absl:Found untraced functions such as lstm_cell_3_layer_call_and_return_conditional_losses, lstm_cell_3_layer_call_fn, lstm_cell_1_layer_call_and_return_conditional_losses, lstm_cell_1_layer_call_fn, lstm_cell_2_layer_call_and_return_conditional_losses while saving (showing 5 of 15). These functions will not be directly callable after loading.\n"
          ],
          "name": "stderr"
        },
        {
          "output_type": "stream",
          "text": [
            "INFO:tensorflow:Assets written to: /content/drive/MyDrive/building1/noWiFiBT27March5slots_200epochs_biDirLSTMDoubleDenseDropout/best_model.pkl/assets\n"
          ],
          "name": "stdout"
        },
        {
          "output_type": "stream",
          "text": [
            "INFO:tensorflow:Assets written to: /content/drive/MyDrive/building1/noWiFiBT27March5slots_200epochs_biDirLSTMDoubleDenseDropout/best_model.pkl/assets\n"
          ],
          "name": "stderr"
        },
        {
          "output_type": "stream",
          "text": [
            "Epoch 26/200\n",
            "213/213 [==============================] - 23s 110ms/step - loss: 0.9634 - accuracy: 0.6582 - val_loss: 0.8525 - val_accuracy: 0.6860\n",
            "\n",
            "Epoch 00026: val_accuracy did not improve from 0.69696\n",
            "Epoch 27/200\n",
            "213/213 [==============================] - 24s 110ms/step - loss: 0.8062 - accuracy: 0.6976 - val_loss: 0.8326 - val_accuracy: 0.6997\n",
            "\n",
            "Epoch 00027: val_accuracy improved from 0.69696 to 0.69971, saving model to /content/drive/MyDrive/building1/noWiFiBT27March5slots_200epochs_biDirLSTMDoubleDenseDropout/best_model.pkl\n"
          ],
          "name": "stdout"
        },
        {
          "output_type": "stream",
          "text": [
            "WARNING:absl:Found untraced functions such as lstm_cell_3_layer_call_and_return_conditional_losses, lstm_cell_3_layer_call_fn, lstm_cell_1_layer_call_and_return_conditional_losses, lstm_cell_1_layer_call_fn, lstm_cell_2_layer_call_and_return_conditional_losses while saving (showing 5 of 15). These functions will not be directly callable after loading.\n",
            "WARNING:absl:Found untraced functions such as lstm_cell_3_layer_call_and_return_conditional_losses, lstm_cell_3_layer_call_fn, lstm_cell_1_layer_call_and_return_conditional_losses, lstm_cell_1_layer_call_fn, lstm_cell_2_layer_call_and_return_conditional_losses while saving (showing 5 of 15). These functions will not be directly callable after loading.\n"
          ],
          "name": "stderr"
        },
        {
          "output_type": "stream",
          "text": [
            "INFO:tensorflow:Assets written to: /content/drive/MyDrive/building1/noWiFiBT27March5slots_200epochs_biDirLSTMDoubleDenseDropout/best_model.pkl/assets\n"
          ],
          "name": "stdout"
        },
        {
          "output_type": "stream",
          "text": [
            "INFO:tensorflow:Assets written to: /content/drive/MyDrive/building1/noWiFiBT27March5slots_200epochs_biDirLSTMDoubleDenseDropout/best_model.pkl/assets\n"
          ],
          "name": "stderr"
        },
        {
          "output_type": "stream",
          "text": [
            "Epoch 28/200\n",
            "213/213 [==============================] - 24s 114ms/step - loss: 0.8077 - accuracy: 0.6957 - val_loss: 0.8724 - val_accuracy: 0.6735\n",
            "\n",
            "Epoch 00028: val_accuracy did not improve from 0.69971\n",
            "Epoch 29/200\n",
            "213/213 [==============================] - 24s 113ms/step - loss: 0.9358 - accuracy: 0.6699 - val_loss: 0.8139 - val_accuracy: 0.7035\n",
            "\n",
            "Epoch 00029: val_accuracy improved from 0.69971 to 0.70348, saving model to /content/drive/MyDrive/building1/noWiFiBT27March5slots_200epochs_biDirLSTMDoubleDenseDropout/best_model.pkl\n"
          ],
          "name": "stdout"
        },
        {
          "output_type": "stream",
          "text": [
            "WARNING:absl:Found untraced functions such as lstm_cell_3_layer_call_and_return_conditional_losses, lstm_cell_3_layer_call_fn, lstm_cell_1_layer_call_and_return_conditional_losses, lstm_cell_1_layer_call_fn, lstm_cell_2_layer_call_and_return_conditional_losses while saving (showing 5 of 15). These functions will not be directly callable after loading.\n",
            "WARNING:absl:Found untraced functions such as lstm_cell_3_layer_call_and_return_conditional_losses, lstm_cell_3_layer_call_fn, lstm_cell_1_layer_call_and_return_conditional_losses, lstm_cell_1_layer_call_fn, lstm_cell_2_layer_call_and_return_conditional_losses while saving (showing 5 of 15). These functions will not be directly callable after loading.\n"
          ],
          "name": "stderr"
        },
        {
          "output_type": "stream",
          "text": [
            "INFO:tensorflow:Assets written to: /content/drive/MyDrive/building1/noWiFiBT27March5slots_200epochs_biDirLSTMDoubleDenseDropout/best_model.pkl/assets\n"
          ],
          "name": "stdout"
        },
        {
          "output_type": "stream",
          "text": [
            "INFO:tensorflow:Assets written to: /content/drive/MyDrive/building1/noWiFiBT27March5slots_200epochs_biDirLSTMDoubleDenseDropout/best_model.pkl/assets\n"
          ],
          "name": "stderr"
        },
        {
          "output_type": "stream",
          "text": [
            "Epoch 30/200\n",
            "213/213 [==============================] - 24s 114ms/step - loss: 0.7865 - accuracy: 0.7113 - val_loss: 0.8093 - val_accuracy: 0.6994\n",
            "\n",
            "Epoch 00030: val_accuracy did not improve from 0.70348\n",
            "Epoch 31/200\n",
            "213/213 [==============================] - 24s 113ms/step - loss: 0.7596 - accuracy: 0.7161 - val_loss: 0.7746 - val_accuracy: 0.7105\n",
            "\n",
            "Epoch 00031: val_accuracy improved from 0.70348 to 0.71051, saving model to /content/drive/MyDrive/building1/noWiFiBT27March5slots_200epochs_biDirLSTMDoubleDenseDropout/best_model.pkl\n"
          ],
          "name": "stdout"
        },
        {
          "output_type": "stream",
          "text": [
            "WARNING:absl:Found untraced functions such as lstm_cell_3_layer_call_and_return_conditional_losses, lstm_cell_3_layer_call_fn, lstm_cell_1_layer_call_and_return_conditional_losses, lstm_cell_1_layer_call_fn, lstm_cell_2_layer_call_and_return_conditional_losses while saving (showing 5 of 15). These functions will not be directly callable after loading.\n",
            "WARNING:absl:Found untraced functions such as lstm_cell_3_layer_call_and_return_conditional_losses, lstm_cell_3_layer_call_fn, lstm_cell_1_layer_call_and_return_conditional_losses, lstm_cell_1_layer_call_fn, lstm_cell_2_layer_call_and_return_conditional_losses while saving (showing 5 of 15). These functions will not be directly callable after loading.\n"
          ],
          "name": "stderr"
        },
        {
          "output_type": "stream",
          "text": [
            "INFO:tensorflow:Assets written to: /content/drive/MyDrive/building1/noWiFiBT27March5slots_200epochs_biDirLSTMDoubleDenseDropout/best_model.pkl/assets\n"
          ],
          "name": "stdout"
        },
        {
          "output_type": "stream",
          "text": [
            "INFO:tensorflow:Assets written to: /content/drive/MyDrive/building1/noWiFiBT27March5slots_200epochs_biDirLSTMDoubleDenseDropout/best_model.pkl/assets\n"
          ],
          "name": "stderr"
        },
        {
          "output_type": "stream",
          "text": [
            "Epoch 32/200\n",
            "213/213 [==============================] - 24s 113ms/step - loss: 0.7568 - accuracy: 0.7194 - val_loss: 0.8014 - val_accuracy: 0.7069\n",
            "\n",
            "Epoch 00032: val_accuracy did not improve from 0.71051\n",
            "Epoch 33/200\n",
            "213/213 [==============================] - 24s 112ms/step - loss: 0.8052 - accuracy: 0.7066 - val_loss: 0.7947 - val_accuracy: 0.7079\n",
            "\n",
            "Epoch 00033: val_accuracy did not improve from 0.71051\n",
            "Epoch 34/200\n",
            "213/213 [==============================] - 24s 110ms/step - loss: 0.7488 - accuracy: 0.7235 - val_loss: 0.9245 - val_accuracy: 0.6822\n",
            "\n",
            "Epoch 00034: val_accuracy did not improve from 0.71051\n",
            "Epoch 35/200\n",
            "213/213 [==============================] - 24s 112ms/step - loss: 0.9367 - accuracy: 0.6800 - val_loss: 0.8661 - val_accuracy: 0.6934\n",
            "\n",
            "Epoch 00035: val_accuracy did not improve from 0.71051\n",
            "Epoch 36/200\n",
            "213/213 [==============================] - 24s 111ms/step - loss: 0.7533 - accuracy: 0.7227 - val_loss: 0.7413 - val_accuracy: 0.7292\n",
            "\n",
            "Epoch 00036: val_accuracy improved from 0.71051 to 0.72921, saving model to /content/drive/MyDrive/building1/noWiFiBT27March5slots_200epochs_biDirLSTMDoubleDenseDropout/best_model.pkl\n"
          ],
          "name": "stdout"
        },
        {
          "output_type": "stream",
          "text": [
            "WARNING:absl:Found untraced functions such as lstm_cell_3_layer_call_and_return_conditional_losses, lstm_cell_3_layer_call_fn, lstm_cell_1_layer_call_and_return_conditional_losses, lstm_cell_1_layer_call_fn, lstm_cell_2_layer_call_and_return_conditional_losses while saving (showing 5 of 15). These functions will not be directly callable after loading.\n",
            "WARNING:absl:Found untraced functions such as lstm_cell_3_layer_call_and_return_conditional_losses, lstm_cell_3_layer_call_fn, lstm_cell_1_layer_call_and_return_conditional_losses, lstm_cell_1_layer_call_fn, lstm_cell_2_layer_call_and_return_conditional_losses while saving (showing 5 of 15). These functions will not be directly callable after loading.\n"
          ],
          "name": "stderr"
        },
        {
          "output_type": "stream",
          "text": [
            "INFO:tensorflow:Assets written to: /content/drive/MyDrive/building1/noWiFiBT27March5slots_200epochs_biDirLSTMDoubleDenseDropout/best_model.pkl/assets\n"
          ],
          "name": "stdout"
        },
        {
          "output_type": "stream",
          "text": [
            "INFO:tensorflow:Assets written to: /content/drive/MyDrive/building1/noWiFiBT27March5slots_200epochs_biDirLSTMDoubleDenseDropout/best_model.pkl/assets\n"
          ],
          "name": "stderr"
        },
        {
          "output_type": "stream",
          "text": [
            "Epoch 37/200\n",
            "213/213 [==============================] - 24s 112ms/step - loss: 0.7057 - accuracy: 0.7351 - val_loss: 0.7517 - val_accuracy: 0.7253\n",
            "\n",
            "Epoch 00037: val_accuracy did not improve from 0.72921\n",
            "Epoch 38/200\n",
            "213/213 [==============================] - 24s 112ms/step - loss: 0.6615 - accuracy: 0.7517 - val_loss: 0.7453 - val_accuracy: 0.7265\n",
            "\n",
            "Epoch 00038: val_accuracy did not improve from 0.72921\n",
            "Epoch 39/200\n",
            "213/213 [==============================] - 24s 112ms/step - loss: 0.7384 - accuracy: 0.7300 - val_loss: 0.7917 - val_accuracy: 0.7086\n",
            "\n",
            "Epoch 00039: val_accuracy did not improve from 0.72921\n",
            "Epoch 40/200\n",
            "213/213 [==============================] - 24s 114ms/step - loss: 0.6569 - accuracy: 0.7561 - val_loss: 0.6867 - val_accuracy: 0.7438\n",
            "\n",
            "Epoch 00040: val_accuracy improved from 0.72921 to 0.74378, saving model to /content/drive/MyDrive/building1/noWiFiBT27March5slots_200epochs_biDirLSTMDoubleDenseDropout/best_model.pkl\n"
          ],
          "name": "stdout"
        },
        {
          "output_type": "stream",
          "text": [
            "WARNING:absl:Found untraced functions such as lstm_cell_3_layer_call_and_return_conditional_losses, lstm_cell_3_layer_call_fn, lstm_cell_1_layer_call_and_return_conditional_losses, lstm_cell_1_layer_call_fn, lstm_cell_2_layer_call_and_return_conditional_losses while saving (showing 5 of 15). These functions will not be directly callable after loading.\n",
            "WARNING:absl:Found untraced functions such as lstm_cell_3_layer_call_and_return_conditional_losses, lstm_cell_3_layer_call_fn, lstm_cell_1_layer_call_and_return_conditional_losses, lstm_cell_1_layer_call_fn, lstm_cell_2_layer_call_and_return_conditional_losses while saving (showing 5 of 15). These functions will not be directly callable after loading.\n"
          ],
          "name": "stderr"
        },
        {
          "output_type": "stream",
          "text": [
            "INFO:tensorflow:Assets written to: /content/drive/MyDrive/building1/noWiFiBT27March5slots_200epochs_biDirLSTMDoubleDenseDropout/best_model.pkl/assets\n"
          ],
          "name": "stdout"
        },
        {
          "output_type": "stream",
          "text": [
            "INFO:tensorflow:Assets written to: /content/drive/MyDrive/building1/noWiFiBT27March5slots_200epochs_biDirLSTMDoubleDenseDropout/best_model.pkl/assets\n"
          ],
          "name": "stderr"
        },
        {
          "output_type": "stream",
          "text": [
            "Epoch 41/200\n",
            "213/213 [==============================] - 24s 112ms/step - loss: 0.6337 - accuracy: 0.7620 - val_loss: 0.6948 - val_accuracy: 0.7417\n",
            "\n",
            "Epoch 00041: val_accuracy did not improve from 0.74378\n",
            "Epoch 42/200\n",
            "213/213 [==============================] - 24s 113ms/step - loss: 0.6944 - accuracy: 0.7472 - val_loss: 0.7193 - val_accuracy: 0.7357\n",
            "\n",
            "Epoch 00042: val_accuracy did not improve from 0.74378\n",
            "Epoch 43/200\n",
            "213/213 [==============================] - 24s 111ms/step - loss: 0.6380 - accuracy: 0.7601 - val_loss: 0.7187 - val_accuracy: 0.7390\n",
            "\n",
            "Epoch 00043: val_accuracy did not improve from 0.74378\n",
            "Epoch 44/200\n",
            "213/213 [==============================] - 24s 111ms/step - loss: 0.6403 - accuracy: 0.7614 - val_loss: 0.7236 - val_accuracy: 0.7373\n",
            "\n",
            "Epoch 00044: val_accuracy did not improve from 0.74378\n",
            "Epoch 45/200\n",
            "213/213 [==============================] - 24s 110ms/step - loss: 0.6131 - accuracy: 0.7725 - val_loss: 0.7049 - val_accuracy: 0.7366\n",
            "\n",
            "Epoch 00045: val_accuracy did not improve from 0.74378\n",
            "Epoch 46/200\n",
            "213/213 [==============================] - 24s 111ms/step - loss: 0.6019 - accuracy: 0.7750 - val_loss: 0.6724 - val_accuracy: 0.7561\n",
            "\n",
            "Epoch 00046: val_accuracy improved from 0.74378 to 0.75613, saving model to /content/drive/MyDrive/building1/noWiFiBT27March5slots_200epochs_biDirLSTMDoubleDenseDropout/best_model.pkl\n"
          ],
          "name": "stdout"
        },
        {
          "output_type": "stream",
          "text": [
            "WARNING:absl:Found untraced functions such as lstm_cell_3_layer_call_and_return_conditional_losses, lstm_cell_3_layer_call_fn, lstm_cell_1_layer_call_and_return_conditional_losses, lstm_cell_1_layer_call_fn, lstm_cell_2_layer_call_and_return_conditional_losses while saving (showing 5 of 15). These functions will not be directly callable after loading.\n",
            "WARNING:absl:Found untraced functions such as lstm_cell_3_layer_call_and_return_conditional_losses, lstm_cell_3_layer_call_fn, lstm_cell_1_layer_call_and_return_conditional_losses, lstm_cell_1_layer_call_fn, lstm_cell_2_layer_call_and_return_conditional_losses while saving (showing 5 of 15). These functions will not be directly callable after loading.\n"
          ],
          "name": "stderr"
        },
        {
          "output_type": "stream",
          "text": [
            "INFO:tensorflow:Assets written to: /content/drive/MyDrive/building1/noWiFiBT27March5slots_200epochs_biDirLSTMDoubleDenseDropout/best_model.pkl/assets\n"
          ],
          "name": "stdout"
        },
        {
          "output_type": "stream",
          "text": [
            "INFO:tensorflow:Assets written to: /content/drive/MyDrive/building1/noWiFiBT27March5slots_200epochs_biDirLSTMDoubleDenseDropout/best_model.pkl/assets\n"
          ],
          "name": "stderr"
        },
        {
          "output_type": "stream",
          "text": [
            "Epoch 47/200\n",
            "213/213 [==============================] - 24s 111ms/step - loss: 0.5975 - accuracy: 0.7760 - val_loss: 0.7032 - val_accuracy: 0.7479\n",
            "\n",
            "Epoch 00047: val_accuracy did not improve from 0.75613\n",
            "Epoch 48/200\n",
            "213/213 [==============================] - 24s 111ms/step - loss: 0.5920 - accuracy: 0.7782 - val_loss: 0.6470 - val_accuracy: 0.7642\n",
            "\n",
            "Epoch 00048: val_accuracy improved from 0.75613 to 0.76419, saving model to /content/drive/MyDrive/building1/noWiFiBT27March5slots_200epochs_biDirLSTMDoubleDenseDropout/best_model.pkl\n"
          ],
          "name": "stdout"
        },
        {
          "output_type": "stream",
          "text": [
            "WARNING:absl:Found untraced functions such as lstm_cell_3_layer_call_and_return_conditional_losses, lstm_cell_3_layer_call_fn, lstm_cell_1_layer_call_and_return_conditional_losses, lstm_cell_1_layer_call_fn, lstm_cell_2_layer_call_and_return_conditional_losses while saving (showing 5 of 15). These functions will not be directly callable after loading.\n",
            "WARNING:absl:Found untraced functions such as lstm_cell_3_layer_call_and_return_conditional_losses, lstm_cell_3_layer_call_fn, lstm_cell_1_layer_call_and_return_conditional_losses, lstm_cell_1_layer_call_fn, lstm_cell_2_layer_call_and_return_conditional_losses while saving (showing 5 of 15). These functions will not be directly callable after loading.\n"
          ],
          "name": "stderr"
        },
        {
          "output_type": "stream",
          "text": [
            "INFO:tensorflow:Assets written to: /content/drive/MyDrive/building1/noWiFiBT27March5slots_200epochs_biDirLSTMDoubleDenseDropout/best_model.pkl/assets\n"
          ],
          "name": "stdout"
        },
        {
          "output_type": "stream",
          "text": [
            "INFO:tensorflow:Assets written to: /content/drive/MyDrive/building1/noWiFiBT27March5slots_200epochs_biDirLSTMDoubleDenseDropout/best_model.pkl/assets\n"
          ],
          "name": "stderr"
        },
        {
          "output_type": "stream",
          "text": [
            "Epoch 49/200\n",
            "213/213 [==============================] - 24s 112ms/step - loss: 0.6320 - accuracy: 0.7699 - val_loss: 0.6399 - val_accuracy: 0.7630\n",
            "\n",
            "Epoch 00049: val_accuracy did not improve from 0.76419\n",
            "Epoch 50/200\n",
            "213/213 [==============================] - 24s 111ms/step - loss: 0.5706 - accuracy: 0.7828 - val_loss: 0.8054 - val_accuracy: 0.7222\n",
            "\n",
            "Epoch 00050: val_accuracy did not improve from 0.76419\n",
            "Epoch 51/200\n",
            "213/213 [==============================] - 24s 114ms/step - loss: 0.5882 - accuracy: 0.7825 - val_loss: 0.6565 - val_accuracy: 0.7585\n",
            "\n",
            "Epoch 00051: val_accuracy did not improve from 0.76419\n",
            "Epoch 52/200\n",
            "213/213 [==============================] - 24s 112ms/step - loss: 0.5587 - accuracy: 0.7936 - val_loss: 0.6504 - val_accuracy: 0.7659\n",
            "\n",
            "Epoch 00052: val_accuracy improved from 0.76419 to 0.76591, saving model to /content/drive/MyDrive/building1/noWiFiBT27March5slots_200epochs_biDirLSTMDoubleDenseDropout/best_model.pkl\n"
          ],
          "name": "stdout"
        },
        {
          "output_type": "stream",
          "text": [
            "WARNING:absl:Found untraced functions such as lstm_cell_3_layer_call_and_return_conditional_losses, lstm_cell_3_layer_call_fn, lstm_cell_1_layer_call_and_return_conditional_losses, lstm_cell_1_layer_call_fn, lstm_cell_2_layer_call_and_return_conditional_losses while saving (showing 5 of 15). These functions will not be directly callable after loading.\n",
            "WARNING:absl:Found untraced functions such as lstm_cell_3_layer_call_and_return_conditional_losses, lstm_cell_3_layer_call_fn, lstm_cell_1_layer_call_and_return_conditional_losses, lstm_cell_1_layer_call_fn, lstm_cell_2_layer_call_and_return_conditional_losses while saving (showing 5 of 15). These functions will not be directly callable after loading.\n"
          ],
          "name": "stderr"
        },
        {
          "output_type": "stream",
          "text": [
            "INFO:tensorflow:Assets written to: /content/drive/MyDrive/building1/noWiFiBT27March5slots_200epochs_biDirLSTMDoubleDenseDropout/best_model.pkl/assets\n"
          ],
          "name": "stdout"
        },
        {
          "output_type": "stream",
          "text": [
            "INFO:tensorflow:Assets written to: /content/drive/MyDrive/building1/noWiFiBT27March5slots_200epochs_biDirLSTMDoubleDenseDropout/best_model.pkl/assets\n"
          ],
          "name": "stderr"
        },
        {
          "output_type": "stream",
          "text": [
            "Epoch 53/200\n",
            "213/213 [==============================] - 24s 112ms/step - loss: 0.5990 - accuracy: 0.7809 - val_loss: 0.6271 - val_accuracy: 0.7724\n",
            "\n",
            "Epoch 00053: val_accuracy improved from 0.76591 to 0.77242, saving model to /content/drive/MyDrive/building1/noWiFiBT27March5slots_200epochs_biDirLSTMDoubleDenseDropout/best_model.pkl\n"
          ],
          "name": "stdout"
        },
        {
          "output_type": "stream",
          "text": [
            "WARNING:absl:Found untraced functions such as lstm_cell_3_layer_call_and_return_conditional_losses, lstm_cell_3_layer_call_fn, lstm_cell_1_layer_call_and_return_conditional_losses, lstm_cell_1_layer_call_fn, lstm_cell_2_layer_call_and_return_conditional_losses while saving (showing 5 of 15). These functions will not be directly callable after loading.\n",
            "WARNING:absl:Found untraced functions such as lstm_cell_3_layer_call_and_return_conditional_losses, lstm_cell_3_layer_call_fn, lstm_cell_1_layer_call_and_return_conditional_losses, lstm_cell_1_layer_call_fn, lstm_cell_2_layer_call_and_return_conditional_losses while saving (showing 5 of 15). These functions will not be directly callable after loading.\n"
          ],
          "name": "stderr"
        },
        {
          "output_type": "stream",
          "text": [
            "INFO:tensorflow:Assets written to: /content/drive/MyDrive/building1/noWiFiBT27March5slots_200epochs_biDirLSTMDoubleDenseDropout/best_model.pkl/assets\n"
          ],
          "name": "stdout"
        },
        {
          "output_type": "stream",
          "text": [
            "INFO:tensorflow:Assets written to: /content/drive/MyDrive/building1/noWiFiBT27March5slots_200epochs_biDirLSTMDoubleDenseDropout/best_model.pkl/assets\n"
          ],
          "name": "stderr"
        },
        {
          "output_type": "stream",
          "text": [
            "Epoch 54/200\n",
            "213/213 [==============================] - 24s 112ms/step - loss: 0.5502 - accuracy: 0.7971 - val_loss: 0.6250 - val_accuracy: 0.7724\n",
            "\n",
            "Epoch 00054: val_accuracy did not improve from 0.77242\n",
            "Epoch 55/200\n",
            "213/213 [==============================] - 24s 112ms/step - loss: 0.5226 - accuracy: 0.8032 - val_loss: 0.6166 - val_accuracy: 0.7764\n",
            "\n",
            "Epoch 00055: val_accuracy improved from 0.77242 to 0.77637, saving model to /content/drive/MyDrive/building1/noWiFiBT27March5slots_200epochs_biDirLSTMDoubleDenseDropout/best_model.pkl\n"
          ],
          "name": "stdout"
        },
        {
          "output_type": "stream",
          "text": [
            "WARNING:absl:Found untraced functions such as lstm_cell_3_layer_call_and_return_conditional_losses, lstm_cell_3_layer_call_fn, lstm_cell_1_layer_call_and_return_conditional_losses, lstm_cell_1_layer_call_fn, lstm_cell_2_layer_call_and_return_conditional_losses while saving (showing 5 of 15). These functions will not be directly callable after loading.\n",
            "WARNING:absl:Found untraced functions such as lstm_cell_3_layer_call_and_return_conditional_losses, lstm_cell_3_layer_call_fn, lstm_cell_1_layer_call_and_return_conditional_losses, lstm_cell_1_layer_call_fn, lstm_cell_2_layer_call_and_return_conditional_losses while saving (showing 5 of 15). These functions will not be directly callable after loading.\n"
          ],
          "name": "stderr"
        },
        {
          "output_type": "stream",
          "text": [
            "INFO:tensorflow:Assets written to: /content/drive/MyDrive/building1/noWiFiBT27March5slots_200epochs_biDirLSTMDoubleDenseDropout/best_model.pkl/assets\n"
          ],
          "name": "stdout"
        },
        {
          "output_type": "stream",
          "text": [
            "INFO:tensorflow:Assets written to: /content/drive/MyDrive/building1/noWiFiBT27March5slots_200epochs_biDirLSTMDoubleDenseDropout/best_model.pkl/assets\n"
          ],
          "name": "stderr"
        },
        {
          "output_type": "stream",
          "text": [
            "Epoch 56/200\n",
            "213/213 [==============================] - 24s 113ms/step - loss: 0.5291 - accuracy: 0.8035 - val_loss: 0.6528 - val_accuracy: 0.7687\n",
            "\n",
            "Epoch 00056: val_accuracy did not improve from 0.77637\n",
            "Epoch 57/200\n",
            "213/213 [==============================] - 24s 110ms/step - loss: 0.5147 - accuracy: 0.8112 - val_loss: 0.6714 - val_accuracy: 0.7584\n",
            "\n",
            "Epoch 00057: val_accuracy did not improve from 0.77637\n",
            "Epoch 58/200\n",
            "213/213 [==============================] - 24s 111ms/step - loss: 0.5104 - accuracy: 0.8060 - val_loss: 1.0953 - val_accuracy: 0.6724\n",
            "\n",
            "Epoch 00058: val_accuracy did not improve from 0.77637\n",
            "Epoch 59/200\n",
            "213/213 [==============================] - 23s 110ms/step - loss: 0.5342 - accuracy: 0.8050 - val_loss: 0.6155 - val_accuracy: 0.7796\n",
            "\n",
            "Epoch 00059: val_accuracy improved from 0.77637 to 0.77963, saving model to /content/drive/MyDrive/building1/noWiFiBT27March5slots_200epochs_biDirLSTMDoubleDenseDropout/best_model.pkl\n"
          ],
          "name": "stdout"
        },
        {
          "output_type": "stream",
          "text": [
            "WARNING:absl:Found untraced functions such as lstm_cell_3_layer_call_and_return_conditional_losses, lstm_cell_3_layer_call_fn, lstm_cell_1_layer_call_and_return_conditional_losses, lstm_cell_1_layer_call_fn, lstm_cell_2_layer_call_and_return_conditional_losses while saving (showing 5 of 15). These functions will not be directly callable after loading.\n",
            "WARNING:absl:Found untraced functions such as lstm_cell_3_layer_call_and_return_conditional_losses, lstm_cell_3_layer_call_fn, lstm_cell_1_layer_call_and_return_conditional_losses, lstm_cell_1_layer_call_fn, lstm_cell_2_layer_call_and_return_conditional_losses while saving (showing 5 of 15). These functions will not be directly callable after loading.\n"
          ],
          "name": "stderr"
        },
        {
          "output_type": "stream",
          "text": [
            "INFO:tensorflow:Assets written to: /content/drive/MyDrive/building1/noWiFiBT27March5slots_200epochs_biDirLSTMDoubleDenseDropout/best_model.pkl/assets\n"
          ],
          "name": "stdout"
        },
        {
          "output_type": "stream",
          "text": [
            "INFO:tensorflow:Assets written to: /content/drive/MyDrive/building1/noWiFiBT27March5slots_200epochs_biDirLSTMDoubleDenseDropout/best_model.pkl/assets\n"
          ],
          "name": "stderr"
        },
        {
          "output_type": "stream",
          "text": [
            "Epoch 60/200\n",
            "213/213 [==============================] - 24s 110ms/step - loss: 0.4724 - accuracy: 0.8220 - val_loss: 0.6330 - val_accuracy: 0.7795\n",
            "\n",
            "Epoch 00060: val_accuracy did not improve from 0.77963\n",
            "Epoch 61/200\n",
            "213/213 [==============================] - 24s 111ms/step - loss: 0.5267 - accuracy: 0.8081 - val_loss: 0.6260 - val_accuracy: 0.7793\n",
            "\n",
            "Epoch 00061: val_accuracy did not improve from 0.77963\n",
            "Epoch 62/200\n",
            "213/213 [==============================] - 24s 111ms/step - loss: 0.4903 - accuracy: 0.8156 - val_loss: 0.6038 - val_accuracy: 0.7810\n",
            "\n",
            "Epoch 00062: val_accuracy improved from 0.77963 to 0.78100, saving model to /content/drive/MyDrive/building1/noWiFiBT27March5slots_200epochs_biDirLSTMDoubleDenseDropout/best_model.pkl\n"
          ],
          "name": "stdout"
        },
        {
          "output_type": "stream",
          "text": [
            "WARNING:absl:Found untraced functions such as lstm_cell_3_layer_call_and_return_conditional_losses, lstm_cell_3_layer_call_fn, lstm_cell_1_layer_call_and_return_conditional_losses, lstm_cell_1_layer_call_fn, lstm_cell_2_layer_call_and_return_conditional_losses while saving (showing 5 of 15). These functions will not be directly callable after loading.\n",
            "WARNING:absl:Found untraced functions such as lstm_cell_3_layer_call_and_return_conditional_losses, lstm_cell_3_layer_call_fn, lstm_cell_1_layer_call_and_return_conditional_losses, lstm_cell_1_layer_call_fn, lstm_cell_2_layer_call_and_return_conditional_losses while saving (showing 5 of 15). These functions will not be directly callable after loading.\n"
          ],
          "name": "stderr"
        },
        {
          "output_type": "stream",
          "text": [
            "INFO:tensorflow:Assets written to: /content/drive/MyDrive/building1/noWiFiBT27March5slots_200epochs_biDirLSTMDoubleDenseDropout/best_model.pkl/assets\n"
          ],
          "name": "stdout"
        },
        {
          "output_type": "stream",
          "text": [
            "INFO:tensorflow:Assets written to: /content/drive/MyDrive/building1/noWiFiBT27March5slots_200epochs_biDirLSTMDoubleDenseDropout/best_model.pkl/assets\n"
          ],
          "name": "stderr"
        },
        {
          "output_type": "stream",
          "text": [
            "Epoch 63/200\n",
            "213/213 [==============================] - 23s 109ms/step - loss: 0.5591 - accuracy: 0.8018 - val_loss: 0.7766 - val_accuracy: 0.7311\n",
            "\n",
            "Epoch 00063: val_accuracy did not improve from 0.78100\n",
            "Epoch 64/200\n",
            "213/213 [==============================] - 24s 111ms/step - loss: 0.4971 - accuracy: 0.8137 - val_loss: 0.6487 - val_accuracy: 0.7668\n",
            "\n",
            "Epoch 00064: val_accuracy did not improve from 0.78100\n",
            "Epoch 65/200\n",
            "213/213 [==============================] - 23s 109ms/step - loss: 0.4569 - accuracy: 0.8283 - val_loss: 0.5958 - val_accuracy: 0.7855\n",
            "\n",
            "Epoch 00065: val_accuracy improved from 0.78100 to 0.78546, saving model to /content/drive/MyDrive/building1/noWiFiBT27March5slots_200epochs_biDirLSTMDoubleDenseDropout/best_model.pkl\n"
          ],
          "name": "stdout"
        },
        {
          "output_type": "stream",
          "text": [
            "WARNING:absl:Found untraced functions such as lstm_cell_3_layer_call_and_return_conditional_losses, lstm_cell_3_layer_call_fn, lstm_cell_1_layer_call_and_return_conditional_losses, lstm_cell_1_layer_call_fn, lstm_cell_2_layer_call_and_return_conditional_losses while saving (showing 5 of 15). These functions will not be directly callable after loading.\n",
            "WARNING:absl:Found untraced functions such as lstm_cell_3_layer_call_and_return_conditional_losses, lstm_cell_3_layer_call_fn, lstm_cell_1_layer_call_and_return_conditional_losses, lstm_cell_1_layer_call_fn, lstm_cell_2_layer_call_and_return_conditional_losses while saving (showing 5 of 15). These functions will not be directly callable after loading.\n"
          ],
          "name": "stderr"
        },
        {
          "output_type": "stream",
          "text": [
            "INFO:tensorflow:Assets written to: /content/drive/MyDrive/building1/noWiFiBT27March5slots_200epochs_biDirLSTMDoubleDenseDropout/best_model.pkl/assets\n"
          ],
          "name": "stdout"
        },
        {
          "output_type": "stream",
          "text": [
            "INFO:tensorflow:Assets written to: /content/drive/MyDrive/building1/noWiFiBT27March5slots_200epochs_biDirLSTMDoubleDenseDropout/best_model.pkl/assets\n"
          ],
          "name": "stderr"
        },
        {
          "output_type": "stream",
          "text": [
            "Epoch 66/200\n",
            "213/213 [==============================] - 24s 112ms/step - loss: 0.4463 - accuracy: 0.8336 - val_loss: 0.6113 - val_accuracy: 0.7836\n",
            "\n",
            "Epoch 00066: val_accuracy did not improve from 0.78546\n",
            "Epoch 67/200\n",
            "213/213 [==============================] - 24s 112ms/step - loss: 0.4278 - accuracy: 0.8381 - val_loss: 0.9237 - val_accuracy: 0.7067\n",
            "\n",
            "Epoch 00067: val_accuracy did not improve from 0.78546\n",
            "Epoch 68/200\n",
            "213/213 [==============================] - 24s 112ms/step - loss: 0.5481 - accuracy: 0.8109 - val_loss: 0.6129 - val_accuracy: 0.7791\n",
            "\n",
            "Epoch 00068: val_accuracy did not improve from 0.78546\n",
            "Epoch 69/200\n",
            "213/213 [==============================] - 24s 112ms/step - loss: 0.4604 - accuracy: 0.8291 - val_loss: 0.5786 - val_accuracy: 0.7939\n",
            "\n",
            "Epoch 00069: val_accuracy improved from 0.78546 to 0.79386, saving model to /content/drive/MyDrive/building1/noWiFiBT27March5slots_200epochs_biDirLSTMDoubleDenseDropout/best_model.pkl\n"
          ],
          "name": "stdout"
        },
        {
          "output_type": "stream",
          "text": [
            "WARNING:absl:Found untraced functions such as lstm_cell_3_layer_call_and_return_conditional_losses, lstm_cell_3_layer_call_fn, lstm_cell_1_layer_call_and_return_conditional_losses, lstm_cell_1_layer_call_fn, lstm_cell_2_layer_call_and_return_conditional_losses while saving (showing 5 of 15). These functions will not be directly callable after loading.\n",
            "WARNING:absl:Found untraced functions such as lstm_cell_3_layer_call_and_return_conditional_losses, lstm_cell_3_layer_call_fn, lstm_cell_1_layer_call_and_return_conditional_losses, lstm_cell_1_layer_call_fn, lstm_cell_2_layer_call_and_return_conditional_losses while saving (showing 5 of 15). These functions will not be directly callable after loading.\n"
          ],
          "name": "stderr"
        },
        {
          "output_type": "stream",
          "text": [
            "INFO:tensorflow:Assets written to: /content/drive/MyDrive/building1/noWiFiBT27March5slots_200epochs_biDirLSTMDoubleDenseDropout/best_model.pkl/assets\n"
          ],
          "name": "stdout"
        },
        {
          "output_type": "stream",
          "text": [
            "INFO:tensorflow:Assets written to: /content/drive/MyDrive/building1/noWiFiBT27March5slots_200epochs_biDirLSTMDoubleDenseDropout/best_model.pkl/assets\n"
          ],
          "name": "stderr"
        },
        {
          "output_type": "stream",
          "text": [
            "Epoch 70/200\n",
            "213/213 [==============================] - 24s 111ms/step - loss: 0.4266 - accuracy: 0.8414 - val_loss: 0.5935 - val_accuracy: 0.7879\n",
            "\n",
            "Epoch 00070: val_accuracy did not improve from 0.79386\n",
            "Epoch 71/200\n",
            "213/213 [==============================] - 24s 111ms/step - loss: 0.4506 - accuracy: 0.8322 - val_loss: 0.6052 - val_accuracy: 0.7837\n",
            "\n",
            "Epoch 00071: val_accuracy did not improve from 0.79386\n",
            "Epoch 72/200\n",
            "213/213 [==============================] - 23s 110ms/step - loss: 0.4123 - accuracy: 0.8455 - val_loss: 0.5789 - val_accuracy: 0.7945\n",
            "\n",
            "Epoch 00072: val_accuracy improved from 0.79386 to 0.79455, saving model to /content/drive/MyDrive/building1/noWiFiBT27March5slots_200epochs_biDirLSTMDoubleDenseDropout/best_model.pkl\n"
          ],
          "name": "stdout"
        },
        {
          "output_type": "stream",
          "text": [
            "WARNING:absl:Found untraced functions such as lstm_cell_3_layer_call_and_return_conditional_losses, lstm_cell_3_layer_call_fn, lstm_cell_1_layer_call_and_return_conditional_losses, lstm_cell_1_layer_call_fn, lstm_cell_2_layer_call_and_return_conditional_losses while saving (showing 5 of 15). These functions will not be directly callable after loading.\n",
            "WARNING:absl:Found untraced functions such as lstm_cell_3_layer_call_and_return_conditional_losses, lstm_cell_3_layer_call_fn, lstm_cell_1_layer_call_and_return_conditional_losses, lstm_cell_1_layer_call_fn, lstm_cell_2_layer_call_and_return_conditional_losses while saving (showing 5 of 15). These functions will not be directly callable after loading.\n"
          ],
          "name": "stderr"
        },
        {
          "output_type": "stream",
          "text": [
            "INFO:tensorflow:Assets written to: /content/drive/MyDrive/building1/noWiFiBT27March5slots_200epochs_biDirLSTMDoubleDenseDropout/best_model.pkl/assets\n"
          ],
          "name": "stdout"
        },
        {
          "output_type": "stream",
          "text": [
            "INFO:tensorflow:Assets written to: /content/drive/MyDrive/building1/noWiFiBT27March5slots_200epochs_biDirLSTMDoubleDenseDropout/best_model.pkl/assets\n"
          ],
          "name": "stderr"
        },
        {
          "output_type": "stream",
          "text": [
            "Epoch 73/200\n",
            "213/213 [==============================] - 24s 110ms/step - loss: 0.4349 - accuracy: 0.8362 - val_loss: 0.6322 - val_accuracy: 0.7788\n",
            "\n",
            "Epoch 00073: val_accuracy did not improve from 0.79455\n",
            "Epoch 74/200\n",
            "213/213 [==============================] - 24s 111ms/step - loss: 0.4175 - accuracy: 0.8420 - val_loss: 0.5561 - val_accuracy: 0.8054\n",
            "\n",
            "Epoch 00074: val_accuracy improved from 0.79455 to 0.80535, saving model to /content/drive/MyDrive/building1/noWiFiBT27March5slots_200epochs_biDirLSTMDoubleDenseDropout/best_model.pkl\n"
          ],
          "name": "stdout"
        },
        {
          "output_type": "stream",
          "text": [
            "WARNING:absl:Found untraced functions such as lstm_cell_3_layer_call_and_return_conditional_losses, lstm_cell_3_layer_call_fn, lstm_cell_1_layer_call_and_return_conditional_losses, lstm_cell_1_layer_call_fn, lstm_cell_2_layer_call_and_return_conditional_losses while saving (showing 5 of 15). These functions will not be directly callable after loading.\n",
            "WARNING:absl:Found untraced functions such as lstm_cell_3_layer_call_and_return_conditional_losses, lstm_cell_3_layer_call_fn, lstm_cell_1_layer_call_and_return_conditional_losses, lstm_cell_1_layer_call_fn, lstm_cell_2_layer_call_and_return_conditional_losses while saving (showing 5 of 15). These functions will not be directly callable after loading.\n"
          ],
          "name": "stderr"
        },
        {
          "output_type": "stream",
          "text": [
            "INFO:tensorflow:Assets written to: /content/drive/MyDrive/building1/noWiFiBT27March5slots_200epochs_biDirLSTMDoubleDenseDropout/best_model.pkl/assets\n"
          ],
          "name": "stdout"
        },
        {
          "output_type": "stream",
          "text": [
            "INFO:tensorflow:Assets written to: /content/drive/MyDrive/building1/noWiFiBT27March5slots_200epochs_biDirLSTMDoubleDenseDropout/best_model.pkl/assets\n"
          ],
          "name": "stderr"
        },
        {
          "output_type": "stream",
          "text": [
            "Epoch 75/200\n",
            "213/213 [==============================] - 24s 111ms/step - loss: 0.3912 - accuracy: 0.8509 - val_loss: 0.7173 - val_accuracy: 0.7640\n",
            "\n",
            "Epoch 00075: val_accuracy did not improve from 0.80535\n",
            "Epoch 76/200\n",
            "213/213 [==============================] - 24s 112ms/step - loss: 0.4747 - accuracy: 0.8273 - val_loss: 0.6770 - val_accuracy: 0.7662\n",
            "\n",
            "Epoch 00076: val_accuracy did not improve from 0.80535\n",
            "Epoch 77/200\n",
            "213/213 [==============================] - 25s 116ms/step - loss: 0.4131 - accuracy: 0.8466 - val_loss: 0.6209 - val_accuracy: 0.7908\n",
            "\n",
            "Epoch 00077: val_accuracy did not improve from 0.80535\n",
            "Epoch 78/200\n",
            "213/213 [==============================] - 24s 113ms/step - loss: 0.3843 - accuracy: 0.8547 - val_loss: 0.6043 - val_accuracy: 0.7865\n",
            "\n",
            "Epoch 00078: val_accuracy did not improve from 0.80535\n",
            "Epoch 79/200\n",
            "213/213 [==============================] - 24s 113ms/step - loss: 0.3800 - accuracy: 0.8579 - val_loss: 0.6029 - val_accuracy: 0.7915\n",
            "\n",
            "Epoch 00079: val_accuracy did not improve from 0.80535\n",
            "Epoch 80/200\n",
            "213/213 [==============================] - 24s 113ms/step - loss: 0.3794 - accuracy: 0.8574 - val_loss: 0.6081 - val_accuracy: 0.7952\n",
            "\n",
            "Epoch 00080: val_accuracy did not improve from 0.80535\n",
            "Epoch 81/200\n",
            "213/213 [==============================] - 24s 114ms/step - loss: 0.3879 - accuracy: 0.8535 - val_loss: 0.5993 - val_accuracy: 0.7939\n",
            "\n",
            "Epoch 00081: val_accuracy did not improve from 0.80535\n",
            "Epoch 82/200\n",
            "213/213 [==============================] - 24s 112ms/step - loss: 0.3835 - accuracy: 0.8555 - val_loss: 0.6327 - val_accuracy: 0.7913\n",
            "\n",
            "Epoch 00082: val_accuracy did not improve from 0.80535\n",
            "Epoch 83/200\n",
            "213/213 [==============================] - 24s 111ms/step - loss: 0.3995 - accuracy: 0.8512 - val_loss: 0.6233 - val_accuracy: 0.7899\n",
            "\n",
            "Epoch 00083: val_accuracy did not improve from 0.80535\n",
            "Epoch 84/200\n",
            "213/213 [==============================] - 24s 114ms/step - loss: 0.3955 - accuracy: 0.8524 - val_loss: 0.6783 - val_accuracy: 0.7723\n",
            "\n",
            "Epoch 00084: val_accuracy did not improve from 0.80535\n",
            "Epoch 85/200\n",
            "213/213 [==============================] - 24s 114ms/step - loss: 0.3980 - accuracy: 0.8517 - val_loss: 0.5940 - val_accuracy: 0.7990\n",
            "\n",
            "Epoch 00085: val_accuracy did not improve from 0.80535\n",
            "Epoch 86/200\n",
            "213/213 [==============================] - 24s 113ms/step - loss: 0.3645 - accuracy: 0.8643 - val_loss: 0.5993 - val_accuracy: 0.7961\n",
            "\n",
            "Epoch 00086: val_accuracy did not improve from 0.80535\n",
            "Epoch 87/200\n",
            "213/213 [==============================] - 24s 115ms/step - loss: 0.3692 - accuracy: 0.8608 - val_loss: 0.6508 - val_accuracy: 0.7843\n",
            "\n",
            "Epoch 00087: val_accuracy did not improve from 0.80535\n",
            "Epoch 88/200\n",
            "213/213 [==============================] - 24s 112ms/step - loss: 0.4063 - accuracy: 0.8522 - val_loss: 0.5617 - val_accuracy: 0.8036\n",
            "\n",
            "Epoch 00088: val_accuracy did not improve from 0.80535\n",
            "Epoch 89/200\n",
            "213/213 [==============================] - 24s 113ms/step - loss: 0.3368 - accuracy: 0.8750 - val_loss: 0.5651 - val_accuracy: 0.8067\n",
            "\n",
            "Epoch 00089: val_accuracy improved from 0.80535 to 0.80672, saving model to /content/drive/MyDrive/building1/noWiFiBT27March5slots_200epochs_biDirLSTMDoubleDenseDropout/best_model.pkl\n"
          ],
          "name": "stdout"
        },
        {
          "output_type": "stream",
          "text": [
            "WARNING:absl:Found untraced functions such as lstm_cell_3_layer_call_and_return_conditional_losses, lstm_cell_3_layer_call_fn, lstm_cell_1_layer_call_and_return_conditional_losses, lstm_cell_1_layer_call_fn, lstm_cell_2_layer_call_and_return_conditional_losses while saving (showing 5 of 15). These functions will not be directly callable after loading.\n",
            "WARNING:absl:Found untraced functions such as lstm_cell_3_layer_call_and_return_conditional_losses, lstm_cell_3_layer_call_fn, lstm_cell_1_layer_call_and_return_conditional_losses, lstm_cell_1_layer_call_fn, lstm_cell_2_layer_call_and_return_conditional_losses while saving (showing 5 of 15). These functions will not be directly callable after loading.\n"
          ],
          "name": "stderr"
        },
        {
          "output_type": "stream",
          "text": [
            "INFO:tensorflow:Assets written to: /content/drive/MyDrive/building1/noWiFiBT27March5slots_200epochs_biDirLSTMDoubleDenseDropout/best_model.pkl/assets\n"
          ],
          "name": "stdout"
        },
        {
          "output_type": "stream",
          "text": [
            "INFO:tensorflow:Assets written to: /content/drive/MyDrive/building1/noWiFiBT27March5slots_200epochs_biDirLSTMDoubleDenseDropout/best_model.pkl/assets\n"
          ],
          "name": "stderr"
        },
        {
          "output_type": "stream",
          "text": [
            "Epoch 90/200\n",
            "213/213 [==============================] - 24s 115ms/step - loss: 0.3529 - accuracy: 0.8681 - val_loss: 0.5967 - val_accuracy: 0.7997\n",
            "\n",
            "Epoch 00090: val_accuracy did not improve from 0.80672\n",
            "Epoch 91/200\n",
            "213/213 [==============================] - 24s 112ms/step - loss: 0.3924 - accuracy: 0.8576 - val_loss: 0.6165 - val_accuracy: 0.7940\n",
            "\n",
            "Epoch 00091: val_accuracy did not improve from 0.80672\n",
            "Epoch 92/200\n",
            "213/213 [==============================] - 24s 114ms/step - loss: 0.3547 - accuracy: 0.8662 - val_loss: 0.6242 - val_accuracy: 0.7975\n",
            "\n",
            "Epoch 00092: val_accuracy did not improve from 0.80672\n",
            "Epoch 93/200\n",
            "213/213 [==============================] - 24s 113ms/step - loss: 0.3568 - accuracy: 0.8661 - val_loss: 0.8901 - val_accuracy: 0.7349\n",
            "\n",
            "Epoch 00093: val_accuracy did not improve from 0.80672\n",
            "Epoch 94/200\n",
            "213/213 [==============================] - 24s 112ms/step - loss: 0.3952 - accuracy: 0.8565 - val_loss: 0.5672 - val_accuracy: 0.8180\n",
            "\n",
            "Epoch 00094: val_accuracy improved from 0.80672 to 0.81804, saving model to /content/drive/MyDrive/building1/noWiFiBT27March5slots_200epochs_biDirLSTMDoubleDenseDropout/best_model.pkl\n"
          ],
          "name": "stdout"
        },
        {
          "output_type": "stream",
          "text": [
            "WARNING:absl:Found untraced functions such as lstm_cell_3_layer_call_and_return_conditional_losses, lstm_cell_3_layer_call_fn, lstm_cell_1_layer_call_and_return_conditional_losses, lstm_cell_1_layer_call_fn, lstm_cell_2_layer_call_and_return_conditional_losses while saving (showing 5 of 15). These functions will not be directly callable after loading.\n",
            "WARNING:absl:Found untraced functions such as lstm_cell_3_layer_call_and_return_conditional_losses, lstm_cell_3_layer_call_fn, lstm_cell_1_layer_call_and_return_conditional_losses, lstm_cell_1_layer_call_fn, lstm_cell_2_layer_call_and_return_conditional_losses while saving (showing 5 of 15). These functions will not be directly callable after loading.\n"
          ],
          "name": "stderr"
        },
        {
          "output_type": "stream",
          "text": [
            "INFO:tensorflow:Assets written to: /content/drive/MyDrive/building1/noWiFiBT27March5slots_200epochs_biDirLSTMDoubleDenseDropout/best_model.pkl/assets\n"
          ],
          "name": "stdout"
        },
        {
          "output_type": "stream",
          "text": [
            "INFO:tensorflow:Assets written to: /content/drive/MyDrive/building1/noWiFiBT27March5slots_200epochs_biDirLSTMDoubleDenseDropout/best_model.pkl/assets\n"
          ],
          "name": "stderr"
        },
        {
          "output_type": "stream",
          "text": [
            "Epoch 95/200\n",
            "213/213 [==============================] - 24s 114ms/step - loss: 0.3451 - accuracy: 0.8736 - val_loss: 0.5945 - val_accuracy: 0.8036\n",
            "\n",
            "Epoch 00095: val_accuracy did not improve from 0.81804\n",
            "Epoch 96/200\n",
            "213/213 [==============================] - 25s 115ms/step - loss: 0.3419 - accuracy: 0.8721 - val_loss: 0.6165 - val_accuracy: 0.7949\n",
            "\n",
            "Epoch 00096: val_accuracy did not improve from 0.81804\n",
            "Epoch 97/200\n",
            "213/213 [==============================] - 24s 113ms/step - loss: 0.3260 - accuracy: 0.8783 - val_loss: 0.6221 - val_accuracy: 0.7997\n",
            "\n",
            "Epoch 00097: val_accuracy did not improve from 0.81804\n",
            "Epoch 98/200\n",
            "213/213 [==============================] - 24s 113ms/step - loss: 0.3455 - accuracy: 0.8710 - val_loss: 0.6261 - val_accuracy: 0.7969\n",
            "\n",
            "Epoch 00098: val_accuracy did not improve from 0.81804\n",
            "Epoch 99/200\n",
            "213/213 [==============================] - 24s 114ms/step - loss: 0.3832 - accuracy: 0.8596 - val_loss: 0.6367 - val_accuracy: 0.7957\n",
            "\n",
            "Epoch 00099: val_accuracy did not improve from 0.81804\n",
            "Epoch 100/200\n",
            "213/213 [==============================] - 24s 114ms/step - loss: 0.3194 - accuracy: 0.8791 - val_loss: 0.5833 - val_accuracy: 0.8102\n",
            "\n",
            "Epoch 00100: val_accuracy did not improve from 0.81804\n",
            "Epoch 101/200\n",
            "213/213 [==============================] - 24s 113ms/step - loss: 0.3450 - accuracy: 0.8737 - val_loss: 0.6188 - val_accuracy: 0.7990\n",
            "\n",
            "Epoch 00101: val_accuracy did not improve from 0.81804\n",
            "Epoch 102/200\n",
            "213/213 [==============================] - 24s 114ms/step - loss: 0.3468 - accuracy: 0.8723 - val_loss: 0.6062 - val_accuracy: 0.8043\n",
            "\n",
            "Epoch 00102: val_accuracy did not improve from 0.81804\n",
            "Epoch 103/200\n",
            "213/213 [==============================] - 24s 114ms/step - loss: 0.3302 - accuracy: 0.8771 - val_loss: 0.6036 - val_accuracy: 0.7999\n",
            "\n",
            "Epoch 00103: val_accuracy did not improve from 0.81804\n",
            "Epoch 104/200\n",
            "213/213 [==============================] - 24s 113ms/step - loss: 0.2982 - accuracy: 0.8872 - val_loss: 0.5834 - val_accuracy: 0.8091\n",
            "\n",
            "Epoch 00104: val_accuracy did not improve from 0.81804\n",
            "Epoch 105/200\n",
            "213/213 [==============================] - 24s 113ms/step - loss: 0.2863 - accuracy: 0.8919 - val_loss: 0.6301 - val_accuracy: 0.8012\n",
            "\n",
            "Epoch 00105: val_accuracy did not improve from 0.81804\n",
            "Epoch 106/200\n",
            "213/213 [==============================] - 24s 113ms/step - loss: 0.3200 - accuracy: 0.8808 - val_loss: 0.5688 - val_accuracy: 0.8168\n",
            "\n",
            "Epoch 00106: val_accuracy did not improve from 0.81804\n",
            "Epoch 107/200\n",
            "213/213 [==============================] - 24s 111ms/step - loss: 0.3191 - accuracy: 0.8827 - val_loss: 0.6200 - val_accuracy: 0.8021\n",
            "\n",
            "Epoch 00107: val_accuracy did not improve from 0.81804\n",
            "Epoch 108/200\n",
            "213/213 [==============================] - 24s 113ms/step - loss: 0.2929 - accuracy: 0.8920 - val_loss: 0.6472 - val_accuracy: 0.7964\n",
            "\n",
            "Epoch 00108: val_accuracy did not improve from 0.81804\n",
            "Epoch 109/200\n",
            "213/213 [==============================] - 24s 113ms/step - loss: 0.3208 - accuracy: 0.8827 - val_loss: 0.7461 - val_accuracy: 0.7784\n",
            "\n",
            "Epoch 00109: val_accuracy did not improve from 0.81804\n",
            "Epoch 110/200\n",
            "213/213 [==============================] - 24s 112ms/step - loss: 0.3931 - accuracy: 0.8642 - val_loss: 0.5786 - val_accuracy: 0.8153\n",
            "\n",
            "Epoch 00110: val_accuracy did not improve from 0.81804\n",
            "Epoch 111/200\n",
            "213/213 [==============================] - 24s 112ms/step - loss: 0.2807 - accuracy: 0.8969 - val_loss: 0.6637 - val_accuracy: 0.7911\n",
            "\n",
            "Epoch 00111: val_accuracy did not improve from 0.81804\n",
            "Epoch 112/200\n",
            "213/213 [==============================] - 24s 113ms/step - loss: 0.3277 - accuracy: 0.8785 - val_loss: 0.5793 - val_accuracy: 0.8136\n",
            "\n",
            "Epoch 00112: val_accuracy did not improve from 0.81804\n",
            "Epoch 113/200\n",
            "213/213 [==============================] - 24s 114ms/step - loss: 0.2891 - accuracy: 0.8942 - val_loss: 0.5856 - val_accuracy: 0.8156\n",
            "\n",
            "Epoch 00113: val_accuracy did not improve from 0.81804\n",
            "Epoch 114/200\n",
            "213/213 [==============================] - 24s 112ms/step - loss: 0.2829 - accuracy: 0.8953 - val_loss: 0.5870 - val_accuracy: 0.8160\n",
            "\n",
            "Epoch 00114: val_accuracy did not improve from 0.81804\n",
            "Epoch 115/200\n",
            "213/213 [==============================] - 24s 111ms/step - loss: 0.2773 - accuracy: 0.8971 - val_loss: 0.5817 - val_accuracy: 0.8227\n",
            "\n",
            "Epoch 00115: val_accuracy improved from 0.81804 to 0.82267, saving model to /content/drive/MyDrive/building1/noWiFiBT27March5slots_200epochs_biDirLSTMDoubleDenseDropout/best_model.pkl\n"
          ],
          "name": "stdout"
        },
        {
          "output_type": "stream",
          "text": [
            "WARNING:absl:Found untraced functions such as lstm_cell_3_layer_call_and_return_conditional_losses, lstm_cell_3_layer_call_fn, lstm_cell_1_layer_call_and_return_conditional_losses, lstm_cell_1_layer_call_fn, lstm_cell_2_layer_call_and_return_conditional_losses while saving (showing 5 of 15). These functions will not be directly callable after loading.\n",
            "WARNING:absl:Found untraced functions such as lstm_cell_3_layer_call_and_return_conditional_losses, lstm_cell_3_layer_call_fn, lstm_cell_1_layer_call_and_return_conditional_losses, lstm_cell_1_layer_call_fn, lstm_cell_2_layer_call_and_return_conditional_losses while saving (showing 5 of 15). These functions will not be directly callable after loading.\n"
          ],
          "name": "stderr"
        },
        {
          "output_type": "stream",
          "text": [
            "INFO:tensorflow:Assets written to: /content/drive/MyDrive/building1/noWiFiBT27March5slots_200epochs_biDirLSTMDoubleDenseDropout/best_model.pkl/assets\n"
          ],
          "name": "stdout"
        },
        {
          "output_type": "stream",
          "text": [
            "INFO:tensorflow:Assets written to: /content/drive/MyDrive/building1/noWiFiBT27March5slots_200epochs_biDirLSTMDoubleDenseDropout/best_model.pkl/assets\n"
          ],
          "name": "stderr"
        },
        {
          "output_type": "stream",
          "text": [
            "Epoch 116/200\n",
            "213/213 [==============================] - 24s 113ms/step - loss: 0.2746 - accuracy: 0.9003 - val_loss: 0.5856 - val_accuracy: 0.8191\n",
            "\n",
            "Epoch 00116: val_accuracy did not improve from 0.82267\n",
            "Epoch 117/200\n",
            "213/213 [==============================] - 24s 112ms/step - loss: 0.2616 - accuracy: 0.8998 - val_loss: 0.6530 - val_accuracy: 0.8023\n",
            "\n",
            "Epoch 00117: val_accuracy did not improve from 0.82267\n",
            "Epoch 118/200\n",
            "213/213 [==============================] - 24s 112ms/step - loss: 0.2733 - accuracy: 0.8984 - val_loss: 0.6342 - val_accuracy: 0.8038\n",
            "\n",
            "Epoch 00118: val_accuracy did not improve from 0.82267\n",
            "Epoch 119/200\n",
            "213/213 [==============================] - 24s 112ms/step - loss: 0.2866 - accuracy: 0.8967 - val_loss: 0.6535 - val_accuracy: 0.7973\n",
            "\n",
            "Epoch 00119: val_accuracy did not improve from 0.82267\n",
            "Epoch 120/200\n",
            "213/213 [==============================] - 24s 114ms/step - loss: 0.3330 - accuracy: 0.8789 - val_loss: 0.5969 - val_accuracy: 0.8138\n",
            "\n",
            "Epoch 00120: val_accuracy did not improve from 0.82267\n",
            "Epoch 121/200\n",
            "213/213 [==============================] - 24s 114ms/step - loss: 0.2673 - accuracy: 0.9009 - val_loss: 0.6088 - val_accuracy: 0.8105\n",
            "\n",
            "Epoch 00121: val_accuracy did not improve from 0.82267\n",
            "Epoch 122/200\n",
            "213/213 [==============================] - 24s 114ms/step - loss: 0.2612 - accuracy: 0.9004 - val_loss: 0.6041 - val_accuracy: 0.8150\n",
            "\n",
            "Epoch 00122: val_accuracy did not improve from 0.82267\n",
            "Epoch 123/200\n",
            "213/213 [==============================] - 24s 114ms/step - loss: 0.2630 - accuracy: 0.9013 - val_loss: 0.7341 - val_accuracy: 0.7867\n",
            "\n",
            "Epoch 00123: val_accuracy did not improve from 0.82267\n",
            "Epoch 124/200\n",
            "213/213 [==============================] - 24s 112ms/step - loss: 0.3880 - accuracy: 0.8692 - val_loss: 0.6129 - val_accuracy: 0.8105\n",
            "\n",
            "Epoch 00124: val_accuracy did not improve from 0.82267\n",
            "Epoch 125/200\n",
            "213/213 [==============================] - 24s 113ms/step - loss: 0.2480 - accuracy: 0.9085 - val_loss: 0.6362 - val_accuracy: 0.8136\n",
            "\n",
            "Epoch 00125: val_accuracy did not improve from 0.82267\n",
            "Epoch 126/200\n",
            "213/213 [==============================] - 24s 114ms/step - loss: 0.2902 - accuracy: 0.8930 - val_loss: 0.6278 - val_accuracy: 0.8146\n",
            "\n",
            "Epoch 00126: val_accuracy did not improve from 0.82267\n",
            "Epoch 127/200\n",
            "213/213 [==============================] - 24s 114ms/step - loss: 0.2837 - accuracy: 0.8963 - val_loss: 0.5861 - val_accuracy: 0.8222\n",
            "\n",
            "Epoch 00127: val_accuracy did not improve from 0.82267\n",
            "Epoch 128/200\n",
            "213/213 [==============================] - 24s 113ms/step - loss: 0.2559 - accuracy: 0.9053 - val_loss: 0.5705 - val_accuracy: 0.8307\n",
            "\n",
            "Epoch 00128: val_accuracy improved from 0.82267 to 0.83073, saving model to /content/drive/MyDrive/building1/noWiFiBT27March5slots_200epochs_biDirLSTMDoubleDenseDropout/best_model.pkl\n"
          ],
          "name": "stdout"
        },
        {
          "output_type": "stream",
          "text": [
            "WARNING:absl:Found untraced functions such as lstm_cell_3_layer_call_and_return_conditional_losses, lstm_cell_3_layer_call_fn, lstm_cell_1_layer_call_and_return_conditional_losses, lstm_cell_1_layer_call_fn, lstm_cell_2_layer_call_and_return_conditional_losses while saving (showing 5 of 15). These functions will not be directly callable after loading.\n",
            "WARNING:absl:Found untraced functions such as lstm_cell_3_layer_call_and_return_conditional_losses, lstm_cell_3_layer_call_fn, lstm_cell_1_layer_call_and_return_conditional_losses, lstm_cell_1_layer_call_fn, lstm_cell_2_layer_call_and_return_conditional_losses while saving (showing 5 of 15). These functions will not be directly callable after loading.\n"
          ],
          "name": "stderr"
        },
        {
          "output_type": "stream",
          "text": [
            "INFO:tensorflow:Assets written to: /content/drive/MyDrive/building1/noWiFiBT27March5slots_200epochs_biDirLSTMDoubleDenseDropout/best_model.pkl/assets\n"
          ],
          "name": "stdout"
        },
        {
          "output_type": "stream",
          "text": [
            "INFO:tensorflow:Assets written to: /content/drive/MyDrive/building1/noWiFiBT27March5slots_200epochs_biDirLSTMDoubleDenseDropout/best_model.pkl/assets\n"
          ],
          "name": "stderr"
        },
        {
          "output_type": "stream",
          "text": [
            "Epoch 129/200\n",
            "213/213 [==============================] - 24s 114ms/step - loss: 0.2714 - accuracy: 0.9048 - val_loss: 0.6560 - val_accuracy: 0.8017\n",
            "\n",
            "Epoch 00129: val_accuracy did not improve from 0.83073\n",
            "Epoch 130/200\n",
            "213/213 [==============================] - 24s 112ms/step - loss: 0.2617 - accuracy: 0.9009 - val_loss: 0.5807 - val_accuracy: 0.8210\n",
            "\n",
            "Epoch 00130: val_accuracy did not improve from 0.83073\n",
            "Epoch 131/200\n",
            "213/213 [==============================] - 24s 112ms/step - loss: 0.2543 - accuracy: 0.9085 - val_loss: 0.5750 - val_accuracy: 0.8230\n",
            "\n",
            "Epoch 00131: val_accuracy did not improve from 0.83073\n",
            "Epoch 132/200\n",
            "213/213 [==============================] - 25s 115ms/step - loss: 0.2667 - accuracy: 0.9054 - val_loss: 0.6324 - val_accuracy: 0.8179\n",
            "\n",
            "Epoch 00132: val_accuracy did not improve from 0.83073\n",
            "Epoch 133/200\n",
            "213/213 [==============================] - 24s 113ms/step - loss: 0.2536 - accuracy: 0.9053 - val_loss: 0.6327 - val_accuracy: 0.8136\n",
            "\n",
            "Epoch 00133: val_accuracy did not improve from 0.83073\n",
            "Epoch 134/200\n",
            "213/213 [==============================] - 24s 114ms/step - loss: 0.3250 - accuracy: 0.8876 - val_loss: 0.5751 - val_accuracy: 0.8259\n",
            "\n",
            "Epoch 00134: val_accuracy did not improve from 0.83073\n",
            "Epoch 135/200\n",
            "213/213 [==============================] - 24s 114ms/step - loss: 0.2237 - accuracy: 0.9211 - val_loss: 0.5695 - val_accuracy: 0.8285\n",
            "\n",
            "Epoch 00135: val_accuracy did not improve from 0.83073\n",
            "Epoch 136/200\n",
            "213/213 [==============================] - 24s 112ms/step - loss: 0.2778 - accuracy: 0.9037 - val_loss: 0.5831 - val_accuracy: 0.8280\n",
            "\n",
            "Epoch 00136: val_accuracy did not improve from 0.83073\n",
            "Epoch 137/200\n",
            "213/213 [==============================] - 24s 112ms/step - loss: 0.2719 - accuracy: 0.9024 - val_loss: 0.6006 - val_accuracy: 0.8225\n",
            "\n",
            "Epoch 00137: val_accuracy did not improve from 0.83073\n",
            "Epoch 138/200\n",
            "213/213 [==============================] - 24s 113ms/step - loss: 0.2344 - accuracy: 0.9135 - val_loss: 0.5870 - val_accuracy: 0.8271\n",
            "\n",
            "Epoch 00138: val_accuracy did not improve from 0.83073\n",
            "Epoch 139/200\n",
            "213/213 [==============================] - 24s 112ms/step - loss: 0.2577 - accuracy: 0.9084 - val_loss: 0.6743 - val_accuracy: 0.8057\n",
            "\n",
            "Epoch 00139: val_accuracy did not improve from 0.83073\n",
            "Epoch 140/200\n",
            "213/213 [==============================] - 24s 112ms/step - loss: 0.2602 - accuracy: 0.9061 - val_loss: 0.7270 - val_accuracy: 0.7918\n",
            "\n",
            "Epoch 00140: val_accuracy did not improve from 0.83073\n",
            "Epoch 141/200\n",
            "213/213 [==============================] - 24s 113ms/step - loss: 0.2676 - accuracy: 0.9041 - val_loss: 0.5753 - val_accuracy: 0.8295\n",
            "\n",
            "Epoch 00141: val_accuracy did not improve from 0.83073\n",
            "Epoch 142/200\n",
            "213/213 [==============================] - 24s 114ms/step - loss: 0.2223 - accuracy: 0.9182 - val_loss: 0.6023 - val_accuracy: 0.8273\n",
            "\n",
            "Epoch 00142: val_accuracy did not improve from 0.83073\n",
            "Epoch 143/200\n",
            "213/213 [==============================] - 24s 112ms/step - loss: 0.2348 - accuracy: 0.9137 - val_loss: 0.6369 - val_accuracy: 0.8144\n",
            "\n",
            "Epoch 00143: val_accuracy did not improve from 0.83073\n",
            "Epoch 144/200\n",
            "213/213 [==============================] - 24s 114ms/step - loss: 0.2568 - accuracy: 0.9063 - val_loss: 0.5853 - val_accuracy: 0.8275\n",
            "\n",
            "Epoch 00144: val_accuracy did not improve from 0.83073\n",
            "Epoch 145/200\n",
            "213/213 [==============================] - 24s 115ms/step - loss: 0.2332 - accuracy: 0.9174 - val_loss: 0.5813 - val_accuracy: 0.8331\n",
            "\n",
            "Epoch 00145: val_accuracy improved from 0.83073 to 0.83313, saving model to /content/drive/MyDrive/building1/noWiFiBT27March5slots_200epochs_biDirLSTMDoubleDenseDropout/best_model.pkl\n"
          ],
          "name": "stdout"
        },
        {
          "output_type": "stream",
          "text": [
            "WARNING:absl:Found untraced functions such as lstm_cell_3_layer_call_and_return_conditional_losses, lstm_cell_3_layer_call_fn, lstm_cell_1_layer_call_and_return_conditional_losses, lstm_cell_1_layer_call_fn, lstm_cell_2_layer_call_and_return_conditional_losses while saving (showing 5 of 15). These functions will not be directly callable after loading.\n",
            "WARNING:absl:Found untraced functions such as lstm_cell_3_layer_call_and_return_conditional_losses, lstm_cell_3_layer_call_fn, lstm_cell_1_layer_call_and_return_conditional_losses, lstm_cell_1_layer_call_fn, lstm_cell_2_layer_call_and_return_conditional_losses while saving (showing 5 of 15). These functions will not be directly callable after loading.\n"
          ],
          "name": "stderr"
        },
        {
          "output_type": "stream",
          "text": [
            "INFO:tensorflow:Assets written to: /content/drive/MyDrive/building1/noWiFiBT27March5slots_200epochs_biDirLSTMDoubleDenseDropout/best_model.pkl/assets\n"
          ],
          "name": "stdout"
        },
        {
          "output_type": "stream",
          "text": [
            "INFO:tensorflow:Assets written to: /content/drive/MyDrive/building1/noWiFiBT27March5slots_200epochs_biDirLSTMDoubleDenseDropout/best_model.pkl/assets\n"
          ],
          "name": "stderr"
        },
        {
          "output_type": "stream",
          "text": [
            "Epoch 146/200\n",
            "213/213 [==============================] - 24s 113ms/step - loss: 0.2252 - accuracy: 0.9182 - val_loss: 0.5867 - val_accuracy: 0.8299\n",
            "\n",
            "Epoch 00146: val_accuracy did not improve from 0.83313\n",
            "Epoch 147/200\n",
            "213/213 [==============================] - 24s 112ms/step - loss: 0.2215 - accuracy: 0.9194 - val_loss: 0.6325 - val_accuracy: 0.8192\n",
            "\n",
            "Epoch 00147: val_accuracy did not improve from 0.83313\n",
            "Epoch 148/200\n",
            "213/213 [==============================] - 24s 111ms/step - loss: 0.2321 - accuracy: 0.9149 - val_loss: 0.6244 - val_accuracy: 0.8187\n",
            "\n",
            "Epoch 00148: val_accuracy did not improve from 0.83313\n",
            "Epoch 149/200\n",
            "213/213 [==============================] - 23s 110ms/step - loss: 0.2494 - accuracy: 0.9094 - val_loss: 0.5973 - val_accuracy: 0.8318\n",
            "\n",
            "Epoch 00149: val_accuracy did not improve from 0.83313\n",
            "Epoch 150/200\n",
            "213/213 [==============================] - 23s 110ms/step - loss: 0.2273 - accuracy: 0.9206 - val_loss: 0.6046 - val_accuracy: 0.8220\n",
            "\n",
            "Epoch 00150: val_accuracy did not improve from 0.83313\n",
            "Epoch 151/200\n",
            "213/213 [==============================] - 24s 111ms/step - loss: 0.1879 - accuracy: 0.9315 - val_loss: 0.6342 - val_accuracy: 0.8228\n",
            "\n",
            "Epoch 00151: val_accuracy did not improve from 0.83313\n",
            "Epoch 152/200\n",
            "213/213 [==============================] - 24s 111ms/step - loss: 0.2536 - accuracy: 0.9106 - val_loss: 0.6461 - val_accuracy: 0.8096\n",
            "\n",
            "Epoch 00152: val_accuracy did not improve from 0.83313\n",
            "Epoch 153/200\n",
            "213/213 [==============================] - 24s 112ms/step - loss: 0.2427 - accuracy: 0.9118 - val_loss: 0.5855 - val_accuracy: 0.8290\n",
            "\n",
            "Epoch 00153: val_accuracy did not improve from 0.83313\n",
            "Epoch 154/200\n",
            "213/213 [==============================] - 24s 110ms/step - loss: 0.2092 - accuracy: 0.9245 - val_loss: 0.6395 - val_accuracy: 0.8237\n",
            "\n",
            "Epoch 00154: val_accuracy did not improve from 0.83313\n",
            "Epoch 155/200\n",
            "213/213 [==============================] - 24s 111ms/step - loss: 0.2306 - accuracy: 0.9164 - val_loss: 0.6067 - val_accuracy: 0.8259\n",
            "\n",
            "Epoch 00155: val_accuracy did not improve from 0.83313\n",
            "Epoch 156/200\n",
            "213/213 [==============================] - 24s 110ms/step - loss: 0.2282 - accuracy: 0.9172 - val_loss: 0.6920 - val_accuracy: 0.8040\n",
            "\n",
            "Epoch 00156: val_accuracy did not improve from 0.83313\n",
            "Epoch 157/200\n",
            "213/213 [==============================] - 24s 111ms/step - loss: 0.2025 - accuracy: 0.9269 - val_loss: 0.6384 - val_accuracy: 0.8234\n",
            "\n",
            "Epoch 00157: val_accuracy did not improve from 0.83313\n",
            "Epoch 158/200\n",
            "213/213 [==============================] - 24s 112ms/step - loss: 0.2493 - accuracy: 0.9131 - val_loss: 0.5742 - val_accuracy: 0.8352\n",
            "\n",
            "Epoch 00158: val_accuracy improved from 0.83313 to 0.83519, saving model to /content/drive/MyDrive/building1/noWiFiBT27March5slots_200epochs_biDirLSTMDoubleDenseDropout/best_model.pkl\n"
          ],
          "name": "stdout"
        },
        {
          "output_type": "stream",
          "text": [
            "WARNING:absl:Found untraced functions such as lstm_cell_3_layer_call_and_return_conditional_losses, lstm_cell_3_layer_call_fn, lstm_cell_1_layer_call_and_return_conditional_losses, lstm_cell_1_layer_call_fn, lstm_cell_2_layer_call_and_return_conditional_losses while saving (showing 5 of 15). These functions will not be directly callable after loading.\n",
            "WARNING:absl:Found untraced functions such as lstm_cell_3_layer_call_and_return_conditional_losses, lstm_cell_3_layer_call_fn, lstm_cell_1_layer_call_and_return_conditional_losses, lstm_cell_1_layer_call_fn, lstm_cell_2_layer_call_and_return_conditional_losses while saving (showing 5 of 15). These functions will not be directly callable after loading.\n"
          ],
          "name": "stderr"
        },
        {
          "output_type": "stream",
          "text": [
            "INFO:tensorflow:Assets written to: /content/drive/MyDrive/building1/noWiFiBT27March5slots_200epochs_biDirLSTMDoubleDenseDropout/best_model.pkl/assets\n"
          ],
          "name": "stdout"
        },
        {
          "output_type": "stream",
          "text": [
            "INFO:tensorflow:Assets written to: /content/drive/MyDrive/building1/noWiFiBT27March5slots_200epochs_biDirLSTMDoubleDenseDropout/best_model.pkl/assets\n"
          ],
          "name": "stderr"
        },
        {
          "output_type": "stream",
          "text": [
            "Epoch 159/200\n",
            "213/213 [==============================] - 24s 114ms/step - loss: 0.2272 - accuracy: 0.9188 - val_loss: 0.6594 - val_accuracy: 0.8100\n",
            "\n",
            "Epoch 00159: val_accuracy did not improve from 0.83519\n",
            "Epoch 160/200\n",
            "213/213 [==============================] - 24s 112ms/step - loss: 0.2274 - accuracy: 0.9190 - val_loss: 0.6182 - val_accuracy: 0.8266\n",
            "\n",
            "Epoch 00160: val_accuracy did not improve from 0.83519\n",
            "Epoch 161/200\n",
            "213/213 [==============================] - 24s 112ms/step - loss: 0.2330 - accuracy: 0.9162 - val_loss: 0.6503 - val_accuracy: 0.8180\n",
            "\n",
            "Epoch 00161: val_accuracy did not improve from 0.83519\n",
            "Epoch 162/200\n",
            "213/213 [==============================] - 24s 111ms/step - loss: 0.1982 - accuracy: 0.9290 - val_loss: 0.6103 - val_accuracy: 0.8306\n",
            "\n",
            "Epoch 00162: val_accuracy did not improve from 0.83519\n",
            "Epoch 163/200\n",
            "213/213 [==============================] - 24s 112ms/step - loss: 0.2105 - accuracy: 0.9257 - val_loss: 0.6750 - val_accuracy: 0.8175\n",
            "\n",
            "Epoch 00163: val_accuracy did not improve from 0.83519\n",
            "Epoch 164/200\n",
            "213/213 [==============================] - 24s 113ms/step - loss: 0.2527 - accuracy: 0.9162 - val_loss: 0.6168 - val_accuracy: 0.8282\n",
            "\n",
            "Epoch 00164: val_accuracy did not improve from 0.83519\n",
            "Epoch 165/200\n",
            "213/213 [==============================] - 24s 112ms/step - loss: 0.2080 - accuracy: 0.9231 - val_loss: 0.6190 - val_accuracy: 0.8186\n",
            "\n",
            "Epoch 00165: val_accuracy did not improve from 0.83519\n",
            "Epoch 166/200\n",
            "213/213 [==============================] - 24s 112ms/step - loss: 0.2042 - accuracy: 0.9252 - val_loss: 0.6277 - val_accuracy: 0.8211\n",
            "\n",
            "Epoch 00166: val_accuracy did not improve from 0.83519\n",
            "Epoch 167/200\n",
            "213/213 [==============================] - 23s 110ms/step - loss: 0.2282 - accuracy: 0.9190 - val_loss: 0.6333 - val_accuracy: 0.8261\n",
            "\n",
            "Epoch 00167: val_accuracy did not improve from 0.83519\n",
            "Epoch 168/200\n",
            "213/213 [==============================] - 24s 112ms/step - loss: 0.1908 - accuracy: 0.9316 - val_loss: 0.6470 - val_accuracy: 0.8208\n",
            "\n",
            "Epoch 00168: val_accuracy did not improve from 0.83519\n",
            "Epoch 169/200\n",
            "213/213 [==============================] - 24s 112ms/step - loss: 0.2425 - accuracy: 0.9146 - val_loss: 0.6064 - val_accuracy: 0.8288\n",
            "\n",
            "Epoch 00169: val_accuracy did not improve from 0.83519\n",
            "Epoch 170/200\n",
            "213/213 [==============================] - 24s 112ms/step - loss: 0.1763 - accuracy: 0.9342 - val_loss: 0.6181 - val_accuracy: 0.8307\n",
            "\n",
            "Epoch 00170: val_accuracy did not improve from 0.83519\n",
            "Epoch 171/200\n",
            "213/213 [==============================] - 24s 112ms/step - loss: 0.2290 - accuracy: 0.9227 - val_loss: 0.6343 - val_accuracy: 0.8244\n",
            "\n",
            "Epoch 00171: val_accuracy did not improve from 0.83519\n",
            "Epoch 172/200\n",
            "213/213 [==============================] - 24s 112ms/step - loss: 0.2042 - accuracy: 0.9280 - val_loss: 0.6513 - val_accuracy: 0.8204\n",
            "\n",
            "Epoch 00172: val_accuracy did not improve from 0.83519\n",
            "Epoch 173/200\n",
            "213/213 [==============================] - 24s 111ms/step - loss: 0.2104 - accuracy: 0.9236 - val_loss: 0.6646 - val_accuracy: 0.8208\n",
            "\n",
            "Epoch 00173: val_accuracy did not improve from 0.83519\n",
            "Epoch 174/200\n",
            "213/213 [==============================] - 24s 113ms/step - loss: 0.2399 - accuracy: 0.9159 - val_loss: 0.6217 - val_accuracy: 0.8261\n",
            "\n",
            "Epoch 00174: val_accuracy did not improve from 0.83519\n",
            "Epoch 175/200\n",
            "213/213 [==============================] - 24s 112ms/step - loss: 0.1970 - accuracy: 0.9308 - val_loss: 0.6462 - val_accuracy: 0.8259\n",
            "\n",
            "Epoch 00175: val_accuracy did not improve from 0.83519\n",
            "Epoch 176/200\n",
            "213/213 [==============================] - 24s 112ms/step - loss: 0.1897 - accuracy: 0.9306 - val_loss: 0.6608 - val_accuracy: 0.8160\n",
            "\n",
            "Epoch 00176: val_accuracy did not improve from 0.83519\n",
            "Epoch 177/200\n",
            "213/213 [==============================] - 24s 111ms/step - loss: 0.1868 - accuracy: 0.9309 - val_loss: 0.6464 - val_accuracy: 0.8237\n",
            "\n",
            "Epoch 00177: val_accuracy did not improve from 0.83519\n",
            "Epoch 178/200\n",
            "213/213 [==============================] - 24s 112ms/step - loss: 0.1913 - accuracy: 0.9314 - val_loss: 0.6386 - val_accuracy: 0.8280\n",
            "\n",
            "Epoch 00178: val_accuracy did not improve from 0.83519\n",
            "Epoch 179/200\n",
            "213/213 [==============================] - 24s 111ms/step - loss: 0.1911 - accuracy: 0.9307 - val_loss: 0.6451 - val_accuracy: 0.8302\n",
            "\n",
            "Epoch 00179: val_accuracy did not improve from 0.83519\n",
            "Epoch 180/200\n",
            "213/213 [==============================] - 24s 111ms/step - loss: 0.1817 - accuracy: 0.9351 - val_loss: 0.6503 - val_accuracy: 0.8304\n",
            "\n",
            "Epoch 00180: val_accuracy did not improve from 0.83519\n",
            "Epoch 181/200\n",
            "213/213 [==============================] - 24s 112ms/step - loss: 0.2259 - accuracy: 0.9222 - val_loss: 0.6239 - val_accuracy: 0.8340\n",
            "\n",
            "Epoch 00181: val_accuracy did not improve from 0.83519\n",
            "Epoch 182/200\n",
            "213/213 [==============================] - 24s 113ms/step - loss: 0.2164 - accuracy: 0.9240 - val_loss: 0.6500 - val_accuracy: 0.8244\n",
            "\n",
            "Epoch 00182: val_accuracy did not improve from 0.83519\n",
            "Epoch 183/200\n",
            "213/213 [==============================] - 24s 111ms/step - loss: 0.2409 - accuracy: 0.9188 - val_loss: 0.6021 - val_accuracy: 0.8354\n",
            "\n",
            "Epoch 00183: val_accuracy improved from 0.83519 to 0.83536, saving model to /content/drive/MyDrive/building1/noWiFiBT27March5slots_200epochs_biDirLSTMDoubleDenseDropout/best_model.pkl\n"
          ],
          "name": "stdout"
        },
        {
          "output_type": "stream",
          "text": [
            "WARNING:absl:Found untraced functions such as lstm_cell_3_layer_call_and_return_conditional_losses, lstm_cell_3_layer_call_fn, lstm_cell_1_layer_call_and_return_conditional_losses, lstm_cell_1_layer_call_fn, lstm_cell_2_layer_call_and_return_conditional_losses while saving (showing 5 of 15). These functions will not be directly callable after loading.\n",
            "WARNING:absl:Found untraced functions such as lstm_cell_3_layer_call_and_return_conditional_losses, lstm_cell_3_layer_call_fn, lstm_cell_1_layer_call_and_return_conditional_losses, lstm_cell_1_layer_call_fn, lstm_cell_2_layer_call_and_return_conditional_losses while saving (showing 5 of 15). These functions will not be directly callable after loading.\n"
          ],
          "name": "stderr"
        },
        {
          "output_type": "stream",
          "text": [
            "INFO:tensorflow:Assets written to: /content/drive/MyDrive/building1/noWiFiBT27March5slots_200epochs_biDirLSTMDoubleDenseDropout/best_model.pkl/assets\n"
          ],
          "name": "stdout"
        },
        {
          "output_type": "stream",
          "text": [
            "INFO:tensorflow:Assets written to: /content/drive/MyDrive/building1/noWiFiBT27March5slots_200epochs_biDirLSTMDoubleDenseDropout/best_model.pkl/assets\n"
          ],
          "name": "stderr"
        },
        {
          "output_type": "stream",
          "text": [
            "Epoch 184/200\n",
            "213/213 [==============================] - 24s 113ms/step - loss: 0.1792 - accuracy: 0.9346 - val_loss: 0.6577 - val_accuracy: 0.8244\n",
            "\n",
            "Epoch 00184: val_accuracy did not improve from 0.83536\n",
            "Epoch 185/200\n",
            "213/213 [==============================] - 24s 111ms/step - loss: 0.1748 - accuracy: 0.9371 - val_loss: 0.6524 - val_accuracy: 0.8249\n",
            "\n",
            "Epoch 00185: val_accuracy did not improve from 0.83536\n",
            "Epoch 186/200\n",
            "213/213 [==============================] - 24s 112ms/step - loss: 0.1940 - accuracy: 0.9295 - val_loss: 0.6683 - val_accuracy: 0.8251\n",
            "\n",
            "Epoch 00186: val_accuracy did not improve from 0.83536\n",
            "Epoch 187/200\n",
            "213/213 [==============================] - 24s 111ms/step - loss: 0.1740 - accuracy: 0.9371 - val_loss: 0.6601 - val_accuracy: 0.8290\n",
            "\n",
            "Epoch 00187: val_accuracy did not improve from 0.83536\n",
            "Epoch 188/200\n",
            "213/213 [==============================] - 24s 111ms/step - loss: 0.1927 - accuracy: 0.9337 - val_loss: 0.6438 - val_accuracy: 0.8316\n",
            "\n",
            "Epoch 00188: val_accuracy did not improve from 0.83536\n",
            "Epoch 189/200\n",
            "213/213 [==============================] - 24s 111ms/step - loss: 0.2005 - accuracy: 0.9312 - val_loss: 0.7150 - val_accuracy: 0.8066\n",
            "\n",
            "Epoch 00189: val_accuracy did not improve from 0.83536\n",
            "Epoch 190/200\n",
            "213/213 [==============================] - 24s 111ms/step - loss: 0.1843 - accuracy: 0.9351 - val_loss: 0.6152 - val_accuracy: 0.8311\n",
            "\n",
            "Epoch 00190: val_accuracy did not improve from 0.83536\n",
            "Epoch 191/200\n",
            "213/213 [==============================] - 24s 111ms/step - loss: 0.1722 - accuracy: 0.9409 - val_loss: 0.6522 - val_accuracy: 0.8215\n",
            "\n",
            "Epoch 00191: val_accuracy did not improve from 0.83536\n",
            "Epoch 192/200\n",
            "213/213 [==============================] - 23s 109ms/step - loss: 0.1678 - accuracy: 0.9394 - val_loss: 0.6956 - val_accuracy: 0.8222\n",
            "\n",
            "Epoch 00192: val_accuracy did not improve from 0.83536\n",
            "Epoch 193/200\n",
            "213/213 [==============================] - 23s 110ms/step - loss: 0.1876 - accuracy: 0.9346 - val_loss: 0.6727 - val_accuracy: 0.8174\n",
            "\n",
            "Epoch 00193: val_accuracy did not improve from 0.83536\n",
            "Epoch 194/200\n",
            "213/213 [==============================] - 24s 111ms/step - loss: 0.1982 - accuracy: 0.9300 - val_loss: 0.6608 - val_accuracy: 0.8270\n",
            "\n",
            "Epoch 00194: val_accuracy did not improve from 0.83536\n",
            "Epoch 195/200\n",
            "213/213 [==============================] - 24s 111ms/step - loss: 0.1833 - accuracy: 0.9342 - val_loss: 0.6298 - val_accuracy: 0.8352\n",
            "\n",
            "Epoch 00195: val_accuracy did not improve from 0.83536\n",
            "Epoch 196/200\n",
            "213/213 [==============================] - 23s 110ms/step - loss: 0.1568 - accuracy: 0.9448 - val_loss: 0.6515 - val_accuracy: 0.8295\n",
            "\n",
            "Epoch 00196: val_accuracy did not improve from 0.83536\n",
            "Epoch 197/200\n",
            "213/213 [==============================] - 23s 110ms/step - loss: 0.1938 - accuracy: 0.9307 - val_loss: 0.6427 - val_accuracy: 0.8297\n",
            "\n",
            "Epoch 00197: val_accuracy did not improve from 0.83536\n",
            "Epoch 198/200\n",
            "213/213 [==============================] - 24s 111ms/step - loss: 0.1711 - accuracy: 0.9398 - val_loss: 0.8821 - val_accuracy: 0.7868\n",
            "\n",
            "Epoch 00198: val_accuracy did not improve from 0.83536\n",
            "Epoch 199/200\n",
            "213/213 [==============================] - 24s 111ms/step - loss: 0.2097 - accuracy: 0.9291 - val_loss: 0.6637 - val_accuracy: 0.8290\n",
            "\n",
            "Epoch 00199: val_accuracy did not improve from 0.83536\n",
            "Epoch 200/200\n",
            "213/213 [==============================] - 23s 109ms/step - loss: 0.1643 - accuracy: 0.9398 - val_loss: 0.6363 - val_accuracy: 0.8324\n",
            "\n",
            "Epoch 00200: val_accuracy did not improve from 0.83536\n"
          ],
          "name": "stdout"
        }
      ]
    },
    {
      "cell_type": "code",
      "metadata": {
        "id": "83C_zN-_HSlY",
        "colab": {
          "base_uri": "https://localhost:8080/",
          "height": 295
        },
        "outputId": "9f753021-afb5-4973-ab1d-a5a42ffbab7a"
      },
      "source": [
        "import matplotlib.pyplot as plt\n",
        "plt.plot(history.history['accuracy'])\n",
        "plt.plot(history.history['val_accuracy'])\n",
        "plt.title('model accuracy')\n",
        "plt.ylabel('accuracy')\n",
        "plt.xlabel('epoch')\n",
        "plt.legend(['train', 'Validation'], loc='upper left')\n",
        "plt.show()"
      ],
      "execution_count": null,
      "outputs": [
        {
          "output_type": "display_data",
          "data": {
            "image/png": "[encoded data removed]",
            "text/plain": [
              "<Figure size 432x288 with 1 Axes>"
            ]
          },
          "metadata": {
            "tags": [],
            "needs_background": "light"
          }
        }
      ]
    },
    {
      "cell_type": "code",
      "metadata": {
        "id": "oY6yOqbZHULQ",
        "colab": {
          "base_uri": "https://localhost:8080/"
        },
        "outputId": "412ba3f7-80f1-4a0e-9b42-7bef626fee5e"
      },
      "source": [
        "model = load_model('/content/drive/MyDrive/building1/noWiFiBT27March5slots_200epochs_biDirLSTMDoubleDenseDropout/best_model.pkl')\n",
        "\n",
        "from sklearn.metrics import accuracy_score\n",
        "y_pred=model.predict(test)\n",
        "test_preds=( y_pred> 0.5).astype(\"int32\")#Selecting a label only if it has >0.5 probability\n",
        "accuracy_score(test_target, test_preds)"
      ],
      "execution_count": null,
      "outputs": [
        {
          "output_type": "execute_result",
          "data": {
            "text/plain": [
              "0.8239026063100137"
            ]
          },
          "metadata": {
            "tags": []
          },
          "execution_count": 25
        }
      ]
    },
    {
      "cell_type": "code",
      "metadata": {
        "id": "FnRdkXmpHc5s",
        "colab": {
          "base_uri": "https://localhost:8080/"
        },
        "outputId": "ab27a89d-1d5e-41e4-9b9a-f0596df97a33"
      },
      "source": [
        "yhat=np.argmax(y_pred,axis=1)\n",
        "y=np.argmax(test_target,axis=1)\n",
        "accuracy_score(y,yhat)"
      ],
      "execution_count": null,
      "outputs": [
        {
          "output_type": "execute_result",
          "data": {
            "text/plain": [
              "0.8297325102880658"
            ]
          },
          "metadata": {
            "tags": []
          },
          "execution_count": 26
        }
      ]
    },
    {
      "cell_type": "code",
      "metadata": {
        "id": "rM7XwQExHa0U",
        "colab": {
          "base_uri": "https://localhost:8080/",
          "height": 204
        },
        "outputId": "6be27cd3-a739-43f2-c535-bb2349f0694d"
      },
      "source": [
        "#converting predicted labels to waypoins.\n",
        "pred_df=pd.DataFrame(yhat,columns=['Label'])\n",
        "label_df=pd.DataFrame(label,columns=['X_up_limit','Y_up_limit','Label'])\n",
        "label_df.head()\n",
        "pred_df2 = pd.merge(pred_df, label_df, on='Label', how='left')\n",
        "pred_df2.head()"
      ],
      "execution_count": null,
      "outputs": [
        {
          "output_type": "execute_result",
          "data": {
            "text/html": [
              "<div>\n",
              "<style scoped>\n",
              "    .dataframe tbody tr th:only-of-type {\n",
              "        vertical-align: middle;\n",
              "    }\n",
              "\n",
              "    .dataframe tbody tr th {\n",
              "        vertical-align: top;\n",
              "    }\n",
              "\n",
              "    .dataframe thead th {\n",
              "        text-align: right;\n",
              "    }\n",
              "</style>\n",
              "<table border=\"1\" class=\"dataframe\">\n",
              "  <thead>\n",
              "    <tr style=\"text-align: right;\">\n",
              "      <th></th>\n",
              "      <th>Label</th>\n",
              "      <th>X_up_limit</th>\n",
              "      <th>Y_up_limit</th>\n",
              "    </tr>\n",
              "  </thead>\n",
              "  <tbody>\n",
              "    <tr>\n",
              "      <th>0</th>\n",
              "      <td>78</td>\n",
              "      <td>214.213216</td>\n",
              "      <td>169.398780</td>\n",
              "    </tr>\n",
              "    <tr>\n",
              "      <th>1</th>\n",
              "      <td>79</td>\n",
              "      <td>233.944180</td>\n",
              "      <td>169.398780</td>\n",
              "    </tr>\n",
              "    <tr>\n",
              "      <th>2</th>\n",
              "      <td>78</td>\n",
              "      <td>214.213216</td>\n",
              "      <td>169.398780</td>\n",
              "    </tr>\n",
              "    <tr>\n",
              "      <th>3</th>\n",
              "      <td>79</td>\n",
              "      <td>233.944180</td>\n",
              "      <td>169.398780</td>\n",
              "    </tr>\n",
              "    <tr>\n",
              "      <th>4</th>\n",
              "      <td>69</td>\n",
              "      <td>233.944180</td>\n",
              "      <td>157.599565</td>\n",
              "    </tr>\n",
              "  </tbody>\n",
              "</table>\n",
              "</div>"
            ],
            "text/plain": [
              "   Label  X_up_limit  Y_up_limit\n",
              "0     78  214.213216  169.398780\n",
              "1     79  233.944180  169.398780\n",
              "2     78  214.213216  169.398780\n",
              "3     79  233.944180  169.398780\n",
              "4     69  233.944180  157.599565"
            ]
          },
          "metadata": {
            "tags": []
          },
          "execution_count": 27
        }
      ]
    },
    {
      "cell_type": "code",
      "metadata": {
        "id": "YL99yJBBHs7V",
        "colab": {
          "base_uri": "https://localhost:8080/",
          "height": 204
        },
        "outputId": "b3a7f6e2-324b-4c36-a92d-553d43dd4c55"
      },
      "source": [
        "wp_pred=list()\n",
        "#Adjust wp to centers\n",
        "distx=(label[1][0]-label[0][0])/2\n",
        "disty=(label[10][1]-label[0][1])/2 #for 10X10 grid\n",
        "pred_df2['X_up_limit']=pred_df2['X_up_limit']-distx\n",
        "pred_df2['Y_up_limit']=pred_df2['Y_up_limit']-disty\n",
        "pred_df2.head()"
      ],
      "execution_count": null,
      "outputs": [
        {
          "output_type": "execute_result",
          "data": {
            "text/html": [
              "<div>\n",
              "<style scoped>\n",
              "    .dataframe tbody tr th:only-of-type {\n",
              "        vertical-align: middle;\n",
              "    }\n",
              "\n",
              "    .dataframe tbody tr th {\n",
              "        vertical-align: top;\n",
              "    }\n",
              "\n",
              "    .dataframe thead th {\n",
              "        text-align: right;\n",
              "    }\n",
              "</style>\n",
              "<table border=\"1\" class=\"dataframe\">\n",
              "  <thead>\n",
              "    <tr style=\"text-align: right;\">\n",
              "      <th></th>\n",
              "      <th>Label</th>\n",
              "      <th>X_up_limit</th>\n",
              "      <th>Y_up_limit</th>\n",
              "    </tr>\n",
              "  </thead>\n",
              "  <tbody>\n",
              "    <tr>\n",
              "      <th>0</th>\n",
              "      <td>78</td>\n",
              "      <td>204.347734</td>\n",
              "      <td>163.499172</td>\n",
              "    </tr>\n",
              "    <tr>\n",
              "      <th>1</th>\n",
              "      <td>79</td>\n",
              "      <td>224.078698</td>\n",
              "      <td>163.499172</td>\n",
              "    </tr>\n",
              "    <tr>\n",
              "      <th>2</th>\n",
              "      <td>78</td>\n",
              "      <td>204.347734</td>\n",
              "      <td>163.499172</td>\n",
              "    </tr>\n",
              "    <tr>\n",
              "      <th>3</th>\n",
              "      <td>79</td>\n",
              "      <td>224.078698</td>\n",
              "      <td>163.499172</td>\n",
              "    </tr>\n",
              "    <tr>\n",
              "      <th>4</th>\n",
              "      <td>69</td>\n",
              "      <td>224.078698</td>\n",
              "      <td>151.699957</td>\n",
              "    </tr>\n",
              "  </tbody>\n",
              "</table>\n",
              "</div>"
            ],
            "text/plain": [
              "   Label  X_up_limit  Y_up_limit\n",
              "0     78  204.347734  163.499172\n",
              "1     79  224.078698  163.499172\n",
              "2     78  204.347734  163.499172\n",
              "3     79  224.078698  163.499172\n",
              "4     69  224.078698  151.699957"
            ]
          },
          "metadata": {
            "tags": []
          },
          "execution_count": 28
        }
      ]
    },
    {
      "cell_type": "code",
      "metadata": {
        "id": "ZDoK5QESHzeo",
        "colab": {
          "base_uri": "https://localhost:8080/"
        },
        "outputId": "d05d3e31-ad89-4f82-9622-20a95c103cf6"
      },
      "source": [
        "#Now we will calculate exact error in predicted and actual location\n",
        "#We will consider only those waypoints which were present in the original data\n",
        "#to calculate error and we will reject interpolated values which were introduced by us \n",
        "import math\n",
        "sum_of_error=0\n",
        "sum_sq_error=0\n",
        "count=0\n",
        "test_predicted=pred_df2[['X_up_limit','Y_up_limit']].values\n",
        "for i in range(len(test_seq_wp)):\n",
        "  for j in range(len(test_seq_wp[i])):\n",
        "    if(test_seq_wp[i][j][2]==1):\n",
        "      sum_of_error+=math.sqrt(((test_predicted[i][0]-test_seq_wp[i][j][0])**2)+((test_predicted[i][1]-test_seq_wp[i][j][1])**2))\n",
        "      sum_sq_error+=((test_predicted[i][0]-test_seq_wp[i][j][0])**2)+((test_predicted[i][1]-test_seq_wp[i][j][1])**2)\n",
        "      count+=1\n",
        "\n",
        "\n",
        "MAE=sum_of_error/count\n",
        "RMSE=math.sqrt(sum_sq_error/count)\n",
        "print('MAE value is:',round(MAE,2))  \n",
        "print('RMSE value is:',round(RMSE,2)) "
      ],
      "execution_count": null,
      "outputs": [
        {
          "output_type": "stream",
          "text": [
            "MAE value is: 17.05\n",
            "RMSE value is: 28.44\n"
          ],
          "name": "stdout"
        }
      ]
    }
  ]
}