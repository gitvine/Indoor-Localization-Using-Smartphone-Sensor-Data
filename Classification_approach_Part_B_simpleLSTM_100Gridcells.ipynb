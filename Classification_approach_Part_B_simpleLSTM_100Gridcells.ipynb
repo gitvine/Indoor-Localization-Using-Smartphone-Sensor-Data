{
  "nbformat": 4,
  "nbformat_minor": 0,
  "metadata": {
    "colab": {
      "name": "Part_B_classification_approach_simpleLSTM.ipynb",
      "provenance": [],
      "collapsed_sections": []
    },
    "kernelspec": {
      "display_name": "Python 3",
      "language": "python",
      "name": "python3"
    },
    "language_info": {
      "codemirror_mode": {
        "name": "ipython",
        "version": 3
      },
      "file_extension": ".py",
      "mimetype": "text/x-python",
      "name": "python",
      "nbconvert_exporter": "python",
      "pygments_lexer": "ipython3",
      "version": "3.8.5"
    }
  },
  "cells": [
    {
      "cell_type": "markdown",
      "metadata": {
        "id": "QktZ8WbxTv2T"
      },
      "source": [
        "## We have divided the problem into two parts\n",
        "(a) Predict the floor number\n",
        "(b) Predict the way points or location on that floor"
      ]
    },
    {
      "cell_type": "code",
      "metadata": {
        "id": "1f5bwMxmPWjQ"
      },
      "source": [
        "import pandas as pd\n",
        "import numpy as np\n",
        "%matplotlib inline\n",
        "import matplotlib.pyplot as plt\n",
        "from os import listdir\n",
        "from pathlib import Path\n",
        "pd.options.mode.chained_assignment = None  # default='warn'\n",
        "from dataclasses import dataclass\n",
        "from sklearn import preprocessing"
      ],
      "execution_count": null,
      "outputs": []
    },
    {
      "cell_type": "code",
      "metadata": {
        "id": "q6hAEaR6tmi9"
      },
      "source": [
        "import keras\n",
        "from keras.utils import to_categorical\n",
        "from keras.preprocessing import sequence\n",
        "import tensorflow as tf\n",
        "from keras.models import Sequential\n",
        "from keras.layers import Dense\n",
        "from keras.layers import LSTM\n",
        "from keras.optimizers import Adam\n",
        "from keras.models import load_model\n",
        "from keras.callbacks import ModelCheckpoint\n",
        "from keras.layers import Bidirectional"
      ],
      "execution_count": null,
      "outputs": []
    },
    {
      "cell_type": "code",
      "metadata": {
        "colab": {
          "base_uri": "https://localhost:8080/"
        },
        "id": "BfbMebYYWEIw",
        "outputId": "20d126d4-2448-48c6-c7a6-062269c1a325"
      },
      "source": [
        "from google.colab import drive\n",
        "drive.mount('/content/drive')"
      ],
      "execution_count": null,
      "outputs": [
        {
          "output_type": "stream",
          "text": [
            "Mounted at /content/drive\n"
          ],
          "name": "stdout"
        }
      ]
    },
    {
      "cell_type": "code",
      "metadata": {
        "id": "XpKnmwl6M_3_"
      },
      "source": [
        "#Function to connect waypoint coordinates with straight lines\n",
        "#This will be used for second part of project.We will discuss about this later.\n",
        "def connect_waypoints(wp_df):\n",
        "  if(wp_df.at[0,'waypoint_val1']==''):\n",
        "    wp_df.at[0,'waypoint_val1']=0\n",
        "  if(wp_df.at[0,'waypoint_val2']==''):\n",
        "    wp_df.at[0,'waypoint_val2']=0  \n",
        "  j=0\n",
        "  i=0\n",
        "  last=0\n",
        "  #print(wp_df.head(5))\n",
        "  while i < (len(wp_df)-1):\n",
        "    j=i+1\n",
        "    while((wp_df.at[j,'waypoint_val1']==0) and (wp_df.at[j,'waypoint_val2']==0) ):\n",
        "      if(j==len(wp_df)-1):\n",
        "        wp_df.at[j,'waypoint_val1']=wp_df.at[i,'waypoint_val1']\n",
        "        wp_df.at[j,'waypoint_val2']=wp_df.at[i,'waypoint_val2']\n",
        "        last=1\n",
        "        break\n",
        "      j+=1\n",
        "    temp_arrayx=np.linspace(wp_df.at[i,'waypoint_val1'],wp_df.at[j,'waypoint_val1'], num=j-i+1)\n",
        "    temp_arrayy=np.linspace(wp_df.at[i,'waypoint_val2'],wp_df.at[j,'waypoint_val2'], num=j-i+1)\n",
        "    #print(temp_arrayx)\n",
        "    m=0\n",
        "    for k in range(i,j+1):\n",
        "      wp_df.at[k,'waypoint_val1']=temp_arrayx[m]\n",
        "      wp_df.at[k,'waypoint_val2']=temp_arrayy[m]\n",
        "      #For final comparison of our predicted location, we will need to mark which waypoints were in original data before connecting them\n",
        "      #print('k=',k,'i=',i,'j=',j)\n",
        "      if((k==i) and (last==0)):\n",
        "        wp_df.at[k,'interpolated']=1 #original waypoints\n",
        "      else:\n",
        "        wp_df.at[k,'interpolated']=0  #interpolated waypoints\n",
        "      m+=1\n",
        "    i=j\n",
        "  return wp_df     \n"
      ],
      "execution_count": null,
      "outputs": []
    },
    {
      "cell_type": "code",
      "metadata": {
        "id": "hycBgmQSPWjX"
      },
      "source": [
        "# Function to extract arrays for each sensor with timeslots.\n",
        "# This particular function is modified from the function provided by the competition's github page at https://github.com/location-competition/indoor-location-competition-20/blob/master/io_f.py\n",
        "\n",
        "@dataclass\n",
        "class ReadData:\n",
        "    acce: np.ndarray\n",
        "    acce_uncali: np.ndarray\n",
        "    gyro: np.ndarray\n",
        "    gyro_uncali: np.ndarray\n",
        "    magn: np.ndarray\n",
        "    magn_uncali: np.ndarray\n",
        "    ahrs: np.ndarray\n",
        "    wifi: np.ndarray\n",
        "    ibeacon: np.ndarray\n",
        "    waypoint: np.ndarray\n",
        "\n",
        "\n",
        "def read_data_file(data_filename):\n",
        "    acce = []\n",
        "    acce_uncali = []\n",
        "    gyro = []\n",
        "    gyro_uncali = []\n",
        "    magn = []\n",
        "    magn_uncali = []\n",
        "    ahrs = []\n",
        "    wifi = []\n",
        "    ibeacon = []\n",
        "    waypoint = []\n",
        "    line_count=0\n",
        "    with open(data_filename, 'r', encoding='utf-8') as file:\n",
        "        lines = file.readlines()\n",
        "\n",
        "    for line_data in lines:\n",
        "        #line_count=line_count+1\n",
        "        #if(line_count>3000):\n",
        "        #  break\n",
        "        line_data = line_data.strip()\n",
        "        if not line_data or line_data[0] == '#':\n",
        "            continue\n",
        "\n",
        "        line_data = line_data.split('\\t')\n",
        "\n",
        "        if line_data[1] == 'TYPE_ACCELEROMETER':\n",
        "            acce.append([int(line_data[0]), float(line_data[2]), float(line_data[3]), float(line_data[4])])\n",
        "            continue\n",
        "\n",
        "        if line_data[1] == 'TYPE_ACCELEROMETER_UNCALIBRATED':\n",
        "            acce_uncali.append([int(line_data[0]), float(line_data[2]), float(line_data[3]), float(line_data[4])])\n",
        "            continue\n",
        "\n",
        "        if line_data[1] == 'TYPE_GYROSCOPE':\n",
        "            gyro.append([int(line_data[0]), float(line_data[2]), float(line_data[3]), float(line_data[4])])\n",
        "            continue\n",
        "\n",
        "        if line_data[1] == 'TYPE_GYROSCOPE_UNCALIBRATED':\n",
        "            gyro_uncali.append([int(line_data[0]), float(line_data[2]), float(line_data[3]), float(line_data[4])])\n",
        "            continue\n",
        "\n",
        "        if line_data[1] == 'TYPE_MAGNETIC_FIELD':\n",
        "            magn.append([int(line_data[0]), float(line_data[2]), float(line_data[3]), float(line_data[4])])\n",
        "            continue\n",
        "\n",
        "        if line_data[1] == 'TYPE_MAGNETIC_FIELD_UNCALIBRATED':\n",
        "            magn_uncali.append([int(line_data[0]), float(line_data[2]), float(line_data[3]), float(line_data[4])])\n",
        "            continue\n",
        "\n",
        "        if line_data[1] == 'TYPE_ROTATION_VECTOR':\n",
        "            ahrs.append([int(line_data[0]), float(line_data[2]), float(line_data[3]), float(line_data[4])])\n",
        "            continue\n",
        "\n",
        "        if line_data[1] == 'TYPE_WIFI':\n",
        "            sys_ts = int(line_data[0])\n",
        "            ssid = line_data[2]\n",
        "            bssid = line_data[3]\n",
        "            rssi = line_data[4]\n",
        "            lastseen_ts = line_data[6]\n",
        "            wifi_data = [sys_ts, ssid, bssid, rssi, lastseen_ts]\n",
        "            wifi.append(wifi_data)\n",
        "            continue\n",
        "\n",
        "        if line_data[1] == 'TYPE_BEACON':\n",
        "            ts = int(line_data[0])\n",
        "            uuid = line_data[2]\n",
        "            major = line_data[3]\n",
        "            minor = line_data[4]\n",
        "            rssi = line_data[6]\n",
        "            ibeacon_data = [ts, '_'.join([uuid, major, minor]), rssi]\n",
        "            ibeacon.append(ibeacon_data)\n",
        "            continue\n",
        "\n",
        "        if line_data[1] == 'TYPE_WAYPOINT':\n",
        "            waypoint.append([int(line_data[0]), float(line_data[2]), float(line_data[3])])\n",
        "\n",
        "    acce = np.array(acce,dtype=np.float)\n",
        "    acce_uncali = np.array(acce_uncali,dtype=np.float)\n",
        "    gyro = np.array(gyro,dtype=np.float)\n",
        "    gyro_uncali = np.array(gyro_uncali,dtype=np.float)\n",
        "    magn = np.array(magn,dtype=np.float)\n",
        "    magn_uncali = np.array(magn_uncali,dtype=np.float)\n",
        "    ahrs = np.array(ahrs)\n",
        "    wifi = np.array(wifi)\n",
        "    ibeacon = np.array(ibeacon)\n",
        "    waypoint = np.array(waypoint)\n",
        "\n",
        "    return ReadData(acce, acce_uncali, gyro, gyro_uncali, magn, magn_uncali, ahrs, wifi, ibeacon, waypoint)"
      ],
      "execution_count": null,
      "outputs": []
    },
    {
      "cell_type": "code",
      "metadata": {
        "id": "FpAoHhUmPWjb"
      },
      "source": [
        "#Function to go through all the files in the folder and return the sensor data \n",
        "# in the form of arrays\n",
        "@dataclass\n",
        "class trace:\n",
        "    sequence: np.ndarray\n",
        "    target_seq: np.ndarray\n",
        "    waypoint_seq: np.ndarray\n",
        "    wp_full_seq: np.ndarray\n",
        "\n",
        "def convert_to_df(file_path,floor,timeslots):\n",
        "    pathlist = Path(file_path).rglob('*.txt')\n",
        "    sequence = list()\n",
        "    target_seq=list()\n",
        "    waypoint_seq=list()\n",
        "    wp_full_seq=list()\n",
        "    path_id=1\n",
        "    floor_trace_df=pd.DataFrame()\n",
        "    for path in pathlist:\n",
        "         # because path is object not string\n",
        "        path_in_str = str(path)\n",
        "         # print(path_in_str)\n",
        "        trace_file = read_data_file(path_in_str)\n",
        "        trace_df=pd.DataFrame()\n",
        "        if(trace_file.acce.size):\n",
        "            acce_df=pd.DataFrame(trace_file.acce, columns=['Timestamp','acce_val1','acce_val2','acce_val3'])\n",
        "        if(trace_file.acce_uncali.size):\n",
        "            acce__uncal_df=pd.DataFrame(trace_file.acce_uncali, columns=['Timestamp','acce_uncal_val1','acce_uncal_val2','acce_uncal_val3'])   \n",
        "        if(trace_file.gyro.size):\n",
        "            gyro_df=pd.DataFrame(trace_file.gyro, columns=['Timestamp','gyro_val1','gyro_val2','gyro_val3'])\n",
        "        if(trace_file.gyro_uncali.size):\n",
        "            gyro_uncal_df=pd.DataFrame(trace_file.gyro_uncali, columns=['Timestamp','gyro_uncal_val1','gyro_uncal_val2','gyro_uncal_val3'])\n",
        "        if(trace_file.magn.size):\n",
        "            magn_df=pd.DataFrame(trace_file.magn, columns=['Timestamp','magn_val1','magn_val2','magn_val3'])\n",
        "        if(trace_file.magn_uncali.size):\n",
        "            magn_uncal_df=pd.DataFrame(trace_file.magn_uncali, columns=['Timestamp','magn_uncal_val1','magn_uncal_val2','magn_uncal_val3'])\n",
        "        if(trace_file.ahrs.size):\n",
        "            rot_df=pd.DataFrame(trace_file.ahrs, columns=['Timestamp','rot_val1','rot_val2','rot_val3'])           \n",
        "        if(trace_file.wifi.size):\n",
        "            wifi_df=pd.DataFrame(trace_file.wifi, columns=['Timestamp','wifi_val1','wifi_val2','wifi_val3','wifi_val4']) \n",
        "        if(trace_file.ibeacon.size):\n",
        "            ibeacon_df=pd.DataFrame(trace_file.ibeacon, columns=['Timestamp','ibeacon_val1','ibeacon_val2'])    \n",
        "        if(trace_file.waypoint.size):\n",
        "            waypoint_df=pd.DataFrame(trace_file.waypoint, columns=['Timestamp','waypoint_val1','waypoint_val2'])\n",
        "        \n",
        "        #change data type of wifi dataframe timestamp and ibeacon timestamp\n",
        "        wifi_df[\"Timestamp\"] = wifi_df.Timestamp.astype(float)\n",
        "        ibeacon_df[\"Timestamp\"] = ibeacon_df.Timestamp.astype(float)\n",
        "        trace_df = pd.merge(acce_df, acce__uncal_df, on='Timestamp', how='outer')\n",
        "        trace_df = pd.merge(trace_df, gyro_df, on='Timestamp', how='outer')\n",
        "        trace_df = pd.merge(trace_df, gyro_uncal_df, on='Timestamp', how='outer')\n",
        "        trace_df = pd.merge(trace_df, magn_df, on='Timestamp', how='outer')\n",
        "        trace_df = pd.merge(trace_df, magn_uncal_df, on='Timestamp', how='outer')\n",
        "        trace_df = pd.merge(trace_df, rot_df, on='Timestamp', how='outer')\n",
        "        trace_df = pd.merge(trace_df, wifi_df, on='Timestamp', how='outer')\n",
        "        trace_df = pd.merge(trace_df, ibeacon_df, on='Timestamp', how='outer')\n",
        "        trace_df = pd.merge(trace_df, waypoint_df, on='Timestamp', how='outer')\n",
        "        ###### Cast time stamp to integer\n",
        "        trace_df[\"Timestamp\"] = trace_df.Timestamp.astype(int)\n",
        "\n",
        "        # sorting by Timestamp and deleting duplicate timeslots \n",
        "        \n",
        "        trace_df.sort_values(\"Timestamp\", inplace = True)\n",
        "        trace_df = trace_df.reset_index(drop=True)\n",
        "        trace_df.drop_duplicates(subset=\"Timestamp\",keep=False, inplace=True)\n",
        "        trace_df = trace_df.reset_index(drop=True)\n",
        "        \n",
        "        trace_df=trace_df.replace(np.nan,0)\n",
        "\n",
        "        #keep only top 200 rows in one sequence     \n",
        "        #trace_df=trace_df.head(200)\n",
        "\n",
        "        #for i in range(0,len(trace_df)):\n",
        "         # trace_df.at[i,'Timestamp']=i\n",
        "        \n",
        "        #trace_df['time_index'] = trace_df.index\n",
        "        #print(trace_df.head())\n",
        "        #trace_df['floor_name']=floor\n",
        "        #trace_df['path_id']=floor+path_id\n",
        "        #path_id=path_id+1\n",
        "        #trace_df['wifi_df'].fillna(0)\n",
        "        #trace_df['ibeacon_df'].fillna(0)\n",
        "        #trace_df['wifi_df'].fillna(0)\n",
        "        \n",
        "\n",
        "        wp_df = trace_df[['waypoint_val1', 'waypoint_val2']].copy()\n",
        "        wp_df=connect_waypoints(wp_df)\n",
        "        wp_values=wp_df.values\n",
        "        #Removing text based fields in dataframe\n",
        "        trace_df=trace_df.drop(['Timestamp'], axis=1)\n",
        "        trace_df=trace_df.drop(['wifi_val1'], axis=1)\n",
        "        trace_df=trace_df.drop(['wifi_val2'], axis=1)\n",
        "        trace_df=trace_df.drop(['ibeacon_val1'], axis=1)\n",
        "        trace_df.astype('float32')        \n",
        "        trace_df=trace_df.drop(['waypoint_val1','waypoint_val2'], axis=1)\n",
        "        #floor_trace_df=floor_trace_df.append(trace_df)\n",
        "        values = trace_df.values \n",
        "\n",
        "\n",
        "        \n",
        "\n",
        "\n",
        "        #Now split sequence into required number of timeslots\n",
        "        l=int(len(values)/timeslots)\n",
        "        k=0\n",
        "        for m in range(l):\n",
        "          s_temp=values[k:k+timeslots]\n",
        "          wp_temp=wp_values[k:k+timeslots]\n",
        "          #Normalize\n",
        "          #min_max_scaler = preprocessing.MinMaxScaler()\n",
        "          #s_scaled = min_max_scaler.fit_transform(s_temp)\n",
        "          sequence.append(s_temp)\n",
        "          wp_full_seq.append(wp_temp)\n",
        "          target_seq.append(floor)\n",
        "          wp_temp=wp_df.iloc[k:k+timeslots,0:]\n",
        "          wp_temp=wp_temp.reset_index(drop=True)\n",
        "          #wp_temp=connect_waypoints(wp_temp)\n",
        "        #Now after connecting the waypoints, the avearge has become a wieghted average in time series\n",
        "          wp_avg_x=wp_temp['waypoint_val1'].mean()\n",
        "          wp_avg_y=wp_temp['waypoint_val2'].mean()\n",
        "        #maximum and minimum will be useful in second part\n",
        "          wp_max_x=wp_temp['waypoint_val1'].max()\n",
        "          wp_min_x=wp_temp['waypoint_val1'].min()\n",
        "          wp_max_y=wp_temp['waypoint_val2'].max()\n",
        "          wp_min_y=wp_temp['waypoint_val2'].min()\n",
        "          \n",
        "          waypoint_seq.append([wp_avg_x,wp_avg_y,wp_max_x,wp_min_x,wp_max_y,wp_min_y])\n",
        "          k+=timeslots\n",
        "\n",
        "    return trace(sequence,target_seq,waypoint_seq,wp_full_seq)"
      ],
      "execution_count": null,
      "outputs": []
    },
    {
      "cell_type": "code",
      "metadata": {
        "colab": {
          "base_uri": "https://localhost:8080/"
        },
        "id": "OXmpBegNG3fL",
        "outputId": "a45f2281-f578-40a1-9c40-88eb8e02780e"
      },
      "source": [
        "len(sequences)"
      ],
      "execution_count": null,
      "outputs": [
        {
          "output_type": "execute_result",
          "data": {
            "text/plain": [
              "98"
            ]
          },
          "metadata": {
            "tags": []
          },
          "execution_count": 44
        }
      ]
    },
    {
      "cell_type": "code",
      "metadata": {
        "id": "RIHmyZk8PWje"
      },
      "source": [
        "#Extracting data for B1 floor only\n",
        "sequences = list()\n",
        "target_sequence=list()\n",
        "waypoint_sequence=list()\n",
        "waypoint_full_sequence=list()\n",
        "#floors_df=pd.DataFrame()\n",
        "file_path = '/content/drive/MyDrive/building1/data/B1'\n",
        "trace_values=(convert_to_df(file_path,0,5))\n",
        "sequences.extend(trace_values.sequence)\n",
        "target_sequence.extend(trace_values.target_seq)\n",
        "waypoint_sequence.extend(trace_values.waypoint_seq)\n",
        "waypoint_full_sequence.extend(trace_values.wp_full_seq)"
      ],
      "execution_count": null,
      "outputs": []
    },
    {
      "cell_type": "code",
      "metadata": {
        "colab": {
          "base_uri": "https://localhost:8080/"
        },
        "id": "-H8pSsXd15bP",
        "outputId": "07e98f2a-eb69-4d8b-e724-8f711d71aa6d"
      },
      "source": [
        "waypoint_sequence[0]"
      ],
      "execution_count": null,
      "outputs": [
        {
          "output_type": "execute_result",
          "data": {
            "text/plain": [
              "[198.39352660531696,\n",
              " 163.5148854601227,\n",
              " 198.41872321063394,\n",
              " 198.36833,\n",
              " 163.52063,\n",
              " 163.50914092024541]"
            ]
          },
          "metadata": {
            "tags": []
          },
          "execution_count": 8
        }
      ]
    },
    {
      "cell_type": "code",
      "metadata": {
        "colab": {
          "base_uri": "https://localhost:8080/"
        },
        "id": "cu3Zj31ukXcD",
        "outputId": "c78487eb-fb5e-4e56-cc7f-2ca07d1f156f"
      },
      "source": [
        "len(sequences[0])"
      ],
      "execution_count": null,
      "outputs": [
        {
          "output_type": "execute_result",
          "data": {
            "text/plain": [
              "5"
            ]
          },
          "metadata": {
            "tags": []
          },
          "execution_count": 38
        }
      ]
    },
    {
      "cell_type": "code",
      "metadata": {
        "colab": {
          "base_uri": "https://localhost:8080/"
        },
        "id": "z_7S8TmaPWje",
        "outputId": "e319afe6-e700-4f59-d5c0-e0efc18c6b84"
      },
      "source": [
        "print('Number of sequences',len(sequences))\n",
        "print('Number of targets',len(target_sequence))\n",
        "print('Number of timeslots in first sequence',(sequences[0].shape)[0])\n",
        "print('Number of timeslots in tenth sequence',(sequences[9].shape)[0])\n",
        "print('Number of timeslots in hundredth sequence',(sequences[99].shape)[0])"
      ],
      "execution_count": null,
      "outputs": [
        {
          "output_type": "stream",
          "text": [
            "Number of sequences 44943\n",
            "Number of targets 44943\n",
            "Number of timeslots in first sequence 5\n",
            "Number of timeslots in tenth sequence 5\n",
            "Number of timeslots in hundredth sequence 5\n"
          ],
          "name": "stdout"
        }
      ]
    },
    {
      "cell_type": "markdown",
      "metadata": {
        "id": "vo62w2LuQHNq"
      },
      "source": [
        "# Part 2 "
      ]
    },
    {
      "cell_type": "markdown",
      "metadata": {
        "id": "Qnk26WqnQJKY"
      },
      "source": [
        "### After knowing the floor, now we need to predict waypoints on that floor."
      ]
    },
    {
      "cell_type": "markdown",
      "metadata": {
        "id": "uGoxuEgijbH1"
      },
      "source": [
        "### We assume that floor B1 was predicted in first part. So, for this part we will only take data of floor B1."
      ]
    },
    {
      "cell_type": "code",
      "metadata": {
        "colab": {
          "base_uri": "https://localhost:8080/"
        },
        "id": "ISwnNpCoPWji",
        "outputId": "71d5a233-9962-48f3-86b7-7e836a9d9c08"
      },
      "source": [
        "len(waypoint_sequence)"
      ],
      "execution_count": null,
      "outputs": [
        {
          "output_type": "execute_result",
          "data": {
            "text/plain": [
              "44943"
            ]
          },
          "metadata": {
            "tags": []
          },
          "execution_count": 58
        }
      ]
    },
    {
      "cell_type": "code",
      "metadata": {
        "colab": {
          "base_uri": "https://localhost:8080/"
        },
        "id": "xXPijH_9Y8VR",
        "outputId": "310c9165-748c-4fd9-9225-a402d74889f6"
      },
      "source": [
        "len(sequences)"
      ],
      "execution_count": null,
      "outputs": [
        {
          "output_type": "execute_result",
          "data": {
            "text/plain": [
              "44943"
            ]
          },
          "metadata": {
            "tags": []
          },
          "execution_count": 40
        }
      ]
    },
    {
      "cell_type": "code",
      "metadata": {
        "colab": {
          "base_uri": "https://localhost:8080/"
        },
        "id": "ZvxwS2mkjomJ",
        "outputId": "16fb30f5-db7a-4eab-9dbd-09ce738f5986"
      },
      "source": [
        "##We will divide the area into grids. But first we need to know the dimensions to work with\n",
        "wp_df = pd.DataFrame(waypoint_sequence, columns = ['avg_x','avg_y','max_x','min_x','max_y','min_y',])\n",
        "wp_df=wp_df.head(len(sequences))  #number of sequences for floor B1 are 22442\n",
        "wp_df = wp_df.round(decimals=5)\n",
        "floor_max_x=wp_df['max_x'].max()\n",
        "floor_min_x=wp_df['min_x'].min()\n",
        "floor_max_y=wp_df['max_y'].max()\n",
        "floor_min_y=wp_df['min_y'].min()\n",
        "print(floor_max_x,floor_min_x,floor_max_y,floor_min_y)"
      ],
      "execution_count": null,
      "outputs": [
        {
          "output_type": "stream",
          "text": [
            "233.94418 36.63454 192.99721 75.00506\n"
          ],
          "name": "stdout"
        }
      ]
    },
    {
      "cell_type": "code",
      "metadata": {
        "id": "1QefxsOkmJDo"
      },
      "source": [
        "#Creating grid for labelling\n",
        "#We will create a 10X10 grid for 100 labels\n",
        "array_x=np.linspace(floor_min_x,floor_max_x,11)\n",
        "array_y=np.linspace(floor_min_y,floor_max_y,11)\n",
        "label=list()\n",
        "k=0\n",
        "for j in range(1,11):\n",
        "  for i in range(1,11):\n",
        "    label.append([array_x[i],array_y[j],k])\n",
        "    k+=1  "
      ],
      "execution_count": null,
      "outputs": []
    },
    {
      "cell_type": "code",
      "metadata": {
        "colab": {
          "base_uri": "https://localhost:8080/"
        },
        "id": "01lxZoqopST6",
        "outputId": "94a75b56-572a-4336-f9bd-a0918e06fc27"
      },
      "source": [
        "#Now we need to give labels to our waypoints sequence on the basis of average waypoints\n",
        "print(wp_df.head())\n",
        "for i in range(len(wp_df)):\n",
        "  for j in range(len(label)):\n",
        "    if(wp_df.at[i,'avg_x']<=label[j][0]):\n",
        "       for p in range(len(label)):\n",
        "         if(wp_df.at[i,'avg_y']<=label[p][1]):\n",
        "           wp_df.at[i,'label']=label[j+p][2]\n",
        "           break\n",
        "       break    \n",
        "print(wp_df.head(20))           "
      ],
      "execution_count": null,
      "outputs": [
        {
          "output_type": "stream",
          "text": [
            "       avg_x      avg_y      max_x      min_x      max_y      min_y\n",
            "0  198.39353  163.51489  198.41872  198.36833  163.52063  163.50914\n",
            "1  198.45652  163.50052  198.48171  198.43132  163.50627  163.49478\n",
            "2  198.51951  163.48616  198.54471  198.49431  163.49191  163.48042\n",
            "3  198.58250  163.47180  198.60770  198.55730  163.47755  163.46606\n",
            "4  198.64549  163.45744  198.67069  198.62030  163.46318  163.45170\n",
            "        avg_x      avg_y      max_x      min_x      max_y      min_y  label\n",
            "0   198.39353  163.51489  198.41872  198.36833  163.52063  163.50914   78.0\n",
            "1   198.45652  163.50052  198.48171  198.43132  163.50627  163.49478   78.0\n",
            "2   198.51951  163.48616  198.54471  198.49431  163.49191  163.48042   78.0\n",
            "3   198.58250  163.47180  198.60770  198.55730  163.47755  163.46606   78.0\n",
            "4   198.64549  163.45744  198.67069  198.62030  163.46318  163.45170   78.0\n",
            "5   198.70848  163.44308  198.73368  198.68329  163.44882  163.43733   78.0\n",
            "6   198.77148  163.42872  198.79667  198.74628  163.43446  163.42297   78.0\n",
            "7   198.83447  163.41436  198.85966  198.80927  163.42010  163.40861   78.0\n",
            "8   198.89746  163.39999  198.92266  198.87226  163.40574  163.39425   78.0\n",
            "9   198.96045  163.38563  198.98565  198.93525  163.39138  163.37989   78.0\n",
            "10  199.02344  163.37127  199.04864  198.99825  163.37702  163.36553   78.0\n",
            "11  199.08643  163.35691  199.11163  199.06124  163.36266  163.35117   78.0\n",
            "12  199.14942  163.34255  199.17462  199.12423  163.34829  163.33680   78.0\n",
            "13  199.21242  163.32819  199.23761  199.18722  163.33393  163.32244   78.0\n",
            "14  199.27541  163.31383  199.30060  199.25021  163.31957  163.30808   78.0\n",
            "15  199.33840  163.29947  199.36360  199.31320  163.30521  163.29372   78.0\n",
            "16  199.40139  163.28510  199.42659  199.37619  163.29085  163.27936   78.0\n",
            "17  199.46438  163.27074  199.48958  199.43919  163.27649  163.26500   78.0\n",
            "18  199.52737  163.25638  199.55257  199.50218  163.26213  163.25064   78.0\n",
            "19  199.59037  163.24202  199.61556  199.56517  163.24776  163.23628   78.0\n"
          ],
          "name": "stdout"
        }
      ]
    },
    {
      "cell_type": "code",
      "metadata": {
        "colab": {
          "base_uri": "https://localhost:8080/"
        },
        "id": "wB-6V2700gTq",
        "outputId": "6e8e699e-579a-47e5-8c0c-57fb8618810d"
      },
      "source": [
        "#Now we need to create new train, validation and test split for only building 1\n",
        "train_length=int(len(sequences)*0.7)\n",
        "val_length=int(len(sequences)*0.15)\n",
        "test_length=len(sequences)-train_length-val_length\n",
        "\n",
        "train_flags=np.full((train_length), 0)\n",
        "validation_flags=np.full((val_length), 1)\n",
        "test_flags=np.full((test_length), 2)\n",
        "\n",
        "flags=[]\n",
        "flags.extend(train_flags)\n",
        "flags.extend(validation_flags)\n",
        "flags.extend(test_flags)\n",
        "np.random.shuffle(flags)\n",
        "len(flags)"
      ],
      "execution_count": null,
      "outputs": [
        {
          "output_type": "execute_result",
          "data": {
            "text/plain": [
              "44943"
            ]
          },
          "metadata": {
            "tags": []
          },
          "execution_count": 44
        }
      ]
    },
    {
      "cell_type": "code",
      "metadata": {
        "colab": {
          "base_uri": "https://localhost:8080/"
        },
        "id": "QfUNUjSi3fu_",
        "outputId": "14861528-d144-4957-c92f-fdc4356d513f"
      },
      "source": [
        "#Creating target sequence\n",
        "target_sequence2=wp_df['label'].values\n",
        "#Slice the sequence to get only floor B1 data\n",
        "sequences2=sequences[0:len(sequences)]\n",
        "target_sequence2=np.array(target_sequence2)\n",
        "target_sequence2"
      ],
      "execution_count": null,
      "outputs": [
        {
          "output_type": "execute_result",
          "data": {
            "text/plain": [
              "array([78., 78., 78., ..., 73., 73., 73.])"
            ]
          },
          "metadata": {
            "tags": []
          },
          "execution_count": 46
        }
      ]
    },
    {
      "cell_type": "code",
      "metadata": {
        "id": "PXaAAD281td9"
      },
      "source": [
        "train = [sequences2[i] for i in range(len(flags)) if (flags[i]==0)]\n",
        "validation = [sequences2[i] for i in range(len(flags)) if flags[i]==1]\n",
        "test = [sequences2[i] for i in range(len(flags)) if flags[i]==2]\n",
        "test_seq_wp=[waypoint_full_sequence[i] for i in range(len(flags)) if flags[i]==2]\n",
        "\n",
        "train_target = [target_sequence2[i] for i in range(len(flags)) if (flags[i]==0)]\n",
        "validation_target = [target_sequence2[i] for i in range(len(flags)) if flags[i]==1]\n",
        "test_target = [target_sequence2[i] for i in range(len(flags)) if flags[i]==2]\n",
        "train = np.array(train)\n",
        "validation = np.array(validation)\n",
        "test = np.array(test)\n",
        "\n",
        "train_target = np.array(train_target)\n",
        "train_target=to_categorical(train_target,num_classes = 100)\n",
        "\n",
        "validation_target = np.array(validation_target)\n",
        "validation_target=to_categorical(validation_target,num_classes = 100)\n",
        "test_target = np.array(test_target)\n",
        "test_target=to_categorical(test_target,num_classes = 100)"
      ],
      "execution_count": null,
      "outputs": []
    },
    {
      "cell_type": "code",
      "metadata": {
        "colab": {
          "base_uri": "https://localhost:8080/"
        },
        "id": "yDFDCkPn-GDs",
        "outputId": "31d5574a-8ee8-4a7f-a9cd-f98aa2d35e79"
      },
      "source": [
        "print(sequences2[0].shape)\n",
        "train_target[0]\n",
        "len(test_seq_wp)"
      ],
      "execution_count": null,
      "outputs": [
        {
          "output_type": "stream",
          "text": [
            "(5, 24)\n"
          ],
          "name": "stdout"
        },
        {
          "output_type": "execute_result",
          "data": {
            "text/plain": [
              "6742"
            ]
          },
          "metadata": {
            "tags": []
          },
          "execution_count": 48
        }
      ]
    },
    {
      "cell_type": "code",
      "metadata": {
        "id": "Clp7vzIBcMfP"
      },
      "source": [
        "train=tf.convert_to_tensor(train, np.float32)\n",
        "train_target=tf.convert_to_tensor(train_target, np.float32)\n",
        "validation=tf.convert_to_tensor(validation, np.float32)\n",
        "validation_target=tf.convert_to_tensor(validation_target, np.float32)\n",
        "test=tf.convert_to_tensor(test, np.float32)\n",
        "test_target=tf.convert_to_tensor(test_target, np.float32)"
      ],
      "execution_count": null,
      "outputs": []
    },
    {
      "cell_type": "code",
      "metadata": {
        "colab": {
          "base_uri": "https://localhost:8080/"
        },
        "id": "Vlq3I9B0C9HQ",
        "outputId": "a86ec7d4-239d-4c1e-b51a-90b6cfd9a165"
      },
      "source": [
        "seq_len = 5\n",
        "seq_bredth=24\n",
        "model = Sequential()\n",
        "model.add(LSTM(256, input_shape=(seq_len, seq_bredth)))\n",
        "model.add(Dense(128, activation='relu'))\n",
        "model.add(Dense(100, activation='softmax'))\n",
        "model.summary()"
      ],
      "execution_count": null,
      "outputs": [
        {
          "output_type": "stream",
          "text": [
            "Model: \"sequential_3\"\n",
            "_________________________________________________________________\n",
            "Layer (type)                 Output Shape              Param #   \n",
            "=================================================================\n",
            "lstm_3 (LSTM)                (None, 256)               287744    \n",
            "_________________________________________________________________\n",
            "dense_6 (Dense)              (None, 128)               32896     \n",
            "_________________________________________________________________\n",
            "dense_7 (Dense)              (None, 100)               12900     \n",
            "=================================================================\n",
            "Total params: 333,540\n",
            "Trainable params: 333,540\n",
            "Non-trainable params: 0\n",
            "_________________________________________________________________\n"
          ],
          "name": "stdout"
        }
      ]
    },
    {
      "cell_type": "code",
      "metadata": {
        "colab": {
          "base_uri": "https://localhost:8080/"
        },
        "id": "8QzFV7hnDMyS",
        "outputId": "8f512860-7753-4c94-db95-ff556d77ca5f"
      },
      "source": [
        "#This is 100 cells simple LSTM\n",
        "adam = Adam(lr=0.001)\n",
        "checkpoint_filepath = '/content/drive/MyDrive/building1/26March5slots_200epochs_simpleLSTM/best_model.pkl'\n",
        "chk = ModelCheckpoint(filepath=checkpoint_filepath, monitor='val_accuracy', save_best_only=True, mode='max', verbose=1)\n",
        "model.compile(loss='categorical_crossentropy', optimizer=adam, metrics=['accuracy'])\n",
        "history=model.fit(train, train_target, epochs=200, batch_size=128, callbacks=[chk], validation_data=(validation,validation_target))"
      ],
      "execution_count": null,
      "outputs": [
        {
          "output_type": "stream",
          "text": [
            "Epoch 1/200\n",
            "246/246 [==============================] - 14s 50ms/step - loss: 3.5770 - accuracy: 0.1122 - val_loss: 2.6680 - val_accuracy: 0.2371\n",
            "\n",
            "Epoch 00001: val_accuracy improved from -inf to 0.23706, saving model to /content/drive/MyDrive/building1/26March5slots_200epochs_simpleLSTM/best_model.pkl\n"
          ],
          "name": "stdout"
        },
        {
          "output_type": "stream",
          "text": [
            "WARNING:absl:Found untraced functions such as lstm_cell_4_layer_call_and_return_conditional_losses, lstm_cell_4_layer_call_fn, lstm_cell_4_layer_call_fn, lstm_cell_4_layer_call_and_return_conditional_losses, lstm_cell_4_layer_call_and_return_conditional_losses while saving (showing 5 of 5). These functions will not be directly callable after loading.\n",
            "WARNING:absl:Found untraced functions such as lstm_cell_4_layer_call_and_return_conditional_losses, lstm_cell_4_layer_call_fn, lstm_cell_4_layer_call_fn, lstm_cell_4_layer_call_and_return_conditional_losses, lstm_cell_4_layer_call_and_return_conditional_losses while saving (showing 5 of 5). These functions will not be directly callable after loading.\n"
          ],
          "name": "stderr"
        },
        {
          "output_type": "stream",
          "text": [
            "INFO:tensorflow:Assets written to: /content/drive/MyDrive/building1/26March5slots_200epochs_simpleLSTM/best_model.pkl/assets\n"
          ],
          "name": "stdout"
        },
        {
          "output_type": "stream",
          "text": [
            "INFO:tensorflow:Assets written to: /content/drive/MyDrive/building1/26March5slots_200epochs_simpleLSTM/best_model.pkl/assets\n"
          ],
          "name": "stderr"
        },
        {
          "output_type": "stream",
          "text": [
            "Epoch 2/200\n",
            "246/246 [==============================] - 12s 47ms/step - loss: 2.4760 - accuracy: 0.2679 - val_loss: 2.1295 - val_accuracy: 0.3143\n",
            "\n",
            "Epoch 00002: val_accuracy improved from 0.23706 to 0.31435, saving model to /content/drive/MyDrive/building1/26March5slots_200epochs_simpleLSTM/best_model.pkl\n"
          ],
          "name": "stdout"
        },
        {
          "output_type": "stream",
          "text": [
            "WARNING:absl:Found untraced functions such as lstm_cell_4_layer_call_and_return_conditional_losses, lstm_cell_4_layer_call_fn, lstm_cell_4_layer_call_fn, lstm_cell_4_layer_call_and_return_conditional_losses, lstm_cell_4_layer_call_and_return_conditional_losses while saving (showing 5 of 5). These functions will not be directly callable after loading.\n",
            "WARNING:absl:Found untraced functions such as lstm_cell_4_layer_call_and_return_conditional_losses, lstm_cell_4_layer_call_fn, lstm_cell_4_layer_call_fn, lstm_cell_4_layer_call_and_return_conditional_losses, lstm_cell_4_layer_call_and_return_conditional_losses while saving (showing 5 of 5). These functions will not be directly callable after loading.\n"
          ],
          "name": "stderr"
        },
        {
          "output_type": "stream",
          "text": [
            "INFO:tensorflow:Assets written to: /content/drive/MyDrive/building1/26March5slots_200epochs_simpleLSTM/best_model.pkl/assets\n"
          ],
          "name": "stdout"
        },
        {
          "output_type": "stream",
          "text": [
            "INFO:tensorflow:Assets written to: /content/drive/MyDrive/building1/26March5slots_200epochs_simpleLSTM/best_model.pkl/assets\n"
          ],
          "name": "stderr"
        },
        {
          "output_type": "stream",
          "text": [
            "Epoch 3/200\n",
            "246/246 [==============================] - 12s 47ms/step - loss: 2.1024 - accuracy: 0.3321 - val_loss: 1.8634 - val_accuracy: 0.3856\n",
            "\n",
            "Epoch 00003: val_accuracy improved from 0.31435 to 0.38555, saving model to /content/drive/MyDrive/building1/26March5slots_200epochs_simpleLSTM/best_model.pkl\n"
          ],
          "name": "stdout"
        },
        {
          "output_type": "stream",
          "text": [
            "WARNING:absl:Found untraced functions such as lstm_cell_4_layer_call_and_return_conditional_losses, lstm_cell_4_layer_call_fn, lstm_cell_4_layer_call_fn, lstm_cell_4_layer_call_and_return_conditional_losses, lstm_cell_4_layer_call_and_return_conditional_losses while saving (showing 5 of 5). These functions will not be directly callable after loading.\n",
            "WARNING:absl:Found untraced functions such as lstm_cell_4_layer_call_and_return_conditional_losses, lstm_cell_4_layer_call_fn, lstm_cell_4_layer_call_fn, lstm_cell_4_layer_call_and_return_conditional_losses, lstm_cell_4_layer_call_and_return_conditional_losses while saving (showing 5 of 5). These functions will not be directly callable after loading.\n"
          ],
          "name": "stderr"
        },
        {
          "output_type": "stream",
          "text": [
            "INFO:tensorflow:Assets written to: /content/drive/MyDrive/building1/26March5slots_200epochs_simpleLSTM/best_model.pkl/assets\n"
          ],
          "name": "stdout"
        },
        {
          "output_type": "stream",
          "text": [
            "INFO:tensorflow:Assets written to: /content/drive/MyDrive/building1/26March5slots_200epochs_simpleLSTM/best_model.pkl/assets\n"
          ],
          "name": "stderr"
        },
        {
          "output_type": "stream",
          "text": [
            "Epoch 4/200\n",
            "246/246 [==============================] - 12s 47ms/step - loss: 1.8277 - accuracy: 0.3920 - val_loss: 1.7125 - val_accuracy: 0.4293\n",
            "\n",
            "Epoch 00004: val_accuracy improved from 0.38555 to 0.42931, saving model to /content/drive/MyDrive/building1/26March5slots_200epochs_simpleLSTM/best_model.pkl\n"
          ],
          "name": "stdout"
        },
        {
          "output_type": "stream",
          "text": [
            "WARNING:absl:Found untraced functions such as lstm_cell_4_layer_call_and_return_conditional_losses, lstm_cell_4_layer_call_fn, lstm_cell_4_layer_call_fn, lstm_cell_4_layer_call_and_return_conditional_losses, lstm_cell_4_layer_call_and_return_conditional_losses while saving (showing 5 of 5). These functions will not be directly callable after loading.\n",
            "WARNING:absl:Found untraced functions such as lstm_cell_4_layer_call_and_return_conditional_losses, lstm_cell_4_layer_call_fn, lstm_cell_4_layer_call_fn, lstm_cell_4_layer_call_and_return_conditional_losses, lstm_cell_4_layer_call_and_return_conditional_losses while saving (showing 5 of 5). These functions will not be directly callable after loading.\n"
          ],
          "name": "stderr"
        },
        {
          "output_type": "stream",
          "text": [
            "INFO:tensorflow:Assets written to: /content/drive/MyDrive/building1/26March5slots_200epochs_simpleLSTM/best_model.pkl/assets\n"
          ],
          "name": "stdout"
        },
        {
          "output_type": "stream",
          "text": [
            "INFO:tensorflow:Assets written to: /content/drive/MyDrive/building1/26March5slots_200epochs_simpleLSTM/best_model.pkl/assets\n"
          ],
          "name": "stderr"
        },
        {
          "output_type": "stream",
          "text": [
            "Epoch 5/200\n",
            "246/246 [==============================] - 12s 47ms/step - loss: 1.6834 - accuracy: 0.4313 - val_loss: 1.6509 - val_accuracy: 0.4324\n",
            "\n",
            "Epoch 00005: val_accuracy improved from 0.42931 to 0.43243, saving model to /content/drive/MyDrive/building1/26March5slots_200epochs_simpleLSTM/best_model.pkl\n"
          ],
          "name": "stdout"
        },
        {
          "output_type": "stream",
          "text": [
            "WARNING:absl:Found untraced functions such as lstm_cell_4_layer_call_and_return_conditional_losses, lstm_cell_4_layer_call_fn, lstm_cell_4_layer_call_fn, lstm_cell_4_layer_call_and_return_conditional_losses, lstm_cell_4_layer_call_and_return_conditional_losses while saving (showing 5 of 5). These functions will not be directly callable after loading.\n",
            "WARNING:absl:Found untraced functions such as lstm_cell_4_layer_call_and_return_conditional_losses, lstm_cell_4_layer_call_fn, lstm_cell_4_layer_call_fn, lstm_cell_4_layer_call_and_return_conditional_losses, lstm_cell_4_layer_call_and_return_conditional_losses while saving (showing 5 of 5). These functions will not be directly callable after loading.\n"
          ],
          "name": "stderr"
        },
        {
          "output_type": "stream",
          "text": [
            "INFO:tensorflow:Assets written to: /content/drive/MyDrive/building1/26March5slots_200epochs_simpleLSTM/best_model.pkl/assets\n"
          ],
          "name": "stdout"
        },
        {
          "output_type": "stream",
          "text": [
            "INFO:tensorflow:Assets written to: /content/drive/MyDrive/building1/26March5slots_200epochs_simpleLSTM/best_model.pkl/assets\n"
          ],
          "name": "stderr"
        },
        {
          "output_type": "stream",
          "text": [
            "Epoch 6/200\n",
            "246/246 [==============================] - 12s 47ms/step - loss: 1.5944 - accuracy: 0.4488 - val_loss: 1.5448 - val_accuracy: 0.4602\n",
            "\n",
            "Epoch 00006: val_accuracy improved from 0.43243 to 0.46017, saving model to /content/drive/MyDrive/building1/26March5slots_200epochs_simpleLSTM/best_model.pkl\n"
          ],
          "name": "stdout"
        },
        {
          "output_type": "stream",
          "text": [
            "WARNING:absl:Found untraced functions such as lstm_cell_4_layer_call_and_return_conditional_losses, lstm_cell_4_layer_call_fn, lstm_cell_4_layer_call_fn, lstm_cell_4_layer_call_and_return_conditional_losses, lstm_cell_4_layer_call_and_return_conditional_losses while saving (showing 5 of 5). These functions will not be directly callable after loading.\n",
            "WARNING:absl:Found untraced functions such as lstm_cell_4_layer_call_and_return_conditional_losses, lstm_cell_4_layer_call_fn, lstm_cell_4_layer_call_fn, lstm_cell_4_layer_call_and_return_conditional_losses, lstm_cell_4_layer_call_and_return_conditional_losses while saving (showing 5 of 5). These functions will not be directly callable after loading.\n"
          ],
          "name": "stderr"
        },
        {
          "output_type": "stream",
          "text": [
            "INFO:tensorflow:Assets written to: /content/drive/MyDrive/building1/26March5slots_200epochs_simpleLSTM/best_model.pkl/assets\n"
          ],
          "name": "stdout"
        },
        {
          "output_type": "stream",
          "text": [
            "INFO:tensorflow:Assets written to: /content/drive/MyDrive/building1/26March5slots_200epochs_simpleLSTM/best_model.pkl/assets\n"
          ],
          "name": "stderr"
        },
        {
          "output_type": "stream",
          "text": [
            "Epoch 7/200\n",
            "246/246 [==============================] - 12s 47ms/step - loss: 1.4913 - accuracy: 0.4807 - val_loss: 1.4995 - val_accuracy: 0.4731\n",
            "\n",
            "Epoch 00007: val_accuracy improved from 0.46017 to 0.47308, saving model to /content/drive/MyDrive/building1/26March5slots_200epochs_simpleLSTM/best_model.pkl\n"
          ],
          "name": "stdout"
        },
        {
          "output_type": "stream",
          "text": [
            "WARNING:absl:Found untraced functions such as lstm_cell_4_layer_call_and_return_conditional_losses, lstm_cell_4_layer_call_fn, lstm_cell_4_layer_call_fn, lstm_cell_4_layer_call_and_return_conditional_losses, lstm_cell_4_layer_call_and_return_conditional_losses while saving (showing 5 of 5). These functions will not be directly callable after loading.\n",
            "WARNING:absl:Found untraced functions such as lstm_cell_4_layer_call_and_return_conditional_losses, lstm_cell_4_layer_call_fn, lstm_cell_4_layer_call_fn, lstm_cell_4_layer_call_and_return_conditional_losses, lstm_cell_4_layer_call_and_return_conditional_losses while saving (showing 5 of 5). These functions will not be directly callable after loading.\n"
          ],
          "name": "stderr"
        },
        {
          "output_type": "stream",
          "text": [
            "INFO:tensorflow:Assets written to: /content/drive/MyDrive/building1/26March5slots_200epochs_simpleLSTM/best_model.pkl/assets\n"
          ],
          "name": "stdout"
        },
        {
          "output_type": "stream",
          "text": [
            "INFO:tensorflow:Assets written to: /content/drive/MyDrive/building1/26March5slots_200epochs_simpleLSTM/best_model.pkl/assets\n"
          ],
          "name": "stderr"
        },
        {
          "output_type": "stream",
          "text": [
            "Epoch 8/200\n",
            "246/246 [==============================] - 12s 48ms/step - loss: 1.4427 - accuracy: 0.4980 - val_loss: 1.4483 - val_accuracy: 0.4937\n",
            "\n",
            "Epoch 00008: val_accuracy improved from 0.47308 to 0.49370, saving model to /content/drive/MyDrive/building1/26March5slots_200epochs_simpleLSTM/best_model.pkl\n"
          ],
          "name": "stdout"
        },
        {
          "output_type": "stream",
          "text": [
            "WARNING:absl:Found untraced functions such as lstm_cell_4_layer_call_and_return_conditional_losses, lstm_cell_4_layer_call_fn, lstm_cell_4_layer_call_fn, lstm_cell_4_layer_call_and_return_conditional_losses, lstm_cell_4_layer_call_and_return_conditional_losses while saving (showing 5 of 5). These functions will not be directly callable after loading.\n",
            "WARNING:absl:Found untraced functions such as lstm_cell_4_layer_call_and_return_conditional_losses, lstm_cell_4_layer_call_fn, lstm_cell_4_layer_call_fn, lstm_cell_4_layer_call_and_return_conditional_losses, lstm_cell_4_layer_call_and_return_conditional_losses while saving (showing 5 of 5). These functions will not be directly callable after loading.\n"
          ],
          "name": "stderr"
        },
        {
          "output_type": "stream",
          "text": [
            "INFO:tensorflow:Assets written to: /content/drive/MyDrive/building1/26March5slots_200epochs_simpleLSTM/best_model.pkl/assets\n"
          ],
          "name": "stdout"
        },
        {
          "output_type": "stream",
          "text": [
            "INFO:tensorflow:Assets written to: /content/drive/MyDrive/building1/26March5slots_200epochs_simpleLSTM/best_model.pkl/assets\n"
          ],
          "name": "stderr"
        },
        {
          "output_type": "stream",
          "text": [
            "Epoch 9/200\n",
            "246/246 [==============================] - 12s 48ms/step - loss: 1.3570 - accuracy: 0.5243 - val_loss: 1.4391 - val_accuracy: 0.4881\n",
            "\n",
            "Epoch 00009: val_accuracy did not improve from 0.49370\n",
            "Epoch 10/200\n",
            "246/246 [==============================] - 12s 48ms/step - loss: 1.3308 - accuracy: 0.5295 - val_loss: 1.4807 - val_accuracy: 0.4867\n",
            "\n",
            "Epoch 00010: val_accuracy did not improve from 0.49370\n",
            "Epoch 11/200\n",
            "246/246 [==============================] - 12s 48ms/step - loss: 1.3481 - accuracy: 0.5292 - val_loss: 1.3310 - val_accuracy: 0.5220\n",
            "\n",
            "Epoch 00011: val_accuracy improved from 0.49370 to 0.52203, saving model to /content/drive/MyDrive/building1/26March5slots_200epochs_simpleLSTM/best_model.pkl\n"
          ],
          "name": "stdout"
        },
        {
          "output_type": "stream",
          "text": [
            "WARNING:absl:Found untraced functions such as lstm_cell_4_layer_call_and_return_conditional_losses, lstm_cell_4_layer_call_fn, lstm_cell_4_layer_call_fn, lstm_cell_4_layer_call_and_return_conditional_losses, lstm_cell_4_layer_call_and_return_conditional_losses while saving (showing 5 of 5). These functions will not be directly callable after loading.\n",
            "WARNING:absl:Found untraced functions such as lstm_cell_4_layer_call_and_return_conditional_losses, lstm_cell_4_layer_call_fn, lstm_cell_4_layer_call_fn, lstm_cell_4_layer_call_and_return_conditional_losses, lstm_cell_4_layer_call_and_return_conditional_losses while saving (showing 5 of 5). These functions will not be directly callable after loading.\n"
          ],
          "name": "stderr"
        },
        {
          "output_type": "stream",
          "text": [
            "INFO:tensorflow:Assets written to: /content/drive/MyDrive/building1/26March5slots_200epochs_simpleLSTM/best_model.pkl/assets\n"
          ],
          "name": "stdout"
        },
        {
          "output_type": "stream",
          "text": [
            "INFO:tensorflow:Assets written to: /content/drive/MyDrive/building1/26March5slots_200epochs_simpleLSTM/best_model.pkl/assets\n"
          ],
          "name": "stderr"
        },
        {
          "output_type": "stream",
          "text": [
            "Epoch 12/200\n",
            "246/246 [==============================] - 12s 47ms/step - loss: 1.2304 - accuracy: 0.5611 - val_loss: 1.2733 - val_accuracy: 0.5458\n",
            "\n",
            "Epoch 00012: val_accuracy improved from 0.52203 to 0.54576, saving model to /content/drive/MyDrive/building1/26March5slots_200epochs_simpleLSTM/best_model.pkl\n"
          ],
          "name": "stdout"
        },
        {
          "output_type": "stream",
          "text": [
            "WARNING:absl:Found untraced functions such as lstm_cell_4_layer_call_and_return_conditional_losses, lstm_cell_4_layer_call_fn, lstm_cell_4_layer_call_fn, lstm_cell_4_layer_call_and_return_conditional_losses, lstm_cell_4_layer_call_and_return_conditional_losses while saving (showing 5 of 5). These functions will not be directly callable after loading.\n",
            "WARNING:absl:Found untraced functions such as lstm_cell_4_layer_call_and_return_conditional_losses, lstm_cell_4_layer_call_fn, lstm_cell_4_layer_call_fn, lstm_cell_4_layer_call_and_return_conditional_losses, lstm_cell_4_layer_call_and_return_conditional_losses while saving (showing 5 of 5). These functions will not be directly callable after loading.\n"
          ],
          "name": "stderr"
        },
        {
          "output_type": "stream",
          "text": [
            "INFO:tensorflow:Assets written to: /content/drive/MyDrive/building1/26March5slots_200epochs_simpleLSTM/best_model.pkl/assets\n"
          ],
          "name": "stdout"
        },
        {
          "output_type": "stream",
          "text": [
            "INFO:tensorflow:Assets written to: /content/drive/MyDrive/building1/26March5slots_200epochs_simpleLSTM/best_model.pkl/assets\n"
          ],
          "name": "stderr"
        },
        {
          "output_type": "stream",
          "text": [
            "Epoch 13/200\n",
            "246/246 [==============================] - 12s 48ms/step - loss: 1.2038 - accuracy: 0.5704 - val_loss: 1.2679 - val_accuracy: 0.5492\n",
            "\n",
            "Epoch 00013: val_accuracy improved from 0.54576 to 0.54918, saving model to /content/drive/MyDrive/building1/26March5slots_200epochs_simpleLSTM/best_model.pkl\n"
          ],
          "name": "stdout"
        },
        {
          "output_type": "stream",
          "text": [
            "WARNING:absl:Found untraced functions such as lstm_cell_4_layer_call_and_return_conditional_losses, lstm_cell_4_layer_call_fn, lstm_cell_4_layer_call_fn, lstm_cell_4_layer_call_and_return_conditional_losses, lstm_cell_4_layer_call_and_return_conditional_losses while saving (showing 5 of 5). These functions will not be directly callable after loading.\n",
            "WARNING:absl:Found untraced functions such as lstm_cell_4_layer_call_and_return_conditional_losses, lstm_cell_4_layer_call_fn, lstm_cell_4_layer_call_fn, lstm_cell_4_layer_call_and_return_conditional_losses, lstm_cell_4_layer_call_and_return_conditional_losses while saving (showing 5 of 5). These functions will not be directly callable after loading.\n"
          ],
          "name": "stderr"
        },
        {
          "output_type": "stream",
          "text": [
            "INFO:tensorflow:Assets written to: /content/drive/MyDrive/building1/26March5slots_200epochs_simpleLSTM/best_model.pkl/assets\n"
          ],
          "name": "stdout"
        },
        {
          "output_type": "stream",
          "text": [
            "INFO:tensorflow:Assets written to: /content/drive/MyDrive/building1/26March5slots_200epochs_simpleLSTM/best_model.pkl/assets\n"
          ],
          "name": "stderr"
        },
        {
          "output_type": "stream",
          "text": [
            "Epoch 14/200\n",
            "246/246 [==============================] - 12s 48ms/step - loss: 1.1945 - accuracy: 0.5733 - val_loss: 1.2521 - val_accuracy: 0.5499\n",
            "\n",
            "Epoch 00014: val_accuracy improved from 0.54918 to 0.54992, saving model to /content/drive/MyDrive/building1/26March5slots_200epochs_simpleLSTM/best_model.pkl\n"
          ],
          "name": "stdout"
        },
        {
          "output_type": "stream",
          "text": [
            "WARNING:absl:Found untraced functions such as lstm_cell_4_layer_call_and_return_conditional_losses, lstm_cell_4_layer_call_fn, lstm_cell_4_layer_call_fn, lstm_cell_4_layer_call_and_return_conditional_losses, lstm_cell_4_layer_call_and_return_conditional_losses while saving (showing 5 of 5). These functions will not be directly callable after loading.\n",
            "WARNING:absl:Found untraced functions such as lstm_cell_4_layer_call_and_return_conditional_losses, lstm_cell_4_layer_call_fn, lstm_cell_4_layer_call_fn, lstm_cell_4_layer_call_and_return_conditional_losses, lstm_cell_4_layer_call_and_return_conditional_losses while saving (showing 5 of 5). These functions will not be directly callable after loading.\n"
          ],
          "name": "stderr"
        },
        {
          "output_type": "stream",
          "text": [
            "INFO:tensorflow:Assets written to: /content/drive/MyDrive/building1/26March5slots_200epochs_simpleLSTM/best_model.pkl/assets\n"
          ],
          "name": "stdout"
        },
        {
          "output_type": "stream",
          "text": [
            "INFO:tensorflow:Assets written to: /content/drive/MyDrive/building1/26March5slots_200epochs_simpleLSTM/best_model.pkl/assets\n"
          ],
          "name": "stderr"
        },
        {
          "output_type": "stream",
          "text": [
            "Epoch 15/200\n",
            "246/246 [==============================] - 12s 48ms/step - loss: 1.1480 - accuracy: 0.5914 - val_loss: 1.3677 - val_accuracy: 0.5180\n",
            "\n",
            "Epoch 00015: val_accuracy did not improve from 0.54992\n",
            "Epoch 16/200\n",
            "246/246 [==============================] - 11s 47ms/step - loss: 1.1438 - accuracy: 0.5927 - val_loss: 1.1927 - val_accuracy: 0.5655\n",
            "\n",
            "Epoch 00016: val_accuracy improved from 0.54992 to 0.56549, saving model to /content/drive/MyDrive/building1/26March5slots_200epochs_simpleLSTM/best_model.pkl\n"
          ],
          "name": "stdout"
        },
        {
          "output_type": "stream",
          "text": [
            "WARNING:absl:Found untraced functions such as lstm_cell_4_layer_call_and_return_conditional_losses, lstm_cell_4_layer_call_fn, lstm_cell_4_layer_call_fn, lstm_cell_4_layer_call_and_return_conditional_losses, lstm_cell_4_layer_call_and_return_conditional_losses while saving (showing 5 of 5). These functions will not be directly callable after loading.\n",
            "WARNING:absl:Found untraced functions such as lstm_cell_4_layer_call_and_return_conditional_losses, lstm_cell_4_layer_call_fn, lstm_cell_4_layer_call_fn, lstm_cell_4_layer_call_and_return_conditional_losses, lstm_cell_4_layer_call_and_return_conditional_losses while saving (showing 5 of 5). These functions will not be directly callable after loading.\n"
          ],
          "name": "stderr"
        },
        {
          "output_type": "stream",
          "text": [
            "INFO:tensorflow:Assets written to: /content/drive/MyDrive/building1/26March5slots_200epochs_simpleLSTM/best_model.pkl/assets\n"
          ],
          "name": "stdout"
        },
        {
          "output_type": "stream",
          "text": [
            "INFO:tensorflow:Assets written to: /content/drive/MyDrive/building1/26March5slots_200epochs_simpleLSTM/best_model.pkl/assets\n"
          ],
          "name": "stderr"
        },
        {
          "output_type": "stream",
          "text": [
            "Epoch 17/200\n",
            "246/246 [==============================] - 12s 47ms/step - loss: 1.0836 - accuracy: 0.6099 - val_loss: 1.1960 - val_accuracy: 0.5668\n",
            "\n",
            "Epoch 00017: val_accuracy improved from 0.56549 to 0.56683, saving model to /content/drive/MyDrive/building1/26March5slots_200epochs_simpleLSTM/best_model.pkl\n"
          ],
          "name": "stdout"
        },
        {
          "output_type": "stream",
          "text": [
            "WARNING:absl:Found untraced functions such as lstm_cell_4_layer_call_and_return_conditional_losses, lstm_cell_4_layer_call_fn, lstm_cell_4_layer_call_fn, lstm_cell_4_layer_call_and_return_conditional_losses, lstm_cell_4_layer_call_and_return_conditional_losses while saving (showing 5 of 5). These functions will not be directly callable after loading.\n",
            "WARNING:absl:Found untraced functions such as lstm_cell_4_layer_call_and_return_conditional_losses, lstm_cell_4_layer_call_fn, lstm_cell_4_layer_call_fn, lstm_cell_4_layer_call_and_return_conditional_losses, lstm_cell_4_layer_call_and_return_conditional_losses while saving (showing 5 of 5). These functions will not be directly callable after loading.\n"
          ],
          "name": "stderr"
        },
        {
          "output_type": "stream",
          "text": [
            "INFO:tensorflow:Assets written to: /content/drive/MyDrive/building1/26March5slots_200epochs_simpleLSTM/best_model.pkl/assets\n"
          ],
          "name": "stdout"
        },
        {
          "output_type": "stream",
          "text": [
            "INFO:tensorflow:Assets written to: /content/drive/MyDrive/building1/26March5slots_200epochs_simpleLSTM/best_model.pkl/assets\n"
          ],
          "name": "stderr"
        },
        {
          "output_type": "stream",
          "text": [
            "Epoch 18/200\n",
            "246/246 [==============================] - 12s 48ms/step - loss: 1.1039 - accuracy: 0.6095 - val_loss: 1.2017 - val_accuracy: 0.5661\n",
            "\n",
            "Epoch 00018: val_accuracy did not improve from 0.56683\n",
            "Epoch 19/200\n",
            "246/246 [==============================] - 12s 48ms/step - loss: 1.0520 - accuracy: 0.6192 - val_loss: 1.1998 - val_accuracy: 0.5613\n",
            "\n",
            "Epoch 00019: val_accuracy did not improve from 0.56683\n",
            "Epoch 20/200\n",
            "246/246 [==============================] - 12s 48ms/step - loss: 1.0283 - accuracy: 0.6272 - val_loss: 1.1531 - val_accuracy: 0.5845\n",
            "\n",
            "Epoch 00020: val_accuracy improved from 0.56683 to 0.58448, saving model to /content/drive/MyDrive/building1/26March5slots_200epochs_simpleLSTM/best_model.pkl\n"
          ],
          "name": "stdout"
        },
        {
          "output_type": "stream",
          "text": [
            "WARNING:absl:Found untraced functions such as lstm_cell_4_layer_call_and_return_conditional_losses, lstm_cell_4_layer_call_fn, lstm_cell_4_layer_call_fn, lstm_cell_4_layer_call_and_return_conditional_losses, lstm_cell_4_layer_call_and_return_conditional_losses while saving (showing 5 of 5). These functions will not be directly callable after loading.\n",
            "WARNING:absl:Found untraced functions such as lstm_cell_4_layer_call_and_return_conditional_losses, lstm_cell_4_layer_call_fn, lstm_cell_4_layer_call_fn, lstm_cell_4_layer_call_and_return_conditional_losses, lstm_cell_4_layer_call_and_return_conditional_losses while saving (showing 5 of 5). These functions will not be directly callable after loading.\n"
          ],
          "name": "stderr"
        },
        {
          "output_type": "stream",
          "text": [
            "INFO:tensorflow:Assets written to: /content/drive/MyDrive/building1/26March5slots_200epochs_simpleLSTM/best_model.pkl/assets\n"
          ],
          "name": "stdout"
        },
        {
          "output_type": "stream",
          "text": [
            "INFO:tensorflow:Assets written to: /content/drive/MyDrive/building1/26March5slots_200epochs_simpleLSTM/best_model.pkl/assets\n"
          ],
          "name": "stderr"
        },
        {
          "output_type": "stream",
          "text": [
            "Epoch 21/200\n",
            "246/246 [==============================] - 12s 47ms/step - loss: 0.9954 - accuracy: 0.6399 - val_loss: 1.1468 - val_accuracy: 0.5837\n",
            "\n",
            "Epoch 00021: val_accuracy did not improve from 0.58448\n",
            "Epoch 22/200\n",
            "246/246 [==============================] - 12s 48ms/step - loss: 0.9840 - accuracy: 0.6451 - val_loss: 1.0953 - val_accuracy: 0.6027\n",
            "\n",
            "Epoch 00022: val_accuracy improved from 0.58448 to 0.60273, saving model to /content/drive/MyDrive/building1/26March5slots_200epochs_simpleLSTM/best_model.pkl\n"
          ],
          "name": "stdout"
        },
        {
          "output_type": "stream",
          "text": [
            "WARNING:absl:Found untraced functions such as lstm_cell_4_layer_call_and_return_conditional_losses, lstm_cell_4_layer_call_fn, lstm_cell_4_layer_call_fn, lstm_cell_4_layer_call_and_return_conditional_losses, lstm_cell_4_layer_call_and_return_conditional_losses while saving (showing 5 of 5). These functions will not be directly callable after loading.\n",
            "WARNING:absl:Found untraced functions such as lstm_cell_4_layer_call_and_return_conditional_losses, lstm_cell_4_layer_call_fn, lstm_cell_4_layer_call_fn, lstm_cell_4_layer_call_and_return_conditional_losses, lstm_cell_4_layer_call_and_return_conditional_losses while saving (showing 5 of 5). These functions will not be directly callable after loading.\n"
          ],
          "name": "stderr"
        },
        {
          "output_type": "stream",
          "text": [
            "INFO:tensorflow:Assets written to: /content/drive/MyDrive/building1/26March5slots_200epochs_simpleLSTM/best_model.pkl/assets\n"
          ],
          "name": "stdout"
        },
        {
          "output_type": "stream",
          "text": [
            "INFO:tensorflow:Assets written to: /content/drive/MyDrive/building1/26March5slots_200epochs_simpleLSTM/best_model.pkl/assets\n"
          ],
          "name": "stderr"
        },
        {
          "output_type": "stream",
          "text": [
            "Epoch 23/200\n",
            "246/246 [==============================] - 12s 47ms/step - loss: 0.9701 - accuracy: 0.6502 - val_loss: 1.1307 - val_accuracy: 0.5944\n",
            "\n",
            "Epoch 00023: val_accuracy did not improve from 0.60273\n",
            "Epoch 24/200\n",
            "246/246 [==============================] - 12s 47ms/step - loss: 1.0101 - accuracy: 0.6398 - val_loss: 1.0908 - val_accuracy: 0.6082\n",
            "\n",
            "Epoch 00024: val_accuracy improved from 0.60273 to 0.60822, saving model to /content/drive/MyDrive/building1/26March5slots_200epochs_simpleLSTM/best_model.pkl\n"
          ],
          "name": "stdout"
        },
        {
          "output_type": "stream",
          "text": [
            "WARNING:absl:Found untraced functions such as lstm_cell_4_layer_call_and_return_conditional_losses, lstm_cell_4_layer_call_fn, lstm_cell_4_layer_call_fn, lstm_cell_4_layer_call_and_return_conditional_losses, lstm_cell_4_layer_call_and_return_conditional_losses while saving (showing 5 of 5). These functions will not be directly callable after loading.\n",
            "WARNING:absl:Found untraced functions such as lstm_cell_4_layer_call_and_return_conditional_losses, lstm_cell_4_layer_call_fn, lstm_cell_4_layer_call_fn, lstm_cell_4_layer_call_and_return_conditional_losses, lstm_cell_4_layer_call_and_return_conditional_losses while saving (showing 5 of 5). These functions will not be directly callable after loading.\n"
          ],
          "name": "stderr"
        },
        {
          "output_type": "stream",
          "text": [
            "INFO:tensorflow:Assets written to: /content/drive/MyDrive/building1/26March5slots_200epochs_simpleLSTM/best_model.pkl/assets\n"
          ],
          "name": "stdout"
        },
        {
          "output_type": "stream",
          "text": [
            "INFO:tensorflow:Assets written to: /content/drive/MyDrive/building1/26March5slots_200epochs_simpleLSTM/best_model.pkl/assets\n"
          ],
          "name": "stderr"
        },
        {
          "output_type": "stream",
          "text": [
            "Epoch 25/200\n",
            "246/246 [==============================] - 12s 48ms/step - loss: 0.9160 - accuracy: 0.6669 - val_loss: 1.0835 - val_accuracy: 0.6121\n",
            "\n",
            "Epoch 00025: val_accuracy improved from 0.60822 to 0.61208, saving model to /content/drive/MyDrive/building1/26March5slots_200epochs_simpleLSTM/best_model.pkl\n"
          ],
          "name": "stdout"
        },
        {
          "output_type": "stream",
          "text": [
            "WARNING:absl:Found untraced functions such as lstm_cell_4_layer_call_and_return_conditional_losses, lstm_cell_4_layer_call_fn, lstm_cell_4_layer_call_fn, lstm_cell_4_layer_call_and_return_conditional_losses, lstm_cell_4_layer_call_and_return_conditional_losses while saving (showing 5 of 5). These functions will not be directly callable after loading.\n",
            "WARNING:absl:Found untraced functions such as lstm_cell_4_layer_call_and_return_conditional_losses, lstm_cell_4_layer_call_fn, lstm_cell_4_layer_call_fn, lstm_cell_4_layer_call_and_return_conditional_losses, lstm_cell_4_layer_call_and_return_conditional_losses while saving (showing 5 of 5). These functions will not be directly callable after loading.\n"
          ],
          "name": "stderr"
        },
        {
          "output_type": "stream",
          "text": [
            "INFO:tensorflow:Assets written to: /content/drive/MyDrive/building1/26March5slots_200epochs_simpleLSTM/best_model.pkl/assets\n"
          ],
          "name": "stdout"
        },
        {
          "output_type": "stream",
          "text": [
            "INFO:tensorflow:Assets written to: /content/drive/MyDrive/building1/26March5slots_200epochs_simpleLSTM/best_model.pkl/assets\n"
          ],
          "name": "stderr"
        },
        {
          "output_type": "stream",
          "text": [
            "Epoch 26/200\n",
            "246/246 [==============================] - 12s 48ms/step - loss: 0.9103 - accuracy: 0.6703 - val_loss: 1.1061 - val_accuracy: 0.5962\n",
            "\n",
            "Epoch 00026: val_accuracy did not improve from 0.61208\n",
            "Epoch 27/200\n",
            "246/246 [==============================] - 12s 48ms/step - loss: 0.9182 - accuracy: 0.6685 - val_loss: 1.0752 - val_accuracy: 0.6164\n",
            "\n",
            "Epoch 00027: val_accuracy improved from 0.61208 to 0.61638, saving model to /content/drive/MyDrive/building1/26March5slots_200epochs_simpleLSTM/best_model.pkl\n"
          ],
          "name": "stdout"
        },
        {
          "output_type": "stream",
          "text": [
            "WARNING:absl:Found untraced functions such as lstm_cell_4_layer_call_and_return_conditional_losses, lstm_cell_4_layer_call_fn, lstm_cell_4_layer_call_fn, lstm_cell_4_layer_call_and_return_conditional_losses, lstm_cell_4_layer_call_and_return_conditional_losses while saving (showing 5 of 5). These functions will not be directly callable after loading.\n",
            "WARNING:absl:Found untraced functions such as lstm_cell_4_layer_call_and_return_conditional_losses, lstm_cell_4_layer_call_fn, lstm_cell_4_layer_call_fn, lstm_cell_4_layer_call_and_return_conditional_losses, lstm_cell_4_layer_call_and_return_conditional_losses while saving (showing 5 of 5). These functions will not be directly callable after loading.\n"
          ],
          "name": "stderr"
        },
        {
          "output_type": "stream",
          "text": [
            "INFO:tensorflow:Assets written to: /content/drive/MyDrive/building1/26March5slots_200epochs_simpleLSTM/best_model.pkl/assets\n"
          ],
          "name": "stdout"
        },
        {
          "output_type": "stream",
          "text": [
            "INFO:tensorflow:Assets written to: /content/drive/MyDrive/building1/26March5slots_200epochs_simpleLSTM/best_model.pkl/assets\n"
          ],
          "name": "stderr"
        },
        {
          "output_type": "stream",
          "text": [
            "Epoch 28/200\n",
            "246/246 [==============================] - 12s 48ms/step - loss: 0.8960 - accuracy: 0.6759 - val_loss: 1.0816 - val_accuracy: 0.6104\n",
            "\n",
            "Epoch 00028: val_accuracy did not improve from 0.61638\n",
            "Epoch 29/200\n",
            "246/246 [==============================] - 12s 47ms/step - loss: 0.8827 - accuracy: 0.6795 - val_loss: 1.0581 - val_accuracy: 0.6198\n",
            "\n",
            "Epoch 00029: val_accuracy improved from 0.61638 to 0.61979, saving model to /content/drive/MyDrive/building1/26March5slots_200epochs_simpleLSTM/best_model.pkl\n"
          ],
          "name": "stdout"
        },
        {
          "output_type": "stream",
          "text": [
            "WARNING:absl:Found untraced functions such as lstm_cell_4_layer_call_and_return_conditional_losses, lstm_cell_4_layer_call_fn, lstm_cell_4_layer_call_fn, lstm_cell_4_layer_call_and_return_conditional_losses, lstm_cell_4_layer_call_and_return_conditional_losses while saving (showing 5 of 5). These functions will not be directly callable after loading.\n",
            "WARNING:absl:Found untraced functions such as lstm_cell_4_layer_call_and_return_conditional_losses, lstm_cell_4_layer_call_fn, lstm_cell_4_layer_call_fn, lstm_cell_4_layer_call_and_return_conditional_losses, lstm_cell_4_layer_call_and_return_conditional_losses while saving (showing 5 of 5). These functions will not be directly callable after loading.\n"
          ],
          "name": "stderr"
        },
        {
          "output_type": "stream",
          "text": [
            "INFO:tensorflow:Assets written to: /content/drive/MyDrive/building1/26March5slots_200epochs_simpleLSTM/best_model.pkl/assets\n"
          ],
          "name": "stdout"
        },
        {
          "output_type": "stream",
          "text": [
            "INFO:tensorflow:Assets written to: /content/drive/MyDrive/building1/26March5slots_200epochs_simpleLSTM/best_model.pkl/assets\n"
          ],
          "name": "stderr"
        },
        {
          "output_type": "stream",
          "text": [
            "Epoch 30/200\n",
            "246/246 [==============================] - 12s 48ms/step - loss: 0.8438 - accuracy: 0.6964 - val_loss: 1.0391 - val_accuracy: 0.6279\n",
            "\n",
            "Epoch 00030: val_accuracy improved from 0.61979 to 0.62795, saving model to /content/drive/MyDrive/building1/26March5slots_200epochs_simpleLSTM/best_model.pkl\n"
          ],
          "name": "stdout"
        },
        {
          "output_type": "stream",
          "text": [
            "WARNING:absl:Found untraced functions such as lstm_cell_4_layer_call_and_return_conditional_losses, lstm_cell_4_layer_call_fn, lstm_cell_4_layer_call_fn, lstm_cell_4_layer_call_and_return_conditional_losses, lstm_cell_4_layer_call_and_return_conditional_losses while saving (showing 5 of 5). These functions will not be directly callable after loading.\n",
            "WARNING:absl:Found untraced functions such as lstm_cell_4_layer_call_and_return_conditional_losses, lstm_cell_4_layer_call_fn, lstm_cell_4_layer_call_fn, lstm_cell_4_layer_call_and_return_conditional_losses, lstm_cell_4_layer_call_and_return_conditional_losses while saving (showing 5 of 5). These functions will not be directly callable after loading.\n"
          ],
          "name": "stderr"
        },
        {
          "output_type": "stream",
          "text": [
            "INFO:tensorflow:Assets written to: /content/drive/MyDrive/building1/26March5slots_200epochs_simpleLSTM/best_model.pkl/assets\n"
          ],
          "name": "stdout"
        },
        {
          "output_type": "stream",
          "text": [
            "INFO:tensorflow:Assets written to: /content/drive/MyDrive/building1/26March5slots_200epochs_simpleLSTM/best_model.pkl/assets\n"
          ],
          "name": "stderr"
        },
        {
          "output_type": "stream",
          "text": [
            "Epoch 31/200\n",
            "246/246 [==============================] - 12s 48ms/step - loss: 0.8451 - accuracy: 0.6935 - val_loss: 1.0946 - val_accuracy: 0.6027\n",
            "\n",
            "Epoch 00031: val_accuracy did not improve from 0.62795\n",
            "Epoch 32/200\n",
            "246/246 [==============================] - 12s 48ms/step - loss: 0.9118 - accuracy: 0.6708 - val_loss: 1.0958 - val_accuracy: 0.6131\n",
            "\n",
            "Epoch 00032: val_accuracy did not improve from 0.62795\n",
            "Epoch 33/200\n",
            "246/246 [==============================] - 12s 47ms/step - loss: 0.8157 - accuracy: 0.7056 - val_loss: 1.0637 - val_accuracy: 0.6186\n",
            "\n",
            "Epoch 00033: val_accuracy did not improve from 0.62795\n",
            "Epoch 34/200\n",
            "246/246 [==============================] - 12s 48ms/step - loss: 0.8159 - accuracy: 0.7056 - val_loss: 1.0619 - val_accuracy: 0.6222\n",
            "\n",
            "Epoch 00034: val_accuracy did not improve from 0.62795\n",
            "Epoch 35/200\n",
            "246/246 [==============================] - 12s 47ms/step - loss: 0.8120 - accuracy: 0.7068 - val_loss: 1.0693 - val_accuracy: 0.6173\n",
            "\n",
            "Epoch 00035: val_accuracy did not improve from 0.62795\n",
            "Epoch 36/200\n",
            "246/246 [==============================] - 12s 48ms/step - loss: 0.7910 - accuracy: 0.7122 - val_loss: 1.0951 - val_accuracy: 0.6144\n",
            "\n",
            "Epoch 00036: val_accuracy did not improve from 0.62795\n",
            "Epoch 37/200\n",
            "246/246 [==============================] - 12s 48ms/step - loss: 0.7737 - accuracy: 0.7185 - val_loss: 1.0206 - val_accuracy: 0.6389\n",
            "\n",
            "Epoch 00037: val_accuracy improved from 0.62795 to 0.63893, saving model to /content/drive/MyDrive/building1/26March5slots_200epochs_simpleLSTM/best_model.pkl\n"
          ],
          "name": "stdout"
        },
        {
          "output_type": "stream",
          "text": [
            "WARNING:absl:Found untraced functions such as lstm_cell_4_layer_call_and_return_conditional_losses, lstm_cell_4_layer_call_fn, lstm_cell_4_layer_call_fn, lstm_cell_4_layer_call_and_return_conditional_losses, lstm_cell_4_layer_call_and_return_conditional_losses while saving (showing 5 of 5). These functions will not be directly callable after loading.\n",
            "WARNING:absl:Found untraced functions such as lstm_cell_4_layer_call_and_return_conditional_losses, lstm_cell_4_layer_call_fn, lstm_cell_4_layer_call_fn, lstm_cell_4_layer_call_and_return_conditional_losses, lstm_cell_4_layer_call_and_return_conditional_losses while saving (showing 5 of 5). These functions will not be directly callable after loading.\n"
          ],
          "name": "stderr"
        },
        {
          "output_type": "stream",
          "text": [
            "INFO:tensorflow:Assets written to: /content/drive/MyDrive/building1/26March5slots_200epochs_simpleLSTM/best_model.pkl/assets\n"
          ],
          "name": "stdout"
        },
        {
          "output_type": "stream",
          "text": [
            "INFO:tensorflow:Assets written to: /content/drive/MyDrive/building1/26March5slots_200epochs_simpleLSTM/best_model.pkl/assets\n"
          ],
          "name": "stderr"
        },
        {
          "output_type": "stream",
          "text": [
            "Epoch 38/200\n",
            "246/246 [==============================] - 12s 48ms/step - loss: 0.7687 - accuracy: 0.7209 - val_loss: 1.0926 - val_accuracy: 0.6155\n",
            "\n",
            "Epoch 00038: val_accuracy did not improve from 0.63893\n",
            "Epoch 39/200\n",
            "246/246 [==============================] - 12s 48ms/step - loss: 0.7500 - accuracy: 0.7308 - val_loss: 1.0132 - val_accuracy: 0.6391\n",
            "\n",
            "Epoch 00039: val_accuracy improved from 0.63893 to 0.63907, saving model to /content/drive/MyDrive/building1/26March5slots_200epochs_simpleLSTM/best_model.pkl\n"
          ],
          "name": "stdout"
        },
        {
          "output_type": "stream",
          "text": [
            "WARNING:absl:Found untraced functions such as lstm_cell_4_layer_call_and_return_conditional_losses, lstm_cell_4_layer_call_fn, lstm_cell_4_layer_call_fn, lstm_cell_4_layer_call_and_return_conditional_losses, lstm_cell_4_layer_call_and_return_conditional_losses while saving (showing 5 of 5). These functions will not be directly callable after loading.\n",
            "WARNING:absl:Found untraced functions such as lstm_cell_4_layer_call_and_return_conditional_losses, lstm_cell_4_layer_call_fn, lstm_cell_4_layer_call_fn, lstm_cell_4_layer_call_and_return_conditional_losses, lstm_cell_4_layer_call_and_return_conditional_losses while saving (showing 5 of 5). These functions will not be directly callable after loading.\n"
          ],
          "name": "stderr"
        },
        {
          "output_type": "stream",
          "text": [
            "INFO:tensorflow:Assets written to: /content/drive/MyDrive/building1/26March5slots_200epochs_simpleLSTM/best_model.pkl/assets\n"
          ],
          "name": "stdout"
        },
        {
          "output_type": "stream",
          "text": [
            "INFO:tensorflow:Assets written to: /content/drive/MyDrive/building1/26March5slots_200epochs_simpleLSTM/best_model.pkl/assets\n"
          ],
          "name": "stderr"
        },
        {
          "output_type": "stream",
          "text": [
            "Epoch 40/200\n",
            "246/246 [==============================] - 12s 48ms/step - loss: 0.7529 - accuracy: 0.7291 - val_loss: 1.0272 - val_accuracy: 0.6395\n",
            "\n",
            "Epoch 00040: val_accuracy improved from 0.63907 to 0.63952, saving model to /content/drive/MyDrive/building1/26March5slots_200epochs_simpleLSTM/best_model.pkl\n"
          ],
          "name": "stdout"
        },
        {
          "output_type": "stream",
          "text": [
            "WARNING:absl:Found untraced functions such as lstm_cell_4_layer_call_and_return_conditional_losses, lstm_cell_4_layer_call_fn, lstm_cell_4_layer_call_fn, lstm_cell_4_layer_call_and_return_conditional_losses, lstm_cell_4_layer_call_and_return_conditional_losses while saving (showing 5 of 5). These functions will not be directly callable after loading.\n",
            "WARNING:absl:Found untraced functions such as lstm_cell_4_layer_call_and_return_conditional_losses, lstm_cell_4_layer_call_fn, lstm_cell_4_layer_call_fn, lstm_cell_4_layer_call_and_return_conditional_losses, lstm_cell_4_layer_call_and_return_conditional_losses while saving (showing 5 of 5). These functions will not be directly callable after loading.\n"
          ],
          "name": "stderr"
        },
        {
          "output_type": "stream",
          "text": [
            "INFO:tensorflow:Assets written to: /content/drive/MyDrive/building1/26March5slots_200epochs_simpleLSTM/best_model.pkl/assets\n"
          ],
          "name": "stdout"
        },
        {
          "output_type": "stream",
          "text": [
            "INFO:tensorflow:Assets written to: /content/drive/MyDrive/building1/26March5slots_200epochs_simpleLSTM/best_model.pkl/assets\n"
          ],
          "name": "stderr"
        },
        {
          "output_type": "stream",
          "text": [
            "Epoch 41/200\n",
            "246/246 [==============================] - 12s 48ms/step - loss: 0.7311 - accuracy: 0.7333 - val_loss: 1.0706 - val_accuracy: 0.6268\n",
            "\n",
            "Epoch 00041: val_accuracy did not improve from 0.63952\n",
            "Epoch 42/200\n",
            "246/246 [==============================] - 12s 48ms/step - loss: 0.7147 - accuracy: 0.7361 - val_loss: 1.0081 - val_accuracy: 0.6456\n",
            "\n",
            "Epoch 00042: val_accuracy improved from 0.63952 to 0.64560, saving model to /content/drive/MyDrive/building1/26March5slots_200epochs_simpleLSTM/best_model.pkl\n"
          ],
          "name": "stdout"
        },
        {
          "output_type": "stream",
          "text": [
            "WARNING:absl:Found untraced functions such as lstm_cell_4_layer_call_and_return_conditional_losses, lstm_cell_4_layer_call_fn, lstm_cell_4_layer_call_fn, lstm_cell_4_layer_call_and_return_conditional_losses, lstm_cell_4_layer_call_and_return_conditional_losses while saving (showing 5 of 5). These functions will not be directly callable after loading.\n",
            "WARNING:absl:Found untraced functions such as lstm_cell_4_layer_call_and_return_conditional_losses, lstm_cell_4_layer_call_fn, lstm_cell_4_layer_call_fn, lstm_cell_4_layer_call_and_return_conditional_losses, lstm_cell_4_layer_call_and_return_conditional_losses while saving (showing 5 of 5). These functions will not be directly callable after loading.\n"
          ],
          "name": "stderr"
        },
        {
          "output_type": "stream",
          "text": [
            "INFO:tensorflow:Assets written to: /content/drive/MyDrive/building1/26March5slots_200epochs_simpleLSTM/best_model.pkl/assets\n"
          ],
          "name": "stdout"
        },
        {
          "output_type": "stream",
          "text": [
            "INFO:tensorflow:Assets written to: /content/drive/MyDrive/building1/26March5slots_200epochs_simpleLSTM/best_model.pkl/assets\n"
          ],
          "name": "stderr"
        },
        {
          "output_type": "stream",
          "text": [
            "Epoch 43/200\n",
            "246/246 [==============================] - 12s 48ms/step - loss: 0.7086 - accuracy: 0.7416 - val_loss: 0.9963 - val_accuracy: 0.6512\n",
            "\n",
            "Epoch 00043: val_accuracy improved from 0.64560 to 0.65124, saving model to /content/drive/MyDrive/building1/26March5slots_200epochs_simpleLSTM/best_model.pkl\n"
          ],
          "name": "stdout"
        },
        {
          "output_type": "stream",
          "text": [
            "WARNING:absl:Found untraced functions such as lstm_cell_4_layer_call_and_return_conditional_losses, lstm_cell_4_layer_call_fn, lstm_cell_4_layer_call_fn, lstm_cell_4_layer_call_and_return_conditional_losses, lstm_cell_4_layer_call_and_return_conditional_losses while saving (showing 5 of 5). These functions will not be directly callable after loading.\n",
            "WARNING:absl:Found untraced functions such as lstm_cell_4_layer_call_and_return_conditional_losses, lstm_cell_4_layer_call_fn, lstm_cell_4_layer_call_fn, lstm_cell_4_layer_call_and_return_conditional_losses, lstm_cell_4_layer_call_and_return_conditional_losses while saving (showing 5 of 5). These functions will not be directly callable after loading.\n"
          ],
          "name": "stderr"
        },
        {
          "output_type": "stream",
          "text": [
            "INFO:tensorflow:Assets written to: /content/drive/MyDrive/building1/26March5slots_200epochs_simpleLSTM/best_model.pkl/assets\n"
          ],
          "name": "stdout"
        },
        {
          "output_type": "stream",
          "text": [
            "INFO:tensorflow:Assets written to: /content/drive/MyDrive/building1/26March5slots_200epochs_simpleLSTM/best_model.pkl/assets\n"
          ],
          "name": "stderr"
        },
        {
          "output_type": "stream",
          "text": [
            "Epoch 44/200\n",
            "246/246 [==============================] - 12s 47ms/step - loss: 0.7216 - accuracy: 0.7412 - val_loss: 1.0261 - val_accuracy: 0.6386\n",
            "\n",
            "Epoch 00044: val_accuracy did not improve from 0.65124\n",
            "Epoch 45/200\n",
            "246/246 [==============================] - 12s 48ms/step - loss: 0.6938 - accuracy: 0.7473 - val_loss: 0.9835 - val_accuracy: 0.6570\n",
            "\n",
            "Epoch 00045: val_accuracy improved from 0.65124 to 0.65702, saving model to /content/drive/MyDrive/building1/26March5slots_200epochs_simpleLSTM/best_model.pkl\n"
          ],
          "name": "stdout"
        },
        {
          "output_type": "stream",
          "text": [
            "WARNING:absl:Found untraced functions such as lstm_cell_4_layer_call_and_return_conditional_losses, lstm_cell_4_layer_call_fn, lstm_cell_4_layer_call_fn, lstm_cell_4_layer_call_and_return_conditional_losses, lstm_cell_4_layer_call_and_return_conditional_losses while saving (showing 5 of 5). These functions will not be directly callable after loading.\n",
            "WARNING:absl:Found untraced functions such as lstm_cell_4_layer_call_and_return_conditional_losses, lstm_cell_4_layer_call_fn, lstm_cell_4_layer_call_fn, lstm_cell_4_layer_call_and_return_conditional_losses, lstm_cell_4_layer_call_and_return_conditional_losses while saving (showing 5 of 5). These functions will not be directly callable after loading.\n"
          ],
          "name": "stderr"
        },
        {
          "output_type": "stream",
          "text": [
            "INFO:tensorflow:Assets written to: /content/drive/MyDrive/building1/26March5slots_200epochs_simpleLSTM/best_model.pkl/assets\n"
          ],
          "name": "stdout"
        },
        {
          "output_type": "stream",
          "text": [
            "INFO:tensorflow:Assets written to: /content/drive/MyDrive/building1/26March5slots_200epochs_simpleLSTM/best_model.pkl/assets\n"
          ],
          "name": "stderr"
        },
        {
          "output_type": "stream",
          "text": [
            "Epoch 46/200\n",
            "246/246 [==============================] - 11s 47ms/step - loss: 0.6777 - accuracy: 0.7553 - val_loss: 0.9890 - val_accuracy: 0.6547\n",
            "\n",
            "Epoch 00046: val_accuracy did not improve from 0.65702\n",
            "Epoch 47/200\n",
            "246/246 [==============================] - 12s 48ms/step - loss: 0.6745 - accuracy: 0.7512 - val_loss: 1.0011 - val_accuracy: 0.6502\n",
            "\n",
            "Epoch 00047: val_accuracy did not improve from 0.65702\n",
            "Epoch 48/200\n",
            "246/246 [==============================] - 12s 48ms/step - loss: 0.6707 - accuracy: 0.7602 - val_loss: 1.0949 - val_accuracy: 0.6190\n",
            "\n",
            "Epoch 00048: val_accuracy did not improve from 0.65702\n",
            "Epoch 49/200\n",
            "246/246 [==============================] - 12s 48ms/step - loss: 0.6856 - accuracy: 0.7571 - val_loss: 1.3150 - val_accuracy: 0.5863\n",
            "\n",
            "Epoch 00049: val_accuracy did not improve from 0.65702\n",
            "Epoch 50/200\n",
            "246/246 [==============================] - 12s 49ms/step - loss: 0.6783 - accuracy: 0.7501 - val_loss: 1.0311 - val_accuracy: 0.6438\n",
            "\n",
            "Epoch 00050: val_accuracy did not improve from 0.65702\n",
            "Epoch 51/200\n",
            "246/246 [==============================] - 12s 48ms/step - loss: 0.6520 - accuracy: 0.7648 - val_loss: 0.9777 - val_accuracy: 0.6567\n",
            "\n",
            "Epoch 00051: val_accuracy did not improve from 0.65702\n",
            "Epoch 52/200\n",
            "246/246 [==============================] - 11s 46ms/step - loss: 0.6444 - accuracy: 0.7639 - val_loss: 1.0453 - val_accuracy: 0.6383\n",
            "\n",
            "Epoch 00052: val_accuracy did not improve from 0.65702\n",
            "Epoch 53/200\n",
            "246/246 [==============================] - 12s 48ms/step - loss: 0.6541 - accuracy: 0.7650 - val_loss: 1.0386 - val_accuracy: 0.6419\n",
            "\n",
            "Epoch 00053: val_accuracy did not improve from 0.65702\n",
            "Epoch 54/200\n",
            "246/246 [==============================] - 12s 47ms/step - loss: 0.6200 - accuracy: 0.7740 - val_loss: 1.0239 - val_accuracy: 0.6490\n",
            "\n",
            "Epoch 00054: val_accuracy did not improve from 0.65702\n",
            "Epoch 55/200\n",
            "246/246 [==============================] - 12s 48ms/step - loss: 0.6030 - accuracy: 0.7795 - val_loss: 1.0344 - val_accuracy: 0.6463\n",
            "\n",
            "Epoch 00055: val_accuracy did not improve from 0.65702\n",
            "Epoch 56/200\n",
            "246/246 [==============================] - 12s 48ms/step - loss: 0.6754 - accuracy: 0.7594 - val_loss: 1.0023 - val_accuracy: 0.6607\n",
            "\n",
            "Epoch 00056: val_accuracy improved from 0.65702 to 0.66073, saving model to /content/drive/MyDrive/building1/26March5slots_200epochs_simpleLSTM/best_model.pkl\n"
          ],
          "name": "stdout"
        },
        {
          "output_type": "stream",
          "text": [
            "WARNING:absl:Found untraced functions such as lstm_cell_4_layer_call_and_return_conditional_losses, lstm_cell_4_layer_call_fn, lstm_cell_4_layer_call_fn, lstm_cell_4_layer_call_and_return_conditional_losses, lstm_cell_4_layer_call_and_return_conditional_losses while saving (showing 5 of 5). These functions will not be directly callable after loading.\n",
            "WARNING:absl:Found untraced functions such as lstm_cell_4_layer_call_and_return_conditional_losses, lstm_cell_4_layer_call_fn, lstm_cell_4_layer_call_fn, lstm_cell_4_layer_call_and_return_conditional_losses, lstm_cell_4_layer_call_and_return_conditional_losses while saving (showing 5 of 5). These functions will not be directly callable after loading.\n"
          ],
          "name": "stderr"
        },
        {
          "output_type": "stream",
          "text": [
            "INFO:tensorflow:Assets written to: /content/drive/MyDrive/building1/26March5slots_200epochs_simpleLSTM/best_model.pkl/assets\n"
          ],
          "name": "stdout"
        },
        {
          "output_type": "stream",
          "text": [
            "INFO:tensorflow:Assets written to: /content/drive/MyDrive/building1/26March5slots_200epochs_simpleLSTM/best_model.pkl/assets\n"
          ],
          "name": "stderr"
        },
        {
          "output_type": "stream",
          "text": [
            "Epoch 57/200\n",
            "246/246 [==============================] - 12s 48ms/step - loss: 0.5961 - accuracy: 0.7843 - val_loss: 1.0114 - val_accuracy: 0.6630\n",
            "\n",
            "Epoch 00057: val_accuracy improved from 0.66073 to 0.66296, saving model to /content/drive/MyDrive/building1/26March5slots_200epochs_simpleLSTM/best_model.pkl\n"
          ],
          "name": "stdout"
        },
        {
          "output_type": "stream",
          "text": [
            "WARNING:absl:Found untraced functions such as lstm_cell_4_layer_call_and_return_conditional_losses, lstm_cell_4_layer_call_fn, lstm_cell_4_layer_call_fn, lstm_cell_4_layer_call_and_return_conditional_losses, lstm_cell_4_layer_call_and_return_conditional_losses while saving (showing 5 of 5). These functions will not be directly callable after loading.\n",
            "WARNING:absl:Found untraced functions such as lstm_cell_4_layer_call_and_return_conditional_losses, lstm_cell_4_layer_call_fn, lstm_cell_4_layer_call_fn, lstm_cell_4_layer_call_and_return_conditional_losses, lstm_cell_4_layer_call_and_return_conditional_losses while saving (showing 5 of 5). These functions will not be directly callable after loading.\n"
          ],
          "name": "stderr"
        },
        {
          "output_type": "stream",
          "text": [
            "INFO:tensorflow:Assets written to: /content/drive/MyDrive/building1/26March5slots_200epochs_simpleLSTM/best_model.pkl/assets\n"
          ],
          "name": "stdout"
        },
        {
          "output_type": "stream",
          "text": [
            "INFO:tensorflow:Assets written to: /content/drive/MyDrive/building1/26March5slots_200epochs_simpleLSTM/best_model.pkl/assets\n"
          ],
          "name": "stderr"
        },
        {
          "output_type": "stream",
          "text": [
            "Epoch 58/200\n",
            "246/246 [==============================] - 12s 48ms/step - loss: 0.5830 - accuracy: 0.7907 - val_loss: 0.9778 - val_accuracy: 0.6699\n",
            "\n",
            "Epoch 00058: val_accuracy improved from 0.66296 to 0.66993, saving model to /content/drive/MyDrive/building1/26March5slots_200epochs_simpleLSTM/best_model.pkl\n"
          ],
          "name": "stdout"
        },
        {
          "output_type": "stream",
          "text": [
            "WARNING:absl:Found untraced functions such as lstm_cell_4_layer_call_and_return_conditional_losses, lstm_cell_4_layer_call_fn, lstm_cell_4_layer_call_fn, lstm_cell_4_layer_call_and_return_conditional_losses, lstm_cell_4_layer_call_and_return_conditional_losses while saving (showing 5 of 5). These functions will not be directly callable after loading.\n",
            "WARNING:absl:Found untraced functions such as lstm_cell_4_layer_call_and_return_conditional_losses, lstm_cell_4_layer_call_fn, lstm_cell_4_layer_call_fn, lstm_cell_4_layer_call_and_return_conditional_losses, lstm_cell_4_layer_call_and_return_conditional_losses while saving (showing 5 of 5). These functions will not be directly callable after loading.\n"
          ],
          "name": "stderr"
        },
        {
          "output_type": "stream",
          "text": [
            "INFO:tensorflow:Assets written to: /content/drive/MyDrive/building1/26March5slots_200epochs_simpleLSTM/best_model.pkl/assets\n"
          ],
          "name": "stdout"
        },
        {
          "output_type": "stream",
          "text": [
            "INFO:tensorflow:Assets written to: /content/drive/MyDrive/building1/26March5slots_200epochs_simpleLSTM/best_model.pkl/assets\n"
          ],
          "name": "stderr"
        },
        {
          "output_type": "stream",
          "text": [
            "Epoch 59/200\n",
            "246/246 [==============================] - 12s 47ms/step - loss: 0.6026 - accuracy: 0.7863 - val_loss: 1.0038 - val_accuracy: 0.6649\n",
            "\n",
            "Epoch 00059: val_accuracy did not improve from 0.66993\n",
            "Epoch 60/200\n",
            "246/246 [==============================] - 12s 49ms/step - loss: 0.5716 - accuracy: 0.7962 - val_loss: 1.0042 - val_accuracy: 0.6664\n",
            "\n",
            "Epoch 00060: val_accuracy did not improve from 0.66993\n",
            "Epoch 61/200\n",
            "246/246 [==============================] - 12s 47ms/step - loss: 0.5709 - accuracy: 0.7924 - val_loss: 1.0455 - val_accuracy: 0.6532\n",
            "\n",
            "Epoch 00061: val_accuracy did not improve from 0.66993\n",
            "Epoch 62/200\n",
            "246/246 [==============================] - 12s 47ms/step - loss: 0.5809 - accuracy: 0.7882 - val_loss: 0.9811 - val_accuracy: 0.6742\n",
            "\n",
            "Epoch 00062: val_accuracy improved from 0.66993 to 0.67423, saving model to /content/drive/MyDrive/building1/26March5slots_200epochs_simpleLSTM/best_model.pkl\n"
          ],
          "name": "stdout"
        },
        {
          "output_type": "stream",
          "text": [
            "WARNING:absl:Found untraced functions such as lstm_cell_4_layer_call_and_return_conditional_losses, lstm_cell_4_layer_call_fn, lstm_cell_4_layer_call_fn, lstm_cell_4_layer_call_and_return_conditional_losses, lstm_cell_4_layer_call_and_return_conditional_losses while saving (showing 5 of 5). These functions will not be directly callable after loading.\n",
            "WARNING:absl:Found untraced functions such as lstm_cell_4_layer_call_and_return_conditional_losses, lstm_cell_4_layer_call_fn, lstm_cell_4_layer_call_fn, lstm_cell_4_layer_call_and_return_conditional_losses, lstm_cell_4_layer_call_and_return_conditional_losses while saving (showing 5 of 5). These functions will not be directly callable after loading.\n"
          ],
          "name": "stderr"
        },
        {
          "output_type": "stream",
          "text": [
            "INFO:tensorflow:Assets written to: /content/drive/MyDrive/building1/26March5slots_200epochs_simpleLSTM/best_model.pkl/assets\n"
          ],
          "name": "stdout"
        },
        {
          "output_type": "stream",
          "text": [
            "INFO:tensorflow:Assets written to: /content/drive/MyDrive/building1/26March5slots_200epochs_simpleLSTM/best_model.pkl/assets\n"
          ],
          "name": "stderr"
        },
        {
          "output_type": "stream",
          "text": [
            "Epoch 63/200\n",
            "246/246 [==============================] - 12s 48ms/step - loss: 0.5452 - accuracy: 0.8029 - val_loss: 0.9896 - val_accuracy: 0.6717\n",
            "\n",
            "Epoch 00063: val_accuracy did not improve from 0.67423\n",
            "Epoch 64/200\n",
            "246/246 [==============================] - 12s 48ms/step - loss: 0.5520 - accuracy: 0.7976 - val_loss: 0.9996 - val_accuracy: 0.6636\n",
            "\n",
            "Epoch 00064: val_accuracy did not improve from 0.67423\n",
            "Epoch 65/200\n",
            "246/246 [==============================] - 12s 48ms/step - loss: 0.5393 - accuracy: 0.8067 - val_loss: 0.9996 - val_accuracy: 0.6647\n",
            "\n",
            "Epoch 00065: val_accuracy did not improve from 0.67423\n",
            "Epoch 66/200\n",
            "246/246 [==============================] - 12s 48ms/step - loss: 0.5323 - accuracy: 0.8082 - val_loss: 0.9924 - val_accuracy: 0.6690\n",
            "\n",
            "Epoch 00066: val_accuracy did not improve from 0.67423\n",
            "Epoch 67/200\n",
            "246/246 [==============================] - 12s 48ms/step - loss: 0.5305 - accuracy: 0.8080 - val_loss: 1.1313 - val_accuracy: 0.6288\n",
            "\n",
            "Epoch 00067: val_accuracy did not improve from 0.67423\n",
            "Epoch 68/200\n",
            "246/246 [==============================] - 12s 48ms/step - loss: 0.5603 - accuracy: 0.7962 - val_loss: 1.0211 - val_accuracy: 0.6647\n",
            "\n",
            "Epoch 00068: val_accuracy did not improve from 0.67423\n",
            "Epoch 69/200\n",
            "246/246 [==============================] - 12s 48ms/step - loss: 0.5188 - accuracy: 0.8115 - val_loss: 1.0116 - val_accuracy: 0.6679\n",
            "\n",
            "Epoch 00069: val_accuracy did not improve from 0.67423\n",
            "Epoch 70/200\n",
            "246/246 [==============================] - 12s 48ms/step - loss: 0.5096 - accuracy: 0.8137 - val_loss: 1.0357 - val_accuracy: 0.6625\n",
            "\n",
            "Epoch 00070: val_accuracy did not improve from 0.67423\n",
            "Epoch 71/200\n",
            "246/246 [==============================] - 12s 48ms/step - loss: 0.5271 - accuracy: 0.8092 - val_loss: 0.9982 - val_accuracy: 0.6763\n",
            "\n",
            "Epoch 00071: val_accuracy improved from 0.67423 to 0.67631, saving model to /content/drive/MyDrive/building1/26March5slots_200epochs_simpleLSTM/best_model.pkl\n"
          ],
          "name": "stdout"
        },
        {
          "output_type": "stream",
          "text": [
            "WARNING:absl:Found untraced functions such as lstm_cell_4_layer_call_and_return_conditional_losses, lstm_cell_4_layer_call_fn, lstm_cell_4_layer_call_fn, lstm_cell_4_layer_call_and_return_conditional_losses, lstm_cell_4_layer_call_and_return_conditional_losses while saving (showing 5 of 5). These functions will not be directly callable after loading.\n",
            "WARNING:absl:Found untraced functions such as lstm_cell_4_layer_call_and_return_conditional_losses, lstm_cell_4_layer_call_fn, lstm_cell_4_layer_call_fn, lstm_cell_4_layer_call_and_return_conditional_losses, lstm_cell_4_layer_call_and_return_conditional_losses while saving (showing 5 of 5). These functions will not be directly callable after loading.\n"
          ],
          "name": "stderr"
        },
        {
          "output_type": "stream",
          "text": [
            "INFO:tensorflow:Assets written to: /content/drive/MyDrive/building1/26March5slots_200epochs_simpleLSTM/best_model.pkl/assets\n"
          ],
          "name": "stdout"
        },
        {
          "output_type": "stream",
          "text": [
            "INFO:tensorflow:Assets written to: /content/drive/MyDrive/building1/26March5slots_200epochs_simpleLSTM/best_model.pkl/assets\n"
          ],
          "name": "stderr"
        },
        {
          "output_type": "stream",
          "text": [
            "Epoch 72/200\n",
            "246/246 [==============================] - 12s 48ms/step - loss: 0.5029 - accuracy: 0.8177 - val_loss: 1.1033 - val_accuracy: 0.6493\n",
            "\n",
            "Epoch 00072: val_accuracy did not improve from 0.67631\n",
            "Epoch 73/200\n",
            "246/246 [==============================] - 12s 47ms/step - loss: 0.5338 - accuracy: 0.8055 - val_loss: 1.0064 - val_accuracy: 0.6756\n",
            "\n",
            "Epoch 00073: val_accuracy did not improve from 0.67631\n",
            "Epoch 74/200\n",
            "246/246 [==============================] - 12s 47ms/step - loss: 0.4901 - accuracy: 0.8203 - val_loss: 1.0375 - val_accuracy: 0.6627\n",
            "\n",
            "Epoch 00074: val_accuracy did not improve from 0.67631\n",
            "Epoch 75/200\n",
            "246/246 [==============================] - 12s 48ms/step - loss: 0.4920 - accuracy: 0.8235 - val_loss: 1.0240 - val_accuracy: 0.6680\n",
            "\n",
            "Epoch 00075: val_accuracy did not improve from 0.67631\n",
            "Epoch 76/200\n",
            "246/246 [==============================] - 12s 48ms/step - loss: 0.5196 - accuracy: 0.8149 - val_loss: 1.0086 - val_accuracy: 0.6736\n",
            "\n",
            "Epoch 00076: val_accuracy did not improve from 0.67631\n",
            "Epoch 77/200\n",
            "246/246 [==============================] - 12s 49ms/step - loss: 0.4646 - accuracy: 0.8327 - val_loss: 1.0301 - val_accuracy: 0.6704\n",
            "\n",
            "Epoch 00077: val_accuracy did not improve from 0.67631\n",
            "Epoch 78/200\n",
            "246/246 [==============================] - 12s 49ms/step - loss: 0.4747 - accuracy: 0.8267 - val_loss: 1.0197 - val_accuracy: 0.6776\n",
            "\n",
            "Epoch 00078: val_accuracy improved from 0.67631 to 0.67764, saving model to /content/drive/MyDrive/building1/26March5slots_200epochs_simpleLSTM/best_model.pkl\n"
          ],
          "name": "stdout"
        },
        {
          "output_type": "stream",
          "text": [
            "WARNING:absl:Found untraced functions such as lstm_cell_4_layer_call_and_return_conditional_losses, lstm_cell_4_layer_call_fn, lstm_cell_4_layer_call_fn, lstm_cell_4_layer_call_and_return_conditional_losses, lstm_cell_4_layer_call_and_return_conditional_losses while saving (showing 5 of 5). These functions will not be directly callable after loading.\n",
            "WARNING:absl:Found untraced functions such as lstm_cell_4_layer_call_and_return_conditional_losses, lstm_cell_4_layer_call_fn, lstm_cell_4_layer_call_fn, lstm_cell_4_layer_call_and_return_conditional_losses, lstm_cell_4_layer_call_and_return_conditional_losses while saving (showing 5 of 5). These functions will not be directly callable after loading.\n"
          ],
          "name": "stderr"
        },
        {
          "output_type": "stream",
          "text": [
            "INFO:tensorflow:Assets written to: /content/drive/MyDrive/building1/26March5slots_200epochs_simpleLSTM/best_model.pkl/assets\n"
          ],
          "name": "stdout"
        },
        {
          "output_type": "stream",
          "text": [
            "INFO:tensorflow:Assets written to: /content/drive/MyDrive/building1/26March5slots_200epochs_simpleLSTM/best_model.pkl/assets\n"
          ],
          "name": "stderr"
        },
        {
          "output_type": "stream",
          "text": [
            "Epoch 79/200\n",
            "246/246 [==============================] - 12s 48ms/step - loss: 0.4939 - accuracy: 0.8198 - val_loss: 1.1033 - val_accuracy: 0.6532\n",
            "\n",
            "Epoch 00079: val_accuracy did not improve from 0.67764\n",
            "Epoch 80/200\n",
            "246/246 [==============================] - 12s 48ms/step - loss: 0.4843 - accuracy: 0.8251 - val_loss: 1.0430 - val_accuracy: 0.6729\n",
            "\n",
            "Epoch 00080: val_accuracy did not improve from 0.67764\n",
            "Epoch 81/200\n",
            "246/246 [==============================] - 12s 48ms/step - loss: 0.4549 - accuracy: 0.8351 - val_loss: 1.0339 - val_accuracy: 0.6732\n",
            "\n",
            "Epoch 00081: val_accuracy did not improve from 0.67764\n",
            "Epoch 82/200\n",
            "246/246 [==============================] - 12s 48ms/step - loss: 0.4386 - accuracy: 0.8376 - val_loss: 1.0518 - val_accuracy: 0.6725\n",
            "\n",
            "Epoch 00082: val_accuracy did not improve from 0.67764\n",
            "Epoch 83/200\n",
            "246/246 [==============================] - 12s 49ms/step - loss: 0.4374 - accuracy: 0.8390 - val_loss: 1.3084 - val_accuracy: 0.6205\n",
            "\n",
            "Epoch 00083: val_accuracy did not improve from 0.67764\n",
            "Epoch 84/200\n",
            "246/246 [==============================] - 11s 47ms/step - loss: 0.5335 - accuracy: 0.8118 - val_loss: 1.0198 - val_accuracy: 0.6781\n",
            "\n",
            "Epoch 00084: val_accuracy improved from 0.67764 to 0.67809, saving model to /content/drive/MyDrive/building1/26March5slots_200epochs_simpleLSTM/best_model.pkl\n"
          ],
          "name": "stdout"
        },
        {
          "output_type": "stream",
          "text": [
            "WARNING:absl:Found untraced functions such as lstm_cell_4_layer_call_and_return_conditional_losses, lstm_cell_4_layer_call_fn, lstm_cell_4_layer_call_fn, lstm_cell_4_layer_call_and_return_conditional_losses, lstm_cell_4_layer_call_and_return_conditional_losses while saving (showing 5 of 5). These functions will not be directly callable after loading.\n",
            "WARNING:absl:Found untraced functions such as lstm_cell_4_layer_call_and_return_conditional_losses, lstm_cell_4_layer_call_fn, lstm_cell_4_layer_call_fn, lstm_cell_4_layer_call_and_return_conditional_losses, lstm_cell_4_layer_call_and_return_conditional_losses while saving (showing 5 of 5). These functions will not be directly callable after loading.\n"
          ],
          "name": "stderr"
        },
        {
          "output_type": "stream",
          "text": [
            "INFO:tensorflow:Assets written to: /content/drive/MyDrive/building1/26March5slots_200epochs_simpleLSTM/best_model.pkl/assets\n"
          ],
          "name": "stdout"
        },
        {
          "output_type": "stream",
          "text": [
            "INFO:tensorflow:Assets written to: /content/drive/MyDrive/building1/26March5slots_200epochs_simpleLSTM/best_model.pkl/assets\n"
          ],
          "name": "stderr"
        },
        {
          "output_type": "stream",
          "text": [
            "Epoch 85/200\n",
            "246/246 [==============================] - 11s 47ms/step - loss: 0.4411 - accuracy: 0.8431 - val_loss: 1.0502 - val_accuracy: 0.6735\n",
            "\n",
            "Epoch 00085: val_accuracy did not improve from 0.67809\n",
            "Epoch 86/200\n",
            "246/246 [==============================] - 12s 49ms/step - loss: 0.4368 - accuracy: 0.8384 - val_loss: 1.0347 - val_accuracy: 0.6747\n",
            "\n",
            "Epoch 00086: val_accuracy did not improve from 0.67809\n",
            "Epoch 87/200\n",
            "246/246 [==============================] - 12s 48ms/step - loss: 0.4241 - accuracy: 0.8452 - val_loss: 1.0100 - val_accuracy: 0.6840\n",
            "\n",
            "Epoch 00087: val_accuracy improved from 0.67809 to 0.68402, saving model to /content/drive/MyDrive/building1/26March5slots_200epochs_simpleLSTM/best_model.pkl\n"
          ],
          "name": "stdout"
        },
        {
          "output_type": "stream",
          "text": [
            "WARNING:absl:Found untraced functions such as lstm_cell_4_layer_call_and_return_conditional_losses, lstm_cell_4_layer_call_fn, lstm_cell_4_layer_call_fn, lstm_cell_4_layer_call_and_return_conditional_losses, lstm_cell_4_layer_call_and_return_conditional_losses while saving (showing 5 of 5). These functions will not be directly callable after loading.\n",
            "WARNING:absl:Found untraced functions such as lstm_cell_4_layer_call_and_return_conditional_losses, lstm_cell_4_layer_call_fn, lstm_cell_4_layer_call_fn, lstm_cell_4_layer_call_and_return_conditional_losses, lstm_cell_4_layer_call_and_return_conditional_losses while saving (showing 5 of 5). These functions will not be directly callable after loading.\n"
          ],
          "name": "stderr"
        },
        {
          "output_type": "stream",
          "text": [
            "INFO:tensorflow:Assets written to: /content/drive/MyDrive/building1/26March5slots_200epochs_simpleLSTM/best_model.pkl/assets\n"
          ],
          "name": "stdout"
        },
        {
          "output_type": "stream",
          "text": [
            "INFO:tensorflow:Assets written to: /content/drive/MyDrive/building1/26March5slots_200epochs_simpleLSTM/best_model.pkl/assets\n"
          ],
          "name": "stderr"
        },
        {
          "output_type": "stream",
          "text": [
            "Epoch 88/200\n",
            "246/246 [==============================] - 12s 47ms/step - loss: 0.4200 - accuracy: 0.8476 - val_loss: 1.2360 - val_accuracy: 0.6383\n",
            "\n",
            "Epoch 00088: val_accuracy did not improve from 0.68402\n",
            "Epoch 89/200\n",
            "246/246 [==============================] - 12s 49ms/step - loss: 0.4470 - accuracy: 0.8364 - val_loss: 1.0736 - val_accuracy: 0.6756\n",
            "\n",
            "Epoch 00089: val_accuracy did not improve from 0.68402\n",
            "Epoch 90/200\n",
            "246/246 [==============================] - 12s 49ms/step - loss: 0.4177 - accuracy: 0.8477 - val_loss: 1.0690 - val_accuracy: 0.6771\n",
            "\n",
            "Epoch 00090: val_accuracy did not improve from 0.68402\n",
            "Epoch 91/200\n",
            "246/246 [==============================] - 12s 49ms/step - loss: 0.4097 - accuracy: 0.8523 - val_loss: 1.0486 - val_accuracy: 0.6732\n",
            "\n",
            "Epoch 00091: val_accuracy did not improve from 0.68402\n",
            "Epoch 92/200\n",
            "246/246 [==============================] - 12s 48ms/step - loss: 0.4149 - accuracy: 0.8509 - val_loss: 1.0476 - val_accuracy: 0.6771\n",
            "\n",
            "Epoch 00092: val_accuracy did not improve from 0.68402\n",
            "Epoch 93/200\n",
            "246/246 [==============================] - 12s 49ms/step - loss: 0.4943 - accuracy: 0.8267 - val_loss: 1.0733 - val_accuracy: 0.6797\n",
            "\n",
            "Epoch 00093: val_accuracy did not improve from 0.68402\n",
            "Epoch 94/200\n",
            "246/246 [==============================] - 12s 49ms/step - loss: 0.3916 - accuracy: 0.8608 - val_loss: 1.0466 - val_accuracy: 0.6845\n",
            "\n",
            "Epoch 00094: val_accuracy improved from 0.68402 to 0.68447, saving model to /content/drive/MyDrive/building1/26March5slots_200epochs_simpleLSTM/best_model.pkl\n"
          ],
          "name": "stdout"
        },
        {
          "output_type": "stream",
          "text": [
            "WARNING:absl:Found untraced functions such as lstm_cell_4_layer_call_and_return_conditional_losses, lstm_cell_4_layer_call_fn, lstm_cell_4_layer_call_fn, lstm_cell_4_layer_call_and_return_conditional_losses, lstm_cell_4_layer_call_and_return_conditional_losses while saving (showing 5 of 5). These functions will not be directly callable after loading.\n",
            "WARNING:absl:Found untraced functions such as lstm_cell_4_layer_call_and_return_conditional_losses, lstm_cell_4_layer_call_fn, lstm_cell_4_layer_call_fn, lstm_cell_4_layer_call_and_return_conditional_losses, lstm_cell_4_layer_call_and_return_conditional_losses while saving (showing 5 of 5). These functions will not be directly callable after loading.\n"
          ],
          "name": "stderr"
        },
        {
          "output_type": "stream",
          "text": [
            "INFO:tensorflow:Assets written to: /content/drive/MyDrive/building1/26March5slots_200epochs_simpleLSTM/best_model.pkl/assets\n"
          ],
          "name": "stdout"
        },
        {
          "output_type": "stream",
          "text": [
            "INFO:tensorflow:Assets written to: /content/drive/MyDrive/building1/26March5slots_200epochs_simpleLSTM/best_model.pkl/assets\n"
          ],
          "name": "stderr"
        },
        {
          "output_type": "stream",
          "text": [
            "Epoch 95/200\n",
            "246/246 [==============================] - 12s 48ms/step - loss: 0.3887 - accuracy: 0.8613 - val_loss: 1.3277 - val_accuracy: 0.6278\n",
            "\n",
            "Epoch 00095: val_accuracy did not improve from 0.68447\n",
            "Epoch 96/200\n",
            "246/246 [==============================] - 12s 48ms/step - loss: 0.4663 - accuracy: 0.8338 - val_loss: 1.0485 - val_accuracy: 0.6891\n",
            "\n",
            "Epoch 00096: val_accuracy improved from 0.68447 to 0.68907, saving model to /content/drive/MyDrive/building1/26March5slots_200epochs_simpleLSTM/best_model.pkl\n"
          ],
          "name": "stdout"
        },
        {
          "output_type": "stream",
          "text": [
            "WARNING:absl:Found untraced functions such as lstm_cell_4_layer_call_and_return_conditional_losses, lstm_cell_4_layer_call_fn, lstm_cell_4_layer_call_fn, lstm_cell_4_layer_call_and_return_conditional_losses, lstm_cell_4_layer_call_and_return_conditional_losses while saving (showing 5 of 5). These functions will not be directly callable after loading.\n",
            "WARNING:absl:Found untraced functions such as lstm_cell_4_layer_call_and_return_conditional_losses, lstm_cell_4_layer_call_fn, lstm_cell_4_layer_call_fn, lstm_cell_4_layer_call_and_return_conditional_losses, lstm_cell_4_layer_call_and_return_conditional_losses while saving (showing 5 of 5). These functions will not be directly callable after loading.\n"
          ],
          "name": "stderr"
        },
        {
          "output_type": "stream",
          "text": [
            "INFO:tensorflow:Assets written to: /content/drive/MyDrive/building1/26March5slots_200epochs_simpleLSTM/best_model.pkl/assets\n"
          ],
          "name": "stdout"
        },
        {
          "output_type": "stream",
          "text": [
            "INFO:tensorflow:Assets written to: /content/drive/MyDrive/building1/26March5slots_200epochs_simpleLSTM/best_model.pkl/assets\n"
          ],
          "name": "stderr"
        },
        {
          "output_type": "stream",
          "text": [
            "Epoch 97/200\n",
            "246/246 [==============================] - 12s 49ms/step - loss: 0.3860 - accuracy: 0.8602 - val_loss: 1.0467 - val_accuracy: 0.6885\n",
            "\n",
            "Epoch 00097: val_accuracy did not improve from 0.68907\n",
            "Epoch 98/200\n",
            "246/246 [==============================] - 12s 48ms/step - loss: 0.3817 - accuracy: 0.8613 - val_loss: 1.0721 - val_accuracy: 0.6851\n",
            "\n",
            "Epoch 00098: val_accuracy did not improve from 0.68907\n",
            "Epoch 99/200\n",
            "246/246 [==============================] - 12s 48ms/step - loss: 0.4091 - accuracy: 0.8562 - val_loss: 1.1985 - val_accuracy: 0.6450\n",
            "\n",
            "Epoch 00099: val_accuracy did not improve from 0.68907\n",
            "Epoch 100/200\n",
            "246/246 [==============================] - 12s 48ms/step - loss: 0.4531 - accuracy: 0.8347 - val_loss: 1.1338 - val_accuracy: 0.6615\n",
            "\n",
            "Epoch 00100: val_accuracy did not improve from 0.68907\n",
            "Epoch 101/200\n",
            "246/246 [==============================] - 12s 49ms/step - loss: 0.3964 - accuracy: 0.8599 - val_loss: 1.1180 - val_accuracy: 0.6690\n",
            "\n",
            "Epoch 00101: val_accuracy did not improve from 0.68907\n",
            "Epoch 102/200\n",
            "246/246 [==============================] - 12s 48ms/step - loss: 0.4007 - accuracy: 0.8563 - val_loss: 1.0921 - val_accuracy: 0.6775\n",
            "\n",
            "Epoch 00102: val_accuracy did not improve from 0.68907\n",
            "Epoch 103/200\n",
            "246/246 [==============================] - 12s 48ms/step - loss: 0.3836 - accuracy: 0.8632 - val_loss: 1.0845 - val_accuracy: 0.6784\n",
            "\n",
            "Epoch 00103: val_accuracy did not improve from 0.68907\n",
            "Epoch 104/200\n",
            "246/246 [==============================] - 12s 49ms/step - loss: 0.3799 - accuracy: 0.8639 - val_loss: 1.0891 - val_accuracy: 0.6781\n",
            "\n",
            "Epoch 00104: val_accuracy did not improve from 0.68907\n",
            "Epoch 105/200\n",
            "246/246 [==============================] - 12s 49ms/step - loss: 0.3813 - accuracy: 0.8637 - val_loss: 1.1038 - val_accuracy: 0.6779\n",
            "\n",
            "Epoch 00105: val_accuracy did not improve from 0.68907\n",
            "Epoch 106/200\n",
            "246/246 [==============================] - 12s 48ms/step - loss: 0.3698 - accuracy: 0.8665 - val_loss: 1.0707 - val_accuracy: 0.6868\n",
            "\n",
            "Epoch 00106: val_accuracy did not improve from 0.68907\n",
            "Epoch 107/200\n",
            "246/246 [==============================] - 12s 48ms/step - loss: 0.3801 - accuracy: 0.8640 - val_loss: 1.1027 - val_accuracy: 0.6815\n",
            "\n",
            "Epoch 00107: val_accuracy did not improve from 0.68907\n",
            "Epoch 108/200\n",
            "246/246 [==============================] - 12s 49ms/step - loss: 0.3791 - accuracy: 0.8628 - val_loss: 1.0650 - val_accuracy: 0.6900\n",
            "\n",
            "Epoch 00108: val_accuracy improved from 0.68907 to 0.68996, saving model to /content/drive/MyDrive/building1/26March5slots_200epochs_simpleLSTM/best_model.pkl\n"
          ],
          "name": "stdout"
        },
        {
          "output_type": "stream",
          "text": [
            "WARNING:absl:Found untraced functions such as lstm_cell_4_layer_call_and_return_conditional_losses, lstm_cell_4_layer_call_fn, lstm_cell_4_layer_call_fn, lstm_cell_4_layer_call_and_return_conditional_losses, lstm_cell_4_layer_call_and_return_conditional_losses while saving (showing 5 of 5). These functions will not be directly callable after loading.\n",
            "WARNING:absl:Found untraced functions such as lstm_cell_4_layer_call_and_return_conditional_losses, lstm_cell_4_layer_call_fn, lstm_cell_4_layer_call_fn, lstm_cell_4_layer_call_and_return_conditional_losses, lstm_cell_4_layer_call_and_return_conditional_losses while saving (showing 5 of 5). These functions will not be directly callable after loading.\n"
          ],
          "name": "stderr"
        },
        {
          "output_type": "stream",
          "text": [
            "INFO:tensorflow:Assets written to: /content/drive/MyDrive/building1/26March5slots_200epochs_simpleLSTM/best_model.pkl/assets\n"
          ],
          "name": "stdout"
        },
        {
          "output_type": "stream",
          "text": [
            "INFO:tensorflow:Assets written to: /content/drive/MyDrive/building1/26March5slots_200epochs_simpleLSTM/best_model.pkl/assets\n"
          ],
          "name": "stderr"
        },
        {
          "output_type": "stream",
          "text": [
            "Epoch 109/200\n",
            "246/246 [==============================] - 12s 48ms/step - loss: 0.3632 - accuracy: 0.8721 - val_loss: 1.0851 - val_accuracy: 0.6828\n",
            "\n",
            "Epoch 00109: val_accuracy did not improve from 0.68996\n",
            "Epoch 110/200\n",
            "246/246 [==============================] - 12s 49ms/step - loss: 0.3585 - accuracy: 0.8729 - val_loss: 1.1876 - val_accuracy: 0.6634\n",
            "\n",
            "Epoch 00110: val_accuracy did not improve from 0.68996\n",
            "Epoch 111/200\n",
            "246/246 [==============================] - 12s 49ms/step - loss: 0.3893 - accuracy: 0.8612 - val_loss: 1.0934 - val_accuracy: 0.6907\n",
            "\n",
            "Epoch 00111: val_accuracy improved from 0.68996 to 0.69070, saving model to /content/drive/MyDrive/building1/26March5slots_200epochs_simpleLSTM/best_model.pkl\n"
          ],
          "name": "stdout"
        },
        {
          "output_type": "stream",
          "text": [
            "WARNING:absl:Found untraced functions such as lstm_cell_4_layer_call_and_return_conditional_losses, lstm_cell_4_layer_call_fn, lstm_cell_4_layer_call_fn, lstm_cell_4_layer_call_and_return_conditional_losses, lstm_cell_4_layer_call_and_return_conditional_losses while saving (showing 5 of 5). These functions will not be directly callable after loading.\n",
            "WARNING:absl:Found untraced functions such as lstm_cell_4_layer_call_and_return_conditional_losses, lstm_cell_4_layer_call_fn, lstm_cell_4_layer_call_fn, lstm_cell_4_layer_call_and_return_conditional_losses, lstm_cell_4_layer_call_and_return_conditional_losses while saving (showing 5 of 5). These functions will not be directly callable after loading.\n"
          ],
          "name": "stderr"
        },
        {
          "output_type": "stream",
          "text": [
            "INFO:tensorflow:Assets written to: /content/drive/MyDrive/building1/26March5slots_200epochs_simpleLSTM/best_model.pkl/assets\n"
          ],
          "name": "stdout"
        },
        {
          "output_type": "stream",
          "text": [
            "INFO:tensorflow:Assets written to: /content/drive/MyDrive/building1/26March5slots_200epochs_simpleLSTM/best_model.pkl/assets\n"
          ],
          "name": "stderr"
        },
        {
          "output_type": "stream",
          "text": [
            "Epoch 112/200\n",
            "246/246 [==============================] - 12s 49ms/step - loss: 0.3482 - accuracy: 0.8773 - val_loss: 1.1147 - val_accuracy: 0.6779\n",
            "\n",
            "Epoch 00112: val_accuracy did not improve from 0.69070\n",
            "Epoch 113/200\n",
            "246/246 [==============================] - 12s 48ms/step - loss: 0.3614 - accuracy: 0.8699 - val_loss: 1.1195 - val_accuracy: 0.6808\n",
            "\n",
            "Epoch 00113: val_accuracy did not improve from 0.69070\n",
            "Epoch 114/200\n",
            "246/246 [==============================] - 12s 48ms/step - loss: 0.3467 - accuracy: 0.8749 - val_loss: 1.1039 - val_accuracy: 0.6833\n",
            "\n",
            "Epoch 00114: val_accuracy did not improve from 0.69070\n",
            "Epoch 115/200\n",
            "246/246 [==============================] - 12s 49ms/step - loss: 0.3667 - accuracy: 0.8698 - val_loss: 1.1449 - val_accuracy: 0.6751\n",
            "\n",
            "Epoch 00115: val_accuracy did not improve from 0.69070\n",
            "Epoch 116/200\n",
            "246/246 [==============================] - 12s 49ms/step - loss: 0.3536 - accuracy: 0.8701 - val_loss: 1.1128 - val_accuracy: 0.6837\n",
            "\n",
            "Epoch 00116: val_accuracy did not improve from 0.69070\n",
            "Epoch 117/200\n",
            "246/246 [==============================] - 12s 48ms/step - loss: 0.3417 - accuracy: 0.8764 - val_loss: 1.1355 - val_accuracy: 0.6803\n",
            "\n",
            "Epoch 00117: val_accuracy did not improve from 0.69070\n",
            "Epoch 118/200\n",
            "246/246 [==============================] - 12s 48ms/step - loss: 0.3454 - accuracy: 0.8763 - val_loss: 1.1601 - val_accuracy: 0.6772\n",
            "\n",
            "Epoch 00118: val_accuracy did not improve from 0.69070\n",
            "Epoch 119/200\n",
            "246/246 [==============================] - 12s 48ms/step - loss: 0.3403 - accuracy: 0.8774 - val_loss: 2.3666 - val_accuracy: 0.5418\n",
            "\n",
            "Epoch 00119: val_accuracy did not improve from 0.69070\n",
            "Epoch 120/200\n",
            "246/246 [==============================] - 12s 48ms/step - loss: 0.4906 - accuracy: 0.8392 - val_loss: 1.1184 - val_accuracy: 0.6928\n",
            "\n",
            "Epoch 00120: val_accuracy improved from 0.69070 to 0.69278, saving model to /content/drive/MyDrive/building1/26March5slots_200epochs_simpleLSTM/best_model.pkl\n"
          ],
          "name": "stdout"
        },
        {
          "output_type": "stream",
          "text": [
            "WARNING:absl:Found untraced functions such as lstm_cell_4_layer_call_and_return_conditional_losses, lstm_cell_4_layer_call_fn, lstm_cell_4_layer_call_fn, lstm_cell_4_layer_call_and_return_conditional_losses, lstm_cell_4_layer_call_and_return_conditional_losses while saving (showing 5 of 5). These functions will not be directly callable after loading.\n",
            "WARNING:absl:Found untraced functions such as lstm_cell_4_layer_call_and_return_conditional_losses, lstm_cell_4_layer_call_fn, lstm_cell_4_layer_call_fn, lstm_cell_4_layer_call_and_return_conditional_losses, lstm_cell_4_layer_call_and_return_conditional_losses while saving (showing 5 of 5). These functions will not be directly callable after loading.\n"
          ],
          "name": "stderr"
        },
        {
          "output_type": "stream",
          "text": [
            "INFO:tensorflow:Assets written to: /content/drive/MyDrive/building1/26March5slots_200epochs_simpleLSTM/best_model.pkl/assets\n"
          ],
          "name": "stdout"
        },
        {
          "output_type": "stream",
          "text": [
            "INFO:tensorflow:Assets written to: /content/drive/MyDrive/building1/26March5slots_200epochs_simpleLSTM/best_model.pkl/assets\n"
          ],
          "name": "stderr"
        },
        {
          "output_type": "stream",
          "text": [
            "Epoch 121/200\n",
            "246/246 [==============================] - 12s 48ms/step - loss: 0.3169 - accuracy: 0.8857 - val_loss: 1.1329 - val_accuracy: 0.6825\n",
            "\n",
            "Epoch 00121: val_accuracy did not improve from 0.69278\n",
            "Epoch 122/200\n",
            "246/246 [==============================] - 12s 49ms/step - loss: 0.3137 - accuracy: 0.8858 - val_loss: 1.1602 - val_accuracy: 0.6762\n",
            "\n",
            "Epoch 00122: val_accuracy did not improve from 0.69278\n",
            "Epoch 123/200\n",
            "246/246 [==============================] - 12s 49ms/step - loss: 0.3230 - accuracy: 0.8829 - val_loss: 1.1582 - val_accuracy: 0.6834\n",
            "\n",
            "Epoch 00123: val_accuracy did not improve from 0.69278\n",
            "Epoch 124/200\n",
            "246/246 [==============================] - 12s 48ms/step - loss: 0.3268 - accuracy: 0.8803 - val_loss: 1.1155 - val_accuracy: 0.6865\n",
            "\n",
            "Epoch 00124: val_accuracy did not improve from 0.69278\n",
            "Epoch 125/200\n",
            "246/246 [==============================] - 12s 48ms/step - loss: 0.3308 - accuracy: 0.8805 - val_loss: 1.1897 - val_accuracy: 0.6765\n",
            "\n",
            "Epoch 00125: val_accuracy did not improve from 0.69278\n",
            "Epoch 126/200\n",
            "246/246 [==============================] - 12s 49ms/step - loss: 0.3332 - accuracy: 0.8821 - val_loss: 1.1595 - val_accuracy: 0.6842\n",
            "\n",
            "Epoch 00126: val_accuracy did not improve from 0.69278\n",
            "Epoch 127/200\n",
            "246/246 [==============================] - 12s 49ms/step - loss: 0.3180 - accuracy: 0.8854 - val_loss: 1.1868 - val_accuracy: 0.6831\n",
            "\n",
            "Epoch 00127: val_accuracy did not improve from 0.69278\n",
            "Epoch 128/200\n",
            "246/246 [==============================] - 12s 48ms/step - loss: 0.3337 - accuracy: 0.8794 - val_loss: 1.1700 - val_accuracy: 0.6852\n",
            "\n",
            "Epoch 00128: val_accuracy did not improve from 0.69278\n",
            "Epoch 129/200\n",
            "246/246 [==============================] - 12s 47ms/step - loss: 0.3220 - accuracy: 0.8851 - val_loss: 1.1670 - val_accuracy: 0.6911\n",
            "\n",
            "Epoch 00129: val_accuracy did not improve from 0.69278\n",
            "Epoch 130/200\n",
            "246/246 [==============================] - 12s 48ms/step - loss: 0.3124 - accuracy: 0.8879 - val_loss: 1.2729 - val_accuracy: 0.6610\n",
            "\n",
            "Epoch 00130: val_accuracy did not improve from 0.69278\n",
            "Epoch 131/200\n",
            "246/246 [==============================] - 12s 49ms/step - loss: 0.3196 - accuracy: 0.8816 - val_loss: 1.2225 - val_accuracy: 0.6699\n",
            "\n",
            "Epoch 00131: val_accuracy did not improve from 0.69278\n",
            "Epoch 132/200\n",
            "246/246 [==============================] - 12s 48ms/step - loss: 0.3032 - accuracy: 0.8909 - val_loss: 1.1704 - val_accuracy: 0.6868\n",
            "\n",
            "Epoch 00132: val_accuracy did not improve from 0.69278\n",
            "Epoch 133/200\n",
            "246/246 [==============================] - 12s 48ms/step - loss: 0.3020 - accuracy: 0.8917 - val_loss: 1.1696 - val_accuracy: 0.6922\n",
            "\n",
            "Epoch 00133: val_accuracy did not improve from 0.69278\n",
            "Epoch 134/200\n",
            "246/246 [==============================] - 12s 48ms/step - loss: 0.2920 - accuracy: 0.8958 - val_loss: 1.3858 - val_accuracy: 0.6474\n",
            "\n",
            "Epoch 00134: val_accuracy did not improve from 0.69278\n",
            "Epoch 135/200\n",
            "246/246 [==============================] - 12s 48ms/step - loss: 0.3197 - accuracy: 0.8830 - val_loss: 1.1878 - val_accuracy: 0.6883\n",
            "\n",
            "Epoch 00135: val_accuracy did not improve from 0.69278\n",
            "Epoch 136/200\n",
            "246/246 [==============================] - 12s 48ms/step - loss: 0.2888 - accuracy: 0.8999 - val_loss: 1.2865 - val_accuracy: 0.6695\n",
            "\n",
            "Epoch 00136: val_accuracy did not improve from 0.69278\n",
            "Epoch 137/200\n",
            "246/246 [==============================] - 12s 48ms/step - loss: 0.3117 - accuracy: 0.8867 - val_loss: 1.9664 - val_accuracy: 0.5823\n",
            "\n",
            "Epoch 00137: val_accuracy did not improve from 0.69278\n",
            "Epoch 138/200\n",
            "246/246 [==============================] - 12s 49ms/step - loss: 0.4416 - accuracy: 0.8518 - val_loss: 1.3369 - val_accuracy: 0.6615\n",
            "\n",
            "Epoch 00138: val_accuracy did not improve from 0.69278\n",
            "Epoch 139/200\n",
            "246/246 [==============================] - 12s 49ms/step - loss: 0.3058 - accuracy: 0.8903 - val_loss: 1.1808 - val_accuracy: 0.6920\n",
            "\n",
            "Epoch 00139: val_accuracy did not improve from 0.69278\n",
            "Epoch 140/200\n",
            "246/246 [==============================] - 12s 48ms/step - loss: 0.2769 - accuracy: 0.8998 - val_loss: 1.1751 - val_accuracy: 0.6943\n",
            "\n",
            "Epoch 00140: val_accuracy improved from 0.69278 to 0.69426, saving model to /content/drive/MyDrive/building1/26March5slots_200epochs_simpleLSTM/best_model.pkl\n"
          ],
          "name": "stdout"
        },
        {
          "output_type": "stream",
          "text": [
            "WARNING:absl:Found untraced functions such as lstm_cell_4_layer_call_and_return_conditional_losses, lstm_cell_4_layer_call_fn, lstm_cell_4_layer_call_fn, lstm_cell_4_layer_call_and_return_conditional_losses, lstm_cell_4_layer_call_and_return_conditional_losses while saving (showing 5 of 5). These functions will not be directly callable after loading.\n",
            "WARNING:absl:Found untraced functions such as lstm_cell_4_layer_call_and_return_conditional_losses, lstm_cell_4_layer_call_fn, lstm_cell_4_layer_call_fn, lstm_cell_4_layer_call_and_return_conditional_losses, lstm_cell_4_layer_call_and_return_conditional_losses while saving (showing 5 of 5). These functions will not be directly callable after loading.\n"
          ],
          "name": "stderr"
        },
        {
          "output_type": "stream",
          "text": [
            "INFO:tensorflow:Assets written to: /content/drive/MyDrive/building1/26March5slots_200epochs_simpleLSTM/best_model.pkl/assets\n"
          ],
          "name": "stdout"
        },
        {
          "output_type": "stream",
          "text": [
            "INFO:tensorflow:Assets written to: /content/drive/MyDrive/building1/26March5slots_200epochs_simpleLSTM/best_model.pkl/assets\n"
          ],
          "name": "stderr"
        },
        {
          "output_type": "stream",
          "text": [
            "Epoch 141/200\n",
            "246/246 [==============================] - 12s 50ms/step - loss: 0.2668 - accuracy: 0.9063 - val_loss: 1.1792 - val_accuracy: 0.6983\n",
            "\n",
            "Epoch 00141: val_accuracy improved from 0.69426 to 0.69826, saving model to /content/drive/MyDrive/building1/26March5slots_200epochs_simpleLSTM/best_model.pkl\n"
          ],
          "name": "stdout"
        },
        {
          "output_type": "stream",
          "text": [
            "WARNING:absl:Found untraced functions such as lstm_cell_4_layer_call_and_return_conditional_losses, lstm_cell_4_layer_call_fn, lstm_cell_4_layer_call_fn, lstm_cell_4_layer_call_and_return_conditional_losses, lstm_cell_4_layer_call_and_return_conditional_losses while saving (showing 5 of 5). These functions will not be directly callable after loading.\n",
            "WARNING:absl:Found untraced functions such as lstm_cell_4_layer_call_and_return_conditional_losses, lstm_cell_4_layer_call_fn, lstm_cell_4_layer_call_fn, lstm_cell_4_layer_call_and_return_conditional_losses, lstm_cell_4_layer_call_and_return_conditional_losses while saving (showing 5 of 5). These functions will not be directly callable after loading.\n"
          ],
          "name": "stderr"
        },
        {
          "output_type": "stream",
          "text": [
            "INFO:tensorflow:Assets written to: /content/drive/MyDrive/building1/26March5slots_200epochs_simpleLSTM/best_model.pkl/assets\n"
          ],
          "name": "stdout"
        },
        {
          "output_type": "stream",
          "text": [
            "INFO:tensorflow:Assets written to: /content/drive/MyDrive/building1/26March5slots_200epochs_simpleLSTM/best_model.pkl/assets\n"
          ],
          "name": "stderr"
        },
        {
          "output_type": "stream",
          "text": [
            "Epoch 142/200\n",
            "246/246 [==============================] - 12s 49ms/step - loss: 0.2717 - accuracy: 0.9045 - val_loss: 1.2284 - val_accuracy: 0.6861\n",
            "\n",
            "Epoch 00142: val_accuracy did not improve from 0.69826\n",
            "Epoch 143/200\n",
            "246/246 [==============================] - 12s 48ms/step - loss: 0.2884 - accuracy: 0.8972 - val_loss: 1.1966 - val_accuracy: 0.6874\n",
            "\n",
            "Epoch 00143: val_accuracy did not improve from 0.69826\n",
            "Epoch 144/200\n",
            "246/246 [==============================] - 12s 49ms/step - loss: 0.2617 - accuracy: 0.9078 - val_loss: 1.2308 - val_accuracy: 0.6790\n",
            "\n",
            "Epoch 00144: val_accuracy did not improve from 0.69826\n",
            "Epoch 145/200\n",
            "246/246 [==============================] - 12s 48ms/step - loss: 0.2911 - accuracy: 0.8963 - val_loss: 1.2257 - val_accuracy: 0.6873\n",
            "\n",
            "Epoch 00145: val_accuracy did not improve from 0.69826\n",
            "Epoch 146/200\n",
            "246/246 [==============================] - 12s 49ms/step - loss: 0.2762 - accuracy: 0.8995 - val_loss: 1.1840 - val_accuracy: 0.6984\n",
            "\n",
            "Epoch 00146: val_accuracy improved from 0.69826 to 0.69841, saving model to /content/drive/MyDrive/building1/26March5slots_200epochs_simpleLSTM/best_model.pkl\n"
          ],
          "name": "stdout"
        },
        {
          "output_type": "stream",
          "text": [
            "WARNING:absl:Found untraced functions such as lstm_cell_4_layer_call_and_return_conditional_losses, lstm_cell_4_layer_call_fn, lstm_cell_4_layer_call_fn, lstm_cell_4_layer_call_and_return_conditional_losses, lstm_cell_4_layer_call_and_return_conditional_losses while saving (showing 5 of 5). These functions will not be directly callable after loading.\n",
            "WARNING:absl:Found untraced functions such as lstm_cell_4_layer_call_and_return_conditional_losses, lstm_cell_4_layer_call_fn, lstm_cell_4_layer_call_fn, lstm_cell_4_layer_call_and_return_conditional_losses, lstm_cell_4_layer_call_and_return_conditional_losses while saving (showing 5 of 5). These functions will not be directly callable after loading.\n"
          ],
          "name": "stderr"
        },
        {
          "output_type": "stream",
          "text": [
            "INFO:tensorflow:Assets written to: /content/drive/MyDrive/building1/26March5slots_200epochs_simpleLSTM/best_model.pkl/assets\n"
          ],
          "name": "stdout"
        },
        {
          "output_type": "stream",
          "text": [
            "INFO:tensorflow:Assets written to: /content/drive/MyDrive/building1/26March5slots_200epochs_simpleLSTM/best_model.pkl/assets\n"
          ],
          "name": "stderr"
        },
        {
          "output_type": "stream",
          "text": [
            "Epoch 147/200\n",
            "246/246 [==============================] - 12s 49ms/step - loss: 0.2822 - accuracy: 0.9006 - val_loss: 1.2257 - val_accuracy: 0.6873\n",
            "\n",
            "Epoch 00147: val_accuracy did not improve from 0.69841\n",
            "Epoch 148/200\n",
            "246/246 [==============================] - 12s 49ms/step - loss: 0.2613 - accuracy: 0.9064 - val_loss: 1.2304 - val_accuracy: 0.6932\n",
            "\n",
            "Epoch 00148: val_accuracy did not improve from 0.69841\n",
            "Epoch 149/200\n",
            "246/246 [==============================] - 12s 48ms/step - loss: 0.2586 - accuracy: 0.9088 - val_loss: 1.4065 - val_accuracy: 0.6506\n",
            "\n",
            "Epoch 00149: val_accuracy did not improve from 0.69841\n",
            "Epoch 150/200\n",
            "246/246 [==============================] - 12s 49ms/step - loss: 0.3022 - accuracy: 0.8940 - val_loss: 1.2848 - val_accuracy: 0.6797\n",
            "\n",
            "Epoch 00150: val_accuracy did not improve from 0.69841\n",
            "Epoch 151/200\n",
            "246/246 [==============================] - 12s 49ms/step - loss: 0.2669 - accuracy: 0.9055 - val_loss: 1.2254 - val_accuracy: 0.6892\n",
            "\n",
            "Epoch 00151: val_accuracy did not improve from 0.69841\n",
            "Epoch 152/200\n",
            "246/246 [==============================] - 12s 49ms/step - loss: 0.2721 - accuracy: 0.9022 - val_loss: 1.2620 - val_accuracy: 0.6862\n",
            "\n",
            "Epoch 00152: val_accuracy did not improve from 0.69841\n",
            "Epoch 153/200\n",
            "246/246 [==============================] - 12s 49ms/step - loss: 0.2535 - accuracy: 0.9095 - val_loss: 1.2387 - val_accuracy: 0.6851\n",
            "\n",
            "Epoch 00153: val_accuracy did not improve from 0.69841\n",
            "Epoch 154/200\n",
            "246/246 [==============================] - 12s 48ms/step - loss: 0.2392 - accuracy: 0.9170 - val_loss: 1.2458 - val_accuracy: 0.6938\n",
            "\n",
            "Epoch 00154: val_accuracy did not improve from 0.69841\n",
            "Epoch 155/200\n",
            "246/246 [==============================] - 12s 48ms/step - loss: 0.2452 - accuracy: 0.9136 - val_loss: 1.2598 - val_accuracy: 0.6922\n",
            "\n",
            "Epoch 00155: val_accuracy did not improve from 0.69841\n",
            "Epoch 156/200\n",
            "246/246 [==============================] - 12s 48ms/step - loss: 0.2608 - accuracy: 0.9059 - val_loss: 1.2789 - val_accuracy: 0.6848\n",
            "\n",
            "Epoch 00156: val_accuracy did not improve from 0.69841\n",
            "Epoch 157/200\n",
            "246/246 [==============================] - 12s 49ms/step - loss: 0.2481 - accuracy: 0.9116 - val_loss: 1.2981 - val_accuracy: 0.6889\n",
            "\n",
            "Epoch 00157: val_accuracy did not improve from 0.69841\n",
            "Epoch 158/200\n",
            "246/246 [==============================] - 12s 48ms/step - loss: 0.2585 - accuracy: 0.9058 - val_loss: 1.3070 - val_accuracy: 0.6806\n",
            "\n",
            "Epoch 00158: val_accuracy did not improve from 0.69841\n",
            "Epoch 159/200\n",
            "246/246 [==============================] - 12s 48ms/step - loss: 0.2412 - accuracy: 0.9145 - val_loss: 1.2906 - val_accuracy: 0.6824\n",
            "\n",
            "Epoch 00159: val_accuracy did not improve from 0.69841\n",
            "Epoch 160/200\n",
            "246/246 [==============================] - 12s 49ms/step - loss: 0.2646 - accuracy: 0.9068 - val_loss: 1.3550 - val_accuracy: 0.6661\n",
            "\n",
            "Epoch 00160: val_accuracy did not improve from 0.69841\n",
            "Epoch 161/200\n",
            "246/246 [==============================] - 12s 49ms/step - loss: 0.3784 - accuracy: 0.8706 - val_loss: 1.3360 - val_accuracy: 0.6793\n",
            "\n",
            "Epoch 00161: val_accuracy did not improve from 0.69841\n",
            "Epoch 162/200\n",
            "246/246 [==============================] - 12s 50ms/step - loss: 0.2434 - accuracy: 0.9136 - val_loss: 1.3346 - val_accuracy: 0.6827\n",
            "\n",
            "Epoch 00162: val_accuracy did not improve from 0.69841\n",
            "Epoch 163/200\n",
            "246/246 [==============================] - 12s 48ms/step - loss: 0.2636 - accuracy: 0.9039 - val_loss: 1.2712 - val_accuracy: 0.6876\n",
            "\n",
            "Epoch 00163: val_accuracy did not improve from 0.69841\n",
            "Epoch 164/200\n",
            "246/246 [==============================] - 12s 49ms/step - loss: 0.2203 - accuracy: 0.9213 - val_loss: 1.2585 - val_accuracy: 0.6929\n",
            "\n",
            "Epoch 00164: val_accuracy did not improve from 0.69841\n",
            "Epoch 165/200\n",
            "246/246 [==============================] - 12s 49ms/step - loss: 0.2374 - accuracy: 0.9155 - val_loss: 1.2850 - val_accuracy: 0.6926\n",
            "\n",
            "Epoch 00165: val_accuracy did not improve from 0.69841\n",
            "Epoch 166/200\n",
            "246/246 [==============================] - 12s 48ms/step - loss: 0.2270 - accuracy: 0.9191 - val_loss: 1.3329 - val_accuracy: 0.6797\n",
            "\n",
            "Epoch 00166: val_accuracy did not improve from 0.69841\n",
            "Epoch 167/200\n",
            "246/246 [==============================] - 12s 49ms/step - loss: 0.2653 - accuracy: 0.9059 - val_loss: 1.3089 - val_accuracy: 0.6894\n",
            "\n",
            "Epoch 00167: val_accuracy did not improve from 0.69841\n",
            "Epoch 168/200\n",
            "246/246 [==============================] - 12s 48ms/step - loss: 0.2174 - accuracy: 0.9233 - val_loss: 1.2807 - val_accuracy: 0.6990\n",
            "\n",
            "Epoch 00168: val_accuracy improved from 0.69841 to 0.69901, saving model to /content/drive/MyDrive/building1/26March5slots_200epochs_simpleLSTM/best_model.pkl\n"
          ],
          "name": "stdout"
        },
        {
          "output_type": "stream",
          "text": [
            "WARNING:absl:Found untraced functions such as lstm_cell_4_layer_call_and_return_conditional_losses, lstm_cell_4_layer_call_fn, lstm_cell_4_layer_call_fn, lstm_cell_4_layer_call_and_return_conditional_losses, lstm_cell_4_layer_call_and_return_conditional_losses while saving (showing 5 of 5). These functions will not be directly callable after loading.\n",
            "WARNING:absl:Found untraced functions such as lstm_cell_4_layer_call_and_return_conditional_losses, lstm_cell_4_layer_call_fn, lstm_cell_4_layer_call_fn, lstm_cell_4_layer_call_and_return_conditional_losses, lstm_cell_4_layer_call_and_return_conditional_losses while saving (showing 5 of 5). These functions will not be directly callable after loading.\n"
          ],
          "name": "stderr"
        },
        {
          "output_type": "stream",
          "text": [
            "INFO:tensorflow:Assets written to: /content/drive/MyDrive/building1/26March5slots_200epochs_simpleLSTM/best_model.pkl/assets\n"
          ],
          "name": "stdout"
        },
        {
          "output_type": "stream",
          "text": [
            "INFO:tensorflow:Assets written to: /content/drive/MyDrive/building1/26March5slots_200epochs_simpleLSTM/best_model.pkl/assets\n"
          ],
          "name": "stderr"
        },
        {
          "output_type": "stream",
          "text": [
            "Epoch 169/200\n",
            "246/246 [==============================] - 12s 48ms/step - loss: 0.2090 - accuracy: 0.9263 - val_loss: 1.2860 - val_accuracy: 0.6959\n",
            "\n",
            "Epoch 00169: val_accuracy did not improve from 0.69901\n",
            "Epoch 170/200\n",
            "246/246 [==============================] - 12s 49ms/step - loss: 0.2444 - accuracy: 0.9150 - val_loss: 1.3218 - val_accuracy: 0.6907\n",
            "\n",
            "Epoch 00170: val_accuracy did not improve from 0.69901\n",
            "Epoch 171/200\n",
            "246/246 [==============================] - 12s 49ms/step - loss: 0.2686 - accuracy: 0.9058 - val_loss: 1.2954 - val_accuracy: 0.6929\n",
            "\n",
            "Epoch 00171: val_accuracy did not improve from 0.69901\n",
            "Epoch 172/200\n",
            "246/246 [==============================] - 12s 49ms/step - loss: 0.2186 - accuracy: 0.9218 - val_loss: 1.3703 - val_accuracy: 0.6821\n",
            "\n",
            "Epoch 00172: val_accuracy did not improve from 0.69901\n",
            "Epoch 173/200\n",
            "246/246 [==============================] - 12s 49ms/step - loss: 0.2117 - accuracy: 0.9251 - val_loss: 1.3560 - val_accuracy: 0.6842\n",
            "\n",
            "Epoch 00173: val_accuracy did not improve from 0.69901\n",
            "Epoch 174/200\n",
            "246/246 [==============================] - 12s 49ms/step - loss: 0.3667 - accuracy: 0.8793 - val_loss: 1.2878 - val_accuracy: 0.6971\n",
            "\n",
            "Epoch 00174: val_accuracy did not improve from 0.69901\n",
            "Epoch 175/200\n",
            "246/246 [==============================] - 12s 49ms/step - loss: 0.2041 - accuracy: 0.9291 - val_loss: 1.3299 - val_accuracy: 0.6944\n",
            "\n",
            "Epoch 00175: val_accuracy did not improve from 0.69901\n",
            "Epoch 176/200\n",
            "246/246 [==============================] - 12s 49ms/step - loss: 0.2074 - accuracy: 0.9269 - val_loss: 1.3434 - val_accuracy: 0.6910\n",
            "\n",
            "Epoch 00176: val_accuracy did not improve from 0.69901\n",
            "Epoch 177/200\n",
            "246/246 [==============================] - 12s 49ms/step - loss: 0.2161 - accuracy: 0.9224 - val_loss: 1.3341 - val_accuracy: 0.6858\n",
            "\n",
            "Epoch 00177: val_accuracy did not improve from 0.69901\n",
            "Epoch 178/200\n",
            "246/246 [==============================] - 12s 49ms/step - loss: 0.2235 - accuracy: 0.9183 - val_loss: 1.3333 - val_accuracy: 0.6935\n",
            "\n",
            "Epoch 00178: val_accuracy did not improve from 0.69901\n",
            "Epoch 179/200\n",
            "246/246 [==============================] - 12s 49ms/step - loss: 0.2030 - accuracy: 0.9279 - val_loss: 1.3408 - val_accuracy: 0.6861\n",
            "\n",
            "Epoch 00179: val_accuracy did not improve from 0.69901\n",
            "Epoch 180/200\n",
            "246/246 [==============================] - 12s 48ms/step - loss: 0.1982 - accuracy: 0.9296 - val_loss: 1.3477 - val_accuracy: 0.6946\n",
            "\n",
            "Epoch 00180: val_accuracy did not improve from 0.69901\n",
            "Epoch 181/200\n",
            "246/246 [==============================] - 12s 49ms/step - loss: 0.2268 - accuracy: 0.9207 - val_loss: 1.3440 - val_accuracy: 0.6825\n",
            "\n",
            "Epoch 00181: val_accuracy did not improve from 0.69901\n",
            "Epoch 182/200\n",
            "246/246 [==============================] - 12s 49ms/step - loss: 0.2082 - accuracy: 0.9248 - val_loss: 1.3473 - val_accuracy: 0.6908\n",
            "\n",
            "Epoch 00182: val_accuracy did not improve from 0.69901\n",
            "Epoch 183/200\n",
            "246/246 [==============================] - 12s 48ms/step - loss: 0.2208 - accuracy: 0.9214 - val_loss: 1.3791 - val_accuracy: 0.6831\n",
            "\n",
            "Epoch 00183: val_accuracy did not improve from 0.69901\n",
            "Epoch 184/200\n",
            "246/246 [==============================] - 12s 48ms/step - loss: 0.2448 - accuracy: 0.9138 - val_loss: 1.3635 - val_accuracy: 0.6840\n",
            "\n",
            "Epoch 00184: val_accuracy did not improve from 0.69901\n",
            "Epoch 185/200\n",
            "246/246 [==============================] - 12s 48ms/step - loss: 0.2143 - accuracy: 0.9250 - val_loss: 1.3542 - val_accuracy: 0.6870\n",
            "\n",
            "Epoch 00185: val_accuracy did not improve from 0.69901\n",
            "Epoch 186/200\n",
            "246/246 [==============================] - 12s 47ms/step - loss: 0.2096 - accuracy: 0.9259 - val_loss: 1.3403 - val_accuracy: 0.6956\n",
            "\n",
            "Epoch 00186: val_accuracy did not improve from 0.69901\n",
            "Epoch 187/200\n",
            "246/246 [==============================] - 12s 49ms/step - loss: 0.2086 - accuracy: 0.9247 - val_loss: 1.3952 - val_accuracy: 0.6855\n",
            "\n",
            "Epoch 00187: val_accuracy did not improve from 0.69901\n",
            "Epoch 188/200\n",
            "246/246 [==============================] - 12s 49ms/step - loss: 0.2034 - accuracy: 0.9279 - val_loss: 1.3859 - val_accuracy: 0.6861\n",
            "\n",
            "Epoch 00188: val_accuracy did not improve from 0.69901\n",
            "Epoch 189/200\n",
            "246/246 [==============================] - 12s 48ms/step - loss: 0.3256 - accuracy: 0.8925 - val_loss: 1.3347 - val_accuracy: 0.6989\n",
            "\n",
            "Epoch 00189: val_accuracy did not improve from 0.69901\n",
            "Epoch 190/200\n",
            "246/246 [==============================] - 12s 48ms/step - loss: 0.1805 - accuracy: 0.9368 - val_loss: 1.4378 - val_accuracy: 0.6849\n",
            "\n",
            "Epoch 00190: val_accuracy did not improve from 0.69901\n",
            "Epoch 191/200\n",
            "246/246 [==============================] - 12s 49ms/step - loss: 0.2038 - accuracy: 0.9295 - val_loss: 1.3952 - val_accuracy: 0.6831\n",
            "\n",
            "Epoch 00191: val_accuracy did not improve from 0.69901\n",
            "Epoch 192/200\n",
            "246/246 [==============================] - 12s 49ms/step - loss: 0.2013 - accuracy: 0.9295 - val_loss: 1.3578 - val_accuracy: 0.6963\n",
            "\n",
            "Epoch 00192: val_accuracy did not improve from 0.69901\n",
            "Epoch 193/200\n",
            "246/246 [==============================] - 12s 50ms/step - loss: 0.2044 - accuracy: 0.9285 - val_loss: 1.3796 - val_accuracy: 0.6913\n",
            "\n",
            "Epoch 00193: val_accuracy did not improve from 0.69901\n",
            "Epoch 194/200\n",
            "246/246 [==============================] - 12s 50ms/step - loss: 0.2021 - accuracy: 0.9264 - val_loss: 1.3936 - val_accuracy: 0.6819\n",
            "\n",
            "Epoch 00194: val_accuracy did not improve from 0.69901\n",
            "Epoch 195/200\n",
            "246/246 [==============================] - 12s 49ms/step - loss: 0.2146 - accuracy: 0.9243 - val_loss: 1.3944 - val_accuracy: 0.6889\n",
            "\n",
            "Epoch 00195: val_accuracy did not improve from 0.69901\n",
            "Epoch 196/200\n",
            "246/246 [==============================] - 12s 50ms/step - loss: 0.2048 - accuracy: 0.9270 - val_loss: 1.4080 - val_accuracy: 0.6876\n",
            "\n",
            "Epoch 00196: val_accuracy did not improve from 0.69901\n",
            "Epoch 197/200\n",
            "246/246 [==============================] - 12s 51ms/step - loss: 0.2144 - accuracy: 0.9246 - val_loss: 2.0346 - val_accuracy: 0.5996\n",
            "\n",
            "Epoch 00197: val_accuracy did not improve from 0.69901\n",
            "Epoch 198/200\n",
            "246/246 [==============================] - 12s 50ms/step - loss: 0.3418 - accuracy: 0.8860 - val_loss: 1.3981 - val_accuracy: 0.6923\n",
            "\n",
            "Epoch 00198: val_accuracy did not improve from 0.69901\n",
            "Epoch 199/200\n",
            "246/246 [==============================] - 12s 49ms/step - loss: 0.1765 - accuracy: 0.9380 - val_loss: 1.5635 - val_accuracy: 0.6641\n",
            "\n",
            "Epoch 00199: val_accuracy did not improve from 0.69901\n",
            "Epoch 200/200\n",
            "246/246 [==============================] - 12s 49ms/step - loss: 0.1975 - accuracy: 0.9284 - val_loss: 1.4846 - val_accuracy: 0.6708\n",
            "\n",
            "Epoch 00200: val_accuracy did not improve from 0.69901\n"
          ],
          "name": "stdout"
        }
      ]
    },
    {
      "cell_type": "code",
      "metadata": {
        "colab": {
          "base_uri": "https://localhost:8080/",
          "height": 295
        },
        "id": "83C_zN-_HSlY",
        "outputId": "a9a900bb-348d-41b7-b7f2-967adeb363c8"
      },
      "source": [
        "import matplotlib.pyplot as plt\n",
        "plt.plot(history.history['accuracy'])\n",
        "plt.plot(history.history['val_accuracy'])\n",
        "plt.title('model accuracy')\n",
        "plt.ylabel('accuracy')\n",
        "plt.xlabel('epoch')\n",
        "plt.legend(['train', 'Validation'], loc='upper left')\n",
        "plt.show()"
      ],
      "execution_count": null,
      "outputs": [
        {
          "output_type": "display_data",
          "data": {
            "image/png": "[encoded data removed]",
            "text/plain": [
              "<Figure size 432x288 with 1 Axes>"
            ]
          },
          "metadata": {
            "tags": [],
            "needs_background": "light"
          }
        }
      ]
    },
    {
      "cell_type": "code",
      "metadata": {
        "colab": {
          "base_uri": "https://localhost:8080/"
        },
        "id": "oY6yOqbZHULQ",
        "outputId": "8bc587bd-cc26-4edd-a646-0ce29cc412f5"
      },
      "source": [
        "model = load_model('/content/drive/MyDrive/building1/26March5slots_200epochs_simpleLSTM/best_model.pkl')\n",
        "\n",
        "from sklearn.metrics import accuracy_score\n",
        "y_pred=model.predict(test)\n",
        "test_preds=( y_pred> 0.5).astype(\"int32\")#Selecting a label only if it has >0.5 probability\n",
        "accuracy_score(test_target, test_preds)"
      ],
      "execution_count": null,
      "outputs": [
        {
          "output_type": "execute_result",
          "data": {
            "text/plain": [
              "0.6676060516167309"
            ]
          },
          "metadata": {
            "tags": []
          },
          "execution_count": 53
        }
      ]
    },
    {
      "cell_type": "code",
      "metadata": {
        "colab": {
          "base_uri": "https://localhost:8080/"
        },
        "id": "FnRdkXmpHc5s",
        "outputId": "17aa0836-5f26-4a16-933b-6f05dffdf8e4"
      },
      "source": [
        "yhat=np.argmax(y_pred,axis=1)\n",
        "y=np.argmax(test_target,axis=1)\n",
        "accuracy_score(y,yhat)"
      ],
      "execution_count": null,
      "outputs": [
        {
          "output_type": "execute_result",
          "data": {
            "text/plain": [
              "0.6862948679916938"
            ]
          },
          "metadata": {
            "tags": []
          },
          "execution_count": 54
        }
      ]
    },
    {
      "cell_type": "code",
      "metadata": {
        "colab": {
          "base_uri": "https://localhost:8080/",
          "height": 204
        },
        "id": "rM7XwQExHa0U",
        "outputId": "c305bde4-d2bc-4aff-81cc-d100ae9fafa5"
      },
      "source": [
        "#converting predicted labels to waypoins.\n",
        "pred_df=pd.DataFrame(yhat,columns=['Label'])\n",
        "label_df=pd.DataFrame(label,columns=['X_up_limit','Y_up_limit','Label'])\n",
        "label_df.head()\n",
        "pred_df2 = pd.merge(pred_df, label_df, on='Label', how='left')\n",
        "pred_df2.head()"
      ],
      "execution_count": null,
      "outputs": [
        {
          "output_type": "execute_result",
          "data": {
            "text/html": [
              "<div>\n",
              "<style scoped>\n",
              "    .dataframe tbody tr th:only-of-type {\n",
              "        vertical-align: middle;\n",
              "    }\n",
              "\n",
              "    .dataframe tbody tr th {\n",
              "        vertical-align: top;\n",
              "    }\n",
              "\n",
              "    .dataframe thead th {\n",
              "        text-align: right;\n",
              "    }\n",
              "</style>\n",
              "<table border=\"1\" class=\"dataframe\">\n",
              "  <thead>\n",
              "    <tr style=\"text-align: right;\">\n",
              "      <th></th>\n",
              "      <th>Label</th>\n",
              "      <th>X_up_limit</th>\n",
              "      <th>Y_up_limit</th>\n",
              "    </tr>\n",
              "  </thead>\n",
              "  <tbody>\n",
              "    <tr>\n",
              "      <th>0</th>\n",
              "      <td>78</td>\n",
              "      <td>214.213216</td>\n",
              "      <td>169.39878</td>\n",
              "    </tr>\n",
              "    <tr>\n",
              "      <th>1</th>\n",
              "      <td>78</td>\n",
              "      <td>214.213216</td>\n",
              "      <td>169.39878</td>\n",
              "    </tr>\n",
              "    <tr>\n",
              "      <th>2</th>\n",
              "      <td>78</td>\n",
              "      <td>214.213216</td>\n",
              "      <td>169.39878</td>\n",
              "    </tr>\n",
              "    <tr>\n",
              "      <th>3</th>\n",
              "      <td>79</td>\n",
              "      <td>233.944180</td>\n",
              "      <td>169.39878</td>\n",
              "    </tr>\n",
              "    <tr>\n",
              "      <th>4</th>\n",
              "      <td>78</td>\n",
              "      <td>214.213216</td>\n",
              "      <td>169.39878</td>\n",
              "    </tr>\n",
              "  </tbody>\n",
              "</table>\n",
              "</div>"
            ],
            "text/plain": [
              "   Label  X_up_limit  Y_up_limit\n",
              "0     78  214.213216   169.39878\n",
              "1     78  214.213216   169.39878\n",
              "2     78  214.213216   169.39878\n",
              "3     79  233.944180   169.39878\n",
              "4     78  214.213216   169.39878"
            ]
          },
          "metadata": {
            "tags": []
          },
          "execution_count": 55
        }
      ]
    },
    {
      "cell_type": "code",
      "metadata": {
        "colab": {
          "base_uri": "https://localhost:8080/",
          "height": 204
        },
        "id": "YL99yJBBHs7V",
        "outputId": "f3c77640-cc86-459b-892f-93e9b2b94793"
      },
      "source": [
        "wp_pred=list()\n",
        "#Adjust wp to centers\n",
        "distx=(label[1][0]-label[0][0])/2\n",
        "disty=(label[10][1]-label[0][1])/2 #for 10X10 grid\n",
        "pred_df2['X_up_limit']=pred_df2['X_up_limit']-distx\n",
        "pred_df2['Y_up_limit']=pred_df2['Y_up_limit']-disty\n",
        "pred_df2.head()"
      ],
      "execution_count": null,
      "outputs": [
        {
          "output_type": "execute_result",
          "data": {
            "text/html": [
              "<div>\n",
              "<style scoped>\n",
              "    .dataframe tbody tr th:only-of-type {\n",
              "        vertical-align: middle;\n",
              "    }\n",
              "\n",
              "    .dataframe tbody tr th {\n",
              "        vertical-align: top;\n",
              "    }\n",
              "\n",
              "    .dataframe thead th {\n",
              "        text-align: right;\n",
              "    }\n",
              "</style>\n",
              "<table border=\"1\" class=\"dataframe\">\n",
              "  <thead>\n",
              "    <tr style=\"text-align: right;\">\n",
              "      <th></th>\n",
              "      <th>Label</th>\n",
              "      <th>X_up_limit</th>\n",
              "      <th>Y_up_limit</th>\n",
              "    </tr>\n",
              "  </thead>\n",
              "  <tbody>\n",
              "    <tr>\n",
              "      <th>0</th>\n",
              "      <td>78</td>\n",
              "      <td>204.347734</td>\n",
              "      <td>163.499172</td>\n",
              "    </tr>\n",
              "    <tr>\n",
              "      <th>1</th>\n",
              "      <td>78</td>\n",
              "      <td>204.347734</td>\n",
              "      <td>163.499172</td>\n",
              "    </tr>\n",
              "    <tr>\n",
              "      <th>2</th>\n",
              "      <td>78</td>\n",
              "      <td>204.347734</td>\n",
              "      <td>163.499172</td>\n",
              "    </tr>\n",
              "    <tr>\n",
              "      <th>3</th>\n",
              "      <td>79</td>\n",
              "      <td>224.078698</td>\n",
              "      <td>163.499172</td>\n",
              "    </tr>\n",
              "    <tr>\n",
              "      <th>4</th>\n",
              "      <td>78</td>\n",
              "      <td>204.347734</td>\n",
              "      <td>163.499172</td>\n",
              "    </tr>\n",
              "  </tbody>\n",
              "</table>\n",
              "</div>"
            ],
            "text/plain": [
              "   Label  X_up_limit  Y_up_limit\n",
              "0     78  204.347734  163.499172\n",
              "1     78  204.347734  163.499172\n",
              "2     78  204.347734  163.499172\n",
              "3     79  224.078698  163.499172\n",
              "4     78  204.347734  163.499172"
            ]
          },
          "metadata": {
            "tags": []
          },
          "execution_count": 56
        }
      ]
    },
    {
      "cell_type": "code",
      "metadata": {
        "colab": {
          "base_uri": "https://localhost:8080/"
        },
        "id": "ZDoK5QESHzeo",
        "outputId": "4e73a42b-dad6-4f87-efbf-a3dd7ebbc023"
      },
      "source": [
        "#Now we will calculate exact error in predicted and actual location\n",
        "#We will consider only those waypoints which were present in the original data\n",
        "#to calculate error and we will reject interpolated values which were introduced by us \n",
        "import math\n",
        "sum_of_error=0\n",
        "sum_sq_error=0\n",
        "count=0\n",
        "test_predicted=pred_df2[['X_up_limit','Y_up_limit']].values\n",
        "for i in range(len(test_seq_wp)):\n",
        "  for j in range(len(test_seq_wp[i])):\n",
        "    if(test_seq_wp[i][j][2]==1):\n",
        "      sum_of_error+=math.sqrt(((test_predicted[i][0]-test_seq_wp[i][j][0])**2)+((test_predicted[i][1]-test_seq_wp[i][j][1])**2))\n",
        "      sum_sq_error+=((test_predicted[i][0]-test_seq_wp[i][j][0])**2)+((test_predicted[i][1]-test_seq_wp[i][j][1])**2)\n",
        "      count+=1\n",
        "\n",
        "\n",
        "MAE=sum_of_error/count\n",
        "RMSE=math.sqrt(sum_sq_error/count)\n",
        "print('MAE value is:',round(MAE,2))  \n",
        "print('RMSE value is:',round(RMSE,2)) "
      ],
      "execution_count": null,
      "outputs": [
        {
          "output_type": "stream",
          "text": [
            "MAE value is: 31.66\n",
            "RMSE value is: 45.02\n"
          ],
          "name": "stdout"
        }
      ]
    }
  ]
}