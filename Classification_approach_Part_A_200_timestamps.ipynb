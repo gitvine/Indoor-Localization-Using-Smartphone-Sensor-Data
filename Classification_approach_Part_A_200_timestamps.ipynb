{
  "nbformat": 4,
  "nbformat_minor": 0,
  "metadata": {
    "colab": {
      "name": "Part_A_classification_approach_200_timestamps.ipynb",
      "provenance": [],
      "collapsed_sections": [],
      "toc_visible": true
    },
    "kernelspec": {
      "display_name": "Python 3",
      "language": "python",
      "name": "python3"
    },
    "language_info": {
      "codemirror_mode": {
        "name": "ipython",
        "version": 3
      },
      "file_extension": ".py",
      "mimetype": "text/x-python",
      "name": "python",
      "nbconvert_exporter": "python",
      "pygments_lexer": "ipython3",
      "version": "3.8.5"
    }
  },
  "cells": [
    {
      "cell_type": "markdown",
      "metadata": {
        "id": "QktZ8WbxTv2T"
      },
      "source": [
        "## We have divided the problem into two parts\n",
        "(a) Predict the floor number\n",
        "(b) Predict the way points or location on that floor"
      ]
    },
    {
      "cell_type": "code",
      "metadata": {
        "id": "1f5bwMxmPWjQ"
      },
      "source": [
        "import pandas as pd\n",
        "import numpy as np\n",
        "%matplotlib inline\n",
        "import matplotlib.pyplot as plt\n",
        "from os import listdir\n",
        "from pathlib import Path\n",
        "pd.options.mode.chained_assignment = None  # default='warn'\n",
        "from dataclasses import dataclass\n",
        "from sklearn import preprocessing"
      ],
      "execution_count": 1,
      "outputs": []
    },
    {
      "cell_type": "code",
      "metadata": {
        "id": "q6hAEaR6tmi9"
      },
      "source": [
        "import keras\n",
        "from keras.utils import to_categorical\n",
        "from keras.preprocessing import sequence\n",
        "import tensorflow as tf\n",
        "from keras.models import Sequential\n",
        "from keras.layers import Dense\n",
        "from keras.layers import LSTM\n",
        "from keras.optimizers import Adam\n",
        "from keras.models import load_model\n",
        "from keras.callbacks import ModelCheckpoint\n",
        "from keras.layers import Bidirectional"
      ],
      "execution_count": 2,
      "outputs": []
    },
    {
      "cell_type": "code",
      "metadata": {
        "colab": {
          "base_uri": "https://localhost:8080/"
        },
        "id": "BfbMebYYWEIw",
        "outputId": "ca524823-273e-482b-ca5e-1e11bf25c1fd"
      },
      "source": [
        "from google.colab import drive\n",
        "drive.mount('/content/drive')"
      ],
      "execution_count": 3,
      "outputs": [
        {
          "output_type": "stream",
          "text": [
            "Mounted at /content/drive\n"
          ],
          "name": "stdout"
        }
      ]
    },
    {
      "cell_type": "markdown",
      "metadata": {
        "id": "1fK2vgwrTA1W"
      },
      "source": [
        "### 1. Data Exploration\n",
        "We will first check the lengths of the files by comparing the number of rows in each file."
      ]
    },
    {
      "cell_type": "code",
      "metadata": {
        "id": "Q7B9Qlc2Uq49"
      },
      "source": [
        "#Function to check file length\n",
        "def file_len(file_name):\n",
        "    with open(file_name) as f:\n",
        "        for i, l in enumerate(f):\n",
        "            pass\n",
        "    return i + 1"
      ],
      "execution_count": 4,
      "outputs": []
    },
    {
      "cell_type": "code",
      "metadata": {
        "colab": {
          "base_uri": "https://localhost:8080/"
        },
        "id": "I48TZE6yUyTS",
        "outputId": "af23510f-b78d-4c23-8d4e-432328525aca"
      },
      "source": [
        "#We will compare files for one floor B1 in the building\n",
        "file_path = '/content/drive/MyDrive/building1/data/B1'\n",
        "pathlist = Path(file_path).rglob('*.txt')\n",
        "max_file_rows=0\n",
        "min_file_rows=100000\n",
        "for path in pathlist:\n",
        "  path_in_str = str(path)\n",
        "  file_rows=file_len(path_in_str)\n",
        "  if(file_rows>max_file_rows):\n",
        "    max_file_rows=file_rows\n",
        "  if(file_rows<min_file_rows):\n",
        "    min_file_rows=file_rows  \n",
        "print(max_file_rows)\n",
        "print(min_file_rows)\n"
      ],
      "execution_count": 6,
      "outputs": [
        {
          "output_type": "stream",
          "text": [
            "49085\n",
            "3161\n"
          ],
          "name": "stdout"
        }
      ]
    },
    {
      "cell_type": "markdown",
      "metadata": {
        "id": "5ALUWnrLWmHj"
      },
      "source": [
        "####So, there is huge difference between file sizes. Let's find out the number of unique timestamps in each trace file and compare maximum and minimum. "
      ]
    },
    {
      "cell_type": "code",
      "metadata": {
        "id": "J70Yx8kt4IxK"
      },
      "source": [
        "#Function to find out the number of timesolts in a file   \n",
        "\n",
        "def time_slot_len(file_name):\n",
        "    with open(file_name, 'r', encoding='utf-8') as file:\n",
        "        lines = file.readlines()\n",
        "        ts_series=[]\n",
        "    for line_data in lines:\n",
        "        line_data = line_data.strip()\n",
        "        if not line_data or line_data[0] == '#':\n",
        "          continue\n",
        "        else:\n",
        "          line_data = line_data.split('\\t')\n",
        "          ts_series.append(int(line_data[0]))  \n",
        "    ts_series=np.array(ts_series)\n",
        "    length=len(np.unique(ts_series)) #get unique number of timestamps        \n",
        "    return length  "
      ],
      "execution_count": 7,
      "outputs": []
    },
    {
      "cell_type": "code",
      "metadata": {
        "colab": {
          "base_uri": "https://localhost:8080/"
        },
        "id": "wTw3HpLy4OeE",
        "outputId": "9cd11e12-dee0-4194-e92a-5b80a7db6b62"
      },
      "source": [
        "#We will go through all the folders and read each file to count the number of timestamps\n",
        "#Then for each floor we find out the maximum and minimum number of timeslots for all the trace files \n",
        "file_path = '/content/drive/MyDrive/building1/data/B1'\n",
        "pathlist = Path(file_path).rglob('*.txt')\n",
        "max_ts_count=0\n",
        "min_ts_count=100000\n",
        "sum_ts=0\n",
        "for path in pathlist:\n",
        "  path_in_str = str(path)\n",
        "  ts_length=time_slot_len(path_in_str)\n",
        "  sum_ts=sum_ts+ts_length\n",
        "  if(ts_length>max_ts_count):\n",
        "    max_ts_count=ts_length\n",
        "  if(ts_length<min_ts_count):\n",
        "    min_ts_count=ts_length  \n",
        "print(\"Maximum count of timeslots for B1:\",max_ts_count)\n",
        "print(\"Minimum count of timeslots for B1:\",min_ts_count)\n",
        "print(\"Sum of count of timeslots for B1:\",sum_ts)\n",
        "#Repeating for all floors\n",
        "file_path = '/content/drive/MyDrive/building1/data/F1'\n",
        "pathlist = Path(file_path).rglob('*.txt')\n",
        "max_ts_count=0\n",
        "min_ts_count=100000\n",
        "sum_ts=0\n",
        "for path in pathlist:\n",
        "  path_in_str = str(path)\n",
        "  ts_length=time_slot_len(path_in_str)\n",
        "  sum_ts=sum_ts+ts_length\n",
        "  if(ts_length>max_ts_count):\n",
        "    max_ts_count=ts_length\n",
        "  if(ts_length<min_ts_count):\n",
        "    min_ts_count=ts_length  \n",
        "print(\"Maximum count of timeslots for F1:\",max_ts_count)\n",
        "print(\"Minimum count of timeslots for F1:\",min_ts_count)\n",
        "print(\"Sum of count of timeslots for F1:\",sum_ts)\n",
        "################\n",
        "file_path = '/content/drive/MyDrive/building1/data/F2'\n",
        "pathlist = Path(file_path).rglob('*.txt')\n",
        "max_ts_count=0\n",
        "min_ts_count=100000\n",
        "sum_ts=0\n",
        "for path in pathlist:\n",
        "  path_in_str = str(path)\n",
        "  ts_length=time_slot_len(path_in_str)\n",
        "  sum_ts=sum_ts+ts_length\n",
        "  if(ts_length>max_ts_count):\n",
        "    max_ts_count=ts_length\n",
        "  if(ts_length<min_ts_count):\n",
        "    min_ts_count=ts_length  \n",
        "print(\"Maximum count of timeslots for F2:\",max_ts_count)\n",
        "print(\"Minimum count of timeslots for F2:\",min_ts_count)\n",
        "print(\"Sum of count of timeslots for F2:\",sum_ts)\n",
        "######################\n",
        "file_path = '/content/drive/MyDrive/building1/data/F3'\n",
        "pathlist = Path(file_path).rglob('*.txt')\n",
        "max_ts_count=0\n",
        "min_ts_count=100000\n",
        "sum_ts=0\n",
        "for path in pathlist:\n",
        "  path_in_str = str(path)\n",
        "  ts_length=time_slot_len(path_in_str)\n",
        "  sum_ts=sum_ts+ts_length\n",
        "  if(ts_length>max_ts_count):\n",
        "    max_ts_count=ts_length\n",
        "  if(ts_length<min_ts_count):\n",
        "    min_ts_count=ts_length  \n",
        "print(\"Maximum count of timeslots for F3:\",max_ts_count)\n",
        "print(\"Minimum count of timeslots for F3:\",min_ts_count)\n",
        "print(\"Sum of count of timeslots for F3:\",sum_ts)\n",
        "####################\n",
        "file_path = '/content/drive/MyDrive/building1/data/F4'\n",
        "pathlist = Path(file_path).rglob('*.txt')\n",
        "max_ts_count=0\n",
        "min_ts_count=100000\n",
        "sum_ts=0\n",
        "for path in pathlist:\n",
        "  path_in_str = str(path)\n",
        "  ts_length=time_slot_len(path_in_str)\n",
        "  sum_ts=sum_ts+ts_length\n",
        "  if(ts_length>max_ts_count):\n",
        "    max_ts_count=ts_length\n",
        "  if(ts_length<min_ts_count):\n",
        "    min_ts_count=ts_length  \n",
        "print(\"Maximum count of timeslots for F4:\",max_ts_count)\n",
        "print(\"Minimum count of timeslots for F4:\",min_ts_count)\n",
        "print(\"Sum of count of timeslots for F4:\",sum_ts)"
      ],
      "execution_count": 8,
      "outputs": [
        {
          "output_type": "stream",
          "text": [
            "Maximum count of timeslots for B1: 6255\n",
            "Minimum count of timeslots for B1: 391\n",
            "Sum of count of timeslots for B1: 226895\n",
            "Maximum count of timeslots for F1: 5799\n",
            "Minimum count of timeslots for F1: 257\n",
            "Sum of count of timeslots for F1: 215327\n",
            "Maximum count of timeslots for F2: 21306\n",
            "Minimum count of timeslots for F2: 320\n",
            "Sum of count of timeslots for F2: 290344\n",
            "Maximum count of timeslots for F3: 10804\n",
            "Minimum count of timeslots for F3: 285\n",
            "Sum of count of timeslots for F3: 147322\n",
            "Maximum count of timeslots for F4: 28877\n",
            "Minimum count of timeslots for F4: 240\n",
            "Sum of count of timeslots for F4: 261828\n"
          ],
          "name": "stdout"
        }
      ]
    },
    {
      "cell_type": "markdown",
      "metadata": {
        "id": "ePrISTdKXbrP"
      },
      "source": [
        "##### For each timetamp we will separate the sensor data such that we get a time series with sensor data. We need all the trace sequences to have same number of unique time stamps for our models. The length of the time series must be same.  But the difference between these file traces is too big to be filled with dummy values. So, we will restrict ourselves to 200 timestamp values for time series in each trace. If we select sensor data for only the first 200 unique timestamps then this will lead to massive loss of data. So, we will split each trace into multiple time series data with each having 200 unique timestamps."
      ]
    },
    {
      "cell_type": "markdown",
      "metadata": {
        "id": "YjlXfxS2iqjn"
      },
      "source": [
        "2. Data preprocessing"
      ]
    },
    {
      "cell_type": "code",
      "metadata": {
        "id": "XpKnmwl6M_3_"
      },
      "source": [
        "#Function to connect waypoint coordinates with straight lines\n",
        "#This will be used for second part of project.We will discuss about this later.\n",
        "def connect_waypoints(wp_df):\n",
        "  if(wp_df.at[0,'waypoint_val1']==''):\n",
        "    wp_df.at[0,'waypoint_val1']=0\n",
        "  if(wp_df.at[0,'waypoint_val2']==''):\n",
        "    wp_df.at[0,'waypoint_val2']=0  \n",
        "  j=0\n",
        "  i=0\n",
        "  last=0\n",
        "  #print(wp_df.head(5))\n",
        "  while i < (len(wp_df)-1):\n",
        "    j=i+1\n",
        "    while((wp_df.at[j,'waypoint_val1']==0) and (wp_df.at[j,'waypoint_val2']==0) ):\n",
        "      if(j==len(wp_df)-1):\n",
        "        wp_df.at[j,'waypoint_val1']=wp_df.at[i,'waypoint_val1']\n",
        "        wp_df.at[j,'waypoint_val2']=wp_df.at[i,'waypoint_val2']\n",
        "        last=1\n",
        "        break\n",
        "      j+=1\n",
        "    temp_arrayx=np.linspace(wp_df.at[i,'waypoint_val1'],wp_df.at[j,'waypoint_val1'], num=j-i+1)\n",
        "    temp_arrayy=np.linspace(wp_df.at[i,'waypoint_val2'],wp_df.at[j,'waypoint_val2'], num=j-i+1)\n",
        "    #print(temp_arrayx)\n",
        "    m=0\n",
        "    for k in range(i,j+1):\n",
        "      wp_df.at[k,'waypoint_val1']=temp_arrayx[m]\n",
        "      wp_df.at[k,'waypoint_val2']=temp_arrayy[m]\n",
        "      #For final comparison of our predicted location, we will need to mark which waypoints were in original data before connecting them\n",
        "      #print('k=',k,'i=',i,'j=',j)\n",
        "      if((k==i) and (last==0)):\n",
        "        wp_df.at[k,'interpolated']=1 #original waypoints\n",
        "      else:\n",
        "        wp_df.at[k,'interpolated']=0  #interpolated waypoints\n",
        "      m+=1\n",
        "    i=j\n",
        "  return wp_df     \n"
      ],
      "execution_count": null,
      "outputs": []
    },
    {
      "cell_type": "code",
      "metadata": {
        "id": "hycBgmQSPWjX"
      },
      "source": [
        "# Function to extract arrays for each sensor with timeslots.\n",
        "# This particular function is modified from the function provided by the competition's github page at https://github.com/location-competition/indoor-location-competition-20/blob/master/io_f.py\n",
        "\n",
        "@dataclass\n",
        "class ReadData:\n",
        "    acce: np.ndarray\n",
        "    acce_uncali: np.ndarray\n",
        "    gyro: np.ndarray\n",
        "    gyro_uncali: np.ndarray\n",
        "    magn: np.ndarray\n",
        "    magn_uncali: np.ndarray\n",
        "    ahrs: np.ndarray\n",
        "    wifi: np.ndarray\n",
        "    ibeacon: np.ndarray\n",
        "    waypoint: np.ndarray\n",
        "\n",
        "\n",
        "def read_data_file(data_filename):\n",
        "    acce = []\n",
        "    acce_uncali = []\n",
        "    gyro = []\n",
        "    gyro_uncali = []\n",
        "    magn = []\n",
        "    magn_uncali = []\n",
        "    ahrs = []\n",
        "    wifi = []\n",
        "    ibeacon = []\n",
        "    waypoint = []\n",
        "    line_count=0\n",
        "    with open(data_filename, 'r', encoding='utf-8') as file:\n",
        "        lines = file.readlines()\n",
        "\n",
        "    for line_data in lines:\n",
        "        #line_count=line_count+1\n",
        "        #if(line_count>3000):\n",
        "        #  break\n",
        "        line_data = line_data.strip()\n",
        "        if not line_data or line_data[0] == '#':\n",
        "            continue\n",
        "\n",
        "        line_data = line_data.split('\\t')\n",
        "\n",
        "        if line_data[1] == 'TYPE_ACCELEROMETER':\n",
        "            acce.append([int(line_data[0]), float(line_data[2]), float(line_data[3]), float(line_data[4])])\n",
        "            continue\n",
        "\n",
        "        if line_data[1] == 'TYPE_ACCELEROMETER_UNCALIBRATED':\n",
        "            acce_uncali.append([int(line_data[0]), float(line_data[2]), float(line_data[3]), float(line_data[4])])\n",
        "            continue\n",
        "\n",
        "        if line_data[1] == 'TYPE_GYROSCOPE':\n",
        "            gyro.append([int(line_data[0]), float(line_data[2]), float(line_data[3]), float(line_data[4])])\n",
        "            continue\n",
        "\n",
        "        if line_data[1] == 'TYPE_GYROSCOPE_UNCALIBRATED':\n",
        "            gyro_uncali.append([int(line_data[0]), float(line_data[2]), float(line_data[3]), float(line_data[4])])\n",
        "            continue\n",
        "\n",
        "        if line_data[1] == 'TYPE_MAGNETIC_FIELD':\n",
        "            magn.append([int(line_data[0]), float(line_data[2]), float(line_data[3]), float(line_data[4])])\n",
        "            continue\n",
        "\n",
        "        if line_data[1] == 'TYPE_MAGNETIC_FIELD_UNCALIBRATED':\n",
        "            magn_uncali.append([int(line_data[0]), float(line_data[2]), float(line_data[3]), float(line_data[4])])\n",
        "            continue\n",
        "\n",
        "        if line_data[1] == 'TYPE_ROTATION_VECTOR':\n",
        "            ahrs.append([int(line_data[0]), float(line_data[2]), float(line_data[3]), float(line_data[4])])\n",
        "            continue\n",
        "\n",
        "        if line_data[1] == 'TYPE_WIFI':\n",
        "            sys_ts = int(line_data[0])\n",
        "            ssid = line_data[2]\n",
        "            bssid = line_data[3]\n",
        "            rssi = line_data[4]\n",
        "            lastseen_ts = line_data[6]\n",
        "            wifi_data = [sys_ts, ssid, bssid, rssi, lastseen_ts]\n",
        "            wifi.append(wifi_data)\n",
        "            continue\n",
        "\n",
        "        if line_data[1] == 'TYPE_BEACON':\n",
        "            ts = int(line_data[0])\n",
        "            uuid = line_data[2]\n",
        "            major = line_data[3]\n",
        "            minor = line_data[4]\n",
        "            rssi = line_data[6]\n",
        "            ibeacon_data = [ts, '_'.join([uuid, major, minor]), rssi]\n",
        "            ibeacon.append(ibeacon_data)\n",
        "            continue\n",
        "\n",
        "        if line_data[1] == 'TYPE_WAYPOINT':\n",
        "            waypoint.append([int(line_data[0]), float(line_data[2]), float(line_data[3])])\n",
        "\n",
        "    acce = np.array(acce,dtype=np.float)\n",
        "    acce_uncali = np.array(acce_uncali,dtype=np.float)\n",
        "    gyro = np.array(gyro,dtype=np.float)\n",
        "    gyro_uncali = np.array(gyro_uncali,dtype=np.float)\n",
        "    magn = np.array(magn,dtype=np.float)\n",
        "    magn_uncali = np.array(magn_uncali,dtype=np.float)\n",
        "    ahrs = np.array(ahrs)\n",
        "    wifi = np.array(wifi)\n",
        "    ibeacon = np.array(ibeacon)\n",
        "    waypoint = np.array(waypoint)\n",
        "\n",
        "    return ReadData(acce, acce_uncali, gyro, gyro_uncali, magn, magn_uncali, ahrs, wifi, ibeacon, waypoint)"
      ],
      "execution_count": null,
      "outputs": []
    },
    {
      "cell_type": "code",
      "metadata": {
        "id": "FpAoHhUmPWjb"
      },
      "source": [
        "#Function to go through all the files in the folder and return the sensor data \n",
        "# in the form of arrays\n",
        "@dataclass\n",
        "class trace:\n",
        "    sequence: np.ndarray\n",
        "    target_seq: np.ndarray\n",
        "    waypoint_seq: np.ndarray\n",
        "    wp_full_seq: np.ndarray\n",
        "\n",
        "def convert_to_df(file_path,floor,timeslots):\n",
        "    pathlist = Path(file_path).rglob('*.txt')\n",
        "    sequence = list()\n",
        "    target_seq=list()\n",
        "    waypoint_seq=list()\n",
        "    wp_full_seq=list()\n",
        "    path_id=1\n",
        "    floor_trace_df=pd.DataFrame()\n",
        "    for path in pathlist:\n",
        "         # because path is object not string\n",
        "        path_in_str = str(path)\n",
        "         # print(path_in_str)\n",
        "        trace_file = read_data_file(path_in_str)\n",
        "        trace_df=pd.DataFrame()\n",
        "        if(trace_file.acce.size):\n",
        "            acce_df=pd.DataFrame(trace_file.acce, columns=['Timestamp','acce_val1','acce_val2','acce_val3'])\n",
        "        if(trace_file.acce_uncali.size):\n",
        "            acce__uncal_df=pd.DataFrame(trace_file.acce_uncali, columns=['Timestamp','acce_uncal_val1','acce_uncal_val2','acce_uncal_val3'])   \n",
        "        if(trace_file.gyro.size):\n",
        "            gyro_df=pd.DataFrame(trace_file.gyro, columns=['Timestamp','gyro_val1','gyro_val2','gyro_val3'])\n",
        "        if(trace_file.gyro_uncali.size):\n",
        "            gyro_uncal_df=pd.DataFrame(trace_file.gyro_uncali, columns=['Timestamp','gyro_uncal_val1','gyro_uncal_val2','gyro_uncal_val3'])\n",
        "        if(trace_file.magn.size):\n",
        "            magn_df=pd.DataFrame(trace_file.magn, columns=['Timestamp','magn_val1','magn_val2','magn_val3'])\n",
        "        if(trace_file.magn_uncali.size):\n",
        "            magn_uncal_df=pd.DataFrame(trace_file.magn_uncali, columns=['Timestamp','magn_uncal_val1','magn_uncal_val2','magn_uncal_val3'])\n",
        "        if(trace_file.ahrs.size):\n",
        "            rot_df=pd.DataFrame(trace_file.ahrs, columns=['Timestamp','rot_val1','rot_val2','rot_val3'])           \n",
        "        if(trace_file.wifi.size):\n",
        "            wifi_df=pd.DataFrame(trace_file.wifi, columns=['Timestamp','wifi_val1','wifi_val2','wifi_val3','wifi_val4']) \n",
        "        if(trace_file.ibeacon.size):\n",
        "            ibeacon_df=pd.DataFrame(trace_file.ibeacon, columns=['Timestamp','ibeacon_val1','ibeacon_val2'])    \n",
        "        if(trace_file.waypoint.size):\n",
        "            waypoint_df=pd.DataFrame(trace_file.waypoint, columns=['Timestamp','waypoint_val1','waypoint_val2'])\n",
        "        \n",
        "        #change data type of wifi dataframe timestamp and ibeacon timestamp\n",
        "        wifi_df[\"Timestamp\"] = wifi_df.Timestamp.astype(float)\n",
        "        ibeacon_df[\"Timestamp\"] = ibeacon_df.Timestamp.astype(float)\n",
        "        trace_df = pd.merge(acce_df, acce__uncal_df, on='Timestamp', how='outer')\n",
        "        trace_df = pd.merge(trace_df, gyro_df, on='Timestamp', how='outer')\n",
        "        trace_df = pd.merge(trace_df, gyro_uncal_df, on='Timestamp', how='outer')\n",
        "        trace_df = pd.merge(trace_df, magn_df, on='Timestamp', how='outer')\n",
        "        trace_df = pd.merge(trace_df, magn_uncal_df, on='Timestamp', how='outer')\n",
        "        trace_df = pd.merge(trace_df, rot_df, on='Timestamp', how='outer')\n",
        "        trace_df = pd.merge(trace_df, wifi_df, on='Timestamp', how='outer')\n",
        "        trace_df = pd.merge(trace_df, ibeacon_df, on='Timestamp', how='outer')\n",
        "        trace_df = pd.merge(trace_df, waypoint_df, on='Timestamp', how='outer')\n",
        "        ###### Cast time stamp to integer\n",
        "        trace_df[\"Timestamp\"] = trace_df.Timestamp.astype(int)\n",
        "\n",
        "        # sorting by Timestamp and deleting duplicate timeslots \n",
        "        \n",
        "        trace_df.sort_values(\"Timestamp\", inplace = True)\n",
        "        trace_df = trace_df.reset_index(drop=True)\n",
        "        trace_df.drop_duplicates(subset=\"Timestamp\",keep=False, inplace=True)\n",
        "        trace_df = trace_df.reset_index(drop=True)\n",
        "        \n",
        "        trace_df=trace_df.replace(np.nan,0)\n",
        "\n",
        "        #keep only top 200 rows in one sequence     \n",
        "        #trace_df=trace_df.head(200)\n",
        "\n",
        "        #for i in range(0,len(trace_df)):\n",
        "         # trace_df.at[i,'Timestamp']=i\n",
        "        \n",
        "        #trace_df['time_index'] = trace_df.index\n",
        "        #print(trace_df.head())\n",
        "        #trace_df['floor_name']=floor\n",
        "        #trace_df['path_id']=floor+path_id\n",
        "        #path_id=path_id+1\n",
        "        #trace_df['wifi_df'].fillna(0)\n",
        "        #trace_df['ibeacon_df'].fillna(0)\n",
        "        #trace_df['wifi_df'].fillna(0)\n",
        "        \n",
        "\n",
        "        wp_df = trace_df[['waypoint_val1', 'waypoint_val2']].copy()\n",
        "        wp_df=connect_waypoints(wp_df)\n",
        "        wp_values=wp_df.values\n",
        "        #Removing text based fields in dataframe\n",
        "        trace_df=trace_df.drop(['Timestamp'], axis=1)\n",
        "        trace_df=trace_df.drop(['wifi_val1'], axis=1)\n",
        "        trace_df=trace_df.drop(['wifi_val2'], axis=1)\n",
        "        trace_df=trace_df.drop(['ibeacon_val1'], axis=1)\n",
        "        trace_df.astype('float32')        \n",
        "        trace_df=trace_df.drop(['waypoint_val1','waypoint_val2'], axis=1)\n",
        "        #floor_trace_df=floor_trace_df.append(trace_df)\n",
        "        values = trace_df.values \n",
        "\n",
        "\n",
        "        \n",
        "\n",
        "\n",
        "        #Now split sequence into required number of timeslots\n",
        "        l=int(len(values)/timeslots)\n",
        "        k=0\n",
        "        for m in range(l):\n",
        "          s_temp=values[k:k+timeslots]\n",
        "          wp_temp=wp_values[k:k+timeslots]\n",
        "          #Normalize\n",
        "          #min_max_scaler = preprocessing.MinMaxScaler()\n",
        "          #s_scaled = min_max_scaler.fit_transform(s_temp)\n",
        "          sequence.append(s_temp)\n",
        "          wp_full_seq.append(wp_temp)\n",
        "          target_seq.append(floor)\n",
        "          wp_temp=wp_df.iloc[k:k+timeslots,0:]\n",
        "          wp_temp=wp_temp.reset_index(drop=True)\n",
        "          #wp_temp=connect_waypoints(wp_temp)\n",
        "        #Now after connecting the waypoints, the avearge has become a wieghted average in time series\n",
        "          wp_avg_x=wp_temp['waypoint_val1'].mean()\n",
        "          wp_avg_y=wp_temp['waypoint_val2'].mean()\n",
        "        #maximum and minimum will be useful in second part\n",
        "          wp_max_x=wp_temp['waypoint_val1'].max()\n",
        "          wp_min_x=wp_temp['waypoint_val1'].min()\n",
        "          wp_max_y=wp_temp['waypoint_val2'].max()\n",
        "          wp_min_y=wp_temp['waypoint_val2'].min()\n",
        "          \n",
        "          waypoint_seq.append([wp_avg_x,wp_avg_y,wp_max_x,wp_min_x,wp_max_y,wp_min_y])\n",
        "          k+=timeslots\n",
        "\n",
        "    return trace(sequence,target_seq,waypoint_seq,wp_full_seq)"
      ],
      "execution_count": null,
      "outputs": []
    },
    {
      "cell_type": "code",
      "metadata": {
        "id": "hjiKBKnBDTNS"
      },
      "source": [
        "#1 trace test Extracting data for B1 floor only\n",
        "sequences = list()\n",
        "target_sequence=list()\n",
        "waypoint_sequence=list()\n",
        "waypoint_full_sequence=list()\n",
        "#floors_df=pd.DataFrame()\n",
        "file_path = '/content/drive/MyDrive/building1/test/'\n",
        "trace_values=(convert_to_df(file_path,0))\n",
        "sequences.extend(trace_values.sequence)\n",
        "target_sequence.extend(trace_values.target_seq)\n",
        "waypoint_sequence.extend(trace_values.waypoint_seq)\n",
        "waypoint_full_sequence.extend(trace_values.wp_full_seq)"
      ],
      "execution_count": null,
      "outputs": []
    },
    {
      "cell_type": "code",
      "metadata": {
        "colab": {
          "base_uri": "https://localhost:8080/"
        },
        "id": "OXmpBegNG3fL",
        "outputId": "a45f2281-f578-40a1-9c40-88eb8e02780e"
      },
      "source": [
        "len(sequences)"
      ],
      "execution_count": null,
      "outputs": [
        {
          "output_type": "execute_result",
          "data": {
            "text/plain": [
              "98"
            ]
          },
          "metadata": {
            "tags": []
          },
          "execution_count": 44
        }
      ]
    },
    {
      "cell_type": "code",
      "metadata": {
        "id": "RIHmyZk8PWje"
      },
      "source": [
        "#Extracting data for B1 floor only\n",
        "sequences = list()\n",
        "target_sequence=list()\n",
        "waypoint_sequence=list()\n",
        "waypoint_full_sequence=list()\n",
        "#floors_df=pd.DataFrame()\n",
        "file_path = '/content/drive/MyDrive/building1/data/B1'\n",
        "trace_values=(convert_to_df(file_path,0,200))\n",
        "sequences.extend(trace_values.sequence)\n",
        "target_sequence.extend(trace_values.target_seq)\n",
        "waypoint_sequence.extend(trace_values.waypoint_seq)\n",
        "waypoint_full_sequence.extend(trace_values.wp_full_seq)"
      ],
      "execution_count": null,
      "outputs": []
    },
    {
      "cell_type": "code",
      "metadata": {
        "colab": {
          "base_uri": "https://localhost:8080/"
        },
        "id": "-H8pSsXd15bP",
        "outputId": "b1d8fdab-576a-4a35-894b-136519b6daae"
      },
      "source": [
        "waypoint_sequence[0]"
      ],
      "execution_count": null,
      "outputs": [
        {
          "output_type": "execute_result",
          "data": {
            "text/plain": [
              "[199.62186111451942,\n",
              " 163.2348391411043,\n",
              " 200.87539222903885,\n",
              " 198.36833,\n",
              " 163.52063,\n",
              " 162.9490482822086]"
            ]
          },
          "metadata": {
            "tags": []
          },
          "execution_count": 32
        }
      ]
    },
    {
      "cell_type": "code",
      "metadata": {
        "colab": {
          "base_uri": "https://localhost:8080/"
        },
        "id": "cu3Zj31ukXcD",
        "outputId": "51043d3a-2133-4179-8edc-bdabfc977c55"
      },
      "source": [
        "len(sequences[0])"
      ],
      "execution_count": null,
      "outputs": [
        {
          "output_type": "execute_result",
          "data": {
            "text/plain": [
              "5"
            ]
          },
          "metadata": {
            "tags": []
          },
          "execution_count": 9
        }
      ]
    },
    {
      "cell_type": "code",
      "metadata": {
        "colab": {
          "base_uri": "https://localhost:8080/"
        },
        "id": "z_7S8TmaPWje",
        "outputId": "2f767490-d7b5-48d4-d7b8-3488f31a0552"
      },
      "source": [
        "print('Number of sequences',len(sequences))\n",
        "print('Number of targets',len(target_sequence))\n",
        "print('Number of timeslots in first sequence',(sequences[0].shape)[0])\n",
        "print('Number of timeslots in tenth sequence',(sequences[9].shape)[0])\n",
        "print('Number of timeslots in hundredth sequence',(sequences[99].shape)[0])"
      ],
      "execution_count": null,
      "outputs": [
        {
          "output_type": "stream",
          "text": [
            "Number of sequences 1072\n",
            "Number of targets 1072\n",
            "Number of timeslots in first sequence 200\n",
            "Number of timeslots in tenth sequence 200\n",
            "Number of timeslots in hundredth sequence 200\n"
          ],
          "name": "stdout"
        }
      ]
    },
    {
      "cell_type": "code",
      "metadata": {
        "id": "wPdndUabPWje"
      },
      "source": [
        "#Now adding data of other floors to the sequences starting with F1\n",
        "#I have delibrately not written a function to get data for all \n",
        "#the floors as Part B requires floor wise separate data\n",
        "\n",
        "file_path = '/content/drive/MyDrive/building1/data/F1'\n",
        "trace_values=(convert_to_df(file_path,1,200))\n",
        "sequences.extend(trace_values.sequence)\n",
        "target_sequence.extend(trace_values.target_seq)\n",
        "waypoint_sequence.extend(trace_values.waypoint_seq)\n",
        "file_path = '/content/drive/MyDrive/building1/data/F2'\n",
        "trace_values=(convert_to_df(file_path,2,200))\n",
        "sequences.extend(trace_values.sequence)\n",
        "target_sequence.extend(trace_values.target_seq)\n",
        "waypoint_sequence.extend(trace_values.waypoint_seq)\n",
        "file_path = '/content/drive/MyDrive/building1/data/F3'\n",
        "trace_values=(convert_to_df(file_path,3,200))\n",
        "sequences.extend(trace_values.sequence)\n",
        "target_sequence.extend(trace_values.target_seq)\n",
        "waypoint_sequence.extend(trace_values.waypoint_seq)\n",
        "file_path = '/content/drive/MyDrive/building1/data/F4'\n",
        "trace_values=(convert_to_df(file_path,4,200))\n",
        "sequences.extend(trace_values.sequence)\n",
        "target_sequence.extend(trace_values.target_seq)\n",
        "waypoint_sequence.extend(trace_values.waypoint_seq)"
      ],
      "execution_count": null,
      "outputs": []
    },
    {
      "cell_type": "code",
      "metadata": {
        "colab": {
          "base_uri": "https://localhost:8080/"
        },
        "id": "vu6GUYhwVNgk",
        "outputId": "90a3177e-c206-4db0-fa42-0f5feb7289c4"
      },
      "source": [
        "print('Number of sequences',len(sequences))\n",
        "print('Number of targets',len(target_sequence))\n",
        "print('Number of timeslots in first sequence',(sequences[0].shape)[0])\n",
        "print('Number of timeslots in tenth sequence',(sequences[9].shape)[0])\n",
        "print('Number of timeslots in hundredth sequence',(sequences[99].shape)[0])"
      ],
      "execution_count": null,
      "outputs": [
        {
          "output_type": "stream",
          "text": [
            "Number of sequences 5412\n",
            "Number of targets 5412\n",
            "Number of timeslots in first sequence 200\n",
            "Number of timeslots in tenth sequence 200\n",
            "Number of timeslots in hundredth sequence 200\n"
          ],
          "name": "stdout"
        }
      ]
    },
    {
      "cell_type": "code",
      "metadata": {
        "colab": {
          "base_uri": "https://localhost:8080/"
        },
        "id": "Esbsaw2NQqT7",
        "outputId": "523d13c0-ffff-49fa-c4bf-c98b69aff0d3"
      },
      "source": [
        "train_flags=np.full((3788), 0)\n",
        "validation_flags=np.full((812), 1)\n",
        "test_flags=np.full((812), 2)\n",
        "flags=[]\n",
        "flags.extend(train_flags)\n",
        "flags.extend(validation_flags)\n",
        "flags.extend(test_flags)\n",
        "np.random.shuffle(flags)\n",
        "len(flags)"
      ],
      "execution_count": null,
      "outputs": [
        {
          "output_type": "execute_result",
          "data": {
            "text/plain": [
              "5412"
            ]
          },
          "metadata": {
            "tags": []
          },
          "execution_count": 13
        }
      ]
    },
    {
      "cell_type": "code",
      "metadata": {
        "id": "BTZdQ7hbnAEx"
      },
      "source": [
        "train = [sequences[i] for i in range(len(flags)) if (flags[i]==0)]\n",
        "validation = [sequences[i] for i in range(len(flags)) if flags[i]==1]\n",
        "test = [sequences[i] for i in range(len(flags)) if flags[i]==2]\n",
        "\n",
        "train_target = [target_sequence[i] for i in range(len(flags)) if (flags[i]==0)]\n",
        "validation_target = [target_sequence[i] for i in range(len(flags)) if flags[i]==1]\n",
        "test_target = [target_sequence[i] for i in range(len(flags)) if flags[i]==2]\n",
        "train = np.array(train)\n",
        "validation = np.array(validation)\n",
        "test = np.array(test)\n",
        "\n",
        "train_target = np.array(train_target)\n",
        "train_target=to_categorical(train_target,num_classes = 5)\n",
        "\n",
        "validation_target = np.array(validation_target)\n",
        "validation_target=to_categorical(validation_target,num_classes = 5)\n",
        "\n",
        "test_target = np.array(test_target)\n",
        "test_target=to_categorical(test_target,num_classes = 5)"
      ],
      "execution_count": null,
      "outputs": []
    },
    {
      "cell_type": "code",
      "metadata": {
        "colab": {
          "base_uri": "https://localhost:8080/"
        },
        "id": "XZyGcTl8wEzp",
        "outputId": "b3dcc994-6561-4d96-b44d-950c5cb934a0"
      },
      "source": [
        "print(sequences[0].shape)\n",
        "train_target.shape"
      ],
      "execution_count": null,
      "outputs": [
        {
          "output_type": "stream",
          "text": [
            "(200, 24)\n"
          ],
          "name": "stdout"
        },
        {
          "output_type": "execute_result",
          "data": {
            "text/plain": [
              "(3788, 5)"
            ]
          },
          "metadata": {
            "tags": []
          },
          "execution_count": 15
        }
      ]
    },
    {
      "cell_type": "code",
      "metadata": {
        "id": "y8WRNbq5qvQF"
      },
      "source": [
        "seq_len = 200\n",
        "seq_bredth=24\n",
        "model = Sequential()\n",
        "model.add(LSTM(256, input_shape=(seq_len, seq_bredth)))\n",
        "model.add(Dense(128, activation='relu'))\n",
        "model.add(Dense(5, activation='softmax'))"
      ],
      "execution_count": null,
      "outputs": []
    },
    {
      "cell_type": "code",
      "metadata": {
        "colab": {
          "base_uri": "https://localhost:8080/"
        },
        "id": "QxyARlhftUFZ",
        "outputId": "d6c97ec0-e128-404d-dce2-ac3db18db430"
      },
      "source": [
        "model.summary()"
      ],
      "execution_count": null,
      "outputs": [
        {
          "output_type": "stream",
          "text": [
            "Model: \"sequential\"\n",
            "_________________________________________________________________\n",
            "Layer (type)                 Output Shape              Param #   \n",
            "=================================================================\n",
            "lstm (LSTM)                  (None, 256)               287744    \n",
            "_________________________________________________________________\n",
            "dense (Dense)                (None, 128)               32896     \n",
            "_________________________________________________________________\n",
            "dense_1 (Dense)              (None, 5)                 645       \n",
            "=================================================================\n",
            "Total params: 321,285\n",
            "Trainable params: 321,285\n",
            "Non-trainable params: 0\n",
            "_________________________________________________________________\n"
          ],
          "name": "stdout"
        }
      ]
    },
    {
      "cell_type": "code",
      "metadata": {
        "id": "XL0kTXHum9CN"
      },
      "source": [
        "train=tf.convert_to_tensor(train, np.float32)\n",
        "train_target=tf.convert_to_tensor(train_target, np.float32)\n",
        "validation=tf.convert_to_tensor(validation, np.float32)\n",
        "validation_target=tf.convert_to_tensor(validation_target, np.float32)\n",
        "test=tf.convert_to_tensor(test, np.float32)\n",
        "test_target=tf.convert_to_tensor(test_target, np.float32)\n"
      ],
      "execution_count": null,
      "outputs": []
    },
    {
      "cell_type": "code",
      "metadata": {
        "colab": {
          "base_uri": "https://localhost:8080/"
        },
        "id": "HxVTmHzvtYmj",
        "outputId": "a2fe1d09-3fd2-4523-d5f1-b5d203c6d5fa"
      },
      "source": [
        "adam = Adam(lr=0.001)\n",
        "checkpoint_filepath = '/content/drive/MyDrive/building1/mod26marchPart1_200slots_lstm/best_model.pkl'\n",
        "chk = ModelCheckpoint(filepath=checkpoint_filepath, monitor='val_accuracy', save_best_only=True, mode='max', verbose=1)\n",
        "model.compile(loss='categorical_crossentropy', optimizer=adam, metrics=['accuracy'])\n",
        "history=model.fit(train, train_target, epochs=200, batch_size=128, callbacks=[chk], validation_data=(validation,validation_target))"
      ],
      "execution_count": null,
      "outputs": [
        {
          "output_type": "stream",
          "text": [
            "Epoch 1/200\n",
            "30/30 [==============================] - 43s 1s/step - loss: 1.2665 - accuracy: 0.4095 - val_loss: 0.8468 - val_accuracy: 0.6293\n",
            "\n",
            "Epoch 00001: val_accuracy improved from -inf to 0.62931, saving model to /content/drive/MyDrive/building1/mod26marchPart1_200slots_lstm/best_model.pkl\n"
          ],
          "name": "stdout"
        },
        {
          "output_type": "stream",
          "text": [
            "WARNING:absl:Found untraced functions such as lstm_cell_1_layer_call_and_return_conditional_losses, lstm_cell_1_layer_call_fn, lstm_cell_1_layer_call_fn, lstm_cell_1_layer_call_and_return_conditional_losses, lstm_cell_1_layer_call_and_return_conditional_losses while saving (showing 5 of 5). These functions will not be directly callable after loading.\n",
            "WARNING:absl:Found untraced functions such as lstm_cell_1_layer_call_and_return_conditional_losses, lstm_cell_1_layer_call_fn, lstm_cell_1_layer_call_fn, lstm_cell_1_layer_call_and_return_conditional_losses, lstm_cell_1_layer_call_and_return_conditional_losses while saving (showing 5 of 5). These functions will not be directly callable after loading.\n"
          ],
          "name": "stderr"
        },
        {
          "output_type": "stream",
          "text": [
            "INFO:tensorflow:Assets written to: /content/drive/MyDrive/building1/mod26marchPart1_200slots_lstm/best_model.pkl/assets\n"
          ],
          "name": "stdout"
        },
        {
          "output_type": "stream",
          "text": [
            "INFO:tensorflow:Assets written to: /content/drive/MyDrive/building1/mod26marchPart1_200slots_lstm/best_model.pkl/assets\n"
          ],
          "name": "stderr"
        },
        {
          "output_type": "stream",
          "text": [
            "Epoch 2/200\n",
            "30/30 [==============================] - 41s 1s/step - loss: 0.8203 - accuracy: 0.6164 - val_loss: 0.7180 - val_accuracy: 0.6367\n",
            "\n",
            "Epoch 00002: val_accuracy improved from 0.62931 to 0.63670, saving model to /content/drive/MyDrive/building1/mod26marchPart1_200slots_lstm/best_model.pkl\n"
          ],
          "name": "stdout"
        },
        {
          "output_type": "stream",
          "text": [
            "WARNING:absl:Found untraced functions such as lstm_cell_1_layer_call_and_return_conditional_losses, lstm_cell_1_layer_call_fn, lstm_cell_1_layer_call_fn, lstm_cell_1_layer_call_and_return_conditional_losses, lstm_cell_1_layer_call_and_return_conditional_losses while saving (showing 5 of 5). These functions will not be directly callable after loading.\n",
            "WARNING:absl:Found untraced functions such as lstm_cell_1_layer_call_and_return_conditional_losses, lstm_cell_1_layer_call_fn, lstm_cell_1_layer_call_fn, lstm_cell_1_layer_call_and_return_conditional_losses, lstm_cell_1_layer_call_and_return_conditional_losses while saving (showing 5 of 5). These functions will not be directly callable after loading.\n"
          ],
          "name": "stderr"
        },
        {
          "output_type": "stream",
          "text": [
            "INFO:tensorflow:Assets written to: /content/drive/MyDrive/building1/mod26marchPart1_200slots_lstm/best_model.pkl/assets\n"
          ],
          "name": "stdout"
        },
        {
          "output_type": "stream",
          "text": [
            "INFO:tensorflow:Assets written to: /content/drive/MyDrive/building1/mod26marchPart1_200slots_lstm/best_model.pkl/assets\n"
          ],
          "name": "stderr"
        },
        {
          "output_type": "stream",
          "text": [
            "Epoch 3/200\n",
            "30/30 [==============================] - 44s 1s/step - loss: 0.6666 - accuracy: 0.6993 - val_loss: 0.5479 - val_accuracy: 0.7599\n",
            "\n",
            "Epoch 00003: val_accuracy improved from 0.63670 to 0.75985, saving model to /content/drive/MyDrive/building1/mod26marchPart1_200slots_lstm/best_model.pkl\n"
          ],
          "name": "stdout"
        },
        {
          "output_type": "stream",
          "text": [
            "WARNING:absl:Found untraced functions such as lstm_cell_1_layer_call_and_return_conditional_losses, lstm_cell_1_layer_call_fn, lstm_cell_1_layer_call_fn, lstm_cell_1_layer_call_and_return_conditional_losses, lstm_cell_1_layer_call_and_return_conditional_losses while saving (showing 5 of 5). These functions will not be directly callable after loading.\n",
            "WARNING:absl:Found untraced functions such as lstm_cell_1_layer_call_and_return_conditional_losses, lstm_cell_1_layer_call_fn, lstm_cell_1_layer_call_fn, lstm_cell_1_layer_call_and_return_conditional_losses, lstm_cell_1_layer_call_and_return_conditional_losses while saving (showing 5 of 5). These functions will not be directly callable after loading.\n"
          ],
          "name": "stderr"
        },
        {
          "output_type": "stream",
          "text": [
            "INFO:tensorflow:Assets written to: /content/drive/MyDrive/building1/mod26marchPart1_200slots_lstm/best_model.pkl/assets\n"
          ],
          "name": "stdout"
        },
        {
          "output_type": "stream",
          "text": [
            "INFO:tensorflow:Assets written to: /content/drive/MyDrive/building1/mod26marchPart1_200slots_lstm/best_model.pkl/assets\n"
          ],
          "name": "stderr"
        },
        {
          "output_type": "stream",
          "text": [
            "Epoch 4/200\n",
            "30/30 [==============================] - 43s 1s/step - loss: 0.5586 - accuracy: 0.7497 - val_loss: 0.5087 - val_accuracy: 0.7648\n",
            "\n",
            "Epoch 00004: val_accuracy improved from 0.75985 to 0.76478, saving model to /content/drive/MyDrive/building1/mod26marchPart1_200slots_lstm/best_model.pkl\n"
          ],
          "name": "stdout"
        },
        {
          "output_type": "stream",
          "text": [
            "WARNING:absl:Found untraced functions such as lstm_cell_1_layer_call_and_return_conditional_losses, lstm_cell_1_layer_call_fn, lstm_cell_1_layer_call_fn, lstm_cell_1_layer_call_and_return_conditional_losses, lstm_cell_1_layer_call_and_return_conditional_losses while saving (showing 5 of 5). These functions will not be directly callable after loading.\n",
            "WARNING:absl:Found untraced functions such as lstm_cell_1_layer_call_and_return_conditional_losses, lstm_cell_1_layer_call_fn, lstm_cell_1_layer_call_fn, lstm_cell_1_layer_call_and_return_conditional_losses, lstm_cell_1_layer_call_and_return_conditional_losses while saving (showing 5 of 5). These functions will not be directly callable after loading.\n"
          ],
          "name": "stderr"
        },
        {
          "output_type": "stream",
          "text": [
            "INFO:tensorflow:Assets written to: /content/drive/MyDrive/building1/mod26marchPart1_200slots_lstm/best_model.pkl/assets\n"
          ],
          "name": "stdout"
        },
        {
          "output_type": "stream",
          "text": [
            "INFO:tensorflow:Assets written to: /content/drive/MyDrive/building1/mod26marchPart1_200slots_lstm/best_model.pkl/assets\n"
          ],
          "name": "stderr"
        },
        {
          "output_type": "stream",
          "text": [
            "Epoch 5/200\n",
            "30/30 [==============================] - 42s 1s/step - loss: 0.4997 - accuracy: 0.7648 - val_loss: 0.4922 - val_accuracy: 0.7722\n",
            "\n",
            "Epoch 00005: val_accuracy improved from 0.76478 to 0.77217, saving model to /content/drive/MyDrive/building1/mod26marchPart1_200slots_lstm/best_model.pkl\n"
          ],
          "name": "stdout"
        },
        {
          "output_type": "stream",
          "text": [
            "WARNING:absl:Found untraced functions such as lstm_cell_1_layer_call_and_return_conditional_losses, lstm_cell_1_layer_call_fn, lstm_cell_1_layer_call_fn, lstm_cell_1_layer_call_and_return_conditional_losses, lstm_cell_1_layer_call_and_return_conditional_losses while saving (showing 5 of 5). These functions will not be directly callable after loading.\n",
            "WARNING:absl:Found untraced functions such as lstm_cell_1_layer_call_and_return_conditional_losses, lstm_cell_1_layer_call_fn, lstm_cell_1_layer_call_fn, lstm_cell_1_layer_call_and_return_conditional_losses, lstm_cell_1_layer_call_and_return_conditional_losses while saving (showing 5 of 5). These functions will not be directly callable after loading.\n"
          ],
          "name": "stderr"
        },
        {
          "output_type": "stream",
          "text": [
            "INFO:tensorflow:Assets written to: /content/drive/MyDrive/building1/mod26marchPart1_200slots_lstm/best_model.pkl/assets\n"
          ],
          "name": "stdout"
        },
        {
          "output_type": "stream",
          "text": [
            "INFO:tensorflow:Assets written to: /content/drive/MyDrive/building1/mod26marchPart1_200slots_lstm/best_model.pkl/assets\n"
          ],
          "name": "stderr"
        },
        {
          "output_type": "stream",
          "text": [
            "Epoch 6/200\n",
            "30/30 [==============================] - 43s 1s/step - loss: 0.4720 - accuracy: 0.7842 - val_loss: 0.4566 - val_accuracy: 0.7833\n",
            "\n",
            "Epoch 00006: val_accuracy improved from 0.77217 to 0.78325, saving model to /content/drive/MyDrive/building1/mod26marchPart1_200slots_lstm/best_model.pkl\n"
          ],
          "name": "stdout"
        },
        {
          "output_type": "stream",
          "text": [
            "WARNING:absl:Found untraced functions such as lstm_cell_1_layer_call_and_return_conditional_losses, lstm_cell_1_layer_call_fn, lstm_cell_1_layer_call_fn, lstm_cell_1_layer_call_and_return_conditional_losses, lstm_cell_1_layer_call_and_return_conditional_losses while saving (showing 5 of 5). These functions will not be directly callable after loading.\n",
            "WARNING:absl:Found untraced functions such as lstm_cell_1_layer_call_and_return_conditional_losses, lstm_cell_1_layer_call_fn, lstm_cell_1_layer_call_fn, lstm_cell_1_layer_call_and_return_conditional_losses, lstm_cell_1_layer_call_and_return_conditional_losses while saving (showing 5 of 5). These functions will not be directly callable after loading.\n"
          ],
          "name": "stderr"
        },
        {
          "output_type": "stream",
          "text": [
            "INFO:tensorflow:Assets written to: /content/drive/MyDrive/building1/mod26marchPart1_200slots_lstm/best_model.pkl/assets\n"
          ],
          "name": "stdout"
        },
        {
          "output_type": "stream",
          "text": [
            "INFO:tensorflow:Assets written to: /content/drive/MyDrive/building1/mod26marchPart1_200slots_lstm/best_model.pkl/assets\n"
          ],
          "name": "stderr"
        },
        {
          "output_type": "stream",
          "text": [
            "Epoch 7/200\n",
            "30/30 [==============================] - 42s 1s/step - loss: 0.4629 - accuracy: 0.7902 - val_loss: 0.4508 - val_accuracy: 0.7943\n",
            "\n",
            "Epoch 00007: val_accuracy improved from 0.78325 to 0.79433, saving model to /content/drive/MyDrive/building1/mod26marchPart1_200slots_lstm/best_model.pkl\n"
          ],
          "name": "stdout"
        },
        {
          "output_type": "stream",
          "text": [
            "WARNING:absl:Found untraced functions such as lstm_cell_1_layer_call_and_return_conditional_losses, lstm_cell_1_layer_call_fn, lstm_cell_1_layer_call_fn, lstm_cell_1_layer_call_and_return_conditional_losses, lstm_cell_1_layer_call_and_return_conditional_losses while saving (showing 5 of 5). These functions will not be directly callable after loading.\n",
            "WARNING:absl:Found untraced functions such as lstm_cell_1_layer_call_and_return_conditional_losses, lstm_cell_1_layer_call_fn, lstm_cell_1_layer_call_fn, lstm_cell_1_layer_call_and_return_conditional_losses, lstm_cell_1_layer_call_and_return_conditional_losses while saving (showing 5 of 5). These functions will not be directly callable after loading.\n"
          ],
          "name": "stderr"
        },
        {
          "output_type": "stream",
          "text": [
            "INFO:tensorflow:Assets written to: /content/drive/MyDrive/building1/mod26marchPart1_200slots_lstm/best_model.pkl/assets\n"
          ],
          "name": "stdout"
        },
        {
          "output_type": "stream",
          "text": [
            "INFO:tensorflow:Assets written to: /content/drive/MyDrive/building1/mod26marchPart1_200slots_lstm/best_model.pkl/assets\n"
          ],
          "name": "stderr"
        },
        {
          "output_type": "stream",
          "text": [
            "Epoch 8/200\n",
            "30/30 [==============================] - 42s 1s/step - loss: 0.4255 - accuracy: 0.8094 - val_loss: 0.4509 - val_accuracy: 0.7808\n",
            "\n",
            "Epoch 00008: val_accuracy did not improve from 0.79433\n",
            "Epoch 9/200\n",
            "30/30 [==============================] - 41s 1s/step - loss: 0.4051 - accuracy: 0.8216 - val_loss: 0.3878 - val_accuracy: 0.8227\n",
            "\n",
            "Epoch 00009: val_accuracy improved from 0.79433 to 0.82266, saving model to /content/drive/MyDrive/building1/mod26marchPart1_200slots_lstm/best_model.pkl\n"
          ],
          "name": "stdout"
        },
        {
          "output_type": "stream",
          "text": [
            "WARNING:absl:Found untraced functions such as lstm_cell_1_layer_call_and_return_conditional_losses, lstm_cell_1_layer_call_fn, lstm_cell_1_layer_call_fn, lstm_cell_1_layer_call_and_return_conditional_losses, lstm_cell_1_layer_call_and_return_conditional_losses while saving (showing 5 of 5). These functions will not be directly callable after loading.\n",
            "WARNING:absl:Found untraced functions such as lstm_cell_1_layer_call_and_return_conditional_losses, lstm_cell_1_layer_call_fn, lstm_cell_1_layer_call_fn, lstm_cell_1_layer_call_and_return_conditional_losses, lstm_cell_1_layer_call_and_return_conditional_losses while saving (showing 5 of 5). These functions will not be directly callable after loading.\n"
          ],
          "name": "stderr"
        },
        {
          "output_type": "stream",
          "text": [
            "INFO:tensorflow:Assets written to: /content/drive/MyDrive/building1/mod26marchPart1_200slots_lstm/best_model.pkl/assets\n"
          ],
          "name": "stdout"
        },
        {
          "output_type": "stream",
          "text": [
            "INFO:tensorflow:Assets written to: /content/drive/MyDrive/building1/mod26marchPart1_200slots_lstm/best_model.pkl/assets\n"
          ],
          "name": "stderr"
        },
        {
          "output_type": "stream",
          "text": [
            "Epoch 10/200\n",
            "30/30 [==============================] - 42s 1s/step - loss: 0.3824 - accuracy: 0.8294 - val_loss: 0.4823 - val_accuracy: 0.7796\n",
            "\n",
            "Epoch 00010: val_accuracy did not improve from 0.82266\n",
            "Epoch 11/200\n",
            "30/30 [==============================] - 42s 1s/step - loss: 0.3968 - accuracy: 0.8152 - val_loss: 0.3738 - val_accuracy: 0.8251\n",
            "\n",
            "Epoch 00011: val_accuracy improved from 0.82266 to 0.82512, saving model to /content/drive/MyDrive/building1/mod26marchPart1_200slots_lstm/best_model.pkl\n"
          ],
          "name": "stdout"
        },
        {
          "output_type": "stream",
          "text": [
            "WARNING:absl:Found untraced functions such as lstm_cell_1_layer_call_and_return_conditional_losses, lstm_cell_1_layer_call_fn, lstm_cell_1_layer_call_fn, lstm_cell_1_layer_call_and_return_conditional_losses, lstm_cell_1_layer_call_and_return_conditional_losses while saving (showing 5 of 5). These functions will not be directly callable after loading.\n",
            "WARNING:absl:Found untraced functions such as lstm_cell_1_layer_call_and_return_conditional_losses, lstm_cell_1_layer_call_fn, lstm_cell_1_layer_call_fn, lstm_cell_1_layer_call_and_return_conditional_losses, lstm_cell_1_layer_call_and_return_conditional_losses while saving (showing 5 of 5). These functions will not be directly callable after loading.\n"
          ],
          "name": "stderr"
        },
        {
          "output_type": "stream",
          "text": [
            "INFO:tensorflow:Assets written to: /content/drive/MyDrive/building1/mod26marchPart1_200slots_lstm/best_model.pkl/assets\n"
          ],
          "name": "stdout"
        },
        {
          "output_type": "stream",
          "text": [
            "INFO:tensorflow:Assets written to: /content/drive/MyDrive/building1/mod26marchPart1_200slots_lstm/best_model.pkl/assets\n"
          ],
          "name": "stderr"
        },
        {
          "output_type": "stream",
          "text": [
            "Epoch 12/200\n",
            "30/30 [==============================] - 41s 1s/step - loss: 0.3667 - accuracy: 0.8347 - val_loss: 0.3869 - val_accuracy: 0.8042\n",
            "\n",
            "Epoch 00012: val_accuracy did not improve from 0.82512\n",
            "Epoch 13/200\n",
            "30/30 [==============================] - 41s 1s/step - loss: 0.3320 - accuracy: 0.8536 - val_loss: 0.4047 - val_accuracy: 0.8030\n",
            "\n",
            "Epoch 00013: val_accuracy did not improve from 0.82512\n",
            "Epoch 14/200\n",
            "30/30 [==============================] - 41s 1s/step - loss: 0.3410 - accuracy: 0.8476 - val_loss: 0.3893 - val_accuracy: 0.8128\n",
            "\n",
            "Epoch 00014: val_accuracy did not improve from 0.82512\n",
            "Epoch 15/200\n",
            "30/30 [==============================] - 44s 1s/step - loss: 0.3261 - accuracy: 0.8612 - val_loss: 0.3673 - val_accuracy: 0.8300\n",
            "\n",
            "Epoch 00015: val_accuracy improved from 0.82512 to 0.83005, saving model to /content/drive/MyDrive/building1/mod26marchPart1_200slots_lstm/best_model.pkl\n"
          ],
          "name": "stdout"
        },
        {
          "output_type": "stream",
          "text": [
            "WARNING:absl:Found untraced functions such as lstm_cell_1_layer_call_and_return_conditional_losses, lstm_cell_1_layer_call_fn, lstm_cell_1_layer_call_fn, lstm_cell_1_layer_call_and_return_conditional_losses, lstm_cell_1_layer_call_and_return_conditional_losses while saving (showing 5 of 5). These functions will not be directly callable after loading.\n",
            "WARNING:absl:Found untraced functions such as lstm_cell_1_layer_call_and_return_conditional_losses, lstm_cell_1_layer_call_fn, lstm_cell_1_layer_call_fn, lstm_cell_1_layer_call_and_return_conditional_losses, lstm_cell_1_layer_call_and_return_conditional_losses while saving (showing 5 of 5). These functions will not be directly callable after loading.\n"
          ],
          "name": "stderr"
        },
        {
          "output_type": "stream",
          "text": [
            "INFO:tensorflow:Assets written to: /content/drive/MyDrive/building1/mod26marchPart1_200slots_lstm/best_model.pkl/assets\n"
          ],
          "name": "stdout"
        },
        {
          "output_type": "stream",
          "text": [
            "INFO:tensorflow:Assets written to: /content/drive/MyDrive/building1/mod26marchPart1_200slots_lstm/best_model.pkl/assets\n"
          ],
          "name": "stderr"
        },
        {
          "output_type": "stream",
          "text": [
            "Epoch 16/200\n",
            "30/30 [==============================] - 43s 1s/step - loss: 0.3033 - accuracy: 0.8652 - val_loss: 0.3705 - val_accuracy: 0.8337\n",
            "\n",
            "Epoch 00016: val_accuracy improved from 0.83005 to 0.83374, saving model to /content/drive/MyDrive/building1/mod26marchPart1_200slots_lstm/best_model.pkl\n"
          ],
          "name": "stdout"
        },
        {
          "output_type": "stream",
          "text": [
            "WARNING:absl:Found untraced functions such as lstm_cell_1_layer_call_and_return_conditional_losses, lstm_cell_1_layer_call_fn, lstm_cell_1_layer_call_fn, lstm_cell_1_layer_call_and_return_conditional_losses, lstm_cell_1_layer_call_and_return_conditional_losses while saving (showing 5 of 5). These functions will not be directly callable after loading.\n",
            "WARNING:absl:Found untraced functions such as lstm_cell_1_layer_call_and_return_conditional_losses, lstm_cell_1_layer_call_fn, lstm_cell_1_layer_call_fn, lstm_cell_1_layer_call_and_return_conditional_losses, lstm_cell_1_layer_call_and_return_conditional_losses while saving (showing 5 of 5). These functions will not be directly callable after loading.\n"
          ],
          "name": "stderr"
        },
        {
          "output_type": "stream",
          "text": [
            "INFO:tensorflow:Assets written to: /content/drive/MyDrive/building1/mod26marchPart1_200slots_lstm/best_model.pkl/assets\n"
          ],
          "name": "stdout"
        },
        {
          "output_type": "stream",
          "text": [
            "INFO:tensorflow:Assets written to: /content/drive/MyDrive/building1/mod26marchPart1_200slots_lstm/best_model.pkl/assets\n"
          ],
          "name": "stderr"
        },
        {
          "output_type": "stream",
          "text": [
            "Epoch 17/200\n",
            "30/30 [==============================] - 42s 1s/step - loss: 0.3124 - accuracy: 0.8614 - val_loss: 0.3949 - val_accuracy: 0.8177\n",
            "\n",
            "Epoch 00017: val_accuracy did not improve from 0.83374\n",
            "Epoch 18/200\n",
            "30/30 [==============================] - 44s 1s/step - loss: 0.3304 - accuracy: 0.8541 - val_loss: 0.4068 - val_accuracy: 0.8264\n",
            "\n",
            "Epoch 00018: val_accuracy did not improve from 0.83374\n",
            "Epoch 19/200\n",
            "30/30 [==============================] - 42s 1s/step - loss: 0.3125 - accuracy: 0.8608 - val_loss: 0.3477 - val_accuracy: 0.8387\n",
            "\n",
            "Epoch 00019: val_accuracy improved from 0.83374 to 0.83867, saving model to /content/drive/MyDrive/building1/mod26marchPart1_200slots_lstm/best_model.pkl\n"
          ],
          "name": "stdout"
        },
        {
          "output_type": "stream",
          "text": [
            "WARNING:absl:Found untraced functions such as lstm_cell_1_layer_call_and_return_conditional_losses, lstm_cell_1_layer_call_fn, lstm_cell_1_layer_call_fn, lstm_cell_1_layer_call_and_return_conditional_losses, lstm_cell_1_layer_call_and_return_conditional_losses while saving (showing 5 of 5). These functions will not be directly callable after loading.\n",
            "WARNING:absl:Found untraced functions such as lstm_cell_1_layer_call_and_return_conditional_losses, lstm_cell_1_layer_call_fn, lstm_cell_1_layer_call_fn, lstm_cell_1_layer_call_and_return_conditional_losses, lstm_cell_1_layer_call_and_return_conditional_losses while saving (showing 5 of 5). These functions will not be directly callable after loading.\n"
          ],
          "name": "stderr"
        },
        {
          "output_type": "stream",
          "text": [
            "INFO:tensorflow:Assets written to: /content/drive/MyDrive/building1/mod26marchPart1_200slots_lstm/best_model.pkl/assets\n"
          ],
          "name": "stdout"
        },
        {
          "output_type": "stream",
          "text": [
            "INFO:tensorflow:Assets written to: /content/drive/MyDrive/building1/mod26marchPart1_200slots_lstm/best_model.pkl/assets\n"
          ],
          "name": "stderr"
        },
        {
          "output_type": "stream",
          "text": [
            "Epoch 20/200\n",
            "30/30 [==============================] - 43s 1s/step - loss: 0.2811 - accuracy: 0.8758 - val_loss: 0.3277 - val_accuracy: 0.8424\n",
            "\n",
            "Epoch 00020: val_accuracy improved from 0.83867 to 0.84236, saving model to /content/drive/MyDrive/building1/mod26marchPart1_200slots_lstm/best_model.pkl\n"
          ],
          "name": "stdout"
        },
        {
          "output_type": "stream",
          "text": [
            "WARNING:absl:Found untraced functions such as lstm_cell_1_layer_call_and_return_conditional_losses, lstm_cell_1_layer_call_fn, lstm_cell_1_layer_call_fn, lstm_cell_1_layer_call_and_return_conditional_losses, lstm_cell_1_layer_call_and_return_conditional_losses while saving (showing 5 of 5). These functions will not be directly callable after loading.\n",
            "WARNING:absl:Found untraced functions such as lstm_cell_1_layer_call_and_return_conditional_losses, lstm_cell_1_layer_call_fn, lstm_cell_1_layer_call_fn, lstm_cell_1_layer_call_and_return_conditional_losses, lstm_cell_1_layer_call_and_return_conditional_losses while saving (showing 5 of 5). These functions will not be directly callable after loading.\n"
          ],
          "name": "stderr"
        },
        {
          "output_type": "stream",
          "text": [
            "INFO:tensorflow:Assets written to: /content/drive/MyDrive/building1/mod26marchPart1_200slots_lstm/best_model.pkl/assets\n"
          ],
          "name": "stdout"
        },
        {
          "output_type": "stream",
          "text": [
            "INFO:tensorflow:Assets written to: /content/drive/MyDrive/building1/mod26marchPart1_200slots_lstm/best_model.pkl/assets\n"
          ],
          "name": "stderr"
        },
        {
          "output_type": "stream",
          "text": [
            "Epoch 21/200\n",
            "30/30 [==============================] - 44s 1s/step - loss: 0.2961 - accuracy: 0.8747 - val_loss: 0.3669 - val_accuracy: 0.8325\n",
            "\n",
            "Epoch 00021: val_accuracy did not improve from 0.84236\n",
            "Epoch 22/200\n",
            "30/30 [==============================] - 44s 1s/step - loss: 0.3089 - accuracy: 0.8673 - val_loss: 0.3558 - val_accuracy: 0.8411\n",
            "\n",
            "Epoch 00022: val_accuracy did not improve from 0.84236\n",
            "Epoch 23/200\n",
            "30/30 [==============================] - 43s 1s/step - loss: 0.2940 - accuracy: 0.8660 - val_loss: 0.3295 - val_accuracy: 0.8436\n",
            "\n",
            "Epoch 00023: val_accuracy improved from 0.84236 to 0.84360, saving model to /content/drive/MyDrive/building1/mod26marchPart1_200slots_lstm/best_model.pkl\n"
          ],
          "name": "stdout"
        },
        {
          "output_type": "stream",
          "text": [
            "WARNING:absl:Found untraced functions such as lstm_cell_1_layer_call_and_return_conditional_losses, lstm_cell_1_layer_call_fn, lstm_cell_1_layer_call_fn, lstm_cell_1_layer_call_and_return_conditional_losses, lstm_cell_1_layer_call_and_return_conditional_losses while saving (showing 5 of 5). These functions will not be directly callable after loading.\n",
            "WARNING:absl:Found untraced functions such as lstm_cell_1_layer_call_and_return_conditional_losses, lstm_cell_1_layer_call_fn, lstm_cell_1_layer_call_fn, lstm_cell_1_layer_call_and_return_conditional_losses, lstm_cell_1_layer_call_and_return_conditional_losses while saving (showing 5 of 5). These functions will not be directly callable after loading.\n"
          ],
          "name": "stderr"
        },
        {
          "output_type": "stream",
          "text": [
            "INFO:tensorflow:Assets written to: /content/drive/MyDrive/building1/mod26marchPart1_200slots_lstm/best_model.pkl/assets\n"
          ],
          "name": "stdout"
        },
        {
          "output_type": "stream",
          "text": [
            "INFO:tensorflow:Assets written to: /content/drive/MyDrive/building1/mod26marchPart1_200slots_lstm/best_model.pkl/assets\n"
          ],
          "name": "stderr"
        },
        {
          "output_type": "stream",
          "text": [
            "Epoch 24/200\n",
            "30/30 [==============================] - 44s 1s/step - loss: 0.2893 - accuracy: 0.8769 - val_loss: 0.3822 - val_accuracy: 0.8177\n",
            "\n",
            "Epoch 00024: val_accuracy did not improve from 0.84360\n",
            "Epoch 25/200\n",
            "30/30 [==============================] - 44s 1s/step - loss: 0.2724 - accuracy: 0.8788 - val_loss: 0.3573 - val_accuracy: 0.8424\n",
            "\n",
            "Epoch 00025: val_accuracy did not improve from 0.84360\n",
            "Epoch 26/200\n",
            "30/30 [==============================] - 42s 1s/step - loss: 0.2660 - accuracy: 0.8797 - val_loss: 0.2997 - val_accuracy: 0.8682\n",
            "\n",
            "Epoch 00026: val_accuracy improved from 0.84360 to 0.86823, saving model to /content/drive/MyDrive/building1/mod26marchPart1_200slots_lstm/best_model.pkl\n"
          ],
          "name": "stdout"
        },
        {
          "output_type": "stream",
          "text": [
            "WARNING:absl:Found untraced functions such as lstm_cell_1_layer_call_and_return_conditional_losses, lstm_cell_1_layer_call_fn, lstm_cell_1_layer_call_fn, lstm_cell_1_layer_call_and_return_conditional_losses, lstm_cell_1_layer_call_and_return_conditional_losses while saving (showing 5 of 5). These functions will not be directly callable after loading.\n",
            "WARNING:absl:Found untraced functions such as lstm_cell_1_layer_call_and_return_conditional_losses, lstm_cell_1_layer_call_fn, lstm_cell_1_layer_call_fn, lstm_cell_1_layer_call_and_return_conditional_losses, lstm_cell_1_layer_call_and_return_conditional_losses while saving (showing 5 of 5). These functions will not be directly callable after loading.\n"
          ],
          "name": "stderr"
        },
        {
          "output_type": "stream",
          "text": [
            "INFO:tensorflow:Assets written to: /content/drive/MyDrive/building1/mod26marchPart1_200slots_lstm/best_model.pkl/assets\n"
          ],
          "name": "stdout"
        },
        {
          "output_type": "stream",
          "text": [
            "INFO:tensorflow:Assets written to: /content/drive/MyDrive/building1/mod26marchPart1_200slots_lstm/best_model.pkl/assets\n"
          ],
          "name": "stderr"
        },
        {
          "output_type": "stream",
          "text": [
            "Epoch 27/200\n",
            "30/30 [==============================] - 45s 1s/step - loss: 0.2584 - accuracy: 0.8845 - val_loss: 0.3001 - val_accuracy: 0.8645\n",
            "\n",
            "Epoch 00027: val_accuracy did not improve from 0.86823\n",
            "Epoch 28/200\n",
            "30/30 [==============================] - 42s 1s/step - loss: 0.2408 - accuracy: 0.8942 - val_loss: 0.3308 - val_accuracy: 0.8534\n",
            "\n",
            "Epoch 00028: val_accuracy did not improve from 0.86823\n",
            "Epoch 29/200\n",
            "30/30 [==============================] - 44s 1s/step - loss: 0.2324 - accuracy: 0.8961 - val_loss: 0.3133 - val_accuracy: 0.8498\n",
            "\n",
            "Epoch 00029: val_accuracy did not improve from 0.86823\n",
            "Epoch 30/200\n",
            "30/30 [==============================] - 44s 1s/step - loss: 0.2256 - accuracy: 0.9032 - val_loss: 0.4186 - val_accuracy: 0.8227\n",
            "\n",
            "Epoch 00030: val_accuracy did not improve from 0.86823\n",
            "Epoch 31/200\n",
            "30/30 [==============================] - 43s 1s/step - loss: 0.2784 - accuracy: 0.8807 - val_loss: 0.2774 - val_accuracy: 0.8719\n",
            "\n",
            "Epoch 00031: val_accuracy improved from 0.86823 to 0.87192, saving model to /content/drive/MyDrive/building1/mod26marchPart1_200slots_lstm/best_model.pkl\n"
          ],
          "name": "stdout"
        },
        {
          "output_type": "stream",
          "text": [
            "WARNING:absl:Found untraced functions such as lstm_cell_1_layer_call_and_return_conditional_losses, lstm_cell_1_layer_call_fn, lstm_cell_1_layer_call_fn, lstm_cell_1_layer_call_and_return_conditional_losses, lstm_cell_1_layer_call_and_return_conditional_losses while saving (showing 5 of 5). These functions will not be directly callable after loading.\n",
            "WARNING:absl:Found untraced functions such as lstm_cell_1_layer_call_and_return_conditional_losses, lstm_cell_1_layer_call_fn, lstm_cell_1_layer_call_fn, lstm_cell_1_layer_call_and_return_conditional_losses, lstm_cell_1_layer_call_and_return_conditional_losses while saving (showing 5 of 5). These functions will not be directly callable after loading.\n"
          ],
          "name": "stderr"
        },
        {
          "output_type": "stream",
          "text": [
            "INFO:tensorflow:Assets written to: /content/drive/MyDrive/building1/mod26marchPart1_200slots_lstm/best_model.pkl/assets\n"
          ],
          "name": "stdout"
        },
        {
          "output_type": "stream",
          "text": [
            "INFO:tensorflow:Assets written to: /content/drive/MyDrive/building1/mod26marchPart1_200slots_lstm/best_model.pkl/assets\n"
          ],
          "name": "stderr"
        },
        {
          "output_type": "stream",
          "text": [
            "Epoch 32/200\n",
            "30/30 [==============================] - 44s 1s/step - loss: 0.2239 - accuracy: 0.9051 - val_loss: 0.3051 - val_accuracy: 0.8473\n",
            "\n",
            "Epoch 00032: val_accuracy did not improve from 0.87192\n",
            "Epoch 33/200\n",
            "30/30 [==============================] - 43s 1s/step - loss: 0.2050 - accuracy: 0.9140 - val_loss: 0.3003 - val_accuracy: 0.8596\n",
            "\n",
            "Epoch 00033: val_accuracy did not improve from 0.87192\n",
            "Epoch 34/200\n",
            "30/30 [==============================] - 44s 1s/step - loss: 0.2046 - accuracy: 0.9114 - val_loss: 0.2809 - val_accuracy: 0.8682\n",
            "\n",
            "Epoch 00034: val_accuracy did not improve from 0.87192\n",
            "Epoch 35/200\n",
            "30/30 [==============================] - 45s 1s/step - loss: 0.2081 - accuracy: 0.9099 - val_loss: 0.3509 - val_accuracy: 0.8534\n",
            "\n",
            "Epoch 00035: val_accuracy did not improve from 0.87192\n",
            "Epoch 36/200\n",
            "30/30 [==============================] - 45s 1s/step - loss: 0.2237 - accuracy: 0.8990 - val_loss: 0.2987 - val_accuracy: 0.8682\n",
            "\n",
            "Epoch 00036: val_accuracy did not improve from 0.87192\n",
            "Epoch 37/200\n",
            "30/30 [==============================] - 44s 1s/step - loss: 0.2110 - accuracy: 0.9115 - val_loss: 0.3046 - val_accuracy: 0.8744\n",
            "\n",
            "Epoch 00037: val_accuracy improved from 0.87192 to 0.87438, saving model to /content/drive/MyDrive/building1/mod26marchPart1_200slots_lstm/best_model.pkl\n"
          ],
          "name": "stdout"
        },
        {
          "output_type": "stream",
          "text": [
            "WARNING:absl:Found untraced functions such as lstm_cell_1_layer_call_and_return_conditional_losses, lstm_cell_1_layer_call_fn, lstm_cell_1_layer_call_fn, lstm_cell_1_layer_call_and_return_conditional_losses, lstm_cell_1_layer_call_and_return_conditional_losses while saving (showing 5 of 5). These functions will not be directly callable after loading.\n",
            "WARNING:absl:Found untraced functions such as lstm_cell_1_layer_call_and_return_conditional_losses, lstm_cell_1_layer_call_fn, lstm_cell_1_layer_call_fn, lstm_cell_1_layer_call_and_return_conditional_losses, lstm_cell_1_layer_call_and_return_conditional_losses while saving (showing 5 of 5). These functions will not be directly callable after loading.\n"
          ],
          "name": "stderr"
        },
        {
          "output_type": "stream",
          "text": [
            "INFO:tensorflow:Assets written to: /content/drive/MyDrive/building1/mod26marchPart1_200slots_lstm/best_model.pkl/assets\n"
          ],
          "name": "stdout"
        },
        {
          "output_type": "stream",
          "text": [
            "INFO:tensorflow:Assets written to: /content/drive/MyDrive/building1/mod26marchPart1_200slots_lstm/best_model.pkl/assets\n"
          ],
          "name": "stderr"
        },
        {
          "output_type": "stream",
          "text": [
            "Epoch 38/200\n",
            "30/30 [==============================] - 44s 1s/step - loss: 0.2292 - accuracy: 0.8970 - val_loss: 0.3068 - val_accuracy: 0.8695\n",
            "\n",
            "Epoch 00038: val_accuracy did not improve from 0.87438\n",
            "Epoch 39/200\n",
            "30/30 [==============================] - 42s 1s/step - loss: 0.1964 - accuracy: 0.9150 - val_loss: 0.2904 - val_accuracy: 0.8768\n",
            "\n",
            "Epoch 00039: val_accuracy improved from 0.87438 to 0.87685, saving model to /content/drive/MyDrive/building1/mod26marchPart1_200slots_lstm/best_model.pkl\n"
          ],
          "name": "stdout"
        },
        {
          "output_type": "stream",
          "text": [
            "WARNING:absl:Found untraced functions such as lstm_cell_1_layer_call_and_return_conditional_losses, lstm_cell_1_layer_call_fn, lstm_cell_1_layer_call_fn, lstm_cell_1_layer_call_and_return_conditional_losses, lstm_cell_1_layer_call_and_return_conditional_losses while saving (showing 5 of 5). These functions will not be directly callable after loading.\n",
            "WARNING:absl:Found untraced functions such as lstm_cell_1_layer_call_and_return_conditional_losses, lstm_cell_1_layer_call_fn, lstm_cell_1_layer_call_fn, lstm_cell_1_layer_call_and_return_conditional_losses, lstm_cell_1_layer_call_and_return_conditional_losses while saving (showing 5 of 5). These functions will not be directly callable after loading.\n"
          ],
          "name": "stderr"
        },
        {
          "output_type": "stream",
          "text": [
            "INFO:tensorflow:Assets written to: /content/drive/MyDrive/building1/mod26marchPart1_200slots_lstm/best_model.pkl/assets\n"
          ],
          "name": "stdout"
        },
        {
          "output_type": "stream",
          "text": [
            "INFO:tensorflow:Assets written to: /content/drive/MyDrive/building1/mod26marchPart1_200slots_lstm/best_model.pkl/assets\n"
          ],
          "name": "stderr"
        },
        {
          "output_type": "stream",
          "text": [
            "Epoch 40/200\n",
            "30/30 [==============================] - 43s 1s/step - loss: 0.1968 - accuracy: 0.9115 - val_loss: 0.3252 - val_accuracy: 0.8571\n",
            "\n",
            "Epoch 00040: val_accuracy did not improve from 0.87685\n",
            "Epoch 41/200\n",
            "30/30 [==============================] - 43s 1s/step - loss: 0.1794 - accuracy: 0.9229 - val_loss: 0.3367 - val_accuracy: 0.8571\n",
            "\n",
            "Epoch 00041: val_accuracy did not improve from 0.87685\n",
            "Epoch 42/200\n",
            "30/30 [==============================] - 43s 1s/step - loss: 0.1917 - accuracy: 0.9207 - val_loss: 0.3534 - val_accuracy: 0.8485\n",
            "\n",
            "Epoch 00042: val_accuracy did not improve from 0.87685\n",
            "Epoch 43/200\n",
            "30/30 [==============================] - 44s 1s/step - loss: 0.2273 - accuracy: 0.9050 - val_loss: 0.3446 - val_accuracy: 0.8473\n",
            "\n",
            "Epoch 00043: val_accuracy did not improve from 0.87685\n",
            "Epoch 44/200\n",
            "30/30 [==============================] - 43s 1s/step - loss: 0.1989 - accuracy: 0.9121 - val_loss: 0.3590 - val_accuracy: 0.8522\n",
            "\n",
            "Epoch 00044: val_accuracy did not improve from 0.87685\n",
            "Epoch 45/200\n",
            "30/30 [==============================] - 44s 1s/step - loss: 0.2127 - accuracy: 0.9060 - val_loss: 0.2931 - val_accuracy: 0.8904\n",
            "\n",
            "Epoch 00045: val_accuracy improved from 0.87685 to 0.89039, saving model to /content/drive/MyDrive/building1/mod26marchPart1_200slots_lstm/best_model.pkl\n"
          ],
          "name": "stdout"
        },
        {
          "output_type": "stream",
          "text": [
            "WARNING:absl:Found untraced functions such as lstm_cell_1_layer_call_and_return_conditional_losses, lstm_cell_1_layer_call_fn, lstm_cell_1_layer_call_fn, lstm_cell_1_layer_call_and_return_conditional_losses, lstm_cell_1_layer_call_and_return_conditional_losses while saving (showing 5 of 5). These functions will not be directly callable after loading.\n",
            "WARNING:absl:Found untraced functions such as lstm_cell_1_layer_call_and_return_conditional_losses, lstm_cell_1_layer_call_fn, lstm_cell_1_layer_call_fn, lstm_cell_1_layer_call_and_return_conditional_losses, lstm_cell_1_layer_call_and_return_conditional_losses while saving (showing 5 of 5). These functions will not be directly callable after loading.\n"
          ],
          "name": "stderr"
        },
        {
          "output_type": "stream",
          "text": [
            "INFO:tensorflow:Assets written to: /content/drive/MyDrive/building1/mod26marchPart1_200slots_lstm/best_model.pkl/assets\n"
          ],
          "name": "stdout"
        },
        {
          "output_type": "stream",
          "text": [
            "INFO:tensorflow:Assets written to: /content/drive/MyDrive/building1/mod26marchPart1_200slots_lstm/best_model.pkl/assets\n"
          ],
          "name": "stderr"
        },
        {
          "output_type": "stream",
          "text": [
            "Epoch 46/200\n",
            "30/30 [==============================] - 43s 1s/step - loss: 0.1820 - accuracy: 0.9209 - val_loss: 0.2761 - val_accuracy: 0.8781\n",
            "\n",
            "Epoch 00046: val_accuracy did not improve from 0.89039\n",
            "Epoch 47/200\n",
            "30/30 [==============================] - 43s 1s/step - loss: 0.1698 - accuracy: 0.9289 - val_loss: 0.2939 - val_accuracy: 0.8695\n",
            "\n",
            "Epoch 00047: val_accuracy did not improve from 0.89039\n",
            "Epoch 48/200\n",
            "30/30 [==============================] - 44s 1s/step - loss: 0.1575 - accuracy: 0.9293 - val_loss: 0.3602 - val_accuracy: 0.8534\n",
            "\n",
            "Epoch 00048: val_accuracy did not improve from 0.89039\n",
            "Epoch 49/200\n",
            "30/30 [==============================] - 46s 2s/step - loss: 0.1656 - accuracy: 0.9267 - val_loss: 0.3074 - val_accuracy: 0.8744\n",
            "\n",
            "Epoch 00049: val_accuracy did not improve from 0.89039\n",
            "Epoch 50/200\n",
            "30/30 [==============================] - 44s 1s/step - loss: 0.1661 - accuracy: 0.9264 - val_loss: 0.2947 - val_accuracy: 0.8842\n",
            "\n",
            "Epoch 00050: val_accuracy did not improve from 0.89039\n",
            "Epoch 51/200\n",
            "30/30 [==============================] - 43s 1s/step - loss: 0.1685 - accuracy: 0.9263 - val_loss: 0.3787 - val_accuracy: 0.8559\n",
            "\n",
            "Epoch 00051: val_accuracy did not improve from 0.89039\n",
            "Epoch 52/200\n",
            "30/30 [==============================] - 43s 1s/step - loss: 0.1716 - accuracy: 0.9164 - val_loss: 0.3317 - val_accuracy: 0.8682\n",
            "\n",
            "Epoch 00052: val_accuracy did not improve from 0.89039\n",
            "Epoch 53/200\n",
            "30/30 [==============================] - 43s 1s/step - loss: 0.2051 - accuracy: 0.9152 - val_loss: 0.3111 - val_accuracy: 0.8695\n",
            "\n",
            "Epoch 00053: val_accuracy did not improve from 0.89039\n",
            "Epoch 54/200\n",
            "30/30 [==============================] - 42s 1s/step - loss: 0.1960 - accuracy: 0.9167 - val_loss: 0.3802 - val_accuracy: 0.8461\n",
            "\n",
            "Epoch 00054: val_accuracy did not improve from 0.89039\n",
            "Epoch 55/200\n",
            "30/30 [==============================] - 42s 1s/step - loss: 0.1826 - accuracy: 0.9249 - val_loss: 0.3263 - val_accuracy: 0.8682\n",
            "\n",
            "Epoch 00055: val_accuracy did not improve from 0.89039\n",
            "Epoch 56/200\n",
            "30/30 [==============================] - 43s 1s/step - loss: 0.1517 - accuracy: 0.9361 - val_loss: 0.3655 - val_accuracy: 0.8485\n",
            "\n",
            "Epoch 00056: val_accuracy did not improve from 0.89039\n",
            "Epoch 57/200\n",
            "30/30 [==============================] - 42s 1s/step - loss: 0.1839 - accuracy: 0.9208 - val_loss: 0.3276 - val_accuracy: 0.8707\n",
            "\n",
            "Epoch 00057: val_accuracy did not improve from 0.89039\n",
            "Epoch 58/200\n",
            "30/30 [==============================] - 42s 1s/step - loss: 0.1550 - accuracy: 0.9295 - val_loss: 0.2909 - val_accuracy: 0.8658\n",
            "\n",
            "Epoch 00058: val_accuracy did not improve from 0.89039\n",
            "Epoch 59/200\n",
            "30/30 [==============================] - 42s 1s/step - loss: 0.1607 - accuracy: 0.9314 - val_loss: 0.2823 - val_accuracy: 0.8842\n",
            "\n",
            "Epoch 00059: val_accuracy did not improve from 0.89039\n",
            "Epoch 60/200\n",
            "30/30 [==============================] - 42s 1s/step - loss: 0.1377 - accuracy: 0.9411 - val_loss: 0.2967 - val_accuracy: 0.8781\n",
            "\n",
            "Epoch 00060: val_accuracy did not improve from 0.89039\n",
            "Epoch 61/200\n",
            "30/30 [==============================] - 41s 1s/step - loss: 0.1289 - accuracy: 0.9430 - val_loss: 0.3108 - val_accuracy: 0.8621\n",
            "\n",
            "Epoch 00061: val_accuracy did not improve from 0.89039\n",
            "Epoch 62/200\n",
            "30/30 [==============================] - 41s 1s/step - loss: 0.1320 - accuracy: 0.9442 - val_loss: 0.2794 - val_accuracy: 0.8793\n",
            "\n",
            "Epoch 00062: val_accuracy did not improve from 0.89039\n",
            "Epoch 63/200\n",
            "30/30 [==============================] - 41s 1s/step - loss: 0.1169 - accuracy: 0.9503 - val_loss: 0.3158 - val_accuracy: 0.8793\n",
            "\n",
            "Epoch 00063: val_accuracy did not improve from 0.89039\n",
            "Epoch 64/200\n",
            "30/30 [==============================] - 42s 1s/step - loss: 0.1247 - accuracy: 0.9500 - val_loss: 0.3606 - val_accuracy: 0.8658\n",
            "\n",
            "Epoch 00064: val_accuracy did not improve from 0.89039\n",
            "Epoch 65/200\n",
            "30/30 [==============================] - 41s 1s/step - loss: 0.1545 - accuracy: 0.9284 - val_loss: 0.3922 - val_accuracy: 0.8571\n",
            "\n",
            "Epoch 00065: val_accuracy did not improve from 0.89039\n",
            "Epoch 66/200\n",
            "30/30 [==============================] - 42s 1s/step - loss: 0.1587 - accuracy: 0.9346 - val_loss: 0.2977 - val_accuracy: 0.8818\n",
            "\n",
            "Epoch 00066: val_accuracy did not improve from 0.89039\n",
            "Epoch 67/200\n",
            "30/30 [==============================] - 41s 1s/step - loss: 0.1075 - accuracy: 0.9604 - val_loss: 0.4711 - val_accuracy: 0.8559\n",
            "\n",
            "Epoch 00067: val_accuracy did not improve from 0.89039\n",
            "Epoch 68/200\n",
            "30/30 [==============================] - 41s 1s/step - loss: 0.2065 - accuracy: 0.9107 - val_loss: 0.3199 - val_accuracy: 0.8793\n",
            "\n",
            "Epoch 00068: val_accuracy did not improve from 0.89039\n",
            "Epoch 69/200\n",
            "30/30 [==============================] - 40s 1s/step - loss: 0.1640 - accuracy: 0.9268 - val_loss: 0.3277 - val_accuracy: 0.8695\n",
            "\n",
            "Epoch 00069: val_accuracy did not improve from 0.89039\n",
            "Epoch 70/200\n",
            "30/30 [==============================] - 40s 1s/step - loss: 0.1131 - accuracy: 0.9557 - val_loss: 0.3343 - val_accuracy: 0.8485\n",
            "\n",
            "Epoch 00070: val_accuracy did not improve from 0.89039\n",
            "Epoch 71/200\n",
            "30/30 [==============================] - 40s 1s/step - loss: 0.1086 - accuracy: 0.9553 - val_loss: 0.3168 - val_accuracy: 0.8855\n",
            "\n",
            "Epoch 00071: val_accuracy did not improve from 0.89039\n",
            "Epoch 72/200\n",
            "30/30 [==============================] - 40s 1s/step - loss: 0.1024 - accuracy: 0.9565 - val_loss: 0.3471 - val_accuracy: 0.8670\n",
            "\n",
            "Epoch 00072: val_accuracy did not improve from 0.89039\n",
            "Epoch 73/200\n",
            "30/30 [==============================] - 40s 1s/step - loss: 0.1165 - accuracy: 0.9531 - val_loss: 0.3271 - val_accuracy: 0.8707\n",
            "\n",
            "Epoch 00073: val_accuracy did not improve from 0.89039\n",
            "Epoch 74/200\n",
            "30/30 [==============================] - 40s 1s/step - loss: 0.1080 - accuracy: 0.9521 - val_loss: 0.3116 - val_accuracy: 0.8818\n",
            "\n",
            "Epoch 00074: val_accuracy did not improve from 0.89039\n",
            "Epoch 75/200\n",
            "30/30 [==============================] - 40s 1s/step - loss: 0.1421 - accuracy: 0.9418 - val_loss: 0.3092 - val_accuracy: 0.8768\n",
            "\n",
            "Epoch 00075: val_accuracy did not improve from 0.89039\n",
            "Epoch 76/200\n",
            "30/30 [==============================] - 40s 1s/step - loss: 0.1871 - accuracy: 0.9186 - val_loss: 0.3269 - val_accuracy: 0.8658\n",
            "\n",
            "Epoch 00076: val_accuracy did not improve from 0.89039\n",
            "Epoch 77/200\n",
            "30/30 [==============================] - 40s 1s/step - loss: 0.1127 - accuracy: 0.9579 - val_loss: 0.2636 - val_accuracy: 0.8966\n",
            "\n",
            "Epoch 00077: val_accuracy improved from 0.89039 to 0.89655, saving model to /content/drive/MyDrive/building1/mod26marchPart1_200slots_lstm/best_model.pkl\n"
          ],
          "name": "stdout"
        },
        {
          "output_type": "stream",
          "text": [
            "WARNING:absl:Found untraced functions such as lstm_cell_1_layer_call_and_return_conditional_losses, lstm_cell_1_layer_call_fn, lstm_cell_1_layer_call_fn, lstm_cell_1_layer_call_and_return_conditional_losses, lstm_cell_1_layer_call_and_return_conditional_losses while saving (showing 5 of 5). These functions will not be directly callable after loading.\n",
            "WARNING:absl:Found untraced functions such as lstm_cell_1_layer_call_and_return_conditional_losses, lstm_cell_1_layer_call_fn, lstm_cell_1_layer_call_fn, lstm_cell_1_layer_call_and_return_conditional_losses, lstm_cell_1_layer_call_and_return_conditional_losses while saving (showing 5 of 5). These functions will not be directly callable after loading.\n"
          ],
          "name": "stderr"
        },
        {
          "output_type": "stream",
          "text": [
            "INFO:tensorflow:Assets written to: /content/drive/MyDrive/building1/mod26marchPart1_200slots_lstm/best_model.pkl/assets\n"
          ],
          "name": "stdout"
        },
        {
          "output_type": "stream",
          "text": [
            "INFO:tensorflow:Assets written to: /content/drive/MyDrive/building1/mod26marchPart1_200slots_lstm/best_model.pkl/assets\n"
          ],
          "name": "stderr"
        },
        {
          "output_type": "stream",
          "text": [
            "Epoch 78/200\n",
            "30/30 [==============================] - 40s 1s/step - loss: 0.0901 - accuracy: 0.9664 - val_loss: 0.2846 - val_accuracy: 0.8855\n",
            "\n",
            "Epoch 00078: val_accuracy did not improve from 0.89655\n",
            "Epoch 79/200\n",
            "30/30 [==============================] - 41s 1s/step - loss: 0.1022 - accuracy: 0.9580 - val_loss: 0.3074 - val_accuracy: 0.8756\n",
            "\n",
            "Epoch 00079: val_accuracy did not improve from 0.89655\n",
            "Epoch 80/200\n",
            "30/30 [==============================] - 40s 1s/step - loss: 0.1348 - accuracy: 0.9464 - val_loss: 0.3556 - val_accuracy: 0.8732\n",
            "\n",
            "Epoch 00080: val_accuracy did not improve from 0.89655\n",
            "Epoch 81/200\n",
            "30/30 [==============================] - 39s 1s/step - loss: 0.0978 - accuracy: 0.9588 - val_loss: 0.3432 - val_accuracy: 0.8658\n",
            "\n",
            "Epoch 00081: val_accuracy did not improve from 0.89655\n",
            "Epoch 82/200\n",
            "30/30 [==============================] - 40s 1s/step - loss: 0.1003 - accuracy: 0.9599 - val_loss: 0.3345 - val_accuracy: 0.8732\n",
            "\n",
            "Epoch 00082: val_accuracy did not improve from 0.89655\n",
            "Epoch 83/200\n",
            "30/30 [==============================] - 39s 1s/step - loss: 0.1018 - accuracy: 0.9550 - val_loss: 0.3361 - val_accuracy: 0.8781\n",
            "\n",
            "Epoch 00083: val_accuracy did not improve from 0.89655\n",
            "Epoch 84/200\n",
            "30/30 [==============================] - 39s 1s/step - loss: 0.0932 - accuracy: 0.9619 - val_loss: 0.5789 - val_accuracy: 0.8239\n",
            "\n",
            "Epoch 00084: val_accuracy did not improve from 0.89655\n",
            "Epoch 85/200\n",
            "30/30 [==============================] - 39s 1s/step - loss: 0.1873 - accuracy: 0.9226 - val_loss: 0.3201 - val_accuracy: 0.8830\n",
            "\n",
            "Epoch 00085: val_accuracy did not improve from 0.89655\n",
            "Epoch 86/200\n",
            "30/30 [==============================] - 40s 1s/step - loss: 0.1636 - accuracy: 0.9305 - val_loss: 0.3145 - val_accuracy: 0.8916\n",
            "\n",
            "Epoch 00086: val_accuracy did not improve from 0.89655\n",
            "Epoch 87/200\n",
            "30/30 [==============================] - 40s 1s/step - loss: 0.1166 - accuracy: 0.9520 - val_loss: 0.2964 - val_accuracy: 0.8842\n",
            "\n",
            "Epoch 00087: val_accuracy did not improve from 0.89655\n",
            "Epoch 88/200\n",
            "30/30 [==============================] - 41s 1s/step - loss: 0.0981 - accuracy: 0.9588 - val_loss: 0.3049 - val_accuracy: 0.8805\n",
            "\n",
            "Epoch 00088: val_accuracy did not improve from 0.89655\n",
            "Epoch 89/200\n",
            "30/30 [==============================] - 41s 1s/step - loss: 0.0927 - accuracy: 0.9630 - val_loss: 0.3546 - val_accuracy: 0.8892\n",
            "\n",
            "Epoch 00089: val_accuracy did not improve from 0.89655\n",
            "Epoch 90/200\n",
            "30/30 [==============================] - 41s 1s/step - loss: 0.1141 - accuracy: 0.9537 - val_loss: 0.3022 - val_accuracy: 0.8966\n",
            "\n",
            "Epoch 00090: val_accuracy did not improve from 0.89655\n",
            "Epoch 91/200\n",
            "30/30 [==============================] - 40s 1s/step - loss: 0.0951 - accuracy: 0.9597 - val_loss: 0.3322 - val_accuracy: 0.8879\n",
            "\n",
            "Epoch 00091: val_accuracy did not improve from 0.89655\n",
            "Epoch 92/200\n",
            "30/30 [==============================] - 41s 1s/step - loss: 0.0805 - accuracy: 0.9659 - val_loss: 0.3308 - val_accuracy: 0.8756\n",
            "\n",
            "Epoch 00092: val_accuracy did not improve from 0.89655\n",
            "Epoch 93/200\n",
            "30/30 [==============================] - 41s 1s/step - loss: 0.0960 - accuracy: 0.9634 - val_loss: 0.4021 - val_accuracy: 0.8756\n",
            "\n",
            "Epoch 00093: val_accuracy did not improve from 0.89655\n",
            "Epoch 94/200\n",
            "30/30 [==============================] - 41s 1s/step - loss: 0.0986 - accuracy: 0.9557 - val_loss: 0.3564 - val_accuracy: 0.8892\n",
            "\n",
            "Epoch 00094: val_accuracy did not improve from 0.89655\n",
            "Epoch 95/200\n",
            "30/30 [==============================] - 40s 1s/step - loss: 0.0837 - accuracy: 0.9647 - val_loss: 0.3217 - val_accuracy: 0.8879\n",
            "\n",
            "Epoch 00095: val_accuracy did not improve from 0.89655\n",
            "Epoch 96/200\n",
            "30/30 [==============================] - 40s 1s/step - loss: 0.0694 - accuracy: 0.9729 - val_loss: 0.3298 - val_accuracy: 0.8904\n",
            "\n",
            "Epoch 00096: val_accuracy did not improve from 0.89655\n",
            "Epoch 97/200\n",
            "30/30 [==============================] - 40s 1s/step - loss: 0.0549 - accuracy: 0.9809 - val_loss: 0.4775 - val_accuracy: 0.8510\n",
            "\n",
            "Epoch 00097: val_accuracy did not improve from 0.89655\n",
            "Epoch 98/200\n",
            "30/30 [==============================] - 40s 1s/step - loss: 0.1833 - accuracy: 0.9289 - val_loss: 0.3292 - val_accuracy: 0.8768\n",
            "\n",
            "Epoch 00098: val_accuracy did not improve from 0.89655\n",
            "Epoch 99/200\n",
            "30/30 [==============================] - 40s 1s/step - loss: 0.0943 - accuracy: 0.9603 - val_loss: 0.3514 - val_accuracy: 0.8904\n",
            "\n",
            "Epoch 00099: val_accuracy did not improve from 0.89655\n",
            "Epoch 100/200\n",
            "30/30 [==============================] - 40s 1s/step - loss: 0.0711 - accuracy: 0.9719 - val_loss: 0.3635 - val_accuracy: 0.8830\n",
            "\n",
            "Epoch 00100: val_accuracy did not improve from 0.89655\n",
            "Epoch 101/200\n",
            "30/30 [==============================] - 40s 1s/step - loss: 0.0751 - accuracy: 0.9675 - val_loss: 0.3754 - val_accuracy: 0.8793\n",
            "\n",
            "Epoch 00101: val_accuracy did not improve from 0.89655\n",
            "Epoch 102/200\n",
            "30/30 [==============================] - 40s 1s/step - loss: 0.0711 - accuracy: 0.9693 - val_loss: 0.3543 - val_accuracy: 0.8830\n",
            "\n",
            "Epoch 00102: val_accuracy did not improve from 0.89655\n",
            "Epoch 103/200\n",
            "30/30 [==============================] - 41s 1s/step - loss: 0.0669 - accuracy: 0.9750 - val_loss: 0.3595 - val_accuracy: 0.8929\n",
            "\n",
            "Epoch 00103: val_accuracy did not improve from 0.89655\n",
            "Epoch 104/200\n",
            "30/30 [==============================] - 41s 1s/step - loss: 0.0592 - accuracy: 0.9773 - val_loss: 0.4048 - val_accuracy: 0.8830\n",
            "\n",
            "Epoch 00104: val_accuracy did not improve from 0.89655\n",
            "Epoch 105/200\n",
            "30/30 [==============================] - 40s 1s/step - loss: 0.0815 - accuracy: 0.9635 - val_loss: 0.3376 - val_accuracy: 0.8892\n",
            "\n",
            "Epoch 00105: val_accuracy did not improve from 0.89655\n",
            "Epoch 106/200\n",
            "30/30 [==============================] - 41s 1s/step - loss: 0.0796 - accuracy: 0.9693 - val_loss: 0.3792 - val_accuracy: 0.8744\n",
            "\n",
            "Epoch 00106: val_accuracy did not improve from 0.89655\n",
            "Epoch 107/200\n",
            "30/30 [==============================] - 41s 1s/step - loss: 0.1186 - accuracy: 0.9484 - val_loss: 0.4013 - val_accuracy: 0.8732\n",
            "\n",
            "Epoch 00107: val_accuracy did not improve from 0.89655\n",
            "Epoch 108/200\n",
            "30/30 [==============================] - 42s 1s/step - loss: 0.0866 - accuracy: 0.9690 - val_loss: 0.4306 - val_accuracy: 0.8756\n",
            "\n",
            "Epoch 00108: val_accuracy did not improve from 0.89655\n",
            "Epoch 109/200\n",
            "30/30 [==============================] - 41s 1s/step - loss: 0.0946 - accuracy: 0.9622 - val_loss: 0.3948 - val_accuracy: 0.8682\n",
            "\n",
            "Epoch 00109: val_accuracy did not improve from 0.89655\n",
            "Epoch 110/200\n",
            "30/30 [==============================] - 41s 1s/step - loss: 0.0764 - accuracy: 0.9704 - val_loss: 0.4361 - val_accuracy: 0.8682\n",
            "\n",
            "Epoch 00110: val_accuracy did not improve from 0.89655\n",
            "Epoch 111/200\n",
            "30/30 [==============================] - 41s 1s/step - loss: 0.1011 - accuracy: 0.9584 - val_loss: 0.3965 - val_accuracy: 0.8756\n",
            "\n",
            "Epoch 00111: val_accuracy did not improve from 0.89655\n",
            "Epoch 112/200\n",
            "30/30 [==============================] - 40s 1s/step - loss: 0.0741 - accuracy: 0.9719 - val_loss: 0.3537 - val_accuracy: 0.8855\n",
            "\n",
            "Epoch 00112: val_accuracy did not improve from 0.89655\n",
            "Epoch 113/200\n",
            "30/30 [==============================] - 40s 1s/step - loss: 0.0495 - accuracy: 0.9818 - val_loss: 0.3540 - val_accuracy: 0.8916\n",
            "\n",
            "Epoch 00113: val_accuracy did not improve from 0.89655\n",
            "Epoch 114/200\n",
            "30/30 [==============================] - 40s 1s/step - loss: 0.0520 - accuracy: 0.9803 - val_loss: 0.3781 - val_accuracy: 0.8793\n",
            "\n",
            "Epoch 00114: val_accuracy did not improve from 0.89655\n",
            "Epoch 115/200\n",
            "30/30 [==============================] - 41s 1s/step - loss: 0.0547 - accuracy: 0.9782 - val_loss: 0.4329 - val_accuracy: 0.8818\n",
            "\n",
            "Epoch 00115: val_accuracy did not improve from 0.89655\n",
            "Epoch 116/200\n",
            "30/30 [==============================] - 40s 1s/step - loss: 0.0587 - accuracy: 0.9778 - val_loss: 0.3909 - val_accuracy: 0.8768\n",
            "\n",
            "Epoch 00116: val_accuracy did not improve from 0.89655\n",
            "Epoch 117/200\n",
            "30/30 [==============================] - 40s 1s/step - loss: 0.0836 - accuracy: 0.9693 - val_loss: 0.3992 - val_accuracy: 0.8855\n",
            "\n",
            "Epoch 00117: val_accuracy did not improve from 0.89655\n",
            "Epoch 118/200\n",
            "30/30 [==============================] - 40s 1s/step - loss: 0.0931 - accuracy: 0.9588 - val_loss: 0.3514 - val_accuracy: 0.8966\n",
            "\n",
            "Epoch 00118: val_accuracy did not improve from 0.89655\n",
            "Epoch 119/200\n",
            "30/30 [==============================] - 39s 1s/step - loss: 0.0708 - accuracy: 0.9725 - val_loss: 0.4498 - val_accuracy: 0.8842\n",
            "\n",
            "Epoch 00119: val_accuracy did not improve from 0.89655\n",
            "Epoch 120/200\n",
            "30/30 [==============================] - 40s 1s/step - loss: 0.0817 - accuracy: 0.9681 - val_loss: 0.3822 - val_accuracy: 0.8892\n",
            "\n",
            "Epoch 00120: val_accuracy did not improve from 0.89655\n",
            "Epoch 121/200\n",
            "30/30 [==============================] - 41s 1s/step - loss: 0.0801 - accuracy: 0.9670 - val_loss: 0.3395 - val_accuracy: 0.8892\n",
            "\n",
            "Epoch 00121: val_accuracy did not improve from 0.89655\n",
            "Epoch 122/200\n",
            "30/30 [==============================] - 41s 1s/step - loss: 0.0584 - accuracy: 0.9775 - val_loss: 0.4588 - val_accuracy: 0.8732\n",
            "\n",
            "Epoch 00122: val_accuracy did not improve from 0.89655\n",
            "Epoch 123/200\n",
            "30/30 [==============================] - 40s 1s/step - loss: 0.0812 - accuracy: 0.9688 - val_loss: 0.4174 - val_accuracy: 0.8879\n",
            "\n",
            "Epoch 00123: val_accuracy did not improve from 0.89655\n",
            "Epoch 124/200\n",
            "30/30 [==============================] - 40s 1s/step - loss: 0.0452 - accuracy: 0.9816 - val_loss: 0.4382 - val_accuracy: 0.8621\n",
            "\n",
            "Epoch 00124: val_accuracy did not improve from 0.89655\n",
            "Epoch 125/200\n",
            "30/30 [==============================] - 40s 1s/step - loss: 0.0577 - accuracy: 0.9761 - val_loss: 0.4381 - val_accuracy: 0.8892\n",
            "\n",
            "Epoch 00125: val_accuracy did not improve from 0.89655\n",
            "Epoch 126/200\n",
            "30/30 [==============================] - 40s 1s/step - loss: 0.1001 - accuracy: 0.9596 - val_loss: 0.4445 - val_accuracy: 0.8596\n",
            "\n",
            "Epoch 00126: val_accuracy did not improve from 0.89655\n",
            "Epoch 127/200\n",
            "30/30 [==============================] - 40s 1s/step - loss: 0.0992 - accuracy: 0.9645 - val_loss: 0.4488 - val_accuracy: 0.8633\n",
            "\n",
            "Epoch 00127: val_accuracy did not improve from 0.89655\n",
            "Epoch 128/200\n",
            "30/30 [==============================] - 40s 1s/step - loss: 0.1652 - accuracy: 0.9422 - val_loss: 0.4658 - val_accuracy: 0.8387\n",
            "\n",
            "Epoch 00128: val_accuracy did not improve from 0.89655\n",
            "Epoch 129/200\n",
            "30/30 [==============================] - 39s 1s/step - loss: 0.3682 - accuracy: 0.8808 - val_loss: 0.3472 - val_accuracy: 0.8781\n",
            "\n",
            "Epoch 00129: val_accuracy did not improve from 0.89655\n",
            "Epoch 130/200\n",
            "30/30 [==============================] - 40s 1s/step - loss: 0.1223 - accuracy: 0.9538 - val_loss: 0.3580 - val_accuracy: 0.8608\n",
            "\n",
            "Epoch 00130: val_accuracy did not improve from 0.89655\n",
            "Epoch 131/200\n",
            "30/30 [==============================] - 41s 1s/step - loss: 0.0929 - accuracy: 0.9684 - val_loss: 0.3404 - val_accuracy: 0.8867\n",
            "\n",
            "Epoch 00131: val_accuracy did not improve from 0.89655\n",
            "Epoch 132/200\n",
            "30/30 [==============================] - 43s 1s/step - loss: 0.1313 - accuracy: 0.9451 - val_loss: 0.3308 - val_accuracy: 0.8892\n",
            "\n",
            "Epoch 00132: val_accuracy did not improve from 0.89655\n",
            "Epoch 133/200\n",
            "30/30 [==============================] - 41s 1s/step - loss: 0.0650 - accuracy: 0.9769 - val_loss: 0.3372 - val_accuracy: 0.8855\n",
            "\n",
            "Epoch 00133: val_accuracy did not improve from 0.89655\n",
            "Epoch 134/200\n",
            "30/30 [==============================] - 41s 1s/step - loss: 0.0525 - accuracy: 0.9828 - val_loss: 0.3568 - val_accuracy: 0.8793\n",
            "\n",
            "Epoch 00134: val_accuracy did not improve from 0.89655\n",
            "Epoch 135/200\n",
            "30/30 [==============================] - 41s 1s/step - loss: 0.0535 - accuracy: 0.9788 - val_loss: 0.3477 - val_accuracy: 0.8830\n",
            "\n",
            "Epoch 00135: val_accuracy did not improve from 0.89655\n",
            "Epoch 136/200\n",
            "30/30 [==============================] - 41s 1s/step - loss: 0.0511 - accuracy: 0.9844 - val_loss: 0.3476 - val_accuracy: 0.8867\n",
            "\n",
            "Epoch 00136: val_accuracy did not improve from 0.89655\n",
            "Epoch 137/200\n",
            "30/30 [==============================] - 41s 1s/step - loss: 0.0610 - accuracy: 0.9751 - val_loss: 0.3859 - val_accuracy: 0.8781\n",
            "\n",
            "Epoch 00137: val_accuracy did not improve from 0.89655\n",
            "Epoch 138/200\n",
            "30/30 [==============================] - 41s 1s/step - loss: 0.0422 - accuracy: 0.9872 - val_loss: 0.3724 - val_accuracy: 0.8929\n",
            "\n",
            "Epoch 00138: val_accuracy did not improve from 0.89655\n",
            "Epoch 139/200\n",
            "30/30 [==============================] - 41s 1s/step - loss: 0.0417 - accuracy: 0.9857 - val_loss: 0.3629 - val_accuracy: 0.8818\n",
            "\n",
            "Epoch 00139: val_accuracy did not improve from 0.89655\n",
            "Epoch 140/200\n",
            "30/30 [==============================] - 42s 1s/step - loss: 0.0440 - accuracy: 0.9847 - val_loss: 0.4152 - val_accuracy: 0.8707\n",
            "\n",
            "Epoch 00140: val_accuracy did not improve from 0.89655\n",
            "Epoch 141/200\n",
            "30/30 [==============================] - 42s 1s/step - loss: 0.0785 - accuracy: 0.9685 - val_loss: 0.3594 - val_accuracy: 0.8904\n",
            "\n",
            "Epoch 00141: val_accuracy did not improve from 0.89655\n",
            "Epoch 142/200\n",
            "30/30 [==============================] - 42s 1s/step - loss: 0.0530 - accuracy: 0.9784 - val_loss: 0.4294 - val_accuracy: 0.8621\n",
            "\n",
            "Epoch 00142: val_accuracy did not improve from 0.89655\n",
            "Epoch 143/200\n",
            "30/30 [==============================] - 42s 1s/step - loss: 0.0603 - accuracy: 0.9773 - val_loss: 0.3654 - val_accuracy: 0.8916\n",
            "\n",
            "Epoch 00143: val_accuracy did not improve from 0.89655\n",
            "Epoch 144/200\n",
            "30/30 [==============================] - 41s 1s/step - loss: 0.0407 - accuracy: 0.9890 - val_loss: 0.3952 - val_accuracy: 0.8842\n",
            "\n",
            "Epoch 00144: val_accuracy did not improve from 0.89655\n",
            "Epoch 145/200\n",
            "30/30 [==============================] - 41s 1s/step - loss: 0.0438 - accuracy: 0.9848 - val_loss: 0.3912 - val_accuracy: 0.8879\n",
            "\n",
            "Epoch 00145: val_accuracy did not improve from 0.89655\n",
            "Epoch 146/200\n",
            "30/30 [==============================] - 41s 1s/step - loss: 0.0410 - accuracy: 0.9858 - val_loss: 0.4137 - val_accuracy: 0.8805\n",
            "\n",
            "Epoch 00146: val_accuracy did not improve from 0.89655\n",
            "Epoch 147/200\n",
            "30/30 [==============================] - 42s 1s/step - loss: 0.0496 - accuracy: 0.9802 - val_loss: 0.3590 - val_accuracy: 0.8830\n",
            "\n",
            "Epoch 00147: val_accuracy did not improve from 0.89655\n",
            "Epoch 148/200\n",
            "30/30 [==============================] - 42s 1s/step - loss: 0.0331 - accuracy: 0.9873 - val_loss: 0.4164 - val_accuracy: 0.8867\n",
            "\n",
            "Epoch 00148: val_accuracy did not improve from 0.89655\n",
            "Epoch 149/200\n",
            "30/30 [==============================] - 42s 1s/step - loss: 0.0632 - accuracy: 0.9770 - val_loss: 0.3969 - val_accuracy: 0.8719\n",
            "\n",
            "Epoch 00149: val_accuracy did not improve from 0.89655\n",
            "Epoch 150/200\n",
            "30/30 [==============================] - 41s 1s/step - loss: 0.0734 - accuracy: 0.9698 - val_loss: 0.4934 - val_accuracy: 0.8793\n",
            "\n",
            "Epoch 00150: val_accuracy did not improve from 0.89655\n",
            "Epoch 151/200\n",
            "30/30 [==============================] - 41s 1s/step - loss: 0.0604 - accuracy: 0.9768 - val_loss: 0.3906 - val_accuracy: 0.8732\n",
            "\n",
            "Epoch 00151: val_accuracy did not improve from 0.89655\n",
            "Epoch 152/200\n",
            "30/30 [==============================] - 41s 1s/step - loss: 0.0418 - accuracy: 0.9828 - val_loss: 0.3790 - val_accuracy: 0.8941\n",
            "\n",
            "Epoch 00152: val_accuracy did not improve from 0.89655\n",
            "Epoch 153/200\n",
            "30/30 [==============================] - 42s 1s/step - loss: 0.0426 - accuracy: 0.9829 - val_loss: 0.3605 - val_accuracy: 0.8966\n",
            "\n",
            "Epoch 00153: val_accuracy did not improve from 0.89655\n",
            "Epoch 154/200\n",
            "30/30 [==============================] - 42s 1s/step - loss: 0.0273 - accuracy: 0.9902 - val_loss: 0.3887 - val_accuracy: 0.8953\n",
            "\n",
            "Epoch 00154: val_accuracy did not improve from 0.89655\n",
            "Epoch 155/200\n",
            "30/30 [==============================] - 42s 1s/step - loss: 0.0331 - accuracy: 0.9889 - val_loss: 0.4427 - val_accuracy: 0.8744\n",
            "\n",
            "Epoch 00155: val_accuracy did not improve from 0.89655\n",
            "Epoch 156/200\n",
            "30/30 [==============================] - 42s 1s/step - loss: 0.0730 - accuracy: 0.9754 - val_loss: 0.4937 - val_accuracy: 0.8732\n",
            "\n",
            "Epoch 00156: val_accuracy did not improve from 0.89655\n",
            "Epoch 157/200\n",
            "30/30 [==============================] - 43s 1s/step - loss: 0.1274 - accuracy: 0.9498 - val_loss: 0.5173 - val_accuracy: 0.8448\n",
            "\n",
            "Epoch 00157: val_accuracy did not improve from 0.89655\n",
            "Epoch 158/200\n",
            "30/30 [==============================] - 41s 1s/step - loss: 0.1555 - accuracy: 0.9405 - val_loss: 0.4071 - val_accuracy: 0.8633\n",
            "\n",
            "Epoch 00158: val_accuracy did not improve from 0.89655\n",
            "Epoch 159/200\n",
            "30/30 [==============================] - 42s 1s/step - loss: 0.0920 - accuracy: 0.9604 - val_loss: 0.3389 - val_accuracy: 0.8929\n",
            "\n",
            "Epoch 00159: val_accuracy did not improve from 0.89655\n",
            "Epoch 160/200\n",
            "30/30 [==============================] - 41s 1s/step - loss: 0.0581 - accuracy: 0.9769 - val_loss: 0.4087 - val_accuracy: 0.8842\n",
            "\n",
            "Epoch 00160: val_accuracy did not improve from 0.89655\n",
            "Epoch 161/200\n",
            "30/30 [==============================] - 42s 1s/step - loss: 0.0413 - accuracy: 0.9871 - val_loss: 0.3696 - val_accuracy: 0.8818\n",
            "\n",
            "Epoch 00161: val_accuracy did not improve from 0.89655\n",
            "Epoch 162/200\n",
            "30/30 [==============================] - 41s 1s/step - loss: 0.0324 - accuracy: 0.9898 - val_loss: 0.3708 - val_accuracy: 0.8929\n",
            "\n",
            "Epoch 00162: val_accuracy did not improve from 0.89655\n",
            "Epoch 163/200\n",
            "30/30 [==============================] - 40s 1s/step - loss: 0.0271 - accuracy: 0.9907 - val_loss: 0.4266 - val_accuracy: 0.8818\n",
            "\n",
            "Epoch 00163: val_accuracy did not improve from 0.89655\n",
            "Epoch 164/200\n",
            "30/30 [==============================] - 40s 1s/step - loss: 0.0305 - accuracy: 0.9893 - val_loss: 0.4344 - val_accuracy: 0.8781\n",
            "\n",
            "Epoch 00164: val_accuracy did not improve from 0.89655\n",
            "Epoch 165/200\n",
            "30/30 [==============================] - 41s 1s/step - loss: 0.0598 - accuracy: 0.9784 - val_loss: 0.4737 - val_accuracy: 0.8670\n",
            "\n",
            "Epoch 00165: val_accuracy did not improve from 0.89655\n",
            "Epoch 166/200\n",
            "30/30 [==============================] - 41s 1s/step - loss: 0.0817 - accuracy: 0.9644 - val_loss: 0.4735 - val_accuracy: 0.8732\n",
            "\n",
            "Epoch 00166: val_accuracy did not improve from 0.89655\n",
            "Epoch 167/200\n",
            "30/30 [==============================] - 42s 1s/step - loss: 0.1149 - accuracy: 0.9550 - val_loss: 0.4045 - val_accuracy: 0.8892\n",
            "\n",
            "Epoch 00167: val_accuracy did not improve from 0.89655\n",
            "Epoch 168/200\n",
            "30/30 [==============================] - 42s 1s/step - loss: 0.0565 - accuracy: 0.9752 - val_loss: 0.3890 - val_accuracy: 0.8744\n",
            "\n",
            "Epoch 00168: val_accuracy did not improve from 0.89655\n",
            "Epoch 169/200\n",
            "30/30 [==============================] - 42s 1s/step - loss: 0.0330 - accuracy: 0.9909 - val_loss: 0.3857 - val_accuracy: 0.8916\n",
            "\n",
            "Epoch 00169: val_accuracy did not improve from 0.89655\n",
            "Epoch 170/200\n",
            "30/30 [==============================] - 42s 1s/step - loss: 0.0430 - accuracy: 0.9814 - val_loss: 0.4352 - val_accuracy: 0.8953\n",
            "\n",
            "Epoch 00170: val_accuracy did not improve from 0.89655\n",
            "Epoch 171/200\n",
            "30/30 [==============================] - 42s 1s/step - loss: 0.0492 - accuracy: 0.9762 - val_loss: 0.3708 - val_accuracy: 0.8966\n",
            "\n",
            "Epoch 00171: val_accuracy did not improve from 0.89655\n",
            "Epoch 172/200\n",
            "30/30 [==============================] - 41s 1s/step - loss: 0.0270 - accuracy: 0.9906 - val_loss: 0.4040 - val_accuracy: 0.8929\n",
            "\n",
            "Epoch 00172: val_accuracy did not improve from 0.89655\n",
            "Epoch 173/200\n",
            "30/30 [==============================] - 41s 1s/step - loss: 0.0288 - accuracy: 0.9894 - val_loss: 0.4551 - val_accuracy: 0.8732\n",
            "\n",
            "Epoch 00173: val_accuracy did not improve from 0.89655\n",
            "Epoch 174/200\n",
            "30/30 [==============================] - 40s 1s/step - loss: 0.0642 - accuracy: 0.9713 - val_loss: 0.4944 - val_accuracy: 0.8658\n",
            "\n",
            "Epoch 00174: val_accuracy did not improve from 0.89655\n",
            "Epoch 175/200\n",
            "30/30 [==============================] - 40s 1s/step - loss: 0.0466 - accuracy: 0.9832 - val_loss: 0.4569 - val_accuracy: 0.8768\n",
            "\n",
            "Epoch 00175: val_accuracy did not improve from 0.89655\n",
            "Epoch 176/200\n",
            "30/30 [==============================] - 40s 1s/step - loss: 0.0414 - accuracy: 0.9857 - val_loss: 0.4749 - val_accuracy: 0.8830\n",
            "\n",
            "Epoch 00176: val_accuracy did not improve from 0.89655\n",
            "Epoch 177/200\n",
            "30/30 [==============================] - 40s 1s/step - loss: 0.0500 - accuracy: 0.9806 - val_loss: 0.3868 - val_accuracy: 0.8916\n",
            "\n",
            "Epoch 00177: val_accuracy did not improve from 0.89655\n",
            "Epoch 178/200\n",
            "30/30 [==============================] - 40s 1s/step - loss: 0.0418 - accuracy: 0.9839 - val_loss: 0.4007 - val_accuracy: 0.8805\n",
            "\n",
            "Epoch 00178: val_accuracy did not improve from 0.89655\n",
            "Epoch 179/200\n",
            "30/30 [==============================] - 40s 1s/step - loss: 0.0278 - accuracy: 0.9901 - val_loss: 0.4550 - val_accuracy: 0.8793\n",
            "\n",
            "Epoch 00179: val_accuracy did not improve from 0.89655\n",
            "Epoch 180/200\n",
            "30/30 [==============================] - 40s 1s/step - loss: 0.0283 - accuracy: 0.9903 - val_loss: 0.5008 - val_accuracy: 0.8559\n",
            "\n",
            "Epoch 00180: val_accuracy did not improve from 0.89655\n",
            "Epoch 181/200\n",
            "30/30 [==============================] - 41s 1s/step - loss: 0.0575 - accuracy: 0.9777 - val_loss: 0.4642 - val_accuracy: 0.8781\n",
            "\n",
            "Epoch 00181: val_accuracy did not improve from 0.89655\n",
            "Epoch 182/200\n",
            "30/30 [==============================] - 40s 1s/step - loss: 0.0391 - accuracy: 0.9838 - val_loss: 0.4520 - val_accuracy: 0.8793\n",
            "\n",
            "Epoch 00182: val_accuracy did not improve from 0.89655\n",
            "Epoch 183/200\n",
            "30/30 [==============================] - 41s 1s/step - loss: 0.0725 - accuracy: 0.9733 - val_loss: 0.4269 - val_accuracy: 0.8855\n",
            "\n",
            "Epoch 00183: val_accuracy did not improve from 0.89655\n",
            "Epoch 184/200\n",
            "30/30 [==============================] - 40s 1s/step - loss: 0.0469 - accuracy: 0.9820 - val_loss: 0.5201 - val_accuracy: 0.8793\n",
            "\n",
            "Epoch 00184: val_accuracy did not improve from 0.89655\n",
            "Epoch 185/200\n",
            "30/30 [==============================] - 40s 1s/step - loss: 0.0655 - accuracy: 0.9708 - val_loss: 0.3757 - val_accuracy: 0.9002\n",
            "\n",
            "Epoch 00185: val_accuracy improved from 0.89655 to 0.90025, saving model to /content/drive/MyDrive/building1/mod26marchPart1_200slots_lstm/best_model.pkl\n"
          ],
          "name": "stdout"
        },
        {
          "output_type": "stream",
          "text": [
            "WARNING:absl:Found untraced functions such as lstm_cell_1_layer_call_and_return_conditional_losses, lstm_cell_1_layer_call_fn, lstm_cell_1_layer_call_fn, lstm_cell_1_layer_call_and_return_conditional_losses, lstm_cell_1_layer_call_and_return_conditional_losses while saving (showing 5 of 5). These functions will not be directly callable after loading.\n",
            "WARNING:absl:Found untraced functions such as lstm_cell_1_layer_call_and_return_conditional_losses, lstm_cell_1_layer_call_fn, lstm_cell_1_layer_call_fn, lstm_cell_1_layer_call_and_return_conditional_losses, lstm_cell_1_layer_call_and_return_conditional_losses while saving (showing 5 of 5). These functions will not be directly callable after loading.\n"
          ],
          "name": "stderr"
        },
        {
          "output_type": "stream",
          "text": [
            "INFO:tensorflow:Assets written to: /content/drive/MyDrive/building1/mod26marchPart1_200slots_lstm/best_model.pkl/assets\n"
          ],
          "name": "stdout"
        },
        {
          "output_type": "stream",
          "text": [
            "INFO:tensorflow:Assets written to: /content/drive/MyDrive/building1/mod26marchPart1_200slots_lstm/best_model.pkl/assets\n"
          ],
          "name": "stderr"
        },
        {
          "output_type": "stream",
          "text": [
            "Epoch 186/200\n",
            "30/30 [==============================] - 40s 1s/step - loss: 0.0576 - accuracy: 0.9751 - val_loss: 0.4215 - val_accuracy: 0.8768\n",
            "\n",
            "Epoch 00186: val_accuracy did not improve from 0.90025\n",
            "Epoch 187/200\n",
            "30/30 [==============================] - 40s 1s/step - loss: 0.0341 - accuracy: 0.9904 - val_loss: 0.4322 - val_accuracy: 0.8953\n",
            "\n",
            "Epoch 00187: val_accuracy did not improve from 0.90025\n",
            "Epoch 188/200\n",
            "30/30 [==============================] - 40s 1s/step - loss: 0.0262 - accuracy: 0.9921 - val_loss: 0.4255 - val_accuracy: 0.8879\n",
            "\n",
            "Epoch 00188: val_accuracy did not improve from 0.90025\n",
            "Epoch 189/200\n",
            "30/30 [==============================] - 40s 1s/step - loss: 0.0461 - accuracy: 0.9845 - val_loss: 0.4298 - val_accuracy: 0.8793\n",
            "\n",
            "Epoch 00189: val_accuracy did not improve from 0.90025\n",
            "Epoch 190/200\n",
            "30/30 [==============================] - 40s 1s/step - loss: 0.0477 - accuracy: 0.9816 - val_loss: 0.4869 - val_accuracy: 0.8596\n",
            "\n",
            "Epoch 00190: val_accuracy did not improve from 0.90025\n",
            "Epoch 191/200\n",
            "30/30 [==============================] - 41s 1s/step - loss: 0.0661 - accuracy: 0.9759 - val_loss: 0.4665 - val_accuracy: 0.8818\n",
            "\n",
            "Epoch 00191: val_accuracy did not improve from 0.90025\n",
            "Epoch 192/200\n",
            "30/30 [==============================] - 40s 1s/step - loss: 0.0747 - accuracy: 0.9745 - val_loss: 0.5063 - val_accuracy: 0.8842\n",
            "\n",
            "Epoch 00192: val_accuracy did not improve from 0.90025\n",
            "Epoch 193/200\n",
            "30/30 [==============================] - 40s 1s/step - loss: 0.1022 - accuracy: 0.9623 - val_loss: 0.4514 - val_accuracy: 0.8781\n",
            "\n",
            "Epoch 00193: val_accuracy did not improve from 0.90025\n",
            "Epoch 194/200\n",
            "30/30 [==============================] - 41s 1s/step - loss: 0.0376 - accuracy: 0.9885 - val_loss: 0.4226 - val_accuracy: 0.8867\n",
            "\n",
            "Epoch 00194: val_accuracy did not improve from 0.90025\n",
            "Epoch 195/200\n",
            "30/30 [==============================] - 40s 1s/step - loss: 0.0483 - accuracy: 0.9844 - val_loss: 0.6070 - val_accuracy: 0.8608\n",
            "\n",
            "Epoch 00195: val_accuracy did not improve from 0.90025\n",
            "Epoch 196/200\n",
            "30/30 [==============================] - 40s 1s/step - loss: 0.0724 - accuracy: 0.9723 - val_loss: 1.0149 - val_accuracy: 0.7833\n",
            "\n",
            "Epoch 00196: val_accuracy did not improve from 0.90025\n",
            "Epoch 197/200\n",
            "30/30 [==============================] - 39s 1s/step - loss: 0.1647 - accuracy: 0.9474 - val_loss: 0.3652 - val_accuracy: 0.8929\n",
            "\n",
            "Epoch 00197: val_accuracy did not improve from 0.90025\n",
            "Epoch 198/200\n",
            "30/30 [==============================] - 41s 1s/step - loss: 0.0421 - accuracy: 0.9874 - val_loss: 0.4099 - val_accuracy: 0.8855\n",
            "\n",
            "Epoch 00198: val_accuracy did not improve from 0.90025\n",
            "Epoch 199/200\n",
            "30/30 [==============================] - 41s 1s/step - loss: 0.0350 - accuracy: 0.9866 - val_loss: 0.3769 - val_accuracy: 0.8941\n",
            "\n",
            "Epoch 00199: val_accuracy did not improve from 0.90025\n",
            "Epoch 200/200\n",
            "30/30 [==============================] - 41s 1s/step - loss: 0.0308 - accuracy: 0.9880 - val_loss: 0.4322 - val_accuracy: 0.8855\n",
            "\n",
            "Epoch 00200: val_accuracy did not improve from 0.90025\n"
          ],
          "name": "stdout"
        }
      ]
    },
    {
      "cell_type": "code",
      "metadata": {
        "colab": {
          "base_uri": "https://localhost:8080/"
        },
        "id": "B0xipf2Ntd1x",
        "outputId": "ad6b6b6d-f9fa-4046-848d-191fc1157b70"
      },
      "source": [
        "#loading the best model and checking accuracy on the test data\n",
        "model = load_model('/content/drive/MyDrive/building1/mod26marchPart1_200slots_lstm/best_model.pkl')\n",
        "from sklearn.metrics import accuracy_score\n",
        "y_pred=model.predict(test)\n",
        "test_preds=( y_pred> 0.5).astype(\"int32\")#Selecting a label only if it has >0.5 probability\n",
        "accuracy_score(test_target, test_preds)"
      ],
      "execution_count": null,
      "outputs": [
        {
          "output_type": "execute_result",
          "data": {
            "text/plain": [
              "0.896551724137931"
            ]
          },
          "metadata": {
            "tags": []
          },
          "execution_count": 31
        }
      ]
    },
    {
      "cell_type": "code",
      "metadata": {
        "colab": {
          "base_uri": "https://localhost:8080/"
        },
        "id": "i05vur3vYNbh",
        "outputId": "36466558-53d8-4b6b-a09f-f9321aa44a16"
      },
      "source": [
        "#Calculating accuracy by selecting the label having the highest probability\n",
        "yhat=np.argmax(y_pred,axis=1)\n",
        "y=np.argmax(test_target,axis=1)\n",
        "accuracy_score(y,yhat)"
      ],
      "execution_count": null,
      "outputs": [
        {
          "output_type": "execute_result",
          "data": {
            "text/plain": [
              "0.8990147783251231"
            ]
          },
          "metadata": {
            "tags": []
          },
          "execution_count": 32
        }
      ]
    },
    {
      "cell_type": "code",
      "metadata": {
        "colab": {
          "base_uri": "https://localhost:8080/",
          "height": 295
        },
        "id": "FJBEcmS5KpyU",
        "outputId": "9764a466-31ce-4b15-b9dc-a71b9f1a879c"
      },
      "source": [
        "import matplotlib.pyplot as plt\n",
        "plt.plot(history.history['accuracy'])\n",
        "plt.plot(history.history['val_accuracy'])\n",
        "plt.title('model accuracy')\n",
        "plt.ylabel('accuracy')\n",
        "plt.xlabel('epoch')\n",
        "plt.legend(['train', 'Validation'], loc='upper left')\n",
        "plt.show()"
      ],
      "execution_count": null,
      "outputs": [
        {
          "output_type": "display_data",
          "data": {
            "image/png": "[encoded data removed]",
            "text/plain": [
              "<Figure size 432x288 with 1 Axes>"
            ]
          },
          "metadata": {
            "tags": [],
            "needs_background": "light"
          }
        }
      ]
    }
  ]
}