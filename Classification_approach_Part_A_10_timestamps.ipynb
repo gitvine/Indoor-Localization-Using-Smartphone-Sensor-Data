{
  "nbformat": 4,
  "nbformat_minor": 0,
  "metadata": {
    "colab": {
      "name": "Part_A_classification_approach_10_timestamps.ipynb",
      "provenance": [],
      "collapsed_sections": []
    },
    "kernelspec": {
      "display_name": "Python 3",
      "language": "python",
      "name": "python3"
    },
    "language_info": {
      "codemirror_mode": {
        "name": "ipython",
        "version": 3
      },
      "file_extension": ".py",
      "mimetype": "text/x-python",
      "name": "python",
      "nbconvert_exporter": "python",
      "pygments_lexer": "ipython3",
      "version": "3.8.5"
    }
  },
  "cells": [
    {
      "cell_type": "markdown",
      "metadata": {
        "id": "QktZ8WbxTv2T"
      },
      "source": [
        "## We have divided the problem into two parts\n",
        "(a) Predict the floor number\n",
        "(b) Predict the way points or location on that floor"
      ]
    },
    {
      "cell_type": "code",
      "metadata": {
        "id": "1f5bwMxmPWjQ"
      },
      "source": [
        "import pandas as pd\n",
        "import numpy as np\n",
        "%matplotlib inline\n",
        "import matplotlib.pyplot as plt\n",
        "from os import listdir\n",
        "from pathlib import Path\n",
        "pd.options.mode.chained_assignment = None  # default='warn'\n",
        "from dataclasses import dataclass\n",
        "from sklearn import preprocessing"
      ],
      "execution_count": null,
      "outputs": []
    },
    {
      "cell_type": "code",
      "metadata": {
        "id": "q6hAEaR6tmi9"
      },
      "source": [
        "import keras\n",
        "from keras.utils import to_categorical\n",
        "from keras.preprocessing import sequence\n",
        "import tensorflow as tf\n",
        "from keras.models import Sequential\n",
        "from keras.layers import Dense\n",
        "from keras.layers import LSTM\n",
        "from keras.optimizers import Adam\n",
        "from keras.models import load_model\n",
        "from keras.callbacks import ModelCheckpoint\n",
        "from keras.layers import Bidirectional"
      ],
      "execution_count": null,
      "outputs": []
    },
    {
      "cell_type": "code",
      "metadata": {
        "colab": {
          "base_uri": "https://localhost:8080/"
        },
        "id": "BfbMebYYWEIw",
        "outputId": "94d1238a-34c3-4f1a-835f-80205be810b8"
      },
      "source": [
        "from google.colab import drive\n",
        "drive.mount('/content/drive')"
      ],
      "execution_count": null,
      "outputs": [
        {
          "output_type": "stream",
          "text": [
            "Mounted at /content/drive\n"
          ],
          "name": "stdout"
        }
      ]
    },
    {
      "cell_type": "code",
      "metadata": {
        "id": "XpKnmwl6M_3_"
      },
      "source": [
        "#Function to connect waypoint coordinates with straight lines\n",
        "#This will be used for second part of project.We will discuss about this later.\n",
        "def connect_waypoints(wp_df):\n",
        "  if(wp_df.at[0,'waypoint_val1']==''):\n",
        "    wp_df.at[0,'waypoint_val1']=0\n",
        "  if(wp_df.at[0,'waypoint_val2']==''):\n",
        "    wp_df.at[0,'waypoint_val2']=0  \n",
        "  j=0\n",
        "  i=0\n",
        "  last=0\n",
        "  #print(wp_df.head(5))\n",
        "  while i < (len(wp_df)-1):\n",
        "    j=i+1\n",
        "    while((wp_df.at[j,'waypoint_val1']==0) and (wp_df.at[j,'waypoint_val2']==0) ):\n",
        "      if(j==len(wp_df)-1):\n",
        "        wp_df.at[j,'waypoint_val1']=wp_df.at[i,'waypoint_val1']\n",
        "        wp_df.at[j,'waypoint_val2']=wp_df.at[i,'waypoint_val2']\n",
        "        last=1\n",
        "        break\n",
        "      j+=1\n",
        "    temp_arrayx=np.linspace(wp_df.at[i,'waypoint_val1'],wp_df.at[j,'waypoint_val1'], num=j-i+1)\n",
        "    temp_arrayy=np.linspace(wp_df.at[i,'waypoint_val2'],wp_df.at[j,'waypoint_val2'], num=j-i+1)\n",
        "    #print(temp_arrayx)\n",
        "    m=0\n",
        "    for k in range(i,j+1):\n",
        "      wp_df.at[k,'waypoint_val1']=temp_arrayx[m]\n",
        "      wp_df.at[k,'waypoint_val2']=temp_arrayy[m]\n",
        "      #For final comparison of our predicted location, we will need to mark which waypoints were in original data before connecting them\n",
        "      #print('k=',k,'i=',i,'j=',j)\n",
        "      if((k==i) and (last==0)):\n",
        "        wp_df.at[k,'interpolated']=1 #original waypoints\n",
        "      else:\n",
        "        wp_df.at[k,'interpolated']=0  #interpolated waypoints\n",
        "      m+=1\n",
        "    i=j\n",
        "  return wp_df     \n"
      ],
      "execution_count": null,
      "outputs": []
    },
    {
      "cell_type": "code",
      "metadata": {
        "id": "hycBgmQSPWjX"
      },
      "source": [
        "# Function to extract arrays for each sensor with timeslots.\n",
        "# This particular function is modified from the function provided by the competition's github page at https://github.com/location-competition/indoor-location-competition-20/blob/master/io_f.py\n",
        "\n",
        "@dataclass\n",
        "class ReadData:\n",
        "    acce: np.ndarray\n",
        "    acce_uncali: np.ndarray\n",
        "    gyro: np.ndarray\n",
        "    gyro_uncali: np.ndarray\n",
        "    magn: np.ndarray\n",
        "    magn_uncali: np.ndarray\n",
        "    ahrs: np.ndarray\n",
        "    wifi: np.ndarray\n",
        "    ibeacon: np.ndarray\n",
        "    waypoint: np.ndarray\n",
        "\n",
        "\n",
        "def read_data_file(data_filename):\n",
        "    acce = []\n",
        "    acce_uncali = []\n",
        "    gyro = []\n",
        "    gyro_uncali = []\n",
        "    magn = []\n",
        "    magn_uncali = []\n",
        "    ahrs = []\n",
        "    wifi = []\n",
        "    ibeacon = []\n",
        "    waypoint = []\n",
        "    line_count=0\n",
        "    with open(data_filename, 'r', encoding='utf-8') as file:\n",
        "        lines = file.readlines()\n",
        "\n",
        "    for line_data in lines:\n",
        "        #line_count=line_count+1\n",
        "        #if(line_count>3000):\n",
        "        #  break\n",
        "        line_data = line_data.strip()\n",
        "        if not line_data or line_data[0] == '#':\n",
        "            continue\n",
        "\n",
        "        line_data = line_data.split('\\t')\n",
        "\n",
        "        if line_data[1] == 'TYPE_ACCELEROMETER':\n",
        "            acce.append([int(line_data[0]), float(line_data[2]), float(line_data[3]), float(line_data[4])])\n",
        "            continue\n",
        "\n",
        "        if line_data[1] == 'TYPE_ACCELEROMETER_UNCALIBRATED':\n",
        "            acce_uncali.append([int(line_data[0]), float(line_data[2]), float(line_data[3]), float(line_data[4])])\n",
        "            continue\n",
        "\n",
        "        if line_data[1] == 'TYPE_GYROSCOPE':\n",
        "            gyro.append([int(line_data[0]), float(line_data[2]), float(line_data[3]), float(line_data[4])])\n",
        "            continue\n",
        "\n",
        "        if line_data[1] == 'TYPE_GYROSCOPE_UNCALIBRATED':\n",
        "            gyro_uncali.append([int(line_data[0]), float(line_data[2]), float(line_data[3]), float(line_data[4])])\n",
        "            continue\n",
        "\n",
        "        if line_data[1] == 'TYPE_MAGNETIC_FIELD':\n",
        "            magn.append([int(line_data[0]), float(line_data[2]), float(line_data[3]), float(line_data[4])])\n",
        "            continue\n",
        "\n",
        "        if line_data[1] == 'TYPE_MAGNETIC_FIELD_UNCALIBRATED':\n",
        "            magn_uncali.append([int(line_data[0]), float(line_data[2]), float(line_data[3]), float(line_data[4])])\n",
        "            continue\n",
        "\n",
        "        if line_data[1] == 'TYPE_ROTATION_VECTOR':\n",
        "            ahrs.append([int(line_data[0]), float(line_data[2]), float(line_data[3]), float(line_data[4])])\n",
        "            continue\n",
        "\n",
        "        if line_data[1] == 'TYPE_WIFI':\n",
        "            sys_ts = int(line_data[0])\n",
        "            ssid = line_data[2]\n",
        "            bssid = line_data[3]\n",
        "            rssi = line_data[4]\n",
        "            lastseen_ts = line_data[6]\n",
        "            wifi_data = [sys_ts, ssid, bssid, rssi, lastseen_ts]\n",
        "            wifi.append(wifi_data)\n",
        "            continue\n",
        "\n",
        "        if line_data[1] == 'TYPE_BEACON':\n",
        "            ts = int(line_data[0])\n",
        "            uuid = line_data[2]\n",
        "            major = line_data[3]\n",
        "            minor = line_data[4]\n",
        "            rssi = line_data[6]\n",
        "            ibeacon_data = [ts, '_'.join([uuid, major, minor]), rssi]\n",
        "            ibeacon.append(ibeacon_data)\n",
        "            continue\n",
        "\n",
        "        if line_data[1] == 'TYPE_WAYPOINT':\n",
        "            waypoint.append([int(line_data[0]), float(line_data[2]), float(line_data[3])])\n",
        "\n",
        "    acce = np.array(acce,dtype=np.float)\n",
        "    acce_uncali = np.array(acce_uncali,dtype=np.float)\n",
        "    gyro = np.array(gyro,dtype=np.float)\n",
        "    gyro_uncali = np.array(gyro_uncali,dtype=np.float)\n",
        "    magn = np.array(magn,dtype=np.float)\n",
        "    magn_uncali = np.array(magn_uncali,dtype=np.float)\n",
        "    ahrs = np.array(ahrs)\n",
        "    wifi = np.array(wifi)\n",
        "    ibeacon = np.array(ibeacon)\n",
        "    waypoint = np.array(waypoint)\n",
        "\n",
        "    return ReadData(acce, acce_uncali, gyro, gyro_uncali, magn, magn_uncali, ahrs, wifi, ibeacon, waypoint)"
      ],
      "execution_count": null,
      "outputs": []
    },
    {
      "cell_type": "code",
      "metadata": {
        "id": "FpAoHhUmPWjb"
      },
      "source": [
        "#Function to go through all the files in the folder and return the sensor data \n",
        "# in the form of arrays\n",
        "@dataclass\n",
        "class trace:\n",
        "    sequence: np.ndarray\n",
        "    target_seq: np.ndarray\n",
        "    waypoint_seq: np.ndarray\n",
        "    wp_full_seq: np.ndarray\n",
        "\n",
        "def convert_to_df(file_path,floor,timeslots):\n",
        "    pathlist = Path(file_path).rglob('*.txt')\n",
        "    sequence = list()\n",
        "    target_seq=list()\n",
        "    waypoint_seq=list()\n",
        "    wp_full_seq=list()\n",
        "    path_id=1\n",
        "    floor_trace_df=pd.DataFrame()\n",
        "    for path in pathlist:\n",
        "         # because path is object not string\n",
        "        path_in_str = str(path)\n",
        "         # print(path_in_str)\n",
        "        trace_file = read_data_file(path_in_str)\n",
        "        trace_df=pd.DataFrame()\n",
        "        if(trace_file.acce.size):\n",
        "            acce_df=pd.DataFrame(trace_file.acce, columns=['Timestamp','acce_val1','acce_val2','acce_val3'])\n",
        "        if(trace_file.acce_uncali.size):\n",
        "            acce__uncal_df=pd.DataFrame(trace_file.acce_uncali, columns=['Timestamp','acce_uncal_val1','acce_uncal_val2','acce_uncal_val3'])   \n",
        "        if(trace_file.gyro.size):\n",
        "            gyro_df=pd.DataFrame(trace_file.gyro, columns=['Timestamp','gyro_val1','gyro_val2','gyro_val3'])\n",
        "        if(trace_file.gyro_uncali.size):\n",
        "            gyro_uncal_df=pd.DataFrame(trace_file.gyro_uncali, columns=['Timestamp','gyro_uncal_val1','gyro_uncal_val2','gyro_uncal_val3'])\n",
        "        if(trace_file.magn.size):\n",
        "            magn_df=pd.DataFrame(trace_file.magn, columns=['Timestamp','magn_val1','magn_val2','magn_val3'])\n",
        "        if(trace_file.magn_uncali.size):\n",
        "            magn_uncal_df=pd.DataFrame(trace_file.magn_uncali, columns=['Timestamp','magn_uncal_val1','magn_uncal_val2','magn_uncal_val3'])\n",
        "        if(trace_file.ahrs.size):\n",
        "            rot_df=pd.DataFrame(trace_file.ahrs, columns=['Timestamp','rot_val1','rot_val2','rot_val3'])           \n",
        "        if(trace_file.wifi.size):\n",
        "            wifi_df=pd.DataFrame(trace_file.wifi, columns=['Timestamp','wifi_val1','wifi_val2','wifi_val3','wifi_val4']) \n",
        "        if(trace_file.ibeacon.size):\n",
        "            ibeacon_df=pd.DataFrame(trace_file.ibeacon, columns=['Timestamp','ibeacon_val1','ibeacon_val2'])    \n",
        "        if(trace_file.waypoint.size):\n",
        "            waypoint_df=pd.DataFrame(trace_file.waypoint, columns=['Timestamp','waypoint_val1','waypoint_val2'])\n",
        "        \n",
        "        #change data type of wifi dataframe timestamp and ibeacon timestamp\n",
        "        wifi_df[\"Timestamp\"] = wifi_df.Timestamp.astype(float)\n",
        "        ibeacon_df[\"Timestamp\"] = ibeacon_df.Timestamp.astype(float)\n",
        "        trace_df = pd.merge(acce_df, acce__uncal_df, on='Timestamp', how='outer')\n",
        "        trace_df = pd.merge(trace_df, gyro_df, on='Timestamp', how='outer')\n",
        "        trace_df = pd.merge(trace_df, gyro_uncal_df, on='Timestamp', how='outer')\n",
        "        trace_df = pd.merge(trace_df, magn_df, on='Timestamp', how='outer')\n",
        "        trace_df = pd.merge(trace_df, magn_uncal_df, on='Timestamp', how='outer')\n",
        "        trace_df = pd.merge(trace_df, rot_df, on='Timestamp', how='outer')\n",
        "        trace_df = pd.merge(trace_df, wifi_df, on='Timestamp', how='outer')\n",
        "        trace_df = pd.merge(trace_df, ibeacon_df, on='Timestamp', how='outer')\n",
        "        trace_df = pd.merge(trace_df, waypoint_df, on='Timestamp', how='outer')\n",
        "        ###### Cast time stamp to integer\n",
        "        trace_df[\"Timestamp\"] = trace_df.Timestamp.astype(int)\n",
        "\n",
        "        # sorting by Timestamp and deleting duplicate timeslots \n",
        "        \n",
        "        trace_df.sort_values(\"Timestamp\", inplace = True)\n",
        "        trace_df = trace_df.reset_index(drop=True)\n",
        "        trace_df.drop_duplicates(subset=\"Timestamp\",keep=False, inplace=True)\n",
        "        trace_df = trace_df.reset_index(drop=True)\n",
        "        \n",
        "        trace_df=trace_df.replace(np.nan,0)\n",
        "\n",
        "        #keep only top 200 rows in one sequence     \n",
        "        #trace_df=trace_df.head(200)\n",
        "\n",
        "        #for i in range(0,len(trace_df)):\n",
        "         # trace_df.at[i,'Timestamp']=i\n",
        "        \n",
        "        #trace_df['time_index'] = trace_df.index\n",
        "        #print(trace_df.head())\n",
        "        #trace_df['floor_name']=floor\n",
        "        #trace_df['path_id']=floor+path_id\n",
        "        #path_id=path_id+1\n",
        "        #trace_df['wifi_df'].fillna(0)\n",
        "        #trace_df['ibeacon_df'].fillna(0)\n",
        "        #trace_df['wifi_df'].fillna(0)\n",
        "        \n",
        "\n",
        "        wp_df = trace_df[['waypoint_val1', 'waypoint_val2']].copy()\n",
        "        wp_df=connect_waypoints(wp_df)\n",
        "        wp_values=wp_df.values\n",
        "        #Removing text based fields in dataframe\n",
        "        trace_df=trace_df.drop(['Timestamp'], axis=1)\n",
        "        trace_df=trace_df.drop(['wifi_val1'], axis=1)\n",
        "        trace_df=trace_df.drop(['wifi_val2'], axis=1)\n",
        "        trace_df=trace_df.drop(['ibeacon_val1'], axis=1)\n",
        "        trace_df.astype('float32')        \n",
        "        trace_df=trace_df.drop(['waypoint_val1','waypoint_val2'], axis=1)\n",
        "        #floor_trace_df=floor_trace_df.append(trace_df)\n",
        "        values = trace_df.values \n",
        "\n",
        "\n",
        "        \n",
        "\n",
        "\n",
        "        #Now split sequence into required number of timeslots\n",
        "        l=int(len(values)/timeslots)\n",
        "        k=0\n",
        "        for m in range(l):\n",
        "          s_temp=values[k:k+timeslots]\n",
        "          wp_temp=wp_values[k:k+timeslots]\n",
        "          #Normalize\n",
        "          #min_max_scaler = preprocessing.MinMaxScaler()\n",
        "          #s_scaled = min_max_scaler.fit_transform(s_temp)\n",
        "          sequence.append(s_temp)\n",
        "          wp_full_seq.append(wp_temp)\n",
        "          target_seq.append(floor)\n",
        "          wp_temp=wp_df.iloc[k:k+timeslots,0:]\n",
        "          wp_temp=wp_temp.reset_index(drop=True)\n",
        "          #wp_temp=connect_waypoints(wp_temp)\n",
        "        #Now after connecting the waypoints, the avearge has become a wieghted average in time series\n",
        "          wp_avg_x=wp_temp['waypoint_val1'].mean()\n",
        "          wp_avg_y=wp_temp['waypoint_val2'].mean()\n",
        "        #maximum and minimum will be useful in second part\n",
        "          wp_max_x=wp_temp['waypoint_val1'].max()\n",
        "          wp_min_x=wp_temp['waypoint_val1'].min()\n",
        "          wp_max_y=wp_temp['waypoint_val2'].max()\n",
        "          wp_min_y=wp_temp['waypoint_val2'].min()\n",
        "          \n",
        "          waypoint_seq.append([wp_avg_x,wp_avg_y,wp_max_x,wp_min_x,wp_max_y,wp_min_y])\n",
        "          k+=timeslots\n",
        "\n",
        "    return trace(sequence,target_seq,waypoint_seq,wp_full_seq)"
      ],
      "execution_count": null,
      "outputs": []
    },
    {
      "cell_type": "code",
      "metadata": {
        "id": "hjiKBKnBDTNS"
      },
      "source": [
        "#1 trace test Extracting data for B1 floor only\n",
        "sequences = list()\n",
        "target_sequence=list()\n",
        "waypoint_sequence=list()\n",
        "waypoint_full_sequence=list()\n",
        "#floors_df=pd.DataFrame()\n",
        "file_path = '/content/drive/MyDrive/building1/test/'\n",
        "trace_values=(convert_to_df(file_path,0))\n",
        "sequences.extend(trace_values.sequence)\n",
        "target_sequence.extend(trace_values.target_seq)\n",
        "waypoint_sequence.extend(trace_values.waypoint_seq)\n",
        "waypoint_full_sequence.extend(trace_values.wp_full_seq)"
      ],
      "execution_count": null,
      "outputs": []
    },
    {
      "cell_type": "code",
      "metadata": {
        "colab": {
          "base_uri": "https://localhost:8080/"
        },
        "id": "OXmpBegNG3fL",
        "outputId": "a45f2281-f578-40a1-9c40-88eb8e02780e"
      },
      "source": [
        "len(sequences)"
      ],
      "execution_count": null,
      "outputs": [
        {
          "output_type": "execute_result",
          "data": {
            "text/plain": [
              "98"
            ]
          },
          "metadata": {
            "tags": []
          },
          "execution_count": 44
        }
      ]
    },
    {
      "cell_type": "code",
      "metadata": {
        "id": "RIHmyZk8PWje"
      },
      "source": [
        "#Extracting data for B1 floor only\n",
        "sequences = list()\n",
        "target_sequence=list()\n",
        "waypoint_sequence=list()\n",
        "waypoint_full_sequence=list()\n",
        "#floors_df=pd.DataFrame()\n",
        "file_path = '/content/drive/MyDrive/building1/data/B1'\n",
        "trace_values=(convert_to_df(file_path,0,10))\n",
        "sequences.extend(trace_values.sequence)\n",
        "target_sequence.extend(trace_values.target_seq)\n",
        "waypoint_sequence.extend(trace_values.waypoint_seq)\n",
        "waypoint_full_sequence.extend(trace_values.wp_full_seq)"
      ],
      "execution_count": null,
      "outputs": []
    },
    {
      "cell_type": "code",
      "metadata": {
        "colab": {
          "base_uri": "https://localhost:8080/"
        },
        "id": "-H8pSsXd15bP",
        "outputId": "d53a4e43-dec3-41a6-b3ba-64d1c06b8644"
      },
      "source": [
        "waypoint_sequence[0]"
      ],
      "execution_count": null,
      "outputs": [
        {
          "output_type": "execute_result",
          "data": {
            "text/plain": [
              "[198.4250223619632,\n",
              " 163.5077047852761,\n",
              " 198.48171472392636,\n",
              " 198.36833,\n",
              " 163.52063,\n",
              " 163.49477957055217]"
            ]
          },
          "metadata": {
            "tags": []
          },
          "execution_count": 8
        }
      ]
    },
    {
      "cell_type": "code",
      "metadata": {
        "colab": {
          "base_uri": "https://localhost:8080/"
        },
        "id": "cu3Zj31ukXcD",
        "outputId": "51043d3a-2133-4179-8edc-bdabfc977c55"
      },
      "source": [
        "len(sequences[0])"
      ],
      "execution_count": null,
      "outputs": [
        {
          "output_type": "execute_result",
          "data": {
            "text/plain": [
              "5"
            ]
          },
          "metadata": {
            "tags": []
          },
          "execution_count": 9
        }
      ]
    },
    {
      "cell_type": "code",
      "metadata": {
        "colab": {
          "base_uri": "https://localhost:8080/"
        },
        "id": "z_7S8TmaPWje",
        "outputId": "3252ab3c-69d6-43a2-8211-9f83bdb0bcf2"
      },
      "source": [
        "print('Number of sequences',len(sequences))\n",
        "print('Number of targets',len(target_sequence))\n",
        "print('Number of timeslots in first sequence',(sequences[0].shape)[0])\n",
        "print('Number of timeslots in tenth sequence',(sequences[9].shape)[0])\n",
        "print('Number of timeslots in hundredth sequence',(sequences[99].shape)[0])"
      ],
      "execution_count": null,
      "outputs": [
        {
          "output_type": "stream",
          "text": [
            "Number of sequences 2197\n",
            "Number of targets 2197\n",
            "Number of timeslots in first sequence 100\n",
            "Number of timeslots in tenth sequence 100\n",
            "Number of timeslots in hundredth sequence 100\n"
          ],
          "name": "stdout"
        }
      ]
    },
    {
      "cell_type": "code",
      "metadata": {
        "id": "wPdndUabPWje"
      },
      "source": [
        "#Now adding data of other floors to the sequences starting with F1\n",
        "file_path = '/content/drive/MyDrive/building1/data/F1'\n",
        "trace_values=(convert_to_df(file_path,1,10))\n",
        "sequences.extend(trace_values.sequence)\n",
        "target_sequence.extend(trace_values.target_seq)\n",
        "waypoint_sequence.extend(trace_values.waypoint_seq)\n",
        "file_path = '/content/drive/MyDrive/building1/data/F2'\n",
        "trace_values=(convert_to_df(file_path,2,10))\n",
        "sequences.extend(trace_values.sequence)\n",
        "target_sequence.extend(trace_values.target_seq)\n",
        "waypoint_sequence.extend(trace_values.waypoint_seq)\n",
        "file_path = '/content/drive/MyDrive/building1/data/F3'\n",
        "trace_values=(convert_to_df(file_path,3,10))\n",
        "sequences.extend(trace_values.sequence)\n",
        "target_sequence.extend(trace_values.target_seq)\n",
        "waypoint_sequence.extend(trace_values.waypoint_seq)\n",
        "file_path = '/content/drive/MyDrive/building1/data/F4'\n",
        "trace_values=(convert_to_df(file_path,4,10))\n",
        "sequences.extend(trace_values.sequence)\n",
        "target_sequence.extend(trace_values.target_seq)\n",
        "waypoint_sequence.extend(trace_values.waypoint_seq)"
      ],
      "execution_count": null,
      "outputs": []
    },
    {
      "cell_type": "code",
      "metadata": {
        "colab": {
          "base_uri": "https://localhost:8080/"
        },
        "id": "vu6GUYhwVNgk",
        "outputId": "781b1aeb-06bf-4da1-a860-0e12450f31b7"
      },
      "source": [
        "print('Number of sequences',len(sequences))\n",
        "print('Number of targets',len(target_sequence))\n",
        "print('Number of timeslots in first sequence',(sequences[0].shape)[0])\n",
        "print('Number of timeslots in tenth sequence',(sequences[9].shape)[0])\n",
        "print('Number of timeslots in hundredth sequence',(sequences[99].shape)[0])"
      ],
      "execution_count": null,
      "outputs": [
        {
          "output_type": "stream",
          "text": [
            "Number of sequences 113047\n",
            "Number of targets 113047\n",
            "Number of timeslots in first sequence 10\n",
            "Number of timeslots in tenth sequence 10\n",
            "Number of timeslots in hundredth sequence 10\n"
          ],
          "name": "stdout"
        }
      ]
    },
    {
      "cell_type": "code",
      "metadata": {
        "colab": {
          "base_uri": "https://localhost:8080/"
        },
        "id": "Esbsaw2NQqT7",
        "outputId": "09957939-e60c-4e55-9c5f-1a4f9cf8d02e"
      },
      "source": [
        "train_length=int(len(sequences)*0.7)\n",
        "val_length=int(len(sequences)*0.15)\n",
        "test_length=len(sequences)-train_length-val_length\n",
        "\n",
        "train_flags=np.full((train_length), 0)\n",
        "validation_flags=np.full((val_length), 1)\n",
        "test_flags=np.full((test_length), 2)\n",
        "flags=[]\n",
        "flags.extend(train_flags)\n",
        "flags.extend(validation_flags)\n",
        "flags.extend(test_flags)\n",
        "np.random.shuffle(flags)\n",
        "len(flags)"
      ],
      "execution_count": null,
      "outputs": [
        {
          "output_type": "execute_result",
          "data": {
            "text/plain": [
              "113047"
            ]
          },
          "metadata": {
            "tags": []
          },
          "execution_count": 11
        }
      ]
    },
    {
      "cell_type": "code",
      "metadata": {
        "id": "BTZdQ7hbnAEx"
      },
      "source": [
        "train = [sequences[i] for i in range(len(flags)) if (flags[i]==0)]\n",
        "validation = [sequences[i] for i in range(len(flags)) if flags[i]==1]\n",
        "test = [sequences[i] for i in range(len(flags)) if flags[i]==2]\n",
        "\n",
        "train_target = [target_sequence[i] for i in range(len(flags)) if (flags[i]==0)]\n",
        "validation_target = [target_sequence[i] for i in range(len(flags)) if flags[i]==1]\n",
        "test_target = [target_sequence[i] for i in range(len(flags)) if flags[i]==2]\n",
        "train = np.array(train)\n",
        "validation = np.array(validation)\n",
        "test = np.array(test)\n",
        "#normalise the target values\n",
        "train_target = np.array(train_target)\n",
        "#train_target = (train_target)/4\n",
        "train_target=to_categorical(train_target,num_classes = 5)\n",
        "\n",
        "validation_target = np.array(validation_target)\n",
        "#validation_target = (validation_target)/4\n",
        "validation_target=to_categorical(validation_target,num_classes = 5)\n",
        "\n",
        "test_target = np.array(test_target)\n",
        "#test_target = (test_target)/4\n",
        "test_target=to_categorical(test_target,num_classes = 5)"
      ],
      "execution_count": null,
      "outputs": []
    },
    {
      "cell_type": "code",
      "metadata": {
        "colab": {
          "base_uri": "https://localhost:8080/"
        },
        "id": "XZyGcTl8wEzp",
        "outputId": "0edcc796-eb83-4df0-ed8e-2f2894f86a6f"
      },
      "source": [
        "print(sequences[0].shape)\n",
        "train_target.shape"
      ],
      "execution_count": null,
      "outputs": [
        {
          "output_type": "stream",
          "text": [
            "(10, 24)\n"
          ],
          "name": "stdout"
        },
        {
          "output_type": "execute_result",
          "data": {
            "text/plain": [
              "(79132, 5)"
            ]
          },
          "metadata": {
            "tags": []
          },
          "execution_count": 13
        }
      ]
    },
    {
      "cell_type": "code",
      "metadata": {
        "id": "y8WRNbq5qvQF"
      },
      "source": [
        "seq_len = 10\n",
        "seq_bredth=24\n",
        "model = Sequential()\n",
        "model.add(LSTM(256, input_shape=(seq_len, seq_bredth)))\n",
        "model.add(Dense(128, activation='relu'))\n",
        "model.add(Dense(5, activation='softmax'))"
      ],
      "execution_count": null,
      "outputs": []
    },
    {
      "cell_type": "code",
      "metadata": {
        "colab": {
          "base_uri": "https://localhost:8080/"
        },
        "id": "QxyARlhftUFZ",
        "outputId": "744bfcc3-39e7-418c-bcbf-ee608b0fbcd1"
      },
      "source": [
        "model.summary()"
      ],
      "execution_count": null,
      "outputs": [
        {
          "output_type": "stream",
          "text": [
            "Model: \"sequential_2\"\n",
            "_________________________________________________________________\n",
            "Layer (type)                 Output Shape              Param #   \n",
            "=================================================================\n",
            "lstm_2 (LSTM)                (None, 256)               287744    \n",
            "_________________________________________________________________\n",
            "dense_4 (Dense)              (None, 128)               32896     \n",
            "_________________________________________________________________\n",
            "dense_5 (Dense)              (None, 5)                 645       \n",
            "=================================================================\n",
            "Total params: 321,285\n",
            "Trainable params: 321,285\n",
            "Non-trainable params: 0\n",
            "_________________________________________________________________\n"
          ],
          "name": "stdout"
        }
      ]
    },
    {
      "cell_type": "code",
      "metadata": {
        "id": "b2Gyppx_ljGU"
      },
      "source": [
        "#Extra\n",
        "def show_shapes(): # can make yours to take inputs; this'll use local variable values\n",
        "    print(\"Expected: (num_samples, timesteps, channels)\")\n",
        "    print(\"Sequences: {}\".format(Sequences.shape))\n",
        "    print(\"Targets:   {}\".format(Targets.shape))"
      ],
      "execution_count": null,
      "outputs": []
    },
    {
      "cell_type": "code",
      "metadata": {
        "colab": {
          "base_uri": "https://localhost:8080/"
        },
        "id": "cy3m3l-UyExZ",
        "outputId": "11f210b5-b963-4a28-ef7d-7559b994bc83"
      },
      "source": [
        "#Extra\n",
        "Sequences = np.asarray(train)\n",
        "Targets   = np.asarray(train_target)\n",
        "show_shapes()\n",
        "\n",
        "Sequences = np.expand_dims(train, -1)\n",
        "Targets   = np.expand_dims(train_target, -1)\n",
        "show_shapes()"
      ],
      "execution_count": null,
      "outputs": [
        {
          "output_type": "stream",
          "text": [
            "Expected: (num_samples, timesteps, channels)\n",
            "Sequences: (360, 200, 26)\n",
            "Targets:   (77,)\n",
            "Expected: (num_samples, timesteps, channels)\n",
            "Sequences: (360, 200, 26, 1)\n",
            "Targets:   (77, 1)\n"
          ],
          "name": "stdout"
        }
      ]
    },
    {
      "cell_type": "code",
      "metadata": {
        "id": "XL0kTXHum9CN"
      },
      "source": [
        "train=tf.convert_to_tensor(train, np.float32)\n",
        "train_target=tf.convert_to_tensor(train_target, np.float32)\n",
        "validation=tf.convert_to_tensor(validation, np.float32)\n",
        "validation_target=tf.convert_to_tensor(validation_target, np.float32)\n",
        "test=tf.convert_to_tensor(test, np.float32)\n",
        "test_target=tf.convert_to_tensor(test_target, np.float32)\n",
        "\n"
      ],
      "execution_count": null,
      "outputs": []
    },
    {
      "cell_type": "code",
      "metadata": {
        "colab": {
          "base_uri": "https://localhost:8080/"
        },
        "id": "HxVTmHzvtYmj",
        "outputId": "5226309e-a947-43d8-9197-ef145907db6b"
      },
      "source": [
        "adam = Adam(lr=0.001)\n",
        "checkpoint_filepath = '/content/drive/MyDrive/building1/mod26marchPart1_10slots_lstm/best_model.pkl'\n",
        "chk = ModelCheckpoint(filepath=checkpoint_filepath, monitor='val_accuracy', save_best_only=True, mode='max', verbose=1)\n",
        "model.compile(loss='categorical_crossentropy', optimizer=adam, metrics=['accuracy'])\n",
        "history=model.fit(train, train_target, epochs=200, batch_size=128, callbacks=[chk], validation_data=(validation,validation_target))"
      ],
      "execution_count": null,
      "outputs": [
        {
          "output_type": "stream",
          "text": [
            "Epoch 1/200\n",
            "619/619 [==============================] - 68s 107ms/step - loss: 0.6473 - accuracy: 0.7001 - val_loss: 0.3486 - val_accuracy: 0.8470\n",
            "\n",
            "Epoch 00001: val_accuracy improved from -inf to 0.84697, saving model to /content/drive/MyDrive/building1/mod26marchPart1_10slots_lstm/best_model.pkl\n"
          ],
          "name": "stdout"
        },
        {
          "output_type": "stream",
          "text": [
            "WARNING:absl:Found untraced functions such as lstm_cell_2_layer_call_fn, lstm_cell_2_layer_call_and_return_conditional_losses, lstm_cell_2_layer_call_fn, lstm_cell_2_layer_call_and_return_conditional_losses, lstm_cell_2_layer_call_and_return_conditional_losses while saving (showing 5 of 5). These functions will not be directly callable after loading.\n",
            "WARNING:absl:Found untraced functions such as lstm_cell_2_layer_call_fn, lstm_cell_2_layer_call_and_return_conditional_losses, lstm_cell_2_layer_call_fn, lstm_cell_2_layer_call_and_return_conditional_losses, lstm_cell_2_layer_call_and_return_conditional_losses while saving (showing 5 of 5). These functions will not be directly callable after loading.\n"
          ],
          "name": "stderr"
        },
        {
          "output_type": "stream",
          "text": [
            "INFO:tensorflow:Assets written to: /content/drive/MyDrive/building1/mod26marchPart1_10slots_lstm/best_model.pkl/assets\n"
          ],
          "name": "stdout"
        },
        {
          "output_type": "stream",
          "text": [
            "INFO:tensorflow:Assets written to: /content/drive/MyDrive/building1/mod26marchPart1_10slots_lstm/best_model.pkl/assets\n"
          ],
          "name": "stderr"
        },
        {
          "output_type": "stream",
          "text": [
            "Epoch 2/200\n",
            "619/619 [==============================] - 69s 111ms/step - loss: 0.3361 - accuracy: 0.8447 - val_loss: 0.3183 - val_accuracy: 0.8682\n",
            "\n",
            "Epoch 00002: val_accuracy improved from 0.84697 to 0.86820, saving model to /content/drive/MyDrive/building1/mod26marchPart1_10slots_lstm/best_model.pkl\n"
          ],
          "name": "stdout"
        },
        {
          "output_type": "stream",
          "text": [
            "WARNING:absl:Found untraced functions such as lstm_cell_2_layer_call_fn, lstm_cell_2_layer_call_and_return_conditional_losses, lstm_cell_2_layer_call_fn, lstm_cell_2_layer_call_and_return_conditional_losses, lstm_cell_2_layer_call_and_return_conditional_losses while saving (showing 5 of 5). These functions will not be directly callable after loading.\n",
            "WARNING:absl:Found untraced functions such as lstm_cell_2_layer_call_fn, lstm_cell_2_layer_call_and_return_conditional_losses, lstm_cell_2_layer_call_fn, lstm_cell_2_layer_call_and_return_conditional_losses, lstm_cell_2_layer_call_and_return_conditional_losses while saving (showing 5 of 5). These functions will not be directly callable after loading.\n"
          ],
          "name": "stderr"
        },
        {
          "output_type": "stream",
          "text": [
            "INFO:tensorflow:Assets written to: /content/drive/MyDrive/building1/mod26marchPart1_10slots_lstm/best_model.pkl/assets\n"
          ],
          "name": "stdout"
        },
        {
          "output_type": "stream",
          "text": [
            "INFO:tensorflow:Assets written to: /content/drive/MyDrive/building1/mod26marchPart1_10slots_lstm/best_model.pkl/assets\n"
          ],
          "name": "stderr"
        },
        {
          "output_type": "stream",
          "text": [
            "Epoch 3/200\n",
            "619/619 [==============================] - 64s 104ms/step - loss: 0.3076 - accuracy: 0.8559 - val_loss: 0.2805 - val_accuracy: 0.8807\n",
            "\n",
            "Epoch 00003: val_accuracy improved from 0.86820 to 0.88070, saving model to /content/drive/MyDrive/building1/mod26marchPart1_10slots_lstm/best_model.pkl\n"
          ],
          "name": "stdout"
        },
        {
          "output_type": "stream",
          "text": [
            "WARNING:absl:Found untraced functions such as lstm_cell_2_layer_call_fn, lstm_cell_2_layer_call_and_return_conditional_losses, lstm_cell_2_layer_call_fn, lstm_cell_2_layer_call_and_return_conditional_losses, lstm_cell_2_layer_call_and_return_conditional_losses while saving (showing 5 of 5). These functions will not be directly callable after loading.\n",
            "WARNING:absl:Found untraced functions such as lstm_cell_2_layer_call_fn, lstm_cell_2_layer_call_and_return_conditional_losses, lstm_cell_2_layer_call_fn, lstm_cell_2_layer_call_and_return_conditional_losses, lstm_cell_2_layer_call_and_return_conditional_losses while saving (showing 5 of 5). These functions will not be directly callable after loading.\n"
          ],
          "name": "stderr"
        },
        {
          "output_type": "stream",
          "text": [
            "INFO:tensorflow:Assets written to: /content/drive/MyDrive/building1/mod26marchPart1_10slots_lstm/best_model.pkl/assets\n"
          ],
          "name": "stdout"
        },
        {
          "output_type": "stream",
          "text": [
            "INFO:tensorflow:Assets written to: /content/drive/MyDrive/building1/mod26marchPart1_10slots_lstm/best_model.pkl/assets\n"
          ],
          "name": "stderr"
        },
        {
          "output_type": "stream",
          "text": [
            "Epoch 4/200\n",
            "619/619 [==============================] - 61s 98ms/step - loss: 0.2720 - accuracy: 0.8717 - val_loss: 0.2836 - val_accuracy: 0.8695\n",
            "\n",
            "Epoch 00004: val_accuracy did not improve from 0.88070\n",
            "Epoch 5/200\n",
            "619/619 [==============================] - 54s 87ms/step - loss: 0.2474 - accuracy: 0.8813 - val_loss: 0.2250 - val_accuracy: 0.8912\n",
            "\n",
            "Epoch 00005: val_accuracy improved from 0.88070 to 0.89120, saving model to /content/drive/MyDrive/building1/mod26marchPart1_10slots_lstm/best_model.pkl\n"
          ],
          "name": "stdout"
        },
        {
          "output_type": "stream",
          "text": [
            "WARNING:absl:Found untraced functions such as lstm_cell_2_layer_call_fn, lstm_cell_2_layer_call_and_return_conditional_losses, lstm_cell_2_layer_call_fn, lstm_cell_2_layer_call_and_return_conditional_losses, lstm_cell_2_layer_call_and_return_conditional_losses while saving (showing 5 of 5). These functions will not be directly callable after loading.\n",
            "WARNING:absl:Found untraced functions such as lstm_cell_2_layer_call_fn, lstm_cell_2_layer_call_and_return_conditional_losses, lstm_cell_2_layer_call_fn, lstm_cell_2_layer_call_and_return_conditional_losses, lstm_cell_2_layer_call_and_return_conditional_losses while saving (showing 5 of 5). These functions will not be directly callable after loading.\n"
          ],
          "name": "stderr"
        },
        {
          "output_type": "stream",
          "text": [
            "INFO:tensorflow:Assets written to: /content/drive/MyDrive/building1/mod26marchPart1_10slots_lstm/best_model.pkl/assets\n"
          ],
          "name": "stdout"
        },
        {
          "output_type": "stream",
          "text": [
            "INFO:tensorflow:Assets written to: /content/drive/MyDrive/building1/mod26marchPart1_10slots_lstm/best_model.pkl/assets\n"
          ],
          "name": "stderr"
        },
        {
          "output_type": "stream",
          "text": [
            "Epoch 6/200\n",
            "619/619 [==============================] - 68s 110ms/step - loss: 0.2634 - accuracy: 0.8759 - val_loss: 0.1961 - val_accuracy: 0.9084\n",
            "\n",
            "Epoch 00006: val_accuracy improved from 0.89120 to 0.90836, saving model to /content/drive/MyDrive/building1/mod26marchPart1_10slots_lstm/best_model.pkl\n"
          ],
          "name": "stdout"
        },
        {
          "output_type": "stream",
          "text": [
            "WARNING:absl:Found untraced functions such as lstm_cell_2_layer_call_fn, lstm_cell_2_layer_call_and_return_conditional_losses, lstm_cell_2_layer_call_fn, lstm_cell_2_layer_call_and_return_conditional_losses, lstm_cell_2_layer_call_and_return_conditional_losses while saving (showing 5 of 5). These functions will not be directly callable after loading.\n",
            "WARNING:absl:Found untraced functions such as lstm_cell_2_layer_call_fn, lstm_cell_2_layer_call_and_return_conditional_losses, lstm_cell_2_layer_call_fn, lstm_cell_2_layer_call_and_return_conditional_losses, lstm_cell_2_layer_call_and_return_conditional_losses while saving (showing 5 of 5). These functions will not be directly callable after loading.\n"
          ],
          "name": "stderr"
        },
        {
          "output_type": "stream",
          "text": [
            "INFO:tensorflow:Assets written to: /content/drive/MyDrive/building1/mod26marchPart1_10slots_lstm/best_model.pkl/assets\n"
          ],
          "name": "stdout"
        },
        {
          "output_type": "stream",
          "text": [
            "INFO:tensorflow:Assets written to: /content/drive/MyDrive/building1/mod26marchPart1_10slots_lstm/best_model.pkl/assets\n"
          ],
          "name": "stderr"
        },
        {
          "output_type": "stream",
          "text": [
            "Epoch 7/200\n",
            "619/619 [==============================] - 67s 108ms/step - loss: 0.2292 - accuracy: 0.8935 - val_loss: 0.1903 - val_accuracy: 0.9125\n",
            "\n",
            "Epoch 00007: val_accuracy improved from 0.90836 to 0.91254, saving model to /content/drive/MyDrive/building1/mod26marchPart1_10slots_lstm/best_model.pkl\n"
          ],
          "name": "stdout"
        },
        {
          "output_type": "stream",
          "text": [
            "WARNING:absl:Found untraced functions such as lstm_cell_2_layer_call_fn, lstm_cell_2_layer_call_and_return_conditional_losses, lstm_cell_2_layer_call_fn, lstm_cell_2_layer_call_and_return_conditional_losses, lstm_cell_2_layer_call_and_return_conditional_losses while saving (showing 5 of 5). These functions will not be directly callable after loading.\n",
            "WARNING:absl:Found untraced functions such as lstm_cell_2_layer_call_fn, lstm_cell_2_layer_call_and_return_conditional_losses, lstm_cell_2_layer_call_fn, lstm_cell_2_layer_call_and_return_conditional_losses, lstm_cell_2_layer_call_and_return_conditional_losses while saving (showing 5 of 5). These functions will not be directly callable after loading.\n"
          ],
          "name": "stderr"
        },
        {
          "output_type": "stream",
          "text": [
            "INFO:tensorflow:Assets written to: /content/drive/MyDrive/building1/mod26marchPart1_10slots_lstm/best_model.pkl/assets\n"
          ],
          "name": "stdout"
        },
        {
          "output_type": "stream",
          "text": [
            "INFO:tensorflow:Assets written to: /content/drive/MyDrive/building1/mod26marchPart1_10slots_lstm/best_model.pkl/assets\n"
          ],
          "name": "stderr"
        },
        {
          "output_type": "stream",
          "text": [
            "Epoch 8/200\n",
            "619/619 [==============================] - 66s 107ms/step - loss: 0.2144 - accuracy: 0.8996 - val_loss: 0.2436 - val_accuracy: 0.8844\n",
            "\n",
            "Epoch 00008: val_accuracy did not improve from 0.91254\n",
            "Epoch 9/200\n",
            "619/619 [==============================] - 66s 106ms/step - loss: 0.2150 - accuracy: 0.9021 - val_loss: 0.1937 - val_accuracy: 0.9110\n",
            "\n",
            "Epoch 00009: val_accuracy did not improve from 0.91254\n",
            "Epoch 10/200\n",
            "619/619 [==============================] - 63s 102ms/step - loss: 0.1804 - accuracy: 0.9173 - val_loss: 0.2072 - val_accuracy: 0.9081\n",
            "\n",
            "Epoch 00010: val_accuracy did not improve from 0.91254\n",
            "Epoch 11/200\n",
            "619/619 [==============================] - 64s 103ms/step - loss: 0.1791 - accuracy: 0.9185 - val_loss: 0.3107 - val_accuracy: 0.8815\n",
            "\n",
            "Epoch 00011: val_accuracy did not improve from 0.91254\n",
            "Epoch 12/200\n",
            "619/619 [==============================] - 69s 111ms/step - loss: 0.1809 - accuracy: 0.9193 - val_loss: 0.1653 - val_accuracy: 0.9121\n",
            "\n",
            "Epoch 00012: val_accuracy did not improve from 0.91254\n",
            "Epoch 13/200\n",
            "619/619 [==============================] - 68s 109ms/step - loss: 0.1665 - accuracy: 0.9253 - val_loss: 0.1210 - val_accuracy: 0.9529\n",
            "\n",
            "Epoch 00013: val_accuracy improved from 0.91254 to 0.95288, saving model to /content/drive/MyDrive/building1/mod26marchPart1_10slots_lstm/best_model.pkl\n"
          ],
          "name": "stdout"
        },
        {
          "output_type": "stream",
          "text": [
            "WARNING:absl:Found untraced functions such as lstm_cell_2_layer_call_fn, lstm_cell_2_layer_call_and_return_conditional_losses, lstm_cell_2_layer_call_fn, lstm_cell_2_layer_call_and_return_conditional_losses, lstm_cell_2_layer_call_and_return_conditional_losses while saving (showing 5 of 5). These functions will not be directly callable after loading.\n",
            "WARNING:absl:Found untraced functions such as lstm_cell_2_layer_call_fn, lstm_cell_2_layer_call_and_return_conditional_losses, lstm_cell_2_layer_call_fn, lstm_cell_2_layer_call_and_return_conditional_losses, lstm_cell_2_layer_call_and_return_conditional_losses while saving (showing 5 of 5). These functions will not be directly callable after loading.\n"
          ],
          "name": "stderr"
        },
        {
          "output_type": "stream",
          "text": [
            "INFO:tensorflow:Assets written to: /content/drive/MyDrive/building1/mod26marchPart1_10slots_lstm/best_model.pkl/assets\n"
          ],
          "name": "stdout"
        },
        {
          "output_type": "stream",
          "text": [
            "INFO:tensorflow:Assets written to: /content/drive/MyDrive/building1/mod26marchPart1_10slots_lstm/best_model.pkl/assets\n"
          ],
          "name": "stderr"
        },
        {
          "output_type": "stream",
          "text": [
            "Epoch 14/200\n",
            "619/619 [==============================] - 68s 110ms/step - loss: 0.1587 - accuracy: 0.9304 - val_loss: 0.2489 - val_accuracy: 0.8964\n",
            "\n",
            "Epoch 00014: val_accuracy did not improve from 0.95288\n",
            "Epoch 15/200\n",
            "619/619 [==============================] - 57s 92ms/step - loss: 0.1517 - accuracy: 0.9372 - val_loss: 0.1259 - val_accuracy: 0.9500\n",
            "\n",
            "Epoch 00015: val_accuracy did not improve from 0.95288\n",
            "Epoch 16/200\n",
            "619/619 [==============================] - 58s 94ms/step - loss: 0.1364 - accuracy: 0.9400 - val_loss: 0.1113 - val_accuracy: 0.9554\n",
            "\n",
            "Epoch 00016: val_accuracy improved from 0.95288 to 0.95542, saving model to /content/drive/MyDrive/building1/mod26marchPart1_10slots_lstm/best_model.pkl\n"
          ],
          "name": "stdout"
        },
        {
          "output_type": "stream",
          "text": [
            "WARNING:absl:Found untraced functions such as lstm_cell_2_layer_call_fn, lstm_cell_2_layer_call_and_return_conditional_losses, lstm_cell_2_layer_call_fn, lstm_cell_2_layer_call_and_return_conditional_losses, lstm_cell_2_layer_call_and_return_conditional_losses while saving (showing 5 of 5). These functions will not be directly callable after loading.\n",
            "WARNING:absl:Found untraced functions such as lstm_cell_2_layer_call_fn, lstm_cell_2_layer_call_and_return_conditional_losses, lstm_cell_2_layer_call_fn, lstm_cell_2_layer_call_and_return_conditional_losses, lstm_cell_2_layer_call_and_return_conditional_losses while saving (showing 5 of 5). These functions will not be directly callable after loading.\n"
          ],
          "name": "stderr"
        },
        {
          "output_type": "stream",
          "text": [
            "INFO:tensorflow:Assets written to: /content/drive/MyDrive/building1/mod26marchPart1_10slots_lstm/best_model.pkl/assets\n"
          ],
          "name": "stdout"
        },
        {
          "output_type": "stream",
          "text": [
            "INFO:tensorflow:Assets written to: /content/drive/MyDrive/building1/mod26marchPart1_10slots_lstm/best_model.pkl/assets\n"
          ],
          "name": "stderr"
        },
        {
          "output_type": "stream",
          "text": [
            "Epoch 17/200\n",
            "619/619 [==============================] - 68s 110ms/step - loss: 0.1228 - accuracy: 0.9485 - val_loss: 0.1687 - val_accuracy: 0.9208\n",
            "\n",
            "Epoch 00017: val_accuracy did not improve from 0.95542\n",
            "Epoch 18/200\n",
            "619/619 [==============================] - 68s 110ms/step - loss: 0.1436 - accuracy: 0.9395 - val_loss: 0.1330 - val_accuracy: 0.9456\n",
            "\n",
            "Epoch 00018: val_accuracy did not improve from 0.95542\n",
            "Epoch 19/200\n",
            "619/619 [==============================] - 68s 110ms/step - loss: 0.1587 - accuracy: 0.9324 - val_loss: 0.1426 - val_accuracy: 0.9338\n",
            "\n",
            "Epoch 00019: val_accuracy did not improve from 0.95542\n",
            "Epoch 20/200\n",
            "619/619 [==============================] - 68s 110ms/step - loss: 0.1225 - accuracy: 0.9468 - val_loss: 0.1274 - val_accuracy: 0.9424\n",
            "\n",
            "Epoch 00020: val_accuracy did not improve from 0.95542\n",
            "Epoch 21/200\n",
            "619/619 [==============================] - 68s 110ms/step - loss: 0.1355 - accuracy: 0.9440 - val_loss: 0.1309 - val_accuracy: 0.9445\n",
            "\n",
            "Epoch 00021: val_accuracy did not improve from 0.95542\n",
            "Epoch 22/200\n",
            "619/619 [==============================] - 67s 108ms/step - loss: 0.1445 - accuracy: 0.9378 - val_loss: 0.1165 - val_accuracy: 0.9536\n",
            "\n",
            "Epoch 00022: val_accuracy did not improve from 0.95542\n",
            "Epoch 23/200\n",
            "619/619 [==============================] - 68s 109ms/step - loss: 0.1177 - accuracy: 0.9508 - val_loss: 0.0941 - val_accuracy: 0.9638\n",
            "\n",
            "Epoch 00023: val_accuracy improved from 0.95542 to 0.96385, saving model to /content/drive/MyDrive/building1/mod26marchPart1_10slots_lstm/best_model.pkl\n"
          ],
          "name": "stdout"
        },
        {
          "output_type": "stream",
          "text": [
            "WARNING:absl:Found untraced functions such as lstm_cell_2_layer_call_fn, lstm_cell_2_layer_call_and_return_conditional_losses, lstm_cell_2_layer_call_fn, lstm_cell_2_layer_call_and_return_conditional_losses, lstm_cell_2_layer_call_and_return_conditional_losses while saving (showing 5 of 5). These functions will not be directly callable after loading.\n",
            "WARNING:absl:Found untraced functions such as lstm_cell_2_layer_call_fn, lstm_cell_2_layer_call_and_return_conditional_losses, lstm_cell_2_layer_call_fn, lstm_cell_2_layer_call_and_return_conditional_losses, lstm_cell_2_layer_call_and_return_conditional_losses while saving (showing 5 of 5). These functions will not be directly callable after loading.\n"
          ],
          "name": "stderr"
        },
        {
          "output_type": "stream",
          "text": [
            "INFO:tensorflow:Assets written to: /content/drive/MyDrive/building1/mod26marchPart1_10slots_lstm/best_model.pkl/assets\n"
          ],
          "name": "stdout"
        },
        {
          "output_type": "stream",
          "text": [
            "INFO:tensorflow:Assets written to: /content/drive/MyDrive/building1/mod26marchPart1_10slots_lstm/best_model.pkl/assets\n"
          ],
          "name": "stderr"
        },
        {
          "output_type": "stream",
          "text": [
            "Epoch 24/200\n",
            "619/619 [==============================] - 65s 105ms/step - loss: 0.1273 - accuracy: 0.9476 - val_loss: 0.1007 - val_accuracy: 0.9601\n",
            "\n",
            "Epoch 00024: val_accuracy did not improve from 0.96385\n",
            "Epoch 25/200\n",
            "619/619 [==============================] - 67s 109ms/step - loss: 0.1277 - accuracy: 0.9490 - val_loss: 0.2546 - val_accuracy: 0.8828\n",
            "\n",
            "Epoch 00025: val_accuracy did not improve from 0.96385\n",
            "Epoch 26/200\n",
            "619/619 [==============================] - 67s 108ms/step - loss: 0.1492 - accuracy: 0.9386 - val_loss: 0.1236 - val_accuracy: 0.9431\n",
            "\n",
            "Epoch 00026: val_accuracy did not improve from 0.96385\n",
            "Epoch 27/200\n",
            "619/619 [==============================] - 68s 109ms/step - loss: 0.1232 - accuracy: 0.9477 - val_loss: 0.0839 - val_accuracy: 0.9709\n",
            "\n",
            "Epoch 00027: val_accuracy improved from 0.96385 to 0.97093, saving model to /content/drive/MyDrive/building1/mod26marchPart1_10slots_lstm/best_model.pkl\n"
          ],
          "name": "stdout"
        },
        {
          "output_type": "stream",
          "text": [
            "WARNING:absl:Found untraced functions such as lstm_cell_2_layer_call_fn, lstm_cell_2_layer_call_and_return_conditional_losses, lstm_cell_2_layer_call_fn, lstm_cell_2_layer_call_and_return_conditional_losses, lstm_cell_2_layer_call_and_return_conditional_losses while saving (showing 5 of 5). These functions will not be directly callable after loading.\n",
            "WARNING:absl:Found untraced functions such as lstm_cell_2_layer_call_fn, lstm_cell_2_layer_call_and_return_conditional_losses, lstm_cell_2_layer_call_fn, lstm_cell_2_layer_call_and_return_conditional_losses, lstm_cell_2_layer_call_and_return_conditional_losses while saving (showing 5 of 5). These functions will not be directly callable after loading.\n"
          ],
          "name": "stderr"
        },
        {
          "output_type": "stream",
          "text": [
            "INFO:tensorflow:Assets written to: /content/drive/MyDrive/building1/mod26marchPart1_10slots_lstm/best_model.pkl/assets\n"
          ],
          "name": "stdout"
        },
        {
          "output_type": "stream",
          "text": [
            "INFO:tensorflow:Assets written to: /content/drive/MyDrive/building1/mod26marchPart1_10slots_lstm/best_model.pkl/assets\n"
          ],
          "name": "stderr"
        },
        {
          "output_type": "stream",
          "text": [
            "Epoch 28/200\n",
            "619/619 [==============================] - 67s 107ms/step - loss: 0.0877 - accuracy: 0.9652 - val_loss: 0.3069 - val_accuracy: 0.8671\n",
            "\n",
            "Epoch 00028: val_accuracy did not improve from 0.97093\n",
            "Epoch 29/200\n",
            "619/619 [==============================] - 68s 109ms/step - loss: 0.1943 - accuracy: 0.9169 - val_loss: 0.1223 - val_accuracy: 0.9495\n",
            "\n",
            "Epoch 00029: val_accuracy did not improve from 0.97093\n",
            "Epoch 30/200\n",
            "619/619 [==============================] - 73s 118ms/step - loss: 0.1169 - accuracy: 0.9507 - val_loss: 0.0971 - val_accuracy: 0.9587\n",
            "\n",
            "Epoch 00030: val_accuracy did not improve from 0.97093\n",
            "Epoch 31/200\n",
            "619/619 [==============================] - 70s 113ms/step - loss: 0.1264 - accuracy: 0.9488 - val_loss: 0.0925 - val_accuracy: 0.9603\n",
            "\n",
            "Epoch 00031: val_accuracy did not improve from 0.97093\n",
            "Epoch 32/200\n",
            "619/619 [==============================] - 69s 112ms/step - loss: 0.1024 - accuracy: 0.9593 - val_loss: 0.0833 - val_accuracy: 0.9721\n",
            "\n",
            "Epoch 00032: val_accuracy improved from 0.97093 to 0.97211, saving model to /content/drive/MyDrive/building1/mod26marchPart1_10slots_lstm/best_model.pkl\n"
          ],
          "name": "stdout"
        },
        {
          "output_type": "stream",
          "text": [
            "WARNING:absl:Found untraced functions such as lstm_cell_2_layer_call_fn, lstm_cell_2_layer_call_and_return_conditional_losses, lstm_cell_2_layer_call_fn, lstm_cell_2_layer_call_and_return_conditional_losses, lstm_cell_2_layer_call_and_return_conditional_losses while saving (showing 5 of 5). These functions will not be directly callable after loading.\n",
            "WARNING:absl:Found untraced functions such as lstm_cell_2_layer_call_fn, lstm_cell_2_layer_call_and_return_conditional_losses, lstm_cell_2_layer_call_fn, lstm_cell_2_layer_call_and_return_conditional_losses, lstm_cell_2_layer_call_and_return_conditional_losses while saving (showing 5 of 5). These functions will not be directly callable after loading.\n"
          ],
          "name": "stderr"
        },
        {
          "output_type": "stream",
          "text": [
            "INFO:tensorflow:Assets written to: /content/drive/MyDrive/building1/mod26marchPart1_10slots_lstm/best_model.pkl/assets\n"
          ],
          "name": "stdout"
        },
        {
          "output_type": "stream",
          "text": [
            "INFO:tensorflow:Assets written to: /content/drive/MyDrive/building1/mod26marchPart1_10slots_lstm/best_model.pkl/assets\n"
          ],
          "name": "stderr"
        },
        {
          "output_type": "stream",
          "text": [
            "Epoch 33/200\n",
            "619/619 [==============================] - 71s 114ms/step - loss: 0.0935 - accuracy: 0.9631 - val_loss: 0.1402 - val_accuracy: 0.9335\n",
            "\n",
            "Epoch 00033: val_accuracy did not improve from 0.97211\n",
            "Epoch 34/200\n",
            "619/619 [==============================] - 70s 113ms/step - loss: 0.1022 - accuracy: 0.9587 - val_loss: 0.2655 - val_accuracy: 0.9067\n",
            "\n",
            "Epoch 00034: val_accuracy did not improve from 0.97211\n",
            "Epoch 35/200\n",
            "619/619 [==============================] - 72s 116ms/step - loss: 0.1419 - accuracy: 0.9484 - val_loss: 0.0603 - val_accuracy: 0.9755\n",
            "\n",
            "Epoch 00035: val_accuracy improved from 0.97211 to 0.97547, saving model to /content/drive/MyDrive/building1/mod26marchPart1_10slots_lstm/best_model.pkl\n"
          ],
          "name": "stdout"
        },
        {
          "output_type": "stream",
          "text": [
            "WARNING:absl:Found untraced functions such as lstm_cell_2_layer_call_fn, lstm_cell_2_layer_call_and_return_conditional_losses, lstm_cell_2_layer_call_fn, lstm_cell_2_layer_call_and_return_conditional_losses, lstm_cell_2_layer_call_and_return_conditional_losses while saving (showing 5 of 5). These functions will not be directly callable after loading.\n",
            "WARNING:absl:Found untraced functions such as lstm_cell_2_layer_call_fn, lstm_cell_2_layer_call_and_return_conditional_losses, lstm_cell_2_layer_call_fn, lstm_cell_2_layer_call_and_return_conditional_losses, lstm_cell_2_layer_call_and_return_conditional_losses while saving (showing 5 of 5). These functions will not be directly callable after loading.\n"
          ],
          "name": "stderr"
        },
        {
          "output_type": "stream",
          "text": [
            "INFO:tensorflow:Assets written to: /content/drive/MyDrive/building1/mod26marchPart1_10slots_lstm/best_model.pkl/assets\n"
          ],
          "name": "stdout"
        },
        {
          "output_type": "stream",
          "text": [
            "INFO:tensorflow:Assets written to: /content/drive/MyDrive/building1/mod26marchPart1_10slots_lstm/best_model.pkl/assets\n"
          ],
          "name": "stderr"
        },
        {
          "output_type": "stream",
          "text": [
            "Epoch 36/200\n",
            "619/619 [==============================] - 67s 109ms/step - loss: 0.1206 - accuracy: 0.9500 - val_loss: 0.2549 - val_accuracy: 0.8978\n",
            "\n",
            "Epoch 00036: val_accuracy did not improve from 0.97547\n",
            "Epoch 37/200\n",
            "619/619 [==============================] - 70s 114ms/step - loss: 0.0978 - accuracy: 0.9637 - val_loss: 0.1015 - val_accuracy: 0.9529\n",
            "\n",
            "Epoch 00037: val_accuracy did not improve from 0.97547\n",
            "Epoch 38/200\n",
            "619/619 [==============================] - 68s 110ms/step - loss: 0.1135 - accuracy: 0.9524 - val_loss: 0.0853 - val_accuracy: 0.9558\n",
            "\n",
            "Epoch 00038: val_accuracy did not improve from 0.97547\n",
            "Epoch 39/200\n",
            "619/619 [==============================] - 60s 97ms/step - loss: 0.0844 - accuracy: 0.9656 - val_loss: 0.0862 - val_accuracy: 0.9623\n",
            "\n",
            "Epoch 00039: val_accuracy did not improve from 0.97547\n",
            "Epoch 40/200\n",
            "619/619 [==============================] - 62s 100ms/step - loss: 0.0773 - accuracy: 0.9690 - val_loss: 0.0574 - val_accuracy: 0.9756\n",
            "\n",
            "Epoch 00040: val_accuracy improved from 0.97547 to 0.97564, saving model to /content/drive/MyDrive/building1/mod26marchPart1_10slots_lstm/best_model.pkl\n"
          ],
          "name": "stdout"
        },
        {
          "output_type": "stream",
          "text": [
            "WARNING:absl:Found untraced functions such as lstm_cell_2_layer_call_fn, lstm_cell_2_layer_call_and_return_conditional_losses, lstm_cell_2_layer_call_fn, lstm_cell_2_layer_call_and_return_conditional_losses, lstm_cell_2_layer_call_and_return_conditional_losses while saving (showing 5 of 5). These functions will not be directly callable after loading.\n",
            "WARNING:absl:Found untraced functions such as lstm_cell_2_layer_call_fn, lstm_cell_2_layer_call_and_return_conditional_losses, lstm_cell_2_layer_call_fn, lstm_cell_2_layer_call_and_return_conditional_losses, lstm_cell_2_layer_call_and_return_conditional_losses while saving (showing 5 of 5). These functions will not be directly callable after loading.\n"
          ],
          "name": "stderr"
        },
        {
          "output_type": "stream",
          "text": [
            "INFO:tensorflow:Assets written to: /content/drive/MyDrive/building1/mod26marchPart1_10slots_lstm/best_model.pkl/assets\n"
          ],
          "name": "stdout"
        },
        {
          "output_type": "stream",
          "text": [
            "INFO:tensorflow:Assets written to: /content/drive/MyDrive/building1/mod26marchPart1_10slots_lstm/best_model.pkl/assets\n"
          ],
          "name": "stderr"
        },
        {
          "output_type": "stream",
          "text": [
            "Epoch 41/200\n",
            "619/619 [==============================] - 70s 114ms/step - loss: 0.0892 - accuracy: 0.9664 - val_loss: 0.0855 - val_accuracy: 0.9653\n",
            "\n",
            "Epoch 00041: val_accuracy did not improve from 0.97564\n",
            "Epoch 42/200\n",
            "619/619 [==============================] - 71s 114ms/step - loss: 0.0622 - accuracy: 0.9765 - val_loss: 0.0548 - val_accuracy: 0.9796\n",
            "\n",
            "Epoch 00042: val_accuracy improved from 0.97564 to 0.97960, saving model to /content/drive/MyDrive/building1/mod26marchPart1_10slots_lstm/best_model.pkl\n"
          ],
          "name": "stdout"
        },
        {
          "output_type": "stream",
          "text": [
            "WARNING:absl:Found untraced functions such as lstm_cell_2_layer_call_fn, lstm_cell_2_layer_call_and_return_conditional_losses, lstm_cell_2_layer_call_fn, lstm_cell_2_layer_call_and_return_conditional_losses, lstm_cell_2_layer_call_and_return_conditional_losses while saving (showing 5 of 5). These functions will not be directly callable after loading.\n",
            "WARNING:absl:Found untraced functions such as lstm_cell_2_layer_call_fn, lstm_cell_2_layer_call_and_return_conditional_losses, lstm_cell_2_layer_call_fn, lstm_cell_2_layer_call_and_return_conditional_losses, lstm_cell_2_layer_call_and_return_conditional_losses while saving (showing 5 of 5). These functions will not be directly callable after loading.\n"
          ],
          "name": "stderr"
        },
        {
          "output_type": "stream",
          "text": [
            "INFO:tensorflow:Assets written to: /content/drive/MyDrive/building1/mod26marchPart1_10slots_lstm/best_model.pkl/assets\n"
          ],
          "name": "stdout"
        },
        {
          "output_type": "stream",
          "text": [
            "INFO:tensorflow:Assets written to: /content/drive/MyDrive/building1/mod26marchPart1_10slots_lstm/best_model.pkl/assets\n"
          ],
          "name": "stderr"
        },
        {
          "output_type": "stream",
          "text": [
            "Epoch 43/200\n",
            "619/619 [==============================] - 71s 114ms/step - loss: 0.0535 - accuracy: 0.9792 - val_loss: 0.0367 - val_accuracy: 0.9875\n",
            "\n",
            "Epoch 00043: val_accuracy improved from 0.97960 to 0.98750, saving model to /content/drive/MyDrive/building1/mod26marchPart1_10slots_lstm/best_model.pkl\n"
          ],
          "name": "stdout"
        },
        {
          "output_type": "stream",
          "text": [
            "WARNING:absl:Found untraced functions such as lstm_cell_2_layer_call_fn, lstm_cell_2_layer_call_and_return_conditional_losses, lstm_cell_2_layer_call_fn, lstm_cell_2_layer_call_and_return_conditional_losses, lstm_cell_2_layer_call_and_return_conditional_losses while saving (showing 5 of 5). These functions will not be directly callable after loading.\n",
            "WARNING:absl:Found untraced functions such as lstm_cell_2_layer_call_fn, lstm_cell_2_layer_call_and_return_conditional_losses, lstm_cell_2_layer_call_fn, lstm_cell_2_layer_call_and_return_conditional_losses, lstm_cell_2_layer_call_and_return_conditional_losses while saving (showing 5 of 5). These functions will not be directly callable after loading.\n"
          ],
          "name": "stderr"
        },
        {
          "output_type": "stream",
          "text": [
            "INFO:tensorflow:Assets written to: /content/drive/MyDrive/building1/mod26marchPart1_10slots_lstm/best_model.pkl/assets\n"
          ],
          "name": "stdout"
        },
        {
          "output_type": "stream",
          "text": [
            "INFO:tensorflow:Assets written to: /content/drive/MyDrive/building1/mod26marchPart1_10slots_lstm/best_model.pkl/assets\n"
          ],
          "name": "stderr"
        },
        {
          "output_type": "stream",
          "text": [
            "Epoch 44/200\n",
            "619/619 [==============================] - 71s 114ms/step - loss: 0.0749 - accuracy: 0.9701 - val_loss: 0.1280 - val_accuracy: 0.9367\n",
            "\n",
            "Epoch 00044: val_accuracy did not improve from 0.98750\n",
            "Epoch 45/200\n",
            "619/619 [==============================] - 70s 113ms/step - loss: 0.0852 - accuracy: 0.9670 - val_loss: 0.0533 - val_accuracy: 0.9829\n",
            "\n",
            "Epoch 00045: val_accuracy did not improve from 0.98750\n",
            "Epoch 46/200\n",
            "619/619 [==============================] - 69s 111ms/step - loss: 0.0790 - accuracy: 0.9692 - val_loss: 0.1550 - val_accuracy: 0.9235\n",
            "\n",
            "Epoch 00046: val_accuracy did not improve from 0.98750\n",
            "Epoch 47/200\n",
            "619/619 [==============================] - 70s 113ms/step - loss: 0.0683 - accuracy: 0.9738 - val_loss: 0.0406 - val_accuracy: 0.9865\n",
            "\n",
            "Epoch 00047: val_accuracy did not improve from 0.98750\n",
            "Epoch 48/200\n",
            "619/619 [==============================] - 70s 113ms/step - loss: 0.0882 - accuracy: 0.9676 - val_loss: 0.0489 - val_accuracy: 0.9847\n",
            "\n",
            "Epoch 00048: val_accuracy did not improve from 0.98750\n",
            "Epoch 49/200\n",
            "619/619 [==============================] - 70s 113ms/step - loss: 0.0722 - accuracy: 0.9717 - val_loss: 0.1009 - val_accuracy: 0.9512\n",
            "\n",
            "Epoch 00049: val_accuracy did not improve from 0.98750\n",
            "Epoch 50/200\n",
            "619/619 [==============================] - 69s 112ms/step - loss: 0.0607 - accuracy: 0.9766 - val_loss: 0.1579 - val_accuracy: 0.9210\n",
            "\n",
            "Epoch 00050: val_accuracy did not improve from 0.98750\n",
            "Epoch 51/200\n",
            "619/619 [==============================] - 68s 110ms/step - loss: 0.1417 - accuracy: 0.9334 - val_loss: 0.1136 - val_accuracy: 0.9511\n",
            "\n",
            "Epoch 00051: val_accuracy did not improve from 0.98750\n",
            "Epoch 52/200\n",
            "619/619 [==============================] - 69s 111ms/step - loss: 0.1050 - accuracy: 0.9495 - val_loss: 0.2457 - val_accuracy: 0.8880\n",
            "\n",
            "Epoch 00052: val_accuracy did not improve from 0.98750\n",
            "Epoch 53/200\n",
            "619/619 [==============================] - 69s 112ms/step - loss: 0.1341 - accuracy: 0.9408 - val_loss: 0.1343 - val_accuracy: 0.9421\n",
            "\n",
            "Epoch 00053: val_accuracy did not improve from 0.98750\n",
            "Epoch 54/200\n",
            "619/619 [==============================] - 69s 112ms/step - loss: 0.1178 - accuracy: 0.9445 - val_loss: 0.0614 - val_accuracy: 0.9749\n",
            "\n",
            "Epoch 00054: val_accuracy did not improve from 0.98750\n",
            "Epoch 55/200\n",
            "619/619 [==============================] - 69s 111ms/step - loss: 0.0784 - accuracy: 0.9671 - val_loss: 0.1548 - val_accuracy: 0.9261\n",
            "\n",
            "Epoch 00055: val_accuracy did not improve from 0.98750\n",
            "Epoch 56/200\n",
            "619/619 [==============================] - 69s 112ms/step - loss: 0.0780 - accuracy: 0.9672 - val_loss: 0.1679 - val_accuracy: 0.9516\n",
            "\n",
            "Epoch 00056: val_accuracy did not improve from 0.98750\n",
            "Epoch 57/200\n",
            "619/619 [==============================] - 70s 113ms/step - loss: 0.0974 - accuracy: 0.9634 - val_loss: 0.1389 - val_accuracy: 0.9307\n",
            "\n",
            "Epoch 00057: val_accuracy did not improve from 0.98750\n",
            "Epoch 58/200\n",
            "619/619 [==============================] - 71s 115ms/step - loss: 0.1118 - accuracy: 0.9561 - val_loss: 0.1042 - val_accuracy: 0.9572\n",
            "\n",
            "Epoch 00058: val_accuracy did not improve from 0.98750\n",
            "Epoch 59/200\n",
            "619/619 [==============================] - 72s 117ms/step - loss: 0.1249 - accuracy: 0.9459 - val_loss: 0.1128 - val_accuracy: 0.9509\n",
            "\n",
            "Epoch 00059: val_accuracy did not improve from 0.98750\n",
            "Epoch 60/200\n",
            "619/619 [==============================] - 70s 113ms/step - loss: 0.1323 - accuracy: 0.9414 - val_loss: 0.3366 - val_accuracy: 0.8579\n",
            "\n",
            "Epoch 00060: val_accuracy did not improve from 0.98750\n",
            "Epoch 61/200\n",
            "619/619 [==============================] - 70s 114ms/step - loss: 0.1295 - accuracy: 0.9451 - val_loss: 0.0778 - val_accuracy: 0.9727\n",
            "\n",
            "Epoch 00061: val_accuracy did not improve from 0.98750\n",
            "Epoch 62/200\n",
            "619/619 [==============================] - 70s 113ms/step - loss: 0.0938 - accuracy: 0.9613 - val_loss: 0.0779 - val_accuracy: 0.9723\n",
            "\n",
            "Epoch 00062: val_accuracy did not improve from 0.98750\n",
            "Epoch 63/200\n",
            "619/619 [==============================] - 70s 113ms/step - loss: 0.0848 - accuracy: 0.9661 - val_loss: 0.1006 - val_accuracy: 0.9621\n",
            "\n",
            "Epoch 00063: val_accuracy did not improve from 0.98750\n",
            "Epoch 64/200\n",
            "619/619 [==============================] - 71s 114ms/step - loss: 0.0778 - accuracy: 0.9708 - val_loss: 0.1142 - val_accuracy: 0.9520\n",
            "\n",
            "Epoch 00064: val_accuracy did not improve from 0.98750\n",
            "Epoch 65/200\n",
            "619/619 [==============================] - 71s 114ms/step - loss: 0.1366 - accuracy: 0.9417 - val_loss: 0.2031 - val_accuracy: 0.9099\n",
            "\n",
            "Epoch 00065: val_accuracy did not improve from 0.98750\n",
            "Epoch 66/200\n",
            "619/619 [==============================] - 72s 116ms/step - loss: 0.1344 - accuracy: 0.9397 - val_loss: 0.1523 - val_accuracy: 0.9278\n",
            "\n",
            "Epoch 00066: val_accuracy did not improve from 0.98750\n",
            "Epoch 67/200\n",
            "619/619 [==============================] - 69s 112ms/step - loss: 0.0956 - accuracy: 0.9610 - val_loss: 0.0689 - val_accuracy: 0.9758\n",
            "\n",
            "Epoch 00067: val_accuracy did not improve from 0.98750\n",
            "Epoch 68/200\n",
            "619/619 [==============================] - 69s 111ms/step - loss: 0.1372 - accuracy: 0.9474 - val_loss: 0.0767 - val_accuracy: 0.9741\n",
            "\n",
            "Epoch 00068: val_accuracy did not improve from 0.98750\n",
            "Epoch 69/200\n",
            "619/619 [==============================] - 64s 104ms/step - loss: 0.1224 - accuracy: 0.9499 - val_loss: 0.1642 - val_accuracy: 0.9257\n",
            "\n",
            "Epoch 00069: val_accuracy did not improve from 0.98750\n",
            "Epoch 70/200\n",
            "619/619 [==============================] - 65s 105ms/step - loss: 0.1448 - accuracy: 0.9309 - val_loss: 0.1481 - val_accuracy: 0.9254\n",
            "\n",
            "Epoch 00070: val_accuracy did not improve from 0.98750\n",
            "Epoch 71/200\n",
            "619/619 [==============================] - 70s 113ms/step - loss: 0.1144 - accuracy: 0.9499 - val_loss: 0.1902 - val_accuracy: 0.9252\n",
            "\n",
            "Epoch 00071: val_accuracy did not improve from 0.98750\n",
            "Epoch 72/200\n",
            "619/619 [==============================] - 69s 111ms/step - loss: 0.0953 - accuracy: 0.9604 - val_loss: 0.1877 - val_accuracy: 0.9107\n",
            "\n",
            "Epoch 00072: val_accuracy did not improve from 0.98750\n",
            "Epoch 73/200\n",
            "619/619 [==============================] - 69s 112ms/step - loss: 0.1119 - accuracy: 0.9558 - val_loss: 0.1708 - val_accuracy: 0.9158\n",
            "\n",
            "Epoch 00073: val_accuracy did not improve from 0.98750\n",
            "Epoch 74/200\n",
            "619/619 [==============================] - 69s 112ms/step - loss: 0.0983 - accuracy: 0.9627 - val_loss: 0.0884 - val_accuracy: 0.9660\n",
            "\n",
            "Epoch 00074: val_accuracy did not improve from 0.98750\n",
            "Epoch 75/200\n",
            "619/619 [==============================] - 70s 113ms/step - loss: 0.0839 - accuracy: 0.9671 - val_loss: 0.0969 - val_accuracy: 0.9604\n",
            "\n",
            "Epoch 00075: val_accuracy did not improve from 0.98750\n",
            "Epoch 76/200\n",
            "619/619 [==============================] - 70s 113ms/step - loss: 0.0987 - accuracy: 0.9588 - val_loss: 0.0993 - val_accuracy: 0.9581\n",
            "\n",
            "Epoch 00076: val_accuracy did not improve from 0.98750\n",
            "Epoch 77/200\n",
            "619/619 [==============================] - 72s 117ms/step - loss: 0.0890 - accuracy: 0.9634 - val_loss: 0.1053 - val_accuracy: 0.9542\n",
            "\n",
            "Epoch 00077: val_accuracy did not improve from 0.98750\n",
            "Epoch 78/200\n",
            "619/619 [==============================] - 73s 117ms/step - loss: 0.0855 - accuracy: 0.9651 - val_loss: 0.0660 - val_accuracy: 0.9764\n",
            "\n",
            "Epoch 00078: val_accuracy did not improve from 0.98750\n",
            "Epoch 79/200\n",
            "619/619 [==============================] - 72s 116ms/step - loss: 0.1281 - accuracy: 0.9450 - val_loss: 0.1761 - val_accuracy: 0.9140\n",
            "\n",
            "Epoch 00079: val_accuracy did not improve from 0.98750\n",
            "Epoch 80/200\n",
            "619/619 [==============================] - 72s 116ms/step - loss: 0.1248 - accuracy: 0.9435 - val_loss: 0.1013 - val_accuracy: 0.9604\n",
            "\n",
            "Epoch 00080: val_accuracy did not improve from 0.98750\n",
            "Epoch 81/200\n",
            "619/619 [==============================] - 71s 115ms/step - loss: 0.1035 - accuracy: 0.9565 - val_loss: 0.1437 - val_accuracy: 0.9331\n",
            "\n",
            "Epoch 00081: val_accuracy did not improve from 0.98750\n",
            "Epoch 82/200\n",
            "619/619 [==============================] - 72s 117ms/step - loss: 0.1224 - accuracy: 0.9447 - val_loss: 0.1276 - val_accuracy: 0.9447\n",
            "\n",
            "Epoch 00082: val_accuracy did not improve from 0.98750\n",
            "Epoch 83/200\n",
            "619/619 [==============================] - 72s 116ms/step - loss: 0.1011 - accuracy: 0.9559 - val_loss: 0.1023 - val_accuracy: 0.9571\n",
            "\n",
            "Epoch 00083: val_accuracy did not improve from 0.98750\n",
            "Epoch 84/200\n",
            "619/619 [==============================] - 72s 116ms/step - loss: 0.0906 - accuracy: 0.9633 - val_loss: 0.1077 - val_accuracy: 0.9572\n",
            "\n",
            "Epoch 00084: val_accuracy did not improve from 0.98750\n",
            "Epoch 85/200\n",
            "619/619 [==============================] - 71s 115ms/step - loss: 0.0899 - accuracy: 0.9649 - val_loss: 0.0723 - val_accuracy: 0.9734\n",
            "\n",
            "Epoch 00085: val_accuracy did not improve from 0.98750\n",
            "Epoch 86/200\n",
            "619/619 [==============================] - 72s 116ms/step - loss: 0.0885 - accuracy: 0.9653 - val_loss: 0.0817 - val_accuracy: 0.9670\n",
            "\n",
            "Epoch 00086: val_accuracy did not improve from 0.98750\n",
            "Epoch 87/200\n",
            "619/619 [==============================] - 72s 116ms/step - loss: 0.0879 - accuracy: 0.9638 - val_loss: 0.1024 - val_accuracy: 0.9508\n",
            "\n",
            "Epoch 00087: val_accuracy did not improve from 0.98750\n",
            "Epoch 88/200\n",
            "619/619 [==============================] - 72s 117ms/step - loss: 0.0724 - accuracy: 0.9719 - val_loss: 0.4856 - val_accuracy: 0.8699\n",
            "\n",
            "Epoch 00088: val_accuracy did not improve from 0.98750\n",
            "Epoch 89/200\n",
            "619/619 [==============================] - 71s 114ms/step - loss: 0.1242 - accuracy: 0.9490 - val_loss: 0.0985 - val_accuracy: 0.9521\n",
            "\n",
            "Epoch 00089: val_accuracy did not improve from 0.98750\n",
            "Epoch 90/200\n",
            "619/619 [==============================] - 71s 115ms/step - loss: 0.0779 - accuracy: 0.9687 - val_loss: 0.1093 - val_accuracy: 0.9533\n",
            "\n",
            "Epoch 00090: val_accuracy did not improve from 0.98750\n",
            "Epoch 91/200\n",
            "619/619 [==============================] - 69s 111ms/step - loss: 0.0805 - accuracy: 0.9676 - val_loss: 0.0645 - val_accuracy: 0.9765\n",
            "\n",
            "Epoch 00091: val_accuracy did not improve from 0.98750\n",
            "Epoch 92/200\n",
            "619/619 [==============================] - 67s 109ms/step - loss: 0.0598 - accuracy: 0.9767 - val_loss: 0.0828 - val_accuracy: 0.9718\n",
            "\n",
            "Epoch 00092: val_accuracy did not improve from 0.98750\n",
            "Epoch 93/200\n",
            "619/619 [==============================] - 57s 92ms/step - loss: 0.0710 - accuracy: 0.9723 - val_loss: 0.0894 - val_accuracy: 0.9601\n",
            "\n",
            "Epoch 00093: val_accuracy did not improve from 0.98750\n",
            "Epoch 94/200\n",
            "619/619 [==============================] - 58s 94ms/step - loss: 0.0681 - accuracy: 0.9739 - val_loss: 0.0704 - val_accuracy: 0.9750\n",
            "\n",
            "Epoch 00094: val_accuracy did not improve from 0.98750\n",
            "Epoch 95/200\n",
            "619/619 [==============================] - 69s 112ms/step - loss: 0.0689 - accuracy: 0.9732 - val_loss: 0.0649 - val_accuracy: 0.9756\n",
            "\n",
            "Epoch 00095: val_accuracy did not improve from 0.98750\n",
            "Epoch 96/200\n",
            "619/619 [==============================] - 70s 113ms/step - loss: 0.1292 - accuracy: 0.9527 - val_loss: 0.0813 - val_accuracy: 0.9685\n",
            "\n",
            "Epoch 00096: val_accuracy did not improve from 0.98750\n",
            "Epoch 97/200\n",
            "619/619 [==============================] - 71s 114ms/step - loss: 0.0636 - accuracy: 0.9747 - val_loss: 0.1116 - val_accuracy: 0.9475\n",
            "\n",
            "Epoch 00097: val_accuracy did not improve from 0.98750\n",
            "Epoch 98/200\n",
            "619/619 [==============================] - 71s 114ms/step - loss: 0.0578 - accuracy: 0.9780 - val_loss: 0.0555 - val_accuracy: 0.9798\n",
            "\n",
            "Epoch 00098: val_accuracy did not improve from 0.98750\n",
            "Epoch 99/200\n",
            "619/619 [==============================] - 73s 118ms/step - loss: 0.0686 - accuracy: 0.9716 - val_loss: 0.1628 - val_accuracy: 0.9255\n",
            "\n",
            "Epoch 00099: val_accuracy did not improve from 0.98750\n",
            "Epoch 100/200\n",
            "619/619 [==============================] - 71s 115ms/step - loss: 0.1234 - accuracy: 0.9481 - val_loss: 0.0617 - val_accuracy: 0.9768\n",
            "\n",
            "Epoch 00100: val_accuracy did not improve from 0.98750\n",
            "Epoch 101/200\n",
            "619/619 [==============================] - 71s 115ms/step - loss: 0.0806 - accuracy: 0.9678 - val_loss: 0.0603 - val_accuracy: 0.9781\n",
            "\n",
            "Epoch 00101: val_accuracy did not improve from 0.98750\n",
            "Epoch 102/200\n",
            "619/619 [==============================] - 72s 116ms/step - loss: 0.0599 - accuracy: 0.9774 - val_loss: 0.0633 - val_accuracy: 0.9746\n",
            "\n",
            "Epoch 00102: val_accuracy did not improve from 0.98750\n",
            "Epoch 103/200\n",
            "619/619 [==============================] - 70s 113ms/step - loss: 0.0626 - accuracy: 0.9747 - val_loss: 0.0605 - val_accuracy: 0.9759\n",
            "\n",
            "Epoch 00103: val_accuracy did not improve from 0.98750\n",
            "Epoch 104/200\n",
            "619/619 [==============================] - 70s 114ms/step - loss: 0.0680 - accuracy: 0.9739 - val_loss: 0.0735 - val_accuracy: 0.9706\n",
            "\n",
            "Epoch 00104: val_accuracy did not improve from 0.98750\n",
            "Epoch 105/200\n",
            "619/619 [==============================] - 69s 112ms/step - loss: 0.0832 - accuracy: 0.9672 - val_loss: 0.1291 - val_accuracy: 0.9416\n",
            "\n",
            "Epoch 00105: val_accuracy did not improve from 0.98750\n",
            "Epoch 106/200\n",
            "619/619 [==============================] - 70s 113ms/step - loss: 0.1173 - accuracy: 0.9486 - val_loss: 0.0696 - val_accuracy: 0.9700\n",
            "\n",
            "Epoch 00106: val_accuracy did not improve from 0.98750\n",
            "Epoch 107/200\n",
            "619/619 [==============================] - 70s 113ms/step - loss: 0.0559 - accuracy: 0.9786 - val_loss: 0.0570 - val_accuracy: 0.9789\n",
            "\n",
            "Epoch 00107: val_accuracy did not improve from 0.98750\n",
            "Epoch 108/200\n",
            "619/619 [==============================] - 69s 112ms/step - loss: 0.0621 - accuracy: 0.9756 - val_loss: 0.0767 - val_accuracy: 0.9749\n",
            "\n",
            "Epoch 00108: val_accuracy did not improve from 0.98750\n",
            "Epoch 109/200\n",
            "619/619 [==============================] - 70s 113ms/step - loss: 0.0770 - accuracy: 0.9705 - val_loss: 0.0728 - val_accuracy: 0.9729\n",
            "\n",
            "Epoch 00109: val_accuracy did not improve from 0.98750\n",
            "Epoch 110/200\n",
            "619/619 [==============================] - 71s 115ms/step - loss: 0.0551 - accuracy: 0.9794 - val_loss: 0.0545 - val_accuracy: 0.9801\n",
            "\n",
            "Epoch 00110: val_accuracy did not improve from 0.98750\n",
            "Epoch 111/200\n",
            "619/619 [==============================] - 72s 116ms/step - loss: 0.0634 - accuracy: 0.9754 - val_loss: 0.0572 - val_accuracy: 0.9775\n",
            "\n",
            "Epoch 00111: val_accuracy did not improve from 0.98750\n",
            "Epoch 112/200\n",
            "619/619 [==============================] - 73s 118ms/step - loss: 0.0532 - accuracy: 0.9786 - val_loss: 0.0616 - val_accuracy: 0.9762\n",
            "\n",
            "Epoch 00112: val_accuracy did not improve from 0.98750\n",
            "Epoch 113/200\n",
            "619/619 [==============================] - 73s 118ms/step - loss: 0.0693 - accuracy: 0.9741 - val_loss: 0.1416 - val_accuracy: 0.9416\n",
            "\n",
            "Epoch 00113: val_accuracy did not improve from 0.98750\n",
            "Epoch 114/200\n",
            "619/619 [==============================] - 73s 119ms/step - loss: 0.0746 - accuracy: 0.9712 - val_loss: 0.0603 - val_accuracy: 0.9769\n",
            "\n",
            "Epoch 00114: val_accuracy did not improve from 0.98750\n",
            "Epoch 115/200\n",
            "619/619 [==============================] - 73s 117ms/step - loss: 0.0626 - accuracy: 0.9759 - val_loss: 0.1720 - val_accuracy: 0.9341\n",
            "\n",
            "Epoch 00115: val_accuracy did not improve from 0.98750\n",
            "Epoch 116/200\n",
            "619/619 [==============================] - 70s 114ms/step - loss: 0.0993 - accuracy: 0.9616 - val_loss: 0.0841 - val_accuracy: 0.9616\n",
            "\n",
            "Epoch 00116: val_accuracy did not improve from 0.98750\n",
            "Epoch 117/200\n",
            "619/619 [==============================] - 70s 114ms/step - loss: 0.0545 - accuracy: 0.9800 - val_loss: 0.1057 - val_accuracy: 0.9564\n",
            "\n",
            "Epoch 00117: val_accuracy did not improve from 0.98750\n",
            "Epoch 118/200\n",
            "619/619 [==============================] - 70s 113ms/step - loss: 0.1167 - accuracy: 0.9581 - val_loss: 0.0889 - val_accuracy: 0.9647\n",
            "\n",
            "Epoch 00118: val_accuracy did not improve from 0.98750\n",
            "Epoch 119/200\n",
            "619/619 [==============================] - 72s 117ms/step - loss: 0.0632 - accuracy: 0.9757 - val_loss: 0.0622 - val_accuracy: 0.9771\n",
            "\n",
            "Epoch 00119: val_accuracy did not improve from 0.98750\n",
            "Epoch 120/200\n",
            "619/619 [==============================] - 72s 117ms/step - loss: 0.0518 - accuracy: 0.9797 - val_loss: 0.0644 - val_accuracy: 0.9758\n",
            "\n",
            "Epoch 00120: val_accuracy did not improve from 0.98750\n",
            "Epoch 121/200\n",
            "619/619 [==============================] - 72s 117ms/step - loss: 0.0744 - accuracy: 0.9716 - val_loss: 0.0539 - val_accuracy: 0.9801\n",
            "\n",
            "Epoch 00121: val_accuracy did not improve from 0.98750\n",
            "Epoch 122/200\n",
            "619/619 [==============================] - 71s 115ms/step - loss: 0.0646 - accuracy: 0.9742 - val_loss: 0.0663 - val_accuracy: 0.9743\n",
            "\n",
            "Epoch 00122: val_accuracy did not improve from 0.98750\n",
            "Epoch 123/200\n",
            "619/619 [==============================] - 71s 115ms/step - loss: 0.0665 - accuracy: 0.9745 - val_loss: 0.1223 - val_accuracy: 0.9472\n",
            "\n",
            "Epoch 00123: val_accuracy did not improve from 0.98750\n",
            "Epoch 124/200\n",
            "619/619 [==============================] - 72s 116ms/step - loss: 0.0602 - accuracy: 0.9756 - val_loss: 0.0613 - val_accuracy: 0.9764\n",
            "\n",
            "Epoch 00124: val_accuracy did not improve from 0.98750\n",
            "Epoch 125/200\n",
            "619/619 [==============================] - 73s 117ms/step - loss: 0.0575 - accuracy: 0.9768 - val_loss: 0.0523 - val_accuracy: 0.9803\n",
            "\n",
            "Epoch 00125: val_accuracy did not improve from 0.98750\n",
            "Epoch 126/200\n",
            "619/619 [==============================] - 73s 117ms/step - loss: 0.0572 - accuracy: 0.9775 - val_loss: 0.0915 - val_accuracy: 0.9627\n",
            "\n",
            "Epoch 00126: val_accuracy did not improve from 0.98750\n",
            "Epoch 127/200\n",
            "619/619 [==============================] - 73s 118ms/step - loss: 0.0531 - accuracy: 0.9795 - val_loss: 0.0601 - val_accuracy: 0.9791\n",
            "\n",
            "Epoch 00127: val_accuracy did not improve from 0.98750\n",
            "Epoch 128/200\n",
            "619/619 [==============================] - 74s 119ms/step - loss: 0.0577 - accuracy: 0.9774 - val_loss: 0.0655 - val_accuracy: 0.9772\n",
            "\n",
            "Epoch 00128: val_accuracy did not improve from 0.98750\n",
            "Epoch 129/200\n",
            "619/619 [==============================] - 75s 120ms/step - loss: 0.0630 - accuracy: 0.9754 - val_loss: 0.0603 - val_accuracy: 0.9764\n",
            "\n",
            "Epoch 00129: val_accuracy did not improve from 0.98750\n",
            "Epoch 130/200\n",
            "619/619 [==============================] - 77s 124ms/step - loss: 0.0443 - accuracy: 0.9825 - val_loss: 0.1925 - val_accuracy: 0.9462\n",
            "\n",
            "Epoch 00130: val_accuracy did not improve from 0.98750\n",
            "Epoch 131/200\n",
            "619/619 [==============================] - 78s 126ms/step - loss: 0.1170 - accuracy: 0.9625 - val_loss: 0.0557 - val_accuracy: 0.9789\n",
            "\n",
            "Epoch 00131: val_accuracy did not improve from 0.98750\n",
            "Epoch 132/200\n",
            "619/619 [==============================] - 79s 128ms/step - loss: 0.0481 - accuracy: 0.9810 - val_loss: 0.0737 - val_accuracy: 0.9750\n",
            "\n",
            "Epoch 00132: val_accuracy did not improve from 0.98750\n",
            "Epoch 133/200\n",
            "619/619 [==============================] - 79s 128ms/step - loss: 0.0515 - accuracy: 0.9794 - val_loss: 0.0598 - val_accuracy: 0.9775\n",
            "\n",
            "Epoch 00133: val_accuracy did not improve from 0.98750\n",
            "Epoch 134/200\n",
            "619/619 [==============================] - 76s 124ms/step - loss: 0.0597 - accuracy: 0.9774 - val_loss: 0.0589 - val_accuracy: 0.9771\n",
            "\n",
            "Epoch 00134: val_accuracy did not improve from 0.98750\n",
            "Epoch 135/200\n",
            "619/619 [==============================] - 75s 121ms/step - loss: 0.0562 - accuracy: 0.9779 - val_loss: 0.0582 - val_accuracy: 0.9797\n",
            "\n",
            "Epoch 00135: val_accuracy did not improve from 0.98750\n",
            "Epoch 136/200\n",
            "619/619 [==============================] - 79s 127ms/step - loss: 0.0656 - accuracy: 0.9759 - val_loss: 0.5895 - val_accuracy: 0.8701\n",
            "\n",
            "Epoch 00136: val_accuracy did not improve from 0.98750\n",
            "Epoch 137/200\n",
            "619/619 [==============================] - 75s 122ms/step - loss: 0.0725 - accuracy: 0.9716 - val_loss: 0.0555 - val_accuracy: 0.9792\n",
            "\n",
            "Epoch 00137: val_accuracy did not improve from 0.98750\n",
            "Epoch 138/200\n",
            "619/619 [==============================] - 68s 111ms/step - loss: 0.0514 - accuracy: 0.9794 - val_loss: 0.0537 - val_accuracy: 0.9782\n",
            "\n",
            "Epoch 00138: val_accuracy did not improve from 0.98750\n",
            "Epoch 139/200\n",
            "619/619 [==============================] - 68s 109ms/step - loss: 0.0909 - accuracy: 0.9677 - val_loss: 0.3280 - val_accuracy: 0.9032\n",
            "\n",
            "Epoch 00139: val_accuracy did not improve from 0.98750\n",
            "Epoch 140/200\n",
            "619/619 [==============================] - 75s 121ms/step - loss: 0.0825 - accuracy: 0.9679 - val_loss: 0.0735 - val_accuracy: 0.9739\n",
            "\n",
            "Epoch 00140: val_accuracy did not improve from 0.98750\n",
            "Epoch 141/200\n",
            "619/619 [==============================] - 73s 118ms/step - loss: 0.1081 - accuracy: 0.9593 - val_loss: 0.0588 - val_accuracy: 0.9772\n",
            "\n",
            "Epoch 00141: val_accuracy did not improve from 0.98750\n",
            "Epoch 142/200\n",
            "619/619 [==============================] - 69s 112ms/step - loss: 0.0734 - accuracy: 0.9721 - val_loss: 0.0582 - val_accuracy: 0.9769\n",
            "\n",
            "Epoch 00142: val_accuracy did not improve from 0.98750\n",
            "Epoch 143/200\n",
            "619/619 [==============================] - 68s 109ms/step - loss: 0.0487 - accuracy: 0.9806 - val_loss: 0.1198 - val_accuracy: 0.9504\n",
            "\n",
            "Epoch 00143: val_accuracy did not improve from 0.98750\n",
            "Epoch 144/200\n",
            "619/619 [==============================] - 71s 114ms/step - loss: 0.0873 - accuracy: 0.9661 - val_loss: 0.0640 - val_accuracy: 0.9748\n",
            "\n",
            "Epoch 00144: val_accuracy did not improve from 0.98750\n",
            "Epoch 145/200\n",
            "619/619 [==============================] - 70s 114ms/step - loss: 0.0794 - accuracy: 0.9672 - val_loss: 0.0827 - val_accuracy: 0.9743\n",
            "\n",
            "Epoch 00145: val_accuracy did not improve from 0.98750\n",
            "Epoch 146/200\n",
            "619/619 [==============================] - 63s 102ms/step - loss: 0.1001 - accuracy: 0.9609 - val_loss: 0.0737 - val_accuracy: 0.9713\n",
            "\n",
            "Epoch 00146: val_accuracy did not improve from 0.98750\n",
            "Epoch 147/200\n",
            "619/619 [==============================] - 60s 97ms/step - loss: 0.0615 - accuracy: 0.9759 - val_loss: 0.0515 - val_accuracy: 0.9818\n",
            "\n",
            "Epoch 00147: val_accuracy did not improve from 0.98750\n",
            "Epoch 148/200\n",
            "619/619 [==============================] - 59s 95ms/step - loss: 0.0671 - accuracy: 0.9744 - val_loss: 0.0536 - val_accuracy: 0.9812\n",
            "\n",
            "Epoch 00148: val_accuracy did not improve from 0.98750\n",
            "Epoch 149/200\n",
            "619/619 [==============================] - 71s 115ms/step - loss: 0.0611 - accuracy: 0.9779 - val_loss: 0.4395 - val_accuracy: 0.8903\n",
            "\n",
            "Epoch 00149: val_accuracy did not improve from 0.98750\n",
            "Epoch 150/200\n",
            "619/619 [==============================] - 69s 112ms/step - loss: 0.1103 - accuracy: 0.9575 - val_loss: 0.0572 - val_accuracy: 0.9801\n",
            "\n",
            "Epoch 00150: val_accuracy did not improve from 0.98750\n",
            "Epoch 151/200\n",
            "619/619 [==============================] - 69s 112ms/step - loss: 0.0539 - accuracy: 0.9794 - val_loss: 0.0550 - val_accuracy: 0.9802\n",
            "\n",
            "Epoch 00151: val_accuracy did not improve from 0.98750\n",
            "Epoch 152/200\n",
            "619/619 [==============================] - 69s 111ms/step - loss: 0.0743 - accuracy: 0.9707 - val_loss: 0.1171 - val_accuracy: 0.9526\n",
            "\n",
            "Epoch 00152: val_accuracy did not improve from 0.98750\n",
            "Epoch 153/200\n",
            "619/619 [==============================] - 69s 111ms/step - loss: 0.0893 - accuracy: 0.9622 - val_loss: 0.0648 - val_accuracy: 0.9746\n",
            "\n",
            "Epoch 00153: val_accuracy did not improve from 0.98750\n",
            "Epoch 154/200\n",
            "619/619 [==============================] - 69s 112ms/step - loss: 0.0480 - accuracy: 0.9817 - val_loss: 0.0935 - val_accuracy: 0.9656\n",
            "\n",
            "Epoch 00154: val_accuracy did not improve from 0.98750\n",
            "Epoch 155/200\n",
            "619/619 [==============================] - 70s 113ms/step - loss: 0.0570 - accuracy: 0.9792 - val_loss: 0.0521 - val_accuracy: 0.9795\n",
            "\n",
            "Epoch 00155: val_accuracy did not improve from 0.98750\n",
            "Epoch 156/200\n",
            "619/619 [==============================] - 69s 112ms/step - loss: 0.0637 - accuracy: 0.9784 - val_loss: 0.0797 - val_accuracy: 0.9729\n",
            "\n",
            "Epoch 00156: val_accuracy did not improve from 0.98750\n",
            "Epoch 157/200\n",
            "619/619 [==============================] - 69s 111ms/step - loss: 0.0649 - accuracy: 0.9746 - val_loss: 0.0862 - val_accuracy: 0.9633\n",
            "\n",
            "Epoch 00157: val_accuracy did not improve from 0.98750\n",
            "Epoch 158/200\n",
            "619/619 [==============================] - 70s 112ms/step - loss: 0.0938 - accuracy: 0.9654 - val_loss: 0.1722 - val_accuracy: 0.9171\n",
            "\n",
            "Epoch 00158: val_accuracy did not improve from 0.98750\n",
            "Epoch 159/200\n",
            "619/619 [==============================] - 70s 112ms/step - loss: 0.1072 - accuracy: 0.9516 - val_loss: 0.3050 - val_accuracy: 0.8710\n",
            "\n",
            "Epoch 00159: val_accuracy did not improve from 0.98750\n",
            "Epoch 160/200\n",
            "619/619 [==============================] - 69s 112ms/step - loss: 0.1090 - accuracy: 0.9576 - val_loss: 0.0688 - val_accuracy: 0.9751\n",
            "\n",
            "Epoch 00160: val_accuracy did not improve from 0.98750\n",
            "Epoch 161/200\n",
            "619/619 [==============================] - 69s 112ms/step - loss: 0.0500 - accuracy: 0.9807 - val_loss: 0.1089 - val_accuracy: 0.9581\n",
            "\n",
            "Epoch 00161: val_accuracy did not improve from 0.98750\n",
            "Epoch 162/200\n",
            "619/619 [==============================] - 69s 112ms/step - loss: 0.0891 - accuracy: 0.9653 - val_loss: 0.0721 - val_accuracy: 0.9705\n",
            "\n",
            "Epoch 00162: val_accuracy did not improve from 0.98750\n",
            "Epoch 163/200\n",
            "619/619 [==============================] - 72s 116ms/step - loss: 0.0930 - accuracy: 0.9656 - val_loss: 0.0794 - val_accuracy: 0.9657\n",
            "\n",
            "Epoch 00163: val_accuracy did not improve from 0.98750\n",
            "Epoch 164/200\n",
            "619/619 [==============================] - 59s 96ms/step - loss: 0.0576 - accuracy: 0.9772 - val_loss: 0.1073 - val_accuracy: 0.9545\n",
            "\n",
            "Epoch 00164: val_accuracy did not improve from 0.98750\n",
            "Epoch 165/200\n",
            "619/619 [==============================] - 60s 97ms/step - loss: 0.0452 - accuracy: 0.9827 - val_loss: 0.0587 - val_accuracy: 0.9782\n",
            "\n",
            "Epoch 00165: val_accuracy did not improve from 0.98750\n",
            "Epoch 166/200\n",
            "619/619 [==============================] - 69s 112ms/step - loss: 0.0779 - accuracy: 0.9699 - val_loss: 0.0549 - val_accuracy: 0.9812\n",
            "\n",
            "Epoch 00166: val_accuracy did not improve from 0.98750\n",
            "Epoch 167/200\n",
            "619/619 [==============================] - 70s 112ms/step - loss: 0.0488 - accuracy: 0.9815 - val_loss: 0.0601 - val_accuracy: 0.9787\n",
            "\n",
            "Epoch 00167: val_accuracy did not improve from 0.98750\n",
            "Epoch 168/200\n",
            "619/619 [==============================] - 69s 112ms/step - loss: 0.0582 - accuracy: 0.9767 - val_loss: 0.0754 - val_accuracy: 0.9745\n",
            "\n",
            "Epoch 00168: val_accuracy did not improve from 0.98750\n",
            "Epoch 169/200\n",
            "619/619 [==============================] - 69s 111ms/step - loss: 0.0496 - accuracy: 0.9813 - val_loss: 0.0927 - val_accuracy: 0.9613\n",
            "\n",
            "Epoch 00169: val_accuracy did not improve from 0.98750\n",
            "Epoch 170/200\n",
            "619/619 [==============================] - 69s 112ms/step - loss: 0.0453 - accuracy: 0.9816 - val_loss: 0.0551 - val_accuracy: 0.9798\n",
            "\n",
            "Epoch 00170: val_accuracy did not improve from 0.98750\n",
            "Epoch 171/200\n",
            "619/619 [==============================] - 69s 111ms/step - loss: 0.0624 - accuracy: 0.9776 - val_loss: 0.1012 - val_accuracy: 0.9624\n",
            "\n",
            "Epoch 00171: val_accuracy did not improve from 0.98750\n",
            "Epoch 172/200\n",
            "619/619 [==============================] - 69s 112ms/step - loss: 0.0435 - accuracy: 0.9826 - val_loss: 0.0592 - val_accuracy: 0.9794\n",
            "\n",
            "Epoch 00172: val_accuracy did not improve from 0.98750\n",
            "Epoch 173/200\n",
            "619/619 [==============================] - 69s 112ms/step - loss: 0.0638 - accuracy: 0.9772 - val_loss: 0.1167 - val_accuracy: 0.9518\n",
            "\n",
            "Epoch 00173: val_accuracy did not improve from 0.98750\n",
            "Epoch 174/200\n",
            "619/619 [==============================] - 69s 111ms/step - loss: 0.0571 - accuracy: 0.9768 - val_loss: 0.0553 - val_accuracy: 0.9796\n",
            "\n",
            "Epoch 00174: val_accuracy did not improve from 0.98750\n",
            "Epoch 175/200\n",
            "619/619 [==============================] - 70s 113ms/step - loss: 0.0456 - accuracy: 0.9813 - val_loss: 0.0602 - val_accuracy: 0.9779\n",
            "\n",
            "Epoch 00175: val_accuracy did not improve from 0.98750\n",
            "Epoch 176/200\n",
            "619/619 [==============================] - 70s 112ms/step - loss: 0.0485 - accuracy: 0.9826 - val_loss: 0.0694 - val_accuracy: 0.9783\n",
            "\n",
            "Epoch 00176: val_accuracy did not improve from 0.98750\n",
            "Epoch 177/200\n",
            "619/619 [==============================] - 69s 112ms/step - loss: 0.0584 - accuracy: 0.9794 - val_loss: 0.0659 - val_accuracy: 0.9767\n",
            "\n",
            "Epoch 00177: val_accuracy did not improve from 0.98750\n",
            "Epoch 178/200\n",
            "619/619 [==============================] - 70s 113ms/step - loss: 0.0475 - accuracy: 0.9818 - val_loss: 0.0542 - val_accuracy: 0.9797\n",
            "\n",
            "Epoch 00178: val_accuracy did not improve from 0.98750\n",
            "Epoch 179/200\n",
            "619/619 [==============================] - 69s 112ms/step - loss: 0.0381 - accuracy: 0.9855 - val_loss: 0.0644 - val_accuracy: 0.9788\n",
            "\n",
            "Epoch 00179: val_accuracy did not improve from 0.98750\n",
            "Epoch 180/200\n",
            "619/619 [==============================] - 69s 112ms/step - loss: 0.0484 - accuracy: 0.9810 - val_loss: 0.0578 - val_accuracy: 0.9801\n",
            "\n",
            "Epoch 00180: val_accuracy did not improve from 0.98750\n",
            "Epoch 181/200\n",
            "619/619 [==============================] - 70s 113ms/step - loss: 0.0391 - accuracy: 0.9850 - val_loss: 0.0924 - val_accuracy: 0.9716\n",
            "\n",
            "Epoch 00181: val_accuracy did not improve from 0.98750\n",
            "Epoch 182/200\n",
            "619/619 [==============================] - 69s 112ms/step - loss: 0.0481 - accuracy: 0.9821 - val_loss: 0.0568 - val_accuracy: 0.9800\n",
            "\n",
            "Epoch 00182: val_accuracy did not improve from 0.98750\n",
            "Epoch 183/200\n",
            "619/619 [==============================] - 64s 104ms/step - loss: 0.0377 - accuracy: 0.9848 - val_loss: 0.0637 - val_accuracy: 0.9788\n",
            "\n",
            "Epoch 00183: val_accuracy did not improve from 0.98750\n",
            "Epoch 184/200\n",
            "619/619 [==============================] - 65s 105ms/step - loss: 0.0564 - accuracy: 0.9783 - val_loss: 0.0519 - val_accuracy: 0.9823\n",
            "\n",
            "Epoch 00184: val_accuracy did not improve from 0.98750\n",
            "Epoch 185/200\n",
            "619/619 [==============================] - 68s 109ms/step - loss: 0.0389 - accuracy: 0.9852 - val_loss: 0.0555 - val_accuracy: 0.9795\n",
            "\n",
            "Epoch 00185: val_accuracy did not improve from 0.98750\n",
            "Epoch 186/200\n",
            "619/619 [==============================] - 70s 113ms/step - loss: 0.0756 - accuracy: 0.9734 - val_loss: 0.0625 - val_accuracy: 0.9788\n",
            "\n",
            "Epoch 00186: val_accuracy did not improve from 0.98750\n",
            "Epoch 187/200\n",
            "619/619 [==============================] - 69s 112ms/step - loss: 0.0512 - accuracy: 0.9805 - val_loss: 0.0579 - val_accuracy: 0.9800\n",
            "\n",
            "Epoch 00187: val_accuracy did not improve from 0.98750\n",
            "Epoch 188/200\n",
            "619/619 [==============================] - 71s 114ms/step - loss: 0.0478 - accuracy: 0.9817 - val_loss: 0.0543 - val_accuracy: 0.9791\n",
            "\n",
            "Epoch 00188: val_accuracy did not improve from 0.98750\n",
            "Epoch 189/200\n",
            "619/619 [==============================] - 70s 114ms/step - loss: 0.0969 - accuracy: 0.9684 - val_loss: 0.1063 - val_accuracy: 0.9572\n",
            "\n",
            "Epoch 00189: val_accuracy did not improve from 0.98750\n",
            "Epoch 190/200\n",
            "619/619 [==============================] - 70s 114ms/step - loss: 0.0437 - accuracy: 0.9831 - val_loss: 0.0683 - val_accuracy: 0.9755\n",
            "\n",
            "Epoch 00190: val_accuracy did not improve from 0.98750\n",
            "Epoch 191/200\n",
            "619/619 [==============================] - 71s 114ms/step - loss: 0.0690 - accuracy: 0.9770 - val_loss: 0.0699 - val_accuracy: 0.9756\n",
            "\n",
            "Epoch 00191: val_accuracy did not improve from 0.98750\n",
            "Epoch 192/200\n",
            "619/619 [==============================] - 70s 113ms/step - loss: 0.0580 - accuracy: 0.9784 - val_loss: 0.0622 - val_accuracy: 0.9761\n",
            "\n",
            "Epoch 00192: val_accuracy did not improve from 0.98750\n",
            "Epoch 193/200\n",
            "619/619 [==============================] - 71s 114ms/step - loss: 0.0664 - accuracy: 0.9741 - val_loss: 0.0569 - val_accuracy: 0.9785\n",
            "\n",
            "Epoch 00193: val_accuracy did not improve from 0.98750\n",
            "Epoch 194/200\n",
            "619/619 [==============================] - 71s 115ms/step - loss: 0.0491 - accuracy: 0.9815 - val_loss: 0.0927 - val_accuracy: 0.9631\n",
            "\n",
            "Epoch 00194: val_accuracy did not improve from 0.98750\n",
            "Epoch 195/200\n",
            "619/619 [==============================] - 70s 114ms/step - loss: 0.0448 - accuracy: 0.9841 - val_loss: 0.0558 - val_accuracy: 0.9819\n",
            "\n",
            "Epoch 00195: val_accuracy did not improve from 0.98750\n",
            "Epoch 196/200\n",
            "619/619 [==============================] - 71s 115ms/step - loss: 0.0460 - accuracy: 0.9828 - val_loss: 0.0672 - val_accuracy: 0.9785\n",
            "\n",
            "Epoch 00196: val_accuracy did not improve from 0.98750\n",
            "Epoch 197/200\n",
            "619/619 [==============================] - 70s 114ms/step - loss: 0.0377 - accuracy: 0.9858 - val_loss: 0.0665 - val_accuracy: 0.9790\n",
            "\n",
            "Epoch 00197: val_accuracy did not improve from 0.98750\n",
            "Epoch 198/200\n",
            "619/619 [==============================] - 70s 114ms/step - loss: 0.0378 - accuracy: 0.9857 - val_loss: 0.1464 - val_accuracy: 0.9352\n",
            "\n",
            "Epoch 00198: val_accuracy did not improve from 0.98750\n",
            "Epoch 199/200\n",
            "619/619 [==============================] - 71s 115ms/step - loss: 0.0506 - accuracy: 0.9805 - val_loss: 0.0827 - val_accuracy: 0.9663\n",
            "\n",
            "Epoch 00199: val_accuracy did not improve from 0.98750\n",
            "Epoch 200/200\n",
            "619/619 [==============================] - 69s 112ms/step - loss: 0.0518 - accuracy: 0.9803 - val_loss: 0.0459 - val_accuracy: 0.9836\n",
            "\n",
            "Epoch 00200: val_accuracy did not improve from 0.98750\n"
          ],
          "name": "stdout"
        }
      ]
    },
    {
      "cell_type": "code",
      "metadata": {
        "colab": {
          "base_uri": "https://localhost:8080/"
        },
        "id": "B0xipf2Ntd1x",
        "outputId": "196869df-1eb2-4f83-fce9-19a968fb77ca"
      },
      "source": [
        "#loading the best model and checking accuracy on the test data\n",
        "model = load_model('/content/drive/MyDrive/building1/mod26marchPart1_10slots_lstm/best_model.pkl')\n",
        "from sklearn.metrics import accuracy_score\n",
        "y_pred=model.predict(test)\n",
        "test_preds=( y_pred> 0.5).astype(\"int32\")#Selecting a label only if it has >0.5 probability\n",
        "accuracy_score(test_target, test_preds)"
      ],
      "execution_count": null,
      "outputs": [
        {
          "output_type": "execute_result",
          "data": {
            "text/plain": [
              "0.9897983252742069"
            ]
          },
          "metadata": {
            "tags": []
          },
          "execution_count": 24
        }
      ]
    },
    {
      "cell_type": "code",
      "metadata": {
        "colab": {
          "base_uri": "https://localhost:8080/"
        },
        "id": "KMHLkFPTZmCZ",
        "outputId": "9aca7dcc-6ae1-46e7-8292-d57b16fb9976"
      },
      "source": [
        "#Calculating accuracy by selecting the label having the highest probability\n",
        "yhat=np.argmax(y_pred,axis=1)\n",
        "y=np.argmax(test_target,axis=1)\n",
        "accuracy_score(y,yhat)"
      ],
      "execution_count": null,
      "outputs": [
        {
          "output_type": "execute_result",
          "data": {
            "text/plain": [
              "0.9897983252742069"
            ]
          },
          "metadata": {
            "tags": []
          },
          "execution_count": 26
        }
      ]
    },
    {
      "cell_type": "code",
      "metadata": {
        "id": "GlfUnEf1ZyLe",
        "colab": {
          "base_uri": "https://localhost:8080/",
          "height": 295
        },
        "outputId": "8aad2fec-2533-4773-bc96-9a096092cba9"
      },
      "source": [
        "import matplotlib.pyplot as plt\n",
        "plt.plot(history.history['accuracy'])\n",
        "plt.plot(history.history['val_accuracy'])\n",
        "plt.title('model accuracy')\n",
        "plt.ylabel('accuracy')\n",
        "plt.xlabel('epoch')\n",
        "plt.legend(['train', 'Validation'], loc='upper left')\n",
        "plt.show()"
      ],
      "execution_count": null,
      "outputs": [
        {
          "output_type": "display_data",
          "data": {
            "image/png": "[encoded data removed]",
            "text/plain": [
              "<Figure size 432x288 with 1 Axes>"
            ]
          },
          "metadata": {
            "tags": [],
            "needs_background": "light"
          }
        }
      ]
    }
  ]
}