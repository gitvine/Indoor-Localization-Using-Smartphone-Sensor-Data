{
  "nbformat": 4,
  "nbformat_minor": 0,
  "metadata": {
    "colab": {
      "name": "Part_B_classification_approach_Bidirectional_LSTM_2_dense_layers_dropuout_225Gridcells_noWiFi_BT.ipynb",
      "provenance": [],
      "collapsed_sections": []
    },
    "kernelspec": {
      "display_name": "Python 3",
      "language": "python",
      "name": "python3"
    },
    "language_info": {
      "codemirror_mode": {
        "name": "ipython",
        "version": 3
      },
      "file_extension": ".py",
      "mimetype": "text/x-python",
      "name": "python",
      "nbconvert_exporter": "python",
      "pygments_lexer": "ipython3",
      "version": "3.8.5"
    }
  },
  "cells": [
    {
      "cell_type": "markdown",
      "metadata": {
        "id": "QktZ8WbxTv2T"
      },
      "source": [
        "## We have divided the problem into two parts\n",
        "(a) Predict the floor number\n",
        "(b) Predict the way points or location on that floor"
      ]
    },
    {
      "cell_type": "code",
      "metadata": {
        "id": "1f5bwMxmPWjQ"
      },
      "source": [
        "import pandas as pd\n",
        "import numpy as np\n",
        "%matplotlib inline\n",
        "import matplotlib.pyplot as plt\n",
        "from os import listdir\n",
        "from pathlib import Path\n",
        "pd.options.mode.chained_assignment = None  # default='warn'\n",
        "from dataclasses import dataclass\n",
        "from sklearn import preprocessing"
      ],
      "execution_count": null,
      "outputs": []
    },
    {
      "cell_type": "code",
      "metadata": {
        "id": "q6hAEaR6tmi9"
      },
      "source": [
        "import keras\n",
        "from keras.utils import to_categorical\n",
        "from keras.preprocessing import sequence\n",
        "import tensorflow as tf\n",
        "from keras.models import Sequential\n",
        "from keras.layers import Dense\n",
        "from keras.layers import LSTM\n",
        "from keras.optimizers import Adam\n",
        "from keras.models import load_model\n",
        "from keras.callbacks import ModelCheckpoint\n",
        "from keras.layers import Bidirectional"
      ],
      "execution_count": null,
      "outputs": []
    },
    {
      "cell_type": "code",
      "metadata": {
        "colab": {
          "base_uri": "https://localhost:8080/"
        },
        "id": "BfbMebYYWEIw",
        "outputId": "9f54393f-3b42-438a-8620-8856795e57a9"
      },
      "source": [
        "from google.colab import drive\n",
        "drive.mount('/content/drive')"
      ],
      "execution_count": null,
      "outputs": [
        {
          "output_type": "stream",
          "text": [
            "Mounted at /content/drive\n"
          ],
          "name": "stdout"
        }
      ]
    },
    {
      "cell_type": "code",
      "metadata": {
        "id": "XpKnmwl6M_3_"
      },
      "source": [
        "#Function to connect waypoint coordinates with straight lines\n",
        "#This will be used for second part of project.We will discuss about this later.\n",
        "def connect_waypoints(wp_df):\n",
        "  if(wp_df.at[0,'waypoint_val1']==''):\n",
        "    wp_df.at[0,'waypoint_val1']=0\n",
        "  if(wp_df.at[0,'waypoint_val2']==''):\n",
        "    wp_df.at[0,'waypoint_val2']=0  \n",
        "  j=0\n",
        "  i=0\n",
        "  last=0\n",
        "  #print(wp_df.head(5))\n",
        "  while i < (len(wp_df)-1):\n",
        "    j=i+1\n",
        "    while((wp_df.at[j,'waypoint_val1']==0) and (wp_df.at[j,'waypoint_val2']==0) ):\n",
        "      if(j==len(wp_df)-1):\n",
        "        wp_df.at[j,'waypoint_val1']=wp_df.at[i,'waypoint_val1']\n",
        "        wp_df.at[j,'waypoint_val2']=wp_df.at[i,'waypoint_val2']\n",
        "        last=1\n",
        "        break\n",
        "      j+=1\n",
        "    temp_arrayx=np.linspace(wp_df.at[i,'waypoint_val1'],wp_df.at[j,'waypoint_val1'], num=j-i+1)\n",
        "    temp_arrayy=np.linspace(wp_df.at[i,'waypoint_val2'],wp_df.at[j,'waypoint_val2'], num=j-i+1)\n",
        "    #print(temp_arrayx)\n",
        "    m=0\n",
        "    for k in range(i,j+1):\n",
        "      wp_df.at[k,'waypoint_val1']=temp_arrayx[m]\n",
        "      wp_df.at[k,'waypoint_val2']=temp_arrayy[m]\n",
        "      #For final comparison of our predicted location, we will need to mark which waypoints were in original data before connecting them\n",
        "      #print('k=',k,'i=',i,'j=',j)\n",
        "      if((k==i) and (last==0)):\n",
        "        wp_df.at[k,'interpolated']=1 #original waypoints\n",
        "      else:\n",
        "        wp_df.at[k,'interpolated']=0  #interpolated waypoints\n",
        "      m+=1\n",
        "    i=j\n",
        "  return wp_df     \n"
      ],
      "execution_count": null,
      "outputs": []
    },
    {
      "cell_type": "code",
      "metadata": {
        "id": "hycBgmQSPWjX"
      },
      "source": [
        "# Function to extract arrays for each sensor with timeslots.\n",
        "# This particular function is modified from the function provided by the competition's github page at https://github.com/location-competition/indoor-location-competition-20/blob/master/io_f.py\n",
        "\n",
        "@dataclass\n",
        "class ReadData:\n",
        "    acce: np.ndarray\n",
        "    acce_uncali: np.ndarray\n",
        "    gyro: np.ndarray\n",
        "    gyro_uncali: np.ndarray\n",
        "    magn: np.ndarray\n",
        "    magn_uncali: np.ndarray\n",
        "    ahrs: np.ndarray\n",
        "    wifi: np.ndarray\n",
        "    ibeacon: np.ndarray\n",
        "    waypoint: np.ndarray\n",
        "\n",
        "\n",
        "def read_data_file(data_filename):\n",
        "    acce = []\n",
        "    acce_uncali = []\n",
        "    gyro = []\n",
        "    gyro_uncali = []\n",
        "    magn = []\n",
        "    magn_uncali = []\n",
        "    ahrs = []\n",
        "    wifi = []\n",
        "    ibeacon = []\n",
        "    waypoint = []\n",
        "    line_count=0\n",
        "    with open(data_filename, 'r', encoding='utf-8') as file:\n",
        "        lines = file.readlines()\n",
        "\n",
        "    for line_data in lines:\n",
        "        #line_count=line_count+1\n",
        "        #if(line_count>3000):\n",
        "        #  break\n",
        "        line_data = line_data.strip()\n",
        "        if not line_data or line_data[0] == '#':\n",
        "            continue\n",
        "\n",
        "        line_data = line_data.split('\\t')\n",
        "\n",
        "        if line_data[1] == 'TYPE_ACCELEROMETER':\n",
        "            acce.append([int(line_data[0]), float(line_data[2]), float(line_data[3]), float(line_data[4])])\n",
        "            continue\n",
        "\n",
        "        if line_data[1] == 'TYPE_ACCELEROMETER_UNCALIBRATED':\n",
        "            acce_uncali.append([int(line_data[0]), float(line_data[2]), float(line_data[3]), float(line_data[4])])\n",
        "            continue\n",
        "\n",
        "        if line_data[1] == 'TYPE_GYROSCOPE':\n",
        "            gyro.append([int(line_data[0]), float(line_data[2]), float(line_data[3]), float(line_data[4])])\n",
        "            continue\n",
        "\n",
        "        if line_data[1] == 'TYPE_GYROSCOPE_UNCALIBRATED':\n",
        "            gyro_uncali.append([int(line_data[0]), float(line_data[2]), float(line_data[3]), float(line_data[4])])\n",
        "            continue\n",
        "\n",
        "        if line_data[1] == 'TYPE_MAGNETIC_FIELD':\n",
        "            magn.append([int(line_data[0]), float(line_data[2]), float(line_data[3]), float(line_data[4])])\n",
        "            continue\n",
        "\n",
        "        if line_data[1] == 'TYPE_MAGNETIC_FIELD_UNCALIBRATED':\n",
        "            magn_uncali.append([int(line_data[0]), float(line_data[2]), float(line_data[3]), float(line_data[4])])\n",
        "            continue\n",
        "\n",
        "        if line_data[1] == 'TYPE_ROTATION_VECTOR':\n",
        "            ahrs.append([int(line_data[0]), float(line_data[2]), float(line_data[3]), float(line_data[4])])\n",
        "            continue\n",
        "\n",
        "        if line_data[1] == 'TYPE_WIFI':\n",
        "            sys_ts = int(line_data[0])\n",
        "            ssid = line_data[2]\n",
        "            bssid = line_data[3]\n",
        "            rssi = line_data[4]\n",
        "            lastseen_ts = line_data[6]\n",
        "            wifi_data = [sys_ts, ssid, bssid, rssi, lastseen_ts]\n",
        "            wifi.append(wifi_data)\n",
        "            continue\n",
        "\n",
        "        if line_data[1] == 'TYPE_BEACON':\n",
        "            ts = int(line_data[0])\n",
        "            uuid = line_data[2]\n",
        "            major = line_data[3]\n",
        "            minor = line_data[4]\n",
        "            rssi = line_data[6]\n",
        "            ibeacon_data = [ts, '_'.join([uuid, major, minor]), rssi]\n",
        "            ibeacon.append(ibeacon_data)\n",
        "            continue\n",
        "\n",
        "        if line_data[1] == 'TYPE_WAYPOINT':\n",
        "            waypoint.append([int(line_data[0]), float(line_data[2]), float(line_data[3])])\n",
        "\n",
        "    acce = np.array(acce,dtype=np.float)\n",
        "    acce_uncali = np.array(acce_uncali,dtype=np.float)\n",
        "    gyro = np.array(gyro,dtype=np.float)\n",
        "    gyro_uncali = np.array(gyro_uncali,dtype=np.float)\n",
        "    magn = np.array(magn,dtype=np.float)\n",
        "    magn_uncali = np.array(magn_uncali,dtype=np.float)\n",
        "    ahrs = np.array(ahrs)\n",
        "    wifi = np.array(wifi)\n",
        "    ibeacon = np.array(ibeacon)\n",
        "    waypoint = np.array(waypoint)\n",
        "\n",
        "    return ReadData(acce, acce_uncali, gyro, gyro_uncali, magn, magn_uncali, ahrs, wifi, ibeacon, waypoint)"
      ],
      "execution_count": null,
      "outputs": []
    },
    {
      "cell_type": "code",
      "metadata": {
        "id": "FpAoHhUmPWjb"
      },
      "source": [
        "#Function to go through all the files in the folder and return the sensor data \n",
        "# in the form of arrays\n",
        "@dataclass\n",
        "class trace:\n",
        "    sequence: np.ndarray\n",
        "    target_seq: np.ndarray\n",
        "    waypoint_seq: np.ndarray\n",
        "    wp_full_seq: np.ndarray\n",
        "\n",
        "def convert_to_df(file_path,floor,timeslots):\n",
        "    pathlist = Path(file_path).rglob('*.txt')\n",
        "    sequence = list()\n",
        "    target_seq=list()\n",
        "    waypoint_seq=list()\n",
        "    wp_full_seq=list()\n",
        "    path_id=1\n",
        "    floor_trace_df=pd.DataFrame()\n",
        "    for path in pathlist:\n",
        "         # because path is object not string\n",
        "        path_in_str = str(path)\n",
        "         # print(path_in_str)\n",
        "        trace_file = read_data_file(path_in_str)\n",
        "        trace_df=pd.DataFrame()\n",
        "        if(trace_file.acce.size):\n",
        "            acce_df=pd.DataFrame(trace_file.acce, columns=['Timestamp','acce_val1','acce_val2','acce_val3'])\n",
        "        if(trace_file.acce_uncali.size):\n",
        "            acce__uncal_df=pd.DataFrame(trace_file.acce_uncali, columns=['Timestamp','acce_uncal_val1','acce_uncal_val2','acce_uncal_val3'])   \n",
        "        if(trace_file.gyro.size):\n",
        "            gyro_df=pd.DataFrame(trace_file.gyro, columns=['Timestamp','gyro_val1','gyro_val2','gyro_val3'])\n",
        "        if(trace_file.gyro_uncali.size):\n",
        "            gyro_uncal_df=pd.DataFrame(trace_file.gyro_uncali, columns=['Timestamp','gyro_uncal_val1','gyro_uncal_val2','gyro_uncal_val3'])\n",
        "        if(trace_file.magn.size):\n",
        "            magn_df=pd.DataFrame(trace_file.magn, columns=['Timestamp','magn_val1','magn_val2','magn_val3'])\n",
        "        if(trace_file.magn_uncali.size):\n",
        "            magn_uncal_df=pd.DataFrame(trace_file.magn_uncali, columns=['Timestamp','magn_uncal_val1','magn_uncal_val2','magn_uncal_val3'])\n",
        "        if(trace_file.ahrs.size):\n",
        "            rot_df=pd.DataFrame(trace_file.ahrs, columns=['Timestamp','rot_val1','rot_val2','rot_val3'])           \n",
        "        if(trace_file.wifi.size):\n",
        "            wifi_df=pd.DataFrame(trace_file.wifi, columns=['Timestamp','wifi_val1','wifi_val2','wifi_val3','wifi_val4']) \n",
        "        if(trace_file.ibeacon.size):\n",
        "            ibeacon_df=pd.DataFrame(trace_file.ibeacon, columns=['Timestamp','ibeacon_val1','ibeacon_val2'])    \n",
        "        if(trace_file.waypoint.size):\n",
        "            waypoint_df=pd.DataFrame(trace_file.waypoint, columns=['Timestamp','waypoint_val1','waypoint_val2'])\n",
        "        \n",
        "        #change data type of wifi dataframe timestamp and ibeacon timestamp\n",
        "        wifi_df[\"Timestamp\"] = wifi_df.Timestamp.astype(float)\n",
        "        ibeacon_df[\"Timestamp\"] = ibeacon_df.Timestamp.astype(float)\n",
        "        trace_df = pd.merge(acce_df, acce__uncal_df, on='Timestamp', how='outer')\n",
        "        trace_df = pd.merge(trace_df, gyro_df, on='Timestamp', how='outer')\n",
        "        trace_df = pd.merge(trace_df, gyro_uncal_df, on='Timestamp', how='outer')\n",
        "        trace_df = pd.merge(trace_df, magn_df, on='Timestamp', how='outer')\n",
        "        trace_df = pd.merge(trace_df, magn_uncal_df, on='Timestamp', how='outer')\n",
        "        trace_df = pd.merge(trace_df, rot_df, on='Timestamp', how='outer')\n",
        "        #trace_df = pd.merge(trace_df, wifi_df, on='Timestamp', how='outer')\n",
        "        #trace_df = pd.merge(trace_df, ibeacon_df, on='Timestamp', how='outer')\n",
        "        trace_df = pd.merge(trace_df, waypoint_df, on='Timestamp', how='outer')\n",
        "        ###### Cast time stamp to integer\n",
        "        trace_df[\"Timestamp\"] = trace_df.Timestamp.astype(int)\n",
        "\n",
        "        # sorting by Timestamp and deleting duplicate timeslots \n",
        "        \n",
        "        trace_df.sort_values(\"Timestamp\", inplace = True)\n",
        "        trace_df = trace_df.reset_index(drop=True)\n",
        "        trace_df.drop_duplicates(subset=\"Timestamp\",keep=False, inplace=True)\n",
        "        trace_df = trace_df.reset_index(drop=True)\n",
        "        \n",
        "        trace_df=trace_df.replace(np.nan,0)\n",
        "\n",
        "        #keep only top 200 rows in one sequence     \n",
        "        #trace_df=trace_df.head(200)\n",
        "\n",
        "        #for i in range(0,len(trace_df)):\n",
        "         # trace_df.at[i,'Timestamp']=i\n",
        "        \n",
        "        #trace_df['time_index'] = trace_df.index\n",
        "        #print(trace_df.head())\n",
        "        #trace_df['floor_name']=floor\n",
        "        #trace_df['path_id']=floor+path_id\n",
        "        #path_id=path_id+1\n",
        "        #trace_df['wifi_df'].fillna(0)\n",
        "        #trace_df['ibeacon_df'].fillna(0)\n",
        "        #trace_df['wifi_df'].fillna(0)\n",
        "        \n",
        "\n",
        "        wp_df = trace_df[['waypoint_val1', 'waypoint_val2']].copy()\n",
        "        wp_df=connect_waypoints(wp_df)\n",
        "        wp_values=wp_df.values\n",
        "        #Removing text based fields in dataframe\n",
        "        trace_df=trace_df.drop(['Timestamp'], axis=1)\n",
        "        #trace_df=trace_df.drop(['wifi_val1'], axis=1)\n",
        "        #trace_df=trace_df.drop(['wifi_val2'], axis=1)\n",
        "        #trace_df=trace_df.drop(['ibeacon_val1'], axis=1)\n",
        "        trace_df.astype('float32')        \n",
        "        trace_df=trace_df.drop(['waypoint_val1','waypoint_val2'], axis=1)\n",
        "        #floor_trace_df=floor_trace_df.append(trace_df)\n",
        "        values = trace_df.values \n",
        "\n",
        "\n",
        "        \n",
        "\n",
        "\n",
        "        #Now split sequence into required number of timeslots\n",
        "        l=int(len(values)/timeslots)\n",
        "        k=0\n",
        "        for m in range(l):\n",
        "          s_temp=values[k:k+timeslots]\n",
        "          wp_temp=wp_values[k:k+timeslots]\n",
        "          #Normalize\n",
        "          #min_max_scaler = preprocessing.MinMaxScaler()\n",
        "          #s_scaled = min_max_scaler.fit_transform(s_temp)\n",
        "          sequence.append(s_temp)\n",
        "          wp_full_seq.append(wp_temp)\n",
        "          target_seq.append(floor)\n",
        "          wp_temp=wp_df.iloc[k:k+timeslots,0:]\n",
        "          wp_temp=wp_temp.reset_index(drop=True)\n",
        "          #wp_temp=connect_waypoints(wp_temp)\n",
        "        #Now after connecting the waypoints, the avearge has become a wieghted average in time series\n",
        "          wp_avg_x=wp_temp['waypoint_val1'].mean()\n",
        "          wp_avg_y=wp_temp['waypoint_val2'].mean()\n",
        "        #maximum and minimum will be useful in second part\n",
        "          wp_max_x=wp_temp['waypoint_val1'].max()\n",
        "          wp_min_x=wp_temp['waypoint_val1'].min()\n",
        "          wp_max_y=wp_temp['waypoint_val2'].max()\n",
        "          wp_min_y=wp_temp['waypoint_val2'].min()\n",
        "          \n",
        "          waypoint_seq.append([wp_avg_x,wp_avg_y,wp_max_x,wp_min_x,wp_max_y,wp_min_y])\n",
        "          k+=timeslots\n",
        "\n",
        "    return trace(sequence,target_seq,waypoint_seq,wp_full_seq)"
      ],
      "execution_count": null,
      "outputs": []
    },
    {
      "cell_type": "code",
      "metadata": {
        "id": "RIHmyZk8PWje"
      },
      "source": [
        "#Extracting data for B1 floor only\n",
        "sequences = list()\n",
        "target_sequence=list()\n",
        "waypoint_sequence=list()\n",
        "waypoint_full_sequence=list()\n",
        "#floors_df=pd.DataFrame()\n",
        "file_path = '/content/drive/MyDrive/building1/data/B1'\n",
        "trace_values=(convert_to_df(file_path,0,5))\n",
        "sequences.extend(trace_values.sequence)\n",
        "target_sequence.extend(trace_values.target_seq)\n",
        "waypoint_sequence.extend(trace_values.waypoint_seq)\n",
        "waypoint_full_sequence.extend(trace_values.wp_full_seq)"
      ],
      "execution_count": null,
      "outputs": []
    },
    {
      "cell_type": "code",
      "metadata": {
        "colab": {
          "base_uri": "https://localhost:8080/"
        },
        "id": "-H8pSsXd15bP",
        "outputId": "79f74fab-03bb-451c-ea13-6e02243a2edf"
      },
      "source": [
        "len(waypoint_sequence)"
      ],
      "execution_count": null,
      "outputs": [
        {
          "output_type": "execute_result",
          "data": {
            "text/plain": [
              "38874"
            ]
          },
          "metadata": {
            "tags": []
          },
          "execution_count": 8
        }
      ]
    },
    {
      "cell_type": "code",
      "metadata": {
        "colab": {
          "base_uri": "https://localhost:8080/"
        },
        "id": "cu3Zj31ukXcD",
        "outputId": "20b59f65-a45d-45ad-c4fb-9a8b857b9aca"
      },
      "source": [
        "len(sequences[0])"
      ],
      "execution_count": null,
      "outputs": [
        {
          "output_type": "execute_result",
          "data": {
            "text/plain": [
              "5"
            ]
          },
          "metadata": {
            "tags": []
          },
          "execution_count": 11
        }
      ]
    },
    {
      "cell_type": "code",
      "metadata": {
        "colab": {
          "base_uri": "https://localhost:8080/"
        },
        "id": "z_7S8TmaPWje",
        "outputId": "09f6fb3c-67cb-44e1-9ac1-251f96cd8e3d"
      },
      "source": [
        "print('Number of sequences',len(sequences))\n",
        "print('Number of targets',len(target_sequence))\n",
        "print('Number of timeslots in first sequence',(sequences[0].shape)[0])\n",
        "print('Number of timeslots in tenth sequence',(sequences[9].shape)[0])\n",
        "print('Number of timeslots in hundredth sequence',(sequences[99].shape)[0])"
      ],
      "execution_count": null,
      "outputs": [
        {
          "output_type": "stream",
          "text": [
            "Number of sequences 38874\n",
            "Number of targets 38874\n",
            "Number of timeslots in first sequence 5\n",
            "Number of timeslots in tenth sequence 5\n",
            "Number of timeslots in hundredth sequence 5\n"
          ],
          "name": "stdout"
        }
      ]
    },
    {
      "cell_type": "markdown",
      "metadata": {
        "id": "vo62w2LuQHNq"
      },
      "source": [
        "# Part 2 "
      ]
    },
    {
      "cell_type": "markdown",
      "metadata": {
        "id": "Qnk26WqnQJKY"
      },
      "source": [
        "### After knowing the floor, now we need to predict waypoints on that floor."
      ]
    },
    {
      "cell_type": "markdown",
      "metadata": {
        "id": "uGoxuEgijbH1"
      },
      "source": [
        "### We assume that floor B1 was predicted in first part. So, for this part we will only take data of floor B1."
      ]
    },
    {
      "cell_type": "code",
      "metadata": {
        "colab": {
          "base_uri": "https://localhost:8080/"
        },
        "id": "ISwnNpCoPWji",
        "outputId": "849711b4-0261-47dc-80ec-191c3471f37c"
      },
      "source": [
        "len(waypoint_sequence)"
      ],
      "execution_count": null,
      "outputs": [
        {
          "output_type": "execute_result",
          "data": {
            "text/plain": [
              "38874"
            ]
          },
          "metadata": {
            "tags": []
          },
          "execution_count": 9
        }
      ]
    },
    {
      "cell_type": "code",
      "metadata": {
        "colab": {
          "base_uri": "https://localhost:8080/"
        },
        "id": "xXPijH_9Y8VR",
        "outputId": "e350e446-e3bd-43d0-b9a3-b7021d2893fc"
      },
      "source": [
        "len(sequences)"
      ],
      "execution_count": null,
      "outputs": [
        {
          "output_type": "execute_result",
          "data": {
            "text/plain": [
              "38874"
            ]
          },
          "metadata": {
            "tags": []
          },
          "execution_count": 13
        }
      ]
    },
    {
      "cell_type": "code",
      "metadata": {
        "colab": {
          "base_uri": "https://localhost:8080/"
        },
        "id": "ZvxwS2mkjomJ",
        "outputId": "e2baa584-177d-4179-de04-32dd4c1e20b3"
      },
      "source": [
        "##We will divide the area into grids. But first we need to know the dimensions to work with\n",
        "wp_df = pd.DataFrame(waypoint_sequence, columns = ['avg_x','avg_y','max_x','min_x','max_y','min_y',])\n",
        "wp_df=wp_df.head(len(sequences))  #number of sequences for floor B1\n",
        "wp_df = wp_df.round(decimals=5)\n",
        "floor_max_x=wp_df['max_x'].max()\n",
        "floor_min_x=wp_df['min_x'].min()\n",
        "floor_max_y=wp_df['max_y'].max()\n",
        "floor_min_y=wp_df['min_y'].min()\n",
        "print(floor_max_x,floor_min_x,floor_max_y,floor_min_y)"
      ],
      "execution_count": null,
      "outputs": [
        {
          "output_type": "stream",
          "text": [
            "233.94418 36.63454 192.99721 75.00506\n"
          ],
          "name": "stdout"
        }
      ]
    },
    {
      "cell_type": "code",
      "metadata": {
        "id": "1QefxsOkmJDo"
      },
      "source": [
        "#Creating grid for labelling\n",
        "#We will create a 15X15 grid for 225 labels\n",
        "array_x=np.linspace(floor_min_x,floor_max_x,16)\n",
        "array_y=np.linspace(floor_min_y,floor_max_y,16)\n",
        "label=list()\n",
        "k=0\n",
        "for j in range(1,16):\n",
        "  for i in range(1,16):\n",
        "    label.append([array_x[i],array_y[j],k])\n",
        "    k+=1  "
      ],
      "execution_count": null,
      "outputs": []
    },
    {
      "cell_type": "code",
      "metadata": {
        "colab": {
          "base_uri": "https://localhost:8080/"
        },
        "id": "01lxZoqopST6",
        "outputId": "30f369f7-4fe3-4fcf-d5be-78b1a81080a3"
      },
      "source": [
        "#Now we need to give labels to our waypoints sequence on the basis of average waypoints\n",
        "print(wp_df.head())\n",
        "for i in range(len(wp_df)):\n",
        "  for j in range(len(label)):\n",
        "    if(wp_df.at[i,'avg_x']<=label[j][0]):\n",
        "       for p in range(len(label)):\n",
        "         if(wp_df.at[i,'avg_y']<=label[p][1]):\n",
        "           wp_df.at[i,'label']=label[j+p][2]\n",
        "           break\n",
        "       break    \n",
        "print(wp_df.head(20))           "
      ],
      "execution_count": null,
      "outputs": [
        {
          "output_type": "stream",
          "text": [
            "       avg_x      avg_y      max_x      min_x      max_y      min_y\n",
            "0  198.39960  163.51350  198.43087  198.36833  163.52063  163.50637\n",
            "1  198.47778  163.49568  198.50905  198.44651  163.50281  163.48855\n",
            "2  198.55596  163.47785  198.58723  198.52469  163.48498  163.47072\n",
            "3  198.63414  163.46003  198.66541  198.60287  163.46716  163.45290\n",
            "4  198.71232  163.44220  198.74359  198.68105  163.44933  163.43507\n",
            "        avg_x      avg_y      max_x      min_x      max_y      min_y  label\n",
            "0   198.39960  163.51350  198.43087  198.36833  163.52063  163.50637  177.0\n",
            "1   198.47778  163.49568  198.50905  198.44651  163.50281  163.48855  177.0\n",
            "2   198.55596  163.47785  198.58723  198.52469  163.48498  163.47072  177.0\n",
            "3   198.63414  163.46003  198.66541  198.60287  163.46716  163.45290  177.0\n",
            "4   198.71232  163.44220  198.74359  198.68105  163.44933  163.43507  177.0\n",
            "5   198.79050  163.42438  198.82177  198.75923  163.43151  163.41725  177.0\n",
            "6   198.86868  163.40656  198.89995  198.83741  163.41369  163.39943  177.0\n",
            "7   198.94686  163.38873  198.97813  198.91559  163.39586  163.38160  177.0\n",
            "8   199.02504  163.37091  199.05631  198.99377  163.37804  163.36378  177.0\n",
            "9   199.10322  163.35308  199.13449  199.07195  163.36021  163.34595  177.0\n",
            "10  199.18140  163.33526  199.21267  199.15013  163.34239  163.32813  177.0\n",
            "11  199.25958  163.31744  199.29085  199.22831  163.32456  163.31031  177.0\n",
            "12  199.33776  163.29961  199.36903  199.30649  163.30674  163.29248  177.0\n",
            "13  199.41594  163.28179  199.44721  199.38467  163.28892  163.27466  177.0\n",
            "14  199.49412  163.26396  199.52539  199.46285  163.27109  163.25683  177.0\n",
            "15  199.57230  163.24614  199.60357  199.54103  163.25327  163.23901  177.0\n",
            "16  199.65048  163.22831  199.68175  199.61921  163.23544  163.22118  177.0\n",
            "17  199.72866  163.21049  199.75993  199.69739  163.21762  163.20336  177.0\n",
            "18  199.80684  163.19267  199.83811  199.77557  163.19980  163.18554  177.0\n",
            "19  199.88502  163.17484  199.91629  199.85375  163.18197  163.16771  177.0\n"
          ],
          "name": "stdout"
        }
      ]
    },
    {
      "cell_type": "code",
      "metadata": {
        "colab": {
          "base_uri": "https://localhost:8080/"
        },
        "id": "wB-6V2700gTq",
        "outputId": "4b491f8a-8a68-4796-e8c3-2e31e293af73"
      },
      "source": [
        "#Now we need to create new train, validation and test split for only building 1\n",
        "train_length=int(len(sequences)*0.7)\n",
        "val_length=int(len(sequences)*0.15)\n",
        "test_length=len(sequences)-train_length-val_length\n",
        "\n",
        "train_flags=np.full((train_length), 0)\n",
        "validation_flags=np.full((val_length), 1)\n",
        "test_flags=np.full((test_length), 2)\n",
        "\n",
        "flags=[]\n",
        "flags.extend(train_flags)\n",
        "flags.extend(validation_flags)\n",
        "flags.extend(test_flags)\n",
        "np.random.shuffle(flags)\n",
        "len(flags)"
      ],
      "execution_count": null,
      "outputs": [
        {
          "output_type": "execute_result",
          "data": {
            "text/plain": [
              "38874"
            ]
          },
          "metadata": {
            "tags": []
          },
          "execution_count": 13
        }
      ]
    },
    {
      "cell_type": "code",
      "metadata": {
        "colab": {
          "base_uri": "https://localhost:8080/"
        },
        "id": "QfUNUjSi3fu_",
        "outputId": "18147782-6c42-4135-cdab-98806ba98cf4"
      },
      "source": [
        "#Creating target sequence\n",
        "target_sequence2=wp_df['label'].values\n",
        "#Slice the sequence to get only floor B1 data\n",
        "sequences2=sequences[0:len(sequences)]\n",
        "target_sequence2=np.array(target_sequence2)\n",
        "target_sequence2"
      ],
      "execution_count": null,
      "outputs": [
        {
          "output_type": "execute_result",
          "data": {
            "text/plain": [
              "array([177., 177., 177., ..., 154., 154., 154.])"
            ]
          },
          "metadata": {
            "tags": []
          },
          "execution_count": 14
        }
      ]
    },
    {
      "cell_type": "code",
      "metadata": {
        "id": "PXaAAD281td9"
      },
      "source": [
        "train = [sequences2[i] for i in range(len(flags)) if (flags[i]==0)]\n",
        "validation = [sequences2[i] for i in range(len(flags)) if flags[i]==1]\n",
        "test = [sequences2[i] for i in range(len(flags)) if flags[i]==2]\n",
        "test_seq_wp=[waypoint_full_sequence[i] for i in range(len(flags)) if flags[i]==2]\n",
        "\n",
        "train_target = [target_sequence2[i] for i in range(len(flags)) if (flags[i]==0)]\n",
        "validation_target = [target_sequence2[i] for i in range(len(flags)) if flags[i]==1]\n",
        "test_target = [target_sequence2[i] for i in range(len(flags)) if flags[i]==2]\n",
        "train = np.array(train)\n",
        "validation = np.array(validation)\n",
        "test = np.array(test)\n",
        "\n",
        "train_target = np.array(train_target)\n",
        "train_target=to_categorical(train_target,num_classes = 225)\n",
        "\n",
        "validation_target = np.array(validation_target)\n",
        "validation_target=to_categorical(validation_target,num_classes = 225)\n",
        "test_target = np.array(test_target)\n",
        "test_target=to_categorical(test_target,num_classes = 225)"
      ],
      "execution_count": null,
      "outputs": []
    },
    {
      "cell_type": "code",
      "metadata": {
        "colab": {
          "base_uri": "https://localhost:8080/"
        },
        "id": "yDFDCkPn-GDs",
        "outputId": "2767cb5a-fc23-45c0-b90f-09d061e98a8e"
      },
      "source": [
        "print(sequences2[0].shape)\n",
        "train_target[0]\n",
        "len(test_seq_wp)"
      ],
      "execution_count": null,
      "outputs": [
        {
          "output_type": "stream",
          "text": [
            "(5, 21)\n"
          ],
          "name": "stdout"
        },
        {
          "output_type": "execute_result",
          "data": {
            "text/plain": [
              "5832"
            ]
          },
          "metadata": {
            "tags": []
          },
          "execution_count": 16
        }
      ]
    },
    {
      "cell_type": "code",
      "metadata": {
        "id": "Clp7vzIBcMfP"
      },
      "source": [
        "train=tf.convert_to_tensor(train, np.float32)\n",
        "train_target=tf.convert_to_tensor(train_target, np.float32)\n",
        "validation=tf.convert_to_tensor(validation, np.float32)\n",
        "validation_target=tf.convert_to_tensor(validation_target, np.float32)\n",
        "test=tf.convert_to_tensor(test, np.float32)\n",
        "test_target=tf.convert_to_tensor(test_target, np.float32)"
      ],
      "execution_count": null,
      "outputs": []
    },
    {
      "cell_type": "code",
      "metadata": {
        "colab": {
          "base_uri": "https://localhost:8080/"
        },
        "id": "Vlq3I9B0C9HQ",
        "outputId": "325399c3-4d83-4feb-ce07-a395eae2558e"
      },
      "source": [
        "#Trial with 100 grid cells \n",
        "from keras.layers import Dropout\n",
        "seq_len = 5\n",
        "seq_bredth=21\n",
        "model = Sequential()\n",
        "model.add(Bidirectional(LSTM(512,return_sequences=True),input_shape=(seq_len, seq_bredth),merge_mode='concat'))\n",
        "model.add(Dropout(0.2))\n",
        "model.add(LSTM(512, input_shape=(3, 512)))\n",
        "model.add(Dropout(0.2))\n",
        "model.add(Dense(256, activation='relu'))\n",
        "model.add(Dropout(0.2))\n",
        "model.add(Dense(225, activation='softmax'))\n",
        "model.summary()"
      ],
      "execution_count": null,
      "outputs": [
        {
          "output_type": "stream",
          "text": [
            "Model: \"sequential\"\n",
            "_________________________________________________________________\n",
            "Layer (type)                 Output Shape              Param #   \n",
            "=================================================================\n",
            "bidirectional (Bidirectional (None, 5, 1024)           2187264   \n",
            "_________________________________________________________________\n",
            "dropout (Dropout)            (None, 5, 1024)           0         \n",
            "_________________________________________________________________\n",
            "lstm_1 (LSTM)                (None, 512)               3147776   \n",
            "_________________________________________________________________\n",
            "dropout_1 (Dropout)          (None, 512)               0         \n",
            "_________________________________________________________________\n",
            "dense (Dense)                (None, 256)               131328    \n",
            "_________________________________________________________________\n",
            "dropout_2 (Dropout)          (None, 256)               0         \n",
            "_________________________________________________________________\n",
            "dense_1 (Dense)              (None, 225)               57825     \n",
            "=================================================================\n",
            "Total params: 5,524,193\n",
            "Trainable params: 5,524,193\n",
            "Non-trainable params: 0\n",
            "_________________________________________________________________\n"
          ],
          "name": "stdout"
        }
      ]
    },
    {
      "cell_type": "code",
      "metadata": {
        "colab": {
          "base_uri": "https://localhost:8080/"
        },
        "id": "8QzFV7hnDMyS",
        "outputId": "54c216af-86af-48e5-9259-5c170759ae85"
      },
      "source": [
        "#This is 100 cells simple LSTM\n",
        "adam = Adam(lr=0.001)\n",
        "checkpoint_filepath = '/content/drive/MyDrive/building1/225gridnoWiFiBT27March5slots_200epochs_biDirLSTMDoubleDenseDropout/best_model.pkl'\n",
        "chk = ModelCheckpoint(filepath=checkpoint_filepath, monitor='val_accuracy', save_best_only=True, mode='max', verbose=1)\n",
        "model.compile(loss='categorical_crossentropy', optimizer=adam, metrics=['accuracy'])\n",
        "history=model.fit(train, train_target, epochs=200, batch_size=128, callbacks=[chk], validation_data=(validation,validation_target))"
      ],
      "execution_count": null,
      "outputs": [
        {
          "output_type": "stream",
          "text": [
            "Epoch 1/200\n",
            "213/213 [==============================] - 96s 431ms/step - loss: 4.3174 - accuracy: 0.0404 - val_loss: 3.2343 - val_accuracy: 0.1511\n",
            "\n",
            "Epoch 00001: val_accuracy improved from -inf to 0.15109, saving model to /content/drive/MyDrive/building1/225gridnoWiFiBT27March5slots_200epochs_biDirLSTMDoubleDenseDropout/best_model.pkl\n"
          ],
          "name": "stdout"
        },
        {
          "output_type": "stream",
          "text": [
            "WARNING:absl:Found untraced functions such as lstm_cell_3_layer_call_fn, lstm_cell_3_layer_call_and_return_conditional_losses, lstm_cell_1_layer_call_fn, lstm_cell_1_layer_call_and_return_conditional_losses, lstm_cell_2_layer_call_fn while saving (showing 5 of 15). These functions will not be directly callable after loading.\n",
            "WARNING:absl:Found untraced functions such as lstm_cell_3_layer_call_fn, lstm_cell_3_layer_call_and_return_conditional_losses, lstm_cell_1_layer_call_fn, lstm_cell_1_layer_call_and_return_conditional_losses, lstm_cell_2_layer_call_fn while saving (showing 5 of 15). These functions will not be directly callable after loading.\n"
          ],
          "name": "stderr"
        },
        {
          "output_type": "stream",
          "text": [
            "INFO:tensorflow:Assets written to: /content/drive/MyDrive/building1/225gridnoWiFiBT27March5slots_200epochs_biDirLSTMDoubleDenseDropout/best_model.pkl/assets\n"
          ],
          "name": "stdout"
        },
        {
          "output_type": "stream",
          "text": [
            "INFO:tensorflow:Assets written to: /content/drive/MyDrive/building1/225gridnoWiFiBT27March5slots_200epochs_biDirLSTMDoubleDenseDropout/best_model.pkl/assets\n"
          ],
          "name": "stderr"
        },
        {
          "output_type": "stream",
          "text": [
            "Epoch 2/200\n",
            "213/213 [==============================] - 91s 425ms/step - loss: 3.0678 - accuracy: 0.1648 - val_loss: 2.2533 - val_accuracy: 0.3197\n",
            "\n",
            "Epoch 00002: val_accuracy improved from 0.15109 to 0.31967, saving model to /content/drive/MyDrive/building1/225gridnoWiFiBT27March5slots_200epochs_biDirLSTMDoubleDenseDropout/best_model.pkl\n"
          ],
          "name": "stdout"
        },
        {
          "output_type": "stream",
          "text": [
            "WARNING:absl:Found untraced functions such as lstm_cell_3_layer_call_fn, lstm_cell_3_layer_call_and_return_conditional_losses, lstm_cell_1_layer_call_fn, lstm_cell_1_layer_call_and_return_conditional_losses, lstm_cell_2_layer_call_fn while saving (showing 5 of 15). These functions will not be directly callable after loading.\n",
            "WARNING:absl:Found untraced functions such as lstm_cell_3_layer_call_fn, lstm_cell_3_layer_call_and_return_conditional_losses, lstm_cell_1_layer_call_fn, lstm_cell_1_layer_call_and_return_conditional_losses, lstm_cell_2_layer_call_fn while saving (showing 5 of 15). These functions will not be directly callable after loading.\n"
          ],
          "name": "stderr"
        },
        {
          "output_type": "stream",
          "text": [
            "INFO:tensorflow:Assets written to: /content/drive/MyDrive/building1/225gridnoWiFiBT27March5slots_200epochs_biDirLSTMDoubleDenseDropout/best_model.pkl/assets\n"
          ],
          "name": "stdout"
        },
        {
          "output_type": "stream",
          "text": [
            "INFO:tensorflow:Assets written to: /content/drive/MyDrive/building1/225gridnoWiFiBT27March5slots_200epochs_biDirLSTMDoubleDenseDropout/best_model.pkl/assets\n"
          ],
          "name": "stderr"
        },
        {
          "output_type": "stream",
          "text": [
            "Epoch 3/200\n",
            "213/213 [==============================] - 91s 427ms/step - loss: 2.2591 - accuracy: 0.3010 - val_loss: 1.8817 - val_accuracy: 0.3998\n",
            "\n",
            "Epoch 00003: val_accuracy improved from 0.31967 to 0.39976, saving model to /content/drive/MyDrive/building1/225gridnoWiFiBT27March5slots_200epochs_biDirLSTMDoubleDenseDropout/best_model.pkl\n"
          ],
          "name": "stdout"
        },
        {
          "output_type": "stream",
          "text": [
            "WARNING:absl:Found untraced functions such as lstm_cell_3_layer_call_fn, lstm_cell_3_layer_call_and_return_conditional_losses, lstm_cell_1_layer_call_fn, lstm_cell_1_layer_call_and_return_conditional_losses, lstm_cell_2_layer_call_fn while saving (showing 5 of 15). These functions will not be directly callable after loading.\n",
            "WARNING:absl:Found untraced functions such as lstm_cell_3_layer_call_fn, lstm_cell_3_layer_call_and_return_conditional_losses, lstm_cell_1_layer_call_fn, lstm_cell_1_layer_call_and_return_conditional_losses, lstm_cell_2_layer_call_fn while saving (showing 5 of 15). These functions will not be directly callable after loading.\n"
          ],
          "name": "stderr"
        },
        {
          "output_type": "stream",
          "text": [
            "INFO:tensorflow:Assets written to: /content/drive/MyDrive/building1/225gridnoWiFiBT27March5slots_200epochs_biDirLSTMDoubleDenseDropout/best_model.pkl/assets\n"
          ],
          "name": "stdout"
        },
        {
          "output_type": "stream",
          "text": [
            "INFO:tensorflow:Assets written to: /content/drive/MyDrive/building1/225gridnoWiFiBT27March5slots_200epochs_biDirLSTMDoubleDenseDropout/best_model.pkl/assets\n"
          ],
          "name": "stderr"
        },
        {
          "output_type": "stream",
          "text": [
            "Epoch 4/200\n",
            "213/213 [==============================] - 91s 428ms/step - loss: 1.9056 - accuracy: 0.3733 - val_loss: 1.6942 - val_accuracy: 0.4353\n",
            "\n",
            "Epoch 00004: val_accuracy improved from 0.39976 to 0.43526, saving model to /content/drive/MyDrive/building1/225gridnoWiFiBT27March5slots_200epochs_biDirLSTMDoubleDenseDropout/best_model.pkl\n"
          ],
          "name": "stdout"
        },
        {
          "output_type": "stream",
          "text": [
            "WARNING:absl:Found untraced functions such as lstm_cell_3_layer_call_fn, lstm_cell_3_layer_call_and_return_conditional_losses, lstm_cell_1_layer_call_fn, lstm_cell_1_layer_call_and_return_conditional_losses, lstm_cell_2_layer_call_fn while saving (showing 5 of 15). These functions will not be directly callable after loading.\n",
            "WARNING:absl:Found untraced functions such as lstm_cell_3_layer_call_fn, lstm_cell_3_layer_call_and_return_conditional_losses, lstm_cell_1_layer_call_fn, lstm_cell_1_layer_call_and_return_conditional_losses, lstm_cell_2_layer_call_fn while saving (showing 5 of 15). These functions will not be directly callable after loading.\n"
          ],
          "name": "stderr"
        },
        {
          "output_type": "stream",
          "text": [
            "INFO:tensorflow:Assets written to: /content/drive/MyDrive/building1/225gridnoWiFiBT27March5slots_200epochs_biDirLSTMDoubleDenseDropout/best_model.pkl/assets\n"
          ],
          "name": "stdout"
        },
        {
          "output_type": "stream",
          "text": [
            "INFO:tensorflow:Assets written to: /content/drive/MyDrive/building1/225gridnoWiFiBT27March5slots_200epochs_biDirLSTMDoubleDenseDropout/best_model.pkl/assets\n"
          ],
          "name": "stderr"
        },
        {
          "output_type": "stream",
          "text": [
            "Epoch 5/200\n",
            "213/213 [==============================] - 91s 427ms/step - loss: 1.7119 - accuracy: 0.4248 - val_loss: 1.5212 - val_accuracy: 0.4716\n",
            "\n",
            "Epoch 00005: val_accuracy improved from 0.43526 to 0.47162, saving model to /content/drive/MyDrive/building1/225gridnoWiFiBT27March5slots_200epochs_biDirLSTMDoubleDenseDropout/best_model.pkl\n"
          ],
          "name": "stdout"
        },
        {
          "output_type": "stream",
          "text": [
            "WARNING:absl:Found untraced functions such as lstm_cell_3_layer_call_fn, lstm_cell_3_layer_call_and_return_conditional_losses, lstm_cell_1_layer_call_fn, lstm_cell_1_layer_call_and_return_conditional_losses, lstm_cell_2_layer_call_fn while saving (showing 5 of 15). These functions will not be directly callable after loading.\n",
            "WARNING:absl:Found untraced functions such as lstm_cell_3_layer_call_fn, lstm_cell_3_layer_call_and_return_conditional_losses, lstm_cell_1_layer_call_fn, lstm_cell_1_layer_call_and_return_conditional_losses, lstm_cell_2_layer_call_fn while saving (showing 5 of 15). These functions will not be directly callable after loading.\n"
          ],
          "name": "stderr"
        },
        {
          "output_type": "stream",
          "text": [
            "INFO:tensorflow:Assets written to: /content/drive/MyDrive/building1/225gridnoWiFiBT27March5slots_200epochs_biDirLSTMDoubleDenseDropout/best_model.pkl/assets\n"
          ],
          "name": "stdout"
        },
        {
          "output_type": "stream",
          "text": [
            "INFO:tensorflow:Assets written to: /content/drive/MyDrive/building1/225gridnoWiFiBT27March5slots_200epochs_biDirLSTMDoubleDenseDropout/best_model.pkl/assets\n"
          ],
          "name": "stderr"
        },
        {
          "output_type": "stream",
          "text": [
            "Epoch 6/200\n",
            "213/213 [==============================] - 91s 427ms/step - loss: 1.6292 - accuracy: 0.4534 - val_loss: 1.3774 - val_accuracy: 0.5286\n",
            "\n",
            "Epoch 00006: val_accuracy improved from 0.47162 to 0.52855, saving model to /content/drive/MyDrive/building1/225gridnoWiFiBT27March5slots_200epochs_biDirLSTMDoubleDenseDropout/best_model.pkl\n"
          ],
          "name": "stdout"
        },
        {
          "output_type": "stream",
          "text": [
            "WARNING:absl:Found untraced functions such as lstm_cell_3_layer_call_fn, lstm_cell_3_layer_call_and_return_conditional_losses, lstm_cell_1_layer_call_fn, lstm_cell_1_layer_call_and_return_conditional_losses, lstm_cell_2_layer_call_fn while saving (showing 5 of 15). These functions will not be directly callable after loading.\n",
            "WARNING:absl:Found untraced functions such as lstm_cell_3_layer_call_fn, lstm_cell_3_layer_call_and_return_conditional_losses, lstm_cell_1_layer_call_fn, lstm_cell_1_layer_call_and_return_conditional_losses, lstm_cell_2_layer_call_fn while saving (showing 5 of 15). These functions will not be directly callable after loading.\n"
          ],
          "name": "stderr"
        },
        {
          "output_type": "stream",
          "text": [
            "INFO:tensorflow:Assets written to: /content/drive/MyDrive/building1/225gridnoWiFiBT27March5slots_200epochs_biDirLSTMDoubleDenseDropout/best_model.pkl/assets\n"
          ],
          "name": "stdout"
        },
        {
          "output_type": "stream",
          "text": [
            "INFO:tensorflow:Assets written to: /content/drive/MyDrive/building1/225gridnoWiFiBT27March5slots_200epochs_biDirLSTMDoubleDenseDropout/best_model.pkl/assets\n"
          ],
          "name": "stderr"
        },
        {
          "output_type": "stream",
          "text": [
            "Epoch 7/200\n",
            "213/213 [==============================] - 91s 427ms/step - loss: 1.4886 - accuracy: 0.4821 - val_loss: 1.4440 - val_accuracy: 0.5042\n",
            "\n",
            "Epoch 00007: val_accuracy did not improve from 0.52855\n",
            "Epoch 8/200\n",
            "213/213 [==============================] - 91s 427ms/step - loss: 1.4115 - accuracy: 0.5078 - val_loss: 1.4272 - val_accuracy: 0.5155\n",
            "\n",
            "Epoch 00008: val_accuracy did not improve from 0.52855\n",
            "Epoch 9/200\n",
            "213/213 [==============================] - 91s 427ms/step - loss: 1.3594 - accuracy: 0.5212 - val_loss: 1.1763 - val_accuracy: 0.5805\n",
            "\n",
            "Epoch 00009: val_accuracy improved from 0.52855 to 0.58052, saving model to /content/drive/MyDrive/building1/225gridnoWiFiBT27March5slots_200epochs_biDirLSTMDoubleDenseDropout/best_model.pkl\n"
          ],
          "name": "stdout"
        },
        {
          "output_type": "stream",
          "text": [
            "WARNING:absl:Found untraced functions such as lstm_cell_3_layer_call_fn, lstm_cell_3_layer_call_and_return_conditional_losses, lstm_cell_1_layer_call_fn, lstm_cell_1_layer_call_and_return_conditional_losses, lstm_cell_2_layer_call_fn while saving (showing 5 of 15). These functions will not be directly callable after loading.\n",
            "WARNING:absl:Found untraced functions such as lstm_cell_3_layer_call_fn, lstm_cell_3_layer_call_and_return_conditional_losses, lstm_cell_1_layer_call_fn, lstm_cell_1_layer_call_and_return_conditional_losses, lstm_cell_2_layer_call_fn while saving (showing 5 of 15). These functions will not be directly callable after loading.\n"
          ],
          "name": "stderr"
        },
        {
          "output_type": "stream",
          "text": [
            "INFO:tensorflow:Assets written to: /content/drive/MyDrive/building1/225gridnoWiFiBT27March5slots_200epochs_biDirLSTMDoubleDenseDropout/best_model.pkl/assets\n"
          ],
          "name": "stdout"
        },
        {
          "output_type": "stream",
          "text": [
            "INFO:tensorflow:Assets written to: /content/drive/MyDrive/building1/225gridnoWiFiBT27March5slots_200epochs_biDirLSTMDoubleDenseDropout/best_model.pkl/assets\n"
          ],
          "name": "stderr"
        },
        {
          "output_type": "stream",
          "text": [
            "Epoch 10/200\n",
            "213/213 [==============================] - 91s 429ms/step - loss: 1.3026 - accuracy: 0.5464 - val_loss: 1.2190 - val_accuracy: 0.5694\n",
            "\n",
            "Epoch 00010: val_accuracy did not improve from 0.58052\n",
            "Epoch 11/200\n",
            "213/213 [==============================] - 91s 427ms/step - loss: 1.2300 - accuracy: 0.5657 - val_loss: 1.1020 - val_accuracy: 0.6097\n",
            "\n",
            "Epoch 00011: val_accuracy improved from 0.58052 to 0.60967, saving model to /content/drive/MyDrive/building1/225gridnoWiFiBT27March5slots_200epochs_biDirLSTMDoubleDenseDropout/best_model.pkl\n"
          ],
          "name": "stdout"
        },
        {
          "output_type": "stream",
          "text": [
            "WARNING:absl:Found untraced functions such as lstm_cell_3_layer_call_fn, lstm_cell_3_layer_call_and_return_conditional_losses, lstm_cell_1_layer_call_fn, lstm_cell_1_layer_call_and_return_conditional_losses, lstm_cell_2_layer_call_fn while saving (showing 5 of 15). These functions will not be directly callable after loading.\n",
            "WARNING:absl:Found untraced functions such as lstm_cell_3_layer_call_fn, lstm_cell_3_layer_call_and_return_conditional_losses, lstm_cell_1_layer_call_fn, lstm_cell_1_layer_call_and_return_conditional_losses, lstm_cell_2_layer_call_fn while saving (showing 5 of 15). These functions will not be directly callable after loading.\n"
          ],
          "name": "stderr"
        },
        {
          "output_type": "stream",
          "text": [
            "INFO:tensorflow:Assets written to: /content/drive/MyDrive/building1/225gridnoWiFiBT27March5slots_200epochs_biDirLSTMDoubleDenseDropout/best_model.pkl/assets\n"
          ],
          "name": "stdout"
        },
        {
          "output_type": "stream",
          "text": [
            "INFO:tensorflow:Assets written to: /content/drive/MyDrive/building1/225gridnoWiFiBT27March5slots_200epochs_biDirLSTMDoubleDenseDropout/best_model.pkl/assets\n"
          ],
          "name": "stderr"
        },
        {
          "output_type": "stream",
          "text": [
            "Epoch 12/200\n",
            "213/213 [==============================] - 92s 430ms/step - loss: 1.1789 - accuracy: 0.5869 - val_loss: 1.0433 - val_accuracy: 0.6316\n",
            "\n",
            "Epoch 00012: val_accuracy improved from 0.60967 to 0.63162, saving model to /content/drive/MyDrive/building1/225gridnoWiFiBT27March5slots_200epochs_biDirLSTMDoubleDenseDropout/best_model.pkl\n"
          ],
          "name": "stdout"
        },
        {
          "output_type": "stream",
          "text": [
            "WARNING:absl:Found untraced functions such as lstm_cell_3_layer_call_fn, lstm_cell_3_layer_call_and_return_conditional_losses, lstm_cell_1_layer_call_fn, lstm_cell_1_layer_call_and_return_conditional_losses, lstm_cell_2_layer_call_fn while saving (showing 5 of 15). These functions will not be directly callable after loading.\n",
            "WARNING:absl:Found untraced functions such as lstm_cell_3_layer_call_fn, lstm_cell_3_layer_call_and_return_conditional_losses, lstm_cell_1_layer_call_fn, lstm_cell_1_layer_call_and_return_conditional_losses, lstm_cell_2_layer_call_fn while saving (showing 5 of 15). These functions will not be directly callable after loading.\n"
          ],
          "name": "stderr"
        },
        {
          "output_type": "stream",
          "text": [
            "INFO:tensorflow:Assets written to: /content/drive/MyDrive/building1/225gridnoWiFiBT27March5slots_200epochs_biDirLSTMDoubleDenseDropout/best_model.pkl/assets\n"
          ],
          "name": "stdout"
        },
        {
          "output_type": "stream",
          "text": [
            "INFO:tensorflow:Assets written to: /content/drive/MyDrive/building1/225gridnoWiFiBT27March5slots_200epochs_biDirLSTMDoubleDenseDropout/best_model.pkl/assets\n"
          ],
          "name": "stderr"
        },
        {
          "output_type": "stream",
          "text": [
            "Epoch 13/200\n",
            "213/213 [==============================] - 92s 434ms/step - loss: 1.1022 - accuracy: 0.6098 - val_loss: 0.9975 - val_accuracy: 0.6424\n",
            "\n",
            "Epoch 00013: val_accuracy improved from 0.63162 to 0.64243, saving model to /content/drive/MyDrive/building1/225gridnoWiFiBT27March5slots_200epochs_biDirLSTMDoubleDenseDropout/best_model.pkl\n"
          ],
          "name": "stdout"
        },
        {
          "output_type": "stream",
          "text": [
            "WARNING:absl:Found untraced functions such as lstm_cell_3_layer_call_fn, lstm_cell_3_layer_call_and_return_conditional_losses, lstm_cell_1_layer_call_fn, lstm_cell_1_layer_call_and_return_conditional_losses, lstm_cell_2_layer_call_fn while saving (showing 5 of 15). These functions will not be directly callable after loading.\n",
            "WARNING:absl:Found untraced functions such as lstm_cell_3_layer_call_fn, lstm_cell_3_layer_call_and_return_conditional_losses, lstm_cell_1_layer_call_fn, lstm_cell_1_layer_call_and_return_conditional_losses, lstm_cell_2_layer_call_fn while saving (showing 5 of 15). These functions will not be directly callable after loading.\n"
          ],
          "name": "stderr"
        },
        {
          "output_type": "stream",
          "text": [
            "INFO:tensorflow:Assets written to: /content/drive/MyDrive/building1/225gridnoWiFiBT27March5slots_200epochs_biDirLSTMDoubleDenseDropout/best_model.pkl/assets\n"
          ],
          "name": "stdout"
        },
        {
          "output_type": "stream",
          "text": [
            "INFO:tensorflow:Assets written to: /content/drive/MyDrive/building1/225gridnoWiFiBT27March5slots_200epochs_biDirLSTMDoubleDenseDropout/best_model.pkl/assets\n"
          ],
          "name": "stderr"
        },
        {
          "output_type": "stream",
          "text": [
            "Epoch 14/200\n",
            "213/213 [==============================] - 92s 433ms/step - loss: 1.0744 - accuracy: 0.6217 - val_loss: 1.0333 - val_accuracy: 0.6357\n",
            "\n",
            "Epoch 00014: val_accuracy did not improve from 0.64243\n",
            "Epoch 15/200\n",
            "213/213 [==============================] - 92s 432ms/step - loss: 1.0154 - accuracy: 0.6342 - val_loss: 1.0076 - val_accuracy: 0.6453\n",
            "\n",
            "Epoch 00015: val_accuracy improved from 0.64243 to 0.64534, saving model to /content/drive/MyDrive/building1/225gridnoWiFiBT27March5slots_200epochs_biDirLSTMDoubleDenseDropout/best_model.pkl\n"
          ],
          "name": "stdout"
        },
        {
          "output_type": "stream",
          "text": [
            "WARNING:absl:Found untraced functions such as lstm_cell_3_layer_call_fn, lstm_cell_3_layer_call_and_return_conditional_losses, lstm_cell_1_layer_call_fn, lstm_cell_1_layer_call_and_return_conditional_losses, lstm_cell_2_layer_call_fn while saving (showing 5 of 15). These functions will not be directly callable after loading.\n",
            "WARNING:absl:Found untraced functions such as lstm_cell_3_layer_call_fn, lstm_cell_3_layer_call_and_return_conditional_losses, lstm_cell_1_layer_call_fn, lstm_cell_1_layer_call_and_return_conditional_losses, lstm_cell_2_layer_call_fn while saving (showing 5 of 15). These functions will not be directly callable after loading.\n"
          ],
          "name": "stderr"
        },
        {
          "output_type": "stream",
          "text": [
            "INFO:tensorflow:Assets written to: /content/drive/MyDrive/building1/225gridnoWiFiBT27March5slots_200epochs_biDirLSTMDoubleDenseDropout/best_model.pkl/assets\n"
          ],
          "name": "stdout"
        },
        {
          "output_type": "stream",
          "text": [
            "INFO:tensorflow:Assets written to: /content/drive/MyDrive/building1/225gridnoWiFiBT27March5slots_200epochs_biDirLSTMDoubleDenseDropout/best_model.pkl/assets\n"
          ],
          "name": "stderr"
        },
        {
          "output_type": "stream",
          "text": [
            "Epoch 16/200\n",
            "213/213 [==============================] - 92s 434ms/step - loss: 0.9862 - accuracy: 0.6462 - val_loss: 0.9875 - val_accuracy: 0.6476\n",
            "\n",
            "Epoch 00016: val_accuracy improved from 0.64534 to 0.64757, saving model to /content/drive/MyDrive/building1/225gridnoWiFiBT27March5slots_200epochs_biDirLSTMDoubleDenseDropout/best_model.pkl\n"
          ],
          "name": "stdout"
        },
        {
          "output_type": "stream",
          "text": [
            "WARNING:absl:Found untraced functions such as lstm_cell_3_layer_call_fn, lstm_cell_3_layer_call_and_return_conditional_losses, lstm_cell_1_layer_call_fn, lstm_cell_1_layer_call_and_return_conditional_losses, lstm_cell_2_layer_call_fn while saving (showing 5 of 15). These functions will not be directly callable after loading.\n",
            "WARNING:absl:Found untraced functions such as lstm_cell_3_layer_call_fn, lstm_cell_3_layer_call_and_return_conditional_losses, lstm_cell_1_layer_call_fn, lstm_cell_1_layer_call_and_return_conditional_losses, lstm_cell_2_layer_call_fn while saving (showing 5 of 15). These functions will not be directly callable after loading.\n"
          ],
          "name": "stderr"
        },
        {
          "output_type": "stream",
          "text": [
            "INFO:tensorflow:Assets written to: /content/drive/MyDrive/building1/225gridnoWiFiBT27March5slots_200epochs_biDirLSTMDoubleDenseDropout/best_model.pkl/assets\n"
          ],
          "name": "stdout"
        },
        {
          "output_type": "stream",
          "text": [
            "INFO:tensorflow:Assets written to: /content/drive/MyDrive/building1/225gridnoWiFiBT27March5slots_200epochs_biDirLSTMDoubleDenseDropout/best_model.pkl/assets\n"
          ],
          "name": "stderr"
        },
        {
          "output_type": "stream",
          "text": [
            "Epoch 17/200\n",
            "213/213 [==============================] - 93s 435ms/step - loss: 0.9654 - accuracy: 0.6545 - val_loss: 0.9296 - val_accuracy: 0.6733\n",
            "\n",
            "Epoch 00017: val_accuracy improved from 0.64757 to 0.67330, saving model to /content/drive/MyDrive/building1/225gridnoWiFiBT27March5slots_200epochs_biDirLSTMDoubleDenseDropout/best_model.pkl\n"
          ],
          "name": "stdout"
        },
        {
          "output_type": "stream",
          "text": [
            "WARNING:absl:Found untraced functions such as lstm_cell_3_layer_call_fn, lstm_cell_3_layer_call_and_return_conditional_losses, lstm_cell_1_layer_call_fn, lstm_cell_1_layer_call_and_return_conditional_losses, lstm_cell_2_layer_call_fn while saving (showing 5 of 15). These functions will not be directly callable after loading.\n",
            "WARNING:absl:Found untraced functions such as lstm_cell_3_layer_call_fn, lstm_cell_3_layer_call_and_return_conditional_losses, lstm_cell_1_layer_call_fn, lstm_cell_1_layer_call_and_return_conditional_losses, lstm_cell_2_layer_call_fn while saving (showing 5 of 15). These functions will not be directly callable after loading.\n"
          ],
          "name": "stderr"
        },
        {
          "output_type": "stream",
          "text": [
            "INFO:tensorflow:Assets written to: /content/drive/MyDrive/building1/225gridnoWiFiBT27March5slots_200epochs_biDirLSTMDoubleDenseDropout/best_model.pkl/assets\n"
          ],
          "name": "stdout"
        },
        {
          "output_type": "stream",
          "text": [
            "INFO:tensorflow:Assets written to: /content/drive/MyDrive/building1/225gridnoWiFiBT27March5slots_200epochs_biDirLSTMDoubleDenseDropout/best_model.pkl/assets\n"
          ],
          "name": "stderr"
        },
        {
          "output_type": "stream",
          "text": [
            "Epoch 18/200\n",
            "213/213 [==============================] - 93s 436ms/step - loss: 0.9259 - accuracy: 0.6598 - val_loss: 0.9095 - val_accuracy: 0.6796\n",
            "\n",
            "Epoch 00018: val_accuracy improved from 0.67330 to 0.67964, saving model to /content/drive/MyDrive/building1/225gridnoWiFiBT27March5slots_200epochs_biDirLSTMDoubleDenseDropout/best_model.pkl\n"
          ],
          "name": "stdout"
        },
        {
          "output_type": "stream",
          "text": [
            "WARNING:absl:Found untraced functions such as lstm_cell_3_layer_call_fn, lstm_cell_3_layer_call_and_return_conditional_losses, lstm_cell_1_layer_call_fn, lstm_cell_1_layer_call_and_return_conditional_losses, lstm_cell_2_layer_call_fn while saving (showing 5 of 15). These functions will not be directly callable after loading.\n",
            "WARNING:absl:Found untraced functions such as lstm_cell_3_layer_call_fn, lstm_cell_3_layer_call_and_return_conditional_losses, lstm_cell_1_layer_call_fn, lstm_cell_1_layer_call_and_return_conditional_losses, lstm_cell_2_layer_call_fn while saving (showing 5 of 15). These functions will not be directly callable after loading.\n"
          ],
          "name": "stderr"
        },
        {
          "output_type": "stream",
          "text": [
            "INFO:tensorflow:Assets written to: /content/drive/MyDrive/building1/225gridnoWiFiBT27March5slots_200epochs_biDirLSTMDoubleDenseDropout/best_model.pkl/assets\n"
          ],
          "name": "stdout"
        },
        {
          "output_type": "stream",
          "text": [
            "INFO:tensorflow:Assets written to: /content/drive/MyDrive/building1/225gridnoWiFiBT27March5slots_200epochs_biDirLSTMDoubleDenseDropout/best_model.pkl/assets\n"
          ],
          "name": "stderr"
        },
        {
          "output_type": "stream",
          "text": [
            "Epoch 19/200\n",
            "213/213 [==============================] - 93s 436ms/step - loss: 0.8448 - accuracy: 0.6946 - val_loss: 0.9438 - val_accuracy: 0.6634\n",
            "\n",
            "Epoch 00019: val_accuracy did not improve from 0.67964\n",
            "Epoch 20/200\n",
            "213/213 [==============================] - 92s 434ms/step - loss: 0.8174 - accuracy: 0.7006 - val_loss: 0.8321 - val_accuracy: 0.6999\n",
            "\n",
            "Epoch 00020: val_accuracy improved from 0.67964 to 0.69988, saving model to /content/drive/MyDrive/building1/225gridnoWiFiBT27March5slots_200epochs_biDirLSTMDoubleDenseDropout/best_model.pkl\n"
          ],
          "name": "stdout"
        },
        {
          "output_type": "stream",
          "text": [
            "WARNING:absl:Found untraced functions such as lstm_cell_3_layer_call_fn, lstm_cell_3_layer_call_and_return_conditional_losses, lstm_cell_1_layer_call_fn, lstm_cell_1_layer_call_and_return_conditional_losses, lstm_cell_2_layer_call_fn while saving (showing 5 of 15). These functions will not be directly callable after loading.\n",
            "WARNING:absl:Found untraced functions such as lstm_cell_3_layer_call_fn, lstm_cell_3_layer_call_and_return_conditional_losses, lstm_cell_1_layer_call_fn, lstm_cell_1_layer_call_and_return_conditional_losses, lstm_cell_2_layer_call_fn while saving (showing 5 of 15). These functions will not be directly callable after loading.\n"
          ],
          "name": "stderr"
        },
        {
          "output_type": "stream",
          "text": [
            "INFO:tensorflow:Assets written to: /content/drive/MyDrive/building1/225gridnoWiFiBT27March5slots_200epochs_biDirLSTMDoubleDenseDropout/best_model.pkl/assets\n"
          ],
          "name": "stdout"
        },
        {
          "output_type": "stream",
          "text": [
            "INFO:tensorflow:Assets written to: /content/drive/MyDrive/building1/225gridnoWiFiBT27March5slots_200epochs_biDirLSTMDoubleDenseDropout/best_model.pkl/assets\n"
          ],
          "name": "stderr"
        },
        {
          "output_type": "stream",
          "text": [
            "Epoch 21/200\n",
            "213/213 [==============================] - 93s 434ms/step - loss: 0.8019 - accuracy: 0.7090 - val_loss: 0.8554 - val_accuracy: 0.6935\n",
            "\n",
            "Epoch 00021: val_accuracy did not improve from 0.69988\n",
            "Epoch 22/200\n",
            "213/213 [==============================] - 92s 434ms/step - loss: 0.8221 - accuracy: 0.7047 - val_loss: 0.8931 - val_accuracy: 0.6836\n",
            "\n",
            "Epoch 00022: val_accuracy did not improve from 0.69988\n",
            "Epoch 23/200\n",
            "213/213 [==============================] - 92s 434ms/step - loss: 0.7443 - accuracy: 0.7304 - val_loss: 0.7697 - val_accuracy: 0.7225\n",
            "\n",
            "Epoch 00023: val_accuracy improved from 0.69988 to 0.72252, saving model to /content/drive/MyDrive/building1/225gridnoWiFiBT27March5slots_200epochs_biDirLSTMDoubleDenseDropout/best_model.pkl\n"
          ],
          "name": "stdout"
        },
        {
          "output_type": "stream",
          "text": [
            "WARNING:absl:Found untraced functions such as lstm_cell_3_layer_call_fn, lstm_cell_3_layer_call_and_return_conditional_losses, lstm_cell_1_layer_call_fn, lstm_cell_1_layer_call_and_return_conditional_losses, lstm_cell_2_layer_call_fn while saving (showing 5 of 15). These functions will not be directly callable after loading.\n",
            "WARNING:absl:Found untraced functions such as lstm_cell_3_layer_call_fn, lstm_cell_3_layer_call_and_return_conditional_losses, lstm_cell_1_layer_call_fn, lstm_cell_1_layer_call_and_return_conditional_losses, lstm_cell_2_layer_call_fn while saving (showing 5 of 15). These functions will not be directly callable after loading.\n"
          ],
          "name": "stderr"
        },
        {
          "output_type": "stream",
          "text": [
            "INFO:tensorflow:Assets written to: /content/drive/MyDrive/building1/225gridnoWiFiBT27March5slots_200epochs_biDirLSTMDoubleDenseDropout/best_model.pkl/assets\n"
          ],
          "name": "stdout"
        },
        {
          "output_type": "stream",
          "text": [
            "INFO:tensorflow:Assets written to: /content/drive/MyDrive/building1/225gridnoWiFiBT27March5slots_200epochs_biDirLSTMDoubleDenseDropout/best_model.pkl/assets\n"
          ],
          "name": "stderr"
        },
        {
          "output_type": "stream",
          "text": [
            "Epoch 24/200\n",
            "213/213 [==============================] - 92s 434ms/step - loss: 0.7115 - accuracy: 0.7375 - val_loss: 0.8427 - val_accuracy: 0.7050\n",
            "\n",
            "Epoch 00024: val_accuracy did not improve from 0.72252\n",
            "Epoch 25/200\n",
            "213/213 [==============================] - 93s 435ms/step - loss: 0.7721 - accuracy: 0.7278 - val_loss: 0.8072 - val_accuracy: 0.7061\n",
            "\n",
            "Epoch 00025: val_accuracy did not improve from 0.72252\n",
            "Epoch 26/200\n",
            "213/213 [==============================] - 91s 429ms/step - loss: 0.7074 - accuracy: 0.7446 - val_loss: 0.7714 - val_accuracy: 0.7170\n",
            "\n",
            "Epoch 00026: val_accuracy did not improve from 0.72252\n",
            "Epoch 27/200\n",
            "213/213 [==============================] - 92s 431ms/step - loss: 0.6444 - accuracy: 0.7691 - val_loss: 0.8394 - val_accuracy: 0.7047\n",
            "\n",
            "Epoch 00027: val_accuracy did not improve from 0.72252\n",
            "Epoch 28/200\n",
            "213/213 [==============================] - 99s 465ms/step - loss: 0.6731 - accuracy: 0.7545 - val_loss: 0.7822 - val_accuracy: 0.7241\n",
            "\n",
            "Epoch 00028: val_accuracy improved from 0.72252 to 0.72406, saving model to /content/drive/MyDrive/building1/225gridnoWiFiBT27March5slots_200epochs_biDirLSTMDoubleDenseDropout/best_model.pkl\n"
          ],
          "name": "stdout"
        },
        {
          "output_type": "stream",
          "text": [
            "WARNING:absl:Found untraced functions such as lstm_cell_3_layer_call_fn, lstm_cell_3_layer_call_and_return_conditional_losses, lstm_cell_1_layer_call_fn, lstm_cell_1_layer_call_and_return_conditional_losses, lstm_cell_2_layer_call_fn while saving (showing 5 of 15). These functions will not be directly callable after loading.\n",
            "WARNING:absl:Found untraced functions such as lstm_cell_3_layer_call_fn, lstm_cell_3_layer_call_and_return_conditional_losses, lstm_cell_1_layer_call_fn, lstm_cell_1_layer_call_and_return_conditional_losses, lstm_cell_2_layer_call_fn while saving (showing 5 of 15). These functions will not be directly callable after loading.\n"
          ],
          "name": "stderr"
        },
        {
          "output_type": "stream",
          "text": [
            "INFO:tensorflow:Assets written to: /content/drive/MyDrive/building1/225gridnoWiFiBT27March5slots_200epochs_biDirLSTMDoubleDenseDropout/best_model.pkl/assets\n"
          ],
          "name": "stdout"
        },
        {
          "output_type": "stream",
          "text": [
            "INFO:tensorflow:Assets written to: /content/drive/MyDrive/building1/225gridnoWiFiBT27March5slots_200epochs_biDirLSTMDoubleDenseDropout/best_model.pkl/assets\n"
          ],
          "name": "stderr"
        },
        {
          "output_type": "stream",
          "text": [
            "Epoch 29/200\n",
            "213/213 [==============================] - 97s 455ms/step - loss: 0.6072 - accuracy: 0.7789 - val_loss: 0.7778 - val_accuracy: 0.7241\n",
            "\n",
            "Epoch 00029: val_accuracy did not improve from 0.72406\n",
            "Epoch 30/200\n",
            "213/213 [==============================] - 95s 447ms/step - loss: 0.5946 - accuracy: 0.7832 - val_loss: 0.6985 - val_accuracy: 0.7515\n",
            "\n",
            "Epoch 00030: val_accuracy improved from 0.72406 to 0.75150, saving model to /content/drive/MyDrive/building1/225gridnoWiFiBT27March5slots_200epochs_biDirLSTMDoubleDenseDropout/best_model.pkl\n"
          ],
          "name": "stdout"
        },
        {
          "output_type": "stream",
          "text": [
            "WARNING:absl:Found untraced functions such as lstm_cell_3_layer_call_fn, lstm_cell_3_layer_call_and_return_conditional_losses, lstm_cell_1_layer_call_fn, lstm_cell_1_layer_call_and_return_conditional_losses, lstm_cell_2_layer_call_fn while saving (showing 5 of 15). These functions will not be directly callable after loading.\n",
            "WARNING:absl:Found untraced functions such as lstm_cell_3_layer_call_fn, lstm_cell_3_layer_call_and_return_conditional_losses, lstm_cell_1_layer_call_fn, lstm_cell_1_layer_call_and_return_conditional_losses, lstm_cell_2_layer_call_fn while saving (showing 5 of 15). These functions will not be directly callable after loading.\n"
          ],
          "name": "stderr"
        },
        {
          "output_type": "stream",
          "text": [
            "INFO:tensorflow:Assets written to: /content/drive/MyDrive/building1/225gridnoWiFiBT27March5slots_200epochs_biDirLSTMDoubleDenseDropout/best_model.pkl/assets\n"
          ],
          "name": "stdout"
        },
        {
          "output_type": "stream",
          "text": [
            "INFO:tensorflow:Assets written to: /content/drive/MyDrive/building1/225gridnoWiFiBT27March5slots_200epochs_biDirLSTMDoubleDenseDropout/best_model.pkl/assets\n"
          ],
          "name": "stderr"
        },
        {
          "output_type": "stream",
          "text": [
            "Epoch 31/200\n",
            "213/213 [==============================] - 93s 438ms/step - loss: 0.5827 - accuracy: 0.7894 - val_loss: 0.7638 - val_accuracy: 0.7287\n",
            "\n",
            "Epoch 00031: val_accuracy did not improve from 0.75150\n",
            "Epoch 32/200\n",
            "213/213 [==============================] - 93s 436ms/step - loss: 0.5687 - accuracy: 0.7926 - val_loss: 0.8066 - val_accuracy: 0.7222\n",
            "\n",
            "Epoch 00032: val_accuracy did not improve from 0.75150\n",
            "Epoch 33/200\n",
            "213/213 [==============================] - 94s 440ms/step - loss: 0.5505 - accuracy: 0.7970 - val_loss: 0.8442 - val_accuracy: 0.7172\n",
            "\n",
            "Epoch 00033: val_accuracy did not improve from 0.75150\n",
            "Epoch 34/200\n",
            "213/213 [==============================] - 94s 441ms/step - loss: 0.5218 - accuracy: 0.8090 - val_loss: 0.7457 - val_accuracy: 0.7441\n",
            "\n",
            "Epoch 00034: val_accuracy did not improve from 0.75150\n",
            "Epoch 35/200\n",
            "213/213 [==============================] - 92s 434ms/step - loss: 0.5862 - accuracy: 0.7933 - val_loss: 0.6750 - val_accuracy: 0.7594\n",
            "\n",
            "Epoch 00035: val_accuracy improved from 0.75150 to 0.75939, saving model to /content/drive/MyDrive/building1/225gridnoWiFiBT27March5slots_200epochs_biDirLSTMDoubleDenseDropout/best_model.pkl\n"
          ],
          "name": "stdout"
        },
        {
          "output_type": "stream",
          "text": [
            "WARNING:absl:Found untraced functions such as lstm_cell_3_layer_call_fn, lstm_cell_3_layer_call_and_return_conditional_losses, lstm_cell_1_layer_call_fn, lstm_cell_1_layer_call_and_return_conditional_losses, lstm_cell_2_layer_call_fn while saving (showing 5 of 15). These functions will not be directly callable after loading.\n",
            "WARNING:absl:Found untraced functions such as lstm_cell_3_layer_call_fn, lstm_cell_3_layer_call_and_return_conditional_losses, lstm_cell_1_layer_call_fn, lstm_cell_1_layer_call_and_return_conditional_losses, lstm_cell_2_layer_call_fn while saving (showing 5 of 15). These functions will not be directly callable after loading.\n"
          ],
          "name": "stderr"
        },
        {
          "output_type": "stream",
          "text": [
            "INFO:tensorflow:Assets written to: /content/drive/MyDrive/building1/225gridnoWiFiBT27March5slots_200epochs_biDirLSTMDoubleDenseDropout/best_model.pkl/assets\n"
          ],
          "name": "stdout"
        },
        {
          "output_type": "stream",
          "text": [
            "INFO:tensorflow:Assets written to: /content/drive/MyDrive/building1/225gridnoWiFiBT27March5slots_200epochs_biDirLSTMDoubleDenseDropout/best_model.pkl/assets\n"
          ],
          "name": "stderr"
        },
        {
          "output_type": "stream",
          "text": [
            "Epoch 36/200\n",
            "213/213 [==============================] - 96s 449ms/step - loss: 0.5356 - accuracy: 0.8042 - val_loss: 0.6722 - val_accuracy: 0.7668\n",
            "\n",
            "Epoch 00036: val_accuracy improved from 0.75939 to 0.76676, saving model to /content/drive/MyDrive/building1/225gridnoWiFiBT27March5slots_200epochs_biDirLSTMDoubleDenseDropout/best_model.pkl\n"
          ],
          "name": "stdout"
        },
        {
          "output_type": "stream",
          "text": [
            "WARNING:absl:Found untraced functions such as lstm_cell_3_layer_call_fn, lstm_cell_3_layer_call_and_return_conditional_losses, lstm_cell_1_layer_call_fn, lstm_cell_1_layer_call_and_return_conditional_losses, lstm_cell_2_layer_call_fn while saving (showing 5 of 15). These functions will not be directly callable after loading.\n",
            "WARNING:absl:Found untraced functions such as lstm_cell_3_layer_call_fn, lstm_cell_3_layer_call_and_return_conditional_losses, lstm_cell_1_layer_call_fn, lstm_cell_1_layer_call_and_return_conditional_losses, lstm_cell_2_layer_call_fn while saving (showing 5 of 15). These functions will not be directly callable after loading.\n"
          ],
          "name": "stderr"
        },
        {
          "output_type": "stream",
          "text": [
            "INFO:tensorflow:Assets written to: /content/drive/MyDrive/building1/225gridnoWiFiBT27March5slots_200epochs_biDirLSTMDoubleDenseDropout/best_model.pkl/assets\n"
          ],
          "name": "stdout"
        },
        {
          "output_type": "stream",
          "text": [
            "INFO:tensorflow:Assets written to: /content/drive/MyDrive/building1/225gridnoWiFiBT27March5slots_200epochs_biDirLSTMDoubleDenseDropout/best_model.pkl/assets\n"
          ],
          "name": "stderr"
        },
        {
          "output_type": "stream",
          "text": [
            "Epoch 37/200\n",
            "213/213 [==============================] - 96s 453ms/step - loss: 0.4936 - accuracy: 0.8174 - val_loss: 0.6685 - val_accuracy: 0.7683\n",
            "\n",
            "Epoch 00037: val_accuracy improved from 0.76676 to 0.76831, saving model to /content/drive/MyDrive/building1/225gridnoWiFiBT27March5slots_200epochs_biDirLSTMDoubleDenseDropout/best_model.pkl\n"
          ],
          "name": "stdout"
        },
        {
          "output_type": "stream",
          "text": [
            "WARNING:absl:Found untraced functions such as lstm_cell_3_layer_call_fn, lstm_cell_3_layer_call_and_return_conditional_losses, lstm_cell_1_layer_call_fn, lstm_cell_1_layer_call_and_return_conditional_losses, lstm_cell_2_layer_call_fn while saving (showing 5 of 15). These functions will not be directly callable after loading.\n",
            "WARNING:absl:Found untraced functions such as lstm_cell_3_layer_call_fn, lstm_cell_3_layer_call_and_return_conditional_losses, lstm_cell_1_layer_call_fn, lstm_cell_1_layer_call_and_return_conditional_losses, lstm_cell_2_layer_call_fn while saving (showing 5 of 15). These functions will not be directly callable after loading.\n"
          ],
          "name": "stderr"
        },
        {
          "output_type": "stream",
          "text": [
            "INFO:tensorflow:Assets written to: /content/drive/MyDrive/building1/225gridnoWiFiBT27March5slots_200epochs_biDirLSTMDoubleDenseDropout/best_model.pkl/assets\n"
          ],
          "name": "stdout"
        },
        {
          "output_type": "stream",
          "text": [
            "INFO:tensorflow:Assets written to: /content/drive/MyDrive/building1/225gridnoWiFiBT27March5slots_200epochs_biDirLSTMDoubleDenseDropout/best_model.pkl/assets\n"
          ],
          "name": "stderr"
        },
        {
          "output_type": "stream",
          "text": [
            "Epoch 38/200\n",
            "213/213 [==============================] - 95s 445ms/step - loss: 0.4682 - accuracy: 0.8268 - val_loss: 0.6693 - val_accuracy: 0.7668\n",
            "\n",
            "Epoch 00038: val_accuracy did not improve from 0.76831\n",
            "Epoch 39/200\n",
            "213/213 [==============================] - 92s 434ms/step - loss: 0.4579 - accuracy: 0.8344 - val_loss: 0.6557 - val_accuracy: 0.7714\n",
            "\n",
            "Epoch 00039: val_accuracy improved from 0.76831 to 0.77139, saving model to /content/drive/MyDrive/building1/225gridnoWiFiBT27March5slots_200epochs_biDirLSTMDoubleDenseDropout/best_model.pkl\n"
          ],
          "name": "stdout"
        },
        {
          "output_type": "stream",
          "text": [
            "WARNING:absl:Found untraced functions such as lstm_cell_3_layer_call_fn, lstm_cell_3_layer_call_and_return_conditional_losses, lstm_cell_1_layer_call_fn, lstm_cell_1_layer_call_and_return_conditional_losses, lstm_cell_2_layer_call_fn while saving (showing 5 of 15). These functions will not be directly callable after loading.\n",
            "WARNING:absl:Found untraced functions such as lstm_cell_3_layer_call_fn, lstm_cell_3_layer_call_and_return_conditional_losses, lstm_cell_1_layer_call_fn, lstm_cell_1_layer_call_and_return_conditional_losses, lstm_cell_2_layer_call_fn while saving (showing 5 of 15). These functions will not be directly callable after loading.\n"
          ],
          "name": "stderr"
        },
        {
          "output_type": "stream",
          "text": [
            "INFO:tensorflow:Assets written to: /content/drive/MyDrive/building1/225gridnoWiFiBT27March5slots_200epochs_biDirLSTMDoubleDenseDropout/best_model.pkl/assets\n"
          ],
          "name": "stdout"
        },
        {
          "output_type": "stream",
          "text": [
            "INFO:tensorflow:Assets written to: /content/drive/MyDrive/building1/225gridnoWiFiBT27March5slots_200epochs_biDirLSTMDoubleDenseDropout/best_model.pkl/assets\n"
          ],
          "name": "stderr"
        },
        {
          "output_type": "stream",
          "text": [
            "Epoch 40/200\n",
            "213/213 [==============================] - 93s 436ms/step - loss: 0.4892 - accuracy: 0.8210 - val_loss: 0.7094 - val_accuracy: 0.7529\n",
            "\n",
            "Epoch 00040: val_accuracy did not improve from 0.77139\n",
            "Epoch 41/200\n",
            "213/213 [==============================] - 92s 433ms/step - loss: 0.4343 - accuracy: 0.8426 - val_loss: 0.7092 - val_accuracy: 0.7659\n",
            "\n",
            "Epoch 00041: val_accuracy did not improve from 0.77139\n",
            "Epoch 42/200\n",
            "213/213 [==============================] - 92s 433ms/step - loss: 0.4469 - accuracy: 0.8361 - val_loss: 0.7474 - val_accuracy: 0.7486\n",
            "\n",
            "Epoch 00042: val_accuracy did not improve from 0.77139\n",
            "Epoch 43/200\n",
            "213/213 [==============================] - 92s 434ms/step - loss: 0.4262 - accuracy: 0.8436 - val_loss: 0.6401 - val_accuracy: 0.7800\n",
            "\n",
            "Epoch 00043: val_accuracy improved from 0.77139 to 0.77997, saving model to /content/drive/MyDrive/building1/225gridnoWiFiBT27March5slots_200epochs_biDirLSTMDoubleDenseDropout/best_model.pkl\n"
          ],
          "name": "stdout"
        },
        {
          "output_type": "stream",
          "text": [
            "WARNING:absl:Found untraced functions such as lstm_cell_3_layer_call_fn, lstm_cell_3_layer_call_and_return_conditional_losses, lstm_cell_1_layer_call_fn, lstm_cell_1_layer_call_and_return_conditional_losses, lstm_cell_2_layer_call_fn while saving (showing 5 of 15). These functions will not be directly callable after loading.\n",
            "WARNING:absl:Found untraced functions such as lstm_cell_3_layer_call_fn, lstm_cell_3_layer_call_and_return_conditional_losses, lstm_cell_1_layer_call_fn, lstm_cell_1_layer_call_and_return_conditional_losses, lstm_cell_2_layer_call_fn while saving (showing 5 of 15). These functions will not be directly callable after loading.\n"
          ],
          "name": "stderr"
        },
        {
          "output_type": "stream",
          "text": [
            "INFO:tensorflow:Assets written to: /content/drive/MyDrive/building1/225gridnoWiFiBT27March5slots_200epochs_biDirLSTMDoubleDenseDropout/best_model.pkl/assets\n"
          ],
          "name": "stdout"
        },
        {
          "output_type": "stream",
          "text": [
            "INFO:tensorflow:Assets written to: /content/drive/MyDrive/building1/225gridnoWiFiBT27March5slots_200epochs_biDirLSTMDoubleDenseDropout/best_model.pkl/assets\n"
          ],
          "name": "stderr"
        },
        {
          "output_type": "stream",
          "text": [
            "Epoch 44/200\n",
            "213/213 [==============================] - 94s 440ms/step - loss: 0.4466 - accuracy: 0.8422 - val_loss: 0.6523 - val_accuracy: 0.7805\n",
            "\n",
            "Epoch 00044: val_accuracy improved from 0.77997 to 0.78048, saving model to /content/drive/MyDrive/building1/225gridnoWiFiBT27March5slots_200epochs_biDirLSTMDoubleDenseDropout/best_model.pkl\n"
          ],
          "name": "stdout"
        },
        {
          "output_type": "stream",
          "text": [
            "WARNING:absl:Found untraced functions such as lstm_cell_3_layer_call_fn, lstm_cell_3_layer_call_and_return_conditional_losses, lstm_cell_1_layer_call_fn, lstm_cell_1_layer_call_and_return_conditional_losses, lstm_cell_2_layer_call_fn while saving (showing 5 of 15). These functions will not be directly callable after loading.\n",
            "WARNING:absl:Found untraced functions such as lstm_cell_3_layer_call_fn, lstm_cell_3_layer_call_and_return_conditional_losses, lstm_cell_1_layer_call_fn, lstm_cell_1_layer_call_and_return_conditional_losses, lstm_cell_2_layer_call_fn while saving (showing 5 of 15). These functions will not be directly callable after loading.\n"
          ],
          "name": "stderr"
        },
        {
          "output_type": "stream",
          "text": [
            "INFO:tensorflow:Assets written to: /content/drive/MyDrive/building1/225gridnoWiFiBT27March5slots_200epochs_biDirLSTMDoubleDenseDropout/best_model.pkl/assets\n"
          ],
          "name": "stdout"
        },
        {
          "output_type": "stream",
          "text": [
            "INFO:tensorflow:Assets written to: /content/drive/MyDrive/building1/225gridnoWiFiBT27March5slots_200epochs_biDirLSTMDoubleDenseDropout/best_model.pkl/assets\n"
          ],
          "name": "stderr"
        },
        {
          "output_type": "stream",
          "text": [
            "Epoch 45/200\n",
            "213/213 [==============================] - 95s 445ms/step - loss: 0.3789 - accuracy: 0.8612 - val_loss: 0.7053 - val_accuracy: 0.7652\n",
            "\n",
            "Epoch 00045: val_accuracy did not improve from 0.78048\n",
            "Epoch 46/200\n",
            "213/213 [==============================] - 93s 438ms/step - loss: 0.4118 - accuracy: 0.8466 - val_loss: 0.6848 - val_accuracy: 0.7716\n",
            "\n",
            "Epoch 00046: val_accuracy did not improve from 0.78048\n",
            "Epoch 47/200\n",
            "213/213 [==============================] - 93s 436ms/step - loss: 0.3948 - accuracy: 0.8555 - val_loss: 0.7559 - val_accuracy: 0.7537\n",
            "\n",
            "Epoch 00047: val_accuracy did not improve from 0.78048\n",
            "Epoch 48/200\n",
            "213/213 [==============================] - 93s 436ms/step - loss: 0.3882 - accuracy: 0.8579 - val_loss: 0.6694 - val_accuracy: 0.7798\n",
            "\n",
            "Epoch 00048: val_accuracy did not improve from 0.78048\n",
            "Epoch 49/200\n",
            "213/213 [==============================] - 93s 437ms/step - loss: 0.3573 - accuracy: 0.8655 - val_loss: 0.6665 - val_accuracy: 0.7788\n",
            "\n",
            "Epoch 00049: val_accuracy did not improve from 0.78048\n",
            "Epoch 50/200\n",
            "213/213 [==============================] - 93s 438ms/step - loss: 0.6069 - accuracy: 0.8038 - val_loss: 0.6837 - val_accuracy: 0.7748\n",
            "\n",
            "Epoch 00050: val_accuracy did not improve from 0.78048\n",
            "Epoch 51/200\n",
            "213/213 [==============================] - 93s 436ms/step - loss: 0.3698 - accuracy: 0.8640 - val_loss: 0.6526 - val_accuracy: 0.7858\n",
            "\n",
            "Epoch 00051: val_accuracy improved from 0.78048 to 0.78580, saving model to /content/drive/MyDrive/building1/225gridnoWiFiBT27March5slots_200epochs_biDirLSTMDoubleDenseDropout/best_model.pkl\n"
          ],
          "name": "stdout"
        },
        {
          "output_type": "stream",
          "text": [
            "WARNING:absl:Found untraced functions such as lstm_cell_3_layer_call_fn, lstm_cell_3_layer_call_and_return_conditional_losses, lstm_cell_1_layer_call_fn, lstm_cell_1_layer_call_and_return_conditional_losses, lstm_cell_2_layer_call_fn while saving (showing 5 of 15). These functions will not be directly callable after loading.\n",
            "WARNING:absl:Found untraced functions such as lstm_cell_3_layer_call_fn, lstm_cell_3_layer_call_and_return_conditional_losses, lstm_cell_1_layer_call_fn, lstm_cell_1_layer_call_and_return_conditional_losses, lstm_cell_2_layer_call_fn while saving (showing 5 of 15). These functions will not be directly callable after loading.\n"
          ],
          "name": "stderr"
        },
        {
          "output_type": "stream",
          "text": [
            "INFO:tensorflow:Assets written to: /content/drive/MyDrive/building1/225gridnoWiFiBT27March5slots_200epochs_biDirLSTMDoubleDenseDropout/best_model.pkl/assets\n"
          ],
          "name": "stdout"
        },
        {
          "output_type": "stream",
          "text": [
            "INFO:tensorflow:Assets written to: /content/drive/MyDrive/building1/225gridnoWiFiBT27March5slots_200epochs_biDirLSTMDoubleDenseDropout/best_model.pkl/assets\n"
          ],
          "name": "stderr"
        },
        {
          "output_type": "stream",
          "text": [
            "Epoch 52/200\n",
            "213/213 [==============================] - 93s 436ms/step - loss: 0.3529 - accuracy: 0.8731 - val_loss: 0.6307 - val_accuracy: 0.7957\n",
            "\n",
            "Epoch 00052: val_accuracy improved from 0.78580 to 0.79575, saving model to /content/drive/MyDrive/building1/225gridnoWiFiBT27March5slots_200epochs_biDirLSTMDoubleDenseDropout/best_model.pkl\n"
          ],
          "name": "stdout"
        },
        {
          "output_type": "stream",
          "text": [
            "WARNING:absl:Found untraced functions such as lstm_cell_3_layer_call_fn, lstm_cell_3_layer_call_and_return_conditional_losses, lstm_cell_1_layer_call_fn, lstm_cell_1_layer_call_and_return_conditional_losses, lstm_cell_2_layer_call_fn while saving (showing 5 of 15). These functions will not be directly callable after loading.\n",
            "WARNING:absl:Found untraced functions such as lstm_cell_3_layer_call_fn, lstm_cell_3_layer_call_and_return_conditional_losses, lstm_cell_1_layer_call_fn, lstm_cell_1_layer_call_and_return_conditional_losses, lstm_cell_2_layer_call_fn while saving (showing 5 of 15). These functions will not be directly callable after loading.\n"
          ],
          "name": "stderr"
        },
        {
          "output_type": "stream",
          "text": [
            "INFO:tensorflow:Assets written to: /content/drive/MyDrive/building1/225gridnoWiFiBT27March5slots_200epochs_biDirLSTMDoubleDenseDropout/best_model.pkl/assets\n"
          ],
          "name": "stdout"
        },
        {
          "output_type": "stream",
          "text": [
            "INFO:tensorflow:Assets written to: /content/drive/MyDrive/building1/225gridnoWiFiBT27March5slots_200epochs_biDirLSTMDoubleDenseDropout/best_model.pkl/assets\n"
          ],
          "name": "stderr"
        },
        {
          "output_type": "stream",
          "text": [
            "Epoch 53/200\n",
            "213/213 [==============================] - 93s 438ms/step - loss: 0.3325 - accuracy: 0.8786 - val_loss: 0.6687 - val_accuracy: 0.7841\n",
            "\n",
            "Epoch 00053: val_accuracy did not improve from 0.79575\n",
            "Epoch 54/200\n",
            "213/213 [==============================] - 93s 435ms/step - loss: 0.3432 - accuracy: 0.8761 - val_loss: 0.6566 - val_accuracy: 0.7875\n",
            "\n",
            "Epoch 00054: val_accuracy did not improve from 0.79575\n",
            "Epoch 55/200\n",
            "213/213 [==============================] - 93s 435ms/step - loss: 0.3352 - accuracy: 0.8791 - val_loss: 0.6457 - val_accuracy: 0.7858\n",
            "\n",
            "Epoch 00055: val_accuracy did not improve from 0.79575\n",
            "Epoch 56/200\n",
            "213/213 [==============================] - 93s 436ms/step - loss: 0.3046 - accuracy: 0.8894 - val_loss: 0.6620 - val_accuracy: 0.7865\n",
            "\n",
            "Epoch 00056: val_accuracy did not improve from 0.79575\n",
            "Epoch 57/200\n",
            "213/213 [==============================] - 93s 435ms/step - loss: 0.3650 - accuracy: 0.8673 - val_loss: 0.8225 - val_accuracy: 0.7510\n",
            "\n",
            "Epoch 00057: val_accuracy did not improve from 0.79575\n",
            "Epoch 58/200\n",
            "213/213 [==============================] - 93s 435ms/step - loss: 0.3816 - accuracy: 0.8669 - val_loss: 0.6486 - val_accuracy: 0.7875\n",
            "\n",
            "Epoch 00058: val_accuracy did not improve from 0.79575\n",
            "Epoch 59/200\n",
            "213/213 [==============================] - 93s 436ms/step - loss: 0.3162 - accuracy: 0.8861 - val_loss: 0.6226 - val_accuracy: 0.8002\n",
            "\n",
            "Epoch 00059: val_accuracy improved from 0.79575 to 0.80021, saving model to /content/drive/MyDrive/building1/225gridnoWiFiBT27March5slots_200epochs_biDirLSTMDoubleDenseDropout/best_model.pkl\n"
          ],
          "name": "stdout"
        },
        {
          "output_type": "stream",
          "text": [
            "WARNING:absl:Found untraced functions such as lstm_cell_3_layer_call_fn, lstm_cell_3_layer_call_and_return_conditional_losses, lstm_cell_1_layer_call_fn, lstm_cell_1_layer_call_and_return_conditional_losses, lstm_cell_2_layer_call_fn while saving (showing 5 of 15). These functions will not be directly callable after loading.\n",
            "WARNING:absl:Found untraced functions such as lstm_cell_3_layer_call_fn, lstm_cell_3_layer_call_and_return_conditional_losses, lstm_cell_1_layer_call_fn, lstm_cell_1_layer_call_and_return_conditional_losses, lstm_cell_2_layer_call_fn while saving (showing 5 of 15). These functions will not be directly callable after loading.\n"
          ],
          "name": "stderr"
        },
        {
          "output_type": "stream",
          "text": [
            "INFO:tensorflow:Assets written to: /content/drive/MyDrive/building1/225gridnoWiFiBT27March5slots_200epochs_biDirLSTMDoubleDenseDropout/best_model.pkl/assets\n"
          ],
          "name": "stdout"
        },
        {
          "output_type": "stream",
          "text": [
            "INFO:tensorflow:Assets written to: /content/drive/MyDrive/building1/225gridnoWiFiBT27March5slots_200epochs_biDirLSTMDoubleDenseDropout/best_model.pkl/assets\n"
          ],
          "name": "stderr"
        },
        {
          "output_type": "stream",
          "text": [
            "Epoch 60/200\n",
            "213/213 [==============================] - 93s 438ms/step - loss: 0.2917 - accuracy: 0.8957 - val_loss: 0.6625 - val_accuracy: 0.7973\n",
            "\n",
            "Epoch 00060: val_accuracy did not improve from 0.80021\n",
            "Epoch 61/200\n",
            "213/213 [==============================] - 93s 438ms/step - loss: 0.3597 - accuracy: 0.8740 - val_loss: 0.6403 - val_accuracy: 0.7964\n",
            "\n",
            "Epoch 00061: val_accuracy did not improve from 0.80021\n",
            "Epoch 62/200\n",
            "213/213 [==============================] - 93s 436ms/step - loss: 0.2779 - accuracy: 0.8990 - val_loss: 0.7099 - val_accuracy: 0.7765\n",
            "\n",
            "Epoch 00062: val_accuracy did not improve from 0.80021\n",
            "Epoch 63/200\n",
            "213/213 [==============================] - 93s 435ms/step - loss: 0.3183 - accuracy: 0.8876 - val_loss: 0.7155 - val_accuracy: 0.7795\n",
            "\n",
            "Epoch 00063: val_accuracy did not improve from 0.80021\n",
            "Epoch 64/200\n",
            "213/213 [==============================] - 93s 437ms/step - loss: 0.2889 - accuracy: 0.8965 - val_loss: 0.7643 - val_accuracy: 0.7752\n",
            "\n",
            "Epoch 00064: val_accuracy did not improve from 0.80021\n",
            "Epoch 65/200\n",
            "213/213 [==============================] - 92s 434ms/step - loss: 0.3578 - accuracy: 0.8760 - val_loss: 0.6630 - val_accuracy: 0.7988\n",
            "\n",
            "Epoch 00065: val_accuracy did not improve from 0.80021\n",
            "Epoch 66/200\n",
            "213/213 [==============================] - 92s 434ms/step - loss: 0.2923 - accuracy: 0.8929 - val_loss: 0.7178 - val_accuracy: 0.7891\n",
            "\n",
            "Epoch 00066: val_accuracy did not improve from 0.80021\n",
            "Epoch 67/200\n",
            "213/213 [==============================] - 92s 434ms/step - loss: 0.3014 - accuracy: 0.8907 - val_loss: 0.8440 - val_accuracy: 0.7637\n",
            "\n",
            "Epoch 00067: val_accuracy did not improve from 0.80021\n",
            "Epoch 68/200\n",
            "213/213 [==============================] - 93s 435ms/step - loss: 0.4319 - accuracy: 0.8603 - val_loss: 0.6695 - val_accuracy: 0.7973\n",
            "\n",
            "Epoch 00068: val_accuracy did not improve from 0.80021\n",
            "Epoch 69/200\n",
            "213/213 [==============================] - 93s 436ms/step - loss: 0.2797 - accuracy: 0.9025 - val_loss: 0.6747 - val_accuracy: 0.7942\n",
            "\n",
            "Epoch 00069: val_accuracy did not improve from 0.80021\n",
            "Epoch 70/200\n",
            "213/213 [==============================] - 92s 434ms/step - loss: 0.2587 - accuracy: 0.9082 - val_loss: 0.6493 - val_accuracy: 0.8042\n",
            "\n",
            "Epoch 00070: val_accuracy improved from 0.80021 to 0.80415, saving model to /content/drive/MyDrive/building1/225gridnoWiFiBT27March5slots_200epochs_biDirLSTMDoubleDenseDropout/best_model.pkl\n"
          ],
          "name": "stdout"
        },
        {
          "output_type": "stream",
          "text": [
            "WARNING:absl:Found untraced functions such as lstm_cell_3_layer_call_fn, lstm_cell_3_layer_call_and_return_conditional_losses, lstm_cell_1_layer_call_fn, lstm_cell_1_layer_call_and_return_conditional_losses, lstm_cell_2_layer_call_fn while saving (showing 5 of 15). These functions will not be directly callable after loading.\n",
            "WARNING:absl:Found untraced functions such as lstm_cell_3_layer_call_fn, lstm_cell_3_layer_call_and_return_conditional_losses, lstm_cell_1_layer_call_fn, lstm_cell_1_layer_call_and_return_conditional_losses, lstm_cell_2_layer_call_fn while saving (showing 5 of 15). These functions will not be directly callable after loading.\n"
          ],
          "name": "stderr"
        },
        {
          "output_type": "stream",
          "text": [
            "INFO:tensorflow:Assets written to: /content/drive/MyDrive/building1/225gridnoWiFiBT27March5slots_200epochs_biDirLSTMDoubleDenseDropout/best_model.pkl/assets\n"
          ],
          "name": "stdout"
        },
        {
          "output_type": "stream",
          "text": [
            "INFO:tensorflow:Assets written to: /content/drive/MyDrive/building1/225gridnoWiFiBT27March5slots_200epochs_biDirLSTMDoubleDenseDropout/best_model.pkl/assets\n"
          ],
          "name": "stderr"
        },
        {
          "output_type": "stream",
          "text": [
            "Epoch 71/200\n",
            "213/213 [==============================] - 92s 434ms/step - loss: 0.2717 - accuracy: 0.9029 - val_loss: 0.6829 - val_accuracy: 0.7920\n",
            "\n",
            "Epoch 00071: val_accuracy did not improve from 0.80415\n",
            "Epoch 72/200\n",
            "213/213 [==============================] - 92s 432ms/step - loss: 0.2516 - accuracy: 0.9079 - val_loss: 0.6825 - val_accuracy: 0.8017\n",
            "\n",
            "Epoch 00072: val_accuracy did not improve from 0.80415\n",
            "Epoch 73/200\n",
            "213/213 [==============================] - 92s 433ms/step - loss: 0.2445 - accuracy: 0.9114 - val_loss: 0.6457 - val_accuracy: 0.8076\n",
            "\n",
            "Epoch 00073: val_accuracy improved from 0.80415 to 0.80758, saving model to /content/drive/MyDrive/building1/225gridnoWiFiBT27March5slots_200epochs_biDirLSTMDoubleDenseDropout/best_model.pkl\n"
          ],
          "name": "stdout"
        },
        {
          "output_type": "stream",
          "text": [
            "WARNING:absl:Found untraced functions such as lstm_cell_3_layer_call_fn, lstm_cell_3_layer_call_and_return_conditional_losses, lstm_cell_1_layer_call_fn, lstm_cell_1_layer_call_and_return_conditional_losses, lstm_cell_2_layer_call_fn while saving (showing 5 of 15). These functions will not be directly callable after loading.\n",
            "WARNING:absl:Found untraced functions such as lstm_cell_3_layer_call_fn, lstm_cell_3_layer_call_and_return_conditional_losses, lstm_cell_1_layer_call_fn, lstm_cell_1_layer_call_and_return_conditional_losses, lstm_cell_2_layer_call_fn while saving (showing 5 of 15). These functions will not be directly callable after loading.\n"
          ],
          "name": "stderr"
        },
        {
          "output_type": "stream",
          "text": [
            "INFO:tensorflow:Assets written to: /content/drive/MyDrive/building1/225gridnoWiFiBT27March5slots_200epochs_biDirLSTMDoubleDenseDropout/best_model.pkl/assets\n"
          ],
          "name": "stdout"
        },
        {
          "output_type": "stream",
          "text": [
            "INFO:tensorflow:Assets written to: /content/drive/MyDrive/building1/225gridnoWiFiBT27March5slots_200epochs_biDirLSTMDoubleDenseDropout/best_model.pkl/assets\n"
          ],
          "name": "stderr"
        },
        {
          "output_type": "stream",
          "text": [
            "Epoch 74/200\n",
            "213/213 [==============================] - 92s 434ms/step - loss: 0.2471 - accuracy: 0.9108 - val_loss: 0.7686 - val_accuracy: 0.7788\n",
            "\n",
            "Epoch 00074: val_accuracy did not improve from 0.80758\n",
            "Epoch 75/200\n",
            "213/213 [==============================] - 92s 433ms/step - loss: 0.2665 - accuracy: 0.9041 - val_loss: 0.6721 - val_accuracy: 0.8023\n",
            "\n",
            "Epoch 00075: val_accuracy did not improve from 0.80758\n",
            "Epoch 76/200\n",
            "213/213 [==============================] - 92s 433ms/step - loss: 0.2442 - accuracy: 0.9125 - val_loss: 0.6759 - val_accuracy: 0.7980\n",
            "\n",
            "Epoch 00076: val_accuracy did not improve from 0.80758\n",
            "Epoch 77/200\n",
            "213/213 [==============================] - 92s 432ms/step - loss: 0.2352 - accuracy: 0.9170 - val_loss: 0.8112 - val_accuracy: 0.7578\n",
            "\n",
            "Epoch 00077: val_accuracy did not improve from 0.80758\n",
            "Epoch 78/200\n",
            "213/213 [==============================] - 92s 432ms/step - loss: 0.2914 - accuracy: 0.8977 - val_loss: 0.6691 - val_accuracy: 0.8033\n",
            "\n",
            "Epoch 00078: val_accuracy did not improve from 0.80758\n",
            "Epoch 79/200\n",
            "213/213 [==============================] - 92s 432ms/step - loss: 0.2435 - accuracy: 0.9165 - val_loss: 0.7027 - val_accuracy: 0.7918\n",
            "\n",
            "Epoch 00079: val_accuracy did not improve from 0.80758\n",
            "Epoch 80/200\n",
            "213/213 [==============================] - 92s 432ms/step - loss: 0.2244 - accuracy: 0.9181 - val_loss: 0.6569 - val_accuracy: 0.8105\n",
            "\n",
            "Epoch 00080: val_accuracy improved from 0.80758 to 0.81050, saving model to /content/drive/MyDrive/building1/225gridnoWiFiBT27March5slots_200epochs_biDirLSTMDoubleDenseDropout/best_model.pkl\n"
          ],
          "name": "stdout"
        },
        {
          "output_type": "stream",
          "text": [
            "WARNING:absl:Found untraced functions such as lstm_cell_3_layer_call_fn, lstm_cell_3_layer_call_and_return_conditional_losses, lstm_cell_1_layer_call_fn, lstm_cell_1_layer_call_and_return_conditional_losses, lstm_cell_2_layer_call_fn while saving (showing 5 of 15). These functions will not be directly callable after loading.\n",
            "WARNING:absl:Found untraced functions such as lstm_cell_3_layer_call_fn, lstm_cell_3_layer_call_and_return_conditional_losses, lstm_cell_1_layer_call_fn, lstm_cell_1_layer_call_and_return_conditional_losses, lstm_cell_2_layer_call_fn while saving (showing 5 of 15). These functions will not be directly callable after loading.\n"
          ],
          "name": "stderr"
        },
        {
          "output_type": "stream",
          "text": [
            "INFO:tensorflow:Assets written to: /content/drive/MyDrive/building1/225gridnoWiFiBT27March5slots_200epochs_biDirLSTMDoubleDenseDropout/best_model.pkl/assets\n"
          ],
          "name": "stdout"
        },
        {
          "output_type": "stream",
          "text": [
            "INFO:tensorflow:Assets written to: /content/drive/MyDrive/building1/225gridnoWiFiBT27March5slots_200epochs_biDirLSTMDoubleDenseDropout/best_model.pkl/assets\n"
          ],
          "name": "stderr"
        },
        {
          "output_type": "stream",
          "text": [
            "Epoch 81/200\n",
            "213/213 [==============================] - 92s 433ms/step - loss: 0.2147 - accuracy: 0.9249 - val_loss: 0.6974 - val_accuracy: 0.7999\n",
            "\n",
            "Epoch 00081: val_accuracy did not improve from 0.81050\n",
            "Epoch 82/200\n",
            "213/213 [==============================] - 92s 431ms/step - loss: 0.3168 - accuracy: 0.8973 - val_loss: 0.6518 - val_accuracy: 0.8069\n",
            "\n",
            "Epoch 00082: val_accuracy did not improve from 0.81050\n",
            "Epoch 83/200\n",
            "213/213 [==============================] - 91s 429ms/step - loss: 0.2223 - accuracy: 0.9201 - val_loss: 0.6886 - val_accuracy: 0.8078\n",
            "\n",
            "Epoch 00083: val_accuracy did not improve from 0.81050\n",
            "Epoch 84/200\n",
            "213/213 [==============================] - 92s 431ms/step - loss: 0.1963 - accuracy: 0.9299 - val_loss: 0.7134 - val_accuracy: 0.7959\n",
            "\n",
            "Epoch 00084: val_accuracy did not improve from 0.81050\n",
            "Epoch 85/200\n",
            "213/213 [==============================] - 92s 431ms/step - loss: 0.2330 - accuracy: 0.9174 - val_loss: 0.7481 - val_accuracy: 0.7851\n",
            "\n",
            "Epoch 00085: val_accuracy did not improve from 0.81050\n",
            "Epoch 86/200\n",
            "213/213 [==============================] - 92s 430ms/step - loss: 0.2014 - accuracy: 0.9282 - val_loss: 0.6833 - val_accuracy: 0.8105\n",
            "\n",
            "Epoch 00086: val_accuracy did not improve from 0.81050\n",
            "Epoch 87/200\n",
            "213/213 [==============================] - 92s 431ms/step - loss: 0.2071 - accuracy: 0.9251 - val_loss: 0.7276 - val_accuracy: 0.8026\n",
            "\n",
            "Epoch 00087: val_accuracy did not improve from 0.81050\n",
            "Epoch 88/200\n",
            "213/213 [==============================] - 91s 429ms/step - loss: 0.2427 - accuracy: 0.9165 - val_loss: 0.6680 - val_accuracy: 0.8064\n",
            "\n",
            "Epoch 00088: val_accuracy did not improve from 0.81050\n",
            "Epoch 89/200\n",
            "213/213 [==============================] - 91s 428ms/step - loss: 0.2096 - accuracy: 0.9269 - val_loss: 0.7202 - val_accuracy: 0.8023\n",
            "\n",
            "Epoch 00089: val_accuracy did not improve from 0.81050\n",
            "Epoch 90/200\n",
            "213/213 [==============================] - 92s 432ms/step - loss: 0.2422 - accuracy: 0.9203 - val_loss: 0.7701 - val_accuracy: 0.7911\n",
            "\n",
            "Epoch 00090: val_accuracy did not improve from 0.81050\n",
            "Epoch 91/200\n",
            "213/213 [==============================] - 92s 433ms/step - loss: 0.2136 - accuracy: 0.9270 - val_loss: 0.7505 - val_accuracy: 0.8024\n",
            "\n",
            "Epoch 00091: val_accuracy did not improve from 0.81050\n",
            "Epoch 92/200\n",
            "213/213 [==============================] - 92s 433ms/step - loss: 0.2016 - accuracy: 0.9302 - val_loss: 0.7778 - val_accuracy: 0.7896\n",
            "\n",
            "Epoch 00092: val_accuracy did not improve from 0.81050\n",
            "Epoch 93/200\n",
            "213/213 [==============================] - 92s 433ms/step - loss: 0.2072 - accuracy: 0.9273 - val_loss: 0.7147 - val_accuracy: 0.8078\n",
            "\n",
            "Epoch 00093: val_accuracy did not improve from 0.81050\n",
            "Epoch 94/200\n",
            "213/213 [==============================] - 93s 434ms/step - loss: 0.2643 - accuracy: 0.9126 - val_loss: 0.6995 - val_accuracy: 0.7918\n",
            "\n",
            "Epoch 00094: val_accuracy did not improve from 0.81050\n",
            "Epoch 95/200\n",
            "213/213 [==============================] - 92s 434ms/step - loss: 0.1924 - accuracy: 0.9313 - val_loss: 0.7232 - val_accuracy: 0.8012\n",
            "\n",
            "Epoch 00095: val_accuracy did not improve from 0.81050\n",
            "Epoch 96/200\n",
            "213/213 [==============================] - 92s 433ms/step - loss: 0.1875 - accuracy: 0.9354 - val_loss: 0.7093 - val_accuracy: 0.8067\n",
            "\n",
            "Epoch 00096: val_accuracy did not improve from 0.81050\n",
            "Epoch 97/200\n",
            "213/213 [==============================] - 94s 441ms/step - loss: 0.1733 - accuracy: 0.9397 - val_loss: 0.7586 - val_accuracy: 0.7951\n",
            "\n",
            "Epoch 00097: val_accuracy did not improve from 0.81050\n",
            "Epoch 98/200\n",
            "213/213 [==============================] - 94s 444ms/step - loss: 0.2094 - accuracy: 0.9296 - val_loss: 0.7262 - val_accuracy: 0.8050\n",
            "\n",
            "Epoch 00098: val_accuracy did not improve from 0.81050\n",
            "Epoch 99/200\n",
            "213/213 [==============================] - 92s 430ms/step - loss: 0.1935 - accuracy: 0.9309 - val_loss: 0.7107 - val_accuracy: 0.8055\n",
            "\n",
            "Epoch 00099: val_accuracy did not improve from 0.81050\n",
            "Epoch 100/200\n",
            "213/213 [==============================] - 93s 435ms/step - loss: 0.1792 - accuracy: 0.9363 - val_loss: 0.7349 - val_accuracy: 0.8023\n",
            "\n",
            "Epoch 00100: val_accuracy did not improve from 0.81050\n",
            "Epoch 101/200\n",
            "213/213 [==============================] - 92s 433ms/step - loss: 0.1748 - accuracy: 0.9361 - val_loss: 0.7216 - val_accuracy: 0.8136\n",
            "\n",
            "Epoch 00101: val_accuracy improved from 0.81050 to 0.81358, saving model to /content/drive/MyDrive/building1/225gridnoWiFiBT27March5slots_200epochs_biDirLSTMDoubleDenseDropout/best_model.pkl\n"
          ],
          "name": "stdout"
        },
        {
          "output_type": "stream",
          "text": [
            "WARNING:absl:Found untraced functions such as lstm_cell_3_layer_call_fn, lstm_cell_3_layer_call_and_return_conditional_losses, lstm_cell_1_layer_call_fn, lstm_cell_1_layer_call_and_return_conditional_losses, lstm_cell_2_layer_call_fn while saving (showing 5 of 15). These functions will not be directly callable after loading.\n",
            "WARNING:absl:Found untraced functions such as lstm_cell_3_layer_call_fn, lstm_cell_3_layer_call_and_return_conditional_losses, lstm_cell_1_layer_call_fn, lstm_cell_1_layer_call_and_return_conditional_losses, lstm_cell_2_layer_call_fn while saving (showing 5 of 15). These functions will not be directly callable after loading.\n"
          ],
          "name": "stderr"
        },
        {
          "output_type": "stream",
          "text": [
            "INFO:tensorflow:Assets written to: /content/drive/MyDrive/building1/225gridnoWiFiBT27March5slots_200epochs_biDirLSTMDoubleDenseDropout/best_model.pkl/assets\n"
          ],
          "name": "stdout"
        },
        {
          "output_type": "stream",
          "text": [
            "INFO:tensorflow:Assets written to: /content/drive/MyDrive/building1/225gridnoWiFiBT27March5slots_200epochs_biDirLSTMDoubleDenseDropout/best_model.pkl/assets\n"
          ],
          "name": "stderr"
        },
        {
          "output_type": "stream",
          "text": [
            "Epoch 102/200\n",
            "213/213 [==============================] - 93s 439ms/step - loss: 0.2169 - accuracy: 0.9276 - val_loss: 0.7203 - val_accuracy: 0.8139\n",
            "\n",
            "Epoch 00102: val_accuracy improved from 0.81358 to 0.81393, saving model to /content/drive/MyDrive/building1/225gridnoWiFiBT27March5slots_200epochs_biDirLSTMDoubleDenseDropout/best_model.pkl\n"
          ],
          "name": "stdout"
        },
        {
          "output_type": "stream",
          "text": [
            "WARNING:absl:Found untraced functions such as lstm_cell_3_layer_call_fn, lstm_cell_3_layer_call_and_return_conditional_losses, lstm_cell_1_layer_call_fn, lstm_cell_1_layer_call_and_return_conditional_losses, lstm_cell_2_layer_call_fn while saving (showing 5 of 15). These functions will not be directly callable after loading.\n",
            "WARNING:absl:Found untraced functions such as lstm_cell_3_layer_call_fn, lstm_cell_3_layer_call_and_return_conditional_losses, lstm_cell_1_layer_call_fn, lstm_cell_1_layer_call_and_return_conditional_losses, lstm_cell_2_layer_call_fn while saving (showing 5 of 15). These functions will not be directly callable after loading.\n"
          ],
          "name": "stderr"
        },
        {
          "output_type": "stream",
          "text": [
            "INFO:tensorflow:Assets written to: /content/drive/MyDrive/building1/225gridnoWiFiBT27March5slots_200epochs_biDirLSTMDoubleDenseDropout/best_model.pkl/assets\n"
          ],
          "name": "stdout"
        },
        {
          "output_type": "stream",
          "text": [
            "INFO:tensorflow:Assets written to: /content/drive/MyDrive/building1/225gridnoWiFiBT27March5slots_200epochs_biDirLSTMDoubleDenseDropout/best_model.pkl/assets\n"
          ],
          "name": "stderr"
        },
        {
          "output_type": "stream",
          "text": [
            "Epoch 103/200\n",
            "213/213 [==============================] - 99s 464ms/step - loss: 0.1614 - accuracy: 0.9422 - val_loss: 0.7770 - val_accuracy: 0.8040\n",
            "\n",
            "Epoch 00103: val_accuracy did not improve from 0.81393\n",
            "Epoch 104/200\n",
            "213/213 [==============================] - 100s 471ms/step - loss: 0.1760 - accuracy: 0.9359 - val_loss: 0.9991 - val_accuracy: 0.7549\n",
            "\n",
            "Epoch 00104: val_accuracy did not improve from 0.81393\n",
            "Epoch 105/200\n",
            "213/213 [==============================] - 96s 453ms/step - loss: 0.2396 - accuracy: 0.9216 - val_loss: 0.7273 - val_accuracy: 0.8062\n",
            "\n",
            "Epoch 00105: val_accuracy did not improve from 0.81393\n",
            "Epoch 106/200\n",
            "213/213 [==============================] - 94s 439ms/step - loss: 0.1796 - accuracy: 0.9386 - val_loss: 0.7501 - val_accuracy: 0.8036\n",
            "\n",
            "Epoch 00106: val_accuracy did not improve from 0.81393\n",
            "Epoch 107/200\n",
            "213/213 [==============================] - 93s 438ms/step - loss: 0.1419 - accuracy: 0.9497 - val_loss: 0.7705 - val_accuracy: 0.8066\n",
            "\n",
            "Epoch 00107: val_accuracy did not improve from 0.81393\n",
            "Epoch 108/200\n",
            "213/213 [==============================] - 93s 438ms/step - loss: 0.1952 - accuracy: 0.9319 - val_loss: 0.7477 - val_accuracy: 0.8117\n",
            "\n",
            "Epoch 00108: val_accuracy did not improve from 0.81393\n",
            "Epoch 109/200\n",
            "213/213 [==============================] - 93s 437ms/step - loss: 0.1955 - accuracy: 0.9325 - val_loss: 0.7902 - val_accuracy: 0.7913\n",
            "\n",
            "Epoch 00109: val_accuracy did not improve from 0.81393\n",
            "Epoch 110/200\n",
            "213/213 [==============================] - 93s 436ms/step - loss: 0.2042 - accuracy: 0.9307 - val_loss: 0.7541 - val_accuracy: 0.8038\n",
            "\n",
            "Epoch 00110: val_accuracy did not improve from 0.81393\n",
            "Epoch 111/200\n",
            "213/213 [==============================] - 93s 435ms/step - loss: 0.1710 - accuracy: 0.9423 - val_loss: 0.7533 - val_accuracy: 0.8035\n",
            "\n",
            "Epoch 00111: val_accuracy did not improve from 0.81393\n",
            "Epoch 112/200\n",
            "213/213 [==============================] - 93s 438ms/step - loss: 0.1645 - accuracy: 0.9418 - val_loss: 0.7880 - val_accuracy: 0.7968\n",
            "\n",
            "Epoch 00112: val_accuracy did not improve from 0.81393\n",
            "Epoch 113/200\n",
            "213/213 [==============================] - 92s 434ms/step - loss: 0.1939 - accuracy: 0.9357 - val_loss: 0.7713 - val_accuracy: 0.8012\n",
            "\n",
            "Epoch 00113: val_accuracy did not improve from 0.81393\n",
            "Epoch 114/200\n",
            "213/213 [==============================] - 93s 435ms/step - loss: 0.1533 - accuracy: 0.9486 - val_loss: 0.7990 - val_accuracy: 0.8000\n",
            "\n",
            "Epoch 00114: val_accuracy did not improve from 0.81393\n",
            "Epoch 115/200\n",
            "213/213 [==============================] - 93s 435ms/step - loss: 0.1713 - accuracy: 0.9401 - val_loss: 0.8471 - val_accuracy: 0.7836\n",
            "\n",
            "Epoch 00115: val_accuracy did not improve from 0.81393\n",
            "Epoch 116/200\n",
            "213/213 [==============================] - 93s 436ms/step - loss: 0.1755 - accuracy: 0.9387 - val_loss: 0.8704 - val_accuracy: 0.7861\n",
            "\n",
            "Epoch 00116: val_accuracy did not improve from 0.81393\n",
            "Epoch 117/200\n",
            "213/213 [==============================] - 93s 436ms/step - loss: 0.1892 - accuracy: 0.9370 - val_loss: 0.7913 - val_accuracy: 0.8069\n",
            "\n",
            "Epoch 00117: val_accuracy did not improve from 0.81393\n",
            "Epoch 118/200\n",
            "213/213 [==============================] - 93s 435ms/step - loss: 0.1548 - accuracy: 0.9454 - val_loss: 0.7534 - val_accuracy: 0.8160\n",
            "\n",
            "Epoch 00118: val_accuracy improved from 0.81393 to 0.81598, saving model to /content/drive/MyDrive/building1/225gridnoWiFiBT27March5slots_200epochs_biDirLSTMDoubleDenseDropout/best_model.pkl\n"
          ],
          "name": "stdout"
        },
        {
          "output_type": "stream",
          "text": [
            "WARNING:absl:Found untraced functions such as lstm_cell_3_layer_call_fn, lstm_cell_3_layer_call_and_return_conditional_losses, lstm_cell_1_layer_call_fn, lstm_cell_1_layer_call_and_return_conditional_losses, lstm_cell_2_layer_call_fn while saving (showing 5 of 15). These functions will not be directly callable after loading.\n",
            "WARNING:absl:Found untraced functions such as lstm_cell_3_layer_call_fn, lstm_cell_3_layer_call_and_return_conditional_losses, lstm_cell_1_layer_call_fn, lstm_cell_1_layer_call_and_return_conditional_losses, lstm_cell_2_layer_call_fn while saving (showing 5 of 15). These functions will not be directly callable after loading.\n"
          ],
          "name": "stderr"
        },
        {
          "output_type": "stream",
          "text": [
            "INFO:tensorflow:Assets written to: /content/drive/MyDrive/building1/225gridnoWiFiBT27March5slots_200epochs_biDirLSTMDoubleDenseDropout/best_model.pkl/assets\n"
          ],
          "name": "stdout"
        },
        {
          "output_type": "stream",
          "text": [
            "INFO:tensorflow:Assets written to: /content/drive/MyDrive/building1/225gridnoWiFiBT27March5slots_200epochs_biDirLSTMDoubleDenseDropout/best_model.pkl/assets\n"
          ],
          "name": "stderr"
        },
        {
          "output_type": "stream",
          "text": [
            "Epoch 119/200\n",
            "213/213 [==============================] - 93s 436ms/step - loss: 0.1429 - accuracy: 0.9500 - val_loss: 0.8398 - val_accuracy: 0.7987\n",
            "\n",
            "Epoch 00119: val_accuracy did not improve from 0.81598\n",
            "Epoch 120/200\n",
            "213/213 [==============================] - 93s 435ms/step - loss: 0.1622 - accuracy: 0.9443 - val_loss: 0.7651 - val_accuracy: 0.8156\n",
            "\n",
            "Epoch 00120: val_accuracy did not improve from 0.81598\n",
            "Epoch 121/200\n",
            "213/213 [==============================] - 92s 433ms/step - loss: 0.1425 - accuracy: 0.9508 - val_loss: 0.8418 - val_accuracy: 0.7988\n",
            "\n",
            "Epoch 00121: val_accuracy did not improve from 0.81598\n",
            "Epoch 122/200\n",
            "213/213 [==============================] - 92s 434ms/step - loss: 0.1665 - accuracy: 0.9403 - val_loss: 0.8261 - val_accuracy: 0.7983\n",
            "\n",
            "Epoch 00122: val_accuracy did not improve from 0.81598\n",
            "Epoch 123/200\n",
            "213/213 [==============================] - 92s 434ms/step - loss: 0.1565 - accuracy: 0.9467 - val_loss: 0.8412 - val_accuracy: 0.8000\n",
            "\n",
            "Epoch 00123: val_accuracy did not improve from 0.81598\n",
            "Epoch 124/200\n",
            "213/213 [==============================] - 92s 434ms/step - loss: 0.2041 - accuracy: 0.9316 - val_loss: 0.8139 - val_accuracy: 0.8026\n",
            "\n",
            "Epoch 00124: val_accuracy did not improve from 0.81598\n",
            "Epoch 125/200\n",
            "213/213 [==============================] - 92s 434ms/step - loss: 0.1460 - accuracy: 0.9513 - val_loss: 0.8014 - val_accuracy: 0.8011\n",
            "\n",
            "Epoch 00125: val_accuracy did not improve from 0.81598\n",
            "Epoch 126/200\n",
            "213/213 [==============================] - 93s 434ms/step - loss: 0.1438 - accuracy: 0.9516 - val_loss: 0.8334 - val_accuracy: 0.8066\n",
            "\n",
            "Epoch 00126: val_accuracy did not improve from 0.81598\n",
            "Epoch 127/200\n",
            "213/213 [==============================] - 93s 436ms/step - loss: 0.1597 - accuracy: 0.9466 - val_loss: 0.8057 - val_accuracy: 0.7976\n",
            "\n",
            "Epoch 00127: val_accuracy did not improve from 0.81598\n",
            "Epoch 128/200\n",
            "213/213 [==============================] - 93s 435ms/step - loss: 0.1931 - accuracy: 0.9339 - val_loss: 0.8323 - val_accuracy: 0.7959\n",
            "\n",
            "Epoch 00128: val_accuracy did not improve from 0.81598\n",
            "Epoch 129/200\n",
            "213/213 [==============================] - 94s 443ms/step - loss: 0.1291 - accuracy: 0.9540 - val_loss: 0.8109 - val_accuracy: 0.8066\n",
            "\n",
            "Epoch 00129: val_accuracy did not improve from 0.81598\n",
            "Epoch 130/200\n",
            "213/213 [==============================] - 97s 456ms/step - loss: 0.1468 - accuracy: 0.9510 - val_loss: 0.8942 - val_accuracy: 0.7858\n",
            "\n",
            "Epoch 00130: val_accuracy did not improve from 0.81598\n",
            "Epoch 131/200\n",
            "213/213 [==============================] - 96s 449ms/step - loss: 0.1484 - accuracy: 0.9491 - val_loss: 0.7729 - val_accuracy: 0.8107\n",
            "\n",
            "Epoch 00131: val_accuracy did not improve from 0.81598\n",
            "Epoch 132/200\n",
            "213/213 [==============================] - 95s 446ms/step - loss: 0.1462 - accuracy: 0.9494 - val_loss: 0.8690 - val_accuracy: 0.7993\n",
            "\n",
            "Epoch 00132: val_accuracy did not improve from 0.81598\n",
            "Epoch 133/200\n",
            "213/213 [==============================] - 95s 447ms/step - loss: 0.1473 - accuracy: 0.9487 - val_loss: 0.9433 - val_accuracy: 0.7760\n",
            "\n",
            "Epoch 00133: val_accuracy did not improve from 0.81598\n",
            "Epoch 134/200\n",
            "213/213 [==============================] - 94s 440ms/step - loss: 0.1856 - accuracy: 0.9385 - val_loss: 0.8282 - val_accuracy: 0.8064\n",
            "\n",
            "Epoch 00134: val_accuracy did not improve from 0.81598\n",
            "Epoch 135/200\n",
            "213/213 [==============================] - 93s 439ms/step - loss: 0.1401 - accuracy: 0.9534 - val_loss: 0.8610 - val_accuracy: 0.7973\n",
            "\n",
            "Epoch 00135: val_accuracy did not improve from 0.81598\n",
            "Epoch 136/200\n",
            "213/213 [==============================] - 93s 437ms/step - loss: 0.1444 - accuracy: 0.9495 - val_loss: 0.8376 - val_accuracy: 0.7990\n",
            "\n",
            "Epoch 00136: val_accuracy did not improve from 0.81598\n",
            "Epoch 137/200\n",
            "213/213 [==============================] - 93s 439ms/step - loss: 0.1687 - accuracy: 0.9435 - val_loss: 0.8065 - val_accuracy: 0.8069\n",
            "\n",
            "Epoch 00137: val_accuracy did not improve from 0.81598\n",
            "Epoch 138/200\n",
            "213/213 [==============================] - 93s 438ms/step - loss: 0.1310 - accuracy: 0.9561 - val_loss: 0.8336 - val_accuracy: 0.8021\n",
            "\n",
            "Epoch 00138: val_accuracy did not improve from 0.81598\n",
            "Epoch 139/200\n",
            "213/213 [==============================] - 93s 438ms/step - loss: 0.2086 - accuracy: 0.9359 - val_loss: 0.8192 - val_accuracy: 0.8096\n",
            "\n",
            "Epoch 00139: val_accuracy did not improve from 0.81598\n",
            "Epoch 140/200\n",
            "213/213 [==============================] - 93s 437ms/step - loss: 0.1256 - accuracy: 0.9570 - val_loss: 0.8404 - val_accuracy: 0.8050\n",
            "\n",
            "Epoch 00140: val_accuracy did not improve from 0.81598\n",
            "Epoch 141/200\n",
            "213/213 [==============================] - 93s 438ms/step - loss: 0.1452 - accuracy: 0.9508 - val_loss: 0.8136 - val_accuracy: 0.8060\n",
            "\n",
            "Epoch 00141: val_accuracy did not improve from 0.81598\n",
            "Epoch 142/200\n",
            "213/213 [==============================] - 93s 438ms/step - loss: 0.1196 - accuracy: 0.9567 - val_loss: 0.8553 - val_accuracy: 0.8045\n",
            "\n",
            "Epoch 00142: val_accuracy did not improve from 0.81598\n",
            "Epoch 143/200\n",
            "213/213 [==============================] - 93s 436ms/step - loss: 0.1599 - accuracy: 0.9462 - val_loss: 0.8367 - val_accuracy: 0.8124\n",
            "\n",
            "Epoch 00143: val_accuracy did not improve from 0.81598\n",
            "Epoch 144/200\n",
            "213/213 [==============================] - 93s 435ms/step - loss: 0.1246 - accuracy: 0.9561 - val_loss: 0.8650 - val_accuracy: 0.8038\n",
            "\n",
            "Epoch 00144: val_accuracy did not improve from 0.81598\n",
            "Epoch 145/200\n",
            "213/213 [==============================] - 92s 433ms/step - loss: 0.1823 - accuracy: 0.9417 - val_loss: 0.8222 - val_accuracy: 0.8090\n",
            "\n",
            "Epoch 00145: val_accuracy did not improve from 0.81598\n",
            "Epoch 146/200\n",
            "213/213 [==============================] - 92s 434ms/step - loss: 0.1426 - accuracy: 0.9515 - val_loss: 0.8726 - val_accuracy: 0.8043\n",
            "\n",
            "Epoch 00146: val_accuracy did not improve from 0.81598\n",
            "Epoch 147/200\n",
            "213/213 [==============================] - 92s 434ms/step - loss: 0.2274 - accuracy: 0.9307 - val_loss: 0.8048 - val_accuracy: 0.8093\n",
            "\n",
            "Epoch 00147: val_accuracy did not improve from 0.81598\n",
            "Epoch 148/200\n",
            "213/213 [==============================] - 92s 434ms/step - loss: 0.1284 - accuracy: 0.9557 - val_loss: 0.7993 - val_accuracy: 0.8143\n",
            "\n",
            "Epoch 00148: val_accuracy did not improve from 0.81598\n",
            "Epoch 149/200\n",
            "213/213 [==============================] - 92s 434ms/step - loss: 0.1017 - accuracy: 0.9653 - val_loss: 0.8456 - val_accuracy: 0.8126\n",
            "\n",
            "Epoch 00149: val_accuracy did not improve from 0.81598\n",
            "Epoch 150/200\n",
            "213/213 [==============================] - 92s 434ms/step - loss: 0.1219 - accuracy: 0.9583 - val_loss: 0.8415 - val_accuracy: 0.8127\n",
            "\n",
            "Epoch 00150: val_accuracy did not improve from 0.81598\n",
            "Epoch 151/200\n",
            "213/213 [==============================] - 92s 434ms/step - loss: 0.1419 - accuracy: 0.9525 - val_loss: 0.8788 - val_accuracy: 0.8079\n",
            "\n",
            "Epoch 00151: val_accuracy did not improve from 0.81598\n",
            "Epoch 152/200\n",
            "213/213 [==============================] - 93s 435ms/step - loss: 0.1282 - accuracy: 0.9569 - val_loss: 0.9118 - val_accuracy: 0.8011\n",
            "\n",
            "Epoch 00152: val_accuracy did not improve from 0.81598\n",
            "Epoch 153/200\n",
            "213/213 [==============================] - 93s 438ms/step - loss: 0.1434 - accuracy: 0.9505 - val_loss: 0.8558 - val_accuracy: 0.8105\n",
            "\n",
            "Epoch 00153: val_accuracy did not improve from 0.81598\n",
            "Epoch 154/200\n",
            "213/213 [==============================] - 93s 438ms/step - loss: 0.1203 - accuracy: 0.9577 - val_loss: 0.8700 - val_accuracy: 0.8081\n",
            "\n",
            "Epoch 00154: val_accuracy did not improve from 0.81598\n",
            "Epoch 155/200\n",
            "213/213 [==============================] - 93s 439ms/step - loss: 0.1273 - accuracy: 0.9586 - val_loss: 0.8645 - val_accuracy: 0.7954\n",
            "\n",
            "Epoch 00155: val_accuracy did not improve from 0.81598\n",
            "Epoch 156/200\n",
            "213/213 [==============================] - 94s 442ms/step - loss: 0.2083 - accuracy: 0.9344 - val_loss: 0.8189 - val_accuracy: 0.8131\n",
            "\n",
            "Epoch 00156: val_accuracy did not improve from 0.81598\n",
            "Epoch 157/200\n",
            "213/213 [==============================] - 94s 440ms/step - loss: 0.1415 - accuracy: 0.9531 - val_loss: 0.9687 - val_accuracy: 0.7891\n",
            "\n",
            "Epoch 00157: val_accuracy did not improve from 0.81598\n",
            "Epoch 158/200\n",
            "213/213 [==============================] - 93s 436ms/step - loss: 0.1233 - accuracy: 0.9574 - val_loss: 0.8584 - val_accuracy: 0.8139\n",
            "\n",
            "Epoch 00158: val_accuracy did not improve from 0.81598\n",
            "Epoch 159/200\n",
            "213/213 [==============================] - 94s 442ms/step - loss: 0.1292 - accuracy: 0.9581 - val_loss: 0.8866 - val_accuracy: 0.7947\n",
            "\n",
            "Epoch 00159: val_accuracy did not improve from 0.81598\n",
            "Epoch 160/200\n",
            "213/213 [==============================] - 95s 444ms/step - loss: 0.1350 - accuracy: 0.9534 - val_loss: 0.8995 - val_accuracy: 0.8038\n",
            "\n",
            "Epoch 00160: val_accuracy did not improve from 0.81598\n",
            "Epoch 161/200\n",
            "213/213 [==============================] - 93s 439ms/step - loss: 0.1270 - accuracy: 0.9575 - val_loss: 0.8176 - val_accuracy: 0.8115\n",
            "\n",
            "Epoch 00161: val_accuracy did not improve from 0.81598\n",
            "Epoch 162/200\n",
            "213/213 [==============================] - 94s 441ms/step - loss: 0.1329 - accuracy: 0.9584 - val_loss: 0.8811 - val_accuracy: 0.8066\n",
            "\n",
            "Epoch 00162: val_accuracy did not improve from 0.81598\n",
            "Epoch 163/200\n",
            "213/213 [==============================] - 93s 438ms/step - loss: 0.1869 - accuracy: 0.9428 - val_loss: 0.8687 - val_accuracy: 0.8045\n",
            "\n",
            "Epoch 00163: val_accuracy did not improve from 0.81598\n",
            "Epoch 164/200\n",
            "213/213 [==============================] - 94s 441ms/step - loss: 0.0937 - accuracy: 0.9671 - val_loss: 0.8769 - val_accuracy: 0.8055\n",
            "\n",
            "Epoch 00164: val_accuracy did not improve from 0.81598\n",
            "Epoch 165/200\n",
            "213/213 [==============================] - 93s 439ms/step - loss: 0.1074 - accuracy: 0.9637 - val_loss: 0.9587 - val_accuracy: 0.7992\n",
            "\n",
            "Epoch 00165: val_accuracy did not improve from 0.81598\n",
            "Epoch 166/200\n",
            "213/213 [==============================] - 94s 440ms/step - loss: 0.1147 - accuracy: 0.9619 - val_loss: 1.0260 - val_accuracy: 0.7880\n",
            "\n",
            "Epoch 00166: val_accuracy did not improve from 0.81598\n",
            "Epoch 167/200\n",
            "213/213 [==============================] - 94s 440ms/step - loss: 0.1338 - accuracy: 0.9545 - val_loss: 0.9280 - val_accuracy: 0.8057\n",
            "\n",
            "Epoch 00167: val_accuracy did not improve from 0.81598\n",
            "Epoch 168/200\n",
            "213/213 [==============================] - 94s 440ms/step - loss: 0.1211 - accuracy: 0.9585 - val_loss: 0.9182 - val_accuracy: 0.7987\n",
            "\n",
            "Epoch 00168: val_accuracy did not improve from 0.81598\n",
            "Epoch 169/200\n",
            "213/213 [==============================] - 94s 442ms/step - loss: 0.1363 - accuracy: 0.9539 - val_loss: 0.8519 - val_accuracy: 0.8107\n",
            "\n",
            "Epoch 00169: val_accuracy did not improve from 0.81598\n",
            "Epoch 170/200\n",
            "213/213 [==============================] - 93s 436ms/step - loss: 0.0977 - accuracy: 0.9667 - val_loss: 0.9139 - val_accuracy: 0.8134\n",
            "\n",
            "Epoch 00170: val_accuracy did not improve from 0.81598\n",
            "Epoch 171/200\n",
            "213/213 [==============================] - 93s 436ms/step - loss: 0.1396 - accuracy: 0.9557 - val_loss: 0.9027 - val_accuracy: 0.8060\n",
            "\n",
            "Epoch 00171: val_accuracy did not improve from 0.81598\n",
            "Epoch 172/200\n",
            "213/213 [==============================] - 93s 436ms/step - loss: 0.1379 - accuracy: 0.9542 - val_loss: 1.1137 - val_accuracy: 0.7650\n",
            "\n",
            "Epoch 00172: val_accuracy did not improve from 0.81598\n",
            "Epoch 173/200\n",
            "213/213 [==============================] - 93s 438ms/step - loss: 0.1289 - accuracy: 0.9582 - val_loss: 0.9002 - val_accuracy: 0.8048\n",
            "\n",
            "Epoch 00173: val_accuracy did not improve from 0.81598\n",
            "Epoch 174/200\n",
            "213/213 [==============================] - 93s 438ms/step - loss: 0.1582 - accuracy: 0.9491 - val_loss: 0.8827 - val_accuracy: 0.7963\n",
            "\n",
            "Epoch 00174: val_accuracy did not improve from 0.81598\n",
            "Epoch 175/200\n",
            "213/213 [==============================] - 93s 438ms/step - loss: 0.1341 - accuracy: 0.9562 - val_loss: 0.9254 - val_accuracy: 0.7956\n",
            "\n",
            "Epoch 00175: val_accuracy did not improve from 0.81598\n",
            "Epoch 176/200\n",
            "213/213 [==============================] - 93s 437ms/step - loss: 0.1134 - accuracy: 0.9612 - val_loss: 0.9409 - val_accuracy: 0.7988\n",
            "\n",
            "Epoch 00176: val_accuracy did not improve from 0.81598\n",
            "Epoch 177/200\n",
            "213/213 [==============================] - 93s 437ms/step - loss: 0.1191 - accuracy: 0.9607 - val_loss: 0.9250 - val_accuracy: 0.7978\n",
            "\n",
            "Epoch 00177: val_accuracy did not improve from 0.81598\n",
            "Epoch 178/200\n",
            "213/213 [==============================] - 94s 441ms/step - loss: 0.1294 - accuracy: 0.9585 - val_loss: 0.8744 - val_accuracy: 0.8062\n",
            "\n",
            "Epoch 00178: val_accuracy did not improve from 0.81598\n",
            "Epoch 179/200\n",
            "213/213 [==============================] - 94s 441ms/step - loss: 0.1267 - accuracy: 0.9577 - val_loss: 0.9106 - val_accuracy: 0.8023\n",
            "\n",
            "Epoch 00179: val_accuracy did not improve from 0.81598\n",
            "Epoch 180/200\n",
            "213/213 [==============================] - 94s 440ms/step - loss: 0.1150 - accuracy: 0.9612 - val_loss: 0.8623 - val_accuracy: 0.8095\n",
            "\n",
            "Epoch 00180: val_accuracy did not improve from 0.81598\n",
            "Epoch 181/200\n",
            "213/213 [==============================] - 94s 440ms/step - loss: 0.1058 - accuracy: 0.9646 - val_loss: 0.9720 - val_accuracy: 0.7959\n",
            "\n",
            "Epoch 00181: val_accuracy did not improve from 0.81598\n",
            "Epoch 182/200\n",
            "213/213 [==============================] - 94s 440ms/step - loss: 0.1222 - accuracy: 0.9593 - val_loss: 0.9448 - val_accuracy: 0.8023\n",
            "\n",
            "Epoch 00182: val_accuracy did not improve from 0.81598\n",
            "Epoch 183/200\n",
            "213/213 [==============================] - 94s 439ms/step - loss: 0.1377 - accuracy: 0.9564 - val_loss: 0.8808 - val_accuracy: 0.8029\n",
            "\n",
            "Epoch 00183: val_accuracy did not improve from 0.81598\n",
            "Epoch 184/200\n",
            "213/213 [==============================] - 93s 439ms/step - loss: 0.1032 - accuracy: 0.9663 - val_loss: 0.9099 - val_accuracy: 0.8043\n",
            "\n",
            "Epoch 00184: val_accuracy did not improve from 0.81598\n",
            "Epoch 185/200\n",
            "213/213 [==============================] - 94s 440ms/step - loss: 0.0901 - accuracy: 0.9694 - val_loss: 0.9430 - val_accuracy: 0.8055\n",
            "\n",
            "Epoch 00185: val_accuracy did not improve from 0.81598\n",
            "Epoch 186/200\n",
            "213/213 [==============================] - 94s 441ms/step - loss: 0.1179 - accuracy: 0.9612 - val_loss: 0.9916 - val_accuracy: 0.7963\n",
            "\n",
            "Epoch 00186: val_accuracy did not improve from 0.81598\n",
            "Epoch 187/200\n",
            "213/213 [==============================] - 95s 446ms/step - loss: 0.1097 - accuracy: 0.9638 - val_loss: 0.9433 - val_accuracy: 0.8059\n",
            "\n",
            "Epoch 00187: val_accuracy did not improve from 0.81598\n",
            "Epoch 188/200\n",
            "213/213 [==============================] - 95s 448ms/step - loss: 0.1704 - accuracy: 0.9475 - val_loss: 0.9148 - val_accuracy: 0.8035\n",
            "\n",
            "Epoch 00188: val_accuracy did not improve from 0.81598\n",
            "Epoch 189/200\n",
            "213/213 [==============================] - 94s 439ms/step - loss: 0.1394 - accuracy: 0.9558 - val_loss: 0.9025 - val_accuracy: 0.8054\n",
            "\n",
            "Epoch 00189: val_accuracy did not improve from 0.81598\n",
            "Epoch 190/200\n",
            "213/213 [==============================] - 93s 438ms/step - loss: 0.0983 - accuracy: 0.9664 - val_loss: 0.8937 - val_accuracy: 0.8119\n",
            "\n",
            "Epoch 00190: val_accuracy did not improve from 0.81598\n",
            "Epoch 191/200\n",
            "213/213 [==============================] - 93s 436ms/step - loss: 0.0999 - accuracy: 0.9663 - val_loss: 0.9790 - val_accuracy: 0.8007\n",
            "\n",
            "Epoch 00191: val_accuracy did not improve from 0.81598\n",
            "Epoch 192/200\n",
            "213/213 [==============================] - 93s 436ms/step - loss: 0.1292 - accuracy: 0.9607 - val_loss: 0.9231 - val_accuracy: 0.8062\n",
            "\n",
            "Epoch 00192: val_accuracy did not improve from 0.81598\n",
            "Epoch 193/200\n",
            "213/213 [==============================] - 93s 438ms/step - loss: 0.1090 - accuracy: 0.9614 - val_loss: 1.0096 - val_accuracy: 0.7966\n",
            "\n",
            "Epoch 00193: val_accuracy did not improve from 0.81598\n",
            "Epoch 194/200\n",
            "213/213 [==============================] - 93s 436ms/step - loss: 0.1162 - accuracy: 0.9638 - val_loss: 0.9359 - val_accuracy: 0.8114\n",
            "\n",
            "Epoch 00194: val_accuracy did not improve from 0.81598\n",
            "Epoch 195/200\n",
            "213/213 [==============================] - 93s 437ms/step - loss: 0.1447 - accuracy: 0.9540 - val_loss: 0.9818 - val_accuracy: 0.8029\n",
            "\n",
            "Epoch 00195: val_accuracy did not improve from 0.81598\n",
            "Epoch 196/200\n",
            "213/213 [==============================] - 93s 438ms/step - loss: 0.1094 - accuracy: 0.9633 - val_loss: 0.9338 - val_accuracy: 0.8127\n",
            "\n",
            "Epoch 00196: val_accuracy did not improve from 0.81598\n",
            "Epoch 197/200\n",
            "213/213 [==============================] - 93s 437ms/step - loss: 0.1030 - accuracy: 0.9647 - val_loss: 0.9918 - val_accuracy: 0.8026\n",
            "\n",
            "Epoch 00197: val_accuracy did not improve from 0.81598\n",
            "Epoch 198/200\n",
            "213/213 [==============================] - 93s 436ms/step - loss: 0.1112 - accuracy: 0.9639 - val_loss: 0.9537 - val_accuracy: 0.8040\n",
            "\n",
            "Epoch 00198: val_accuracy did not improve from 0.81598\n",
            "Epoch 199/200\n",
            "213/213 [==============================] - 93s 437ms/step - loss: 0.1187 - accuracy: 0.9621 - val_loss: 1.0070 - val_accuracy: 0.7909\n",
            "\n",
            "Epoch 00199: val_accuracy did not improve from 0.81598\n",
            "Epoch 200/200\n",
            "213/213 [==============================] - 93s 437ms/step - loss: 0.1504 - accuracy: 0.9517 - val_loss: 0.9280 - val_accuracy: 0.8009\n",
            "\n",
            "Epoch 00200: val_accuracy did not improve from 0.81598\n"
          ],
          "name": "stdout"
        }
      ]
    },
    {
      "cell_type": "code",
      "metadata": {
        "id": "83C_zN-_HSlY",
        "colab": {
          "base_uri": "https://localhost:8080/",
          "height": 295
        },
        "outputId": "20e062af-503c-4cc3-fba2-f0618618b158"
      },
      "source": [
        "import matplotlib.pyplot as plt\n",
        "plt.plot(history.history['accuracy'])\n",
        "plt.plot(history.history['val_accuracy'])\n",
        "plt.title('model accuracy')\n",
        "plt.ylabel('accuracy')\n",
        "plt.xlabel('epoch')\n",
        "plt.legend(['train', 'Validation'], loc='upper left')\n",
        "plt.show()"
      ],
      "execution_count": null,
      "outputs": [
        {
          "output_type": "display_data",
          "data": {
            "image/png": "[encoded data removed]",
            "text/plain": [
              "<Figure size 432x288 with 1 Axes>"
            ]
          },
          "metadata": {
            "tags": [],
            "needs_background": "light"
          }
        }
      ]
    },
    {
      "cell_type": "code",
      "metadata": {
        "id": "oY6yOqbZHULQ",
        "colab": {
          "base_uri": "https://localhost:8080/"
        },
        "outputId": "59c8d570-45f5-4b80-cd70-8a91168d56ef"
      },
      "source": [
        "model = load_model('/content/drive/MyDrive/building1/225gridnoWiFiBT27March5slots_200epochs_biDirLSTMDoubleDenseDropout/best_model.pkl')\n",
        "\n",
        "from sklearn.metrics import accuracy_score\n",
        "y_pred=model.predict(test)\n",
        "test_preds=( y_pred> 0.5).astype(\"int32\")#Selecting a label only if it has >0.5 probability\n",
        "accuracy_score(test_target, test_preds)"
      ],
      "execution_count": null,
      "outputs": [
        {
          "output_type": "execute_result",
          "data": {
            "text/plain": [
              "0.8045267489711934"
            ]
          },
          "metadata": {
            "tags": []
          },
          "execution_count": 21
        }
      ]
    },
    {
      "cell_type": "code",
      "metadata": {
        "id": "FnRdkXmpHc5s",
        "colab": {
          "base_uri": "https://localhost:8080/"
        },
        "outputId": "28e17717-a33b-4893-97e1-25e4fbea3b54"
      },
      "source": [
        "yhat=np.argmax(y_pred,axis=1)\n",
        "y=np.argmax(test_target,axis=1)\n",
        "accuracy_score(y,yhat)"
      ],
      "execution_count": null,
      "outputs": [
        {
          "output_type": "execute_result",
          "data": {
            "text/plain": [
              "0.8124142661179699"
            ]
          },
          "metadata": {
            "tags": []
          },
          "execution_count": 22
        }
      ]
    },
    {
      "cell_type": "code",
      "metadata": {
        "id": "rM7XwQExHa0U",
        "colab": {
          "base_uri": "https://localhost:8080/",
          "height": 204
        },
        "outputId": "dd2134f2-9149-421b-fac3-6fc2f6eb2adf"
      },
      "source": [
        "#converting predicted labels to waypoins.\n",
        "pred_df=pd.DataFrame(yhat,columns=['Label'])\n",
        "label_df=pd.DataFrame(label,columns=['X_up_limit','Y_up_limit','Label'])\n",
        "label_df.head()\n",
        "pred_df2 = pd.merge(pred_df, label_df, on='Label', how='left')\n",
        "pred_df2.head()"
      ],
      "execution_count": null,
      "outputs": [
        {
          "output_type": "execute_result",
          "data": {
            "text/html": [
              "<div>\n",
              "<style scoped>\n",
              "    .dataframe tbody tr th:only-of-type {\n",
              "        vertical-align: middle;\n",
              "    }\n",
              "\n",
              "    .dataframe tbody tr th {\n",
              "        vertical-align: top;\n",
              "    }\n",
              "\n",
              "    .dataframe thead th {\n",
              "        text-align: right;\n",
              "    }\n",
              "</style>\n",
              "<table border=\"1\" class=\"dataframe\">\n",
              "  <thead>\n",
              "    <tr style=\"text-align: right;\">\n",
              "      <th></th>\n",
              "      <th>Label</th>\n",
              "      <th>X_up_limit</th>\n",
              "      <th>Y_up_limit</th>\n",
              "    </tr>\n",
              "  </thead>\n",
              "  <tbody>\n",
              "    <tr>\n",
              "      <th>0</th>\n",
              "      <td>177</td>\n",
              "      <td>207.636228</td>\n",
              "      <td>169.39878</td>\n",
              "    </tr>\n",
              "    <tr>\n",
              "      <th>1</th>\n",
              "      <td>177</td>\n",
              "      <td>207.636228</td>\n",
              "      <td>169.39878</td>\n",
              "    </tr>\n",
              "    <tr>\n",
              "      <th>2</th>\n",
              "      <td>177</td>\n",
              "      <td>207.636228</td>\n",
              "      <td>169.39878</td>\n",
              "    </tr>\n",
              "    <tr>\n",
              "      <th>3</th>\n",
              "      <td>177</td>\n",
              "      <td>207.636228</td>\n",
              "      <td>169.39878</td>\n",
              "    </tr>\n",
              "    <tr>\n",
              "      <th>4</th>\n",
              "      <td>177</td>\n",
              "      <td>207.636228</td>\n",
              "      <td>169.39878</td>\n",
              "    </tr>\n",
              "  </tbody>\n",
              "</table>\n",
              "</div>"
            ],
            "text/plain": [
              "   Label  X_up_limit  Y_up_limit\n",
              "0    177  207.636228   169.39878\n",
              "1    177  207.636228   169.39878\n",
              "2    177  207.636228   169.39878\n",
              "3    177  207.636228   169.39878\n",
              "4    177  207.636228   169.39878"
            ]
          },
          "metadata": {
            "tags": []
          },
          "execution_count": 23
        }
      ]
    },
    {
      "cell_type": "code",
      "metadata": {
        "id": "YL99yJBBHs7V",
        "colab": {
          "base_uri": "https://localhost:8080/",
          "height": 204
        },
        "outputId": "bfd9d8aa-bbe0-494c-ae58-4ac33279da66"
      },
      "source": [
        "wp_pred=list()\n",
        "#Adjust wp to centers\n",
        "distx=(label[1][0]-label[0][0])/2\n",
        "disty=(label[25][1]-label[0][1])/2 #for 25X25 grid\n",
        "pred_df2['X_up_limit']=pred_df2['X_up_limit']-distx\n",
        "pred_df2['Y_up_limit']=pred_df2['Y_up_limit']-disty\n",
        "pred_df2.head()"
      ],
      "execution_count": null,
      "outputs": [
        {
          "output_type": "execute_result",
          "data": {
            "text/html": [
              "<div>\n",
              "<style scoped>\n",
              "    .dataframe tbody tr th:only-of-type {\n",
              "        vertical-align: middle;\n",
              "    }\n",
              "\n",
              "    .dataframe tbody tr th {\n",
              "        vertical-align: top;\n",
              "    }\n",
              "\n",
              "    .dataframe thead th {\n",
              "        text-align: right;\n",
              "    }\n",
              "</style>\n",
              "<table border=\"1\" class=\"dataframe\">\n",
              "  <thead>\n",
              "    <tr style=\"text-align: right;\">\n",
              "      <th></th>\n",
              "      <th>Label</th>\n",
              "      <th>X_up_limit</th>\n",
              "      <th>Y_up_limit</th>\n",
              "    </tr>\n",
              "  </thead>\n",
              "  <tbody>\n",
              "    <tr>\n",
              "      <th>0</th>\n",
              "      <td>177</td>\n",
              "      <td>201.05924</td>\n",
              "      <td>165.465708</td>\n",
              "    </tr>\n",
              "    <tr>\n",
              "      <th>1</th>\n",
              "      <td>177</td>\n",
              "      <td>201.05924</td>\n",
              "      <td>165.465708</td>\n",
              "    </tr>\n",
              "    <tr>\n",
              "      <th>2</th>\n",
              "      <td>177</td>\n",
              "      <td>201.05924</td>\n",
              "      <td>165.465708</td>\n",
              "    </tr>\n",
              "    <tr>\n",
              "      <th>3</th>\n",
              "      <td>177</td>\n",
              "      <td>201.05924</td>\n",
              "      <td>165.465708</td>\n",
              "    </tr>\n",
              "    <tr>\n",
              "      <th>4</th>\n",
              "      <td>177</td>\n",
              "      <td>201.05924</td>\n",
              "      <td>165.465708</td>\n",
              "    </tr>\n",
              "  </tbody>\n",
              "</table>\n",
              "</div>"
            ],
            "text/plain": [
              "   Label  X_up_limit  Y_up_limit\n",
              "0    177   201.05924  165.465708\n",
              "1    177   201.05924  165.465708\n",
              "2    177   201.05924  165.465708\n",
              "3    177   201.05924  165.465708\n",
              "4    177   201.05924  165.465708"
            ]
          },
          "metadata": {
            "tags": []
          },
          "execution_count": 24
        }
      ]
    },
    {
      "cell_type": "code",
      "metadata": {
        "id": "ZDoK5QESHzeo",
        "colab": {
          "base_uri": "https://localhost:8080/"
        },
        "outputId": "90fdf80f-91b7-4bed-f00c-1f26650d519c"
      },
      "source": [
        "#Now we will calculate exact error in predicted and actual location\n",
        "#We will consider only those waypoints which were present in the original data\n",
        "#to calculate error and we will reject interpolated values which were introduced by us \n",
        "import math\n",
        "sum_of_error=0\n",
        "sum_sq_error=0\n",
        "count=0\n",
        "test_predicted=pred_df2[['X_up_limit','Y_up_limit']].values\n",
        "for i in range(len(test_seq_wp)):\n",
        "  for j in range(len(test_seq_wp[i])):\n",
        "    if(test_seq_wp[i][j][2]==1):\n",
        "      sum_of_error+=math.sqrt(((test_predicted[i][0]-test_seq_wp[i][j][0])**2)+((test_predicted[i][1]-test_seq_wp[i][j][1])**2))\n",
        "      sum_sq_error+=((test_predicted[i][0]-test_seq_wp[i][j][0])**2)+((test_predicted[i][1]-test_seq_wp[i][j][1])**2)\n",
        "      count+=1\n",
        "\n",
        "\n",
        "MAE=sum_of_error/count\n",
        "RMSE=math.sqrt(sum_sq_error/count)\n",
        "print('MAE value is:',round(MAE,2))  \n",
        "print('RMSE value is:',round(RMSE,2)) "
      ],
      "execution_count": null,
      "outputs": [
        {
          "output_type": "stream",
          "text": [
            "MAE value is: 14.93\n",
            "RMSE value is: 24.09\n"
          ],
          "name": "stdout"
        }
      ]
    }
  ]
}