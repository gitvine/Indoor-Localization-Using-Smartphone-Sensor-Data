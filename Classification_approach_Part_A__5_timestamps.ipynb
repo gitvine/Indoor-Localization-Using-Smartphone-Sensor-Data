{
  "nbformat": 4,
  "nbformat_minor": 0,
  "metadata": {
    "colab": {
      "name": "Part_A_classification_approach_5_timestamps.ipynb",
      "provenance": [],
      "collapsed_sections": []
    },
    "kernelspec": {
      "display_name": "Python 3",
      "language": "python",
      "name": "python3"
    },
    "language_info": {
      "codemirror_mode": {
        "name": "ipython",
        "version": 3
      },
      "file_extension": ".py",
      "mimetype": "text/x-python",
      "name": "python",
      "nbconvert_exporter": "python",
      "pygments_lexer": "ipython3",
      "version": "3.8.5"
    }
  },
  "cells": [
    {
      "cell_type": "markdown",
      "metadata": {
        "id": "QktZ8WbxTv2T"
      },
      "source": [
        "## We have divided the problem into two parts\n",
        "(a) Predict the floor number\n",
        "(b) Predict the way points or location on that floor"
      ]
    },
    {
      "cell_type": "code",
      "metadata": {
        "id": "1f5bwMxmPWjQ"
      },
      "source": [
        "import pandas as pd\n",
        "import numpy as np\n",
        "%matplotlib inline\n",
        "import matplotlib.pyplot as plt\n",
        "from os import listdir\n",
        "from pathlib import Path\n",
        "pd.options.mode.chained_assignment = None  # default='warn'\n",
        "from dataclasses import dataclass\n",
        "from sklearn import preprocessing"
      ],
      "execution_count": null,
      "outputs": []
    },
    {
      "cell_type": "code",
      "metadata": {
        "id": "q6hAEaR6tmi9"
      },
      "source": [
        "import keras\n",
        "from keras.utils import to_categorical\n",
        "from keras.preprocessing import sequence\n",
        "import tensorflow as tf\n",
        "from keras.models import Sequential\n",
        "from keras.layers import Dense\n",
        "from keras.layers import LSTM\n",
        "from keras.optimizers import Adam\n",
        "from keras.models import load_model\n",
        "from keras.callbacks import ModelCheckpoint\n",
        "from keras.layers import Bidirectional"
      ],
      "execution_count": null,
      "outputs": []
    },
    {
      "cell_type": "code",
      "metadata": {
        "colab": {
          "base_uri": "https://localhost:8080/"
        },
        "id": "BfbMebYYWEIw",
        "outputId": "20d126d4-2448-48c6-c7a6-062269c1a325"
      },
      "source": [
        "from google.colab import drive\n",
        "drive.mount('/content/drive')"
      ],
      "execution_count": null,
      "outputs": [
        {
          "output_type": "stream",
          "text": [
            "Mounted at /content/drive\n"
          ],
          "name": "stdout"
        }
      ]
    },
    {
      "cell_type": "code",
      "metadata": {
        "id": "XpKnmwl6M_3_"
      },
      "source": [
        "#Function to connect waypoint coordinates with straight lines\n",
        "#This will be used for second part of project.We will discuss about this later.\n",
        "def connect_waypoints(wp_df):\n",
        "  if(wp_df.at[0,'waypoint_val1']==''):\n",
        "    wp_df.at[0,'waypoint_val1']=0\n",
        "  if(wp_df.at[0,'waypoint_val2']==''):\n",
        "    wp_df.at[0,'waypoint_val2']=0  \n",
        "  j=0\n",
        "  i=0\n",
        "  last=0\n",
        "  #print(wp_df.head(5))\n",
        "  while i < (len(wp_df)-1):\n",
        "    j=i+1\n",
        "    while((wp_df.at[j,'waypoint_val1']==0) and (wp_df.at[j,'waypoint_val2']==0) ):\n",
        "      if(j==len(wp_df)-1):\n",
        "        wp_df.at[j,'waypoint_val1']=wp_df.at[i,'waypoint_val1']\n",
        "        wp_df.at[j,'waypoint_val2']=wp_df.at[i,'waypoint_val2']\n",
        "        last=1\n",
        "        break\n",
        "      j+=1\n",
        "    temp_arrayx=np.linspace(wp_df.at[i,'waypoint_val1'],wp_df.at[j,'waypoint_val1'], num=j-i+1)\n",
        "    temp_arrayy=np.linspace(wp_df.at[i,'waypoint_val2'],wp_df.at[j,'waypoint_val2'], num=j-i+1)\n",
        "    #print(temp_arrayx)\n",
        "    m=0\n",
        "    for k in range(i,j+1):\n",
        "      wp_df.at[k,'waypoint_val1']=temp_arrayx[m]\n",
        "      wp_df.at[k,'waypoint_val2']=temp_arrayy[m]\n",
        "      #For final comparison of our predicted location, we will need to mark which waypoints were in original data before connecting them\n",
        "      #print('k=',k,'i=',i,'j=',j)\n",
        "      if((k==i) and (last==0)):\n",
        "        wp_df.at[k,'interpolated']=1 #original waypoints\n",
        "      else:\n",
        "        wp_df.at[k,'interpolated']=0  #interpolated waypoints\n",
        "      m+=1\n",
        "    i=j\n",
        "  return wp_df     \n"
      ],
      "execution_count": null,
      "outputs": []
    },
    {
      "cell_type": "code",
      "metadata": {
        "id": "hycBgmQSPWjX"
      },
      "source": [
        "# Function to extract arrays for each sensor with timeslots.\n",
        "# This particular function is modified from the function provided by the competition's github page at https://github.com/location-competition/indoor-location-competition-20/blob/master/io_f.py\n",
        "\n",
        "@dataclass\n",
        "class ReadData:\n",
        "    acce: np.ndarray\n",
        "    acce_uncali: np.ndarray\n",
        "    gyro: np.ndarray\n",
        "    gyro_uncali: np.ndarray\n",
        "    magn: np.ndarray\n",
        "    magn_uncali: np.ndarray\n",
        "    ahrs: np.ndarray\n",
        "    wifi: np.ndarray\n",
        "    ibeacon: np.ndarray\n",
        "    waypoint: np.ndarray\n",
        "\n",
        "\n",
        "def read_data_file(data_filename):\n",
        "    acce = []\n",
        "    acce_uncali = []\n",
        "    gyro = []\n",
        "    gyro_uncali = []\n",
        "    magn = []\n",
        "    magn_uncali = []\n",
        "    ahrs = []\n",
        "    wifi = []\n",
        "    ibeacon = []\n",
        "    waypoint = []\n",
        "    line_count=0\n",
        "    with open(data_filename, 'r', encoding='utf-8') as file:\n",
        "        lines = file.readlines()\n",
        "\n",
        "    for line_data in lines:\n",
        "        #line_count=line_count+1\n",
        "        #if(line_count>3000):\n",
        "        #  break\n",
        "        line_data = line_data.strip()\n",
        "        if not line_data or line_data[0] == '#':\n",
        "            continue\n",
        "\n",
        "        line_data = line_data.split('\\t')\n",
        "\n",
        "        if line_data[1] == 'TYPE_ACCELEROMETER':\n",
        "            acce.append([int(line_data[0]), float(line_data[2]), float(line_data[3]), float(line_data[4])])\n",
        "            continue\n",
        "\n",
        "        if line_data[1] == 'TYPE_ACCELEROMETER_UNCALIBRATED':\n",
        "            acce_uncali.append([int(line_data[0]), float(line_data[2]), float(line_data[3]), float(line_data[4])])\n",
        "            continue\n",
        "\n",
        "        if line_data[1] == 'TYPE_GYROSCOPE':\n",
        "            gyro.append([int(line_data[0]), float(line_data[2]), float(line_data[3]), float(line_data[4])])\n",
        "            continue\n",
        "\n",
        "        if line_data[1] == 'TYPE_GYROSCOPE_UNCALIBRATED':\n",
        "            gyro_uncali.append([int(line_data[0]), float(line_data[2]), float(line_data[3]), float(line_data[4])])\n",
        "            continue\n",
        "\n",
        "        if line_data[1] == 'TYPE_MAGNETIC_FIELD':\n",
        "            magn.append([int(line_data[0]), float(line_data[2]), float(line_data[3]), float(line_data[4])])\n",
        "            continue\n",
        "\n",
        "        if line_data[1] == 'TYPE_MAGNETIC_FIELD_UNCALIBRATED':\n",
        "            magn_uncali.append([int(line_data[0]), float(line_data[2]), float(line_data[3]), float(line_data[4])])\n",
        "            continue\n",
        "\n",
        "        if line_data[1] == 'TYPE_ROTATION_VECTOR':\n",
        "            ahrs.append([int(line_data[0]), float(line_data[2]), float(line_data[3]), float(line_data[4])])\n",
        "            continue\n",
        "\n",
        "        if line_data[1] == 'TYPE_WIFI':\n",
        "            sys_ts = int(line_data[0])\n",
        "            ssid = line_data[2]\n",
        "            bssid = line_data[3]\n",
        "            rssi = line_data[4]\n",
        "            lastseen_ts = line_data[6]\n",
        "            wifi_data = [sys_ts, ssid, bssid, rssi, lastseen_ts]\n",
        "            wifi.append(wifi_data)\n",
        "            continue\n",
        "\n",
        "        if line_data[1] == 'TYPE_BEACON':\n",
        "            ts = int(line_data[0])\n",
        "            uuid = line_data[2]\n",
        "            major = line_data[3]\n",
        "            minor = line_data[4]\n",
        "            rssi = line_data[6]\n",
        "            ibeacon_data = [ts, '_'.join([uuid, major, minor]), rssi]\n",
        "            ibeacon.append(ibeacon_data)\n",
        "            continue\n",
        "\n",
        "        if line_data[1] == 'TYPE_WAYPOINT':\n",
        "            waypoint.append([int(line_data[0]), float(line_data[2]), float(line_data[3])])\n",
        "\n",
        "    acce = np.array(acce,dtype=np.float)\n",
        "    acce_uncali = np.array(acce_uncali,dtype=np.float)\n",
        "    gyro = np.array(gyro,dtype=np.float)\n",
        "    gyro_uncali = np.array(gyro_uncali,dtype=np.float)\n",
        "    magn = np.array(magn,dtype=np.float)\n",
        "    magn_uncali = np.array(magn_uncali,dtype=np.float)\n",
        "    ahrs = np.array(ahrs)\n",
        "    wifi = np.array(wifi)\n",
        "    ibeacon = np.array(ibeacon)\n",
        "    waypoint = np.array(waypoint)\n",
        "\n",
        "    return ReadData(acce, acce_uncali, gyro, gyro_uncali, magn, magn_uncali, ahrs, wifi, ibeacon, waypoint)"
      ],
      "execution_count": null,
      "outputs": []
    },
    {
      "cell_type": "code",
      "metadata": {
        "id": "FpAoHhUmPWjb"
      },
      "source": [
        "#Function to go through all the files in the folder and return the sensor data \n",
        "# in the form of arrays\n",
        "@dataclass\n",
        "class trace:\n",
        "    sequence: np.ndarray\n",
        "    target_seq: np.ndarray\n",
        "    waypoint_seq: np.ndarray\n",
        "    wp_full_seq: np.ndarray\n",
        "\n",
        "def convert_to_df(file_path,floor,timeslots):\n",
        "    pathlist = Path(file_path).rglob('*.txt')\n",
        "    sequence = list()\n",
        "    target_seq=list()\n",
        "    waypoint_seq=list()\n",
        "    wp_full_seq=list()\n",
        "    path_id=1\n",
        "    floor_trace_df=pd.DataFrame()\n",
        "    for path in pathlist:\n",
        "         # because path is object not string\n",
        "        path_in_str = str(path)\n",
        "         # print(path_in_str)\n",
        "        trace_file = read_data_file(path_in_str)\n",
        "        trace_df=pd.DataFrame()\n",
        "        if(trace_file.acce.size):\n",
        "            acce_df=pd.DataFrame(trace_file.acce, columns=['Timestamp','acce_val1','acce_val2','acce_val3'])\n",
        "        if(trace_file.acce_uncali.size):\n",
        "            acce__uncal_df=pd.DataFrame(trace_file.acce_uncali, columns=['Timestamp','acce_uncal_val1','acce_uncal_val2','acce_uncal_val3'])   \n",
        "        if(trace_file.gyro.size):\n",
        "            gyro_df=pd.DataFrame(trace_file.gyro, columns=['Timestamp','gyro_val1','gyro_val2','gyro_val3'])\n",
        "        if(trace_file.gyro_uncali.size):\n",
        "            gyro_uncal_df=pd.DataFrame(trace_file.gyro_uncali, columns=['Timestamp','gyro_uncal_val1','gyro_uncal_val2','gyro_uncal_val3'])\n",
        "        if(trace_file.magn.size):\n",
        "            magn_df=pd.DataFrame(trace_file.magn, columns=['Timestamp','magn_val1','magn_val2','magn_val3'])\n",
        "        if(trace_file.magn_uncali.size):\n",
        "            magn_uncal_df=pd.DataFrame(trace_file.magn_uncali, columns=['Timestamp','magn_uncal_val1','magn_uncal_val2','magn_uncal_val3'])\n",
        "        if(trace_file.ahrs.size):\n",
        "            rot_df=pd.DataFrame(trace_file.ahrs, columns=['Timestamp','rot_val1','rot_val2','rot_val3'])           \n",
        "        if(trace_file.wifi.size):\n",
        "            wifi_df=pd.DataFrame(trace_file.wifi, columns=['Timestamp','wifi_val1','wifi_val2','wifi_val3','wifi_val4']) \n",
        "        if(trace_file.ibeacon.size):\n",
        "            ibeacon_df=pd.DataFrame(trace_file.ibeacon, columns=['Timestamp','ibeacon_val1','ibeacon_val2'])    \n",
        "        if(trace_file.waypoint.size):\n",
        "            waypoint_df=pd.DataFrame(trace_file.waypoint, columns=['Timestamp','waypoint_val1','waypoint_val2'])\n",
        "        \n",
        "        #change data type of wifi dataframe timestamp and ibeacon timestamp\n",
        "        wifi_df[\"Timestamp\"] = wifi_df.Timestamp.astype(float)\n",
        "        ibeacon_df[\"Timestamp\"] = ibeacon_df.Timestamp.astype(float)\n",
        "        trace_df = pd.merge(acce_df, acce__uncal_df, on='Timestamp', how='outer')\n",
        "        trace_df = pd.merge(trace_df, gyro_df, on='Timestamp', how='outer')\n",
        "        trace_df = pd.merge(trace_df, gyro_uncal_df, on='Timestamp', how='outer')\n",
        "        trace_df = pd.merge(trace_df, magn_df, on='Timestamp', how='outer')\n",
        "        trace_df = pd.merge(trace_df, magn_uncal_df, on='Timestamp', how='outer')\n",
        "        trace_df = pd.merge(trace_df, rot_df, on='Timestamp', how='outer')\n",
        "        trace_df = pd.merge(trace_df, wifi_df, on='Timestamp', how='outer')\n",
        "        trace_df = pd.merge(trace_df, ibeacon_df, on='Timestamp', how='outer')\n",
        "        trace_df = pd.merge(trace_df, waypoint_df, on='Timestamp', how='outer')\n",
        "        ###### Cast time stamp to integer\n",
        "        trace_df[\"Timestamp\"] = trace_df.Timestamp.astype(int)\n",
        "\n",
        "        # sorting by Timestamp and deleting duplicate timeslots \n",
        "        \n",
        "        trace_df.sort_values(\"Timestamp\", inplace = True)\n",
        "        trace_df = trace_df.reset_index(drop=True)\n",
        "        trace_df.drop_duplicates(subset=\"Timestamp\",keep=False, inplace=True)\n",
        "        trace_df = trace_df.reset_index(drop=True)\n",
        "        \n",
        "        trace_df=trace_df.replace(np.nan,0)\n",
        "\n",
        "        #keep only top 200 rows in one sequence     \n",
        "        #trace_df=trace_df.head(200)\n",
        "\n",
        "        #for i in range(0,len(trace_df)):\n",
        "         # trace_df.at[i,'Timestamp']=i\n",
        "        \n",
        "        #trace_df['time_index'] = trace_df.index\n",
        "        #print(trace_df.head())\n",
        "        #trace_df['floor_name']=floor\n",
        "        #trace_df['path_id']=floor+path_id\n",
        "        #path_id=path_id+1\n",
        "        #trace_df['wifi_df'].fillna(0)\n",
        "        #trace_df['ibeacon_df'].fillna(0)\n",
        "        #trace_df['wifi_df'].fillna(0)\n",
        "        \n",
        "\n",
        "        wp_df = trace_df[['waypoint_val1', 'waypoint_val2']].copy()\n",
        "        wp_df=connect_waypoints(wp_df)\n",
        "        wp_values=wp_df.values\n",
        "        #Removing text based fields in dataframe\n",
        "        trace_df=trace_df.drop(['Timestamp'], axis=1)\n",
        "        trace_df=trace_df.drop(['wifi_val1'], axis=1)\n",
        "        trace_df=trace_df.drop(['wifi_val2'], axis=1)\n",
        "        trace_df=trace_df.drop(['ibeacon_val1'], axis=1)\n",
        "        trace_df.astype('float32')        \n",
        "        trace_df=trace_df.drop(['waypoint_val1','waypoint_val2'], axis=1)\n",
        "        #floor_trace_df=floor_trace_df.append(trace_df)\n",
        "        values = trace_df.values \n",
        "\n",
        "\n",
        "        \n",
        "\n",
        "\n",
        "        #Now split sequence into required number of timeslots\n",
        "        l=int(len(values)/timeslots)\n",
        "        k=0\n",
        "        for m in range(l):\n",
        "          s_temp=values[k:k+timeslots]\n",
        "          wp_temp=wp_values[k:k+timeslots]\n",
        "          #Normalize\n",
        "          #min_max_scaler = preprocessing.MinMaxScaler()\n",
        "          #s_scaled = min_max_scaler.fit_transform(s_temp)\n",
        "          sequence.append(s_temp)\n",
        "          wp_full_seq.append(wp_temp)\n",
        "          target_seq.append(floor)\n",
        "          wp_temp=wp_df.iloc[k:k+timeslots,0:]\n",
        "          wp_temp=wp_temp.reset_index(drop=True)\n",
        "          #wp_temp=connect_waypoints(wp_temp)\n",
        "        #Now after connecting the waypoints, the avearge has become a wieghted average in time series\n",
        "          wp_avg_x=wp_temp['waypoint_val1'].mean()\n",
        "          wp_avg_y=wp_temp['waypoint_val2'].mean()\n",
        "        #maximum and minimum will be useful in second part\n",
        "          wp_max_x=wp_temp['waypoint_val1'].max()\n",
        "          wp_min_x=wp_temp['waypoint_val1'].min()\n",
        "          wp_max_y=wp_temp['waypoint_val2'].max()\n",
        "          wp_min_y=wp_temp['waypoint_val2'].min()\n",
        "          \n",
        "          waypoint_seq.append([wp_avg_x,wp_avg_y,wp_max_x,wp_min_x,wp_max_y,wp_min_y])\n",
        "          k+=timeslots\n",
        "\n",
        "    return trace(sequence,target_seq,waypoint_seq,wp_full_seq)"
      ],
      "execution_count": null,
      "outputs": []
    },
    {
      "cell_type": "code",
      "metadata": {
        "id": "hjiKBKnBDTNS"
      },
      "source": [
        "#1 trace test Extracting data for B1 floor only\n",
        "sequences = list()\n",
        "target_sequence=list()\n",
        "waypoint_sequence=list()\n",
        "waypoint_full_sequence=list()\n",
        "#floors_df=pd.DataFrame()\n",
        "file_path = '/content/drive/MyDrive/building1/test/'\n",
        "trace_values=(convert_to_df(file_path,0))\n",
        "sequences.extend(trace_values.sequence)\n",
        "target_sequence.extend(trace_values.target_seq)\n",
        "waypoint_sequence.extend(trace_values.waypoint_seq)\n",
        "waypoint_full_sequence.extend(trace_values.wp_full_seq)"
      ],
      "execution_count": null,
      "outputs": []
    },
    {
      "cell_type": "code",
      "metadata": {
        "colab": {
          "base_uri": "https://localhost:8080/"
        },
        "id": "OXmpBegNG3fL",
        "outputId": "a45f2281-f578-40a1-9c40-88eb8e02780e"
      },
      "source": [
        "len(sequences)"
      ],
      "execution_count": null,
      "outputs": [
        {
          "output_type": "execute_result",
          "data": {
            "text/plain": [
              "98"
            ]
          },
          "metadata": {
            "tags": []
          },
          "execution_count": 44
        }
      ]
    },
    {
      "cell_type": "code",
      "metadata": {
        "id": "RIHmyZk8PWje"
      },
      "source": [
        "#Extracting data for B1 floor only\n",
        "sequences = list()\n",
        "target_sequence=list()\n",
        "waypoint_sequence=list()\n",
        "waypoint_full_sequence=list()\n",
        "#floors_df=pd.DataFrame()\n",
        "file_path = '/content/drive/MyDrive/building1/data/B1'\n",
        "trace_values=(convert_to_df(file_path,0,5))\n",
        "sequences.extend(trace_values.sequence)\n",
        "target_sequence.extend(trace_values.target_seq)\n",
        "waypoint_sequence.extend(trace_values.waypoint_seq)\n",
        "waypoint_full_sequence.extend(trace_values.wp_full_seq)"
      ],
      "execution_count": null,
      "outputs": []
    },
    {
      "cell_type": "code",
      "metadata": {
        "colab": {
          "base_uri": "https://localhost:8080/"
        },
        "id": "-H8pSsXd15bP",
        "outputId": "07e98f2a-eb69-4d8b-e724-8f711d71aa6d"
      },
      "source": [
        "waypoint_sequence[0]"
      ],
      "execution_count": null,
      "outputs": [
        {
          "output_type": "execute_result",
          "data": {
            "text/plain": [
              "[198.39352660531696,\n",
              " 163.5148854601227,\n",
              " 198.41872321063394,\n",
              " 198.36833,\n",
              " 163.52063,\n",
              " 163.50914092024541]"
            ]
          },
          "metadata": {
            "tags": []
          },
          "execution_count": 8
        }
      ]
    },
    {
      "cell_type": "code",
      "metadata": {
        "colab": {
          "base_uri": "https://localhost:8080/"
        },
        "id": "cu3Zj31ukXcD",
        "outputId": "c78487eb-fb5e-4e56-cc7f-2ca07d1f156f"
      },
      "source": [
        "len(sequences[0])"
      ],
      "execution_count": null,
      "outputs": [
        {
          "output_type": "execute_result",
          "data": {
            "text/plain": [
              "5"
            ]
          },
          "metadata": {
            "tags": []
          },
          "execution_count": 38
        }
      ]
    },
    {
      "cell_type": "code",
      "metadata": {
        "colab": {
          "base_uri": "https://localhost:8080/"
        },
        "id": "z_7S8TmaPWje",
        "outputId": "e319afe6-e700-4f59-d5c0-e0efc18c6b84"
      },
      "source": [
        "print('Number of sequences',len(sequences))\n",
        "print('Number of targets',len(target_sequence))\n",
        "print('Number of timeslots in first sequence',(sequences[0].shape)[0])\n",
        "print('Number of timeslots in tenth sequence',(sequences[9].shape)[0])\n",
        "print('Number of timeslots in hundredth sequence',(sequences[99].shape)[0])"
      ],
      "execution_count": null,
      "outputs": [
        {
          "output_type": "stream",
          "text": [
            "Number of sequences 44943\n",
            "Number of targets 44943\n",
            "Number of timeslots in first sequence 5\n",
            "Number of timeslots in tenth sequence 5\n",
            "Number of timeslots in hundredth sequence 5\n"
          ],
          "name": "stdout"
        }
      ]
    },
    {
      "cell_type": "code",
      "metadata": {
        "id": "wPdndUabPWje"
      },
      "source": [
        "#Now adding data of other floors to the sequences starting with F1\n",
        "file_path = '/content/drive/MyDrive/building1/data/F1'\n",
        "trace_values=(convert_to_df(file_path,1,5))\n",
        "sequences.extend(trace_values.sequence)\n",
        "target_sequence.extend(trace_values.target_seq)\n",
        "waypoint_sequence.extend(trace_values.waypoint_seq)\n",
        "file_path = '/content/drive/MyDrive/building1/data/F2'\n",
        "trace_values=(convert_to_df(file_path,2,5))\n",
        "sequences.extend(trace_values.sequence)\n",
        "target_sequence.extend(trace_values.target_seq)\n",
        "waypoint_sequence.extend(trace_values.waypoint_seq)\n",
        "file_path = '/content/drive/MyDrive/building1/data/F3'\n",
        "trace_values=(convert_to_df(file_path,3,5))\n",
        "sequences.extend(trace_values.sequence)\n",
        "target_sequence.extend(trace_values.target_seq)\n",
        "waypoint_sequence.extend(trace_values.waypoint_seq)\n",
        "file_path = '/content/drive/MyDrive/building1/data/F4'\n",
        "trace_values=(convert_to_df(file_path,4,5))\n",
        "sequences.extend(trace_values.sequence)\n",
        "target_sequence.extend(trace_values.target_seq)\n",
        "waypoint_sequence.extend(trace_values.waypoint_seq)"
      ],
      "execution_count": null,
      "outputs": []
    },
    {
      "cell_type": "code",
      "metadata": {
        "colab": {
          "base_uri": "https://localhost:8080/"
        },
        "id": "vu6GUYhwVNgk",
        "outputId": "aa918424-4005-4374-bfce-72b9397239c3"
      },
      "source": [
        "print('Number of sequences',len(sequences))\n",
        "print('Number of targets',len(target_sequence))\n",
        "print('Number of timeslots in first sequence',(sequences[0].shape)[0])\n",
        "print('Number of timeslots in tenth sequence',(sequences[9].shape)[0])\n",
        "print('Number of timeslots in hundredth sequence',(sequences[99].shape)[0])"
      ],
      "execution_count": null,
      "outputs": [
        {
          "output_type": "stream",
          "text": [
            "Number of sequences 226354\n",
            "Number of targets 226354\n",
            "Number of timeslots in first sequence 5\n",
            "Number of timeslots in tenth sequence 5\n",
            "Number of timeslots in hundredth sequence 5\n"
          ],
          "name": "stdout"
        }
      ]
    },
    {
      "cell_type": "code",
      "metadata": {
        "colab": {
          "base_uri": "https://localhost:8080/"
        },
        "id": "Esbsaw2NQqT7",
        "outputId": "7cf7ed9e-81c0-4abb-b41d-ae4339263e3b"
      },
      "source": [
        "train_length=int(len(sequences)*0.7)\n",
        "val_length=int(len(sequences)*0.15)\n",
        "test_length=len(sequences)-train_length-val_length\n",
        "\n",
        "train_flags=np.full((train_length), 0)\n",
        "validation_flags=np.full((val_length), 1)\n",
        "test_flags=np.full((test_length), 2)\n",
        "flags=[]\n",
        "flags.extend(train_flags)\n",
        "flags.extend(validation_flags)\n",
        "flags.extend(test_flags)\n",
        "np.random.shuffle(flags)\n",
        "len(flags)"
      ],
      "execution_count": null,
      "outputs": [
        {
          "output_type": "execute_result",
          "data": {
            "text/plain": [
              "226354"
            ]
          },
          "metadata": {
            "tags": []
          },
          "execution_count": 18
        }
      ]
    },
    {
      "cell_type": "code",
      "metadata": {
        "id": "BTZdQ7hbnAEx"
      },
      "source": [
        "train = [sequences[i] for i in range(len(flags)) if (flags[i]==0)]\n",
        "validation = [sequences[i] for i in range(len(flags)) if flags[i]==1]\n",
        "test = [sequences[i] for i in range(len(flags)) if flags[i]==2]\n",
        "\n",
        "train_target = [target_sequence[i] for i in range(len(flags)) if (flags[i]==0)]\n",
        "validation_target = [target_sequence[i] for i in range(len(flags)) if flags[i]==1]\n",
        "test_target = [target_sequence[i] for i in range(len(flags)) if flags[i]==2]\n",
        "train = np.array(train)\n",
        "validation = np.array(validation)\n",
        "test = np.array(test)\n",
        "\n",
        "train_target = np.array(train_target)\n",
        "\n",
        "train_target=to_categorical(train_target,num_classes = 5)\n",
        "\n",
        "validation_target = np.array(validation_target)\n",
        "\n",
        "validation_target=to_categorical(validation_target,num_classes = 5)\n",
        "\n",
        "test_target = np.array(test_target)\n",
        "\n",
        "test_target=to_categorical(test_target,num_classes = 5)"
      ],
      "execution_count": null,
      "outputs": []
    },
    {
      "cell_type": "code",
      "metadata": {
        "colab": {
          "base_uri": "https://localhost:8080/"
        },
        "id": "XZyGcTl8wEzp",
        "outputId": "8d11dfca-a41c-406a-d092-c58dcb24aa2a"
      },
      "source": [
        "print(sequences[0].shape)\n",
        "train_target.shape"
      ],
      "execution_count": null,
      "outputs": [
        {
          "output_type": "stream",
          "text": [
            "(200, 24)\n"
          ],
          "name": "stdout"
        },
        {
          "output_type": "execute_result",
          "data": {
            "text/plain": [
              "(3788, 5)"
            ]
          },
          "metadata": {
            "tags": []
          },
          "execution_count": 38
        }
      ]
    },
    {
      "cell_type": "code",
      "metadata": {
        "id": "y8WRNbq5qvQF"
      },
      "source": [
        "seq_len = 5\n",
        "seq_bredth=24\n",
        "model = Sequential()\n",
        "model.add(LSTM(256, input_shape=(seq_len, seq_bredth)))\n",
        "model.add(Dense(128, activation='relu'))\n",
        "model.add(Dense(5, activation='softmax'))"
      ],
      "execution_count": null,
      "outputs": []
    },
    {
      "cell_type": "code",
      "metadata": {
        "colab": {
          "base_uri": "https://localhost:8080/"
        },
        "id": "QxyARlhftUFZ",
        "outputId": "7deb1fa2-e2ad-451d-931f-f0c01e42e2a1"
      },
      "source": [
        "model.summary()"
      ],
      "execution_count": null,
      "outputs": [
        {
          "output_type": "stream",
          "text": [
            "Model: \"sequential_2\"\n",
            "_________________________________________________________________\n",
            "Layer (type)                 Output Shape              Param #   \n",
            "=================================================================\n",
            "lstm_2 (LSTM)                (None, 256)               287744    \n",
            "_________________________________________________________________\n",
            "dense_4 (Dense)              (None, 128)               32896     \n",
            "_________________________________________________________________\n",
            "dense_5 (Dense)              (None, 5)                 645       \n",
            "=================================================================\n",
            "Total params: 321,285\n",
            "Trainable params: 321,285\n",
            "Non-trainable params: 0\n",
            "_________________________________________________________________\n"
          ],
          "name": "stdout"
        }
      ]
    },
    {
      "cell_type": "code",
      "metadata": {
        "id": "XL0kTXHum9CN"
      },
      "source": [
        "train=tf.convert_to_tensor(train, np.float32)\n",
        "train_target=tf.convert_to_tensor(train_target, np.float32)\n",
        "validation=tf.convert_to_tensor(validation, np.float32)\n",
        "validation_target=tf.convert_to_tensor(validation_target, np.float32)\n",
        "test=tf.convert_to_tensor(test, np.float32)\n",
        "test_target=tf.convert_to_tensor(test_target, np.float32)\n"
      ],
      "execution_count": null,
      "outputs": []
    },
    {
      "cell_type": "code",
      "metadata": {
        "colab": {
          "base_uri": "https://localhost:8080/"
        },
        "id": "HxVTmHzvtYmj",
        "outputId": "f540623c-ec19-4948-fcd2-88bd13cc8301"
      },
      "source": [
        "adam = Adam(lr=0.001)\n",
        "checkpoint_filepath = '/content/drive/MyDrive/building1/mod26marchPart1_5slots_lstm/best_model.pkl'\n",
        "chk = ModelCheckpoint(filepath=checkpoint_filepath, monitor='val_accuracy', save_best_only=True, mode='max', verbose=1)\n",
        "model.compile(loss='categorical_crossentropy', optimizer=adam, metrics=['accuracy'])\n",
        "history=model.fit(train, train_target, epochs=200, batch_size=128, callbacks=[chk], validation_data=(validation,validation_target))"
      ],
      "execution_count": null,
      "outputs": [
        {
          "output_type": "stream",
          "text": [
            "Epoch 1/200\n",
            "1238/1238 [==============================] - 67s 52ms/step - loss: 0.5275 - accuracy: 0.7601 - val_loss: 0.3095 - val_accuracy: 0.8537\n",
            "\n",
            "Epoch 00001: val_accuracy improved from -inf to 0.85365, saving model to /content/drive/MyDrive/building1/mod26marchPart1_5slots_lstm/best_model.pkl\n"
          ],
          "name": "stdout"
        },
        {
          "output_type": "stream",
          "text": [
            "WARNING:absl:Found untraced functions such as lstm_cell_2_layer_call_and_return_conditional_losses, lstm_cell_2_layer_call_fn, lstm_cell_2_layer_call_fn, lstm_cell_2_layer_call_and_return_conditional_losses, lstm_cell_2_layer_call_and_return_conditional_losses while saving (showing 5 of 5). These functions will not be directly callable after loading.\n",
            "WARNING:absl:Found untraced functions such as lstm_cell_2_layer_call_and_return_conditional_losses, lstm_cell_2_layer_call_fn, lstm_cell_2_layer_call_fn, lstm_cell_2_layer_call_and_return_conditional_losses, lstm_cell_2_layer_call_and_return_conditional_losses while saving (showing 5 of 5). These functions will not be directly callable after loading.\n"
          ],
          "name": "stderr"
        },
        {
          "output_type": "stream",
          "text": [
            "INFO:tensorflow:Assets written to: /content/drive/MyDrive/building1/mod26marchPart1_5slots_lstm/best_model.pkl/assets\n"
          ],
          "name": "stdout"
        },
        {
          "output_type": "stream",
          "text": [
            "INFO:tensorflow:Assets written to: /content/drive/MyDrive/building1/mod26marchPart1_5slots_lstm/best_model.pkl/assets\n"
          ],
          "name": "stderr"
        },
        {
          "output_type": "stream",
          "text": [
            "Epoch 2/200\n",
            "1238/1238 [==============================] - 64s 51ms/step - loss: 0.3167 - accuracy: 0.8559 - val_loss: 0.2950 - val_accuracy: 0.8602\n",
            "\n",
            "Epoch 00002: val_accuracy improved from 0.85365 to 0.86016, saving model to /content/drive/MyDrive/building1/mod26marchPart1_5slots_lstm/best_model.pkl\n"
          ],
          "name": "stdout"
        },
        {
          "output_type": "stream",
          "text": [
            "WARNING:absl:Found untraced functions such as lstm_cell_2_layer_call_and_return_conditional_losses, lstm_cell_2_layer_call_fn, lstm_cell_2_layer_call_fn, lstm_cell_2_layer_call_and_return_conditional_losses, lstm_cell_2_layer_call_and_return_conditional_losses while saving (showing 5 of 5). These functions will not be directly callable after loading.\n",
            "WARNING:absl:Found untraced functions such as lstm_cell_2_layer_call_and_return_conditional_losses, lstm_cell_2_layer_call_fn, lstm_cell_2_layer_call_fn, lstm_cell_2_layer_call_and_return_conditional_losses, lstm_cell_2_layer_call_and_return_conditional_losses while saving (showing 5 of 5). These functions will not be directly callable after loading.\n"
          ],
          "name": "stderr"
        },
        {
          "output_type": "stream",
          "text": [
            "INFO:tensorflow:Assets written to: /content/drive/MyDrive/building1/mod26marchPart1_5slots_lstm/best_model.pkl/assets\n"
          ],
          "name": "stdout"
        },
        {
          "output_type": "stream",
          "text": [
            "INFO:tensorflow:Assets written to: /content/drive/MyDrive/building1/mod26marchPart1_5slots_lstm/best_model.pkl/assets\n"
          ],
          "name": "stderr"
        },
        {
          "output_type": "stream",
          "text": [
            "Epoch 3/200\n",
            "1238/1238 [==============================] - 70s 56ms/step - loss: 0.2612 - accuracy: 0.8763 - val_loss: 0.2471 - val_accuracy: 0.8850\n",
            "\n",
            "Epoch 00003: val_accuracy improved from 0.86016 to 0.88499, saving model to /content/drive/MyDrive/building1/mod26marchPart1_5slots_lstm/best_model.pkl\n"
          ],
          "name": "stdout"
        },
        {
          "output_type": "stream",
          "text": [
            "WARNING:absl:Found untraced functions such as lstm_cell_2_layer_call_and_return_conditional_losses, lstm_cell_2_layer_call_fn, lstm_cell_2_layer_call_fn, lstm_cell_2_layer_call_and_return_conditional_losses, lstm_cell_2_layer_call_and_return_conditional_losses while saving (showing 5 of 5). These functions will not be directly callable after loading.\n",
            "WARNING:absl:Found untraced functions such as lstm_cell_2_layer_call_and_return_conditional_losses, lstm_cell_2_layer_call_fn, lstm_cell_2_layer_call_fn, lstm_cell_2_layer_call_and_return_conditional_losses, lstm_cell_2_layer_call_and_return_conditional_losses while saving (showing 5 of 5). These functions will not be directly callable after loading.\n"
          ],
          "name": "stderr"
        },
        {
          "output_type": "stream",
          "text": [
            "INFO:tensorflow:Assets written to: /content/drive/MyDrive/building1/mod26marchPart1_5slots_lstm/best_model.pkl/assets\n"
          ],
          "name": "stdout"
        },
        {
          "output_type": "stream",
          "text": [
            "INFO:tensorflow:Assets written to: /content/drive/MyDrive/building1/mod26marchPart1_5slots_lstm/best_model.pkl/assets\n"
          ],
          "name": "stderr"
        },
        {
          "output_type": "stream",
          "text": [
            "Epoch 4/200\n",
            "1238/1238 [==============================] - 70s 57ms/step - loss: 0.2385 - accuracy: 0.8883 - val_loss: 0.2113 - val_accuracy: 0.9024\n",
            "\n",
            "Epoch 00004: val_accuracy improved from 0.88499 to 0.90237, saving model to /content/drive/MyDrive/building1/mod26marchPart1_5slots_lstm/best_model.pkl\n"
          ],
          "name": "stdout"
        },
        {
          "output_type": "stream",
          "text": [
            "WARNING:absl:Found untraced functions such as lstm_cell_2_layer_call_and_return_conditional_losses, lstm_cell_2_layer_call_fn, lstm_cell_2_layer_call_fn, lstm_cell_2_layer_call_and_return_conditional_losses, lstm_cell_2_layer_call_and_return_conditional_losses while saving (showing 5 of 5). These functions will not be directly callable after loading.\n",
            "WARNING:absl:Found untraced functions such as lstm_cell_2_layer_call_and_return_conditional_losses, lstm_cell_2_layer_call_fn, lstm_cell_2_layer_call_fn, lstm_cell_2_layer_call_and_return_conditional_losses, lstm_cell_2_layer_call_and_return_conditional_losses while saving (showing 5 of 5). These functions will not be directly callable after loading.\n"
          ],
          "name": "stderr"
        },
        {
          "output_type": "stream",
          "text": [
            "INFO:tensorflow:Assets written to: /content/drive/MyDrive/building1/mod26marchPart1_5slots_lstm/best_model.pkl/assets\n"
          ],
          "name": "stdout"
        },
        {
          "output_type": "stream",
          "text": [
            "INFO:tensorflow:Assets written to: /content/drive/MyDrive/building1/mod26marchPart1_5slots_lstm/best_model.pkl/assets\n"
          ],
          "name": "stderr"
        },
        {
          "output_type": "stream",
          "text": [
            "Epoch 5/200\n",
            "1238/1238 [==============================] - 69s 56ms/step - loss: 0.2116 - accuracy: 0.9007 - val_loss: 0.1746 - val_accuracy: 0.9209\n",
            "\n",
            "Epoch 00005: val_accuracy improved from 0.90237 to 0.92086, saving model to /content/drive/MyDrive/building1/mod26marchPart1_5slots_lstm/best_model.pkl\n"
          ],
          "name": "stdout"
        },
        {
          "output_type": "stream",
          "text": [
            "WARNING:absl:Found untraced functions such as lstm_cell_2_layer_call_and_return_conditional_losses, lstm_cell_2_layer_call_fn, lstm_cell_2_layer_call_fn, lstm_cell_2_layer_call_and_return_conditional_losses, lstm_cell_2_layer_call_and_return_conditional_losses while saving (showing 5 of 5). These functions will not be directly callable after loading.\n",
            "WARNING:absl:Found untraced functions such as lstm_cell_2_layer_call_and_return_conditional_losses, lstm_cell_2_layer_call_fn, lstm_cell_2_layer_call_fn, lstm_cell_2_layer_call_and_return_conditional_losses, lstm_cell_2_layer_call_and_return_conditional_losses while saving (showing 5 of 5). These functions will not be directly callable after loading.\n"
          ],
          "name": "stderr"
        },
        {
          "output_type": "stream",
          "text": [
            "INFO:tensorflow:Assets written to: /content/drive/MyDrive/building1/mod26marchPart1_5slots_lstm/best_model.pkl/assets\n"
          ],
          "name": "stdout"
        },
        {
          "output_type": "stream",
          "text": [
            "INFO:tensorflow:Assets written to: /content/drive/MyDrive/building1/mod26marchPart1_5slots_lstm/best_model.pkl/assets\n"
          ],
          "name": "stderr"
        },
        {
          "output_type": "stream",
          "text": [
            "Epoch 6/200\n",
            "1238/1238 [==============================] - 71s 57ms/step - loss: 0.1982 - accuracy: 0.9086 - val_loss: 0.2691 - val_accuracy: 0.8627\n",
            "\n",
            "Epoch 00006: val_accuracy did not improve from 0.92086\n",
            "Epoch 7/200\n",
            "1238/1238 [==============================] - 70s 57ms/step - loss: 0.2164 - accuracy: 0.8985 - val_loss: 0.2564 - val_accuracy: 0.8747\n",
            "\n",
            "Epoch 00007: val_accuracy did not improve from 0.92086\n",
            "Epoch 8/200\n",
            "1238/1238 [==============================] - 70s 57ms/step - loss: 0.1766 - accuracy: 0.9196 - val_loss: 0.1360 - val_accuracy: 0.9313\n",
            "\n",
            "Epoch 00008: val_accuracy improved from 0.92086 to 0.93135, saving model to /content/drive/MyDrive/building1/mod26marchPart1_5slots_lstm/best_model.pkl\n"
          ],
          "name": "stdout"
        },
        {
          "output_type": "stream",
          "text": [
            "WARNING:absl:Found untraced functions such as lstm_cell_2_layer_call_and_return_conditional_losses, lstm_cell_2_layer_call_fn, lstm_cell_2_layer_call_fn, lstm_cell_2_layer_call_and_return_conditional_losses, lstm_cell_2_layer_call_and_return_conditional_losses while saving (showing 5 of 5). These functions will not be directly callable after loading.\n",
            "WARNING:absl:Found untraced functions such as lstm_cell_2_layer_call_and_return_conditional_losses, lstm_cell_2_layer_call_fn, lstm_cell_2_layer_call_fn, lstm_cell_2_layer_call_and_return_conditional_losses, lstm_cell_2_layer_call_and_return_conditional_losses while saving (showing 5 of 5). These functions will not be directly callable after loading.\n"
          ],
          "name": "stderr"
        },
        {
          "output_type": "stream",
          "text": [
            "INFO:tensorflow:Assets written to: /content/drive/MyDrive/building1/mod26marchPart1_5slots_lstm/best_model.pkl/assets\n"
          ],
          "name": "stdout"
        },
        {
          "output_type": "stream",
          "text": [
            "INFO:tensorflow:Assets written to: /content/drive/MyDrive/building1/mod26marchPart1_5slots_lstm/best_model.pkl/assets\n"
          ],
          "name": "stderr"
        },
        {
          "output_type": "stream",
          "text": [
            "Epoch 9/200\n",
            "1238/1238 [==============================] - 71s 57ms/step - loss: 0.1431 - accuracy: 0.9399 - val_loss: 0.1586 - val_accuracy: 0.9279\n",
            "\n",
            "Epoch 00009: val_accuracy did not improve from 0.93135\n",
            "Epoch 10/200\n",
            "1238/1238 [==============================] - 70s 57ms/step - loss: 0.1341 - accuracy: 0.9444 - val_loss: 0.1509 - val_accuracy: 0.9257\n",
            "\n",
            "Epoch 00010: val_accuracy did not improve from 0.93135\n",
            "Epoch 11/200\n",
            "1238/1238 [==============================] - 70s 56ms/step - loss: 0.1268 - accuracy: 0.9457 - val_loss: 0.0919 - val_accuracy: 0.9556\n",
            "\n",
            "Epoch 00011: val_accuracy improved from 0.93135 to 0.95556, saving model to /content/drive/MyDrive/building1/mod26marchPart1_5slots_lstm/best_model.pkl\n"
          ],
          "name": "stdout"
        },
        {
          "output_type": "stream",
          "text": [
            "WARNING:absl:Found untraced functions such as lstm_cell_2_layer_call_and_return_conditional_losses, lstm_cell_2_layer_call_fn, lstm_cell_2_layer_call_fn, lstm_cell_2_layer_call_and_return_conditional_losses, lstm_cell_2_layer_call_and_return_conditional_losses while saving (showing 5 of 5). These functions will not be directly callable after loading.\n",
            "WARNING:absl:Found untraced functions such as lstm_cell_2_layer_call_and_return_conditional_losses, lstm_cell_2_layer_call_fn, lstm_cell_2_layer_call_fn, lstm_cell_2_layer_call_and_return_conditional_losses, lstm_cell_2_layer_call_and_return_conditional_losses while saving (showing 5 of 5). These functions will not be directly callable after loading.\n"
          ],
          "name": "stderr"
        },
        {
          "output_type": "stream",
          "text": [
            "INFO:tensorflow:Assets written to: /content/drive/MyDrive/building1/mod26marchPart1_5slots_lstm/best_model.pkl/assets\n"
          ],
          "name": "stdout"
        },
        {
          "output_type": "stream",
          "text": [
            "INFO:tensorflow:Assets written to: /content/drive/MyDrive/building1/mod26marchPart1_5slots_lstm/best_model.pkl/assets\n"
          ],
          "name": "stderr"
        },
        {
          "output_type": "stream",
          "text": [
            "Epoch 12/200\n",
            "1238/1238 [==============================] - 70s 57ms/step - loss: 0.1158 - accuracy: 0.9543 - val_loss: 0.1065 - val_accuracy: 0.9579\n",
            "\n",
            "Epoch 00012: val_accuracy improved from 0.95556 to 0.95791, saving model to /content/drive/MyDrive/building1/mod26marchPart1_5slots_lstm/best_model.pkl\n"
          ],
          "name": "stdout"
        },
        {
          "output_type": "stream",
          "text": [
            "WARNING:absl:Found untraced functions such as lstm_cell_2_layer_call_and_return_conditional_losses, lstm_cell_2_layer_call_fn, lstm_cell_2_layer_call_fn, lstm_cell_2_layer_call_and_return_conditional_losses, lstm_cell_2_layer_call_and_return_conditional_losses while saving (showing 5 of 5). These functions will not be directly callable after loading.\n",
            "WARNING:absl:Found untraced functions such as lstm_cell_2_layer_call_and_return_conditional_losses, lstm_cell_2_layer_call_fn, lstm_cell_2_layer_call_fn, lstm_cell_2_layer_call_and_return_conditional_losses, lstm_cell_2_layer_call_and_return_conditional_losses while saving (showing 5 of 5). These functions will not be directly callable after loading.\n"
          ],
          "name": "stderr"
        },
        {
          "output_type": "stream",
          "text": [
            "INFO:tensorflow:Assets written to: /content/drive/MyDrive/building1/mod26marchPart1_5slots_lstm/best_model.pkl/assets\n"
          ],
          "name": "stdout"
        },
        {
          "output_type": "stream",
          "text": [
            "INFO:tensorflow:Assets written to: /content/drive/MyDrive/building1/mod26marchPart1_5slots_lstm/best_model.pkl/assets\n"
          ],
          "name": "stderr"
        },
        {
          "output_type": "stream",
          "text": [
            "Epoch 13/200\n",
            "1238/1238 [==============================] - 70s 57ms/step - loss: 0.1133 - accuracy: 0.9556 - val_loss: 0.1489 - val_accuracy: 0.9374\n",
            "\n",
            "Epoch 00013: val_accuracy did not improve from 0.95791\n",
            "Epoch 14/200\n",
            "1238/1238 [==============================] - 72s 58ms/step - loss: 0.1621 - accuracy: 0.9292 - val_loss: 0.1090 - val_accuracy: 0.9573\n",
            "\n",
            "Epoch 00014: val_accuracy did not improve from 0.95791\n",
            "Epoch 15/200\n",
            "1238/1238 [==============================] - 73s 59ms/step - loss: 0.1001 - accuracy: 0.9619 - val_loss: 0.0863 - val_accuracy: 0.9703\n",
            "\n",
            "Epoch 00015: val_accuracy improved from 0.95791 to 0.97031, saving model to /content/drive/MyDrive/building1/mod26marchPart1_5slots_lstm/best_model.pkl\n"
          ],
          "name": "stdout"
        },
        {
          "output_type": "stream",
          "text": [
            "WARNING:absl:Found untraced functions such as lstm_cell_2_layer_call_and_return_conditional_losses, lstm_cell_2_layer_call_fn, lstm_cell_2_layer_call_fn, lstm_cell_2_layer_call_and_return_conditional_losses, lstm_cell_2_layer_call_and_return_conditional_losses while saving (showing 5 of 5). These functions will not be directly callable after loading.\n",
            "WARNING:absl:Found untraced functions such as lstm_cell_2_layer_call_and_return_conditional_losses, lstm_cell_2_layer_call_fn, lstm_cell_2_layer_call_fn, lstm_cell_2_layer_call_and_return_conditional_losses, lstm_cell_2_layer_call_and_return_conditional_losses while saving (showing 5 of 5). These functions will not be directly callable after loading.\n"
          ],
          "name": "stderr"
        },
        {
          "output_type": "stream",
          "text": [
            "INFO:tensorflow:Assets written to: /content/drive/MyDrive/building1/mod26marchPart1_5slots_lstm/best_model.pkl/assets\n"
          ],
          "name": "stdout"
        },
        {
          "output_type": "stream",
          "text": [
            "INFO:tensorflow:Assets written to: /content/drive/MyDrive/building1/mod26marchPart1_5slots_lstm/best_model.pkl/assets\n"
          ],
          "name": "stderr"
        },
        {
          "output_type": "stream",
          "text": [
            "Epoch 16/200\n",
            "1238/1238 [==============================] - 71s 57ms/step - loss: 0.0967 - accuracy: 0.9631 - val_loss: 0.0831 - val_accuracy: 0.9726\n",
            "\n",
            "Epoch 00016: val_accuracy improved from 0.97031 to 0.97255, saving model to /content/drive/MyDrive/building1/mod26marchPart1_5slots_lstm/best_model.pkl\n"
          ],
          "name": "stdout"
        },
        {
          "output_type": "stream",
          "text": [
            "WARNING:absl:Found untraced functions such as lstm_cell_2_layer_call_and_return_conditional_losses, lstm_cell_2_layer_call_fn, lstm_cell_2_layer_call_fn, lstm_cell_2_layer_call_and_return_conditional_losses, lstm_cell_2_layer_call_and_return_conditional_losses while saving (showing 5 of 5). These functions will not be directly callable after loading.\n",
            "WARNING:absl:Found untraced functions such as lstm_cell_2_layer_call_and_return_conditional_losses, lstm_cell_2_layer_call_fn, lstm_cell_2_layer_call_fn, lstm_cell_2_layer_call_and_return_conditional_losses, lstm_cell_2_layer_call_and_return_conditional_losses while saving (showing 5 of 5). These functions will not be directly callable after loading.\n"
          ],
          "name": "stderr"
        },
        {
          "output_type": "stream",
          "text": [
            "INFO:tensorflow:Assets written to: /content/drive/MyDrive/building1/mod26marchPart1_5slots_lstm/best_model.pkl/assets\n"
          ],
          "name": "stdout"
        },
        {
          "output_type": "stream",
          "text": [
            "INFO:tensorflow:Assets written to: /content/drive/MyDrive/building1/mod26marchPart1_5slots_lstm/best_model.pkl/assets\n"
          ],
          "name": "stderr"
        },
        {
          "output_type": "stream",
          "text": [
            "Epoch 17/200\n",
            "1238/1238 [==============================] - 71s 58ms/step - loss: 0.1023 - accuracy: 0.9610 - val_loss: 0.0936 - val_accuracy: 0.9656\n",
            "\n",
            "Epoch 00017: val_accuracy did not improve from 0.97255\n",
            "Epoch 18/200\n",
            "1238/1238 [==============================] - 71s 57ms/step - loss: 0.0985 - accuracy: 0.9617 - val_loss: 0.0508 - val_accuracy: 0.9826\n",
            "\n",
            "Epoch 00018: val_accuracy improved from 0.97255 to 0.98262, saving model to /content/drive/MyDrive/building1/mod26marchPart1_5slots_lstm/best_model.pkl\n"
          ],
          "name": "stdout"
        },
        {
          "output_type": "stream",
          "text": [
            "WARNING:absl:Found untraced functions such as lstm_cell_2_layer_call_and_return_conditional_losses, lstm_cell_2_layer_call_fn, lstm_cell_2_layer_call_fn, lstm_cell_2_layer_call_and_return_conditional_losses, lstm_cell_2_layer_call_and_return_conditional_losses while saving (showing 5 of 5). These functions will not be directly callable after loading.\n",
            "WARNING:absl:Found untraced functions such as lstm_cell_2_layer_call_and_return_conditional_losses, lstm_cell_2_layer_call_fn, lstm_cell_2_layer_call_fn, lstm_cell_2_layer_call_and_return_conditional_losses, lstm_cell_2_layer_call_and_return_conditional_losses while saving (showing 5 of 5). These functions will not be directly callable after loading.\n"
          ],
          "name": "stderr"
        },
        {
          "output_type": "stream",
          "text": [
            "INFO:tensorflow:Assets written to: /content/drive/MyDrive/building1/mod26marchPart1_5slots_lstm/best_model.pkl/assets\n"
          ],
          "name": "stdout"
        },
        {
          "output_type": "stream",
          "text": [
            "INFO:tensorflow:Assets written to: /content/drive/MyDrive/building1/mod26marchPart1_5slots_lstm/best_model.pkl/assets\n"
          ],
          "name": "stderr"
        },
        {
          "output_type": "stream",
          "text": [
            "Epoch 19/200\n",
            "1238/1238 [==============================] - 67s 54ms/step - loss: 0.0882 - accuracy: 0.9656 - val_loss: 0.3535 - val_accuracy: 0.8503\n",
            "\n",
            "Epoch 00019: val_accuracy did not improve from 0.98262\n",
            "Epoch 20/200\n",
            "1238/1238 [==============================] - 67s 54ms/step - loss: 0.1442 - accuracy: 0.9334 - val_loss: 0.1572 - val_accuracy: 0.9234\n",
            "\n",
            "Epoch 00020: val_accuracy did not improve from 0.98262\n",
            "Epoch 21/200\n",
            "1238/1238 [==============================] - 58s 47ms/step - loss: 0.1203 - accuracy: 0.9450 - val_loss: 0.1141 - val_accuracy: 0.9469\n",
            "\n",
            "Epoch 00021: val_accuracy did not improve from 0.98262\n",
            "Epoch 22/200\n",
            "1238/1238 [==============================] - 57s 46ms/step - loss: 0.1176 - accuracy: 0.9484 - val_loss: 0.0829 - val_accuracy: 0.9657\n",
            "\n",
            "Epoch 00022: val_accuracy did not improve from 0.98262\n",
            "Epoch 23/200\n",
            "1238/1238 [==============================] - 57s 46ms/step - loss: 0.1137 - accuracy: 0.9525 - val_loss: 0.0895 - val_accuracy: 0.9620\n",
            "\n",
            "Epoch 00023: val_accuracy did not improve from 0.98262\n",
            "Epoch 24/200\n",
            "1238/1238 [==============================] - 57s 46ms/step - loss: 0.0983 - accuracy: 0.9598 - val_loss: 0.0782 - val_accuracy: 0.9696\n",
            "\n",
            "Epoch 00024: val_accuracy did not improve from 0.98262\n",
            "Epoch 25/200\n",
            "1238/1238 [==============================] - 57s 46ms/step - loss: 0.0922 - accuracy: 0.9638 - val_loss: 0.1335 - val_accuracy: 0.9368\n",
            "\n",
            "Epoch 00025: val_accuracy did not improve from 0.98262\n",
            "Epoch 26/200\n",
            "1238/1238 [==============================] - 57s 46ms/step - loss: 0.0847 - accuracy: 0.9654 - val_loss: 0.0552 - val_accuracy: 0.9823\n",
            "\n",
            "Epoch 00026: val_accuracy did not improve from 0.98262\n",
            "Epoch 27/200\n",
            "1238/1238 [==============================] - 57s 46ms/step - loss: 0.0769 - accuracy: 0.9704 - val_loss: 0.0547 - val_accuracy: 0.9754\n",
            "\n",
            "Epoch 00027: val_accuracy did not improve from 0.98262\n",
            "Epoch 28/200\n",
            "1238/1238 [==============================] - 57s 46ms/step - loss: 0.0710 - accuracy: 0.9723 - val_loss: 0.0552 - val_accuracy: 0.9756\n",
            "\n",
            "Epoch 00028: val_accuracy did not improve from 0.98262\n",
            "Epoch 29/200\n",
            "1238/1238 [==============================] - 56s 46ms/step - loss: 0.0723 - accuracy: 0.9723 - val_loss: 0.0497 - val_accuracy: 0.9814\n",
            "\n",
            "Epoch 00029: val_accuracy did not improve from 0.98262\n",
            "Epoch 30/200\n",
            "1238/1238 [==============================] - 57s 46ms/step - loss: 0.0589 - accuracy: 0.9770 - val_loss: 0.0371 - val_accuracy: 0.9871\n",
            "\n",
            "Epoch 00030: val_accuracy improved from 0.98262 to 0.98707, saving model to /content/drive/MyDrive/building1/mod26marchPart1_5slots_lstm/best_model.pkl\n"
          ],
          "name": "stdout"
        },
        {
          "output_type": "stream",
          "text": [
            "WARNING:absl:Found untraced functions such as lstm_cell_2_layer_call_and_return_conditional_losses, lstm_cell_2_layer_call_fn, lstm_cell_2_layer_call_fn, lstm_cell_2_layer_call_and_return_conditional_losses, lstm_cell_2_layer_call_and_return_conditional_losses while saving (showing 5 of 5). These functions will not be directly callable after loading.\n",
            "WARNING:absl:Found untraced functions such as lstm_cell_2_layer_call_and_return_conditional_losses, lstm_cell_2_layer_call_fn, lstm_cell_2_layer_call_fn, lstm_cell_2_layer_call_and_return_conditional_losses, lstm_cell_2_layer_call_and_return_conditional_losses while saving (showing 5 of 5). These functions will not be directly callable after loading.\n"
          ],
          "name": "stderr"
        },
        {
          "output_type": "stream",
          "text": [
            "INFO:tensorflow:Assets written to: /content/drive/MyDrive/building1/mod26marchPart1_5slots_lstm/best_model.pkl/assets\n"
          ],
          "name": "stdout"
        },
        {
          "output_type": "stream",
          "text": [
            "INFO:tensorflow:Assets written to: /content/drive/MyDrive/building1/mod26marchPart1_5slots_lstm/best_model.pkl/assets\n"
          ],
          "name": "stderr"
        },
        {
          "output_type": "stream",
          "text": [
            "Epoch 31/200\n",
            "1238/1238 [==============================] - 58s 47ms/step - loss: 0.0714 - accuracy: 0.9724 - val_loss: 0.0440 - val_accuracy: 0.9852\n",
            "\n",
            "Epoch 00031: val_accuracy did not improve from 0.98707\n",
            "Epoch 32/200\n",
            "1238/1238 [==============================] - 57s 46ms/step - loss: 0.0619 - accuracy: 0.9767 - val_loss: 0.0671 - val_accuracy: 0.9759\n",
            "\n",
            "Epoch 00032: val_accuracy did not improve from 0.98707\n",
            "Epoch 33/200\n",
            "1238/1238 [==============================] - 57s 46ms/step - loss: 0.0719 - accuracy: 0.9728 - val_loss: 0.0399 - val_accuracy: 0.9853\n",
            "\n",
            "Epoch 00033: val_accuracy did not improve from 0.98707\n",
            "Epoch 34/200\n",
            "1238/1238 [==============================] - 57s 46ms/step - loss: 0.0664 - accuracy: 0.9747 - val_loss: 0.0412 - val_accuracy: 0.9843\n",
            "\n",
            "Epoch 00034: val_accuracy did not improve from 0.98707\n",
            "Epoch 35/200\n",
            "1238/1238 [==============================] - 57s 46ms/step - loss: 0.0734 - accuracy: 0.9738 - val_loss: 0.0740 - val_accuracy: 0.9794\n",
            "\n",
            "Epoch 00035: val_accuracy did not improve from 0.98707\n",
            "Epoch 36/200\n",
            "1238/1238 [==============================] - 57s 46ms/step - loss: 0.0578 - accuracy: 0.9802 - val_loss: 0.0463 - val_accuracy: 0.9789\n",
            "\n",
            "Epoch 00036: val_accuracy did not improve from 0.98707\n",
            "Epoch 37/200\n",
            "1238/1238 [==============================] - 57s 46ms/step - loss: 0.0777 - accuracy: 0.9710 - val_loss: 0.0461 - val_accuracy: 0.9827\n",
            "\n",
            "Epoch 00037: val_accuracy did not improve from 0.98707\n",
            "Epoch 38/200\n",
            "1238/1238 [==============================] - 57s 46ms/step - loss: 0.0501 - accuracy: 0.9820 - val_loss: 0.0345 - val_accuracy: 0.9872\n",
            "\n",
            "Epoch 00038: val_accuracy improved from 0.98707 to 0.98722, saving model to /content/drive/MyDrive/building1/mod26marchPart1_5slots_lstm/best_model.pkl\n"
          ],
          "name": "stdout"
        },
        {
          "output_type": "stream",
          "text": [
            "WARNING:absl:Found untraced functions such as lstm_cell_2_layer_call_and_return_conditional_losses, lstm_cell_2_layer_call_fn, lstm_cell_2_layer_call_fn, lstm_cell_2_layer_call_and_return_conditional_losses, lstm_cell_2_layer_call_and_return_conditional_losses while saving (showing 5 of 5). These functions will not be directly callable after loading.\n",
            "WARNING:absl:Found untraced functions such as lstm_cell_2_layer_call_and_return_conditional_losses, lstm_cell_2_layer_call_fn, lstm_cell_2_layer_call_fn, lstm_cell_2_layer_call_and_return_conditional_losses, lstm_cell_2_layer_call_and_return_conditional_losses while saving (showing 5 of 5). These functions will not be directly callable after loading.\n"
          ],
          "name": "stderr"
        },
        {
          "output_type": "stream",
          "text": [
            "INFO:tensorflow:Assets written to: /content/drive/MyDrive/building1/mod26marchPart1_5slots_lstm/best_model.pkl/assets\n"
          ],
          "name": "stdout"
        },
        {
          "output_type": "stream",
          "text": [
            "INFO:tensorflow:Assets written to: /content/drive/MyDrive/building1/mod26marchPart1_5slots_lstm/best_model.pkl/assets\n"
          ],
          "name": "stderr"
        },
        {
          "output_type": "stream",
          "text": [
            "Epoch 39/200\n",
            "1238/1238 [==============================] - 65s 53ms/step - loss: 0.0795 - accuracy: 0.9722 - val_loss: 0.1280 - val_accuracy: 0.9389\n",
            "\n",
            "Epoch 00039: val_accuracy did not improve from 0.98722\n",
            "Epoch 40/200\n",
            "1238/1238 [==============================] - 57s 46ms/step - loss: 0.1417 - accuracy: 0.9309 - val_loss: 0.1266 - val_accuracy: 0.9413\n",
            "\n",
            "Epoch 00040: val_accuracy did not improve from 0.98722\n",
            "Epoch 41/200\n",
            "1238/1238 [==============================] - 57s 46ms/step - loss: 0.1241 - accuracy: 0.9391 - val_loss: 0.1796 - val_accuracy: 0.9163\n",
            "\n",
            "Epoch 00041: val_accuracy did not improve from 0.98722\n",
            "Epoch 42/200\n",
            "1238/1238 [==============================] - 57s 46ms/step - loss: 0.1312 - accuracy: 0.9382 - val_loss: 0.1137 - val_accuracy: 0.9463\n",
            "\n",
            "Epoch 00042: val_accuracy did not improve from 0.98722\n",
            "Epoch 43/200\n",
            "1238/1238 [==============================] - 57s 46ms/step - loss: 0.1213 - accuracy: 0.9431 - val_loss: 0.1035 - val_accuracy: 0.9503\n",
            "\n",
            "Epoch 00043: val_accuracy did not improve from 0.98722\n",
            "Epoch 44/200\n",
            "1238/1238 [==============================] - 57s 46ms/step - loss: 0.1172 - accuracy: 0.9443 - val_loss: 0.1002 - val_accuracy: 0.9489\n",
            "\n",
            "Epoch 00044: val_accuracy did not improve from 0.98722\n",
            "Epoch 45/200\n",
            "1238/1238 [==============================] - 57s 46ms/step - loss: 0.1034 - accuracy: 0.9515 - val_loss: 0.1081 - val_accuracy: 0.9497\n",
            "\n",
            "Epoch 00045: val_accuracy did not improve from 0.98722\n",
            "Epoch 46/200\n",
            "1238/1238 [==============================] - 57s 46ms/step - loss: 0.1218 - accuracy: 0.9456 - val_loss: 0.0893 - val_accuracy: 0.9597\n",
            "\n",
            "Epoch 00046: val_accuracy did not improve from 0.98722\n",
            "Epoch 47/200\n",
            "1238/1238 [==============================] - 57s 46ms/step - loss: 0.0988 - accuracy: 0.9545 - val_loss: 0.1154 - val_accuracy: 0.9499\n",
            "\n",
            "Epoch 00047: val_accuracy did not improve from 0.98722\n",
            "Epoch 48/200\n",
            "1238/1238 [==============================] - 59s 48ms/step - loss: 0.0962 - accuracy: 0.9585 - val_loss: 0.1026 - val_accuracy: 0.9508\n",
            "\n",
            "Epoch 00048: val_accuracy did not improve from 0.98722\n",
            "Epoch 49/200\n",
            "1238/1238 [==============================] - 56s 46ms/step - loss: 0.0877 - accuracy: 0.9618 - val_loss: 0.1518 - val_accuracy: 0.9430\n",
            "\n",
            "Epoch 00049: val_accuracy did not improve from 0.98722\n",
            "Epoch 50/200\n",
            "1238/1238 [==============================] - 57s 46ms/step - loss: 0.1167 - accuracy: 0.9533 - val_loss: 0.0931 - val_accuracy: 0.9670\n",
            "\n",
            "Epoch 00050: val_accuracy did not improve from 0.98722\n",
            "Epoch 51/200\n",
            "1238/1238 [==============================] - 57s 46ms/step - loss: 0.1056 - accuracy: 0.9563 - val_loss: 0.1417 - val_accuracy: 0.9384\n",
            "\n",
            "Epoch 00051: val_accuracy did not improve from 0.98722\n",
            "Epoch 52/200\n",
            "1238/1238 [==============================] - 57s 46ms/step - loss: 0.1135 - accuracy: 0.9555 - val_loss: 0.0755 - val_accuracy: 0.9670\n",
            "\n",
            "Epoch 00052: val_accuracy did not improve from 0.98722\n",
            "Epoch 53/200\n",
            "1238/1238 [==============================] - 57s 46ms/step - loss: 0.0655 - accuracy: 0.9736 - val_loss: 0.0541 - val_accuracy: 0.9793\n",
            "\n",
            "Epoch 00053: val_accuracy did not improve from 0.98722\n",
            "Epoch 54/200\n",
            "1238/1238 [==============================] - 57s 46ms/step - loss: 0.0729 - accuracy: 0.9692 - val_loss: 0.0435 - val_accuracy: 0.9850\n",
            "\n",
            "Epoch 00054: val_accuracy did not improve from 0.98722\n",
            "Epoch 55/200\n",
            "1238/1238 [==============================] - 57s 46ms/step - loss: 0.0742 - accuracy: 0.9711 - val_loss: 0.0418 - val_accuracy: 0.9851\n",
            "\n",
            "Epoch 00055: val_accuracy did not improve from 0.98722\n",
            "Epoch 56/200\n",
            "1238/1238 [==============================] - 57s 46ms/step - loss: 0.0573 - accuracy: 0.9771 - val_loss: 0.0453 - val_accuracy: 0.9804\n",
            "\n",
            "Epoch 00056: val_accuracy did not improve from 0.98722\n",
            "Epoch 57/200\n",
            "1238/1238 [==============================] - 57s 46ms/step - loss: 0.0688 - accuracy: 0.9720 - val_loss: 0.0438 - val_accuracy: 0.9842\n",
            "\n",
            "Epoch 00057: val_accuracy did not improve from 0.98722\n",
            "Epoch 58/200\n",
            "1238/1238 [==============================] - 57s 46ms/step - loss: 0.0545 - accuracy: 0.9791 - val_loss: 0.0499 - val_accuracy: 0.9781\n",
            "\n",
            "Epoch 00058: val_accuracy did not improve from 0.98722\n",
            "Epoch 59/200\n",
            "1238/1238 [==============================] - 57s 46ms/step - loss: 0.0510 - accuracy: 0.9800 - val_loss: 0.0373 - val_accuracy: 0.9872\n",
            "\n",
            "Epoch 00059: val_accuracy did not improve from 0.98722\n",
            "Epoch 60/200\n",
            "1238/1238 [==============================] - 57s 46ms/step - loss: 0.0473 - accuracy: 0.9818 - val_loss: 0.0425 - val_accuracy: 0.9856\n",
            "\n",
            "Epoch 00060: val_accuracy did not improve from 0.98722\n",
            "Epoch 61/200\n",
            "1238/1238 [==============================] - 57s 46ms/step - loss: 0.0416 - accuracy: 0.9839 - val_loss: 0.0337 - val_accuracy: 0.9880\n",
            "\n",
            "Epoch 00061: val_accuracy improved from 0.98722 to 0.98795, saving model to /content/drive/MyDrive/building1/mod26marchPart1_5slots_lstm/best_model.pkl\n"
          ],
          "name": "stdout"
        },
        {
          "output_type": "stream",
          "text": [
            "WARNING:absl:Found untraced functions such as lstm_cell_2_layer_call_and_return_conditional_losses, lstm_cell_2_layer_call_fn, lstm_cell_2_layer_call_fn, lstm_cell_2_layer_call_and_return_conditional_losses, lstm_cell_2_layer_call_and_return_conditional_losses while saving (showing 5 of 5). These functions will not be directly callable after loading.\n",
            "WARNING:absl:Found untraced functions such as lstm_cell_2_layer_call_and_return_conditional_losses, lstm_cell_2_layer_call_fn, lstm_cell_2_layer_call_fn, lstm_cell_2_layer_call_and_return_conditional_losses, lstm_cell_2_layer_call_and_return_conditional_losses while saving (showing 5 of 5). These functions will not be directly callable after loading.\n"
          ],
          "name": "stderr"
        },
        {
          "output_type": "stream",
          "text": [
            "INFO:tensorflow:Assets written to: /content/drive/MyDrive/building1/mod26marchPart1_5slots_lstm/best_model.pkl/assets\n"
          ],
          "name": "stdout"
        },
        {
          "output_type": "stream",
          "text": [
            "INFO:tensorflow:Assets written to: /content/drive/MyDrive/building1/mod26marchPart1_5slots_lstm/best_model.pkl/assets\n"
          ],
          "name": "stderr"
        },
        {
          "output_type": "stream",
          "text": [
            "Epoch 62/200\n",
            "1238/1238 [==============================] - 57s 46ms/step - loss: 0.0737 - accuracy: 0.9741 - val_loss: 0.0589 - val_accuracy: 0.9715\n",
            "\n",
            "Epoch 00062: val_accuracy did not improve from 0.98795\n",
            "Epoch 63/200\n",
            "1238/1238 [==============================] - 57s 46ms/step - loss: 0.0534 - accuracy: 0.9784 - val_loss: 0.0685 - val_accuracy: 0.9730\n",
            "\n",
            "Epoch 00063: val_accuracy did not improve from 0.98795\n",
            "Epoch 64/200\n",
            "1238/1238 [==============================] - 57s 46ms/step - loss: 0.0545 - accuracy: 0.9785 - val_loss: 0.0299 - val_accuracy: 0.9897\n",
            "\n",
            "Epoch 00064: val_accuracy improved from 0.98795 to 0.98972, saving model to /content/drive/MyDrive/building1/mod26marchPart1_5slots_lstm/best_model.pkl\n"
          ],
          "name": "stdout"
        },
        {
          "output_type": "stream",
          "text": [
            "WARNING:absl:Found untraced functions such as lstm_cell_2_layer_call_and_return_conditional_losses, lstm_cell_2_layer_call_fn, lstm_cell_2_layer_call_fn, lstm_cell_2_layer_call_and_return_conditional_losses, lstm_cell_2_layer_call_and_return_conditional_losses while saving (showing 5 of 5). These functions will not be directly callable after loading.\n",
            "WARNING:absl:Found untraced functions such as lstm_cell_2_layer_call_and_return_conditional_losses, lstm_cell_2_layer_call_fn, lstm_cell_2_layer_call_fn, lstm_cell_2_layer_call_and_return_conditional_losses, lstm_cell_2_layer_call_and_return_conditional_losses while saving (showing 5 of 5). These functions will not be directly callable after loading.\n"
          ],
          "name": "stderr"
        },
        {
          "output_type": "stream",
          "text": [
            "INFO:tensorflow:Assets written to: /content/drive/MyDrive/building1/mod26marchPart1_5slots_lstm/best_model.pkl/assets\n"
          ],
          "name": "stdout"
        },
        {
          "output_type": "stream",
          "text": [
            "INFO:tensorflow:Assets written to: /content/drive/MyDrive/building1/mod26marchPart1_5slots_lstm/best_model.pkl/assets\n"
          ],
          "name": "stderr"
        },
        {
          "output_type": "stream",
          "text": [
            "Epoch 65/200\n",
            "1238/1238 [==============================] - 63s 51ms/step - loss: 0.0415 - accuracy: 0.9830 - val_loss: 0.1979 - val_accuracy: 0.9133\n",
            "\n",
            "Epoch 00065: val_accuracy did not improve from 0.98972\n",
            "Epoch 66/200\n",
            "1238/1238 [==============================] - 63s 51ms/step - loss: 0.0556 - accuracy: 0.9786 - val_loss: 0.0546 - val_accuracy: 0.9763\n",
            "\n",
            "Epoch 00066: val_accuracy did not improve from 0.98972\n",
            "Epoch 67/200\n",
            "1238/1238 [==============================] - 57s 46ms/step - loss: 0.0513 - accuracy: 0.9812 - val_loss: 0.0400 - val_accuracy: 0.9873\n",
            "\n",
            "Epoch 00067: val_accuracy did not improve from 0.98972\n",
            "Epoch 68/200\n",
            "1238/1238 [==============================] - 58s 46ms/step - loss: 0.0429 - accuracy: 0.9843 - val_loss: 0.0701 - val_accuracy: 0.9746\n",
            "\n",
            "Epoch 00068: val_accuracy did not improve from 0.98972\n",
            "Epoch 69/200\n",
            "1238/1238 [==============================] - 57s 46ms/step - loss: 0.0812 - accuracy: 0.9700 - val_loss: 0.0278 - val_accuracy: 0.9898\n",
            "\n",
            "Epoch 00069: val_accuracy improved from 0.98972 to 0.98984, saving model to /content/drive/MyDrive/building1/mod26marchPart1_5slots_lstm/best_model.pkl\n"
          ],
          "name": "stdout"
        },
        {
          "output_type": "stream",
          "text": [
            "WARNING:absl:Found untraced functions such as lstm_cell_2_layer_call_and_return_conditional_losses, lstm_cell_2_layer_call_fn, lstm_cell_2_layer_call_fn, lstm_cell_2_layer_call_and_return_conditional_losses, lstm_cell_2_layer_call_and_return_conditional_losses while saving (showing 5 of 5). These functions will not be directly callable after loading.\n",
            "WARNING:absl:Found untraced functions such as lstm_cell_2_layer_call_and_return_conditional_losses, lstm_cell_2_layer_call_fn, lstm_cell_2_layer_call_fn, lstm_cell_2_layer_call_and_return_conditional_losses, lstm_cell_2_layer_call_and_return_conditional_losses while saving (showing 5 of 5). These functions will not be directly callable after loading.\n"
          ],
          "name": "stderr"
        },
        {
          "output_type": "stream",
          "text": [
            "INFO:tensorflow:Assets written to: /content/drive/MyDrive/building1/mod26marchPart1_5slots_lstm/best_model.pkl/assets\n"
          ],
          "name": "stdout"
        },
        {
          "output_type": "stream",
          "text": [
            "INFO:tensorflow:Assets written to: /content/drive/MyDrive/building1/mod26marchPart1_5slots_lstm/best_model.pkl/assets\n"
          ],
          "name": "stderr"
        },
        {
          "output_type": "stream",
          "text": [
            "Epoch 70/200\n",
            "1238/1238 [==============================] - 57s 46ms/step - loss: 0.0426 - accuracy: 0.9833 - val_loss: 0.0316 - val_accuracy: 0.9882\n",
            "\n",
            "Epoch 00070: val_accuracy did not improve from 0.98984\n",
            "Epoch 71/200\n",
            "1238/1238 [==============================] - 57s 46ms/step - loss: 0.0502 - accuracy: 0.9823 - val_loss: 0.0334 - val_accuracy: 0.9883\n",
            "\n",
            "Epoch 00071: val_accuracy did not improve from 0.98984\n",
            "Epoch 72/200\n",
            "1238/1238 [==============================] - 57s 46ms/step - loss: 0.0476 - accuracy: 0.9824 - val_loss: 0.0294 - val_accuracy: 0.9882\n",
            "\n",
            "Epoch 00072: val_accuracy did not improve from 0.98984\n",
            "Epoch 73/200\n",
            "1238/1238 [==============================] - 58s 47ms/step - loss: 0.1784 - accuracy: 0.9147 - val_loss: 0.2546 - val_accuracy: 0.9008\n",
            "\n",
            "Epoch 00073: val_accuracy did not improve from 0.98984\n",
            "Epoch 74/200\n",
            "1238/1238 [==============================] - 57s 46ms/step - loss: 0.2051 - accuracy: 0.9086 - val_loss: 0.1897 - val_accuracy: 0.9177\n",
            "\n",
            "Epoch 00074: val_accuracy did not improve from 0.98984\n",
            "Epoch 75/200\n",
            "1238/1238 [==============================] - 57s 46ms/step - loss: 0.1584 - accuracy: 0.9275 - val_loss: 0.1402 - val_accuracy: 0.9388\n",
            "\n",
            "Epoch 00075: val_accuracy did not improve from 0.98984\n",
            "Epoch 76/200\n",
            "1238/1238 [==============================] - 57s 46ms/step - loss: 0.1510 - accuracy: 0.9307 - val_loss: 0.1372 - val_accuracy: 0.9399\n",
            "\n",
            "Epoch 00076: val_accuracy did not improve from 0.98984\n",
            "Epoch 77/200\n",
            "1238/1238 [==============================] - 58s 46ms/step - loss: 0.1265 - accuracy: 0.9441 - val_loss: 0.1146 - val_accuracy: 0.9444\n",
            "\n",
            "Epoch 00077: val_accuracy did not improve from 0.98984\n",
            "Epoch 78/200\n",
            "1238/1238 [==============================] - 57s 46ms/step - loss: 0.1090 - accuracy: 0.9534 - val_loss: 0.1010 - val_accuracy: 0.9599\n",
            "\n",
            "Epoch 00078: val_accuracy did not improve from 0.98984\n",
            "Epoch 79/200\n",
            "1238/1238 [==============================] - 57s 46ms/step - loss: 0.1008 - accuracy: 0.9590 - val_loss: 0.0941 - val_accuracy: 0.9587\n",
            "\n",
            "Epoch 00079: val_accuracy did not improve from 0.98984\n",
            "Epoch 80/200\n",
            "1238/1238 [==============================] - 57s 46ms/step - loss: 0.0860 - accuracy: 0.9669 - val_loss: 0.0797 - val_accuracy: 0.9625\n",
            "\n",
            "Epoch 00080: val_accuracy did not improve from 0.98984\n",
            "Epoch 81/200\n",
            "1238/1238 [==============================] - 57s 46ms/step - loss: 0.0833 - accuracy: 0.9690 - val_loss: 0.0630 - val_accuracy: 0.9793\n",
            "\n",
            "Epoch 00081: val_accuracy did not improve from 0.98984\n",
            "Epoch 82/200\n",
            "1238/1238 [==============================] - 57s 46ms/step - loss: 0.0658 - accuracy: 0.9767 - val_loss: 0.0563 - val_accuracy: 0.9826\n",
            "\n",
            "Epoch 00082: val_accuracy did not improve from 0.98984\n",
            "Epoch 83/200\n",
            "1238/1238 [==============================] - 57s 46ms/step - loss: 0.0634 - accuracy: 0.9771 - val_loss: 0.0668 - val_accuracy: 0.9756\n",
            "\n",
            "Epoch 00083: val_accuracy did not improve from 0.98984\n",
            "Epoch 84/200\n",
            "1238/1238 [==============================] - 58s 47ms/step - loss: 0.0647 - accuracy: 0.9761 - val_loss: 0.0462 - val_accuracy: 0.9834\n",
            "\n",
            "Epoch 00084: val_accuracy did not improve from 0.98984\n",
            "Epoch 85/200\n",
            "1238/1238 [==============================] - 58s 47ms/step - loss: 0.0552 - accuracy: 0.9798 - val_loss: 0.0501 - val_accuracy: 0.9833\n",
            "\n",
            "Epoch 00085: val_accuracy did not improve from 0.98984\n",
            "Epoch 86/200\n",
            "1238/1238 [==============================] - 57s 46ms/step - loss: 0.0448 - accuracy: 0.9836 - val_loss: 0.0438 - val_accuracy: 0.9848\n",
            "\n",
            "Epoch 00086: val_accuracy did not improve from 0.98984\n",
            "Epoch 87/200\n",
            "1238/1238 [==============================] - 57s 46ms/step - loss: 0.0600 - accuracy: 0.9785 - val_loss: 0.0451 - val_accuracy: 0.9849\n",
            "\n",
            "Epoch 00087: val_accuracy did not improve from 0.98984\n",
            "Epoch 88/200\n",
            "1238/1238 [==============================] - 57s 46ms/step - loss: 0.0445 - accuracy: 0.9839 - val_loss: 0.0455 - val_accuracy: 0.9848\n",
            "\n",
            "Epoch 00088: val_accuracy did not improve from 0.98984\n",
            "Epoch 89/200\n",
            "1238/1238 [==============================] - 57s 46ms/step - loss: 0.0476 - accuracy: 0.9821 - val_loss: 0.0405 - val_accuracy: 0.9844\n",
            "\n",
            "Epoch 00089: val_accuracy did not improve from 0.98984\n",
            "Epoch 90/200\n",
            "1238/1238 [==============================] - 57s 46ms/step - loss: 0.0480 - accuracy: 0.9827 - val_loss: 0.0364 - val_accuracy: 0.9863\n",
            "\n",
            "Epoch 00090: val_accuracy did not improve from 0.98984\n",
            "Epoch 91/200\n",
            "1238/1238 [==============================] - 57s 46ms/step - loss: 0.0556 - accuracy: 0.9787 - val_loss: 0.0677 - val_accuracy: 0.9727\n",
            "\n",
            "Epoch 00091: val_accuracy did not improve from 0.98984\n",
            "Epoch 92/200\n",
            "1238/1238 [==============================] - 57s 46ms/step - loss: 0.0444 - accuracy: 0.9833 - val_loss: 0.0402 - val_accuracy: 0.9830\n",
            "\n",
            "Epoch 00092: val_accuracy did not improve from 0.98984\n",
            "Epoch 93/200\n",
            "1238/1238 [==============================] - 58s 47ms/step - loss: 0.0489 - accuracy: 0.9836 - val_loss: 0.0424 - val_accuracy: 0.9860\n",
            "\n",
            "Epoch 00093: val_accuracy did not improve from 0.98984\n",
            "Epoch 94/200\n",
            "1238/1238 [==============================] - 57s 46ms/step - loss: 0.0408 - accuracy: 0.9856 - val_loss: 0.0371 - val_accuracy: 0.9885\n",
            "\n",
            "Epoch 00094: val_accuracy did not improve from 0.98984\n",
            "Epoch 95/200\n",
            "1238/1238 [==============================] - 58s 47ms/step - loss: 0.0458 - accuracy: 0.9825 - val_loss: 0.0451 - val_accuracy: 0.9814\n",
            "\n",
            "Epoch 00095: val_accuracy did not improve from 0.98984\n",
            "Epoch 96/200\n",
            "1238/1238 [==============================] - 57s 46ms/step - loss: 0.0391 - accuracy: 0.9852 - val_loss: 0.0352 - val_accuracy: 0.9873\n",
            "\n",
            "Epoch 00096: val_accuracy did not improve from 0.98984\n",
            "Epoch 97/200\n",
            "1238/1238 [==============================] - 57s 46ms/step - loss: 0.0344 - accuracy: 0.9878 - val_loss: 0.0352 - val_accuracy: 0.9884\n",
            "\n",
            "Epoch 00097: val_accuracy did not improve from 0.98984\n",
            "Epoch 98/200\n",
            "1238/1238 [==============================] - 57s 46ms/step - loss: 0.0407 - accuracy: 0.9850 - val_loss: 0.0422 - val_accuracy: 0.9842\n",
            "\n",
            "Epoch 00098: val_accuracy did not improve from 0.98984\n",
            "Epoch 99/200\n",
            "1238/1238 [==============================] - 57s 46ms/step - loss: 0.0429 - accuracy: 0.9838 - val_loss: 0.0418 - val_accuracy: 0.9841\n",
            "\n",
            "Epoch 00099: val_accuracy did not improve from 0.98984\n",
            "Epoch 100/200\n",
            "1238/1238 [==============================] - 57s 46ms/step - loss: 0.0414 - accuracy: 0.9841 - val_loss: 0.0311 - val_accuracy: 0.9895\n",
            "\n",
            "Epoch 00100: val_accuracy did not improve from 0.98984\n",
            "Epoch 101/200\n",
            "1238/1238 [==============================] - 57s 46ms/step - loss: 0.0389 - accuracy: 0.9855 - val_loss: 0.0343 - val_accuracy: 0.9882\n",
            "\n",
            "Epoch 00101: val_accuracy did not improve from 0.98984\n",
            "Epoch 102/200\n",
            "1238/1238 [==============================] - 57s 46ms/step - loss: 0.0428 - accuracy: 0.9839 - val_loss: 0.0425 - val_accuracy: 0.9829\n",
            "\n",
            "Epoch 00102: val_accuracy did not improve from 0.98984\n",
            "Epoch 103/200\n",
            "1238/1238 [==============================] - 58s 47ms/step - loss: 0.0765 - accuracy: 0.9678 - val_loss: 0.0998 - val_accuracy: 0.9552\n",
            "\n",
            "Epoch 00103: val_accuracy did not improve from 0.98984\n",
            "Epoch 104/200\n",
            "1238/1238 [==============================] - 57s 46ms/step - loss: 0.1009 - accuracy: 0.9557 - val_loss: 0.0388 - val_accuracy: 0.9859\n",
            "\n",
            "Epoch 00104: val_accuracy did not improve from 0.98984\n",
            "Epoch 105/200\n",
            "1238/1238 [==============================] - 57s 46ms/step - loss: 0.0524 - accuracy: 0.9792 - val_loss: 0.0325 - val_accuracy: 0.9883\n",
            "\n",
            "Epoch 00105: val_accuracy did not improve from 0.98984\n",
            "Epoch 106/200\n",
            "1238/1238 [==============================] - 58s 47ms/step - loss: 0.0404 - accuracy: 0.9845 - val_loss: 0.1136 - val_accuracy: 0.9523\n",
            "\n",
            "Epoch 00106: val_accuracy did not improve from 0.98984\n",
            "Epoch 107/200\n",
            "1238/1238 [==============================] - 57s 46ms/step - loss: 0.0397 - accuracy: 0.9852 - val_loss: 0.0392 - val_accuracy: 0.9867\n",
            "\n",
            "Epoch 00107: val_accuracy did not improve from 0.98984\n",
            "Epoch 108/200\n",
            "1238/1238 [==============================] - 57s 46ms/step - loss: 0.0493 - accuracy: 0.9814 - val_loss: 0.0302 - val_accuracy: 0.9886\n",
            "\n",
            "Epoch 00108: val_accuracy did not improve from 0.98984\n",
            "Epoch 109/200\n",
            "1238/1238 [==============================] - 58s 47ms/step - loss: 0.0339 - accuracy: 0.9879 - val_loss: 0.1567 - val_accuracy: 0.9312\n",
            "\n",
            "Epoch 00109: val_accuracy did not improve from 0.98984\n",
            "Epoch 110/200\n",
            "1238/1238 [==============================] - 58s 47ms/step - loss: 0.0575 - accuracy: 0.9796 - val_loss: 0.0505 - val_accuracy: 0.9862\n",
            "\n",
            "Epoch 00110: val_accuracy did not improve from 0.98984\n",
            "Epoch 111/200\n",
            "1238/1238 [==============================] - 61s 49ms/step - loss: 0.0376 - accuracy: 0.9864 - val_loss: 0.0335 - val_accuracy: 0.9895\n",
            "\n",
            "Epoch 00111: val_accuracy did not improve from 0.98984\n",
            "Epoch 112/200\n",
            "1238/1238 [==============================] - 61s 49ms/step - loss: 0.0370 - accuracy: 0.9868 - val_loss: 0.0312 - val_accuracy: 0.9892\n",
            "\n",
            "Epoch 00112: val_accuracy did not improve from 0.98984\n",
            "Epoch 113/200\n",
            "1238/1238 [==============================] - 61s 49ms/step - loss: 0.0345 - accuracy: 0.9874 - val_loss: 0.0273 - val_accuracy: 0.9895\n",
            "\n",
            "Epoch 00113: val_accuracy did not improve from 0.98984\n",
            "Epoch 114/200\n",
            "1238/1238 [==============================] - 63s 51ms/step - loss: 0.0387 - accuracy: 0.9849 - val_loss: 0.0342 - val_accuracy: 0.9881\n",
            "\n",
            "Epoch 00114: val_accuracy did not improve from 0.98984\n",
            "Epoch 115/200\n",
            "1238/1238 [==============================] - 62s 50ms/step - loss: 0.0364 - accuracy: 0.9864 - val_loss: 0.0400 - val_accuracy: 0.9854\n",
            "\n",
            "Epoch 00115: val_accuracy did not improve from 0.98984\n",
            "Epoch 116/200\n",
            "1238/1238 [==============================] - 62s 50ms/step - loss: 0.0435 - accuracy: 0.9844 - val_loss: 0.0410 - val_accuracy: 0.9869\n",
            "\n",
            "Epoch 00116: val_accuracy did not improve from 0.98984\n",
            "Epoch 117/200\n",
            "1238/1238 [==============================] - 62s 50ms/step - loss: 0.0327 - accuracy: 0.9875 - val_loss: 0.0318 - val_accuracy: 0.9890\n",
            "\n",
            "Epoch 00117: val_accuracy did not improve from 0.98984\n",
            "Epoch 118/200\n",
            "1238/1238 [==============================] - 62s 50ms/step - loss: 0.0470 - accuracy: 0.9837 - val_loss: 0.0346 - val_accuracy: 0.9870\n",
            "\n",
            "Epoch 00118: val_accuracy did not improve from 0.98984\n",
            "Epoch 119/200\n",
            "1238/1238 [==============================] - 63s 51ms/step - loss: 0.0410 - accuracy: 0.9850 - val_loss: 0.0300 - val_accuracy: 0.9895\n",
            "\n",
            "Epoch 00119: val_accuracy did not improve from 0.98984\n",
            "Epoch 120/200\n",
            "1238/1238 [==============================] - 63s 51ms/step - loss: 0.0440 - accuracy: 0.9842 - val_loss: 0.0734 - val_accuracy: 0.9693\n",
            "\n",
            "Epoch 00120: val_accuracy did not improve from 0.98984\n",
            "Epoch 121/200\n",
            "1238/1238 [==============================] - 62s 50ms/step - loss: 0.0334 - accuracy: 0.9872 - val_loss: 0.0300 - val_accuracy: 0.9891\n",
            "\n",
            "Epoch 00121: val_accuracy did not improve from 0.98984\n",
            "Epoch 122/200\n",
            "1238/1238 [==============================] - 63s 51ms/step - loss: 0.0411 - accuracy: 0.9843 - val_loss: 0.0381 - val_accuracy: 0.9840\n",
            "\n",
            "Epoch 00122: val_accuracy did not improve from 0.98984\n",
            "Epoch 123/200\n",
            "1238/1238 [==============================] - 64s 51ms/step - loss: 0.0394 - accuracy: 0.9855 - val_loss: 0.0316 - val_accuracy: 0.9882\n",
            "\n",
            "Epoch 00123: val_accuracy did not improve from 0.98984\n",
            "Epoch 124/200\n",
            "1238/1238 [==============================] - 63s 51ms/step - loss: 0.0339 - accuracy: 0.9863 - val_loss: 0.0324 - val_accuracy: 0.9891\n",
            "\n",
            "Epoch 00124: val_accuracy did not improve from 0.98984\n",
            "Epoch 125/200\n",
            "1238/1238 [==============================] - 63s 51ms/step - loss: 0.0389 - accuracy: 0.9875 - val_loss: 0.1255 - val_accuracy: 0.9556\n",
            "\n",
            "Epoch 00125: val_accuracy did not improve from 0.98984\n",
            "Epoch 126/200\n",
            "1238/1238 [==============================] - 64s 52ms/step - loss: 0.0564 - accuracy: 0.9794 - val_loss: 0.0316 - val_accuracy: 0.9887\n",
            "\n",
            "Epoch 00126: val_accuracy did not improve from 0.98984\n",
            "Epoch 127/200\n",
            "1238/1238 [==============================] - 63s 51ms/step - loss: 0.0354 - accuracy: 0.9864 - val_loss: 0.0267 - val_accuracy: 0.9900\n",
            "\n",
            "Epoch 00127: val_accuracy improved from 0.98984 to 0.99005, saving model to /content/drive/MyDrive/building1/mod26marchPart1_5slots_lstm/best_model.pkl\n"
          ],
          "name": "stdout"
        },
        {
          "output_type": "stream",
          "text": [
            "WARNING:absl:Found untraced functions such as lstm_cell_2_layer_call_and_return_conditional_losses, lstm_cell_2_layer_call_fn, lstm_cell_2_layer_call_fn, lstm_cell_2_layer_call_and_return_conditional_losses, lstm_cell_2_layer_call_and_return_conditional_losses while saving (showing 5 of 5). These functions will not be directly callable after loading.\n",
            "WARNING:absl:Found untraced functions such as lstm_cell_2_layer_call_and_return_conditional_losses, lstm_cell_2_layer_call_fn, lstm_cell_2_layer_call_fn, lstm_cell_2_layer_call_and_return_conditional_losses, lstm_cell_2_layer_call_and_return_conditional_losses while saving (showing 5 of 5). These functions will not be directly callable after loading.\n"
          ],
          "name": "stderr"
        },
        {
          "output_type": "stream",
          "text": [
            "INFO:tensorflow:Assets written to: /content/drive/MyDrive/building1/mod26marchPart1_5slots_lstm/best_model.pkl/assets\n"
          ],
          "name": "stdout"
        },
        {
          "output_type": "stream",
          "text": [
            "INFO:tensorflow:Assets written to: /content/drive/MyDrive/building1/mod26marchPart1_5slots_lstm/best_model.pkl/assets\n"
          ],
          "name": "stderr"
        },
        {
          "output_type": "stream",
          "text": [
            "Epoch 128/200\n",
            "1238/1238 [==============================] - 59s 48ms/step - loss: 0.0318 - accuracy: 0.9879 - val_loss: 0.0400 - val_accuracy: 0.9829\n",
            "\n",
            "Epoch 00128: val_accuracy did not improve from 0.99005\n",
            "Epoch 129/200\n",
            "1238/1238 [==============================] - 60s 48ms/step - loss: 0.0307 - accuracy: 0.9891 - val_loss: 0.0255 - val_accuracy: 0.9908\n",
            "\n",
            "Epoch 00129: val_accuracy improved from 0.99005 to 0.99078, saving model to /content/drive/MyDrive/building1/mod26marchPart1_5slots_lstm/best_model.pkl\n"
          ],
          "name": "stdout"
        },
        {
          "output_type": "stream",
          "text": [
            "WARNING:absl:Found untraced functions such as lstm_cell_2_layer_call_and_return_conditional_losses, lstm_cell_2_layer_call_fn, lstm_cell_2_layer_call_fn, lstm_cell_2_layer_call_and_return_conditional_losses, lstm_cell_2_layer_call_and_return_conditional_losses while saving (showing 5 of 5). These functions will not be directly callable after loading.\n",
            "WARNING:absl:Found untraced functions such as lstm_cell_2_layer_call_and_return_conditional_losses, lstm_cell_2_layer_call_fn, lstm_cell_2_layer_call_fn, lstm_cell_2_layer_call_and_return_conditional_losses, lstm_cell_2_layer_call_and_return_conditional_losses while saving (showing 5 of 5). These functions will not be directly callable after loading.\n"
          ],
          "name": "stderr"
        },
        {
          "output_type": "stream",
          "text": [
            "INFO:tensorflow:Assets written to: /content/drive/MyDrive/building1/mod26marchPart1_5slots_lstm/best_model.pkl/assets\n"
          ],
          "name": "stdout"
        },
        {
          "output_type": "stream",
          "text": [
            "INFO:tensorflow:Assets written to: /content/drive/MyDrive/building1/mod26marchPart1_5slots_lstm/best_model.pkl/assets\n"
          ],
          "name": "stderr"
        },
        {
          "output_type": "stream",
          "text": [
            "Epoch 130/200\n",
            "1238/1238 [==============================] - 59s 48ms/step - loss: 0.0304 - accuracy: 0.9884 - val_loss: 0.0289 - val_accuracy: 0.9904\n",
            "\n",
            "Epoch 00130: val_accuracy did not improve from 0.99078\n",
            "Epoch 131/200\n",
            "1238/1238 [==============================] - 60s 49ms/step - loss: 0.0290 - accuracy: 0.9889 - val_loss: 0.0284 - val_accuracy: 0.9896\n",
            "\n",
            "Epoch 00131: val_accuracy did not improve from 0.99078\n",
            "Epoch 132/200\n",
            "1238/1238 [==============================] - 61s 49ms/step - loss: 0.0371 - accuracy: 0.9860 - val_loss: 0.2244 - val_accuracy: 0.9360\n",
            "\n",
            "Epoch 00132: val_accuracy did not improve from 0.99078\n",
            "Epoch 133/200\n",
            "1238/1238 [==============================] - 61s 49ms/step - loss: 0.0533 - accuracy: 0.9823 - val_loss: 0.0635 - val_accuracy: 0.9755\n",
            "\n",
            "Epoch 00133: val_accuracy did not improve from 0.99078\n",
            "Epoch 134/200\n",
            "1238/1238 [==============================] - 62s 50ms/step - loss: 0.0311 - accuracy: 0.9884 - val_loss: 0.0287 - val_accuracy: 0.9896\n",
            "\n",
            "Epoch 00134: val_accuracy did not improve from 0.99078\n",
            "Epoch 135/200\n",
            "1238/1238 [==============================] - 70s 56ms/step - loss: 0.0410 - accuracy: 0.9856 - val_loss: 0.2258 - val_accuracy: 0.9233\n",
            "\n",
            "Epoch 00135: val_accuracy did not improve from 0.99078\n",
            "Epoch 136/200\n",
            "1238/1238 [==============================] - 68s 55ms/step - loss: 0.0381 - accuracy: 0.9854 - val_loss: 0.0336 - val_accuracy: 0.9861\n",
            "\n",
            "Epoch 00136: val_accuracy did not improve from 0.99078\n",
            "Epoch 137/200\n",
            "1238/1238 [==============================] - 62s 50ms/step - loss: 0.0307 - accuracy: 0.9884 - val_loss: 0.0389 - val_accuracy: 0.9870\n",
            "\n",
            "Epoch 00137: val_accuracy did not improve from 0.99078\n",
            "Epoch 138/200\n",
            "1238/1238 [==============================] - 59s 48ms/step - loss: 0.0252 - accuracy: 0.9911 - val_loss: 0.0485 - val_accuracy: 0.9816\n",
            "\n",
            "Epoch 00138: val_accuracy did not improve from 0.99078\n",
            "Epoch 139/200\n",
            "1238/1238 [==============================] - 58s 46ms/step - loss: 0.0486 - accuracy: 0.9836 - val_loss: 0.0292 - val_accuracy: 0.9894\n",
            "\n",
            "Epoch 00139: val_accuracy did not improve from 0.99078\n",
            "Epoch 140/200\n",
            "1238/1238 [==============================] - 57s 46ms/step - loss: 0.0340 - accuracy: 0.9877 - val_loss: 0.1438 - val_accuracy: 0.9543\n",
            "\n",
            "Epoch 00140: val_accuracy did not improve from 0.99078\n",
            "Epoch 141/200\n",
            "1238/1238 [==============================] - 58s 47ms/step - loss: 0.0769 - accuracy: 0.9759 - val_loss: 0.0281 - val_accuracy: 0.9903\n",
            "\n",
            "Epoch 00141: val_accuracy did not improve from 0.99078\n",
            "Epoch 142/200\n",
            "1238/1238 [==============================] - 58s 47ms/step - loss: 0.0288 - accuracy: 0.9896 - val_loss: 0.0291 - val_accuracy: 0.9891\n",
            "\n",
            "Epoch 00142: val_accuracy did not improve from 0.99078\n",
            "Epoch 143/200\n",
            "1238/1238 [==============================] - 58s 47ms/step - loss: 0.0389 - accuracy: 0.9866 - val_loss: 0.0312 - val_accuracy: 0.9891\n",
            "\n",
            "Epoch 00143: val_accuracy did not improve from 0.99078\n",
            "Epoch 144/200\n",
            "1238/1238 [==============================] - 58s 47ms/step - loss: 0.0415 - accuracy: 0.9839 - val_loss: 0.0416 - val_accuracy: 0.9840\n",
            "\n",
            "Epoch 00144: val_accuracy did not improve from 0.99078\n",
            "Epoch 145/200\n",
            "1238/1238 [==============================] - 58s 47ms/step - loss: 0.0310 - accuracy: 0.9884 - val_loss: 0.0333 - val_accuracy: 0.9891\n",
            "\n",
            "Epoch 00145: val_accuracy did not improve from 0.99078\n",
            "Epoch 146/200\n",
            "1238/1238 [==============================] - 57s 46ms/step - loss: 0.0358 - accuracy: 0.9865 - val_loss: 0.0281 - val_accuracy: 0.9892\n",
            "\n",
            "Epoch 00146: val_accuracy did not improve from 0.99078\n",
            "Epoch 147/200\n",
            "1238/1238 [==============================] - 58s 46ms/step - loss: 0.0284 - accuracy: 0.9899 - val_loss: 0.0318 - val_accuracy: 0.9892\n",
            "\n",
            "Epoch 00147: val_accuracy did not improve from 0.99078\n",
            "Epoch 148/200\n",
            "1238/1238 [==============================] - 58s 47ms/step - loss: 0.0331 - accuracy: 0.9877 - val_loss: 0.0470 - val_accuracy: 0.9838\n",
            "\n",
            "Epoch 00148: val_accuracy did not improve from 0.99078\n",
            "Epoch 149/200\n",
            "1238/1238 [==============================] - 58s 47ms/step - loss: 0.0413 - accuracy: 0.9853 - val_loss: 0.0974 - val_accuracy: 0.9635\n",
            "\n",
            "Epoch 00149: val_accuracy did not improve from 0.99078\n",
            "Epoch 150/200\n",
            "1238/1238 [==============================] - 58s 47ms/step - loss: 0.0744 - accuracy: 0.9731 - val_loss: 0.0291 - val_accuracy: 0.9895\n",
            "\n",
            "Epoch 00150: val_accuracy did not improve from 0.99078\n",
            "Epoch 151/200\n",
            "1238/1238 [==============================] - 58s 47ms/step - loss: 0.0668 - accuracy: 0.9777 - val_loss: 0.0650 - val_accuracy: 0.9766\n",
            "\n",
            "Epoch 00151: val_accuracy did not improve from 0.99078\n",
            "Epoch 152/200\n",
            "1238/1238 [==============================] - 58s 47ms/step - loss: 0.0710 - accuracy: 0.9730 - val_loss: 0.0572 - val_accuracy: 0.9796\n",
            "\n",
            "Epoch 00152: val_accuracy did not improve from 0.99078\n",
            "Epoch 153/200\n",
            "1238/1238 [==============================] - 58s 47ms/step - loss: 0.0558 - accuracy: 0.9782 - val_loss: 0.0528 - val_accuracy: 0.9795\n",
            "\n",
            "Epoch 00153: val_accuracy did not improve from 0.99078\n",
            "Epoch 154/200\n",
            "1238/1238 [==============================] - 58s 47ms/step - loss: 0.0563 - accuracy: 0.9778 - val_loss: 0.0639 - val_accuracy: 0.9767\n",
            "\n",
            "Epoch 00154: val_accuracy did not improve from 0.99078\n",
            "Epoch 155/200\n",
            "1238/1238 [==============================] - 58s 46ms/step - loss: 0.0557 - accuracy: 0.9785 - val_loss: 0.0557 - val_accuracy: 0.9792\n",
            "\n",
            "Epoch 00155: val_accuracy did not improve from 0.99078\n",
            "Epoch 156/200\n",
            "1238/1238 [==============================] - 58s 47ms/step - loss: 0.0500 - accuracy: 0.9797 - val_loss: 0.0577 - val_accuracy: 0.9790\n",
            "\n",
            "Epoch 00156: val_accuracy did not improve from 0.99078\n",
            "Epoch 157/200\n",
            "1238/1238 [==============================] - 58s 47ms/step - loss: 0.0563 - accuracy: 0.9784 - val_loss: 0.0626 - val_accuracy: 0.9783\n",
            "\n",
            "Epoch 00157: val_accuracy did not improve from 0.99078\n",
            "Epoch 158/200\n",
            "1238/1238 [==============================] - 57s 46ms/step - loss: 0.0536 - accuracy: 0.9783 - val_loss: 0.0588 - val_accuracy: 0.9793\n",
            "\n",
            "Epoch 00158: val_accuracy did not improve from 0.99078\n",
            "Epoch 159/200\n",
            "1238/1238 [==============================] - 58s 47ms/step - loss: 0.0543 - accuracy: 0.9777 - val_loss: 0.0506 - val_accuracy: 0.9811\n",
            "\n",
            "Epoch 00159: val_accuracy did not improve from 0.99078\n",
            "Epoch 160/200\n",
            "1238/1238 [==============================] - 57s 46ms/step - loss: 0.0566 - accuracy: 0.9776 - val_loss: 0.0556 - val_accuracy: 0.9796\n",
            "\n",
            "Epoch 00160: val_accuracy did not improve from 0.99078\n",
            "Epoch 161/200\n",
            "1238/1238 [==============================] - 58s 46ms/step - loss: 0.0493 - accuracy: 0.9798 - val_loss: 0.0600 - val_accuracy: 0.9777\n",
            "\n",
            "Epoch 00161: val_accuracy did not improve from 0.99078\n",
            "Epoch 162/200\n",
            "1238/1238 [==============================] - 58s 47ms/step - loss: 0.0504 - accuracy: 0.9803 - val_loss: 0.0426 - val_accuracy: 0.9840\n",
            "\n",
            "Epoch 00162: val_accuracy did not improve from 0.99078\n",
            "Epoch 163/200\n",
            "1238/1238 [==============================] - 58s 47ms/step - loss: 0.0455 - accuracy: 0.9824 - val_loss: 0.0428 - val_accuracy: 0.9829\n",
            "\n",
            "Epoch 00163: val_accuracy did not improve from 0.99078\n",
            "Epoch 164/200\n",
            "1238/1238 [==============================] - 58s 47ms/step - loss: 0.0476 - accuracy: 0.9831 - val_loss: 0.0591 - val_accuracy: 0.9837\n",
            "\n",
            "Epoch 00164: val_accuracy did not improve from 0.99078\n",
            "Epoch 165/200\n",
            "1238/1238 [==============================] - 58s 47ms/step - loss: 0.0378 - accuracy: 0.9864 - val_loss: 0.0352 - val_accuracy: 0.9880\n",
            "\n",
            "Epoch 00165: val_accuracy did not improve from 0.99078\n",
            "Epoch 166/200\n",
            "1238/1238 [==============================] - 58s 47ms/step - loss: 0.0304 - accuracy: 0.9888 - val_loss: 0.0325 - val_accuracy: 0.9894\n",
            "\n",
            "Epoch 00166: val_accuracy did not improve from 0.99078\n",
            "Epoch 167/200\n",
            "1238/1238 [==============================] - 58s 47ms/step - loss: 0.0301 - accuracy: 0.9891 - val_loss: 0.0319 - val_accuracy: 0.9884\n",
            "\n",
            "Epoch 00167: val_accuracy did not improve from 0.99078\n",
            "Epoch 168/200\n",
            "1238/1238 [==============================] - 58s 47ms/step - loss: 0.0311 - accuracy: 0.9879 - val_loss: 0.0789 - val_accuracy: 0.9682\n",
            "\n",
            "Epoch 00168: val_accuracy did not improve from 0.99078\n",
            "Epoch 169/200\n",
            "1238/1238 [==============================] - 58s 47ms/step - loss: 0.0393 - accuracy: 0.9853 - val_loss: 0.0290 - val_accuracy: 0.9900\n",
            "\n",
            "Epoch 00169: val_accuracy did not improve from 0.99078\n",
            "Epoch 170/200\n",
            "1238/1238 [==============================] - 59s 47ms/step - loss: 0.0287 - accuracy: 0.9890 - val_loss: 0.1691 - val_accuracy: 0.9439\n",
            "\n",
            "Epoch 00170: val_accuracy did not improve from 0.99078\n",
            "Epoch 171/200\n",
            "1238/1238 [==============================] - 58s 47ms/step - loss: 0.0360 - accuracy: 0.9867 - val_loss: 0.0403 - val_accuracy: 0.9855\n",
            "\n",
            "Epoch 00171: val_accuracy did not improve from 0.99078\n",
            "Epoch 172/200\n",
            "1238/1238 [==============================] - 58s 47ms/step - loss: 0.0272 - accuracy: 0.9892 - val_loss: 0.0279 - val_accuracy: 0.9906\n",
            "\n",
            "Epoch 00172: val_accuracy did not improve from 0.99078\n",
            "Epoch 173/200\n",
            "1238/1238 [==============================] - 58s 47ms/step - loss: 0.0247 - accuracy: 0.9909 - val_loss: 0.0690 - val_accuracy: 0.9799\n",
            "\n",
            "Epoch 00173: val_accuracy did not improve from 0.99078\n",
            "Epoch 174/200\n",
            "1238/1238 [==============================] - 58s 47ms/step - loss: 0.0305 - accuracy: 0.9890 - val_loss: 0.0299 - val_accuracy: 0.9907\n",
            "\n",
            "Epoch 00174: val_accuracy did not improve from 0.99078\n",
            "Epoch 175/200\n",
            "1238/1238 [==============================] - 59s 47ms/step - loss: 0.0278 - accuracy: 0.9896 - val_loss: 0.0333 - val_accuracy: 0.9886\n",
            "\n",
            "Epoch 00175: val_accuracy did not improve from 0.99078\n",
            "Epoch 176/200\n",
            "1238/1238 [==============================] - 59s 47ms/step - loss: 0.0312 - accuracy: 0.9887 - val_loss: 0.0527 - val_accuracy: 0.9848\n",
            "\n",
            "Epoch 00176: val_accuracy did not improve from 0.99078\n",
            "Epoch 177/200\n",
            "1238/1238 [==============================] - 58s 47ms/step - loss: 0.0292 - accuracy: 0.9893 - val_loss: 0.0333 - val_accuracy: 0.9894\n",
            "\n",
            "Epoch 00177: val_accuracy did not improve from 0.99078\n",
            "Epoch 178/200\n",
            "1238/1238 [==============================] - 58s 47ms/step - loss: 0.0332 - accuracy: 0.9882 - val_loss: 0.0418 - val_accuracy: 0.9849\n",
            "\n",
            "Epoch 00178: val_accuracy did not improve from 0.99078\n",
            "Epoch 179/200\n",
            "1238/1238 [==============================] - 58s 47ms/step - loss: 0.0328 - accuracy: 0.9873 - val_loss: 0.0271 - val_accuracy: 0.9897\n",
            "\n",
            "Epoch 00179: val_accuracy did not improve from 0.99078\n",
            "Epoch 180/200\n",
            "1238/1238 [==============================] - 59s 47ms/step - loss: 0.0290 - accuracy: 0.9892 - val_loss: 0.0556 - val_accuracy: 0.9796\n",
            "\n",
            "Epoch 00180: val_accuracy did not improve from 0.99078\n",
            "Epoch 181/200\n",
            "1238/1238 [==============================] - 57s 46ms/step - loss: 0.0267 - accuracy: 0.9901 - val_loss: 0.0518 - val_accuracy: 0.9811\n",
            "\n",
            "Epoch 00181: val_accuracy did not improve from 0.99078\n",
            "Epoch 182/200\n",
            "1238/1238 [==============================] - 58s 47ms/step - loss: 0.0269 - accuracy: 0.9897 - val_loss: 0.0317 - val_accuracy: 0.9901\n",
            "\n",
            "Epoch 00182: val_accuracy did not improve from 0.99078\n",
            "Epoch 183/200\n",
            "1238/1238 [==============================] - 59s 47ms/step - loss: 0.0320 - accuracy: 0.9886 - val_loss: 0.0307 - val_accuracy: 0.9899\n",
            "\n",
            "Epoch 00183: val_accuracy did not improve from 0.99078\n",
            "Epoch 184/200\n",
            "1238/1238 [==============================] - 59s 47ms/step - loss: 0.0499 - accuracy: 0.9842 - val_loss: 0.0388 - val_accuracy: 0.9872\n",
            "\n",
            "Epoch 00184: val_accuracy did not improve from 0.99078\n",
            "Epoch 185/200\n",
            "1238/1238 [==============================] - 58s 47ms/step - loss: 0.0329 - accuracy: 0.9872 - val_loss: 0.0300 - val_accuracy: 0.9894\n",
            "\n",
            "Epoch 00185: val_accuracy did not improve from 0.99078\n",
            "Epoch 186/200\n",
            "1238/1238 [==============================] - 59s 47ms/step - loss: 0.0292 - accuracy: 0.9889 - val_loss: 0.0319 - val_accuracy: 0.9888\n",
            "\n",
            "Epoch 00186: val_accuracy did not improve from 0.99078\n",
            "Epoch 187/200\n",
            "1238/1238 [==============================] - 59s 47ms/step - loss: 0.0401 - accuracy: 0.9857 - val_loss: 0.0511 - val_accuracy: 0.9803\n",
            "\n",
            "Epoch 00187: val_accuracy did not improve from 0.99078\n",
            "Epoch 188/200\n",
            "1238/1238 [==============================] - 58s 47ms/step - loss: 0.0234 - accuracy: 0.9913 - val_loss: 0.0408 - val_accuracy: 0.9850\n",
            "\n",
            "Epoch 00188: val_accuracy did not improve from 0.99078\n",
            "Epoch 189/200\n",
            "1238/1238 [==============================] - 58s 47ms/step - loss: 0.0361 - accuracy: 0.9875 - val_loss: 0.0266 - val_accuracy: 0.9907\n",
            "\n",
            "Epoch 00189: val_accuracy did not improve from 0.99078\n",
            "Epoch 190/200\n",
            "1238/1238 [==============================] - 59s 47ms/step - loss: 0.0312 - accuracy: 0.9878 - val_loss: 0.0450 - val_accuracy: 0.9866\n",
            "\n",
            "Epoch 00190: val_accuracy did not improve from 0.99078\n",
            "Epoch 191/200\n",
            "1238/1238 [==============================] - 59s 47ms/step - loss: 0.0285 - accuracy: 0.9901 - val_loss: 0.0346 - val_accuracy: 0.9886\n",
            "\n",
            "Epoch 00191: val_accuracy did not improve from 0.99078\n",
            "Epoch 192/200\n",
            "1238/1238 [==============================] - 59s 47ms/step - loss: 0.0409 - accuracy: 0.9854 - val_loss: 0.0527 - val_accuracy: 0.9814\n",
            "\n",
            "Epoch 00192: val_accuracy did not improve from 0.99078\n",
            "Epoch 193/200\n",
            "1238/1238 [==============================] - 59s 47ms/step - loss: 0.0655 - accuracy: 0.9758 - val_loss: 0.0801 - val_accuracy: 0.9652\n",
            "\n",
            "Epoch 00193: val_accuracy did not improve from 0.99078\n",
            "Epoch 194/200\n",
            "1238/1238 [==============================] - 58s 47ms/step - loss: 0.0451 - accuracy: 0.9824 - val_loss: 0.0450 - val_accuracy: 0.9824\n",
            "\n",
            "Epoch 00194: val_accuracy did not improve from 0.99078\n",
            "Epoch 195/200\n",
            "1238/1238 [==============================] - 58s 47ms/step - loss: 0.0364 - accuracy: 0.9863 - val_loss: 0.0922 - val_accuracy: 0.9620\n",
            "\n",
            "Epoch 00195: val_accuracy did not improve from 0.99078\n",
            "Epoch 196/200\n",
            "1238/1238 [==============================] - 58s 47ms/step - loss: 0.0316 - accuracy: 0.9887 - val_loss: 0.0288 - val_accuracy: 0.9906\n",
            "\n",
            "Epoch 00196: val_accuracy did not improve from 0.99078\n",
            "Epoch 197/200\n",
            "1238/1238 [==============================] - 59s 47ms/step - loss: 0.0281 - accuracy: 0.9901 - val_loss: 0.0432 - val_accuracy: 0.9839\n",
            "\n",
            "Epoch 00197: val_accuracy did not improve from 0.99078\n",
            "Epoch 198/200\n",
            "1238/1238 [==============================] - 59s 47ms/step - loss: 0.0331 - accuracy: 0.9882 - val_loss: 0.0384 - val_accuracy: 0.9892\n",
            "\n",
            "Epoch 00198: val_accuracy did not improve from 0.99078\n",
            "Epoch 199/200\n",
            "1238/1238 [==============================] - 58s 47ms/step - loss: 0.0255 - accuracy: 0.9904 - val_loss: 0.0291 - val_accuracy: 0.9900\n",
            "\n",
            "Epoch 00199: val_accuracy did not improve from 0.99078\n",
            "Epoch 200/200\n",
            "1238/1238 [==============================] - 59s 47ms/step - loss: 0.0258 - accuracy: 0.9906 - val_loss: 0.0513 - val_accuracy: 0.9797\n",
            "\n",
            "Epoch 00200: val_accuracy did not improve from 0.99078\n"
          ],
          "name": "stdout"
        }
      ]
    },
    {
      "cell_type": "code",
      "metadata": {
        "colab": {
          "base_uri": "https://localhost:8080/"
        },
        "id": "x4ws_a_UQ_CC",
        "outputId": "2274e716-48b1-4a78-d085-4625deed8838"
      },
      "source": [
        "#loading the best model and checking accuracy on the test data\n",
        "model = load_model('/content/drive/MyDrive/building1/mod26marchPart1_5slots_lstm/best_model.pkl')\n",
        "from sklearn.metrics import accuracy_score\n",
        "y_pred=model.predict(test)\n",
        "test_preds=( y_pred> 0.5).astype(\"int32\")#Selecting a label only if it has >0.5 probability\n",
        "accuracy_score(test_target, test_preds)"
      ],
      "execution_count": null,
      "outputs": [
        {
          "output_type": "execute_result",
          "data": {
            "text/plain": [
              "0.990811097367026"
            ]
          },
          "metadata": {
            "tags": []
          },
          "execution_count": 33
        }
      ]
    },
    {
      "cell_type": "code",
      "metadata": {
        "colab": {
          "base_uri": "https://localhost:8080/"
        },
        "id": "Y5OOnHdmREH3",
        "outputId": "6b6640c9-448a-4d27-97aa-cba6a38d79d2"
      },
      "source": [
        "#Calculating accuracy by selecting the label having the highest probability\n",
        "yhat=np.argmax(y_pred,axis=1)\n",
        "y=np.argmax(test_target,axis=1)\n",
        "accuracy_score(y,yhat)"
      ],
      "execution_count": null,
      "outputs": [
        {
          "output_type": "execute_result",
          "data": {
            "text/plain": [
              "0.9909289038110385"
            ]
          },
          "metadata": {
            "tags": []
          },
          "execution_count": 34
        }
      ]
    },
    {
      "cell_type": "code",
      "metadata": {
        "colab": {
          "base_uri": "https://localhost:8080/",
          "height": 295
        },
        "id": "gqaDQGF-RHUG",
        "outputId": "d5ecd0fe-67f8-4135-c794-cd5f71561724"
      },
      "source": [
        "import matplotlib.pyplot as plt\n",
        "plt.plot(history.history['accuracy'])\n",
        "plt.plot(history.history['val_accuracy'])\n",
        "plt.title('model accuracy')\n",
        "plt.ylabel('accuracy')\n",
        "plt.xlabel('epoch')\n",
        "plt.legend(['train', 'Validation'], loc='upper left')\n",
        "plt.show()"
      ],
      "execution_count": null,
      "outputs": [
        {
          "output_type": "display_data",
          "data": {
            "image/png": "[encoded data removed]",
            "text/plain": [
              "<Figure size 432x288 with 1 Axes>"
            ]
          },
          "metadata": {
            "tags": [],
            "needs_background": "light"
          }
        }
      ]
    }
  ]
}