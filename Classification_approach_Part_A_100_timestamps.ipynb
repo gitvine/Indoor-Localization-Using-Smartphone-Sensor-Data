{
  "nbformat": 4,
  "nbformat_minor": 0,
  "metadata": {
    "colab": {
      "name": "Part_A_classification_approach_100_timestamps.ipynb",
      "provenance": [],
      "collapsed_sections": []
    },
    "kernelspec": {
      "display_name": "Python 3",
      "language": "python",
      "name": "python3"
    },
    "language_info": {
      "codemirror_mode": {
        "name": "ipython",
        "version": 3
      },
      "file_extension": ".py",
      "mimetype": "text/x-python",
      "name": "python",
      "nbconvert_exporter": "python",
      "pygments_lexer": "ipython3",
      "version": "3.8.5"
    }
  },
  "cells": [
    {
      "cell_type": "markdown",
      "metadata": {
        "id": "QktZ8WbxTv2T"
      },
      "source": [
        "## We have divided the problem into two parts\n",
        "(a) Predict the floor number\n",
        "(b) Predict the way points or location on that floor"
      ]
    },
    {
      "cell_type": "code",
      "metadata": {
        "id": "1f5bwMxmPWjQ"
      },
      "source": [
        "import pandas as pd\n",
        "import numpy as np\n",
        "%matplotlib inline\n",
        "import matplotlib.pyplot as plt\n",
        "from os import listdir\n",
        "from pathlib import Path\n",
        "pd.options.mode.chained_assignment = None  # default='warn'\n",
        "from dataclasses import dataclass\n",
        "from sklearn import preprocessing"
      ],
      "execution_count": null,
      "outputs": []
    },
    {
      "cell_type": "code",
      "metadata": {
        "id": "q6hAEaR6tmi9"
      },
      "source": [
        "import keras\n",
        "from keras.utils import to_categorical\n",
        "from keras.preprocessing import sequence\n",
        "import tensorflow as tf\n",
        "from keras.models import Sequential\n",
        "from keras.layers import Dense\n",
        "from keras.layers import LSTM\n",
        "from keras.optimizers import Adam\n",
        "from keras.models import load_model\n",
        "from keras.callbacks import ModelCheckpoint\n",
        "from keras.layers import Bidirectional"
      ],
      "execution_count": null,
      "outputs": []
    },
    {
      "cell_type": "code",
      "metadata": {
        "colab": {
          "base_uri": "https://localhost:8080/"
        },
        "id": "BfbMebYYWEIw",
        "outputId": "6a7b829a-7f6c-4b10-d4ba-325b8530d0da"
      },
      "source": [
        "from google.colab import drive\n",
        "drive.mount('/content/drive')"
      ],
      "execution_count": null,
      "outputs": [
        {
          "output_type": "stream",
          "text": [
            "Mounted at /content/drive\n"
          ],
          "name": "stdout"
        }
      ]
    },
    {
      "cell_type": "markdown",
      "metadata": {
        "id": "YjlXfxS2iqjn"
      },
      "source": [
        "2. Data preprocessing"
      ]
    },
    {
      "cell_type": "code",
      "metadata": {
        "id": "XpKnmwl6M_3_"
      },
      "source": [
        "#Function to connect waypoint coordinates with straight lines\n",
        "#This will be used for second part of project.We will discuss about this later.\n",
        "def connect_waypoints(wp_df):\n",
        "  if(wp_df.at[0,'waypoint_val1']==''):\n",
        "    wp_df.at[0,'waypoint_val1']=0\n",
        "  if(wp_df.at[0,'waypoint_val2']==''):\n",
        "    wp_df.at[0,'waypoint_val2']=0  \n",
        "  j=0\n",
        "  i=0\n",
        "  last=0\n",
        "  #print(wp_df.head(5))\n",
        "  while i < (len(wp_df)-1):\n",
        "    j=i+1\n",
        "    while((wp_df.at[j,'waypoint_val1']==0) and (wp_df.at[j,'waypoint_val2']==0) ):\n",
        "      if(j==len(wp_df)-1):\n",
        "        wp_df.at[j,'waypoint_val1']=wp_df.at[i,'waypoint_val1']\n",
        "        wp_df.at[j,'waypoint_val2']=wp_df.at[i,'waypoint_val2']\n",
        "        last=1\n",
        "        break\n",
        "      j+=1\n",
        "    temp_arrayx=np.linspace(wp_df.at[i,'waypoint_val1'],wp_df.at[j,'waypoint_val1'], num=j-i+1)\n",
        "    temp_arrayy=np.linspace(wp_df.at[i,'waypoint_val2'],wp_df.at[j,'waypoint_val2'], num=j-i+1)\n",
        "    #print(temp_arrayx)\n",
        "    m=0\n",
        "    for k in range(i,j+1):\n",
        "      wp_df.at[k,'waypoint_val1']=temp_arrayx[m]\n",
        "      wp_df.at[k,'waypoint_val2']=temp_arrayy[m]\n",
        "      #For final comparison of our predicted location, we will need to mark which waypoints were in original data before connecting them\n",
        "      #print('k=',k,'i=',i,'j=',j)\n",
        "      if((k==i) and (last==0)):\n",
        "        wp_df.at[k,'interpolated']=1 #original waypoints\n",
        "      else:\n",
        "        wp_df.at[k,'interpolated']=0  #interpolated waypoints\n",
        "      m+=1\n",
        "    i=j\n",
        "  return wp_df     \n"
      ],
      "execution_count": null,
      "outputs": []
    },
    {
      "cell_type": "code",
      "metadata": {
        "id": "hycBgmQSPWjX"
      },
      "source": [
        "# Function to extract arrays for each sensor with timeslots.\n",
        "# This particular function is modified from the function provided by the competition's github page at https://github.com/location-competition/indoor-location-competition-20/blob/master/io_f.py\n",
        "\n",
        "@dataclass\n",
        "class ReadData:\n",
        "    acce: np.ndarray\n",
        "    acce_uncali: np.ndarray\n",
        "    gyro: np.ndarray\n",
        "    gyro_uncali: np.ndarray\n",
        "    magn: np.ndarray\n",
        "    magn_uncali: np.ndarray\n",
        "    ahrs: np.ndarray\n",
        "    wifi: np.ndarray\n",
        "    ibeacon: np.ndarray\n",
        "    waypoint: np.ndarray\n",
        "\n",
        "\n",
        "def read_data_file(data_filename):\n",
        "    acce = []\n",
        "    acce_uncali = []\n",
        "    gyro = []\n",
        "    gyro_uncali = []\n",
        "    magn = []\n",
        "    magn_uncali = []\n",
        "    ahrs = []\n",
        "    wifi = []\n",
        "    ibeacon = []\n",
        "    waypoint = []\n",
        "    line_count=0\n",
        "    with open(data_filename, 'r', encoding='utf-8') as file:\n",
        "        lines = file.readlines()\n",
        "\n",
        "    for line_data in lines:\n",
        "        #line_count=line_count+1\n",
        "        #if(line_count>3000):\n",
        "        #  break\n",
        "        line_data = line_data.strip()\n",
        "        if not line_data or line_data[0] == '#':\n",
        "            continue\n",
        "\n",
        "        line_data = line_data.split('\\t')\n",
        "\n",
        "        if line_data[1] == 'TYPE_ACCELEROMETER':\n",
        "            acce.append([int(line_data[0]), float(line_data[2]), float(line_data[3]), float(line_data[4])])\n",
        "            continue\n",
        "\n",
        "        if line_data[1] == 'TYPE_ACCELEROMETER_UNCALIBRATED':\n",
        "            acce_uncali.append([int(line_data[0]), float(line_data[2]), float(line_data[3]), float(line_data[4])])\n",
        "            continue\n",
        "\n",
        "        if line_data[1] == 'TYPE_GYROSCOPE':\n",
        "            gyro.append([int(line_data[0]), float(line_data[2]), float(line_data[3]), float(line_data[4])])\n",
        "            continue\n",
        "\n",
        "        if line_data[1] == 'TYPE_GYROSCOPE_UNCALIBRATED':\n",
        "            gyro_uncali.append([int(line_data[0]), float(line_data[2]), float(line_data[3]), float(line_data[4])])\n",
        "            continue\n",
        "\n",
        "        if line_data[1] == 'TYPE_MAGNETIC_FIELD':\n",
        "            magn.append([int(line_data[0]), float(line_data[2]), float(line_data[3]), float(line_data[4])])\n",
        "            continue\n",
        "\n",
        "        if line_data[1] == 'TYPE_MAGNETIC_FIELD_UNCALIBRATED':\n",
        "            magn_uncali.append([int(line_data[0]), float(line_data[2]), float(line_data[3]), float(line_data[4])])\n",
        "            continue\n",
        "\n",
        "        if line_data[1] == 'TYPE_ROTATION_VECTOR':\n",
        "            ahrs.append([int(line_data[0]), float(line_data[2]), float(line_data[3]), float(line_data[4])])\n",
        "            continue\n",
        "\n",
        "        if line_data[1] == 'TYPE_WIFI':\n",
        "            sys_ts = int(line_data[0])\n",
        "            ssid = line_data[2]\n",
        "            bssid = line_data[3]\n",
        "            rssi = line_data[4]\n",
        "            lastseen_ts = line_data[6]\n",
        "            wifi_data = [sys_ts, ssid, bssid, rssi, lastseen_ts]\n",
        "            wifi.append(wifi_data)\n",
        "            continue\n",
        "\n",
        "        if line_data[1] == 'TYPE_BEACON':\n",
        "            ts = int(line_data[0])\n",
        "            uuid = line_data[2]\n",
        "            major = line_data[3]\n",
        "            minor = line_data[4]\n",
        "            rssi = line_data[6]\n",
        "            ibeacon_data = [ts, '_'.join([uuid, major, minor]), rssi]\n",
        "            ibeacon.append(ibeacon_data)\n",
        "            continue\n",
        "\n",
        "        if line_data[1] == 'TYPE_WAYPOINT':\n",
        "            waypoint.append([int(line_data[0]), float(line_data[2]), float(line_data[3])])\n",
        "\n",
        "    acce = np.array(acce,dtype=np.float)\n",
        "    acce_uncali = np.array(acce_uncali,dtype=np.float)\n",
        "    gyro = np.array(gyro,dtype=np.float)\n",
        "    gyro_uncali = np.array(gyro_uncali,dtype=np.float)\n",
        "    magn = np.array(magn,dtype=np.float)\n",
        "    magn_uncali = np.array(magn_uncali,dtype=np.float)\n",
        "    ahrs = np.array(ahrs)\n",
        "    wifi = np.array(wifi)\n",
        "    ibeacon = np.array(ibeacon)\n",
        "    waypoint = np.array(waypoint)\n",
        "\n",
        "    return ReadData(acce, acce_uncali, gyro, gyro_uncali, magn, magn_uncali, ahrs, wifi, ibeacon, waypoint)"
      ],
      "execution_count": null,
      "outputs": []
    },
    {
      "cell_type": "code",
      "metadata": {
        "id": "FpAoHhUmPWjb"
      },
      "source": [
        "#Function to go through all the files in the folder and return the sensor data \n",
        "# in the form of arrays\n",
        "@dataclass\n",
        "class trace:\n",
        "    sequence: np.ndarray\n",
        "    target_seq: np.ndarray\n",
        "    waypoint_seq: np.ndarray\n",
        "    wp_full_seq: np.ndarray\n",
        "\n",
        "def convert_to_df(file_path,floor,timeslots):\n",
        "    pathlist = Path(file_path).rglob('*.txt')\n",
        "    sequence = list()\n",
        "    target_seq=list()\n",
        "    waypoint_seq=list()\n",
        "    wp_full_seq=list()\n",
        "    path_id=1\n",
        "    floor_trace_df=pd.DataFrame()\n",
        "    for path in pathlist:\n",
        "         # because path is object not string\n",
        "        path_in_str = str(path)\n",
        "         # print(path_in_str)\n",
        "        trace_file = read_data_file(path_in_str)\n",
        "        trace_df=pd.DataFrame()\n",
        "        if(trace_file.acce.size):\n",
        "            acce_df=pd.DataFrame(trace_file.acce, columns=['Timestamp','acce_val1','acce_val2','acce_val3'])\n",
        "        if(trace_file.acce_uncali.size):\n",
        "            acce__uncal_df=pd.DataFrame(trace_file.acce_uncali, columns=['Timestamp','acce_uncal_val1','acce_uncal_val2','acce_uncal_val3'])   \n",
        "        if(trace_file.gyro.size):\n",
        "            gyro_df=pd.DataFrame(trace_file.gyro, columns=['Timestamp','gyro_val1','gyro_val2','gyro_val3'])\n",
        "        if(trace_file.gyro_uncali.size):\n",
        "            gyro_uncal_df=pd.DataFrame(trace_file.gyro_uncali, columns=['Timestamp','gyro_uncal_val1','gyro_uncal_val2','gyro_uncal_val3'])\n",
        "        if(trace_file.magn.size):\n",
        "            magn_df=pd.DataFrame(trace_file.magn, columns=['Timestamp','magn_val1','magn_val2','magn_val3'])\n",
        "        if(trace_file.magn_uncali.size):\n",
        "            magn_uncal_df=pd.DataFrame(trace_file.magn_uncali, columns=['Timestamp','magn_uncal_val1','magn_uncal_val2','magn_uncal_val3'])\n",
        "        if(trace_file.ahrs.size):\n",
        "            rot_df=pd.DataFrame(trace_file.ahrs, columns=['Timestamp','rot_val1','rot_val2','rot_val3'])           \n",
        "        if(trace_file.wifi.size):\n",
        "            wifi_df=pd.DataFrame(trace_file.wifi, columns=['Timestamp','wifi_val1','wifi_val2','wifi_val3','wifi_val4']) \n",
        "        if(trace_file.ibeacon.size):\n",
        "            ibeacon_df=pd.DataFrame(trace_file.ibeacon, columns=['Timestamp','ibeacon_val1','ibeacon_val2'])    \n",
        "        if(trace_file.waypoint.size):\n",
        "            waypoint_df=pd.DataFrame(trace_file.waypoint, columns=['Timestamp','waypoint_val1','waypoint_val2'])\n",
        "        \n",
        "        #change data type of wifi dataframe timestamp and ibeacon timestamp\n",
        "        wifi_df[\"Timestamp\"] = wifi_df.Timestamp.astype(float)\n",
        "        ibeacon_df[\"Timestamp\"] = ibeacon_df.Timestamp.astype(float)\n",
        "        trace_df = pd.merge(acce_df, acce__uncal_df, on='Timestamp', how='outer')\n",
        "        trace_df = pd.merge(trace_df, gyro_df, on='Timestamp', how='outer')\n",
        "        trace_df = pd.merge(trace_df, gyro_uncal_df, on='Timestamp', how='outer')\n",
        "        trace_df = pd.merge(trace_df, magn_df, on='Timestamp', how='outer')\n",
        "        trace_df = pd.merge(trace_df, magn_uncal_df, on='Timestamp', how='outer')\n",
        "        trace_df = pd.merge(trace_df, rot_df, on='Timestamp', how='outer')\n",
        "        trace_df = pd.merge(trace_df, wifi_df, on='Timestamp', how='outer')\n",
        "        trace_df = pd.merge(trace_df, ibeacon_df, on='Timestamp', how='outer')\n",
        "        trace_df = pd.merge(trace_df, waypoint_df, on='Timestamp', how='outer')\n",
        "        ###### Cast time stamp to integer\n",
        "        trace_df[\"Timestamp\"] = trace_df.Timestamp.astype(int)\n",
        "\n",
        "        # sorting by Timestamp and deleting duplicate timeslots \n",
        "        \n",
        "        trace_df.sort_values(\"Timestamp\", inplace = True)\n",
        "        trace_df = trace_df.reset_index(drop=True)\n",
        "        trace_df.drop_duplicates(subset=\"Timestamp\",keep=False, inplace=True)\n",
        "        trace_df = trace_df.reset_index(drop=True)\n",
        "        \n",
        "        trace_df=trace_df.replace(np.nan,0)\n",
        "\n",
        "        #keep only top 200 rows in one sequence     \n",
        "        #trace_df=trace_df.head(200)\n",
        "\n",
        "        #for i in range(0,len(trace_df)):\n",
        "         # trace_df.at[i,'Timestamp']=i\n",
        "        \n",
        "        #trace_df['time_index'] = trace_df.index\n",
        "        #print(trace_df.head())\n",
        "        #trace_df['floor_name']=floor\n",
        "        #trace_df['path_id']=floor+path_id\n",
        "        #path_id=path_id+1\n",
        "        #trace_df['wifi_df'].fillna(0)\n",
        "        #trace_df['ibeacon_df'].fillna(0)\n",
        "        #trace_df['wifi_df'].fillna(0)\n",
        "        \n",
        "\n",
        "        wp_df = trace_df[['waypoint_val1', 'waypoint_val2']].copy()\n",
        "        wp_df=connect_waypoints(wp_df)\n",
        "        wp_values=wp_df.values\n",
        "        #Removing text based fields in dataframe\n",
        "        trace_df=trace_df.drop(['Timestamp'], axis=1)\n",
        "        trace_df=trace_df.drop(['wifi_val1'], axis=1)\n",
        "        trace_df=trace_df.drop(['wifi_val2'], axis=1)\n",
        "        trace_df=trace_df.drop(['ibeacon_val1'], axis=1)\n",
        "        trace_df.astype('float32')        \n",
        "        trace_df=trace_df.drop(['waypoint_val1','waypoint_val2'], axis=1)\n",
        "        #floor_trace_df=floor_trace_df.append(trace_df)\n",
        "        values = trace_df.values \n",
        "\n",
        "\n",
        "        \n",
        "\n",
        "\n",
        "        #Now split sequence into required number of timeslots\n",
        "        l=int(len(values)/timeslots)\n",
        "        k=0\n",
        "        for m in range(l):\n",
        "          s_temp=values[k:k+timeslots]\n",
        "          wp_temp=wp_values[k:k+timeslots]\n",
        "          #Normalize\n",
        "          #min_max_scaler = preprocessing.MinMaxScaler()\n",
        "          #s_scaled = min_max_scaler.fit_transform(s_temp)\n",
        "          sequence.append(s_temp)\n",
        "          wp_full_seq.append(wp_temp)\n",
        "          target_seq.append(floor)\n",
        "          wp_temp=wp_df.iloc[k:k+timeslots,0:]\n",
        "          wp_temp=wp_temp.reset_index(drop=True)\n",
        "          #wp_temp=connect_waypoints(wp_temp)\n",
        "        #Now after connecting the waypoints, the avearge has become a wieghted average in time series\n",
        "          wp_avg_x=wp_temp['waypoint_val1'].mean()\n",
        "          wp_avg_y=wp_temp['waypoint_val2'].mean()\n",
        "        #maximum and minimum will be useful in second part\n",
        "          wp_max_x=wp_temp['waypoint_val1'].max()\n",
        "          wp_min_x=wp_temp['waypoint_val1'].min()\n",
        "          wp_max_y=wp_temp['waypoint_val2'].max()\n",
        "          wp_min_y=wp_temp['waypoint_val2'].min()\n",
        "          \n",
        "          waypoint_seq.append([wp_avg_x,wp_avg_y,wp_max_x,wp_min_x,wp_max_y,wp_min_y])\n",
        "          k+=timeslots\n",
        "\n",
        "    return trace(sequence,target_seq,waypoint_seq,wp_full_seq)"
      ],
      "execution_count": null,
      "outputs": []
    },
    {
      "cell_type": "code",
      "metadata": {
        "id": "hjiKBKnBDTNS"
      },
      "source": [
        "#1 trace test Extracting data for B1 floor only\n",
        "sequences = list()\n",
        "target_sequence=list()\n",
        "waypoint_sequence=list()\n",
        "waypoint_full_sequence=list()\n",
        "#floors_df=pd.DataFrame()\n",
        "file_path = '/content/drive/MyDrive/building1/test/'\n",
        "trace_values=(convert_to_df(file_path,0))\n",
        "sequences.extend(trace_values.sequence)\n",
        "target_sequence.extend(trace_values.target_seq)\n",
        "waypoint_sequence.extend(trace_values.waypoint_seq)\n",
        "waypoint_full_sequence.extend(trace_values.wp_full_seq)"
      ],
      "execution_count": null,
      "outputs": []
    },
    {
      "cell_type": "code",
      "metadata": {
        "colab": {
          "base_uri": "https://localhost:8080/"
        },
        "id": "OXmpBegNG3fL",
        "outputId": "a45f2281-f578-40a1-9c40-88eb8e02780e"
      },
      "source": [
        "len(sequences)"
      ],
      "execution_count": null,
      "outputs": [
        {
          "output_type": "execute_result",
          "data": {
            "text/plain": [
              "98"
            ]
          },
          "metadata": {
            "tags": []
          },
          "execution_count": 44
        }
      ]
    },
    {
      "cell_type": "code",
      "metadata": {
        "id": "RIHmyZk8PWje"
      },
      "source": [
        "#Extracting data for B1 floor only\n",
        "sequences = list()\n",
        "target_sequence=list()\n",
        "waypoint_sequence=list()\n",
        "waypoint_full_sequence=list()\n",
        "#floors_df=pd.DataFrame()\n",
        "file_path = '/content/drive/MyDrive/building1/data/B1'\n",
        "trace_values=(convert_to_df(file_path,0,100))\n",
        "sequences.extend(trace_values.sequence)\n",
        "target_sequence.extend(trace_values.target_seq)\n",
        "waypoint_sequence.extend(trace_values.waypoint_seq)\n",
        "waypoint_full_sequence.extend(trace_values.wp_full_seq)"
      ],
      "execution_count": null,
      "outputs": []
    },
    {
      "cell_type": "code",
      "metadata": {
        "colab": {
          "base_uri": "https://localhost:8080/"
        },
        "id": "cu3Zj31ukXcD",
        "outputId": "51043d3a-2133-4179-8edc-bdabfc977c55"
      },
      "source": [
        "len(sequences[0])"
      ],
      "execution_count": null,
      "outputs": [
        {
          "output_type": "execute_result",
          "data": {
            "text/plain": [
              "5"
            ]
          },
          "metadata": {
            "tags": []
          },
          "execution_count": 9
        }
      ]
    },
    {
      "cell_type": "code",
      "metadata": {
        "colab": {
          "base_uri": "https://localhost:8080/"
        },
        "id": "z_7S8TmaPWje",
        "outputId": "3252ab3c-69d6-43a2-8211-9f83bdb0bcf2"
      },
      "source": [
        "print('Number of sequences',len(sequences))\n",
        "print('Number of targets',len(target_sequence))\n",
        "print('Number of timeslots in first sequence',(sequences[0].shape)[0])\n",
        "print('Number of timeslots in tenth sequence',(sequences[9].shape)[0])\n",
        "print('Number of timeslots in hundredth sequence',(sequences[99].shape)[0])"
      ],
      "execution_count": null,
      "outputs": [
        {
          "output_type": "stream",
          "text": [
            "Number of sequences 2197\n",
            "Number of targets 2197\n",
            "Number of timeslots in first sequence 100\n",
            "Number of timeslots in tenth sequence 100\n",
            "Number of timeslots in hundredth sequence 100\n"
          ],
          "name": "stdout"
        }
      ]
    },
    {
      "cell_type": "code",
      "metadata": {
        "id": "wPdndUabPWje"
      },
      "source": [
        "#Now adding data of other floors to the sequences starting with F1\n",
        "file_path = '/content/drive/MyDrive/building1/data/F1'\n",
        "trace_values=(convert_to_df(file_path,1,100))\n",
        "sequences.extend(trace_values.sequence)\n",
        "target_sequence.extend(trace_values.target_seq)\n",
        "waypoint_sequence.extend(trace_values.waypoint_seq)\n",
        "file_path = '/content/drive/MyDrive/building1/data/F2'\n",
        "trace_values=(convert_to_df(file_path,2,100))\n",
        "sequences.extend(trace_values.sequence)\n",
        "target_sequence.extend(trace_values.target_seq)\n",
        "waypoint_sequence.extend(trace_values.waypoint_seq)\n",
        "file_path = '/content/drive/MyDrive/building1/data/F3'\n",
        "trace_values=(convert_to_df(file_path,3,100))\n",
        "sequences.extend(trace_values.sequence)\n",
        "target_sequence.extend(trace_values.target_seq)\n",
        "waypoint_sequence.extend(trace_values.waypoint_seq)\n",
        "file_path = '/content/drive/MyDrive/building1/data/F4'\n",
        "trace_values=(convert_to_df(file_path,4,100))\n",
        "sequences.extend(trace_values.sequence)\n",
        "target_sequence.extend(trace_values.target_seq)\n",
        "waypoint_sequence.extend(trace_values.waypoint_seq)"
      ],
      "execution_count": null,
      "outputs": []
    },
    {
      "cell_type": "code",
      "metadata": {
        "colab": {
          "base_uri": "https://localhost:8080/"
        },
        "id": "vu6GUYhwVNgk",
        "outputId": "f483849f-73ed-4539-ae52-f491a76c7807"
      },
      "source": [
        "print('Number of sequences',len(sequences))\n",
        "print('Number of targets',len(target_sequence))\n",
        "print('Number of timeslots in first sequence',(sequences[0].shape)[0])\n",
        "print('Number of timeslots in tenth sequence',(sequences[9].shape)[0])\n",
        "print('Number of timeslots in hundredth sequence',(sequences[99].shape)[0])"
      ],
      "execution_count": null,
      "outputs": [
        {
          "output_type": "stream",
          "text": [
            "Number of sequences 11084\n",
            "Number of targets 11084\n",
            "Number of timeslots in first sequence 100\n",
            "Number of timeslots in tenth sequence 100\n",
            "Number of timeslots in hundredth sequence 100\n"
          ],
          "name": "stdout"
        }
      ]
    },
    {
      "cell_type": "code",
      "metadata": {
        "colab": {
          "base_uri": "https://localhost:8080/"
        },
        "id": "55a-b35U1he2",
        "outputId": "f8f33723-2614-420d-9a40-edf3d0851ca3"
      },
      "source": [
        "target_sequence[0]"
      ],
      "execution_count": null,
      "outputs": [
        {
          "output_type": "execute_result",
          "data": {
            "text/plain": [
              "0"
            ]
          },
          "metadata": {
            "tags": []
          },
          "execution_count": 34
        }
      ]
    },
    {
      "cell_type": "code",
      "metadata": {
        "colab": {
          "base_uri": "https://localhost:8080/"
        },
        "id": "Esbsaw2NQqT7",
        "outputId": "27fcec28-ef52-4ea3-bb75-197d1f44dbab"
      },
      "source": [
        "train_length=int(len(sequences)*0.7)\n",
        "val_length=int(len(sequences)*0.15)\n",
        "test_length=len(sequences)-train_length-val_length\n",
        "\n",
        "train_flags=np.full((train_length), 0)\n",
        "validation_flags=np.full((val_length), 1)\n",
        "test_flags=np.full((test_length), 2)\n",
        "flags=[]\n",
        "flags.extend(train_flags)\n",
        "flags.extend(validation_flags)\n",
        "flags.extend(test_flags)\n",
        "np.random.shuffle(flags)\n",
        "len(flags)"
      ],
      "execution_count": null,
      "outputs": [
        {
          "output_type": "execute_result",
          "data": {
            "text/plain": [
              "11084"
            ]
          },
          "metadata": {
            "tags": []
          },
          "execution_count": 13
        }
      ]
    },
    {
      "cell_type": "code",
      "metadata": {
        "id": "BTZdQ7hbnAEx"
      },
      "source": [
        "train = [sequences[i] for i in range(len(flags)) if (flags[i]==0)]\n",
        "validation = [sequences[i] for i in range(len(flags)) if flags[i]==1]\n",
        "test = [sequences[i] for i in range(len(flags)) if flags[i]==2]\n",
        "\n",
        "train_target = [target_sequence[i] for i in range(len(flags)) if (flags[i]==0)]\n",
        "validation_target = [target_sequence[i] for i in range(len(flags)) if flags[i]==1]\n",
        "test_target = [target_sequence[i] for i in range(len(flags)) if flags[i]==2]\n",
        "train = np.array(train)\n",
        "validation = np.array(validation)\n",
        "test = np.array(test)\n",
        "\n",
        "train_target = np.array(train_target)\n",
        "\n",
        "train_target=to_categorical(train_target,num_classes = 5)\n",
        "\n",
        "validation_target = np.array(validation_target)\n",
        "\n",
        "validation_target=to_categorical(validation_target,num_classes = 5)\n",
        "\n",
        "test_target = np.array(test_target)\n",
        "\n",
        "test_target=to_categorical(test_target,num_classes = 5)"
      ],
      "execution_count": null,
      "outputs": []
    },
    {
      "cell_type": "code",
      "metadata": {
        "colab": {
          "base_uri": "https://localhost:8080/"
        },
        "id": "XZyGcTl8wEzp",
        "outputId": "56cccf82-fd9f-4854-b85e-f0686f7be60c"
      },
      "source": [
        "print(sequences[0].shape)\n",
        "train_target.shape"
      ],
      "execution_count": null,
      "outputs": [
        {
          "output_type": "stream",
          "text": [
            "(100, 24)\n"
          ],
          "name": "stdout"
        },
        {
          "output_type": "execute_result",
          "data": {
            "text/plain": [
              "(7758, 5)"
            ]
          },
          "metadata": {
            "tags": []
          },
          "execution_count": 15
        }
      ]
    },
    {
      "cell_type": "code",
      "metadata": {
        "id": "y8WRNbq5qvQF"
      },
      "source": [
        "seq_len = 100\n",
        "seq_bredth=24\n",
        "model = Sequential()\n",
        "model.add(LSTM(256, input_shape=(seq_len, seq_bredth)))\n",
        "model.add(Dense(128, activation='relu'))\n",
        "model.add(Dense(5, activation='softmax'))"
      ],
      "execution_count": null,
      "outputs": []
    },
    {
      "cell_type": "code",
      "metadata": {
        "colab": {
          "base_uri": "https://localhost:8080/"
        },
        "id": "QxyARlhftUFZ",
        "outputId": "fccbd479-ef81-4aff-9ce3-83c671944882"
      },
      "source": [
        "model.summary()"
      ],
      "execution_count": null,
      "outputs": [
        {
          "output_type": "stream",
          "text": [
            "Model: \"sequential_2\"\n",
            "_________________________________________________________________\n",
            "Layer (type)                 Output Shape              Param #   \n",
            "=================================================================\n",
            "lstm_2 (LSTM)                (None, 256)               287744    \n",
            "_________________________________________________________________\n",
            "dense_4 (Dense)              (None, 128)               32896     \n",
            "_________________________________________________________________\n",
            "dense_5 (Dense)              (None, 5)                 645       \n",
            "=================================================================\n",
            "Total params: 321,285\n",
            "Trainable params: 321,285\n",
            "Non-trainable params: 0\n",
            "_________________________________________________________________\n"
          ],
          "name": "stdout"
        }
      ]
    },
    {
      "cell_type": "code",
      "metadata": {
        "id": "XL0kTXHum9CN"
      },
      "source": [
        "train=tf.convert_to_tensor(train, np.float32)\n",
        "train_target=tf.convert_to_tensor(train_target, np.float32)\n",
        "validation=tf.convert_to_tensor(validation, np.float32)\n",
        "validation_target=tf.convert_to_tensor(validation_target, np.float32)\n",
        "test=tf.convert_to_tensor(test, np.float32)\n",
        "test_target=tf.convert_to_tensor(test_target, np.float32)\n"
      ],
      "execution_count": null,
      "outputs": []
    },
    {
      "cell_type": "code",
      "metadata": {
        "colab": {
          "base_uri": "https://localhost:8080/"
        },
        "id": "HxVTmHzvtYmj",
        "outputId": "3941b932-5d51-4bf2-8ae8-bfd61efedcab"
      },
      "source": [
        "adam = Adam(lr=0.001)\n",
        "checkpoint_filepath = '/content/drive/MyDrive/building1/mod26marchPart1_100slots_lstm/best_model.pkl'\n",
        "chk = ModelCheckpoint(filepath=checkpoint_filepath, monitor='val_accuracy', save_best_only=True, mode='max', verbose=1)\n",
        "model.compile(loss='categorical_crossentropy', optimizer=adam, metrics=['accuracy'])\n",
        "history=model.fit(train, train_target, epochs=200, batch_size=128, callbacks=[chk], validation_data=(validation,validation_target))"
      ],
      "execution_count": null,
      "outputs": [
        {
          "output_type": "stream",
          "text": [
            "Epoch 1/200\n",
            "61/61 [==============================] - 48s 755ms/step - loss: 1.1120 - accuracy: 0.4938 - val_loss: 0.7089 - val_accuracy: 0.6715\n",
            "\n",
            "Epoch 00001: val_accuracy improved from -inf to 0.67148, saving model to /content/drive/MyDrive/building1/mod26marchPart1_100slots_lstm/best_model.pkl\n"
          ],
          "name": "stdout"
        },
        {
          "output_type": "stream",
          "text": [
            "WARNING:absl:Found untraced functions such as lstm_cell_2_layer_call_fn, lstm_cell_2_layer_call_and_return_conditional_losses, lstm_cell_2_layer_call_fn, lstm_cell_2_layer_call_and_return_conditional_losses, lstm_cell_2_layer_call_and_return_conditional_losses while saving (showing 5 of 5). These functions will not be directly callable after loading.\n",
            "WARNING:absl:Found untraced functions such as lstm_cell_2_layer_call_fn, lstm_cell_2_layer_call_and_return_conditional_losses, lstm_cell_2_layer_call_fn, lstm_cell_2_layer_call_and_return_conditional_losses, lstm_cell_2_layer_call_and_return_conditional_losses while saving (showing 5 of 5). These functions will not be directly callable after loading.\n"
          ],
          "name": "stderr"
        },
        {
          "output_type": "stream",
          "text": [
            "INFO:tensorflow:Assets written to: /content/drive/MyDrive/building1/mod26marchPart1_100slots_lstm/best_model.pkl/assets\n"
          ],
          "name": "stdout"
        },
        {
          "output_type": "stream",
          "text": [
            "INFO:tensorflow:Assets written to: /content/drive/MyDrive/building1/mod26marchPart1_100slots_lstm/best_model.pkl/assets\n"
          ],
          "name": "stderr"
        },
        {
          "output_type": "stream",
          "text": [
            "Epoch 2/200\n",
            "61/61 [==============================] - 46s 761ms/step - loss: 0.6491 - accuracy: 0.6938 - val_loss: 0.5842 - val_accuracy: 0.7310\n",
            "\n",
            "Epoch 00002: val_accuracy improved from 0.67148 to 0.73105, saving model to /content/drive/MyDrive/building1/mod26marchPart1_100slots_lstm/best_model.pkl\n"
          ],
          "name": "stdout"
        },
        {
          "output_type": "stream",
          "text": [
            "WARNING:absl:Found untraced functions such as lstm_cell_2_layer_call_fn, lstm_cell_2_layer_call_and_return_conditional_losses, lstm_cell_2_layer_call_fn, lstm_cell_2_layer_call_and_return_conditional_losses, lstm_cell_2_layer_call_and_return_conditional_losses while saving (showing 5 of 5). These functions will not be directly callable after loading.\n",
            "WARNING:absl:Found untraced functions such as lstm_cell_2_layer_call_fn, lstm_cell_2_layer_call_and_return_conditional_losses, lstm_cell_2_layer_call_fn, lstm_cell_2_layer_call_and_return_conditional_losses, lstm_cell_2_layer_call_and_return_conditional_losses while saving (showing 5 of 5). These functions will not be directly callable after loading.\n"
          ],
          "name": "stderr"
        },
        {
          "output_type": "stream",
          "text": [
            "INFO:tensorflow:Assets written to: /content/drive/MyDrive/building1/mod26marchPart1_100slots_lstm/best_model.pkl/assets\n"
          ],
          "name": "stdout"
        },
        {
          "output_type": "stream",
          "text": [
            "INFO:tensorflow:Assets written to: /content/drive/MyDrive/building1/mod26marchPart1_100slots_lstm/best_model.pkl/assets\n"
          ],
          "name": "stderr"
        },
        {
          "output_type": "stream",
          "text": [
            "Epoch 3/200\n",
            "61/61 [==============================] - 46s 760ms/step - loss: 0.5148 - accuracy: 0.7663 - val_loss: 0.4717 - val_accuracy: 0.7996\n",
            "\n",
            "Epoch 00003: val_accuracy improved from 0.73105 to 0.79964, saving model to /content/drive/MyDrive/building1/mod26marchPart1_100slots_lstm/best_model.pkl\n"
          ],
          "name": "stdout"
        },
        {
          "output_type": "stream",
          "text": [
            "WARNING:absl:Found untraced functions such as lstm_cell_2_layer_call_fn, lstm_cell_2_layer_call_and_return_conditional_losses, lstm_cell_2_layer_call_fn, lstm_cell_2_layer_call_and_return_conditional_losses, lstm_cell_2_layer_call_and_return_conditional_losses while saving (showing 5 of 5). These functions will not be directly callable after loading.\n",
            "WARNING:absl:Found untraced functions such as lstm_cell_2_layer_call_fn, lstm_cell_2_layer_call_and_return_conditional_losses, lstm_cell_2_layer_call_fn, lstm_cell_2_layer_call_and_return_conditional_losses, lstm_cell_2_layer_call_and_return_conditional_losses while saving (showing 5 of 5). These functions will not be directly callable after loading.\n"
          ],
          "name": "stderr"
        },
        {
          "output_type": "stream",
          "text": [
            "INFO:tensorflow:Assets written to: /content/drive/MyDrive/building1/mod26marchPart1_100slots_lstm/best_model.pkl/assets\n"
          ],
          "name": "stdout"
        },
        {
          "output_type": "stream",
          "text": [
            "INFO:tensorflow:Assets written to: /content/drive/MyDrive/building1/mod26marchPart1_100slots_lstm/best_model.pkl/assets\n"
          ],
          "name": "stderr"
        },
        {
          "output_type": "stream",
          "text": [
            "Epoch 4/200\n",
            "61/61 [==============================] - 47s 768ms/step - loss: 0.4503 - accuracy: 0.7927 - val_loss: 0.4290 - val_accuracy: 0.7948\n",
            "\n",
            "Epoch 00004: val_accuracy did not improve from 0.79964\n",
            "Epoch 5/200\n",
            "61/61 [==============================] - 48s 780ms/step - loss: 0.4067 - accuracy: 0.8239 - val_loss: 0.3848 - val_accuracy: 0.8261\n",
            "\n",
            "Epoch 00005: val_accuracy improved from 0.79964 to 0.82611, saving model to /content/drive/MyDrive/building1/mod26marchPart1_100slots_lstm/best_model.pkl\n"
          ],
          "name": "stdout"
        },
        {
          "output_type": "stream",
          "text": [
            "WARNING:absl:Found untraced functions such as lstm_cell_2_layer_call_fn, lstm_cell_2_layer_call_and_return_conditional_losses, lstm_cell_2_layer_call_fn, lstm_cell_2_layer_call_and_return_conditional_losses, lstm_cell_2_layer_call_and_return_conditional_losses while saving (showing 5 of 5). These functions will not be directly callable after loading.\n",
            "WARNING:absl:Found untraced functions such as lstm_cell_2_layer_call_fn, lstm_cell_2_layer_call_and_return_conditional_losses, lstm_cell_2_layer_call_fn, lstm_cell_2_layer_call_and_return_conditional_losses, lstm_cell_2_layer_call_and_return_conditional_losses while saving (showing 5 of 5). These functions will not be directly callable after loading.\n"
          ],
          "name": "stderr"
        },
        {
          "output_type": "stream",
          "text": [
            "INFO:tensorflow:Assets written to: /content/drive/MyDrive/building1/mod26marchPart1_100slots_lstm/best_model.pkl/assets\n"
          ],
          "name": "stdout"
        },
        {
          "output_type": "stream",
          "text": [
            "INFO:tensorflow:Assets written to: /content/drive/MyDrive/building1/mod26marchPart1_100slots_lstm/best_model.pkl/assets\n"
          ],
          "name": "stderr"
        },
        {
          "output_type": "stream",
          "text": [
            "Epoch 6/200\n",
            "61/61 [==============================] - 45s 746ms/step - loss: 0.3870 - accuracy: 0.8192 - val_loss: 0.3641 - val_accuracy: 0.8369\n",
            "\n",
            "Epoch 00006: val_accuracy improved from 0.82611 to 0.83694, saving model to /content/drive/MyDrive/building1/mod26marchPart1_100slots_lstm/best_model.pkl\n"
          ],
          "name": "stdout"
        },
        {
          "output_type": "stream",
          "text": [
            "WARNING:absl:Found untraced functions such as lstm_cell_2_layer_call_fn, lstm_cell_2_layer_call_and_return_conditional_losses, lstm_cell_2_layer_call_fn, lstm_cell_2_layer_call_and_return_conditional_losses, lstm_cell_2_layer_call_and_return_conditional_losses while saving (showing 5 of 5). These functions will not be directly callable after loading.\n",
            "WARNING:absl:Found untraced functions such as lstm_cell_2_layer_call_fn, lstm_cell_2_layer_call_and_return_conditional_losses, lstm_cell_2_layer_call_fn, lstm_cell_2_layer_call_and_return_conditional_losses, lstm_cell_2_layer_call_and_return_conditional_losses while saving (showing 5 of 5). These functions will not be directly callable after loading.\n"
          ],
          "name": "stderr"
        },
        {
          "output_type": "stream",
          "text": [
            "INFO:tensorflow:Assets written to: /content/drive/MyDrive/building1/mod26marchPart1_100slots_lstm/best_model.pkl/assets\n"
          ],
          "name": "stdout"
        },
        {
          "output_type": "stream",
          "text": [
            "INFO:tensorflow:Assets written to: /content/drive/MyDrive/building1/mod26marchPart1_100slots_lstm/best_model.pkl/assets\n"
          ],
          "name": "stderr"
        },
        {
          "output_type": "stream",
          "text": [
            "Epoch 7/200\n",
            "61/61 [==============================] - 45s 741ms/step - loss: 0.3593 - accuracy: 0.8449 - val_loss: 0.3983 - val_accuracy: 0.8315\n",
            "\n",
            "Epoch 00007: val_accuracy did not improve from 0.83694\n",
            "Epoch 8/200\n",
            "61/61 [==============================] - 45s 743ms/step - loss: 0.3662 - accuracy: 0.8331 - val_loss: 0.3375 - val_accuracy: 0.8484\n",
            "\n",
            "Epoch 00008: val_accuracy improved from 0.83694 to 0.84838, saving model to /content/drive/MyDrive/building1/mod26marchPart1_100slots_lstm/best_model.pkl\n"
          ],
          "name": "stdout"
        },
        {
          "output_type": "stream",
          "text": [
            "WARNING:absl:Found untraced functions such as lstm_cell_2_layer_call_fn, lstm_cell_2_layer_call_and_return_conditional_losses, lstm_cell_2_layer_call_fn, lstm_cell_2_layer_call_and_return_conditional_losses, lstm_cell_2_layer_call_and_return_conditional_losses while saving (showing 5 of 5). These functions will not be directly callable after loading.\n",
            "WARNING:absl:Found untraced functions such as lstm_cell_2_layer_call_fn, lstm_cell_2_layer_call_and_return_conditional_losses, lstm_cell_2_layer_call_fn, lstm_cell_2_layer_call_and_return_conditional_losses, lstm_cell_2_layer_call_and_return_conditional_losses while saving (showing 5 of 5). These functions will not be directly callable after loading.\n"
          ],
          "name": "stderr"
        },
        {
          "output_type": "stream",
          "text": [
            "INFO:tensorflow:Assets written to: /content/drive/MyDrive/building1/mod26marchPart1_100slots_lstm/best_model.pkl/assets\n"
          ],
          "name": "stdout"
        },
        {
          "output_type": "stream",
          "text": [
            "INFO:tensorflow:Assets written to: /content/drive/MyDrive/building1/mod26marchPart1_100slots_lstm/best_model.pkl/assets\n"
          ],
          "name": "stderr"
        },
        {
          "output_type": "stream",
          "text": [
            "Epoch 9/200\n",
            "61/61 [==============================] - 45s 736ms/step - loss: 0.3291 - accuracy: 0.8532 - val_loss: 0.3419 - val_accuracy: 0.8544\n",
            "\n",
            "Epoch 00009: val_accuracy improved from 0.84838 to 0.85439, saving model to /content/drive/MyDrive/building1/mod26marchPart1_100slots_lstm/best_model.pkl\n"
          ],
          "name": "stdout"
        },
        {
          "output_type": "stream",
          "text": [
            "WARNING:absl:Found untraced functions such as lstm_cell_2_layer_call_fn, lstm_cell_2_layer_call_and_return_conditional_losses, lstm_cell_2_layer_call_fn, lstm_cell_2_layer_call_and_return_conditional_losses, lstm_cell_2_layer_call_and_return_conditional_losses while saving (showing 5 of 5). These functions will not be directly callable after loading.\n",
            "WARNING:absl:Found untraced functions such as lstm_cell_2_layer_call_fn, lstm_cell_2_layer_call_and_return_conditional_losses, lstm_cell_2_layer_call_fn, lstm_cell_2_layer_call_and_return_conditional_losses, lstm_cell_2_layer_call_and_return_conditional_losses while saving (showing 5 of 5). These functions will not be directly callable after loading.\n"
          ],
          "name": "stderr"
        },
        {
          "output_type": "stream",
          "text": [
            "INFO:tensorflow:Assets written to: /content/drive/MyDrive/building1/mod26marchPart1_100slots_lstm/best_model.pkl/assets\n"
          ],
          "name": "stdout"
        },
        {
          "output_type": "stream",
          "text": [
            "INFO:tensorflow:Assets written to: /content/drive/MyDrive/building1/mod26marchPart1_100slots_lstm/best_model.pkl/assets\n"
          ],
          "name": "stderr"
        },
        {
          "output_type": "stream",
          "text": [
            "Epoch 10/200\n",
            "61/61 [==============================] - 45s 737ms/step - loss: 0.3130 - accuracy: 0.8580 - val_loss: 0.3122 - val_accuracy: 0.8574\n",
            "\n",
            "Epoch 00010: val_accuracy improved from 0.85439 to 0.85740, saving model to /content/drive/MyDrive/building1/mod26marchPart1_100slots_lstm/best_model.pkl\n"
          ],
          "name": "stdout"
        },
        {
          "output_type": "stream",
          "text": [
            "WARNING:absl:Found untraced functions such as lstm_cell_2_layer_call_fn, lstm_cell_2_layer_call_and_return_conditional_losses, lstm_cell_2_layer_call_fn, lstm_cell_2_layer_call_and_return_conditional_losses, lstm_cell_2_layer_call_and_return_conditional_losses while saving (showing 5 of 5). These functions will not be directly callable after loading.\n",
            "WARNING:absl:Found untraced functions such as lstm_cell_2_layer_call_fn, lstm_cell_2_layer_call_and_return_conditional_losses, lstm_cell_2_layer_call_fn, lstm_cell_2_layer_call_and_return_conditional_losses, lstm_cell_2_layer_call_and_return_conditional_losses while saving (showing 5 of 5). These functions will not be directly callable after loading.\n"
          ],
          "name": "stderr"
        },
        {
          "output_type": "stream",
          "text": [
            "INFO:tensorflow:Assets written to: /content/drive/MyDrive/building1/mod26marchPart1_100slots_lstm/best_model.pkl/assets\n"
          ],
          "name": "stdout"
        },
        {
          "output_type": "stream",
          "text": [
            "INFO:tensorflow:Assets written to: /content/drive/MyDrive/building1/mod26marchPart1_100slots_lstm/best_model.pkl/assets\n"
          ],
          "name": "stderr"
        },
        {
          "output_type": "stream",
          "text": [
            "Epoch 11/200\n",
            "61/61 [==============================] - 45s 732ms/step - loss: 0.2999 - accuracy: 0.8684 - val_loss: 0.4216 - val_accuracy: 0.8159\n",
            "\n",
            "Epoch 00011: val_accuracy did not improve from 0.85740\n",
            "Epoch 12/200\n",
            "61/61 [==============================] - 44s 728ms/step - loss: 0.3437 - accuracy: 0.8475 - val_loss: 0.3337 - val_accuracy: 0.8448\n",
            "\n",
            "Epoch 00012: val_accuracy did not improve from 0.85740\n",
            "Epoch 13/200\n",
            "61/61 [==============================] - 45s 734ms/step - loss: 0.2893 - accuracy: 0.8703 - val_loss: 0.3619 - val_accuracy: 0.8363\n",
            "\n",
            "Epoch 00013: val_accuracy did not improve from 0.85740\n",
            "Epoch 14/200\n",
            "61/61 [==============================] - 44s 729ms/step - loss: 0.3143 - accuracy: 0.8589 - val_loss: 0.3305 - val_accuracy: 0.8646\n",
            "\n",
            "Epoch 00014: val_accuracy improved from 0.85740 to 0.86462, saving model to /content/drive/MyDrive/building1/mod26marchPart1_100slots_lstm/best_model.pkl\n"
          ],
          "name": "stdout"
        },
        {
          "output_type": "stream",
          "text": [
            "WARNING:absl:Found untraced functions such as lstm_cell_2_layer_call_fn, lstm_cell_2_layer_call_and_return_conditional_losses, lstm_cell_2_layer_call_fn, lstm_cell_2_layer_call_and_return_conditional_losses, lstm_cell_2_layer_call_and_return_conditional_losses while saving (showing 5 of 5). These functions will not be directly callable after loading.\n",
            "WARNING:absl:Found untraced functions such as lstm_cell_2_layer_call_fn, lstm_cell_2_layer_call_and_return_conditional_losses, lstm_cell_2_layer_call_fn, lstm_cell_2_layer_call_and_return_conditional_losses, lstm_cell_2_layer_call_and_return_conditional_losses while saving (showing 5 of 5). These functions will not be directly callable after loading.\n"
          ],
          "name": "stderr"
        },
        {
          "output_type": "stream",
          "text": [
            "INFO:tensorflow:Assets written to: /content/drive/MyDrive/building1/mod26marchPart1_100slots_lstm/best_model.pkl/assets\n"
          ],
          "name": "stdout"
        },
        {
          "output_type": "stream",
          "text": [
            "INFO:tensorflow:Assets written to: /content/drive/MyDrive/building1/mod26marchPart1_100slots_lstm/best_model.pkl/assets\n"
          ],
          "name": "stderr"
        },
        {
          "output_type": "stream",
          "text": [
            "Epoch 15/200\n",
            "61/61 [==============================] - 44s 727ms/step - loss: 0.3017 - accuracy: 0.8660 - val_loss: 0.3189 - val_accuracy: 0.8478\n",
            "\n",
            "Epoch 00015: val_accuracy did not improve from 0.86462\n",
            "Epoch 16/200\n",
            "61/61 [==============================] - 45s 730ms/step - loss: 0.2910 - accuracy: 0.8715 - val_loss: 0.3247 - val_accuracy: 0.8532\n",
            "\n",
            "Epoch 00016: val_accuracy did not improve from 0.86462\n",
            "Epoch 17/200\n",
            "61/61 [==============================] - 44s 726ms/step - loss: 0.2929 - accuracy: 0.8674 - val_loss: 0.3517 - val_accuracy: 0.8544\n",
            "\n",
            "Epoch 00017: val_accuracy did not improve from 0.86462\n",
            "Epoch 18/200\n",
            "61/61 [==============================] - 44s 724ms/step - loss: 0.2844 - accuracy: 0.8712 - val_loss: 0.2946 - val_accuracy: 0.8785\n",
            "\n",
            "Epoch 00018: val_accuracy improved from 0.86462 to 0.87846, saving model to /content/drive/MyDrive/building1/mod26marchPart1_100slots_lstm/best_model.pkl\n"
          ],
          "name": "stdout"
        },
        {
          "output_type": "stream",
          "text": [
            "WARNING:absl:Found untraced functions such as lstm_cell_2_layer_call_fn, lstm_cell_2_layer_call_and_return_conditional_losses, lstm_cell_2_layer_call_fn, lstm_cell_2_layer_call_and_return_conditional_losses, lstm_cell_2_layer_call_and_return_conditional_losses while saving (showing 5 of 5). These functions will not be directly callable after loading.\n",
            "WARNING:absl:Found untraced functions such as lstm_cell_2_layer_call_fn, lstm_cell_2_layer_call_and_return_conditional_losses, lstm_cell_2_layer_call_fn, lstm_cell_2_layer_call_and_return_conditional_losses, lstm_cell_2_layer_call_and_return_conditional_losses while saving (showing 5 of 5). These functions will not be directly callable after loading.\n"
          ],
          "name": "stderr"
        },
        {
          "output_type": "stream",
          "text": [
            "INFO:tensorflow:Assets written to: /content/drive/MyDrive/building1/mod26marchPart1_100slots_lstm/best_model.pkl/assets\n"
          ],
          "name": "stdout"
        },
        {
          "output_type": "stream",
          "text": [
            "INFO:tensorflow:Assets written to: /content/drive/MyDrive/building1/mod26marchPart1_100slots_lstm/best_model.pkl/assets\n"
          ],
          "name": "stderr"
        },
        {
          "output_type": "stream",
          "text": [
            "Epoch 19/200\n",
            "61/61 [==============================] - 45s 738ms/step - loss: 0.2726 - accuracy: 0.8790 - val_loss: 0.2644 - val_accuracy: 0.8839\n",
            "\n",
            "Epoch 00019: val_accuracy improved from 0.87846 to 0.88387, saving model to /content/drive/MyDrive/building1/mod26marchPart1_100slots_lstm/best_model.pkl\n"
          ],
          "name": "stdout"
        },
        {
          "output_type": "stream",
          "text": [
            "WARNING:absl:Found untraced functions such as lstm_cell_2_layer_call_fn, lstm_cell_2_layer_call_and_return_conditional_losses, lstm_cell_2_layer_call_fn, lstm_cell_2_layer_call_and_return_conditional_losses, lstm_cell_2_layer_call_and_return_conditional_losses while saving (showing 5 of 5). These functions will not be directly callable after loading.\n",
            "WARNING:absl:Found untraced functions such as lstm_cell_2_layer_call_fn, lstm_cell_2_layer_call_and_return_conditional_losses, lstm_cell_2_layer_call_fn, lstm_cell_2_layer_call_and_return_conditional_losses, lstm_cell_2_layer_call_and_return_conditional_losses while saving (showing 5 of 5). These functions will not be directly callable after loading.\n"
          ],
          "name": "stderr"
        },
        {
          "output_type": "stream",
          "text": [
            "INFO:tensorflow:Assets written to: /content/drive/MyDrive/building1/mod26marchPart1_100slots_lstm/best_model.pkl/assets\n"
          ],
          "name": "stdout"
        },
        {
          "output_type": "stream",
          "text": [
            "INFO:tensorflow:Assets written to: /content/drive/MyDrive/building1/mod26marchPart1_100slots_lstm/best_model.pkl/assets\n"
          ],
          "name": "stderr"
        },
        {
          "output_type": "stream",
          "text": [
            "Epoch 20/200\n",
            "61/61 [==============================] - 45s 735ms/step - loss: 0.2559 - accuracy: 0.8854 - val_loss: 0.2877 - val_accuracy: 0.8712\n",
            "\n",
            "Epoch 00020: val_accuracy did not improve from 0.88387\n",
            "Epoch 21/200\n",
            "61/61 [==============================] - 45s 731ms/step - loss: 0.2573 - accuracy: 0.8887 - val_loss: 0.2762 - val_accuracy: 0.8857\n",
            "\n",
            "Epoch 00021: val_accuracy improved from 0.88387 to 0.88568, saving model to /content/drive/MyDrive/building1/mod26marchPart1_100slots_lstm/best_model.pkl\n"
          ],
          "name": "stdout"
        },
        {
          "output_type": "stream",
          "text": [
            "WARNING:absl:Found untraced functions such as lstm_cell_2_layer_call_fn, lstm_cell_2_layer_call_and_return_conditional_losses, lstm_cell_2_layer_call_fn, lstm_cell_2_layer_call_and_return_conditional_losses, lstm_cell_2_layer_call_and_return_conditional_losses while saving (showing 5 of 5). These functions will not be directly callable after loading.\n",
            "WARNING:absl:Found untraced functions such as lstm_cell_2_layer_call_fn, lstm_cell_2_layer_call_and_return_conditional_losses, lstm_cell_2_layer_call_fn, lstm_cell_2_layer_call_and_return_conditional_losses, lstm_cell_2_layer_call_and_return_conditional_losses while saving (showing 5 of 5). These functions will not be directly callable after loading.\n"
          ],
          "name": "stderr"
        },
        {
          "output_type": "stream",
          "text": [
            "INFO:tensorflow:Assets written to: /content/drive/MyDrive/building1/mod26marchPart1_100slots_lstm/best_model.pkl/assets\n"
          ],
          "name": "stdout"
        },
        {
          "output_type": "stream",
          "text": [
            "INFO:tensorflow:Assets written to: /content/drive/MyDrive/building1/mod26marchPart1_100slots_lstm/best_model.pkl/assets\n"
          ],
          "name": "stderr"
        },
        {
          "output_type": "stream",
          "text": [
            "Epoch 22/200\n",
            "61/61 [==============================] - 45s 740ms/step - loss: 0.2504 - accuracy: 0.8912 - val_loss: 0.3378 - val_accuracy: 0.8532\n",
            "\n",
            "Epoch 00022: val_accuracy did not improve from 0.88568\n",
            "Epoch 23/200\n",
            "61/61 [==============================] - 46s 752ms/step - loss: 0.2674 - accuracy: 0.8833 - val_loss: 0.2890 - val_accuracy: 0.8839\n",
            "\n",
            "Epoch 00023: val_accuracy did not improve from 0.88568\n",
            "Epoch 24/200\n",
            "61/61 [==============================] - 44s 730ms/step - loss: 0.2874 - accuracy: 0.8775 - val_loss: 0.3063 - val_accuracy: 0.8652\n",
            "\n",
            "Epoch 00024: val_accuracy did not improve from 0.88568\n",
            "Epoch 25/200\n",
            "61/61 [==============================] - 44s 729ms/step - loss: 0.2666 - accuracy: 0.8828 - val_loss: 0.2510 - val_accuracy: 0.8857\n",
            "\n",
            "Epoch 00025: val_accuracy did not improve from 0.88568\n",
            "Epoch 26/200\n",
            "61/61 [==============================] - 45s 738ms/step - loss: 0.2402 - accuracy: 0.8955 - val_loss: 0.2700 - val_accuracy: 0.8694\n",
            "\n",
            "Epoch 00026: val_accuracy did not improve from 0.88568\n",
            "Epoch 27/200\n",
            "61/61 [==============================] - 45s 731ms/step - loss: 0.2611 - accuracy: 0.8869 - val_loss: 0.2537 - val_accuracy: 0.8893\n",
            "\n",
            "Epoch 00027: val_accuracy improved from 0.88568 to 0.88929, saving model to /content/drive/MyDrive/building1/mod26marchPart1_100slots_lstm/best_model.pkl\n"
          ],
          "name": "stdout"
        },
        {
          "output_type": "stream",
          "text": [
            "WARNING:absl:Found untraced functions such as lstm_cell_2_layer_call_fn, lstm_cell_2_layer_call_and_return_conditional_losses, lstm_cell_2_layer_call_fn, lstm_cell_2_layer_call_and_return_conditional_losses, lstm_cell_2_layer_call_and_return_conditional_losses while saving (showing 5 of 5). These functions will not be directly callable after loading.\n",
            "WARNING:absl:Found untraced functions such as lstm_cell_2_layer_call_fn, lstm_cell_2_layer_call_and_return_conditional_losses, lstm_cell_2_layer_call_fn, lstm_cell_2_layer_call_and_return_conditional_losses, lstm_cell_2_layer_call_and_return_conditional_losses while saving (showing 5 of 5). These functions will not be directly callable after loading.\n"
          ],
          "name": "stderr"
        },
        {
          "output_type": "stream",
          "text": [
            "INFO:tensorflow:Assets written to: /content/drive/MyDrive/building1/mod26marchPart1_100slots_lstm/best_model.pkl/assets\n"
          ],
          "name": "stdout"
        },
        {
          "output_type": "stream",
          "text": [
            "INFO:tensorflow:Assets written to: /content/drive/MyDrive/building1/mod26marchPart1_100slots_lstm/best_model.pkl/assets\n"
          ],
          "name": "stderr"
        },
        {
          "output_type": "stream",
          "text": [
            "Epoch 28/200\n",
            "61/61 [==============================] - 45s 734ms/step - loss: 0.2215 - accuracy: 0.9084 - val_loss: 0.2588 - val_accuracy: 0.8869\n",
            "\n",
            "Epoch 00028: val_accuracy did not improve from 0.88929\n",
            "Epoch 29/200\n",
            "61/61 [==============================] - 45s 731ms/step - loss: 0.2155 - accuracy: 0.9056 - val_loss: 0.2440 - val_accuracy: 0.8911\n",
            "\n",
            "Epoch 00029: val_accuracy improved from 0.88929 to 0.89110, saving model to /content/drive/MyDrive/building1/mod26marchPart1_100slots_lstm/best_model.pkl\n"
          ],
          "name": "stdout"
        },
        {
          "output_type": "stream",
          "text": [
            "WARNING:absl:Found untraced functions such as lstm_cell_2_layer_call_fn, lstm_cell_2_layer_call_and_return_conditional_losses, lstm_cell_2_layer_call_fn, lstm_cell_2_layer_call_and_return_conditional_losses, lstm_cell_2_layer_call_and_return_conditional_losses while saving (showing 5 of 5). These functions will not be directly callable after loading.\n",
            "WARNING:absl:Found untraced functions such as lstm_cell_2_layer_call_fn, lstm_cell_2_layer_call_and_return_conditional_losses, lstm_cell_2_layer_call_fn, lstm_cell_2_layer_call_and_return_conditional_losses, lstm_cell_2_layer_call_and_return_conditional_losses while saving (showing 5 of 5). These functions will not be directly callable after loading.\n"
          ],
          "name": "stderr"
        },
        {
          "output_type": "stream",
          "text": [
            "INFO:tensorflow:Assets written to: /content/drive/MyDrive/building1/mod26marchPart1_100slots_lstm/best_model.pkl/assets\n"
          ],
          "name": "stdout"
        },
        {
          "output_type": "stream",
          "text": [
            "INFO:tensorflow:Assets written to: /content/drive/MyDrive/building1/mod26marchPart1_100slots_lstm/best_model.pkl/assets\n"
          ],
          "name": "stderr"
        },
        {
          "output_type": "stream",
          "text": [
            "Epoch 30/200\n",
            "61/61 [==============================] - 45s 737ms/step - loss: 0.2125 - accuracy: 0.9065 - val_loss: 0.2610 - val_accuracy: 0.8821\n",
            "\n",
            "Epoch 00030: val_accuracy did not improve from 0.89110\n",
            "Epoch 31/200\n",
            "61/61 [==============================] - 44s 728ms/step - loss: 0.2106 - accuracy: 0.9024 - val_loss: 0.2489 - val_accuracy: 0.8905\n",
            "\n",
            "Epoch 00031: val_accuracy did not improve from 0.89110\n",
            "Epoch 32/200\n",
            "61/61 [==============================] - 45s 735ms/step - loss: 0.2153 - accuracy: 0.9035 - val_loss: 0.3209 - val_accuracy: 0.8484\n",
            "\n",
            "Epoch 00032: val_accuracy did not improve from 0.89110\n",
            "Epoch 33/200\n",
            "61/61 [==============================] - 45s 741ms/step - loss: 0.2372 - accuracy: 0.8960 - val_loss: 0.2461 - val_accuracy: 0.8899\n",
            "\n",
            "Epoch 00033: val_accuracy did not improve from 0.89110\n",
            "Epoch 34/200\n",
            "61/61 [==============================] - 45s 733ms/step - loss: 0.2021 - accuracy: 0.9121 - val_loss: 0.2921 - val_accuracy: 0.8761\n",
            "\n",
            "Epoch 00034: val_accuracy did not improve from 0.89110\n",
            "Epoch 35/200\n",
            "61/61 [==============================] - 44s 729ms/step - loss: 0.2574 - accuracy: 0.8930 - val_loss: 0.2449 - val_accuracy: 0.8947\n",
            "\n",
            "Epoch 00035: val_accuracy improved from 0.89110 to 0.89471, saving model to /content/drive/MyDrive/building1/mod26marchPart1_100slots_lstm/best_model.pkl\n"
          ],
          "name": "stdout"
        },
        {
          "output_type": "stream",
          "text": [
            "WARNING:absl:Found untraced functions such as lstm_cell_2_layer_call_fn, lstm_cell_2_layer_call_and_return_conditional_losses, lstm_cell_2_layer_call_fn, lstm_cell_2_layer_call_and_return_conditional_losses, lstm_cell_2_layer_call_and_return_conditional_losses while saving (showing 5 of 5). These functions will not be directly callable after loading.\n",
            "WARNING:absl:Found untraced functions such as lstm_cell_2_layer_call_fn, lstm_cell_2_layer_call_and_return_conditional_losses, lstm_cell_2_layer_call_fn, lstm_cell_2_layer_call_and_return_conditional_losses, lstm_cell_2_layer_call_and_return_conditional_losses while saving (showing 5 of 5). These functions will not be directly callable after loading.\n"
          ],
          "name": "stderr"
        },
        {
          "output_type": "stream",
          "text": [
            "INFO:tensorflow:Assets written to: /content/drive/MyDrive/building1/mod26marchPart1_100slots_lstm/best_model.pkl/assets\n"
          ],
          "name": "stdout"
        },
        {
          "output_type": "stream",
          "text": [
            "INFO:tensorflow:Assets written to: /content/drive/MyDrive/building1/mod26marchPart1_100slots_lstm/best_model.pkl/assets\n"
          ],
          "name": "stderr"
        },
        {
          "output_type": "stream",
          "text": [
            "Epoch 36/200\n",
            "61/61 [==============================] - 45s 737ms/step - loss: 0.1926 - accuracy: 0.9159 - val_loss: 0.2267 - val_accuracy: 0.9025\n",
            "\n",
            "Epoch 00036: val_accuracy improved from 0.89471 to 0.90253, saving model to /content/drive/MyDrive/building1/mod26marchPart1_100slots_lstm/best_model.pkl\n"
          ],
          "name": "stdout"
        },
        {
          "output_type": "stream",
          "text": [
            "WARNING:absl:Found untraced functions such as lstm_cell_2_layer_call_fn, lstm_cell_2_layer_call_and_return_conditional_losses, lstm_cell_2_layer_call_fn, lstm_cell_2_layer_call_and_return_conditional_losses, lstm_cell_2_layer_call_and_return_conditional_losses while saving (showing 5 of 5). These functions will not be directly callable after loading.\n",
            "WARNING:absl:Found untraced functions such as lstm_cell_2_layer_call_fn, lstm_cell_2_layer_call_and_return_conditional_losses, lstm_cell_2_layer_call_fn, lstm_cell_2_layer_call_and_return_conditional_losses, lstm_cell_2_layer_call_and_return_conditional_losses while saving (showing 5 of 5). These functions will not be directly callable after loading.\n"
          ],
          "name": "stderr"
        },
        {
          "output_type": "stream",
          "text": [
            "INFO:tensorflow:Assets written to: /content/drive/MyDrive/building1/mod26marchPart1_100slots_lstm/best_model.pkl/assets\n"
          ],
          "name": "stdout"
        },
        {
          "output_type": "stream",
          "text": [
            "INFO:tensorflow:Assets written to: /content/drive/MyDrive/building1/mod26marchPart1_100slots_lstm/best_model.pkl/assets\n"
          ],
          "name": "stderr"
        },
        {
          "output_type": "stream",
          "text": [
            "Epoch 37/200\n",
            "61/61 [==============================] - 45s 741ms/step - loss: 0.1854 - accuracy: 0.9181 - val_loss: 0.2130 - val_accuracy: 0.9025\n",
            "\n",
            "Epoch 00037: val_accuracy did not improve from 0.90253\n",
            "Epoch 38/200\n",
            "61/61 [==============================] - 45s 733ms/step - loss: 0.2006 - accuracy: 0.9132 - val_loss: 0.2380 - val_accuracy: 0.8977\n",
            "\n",
            "Epoch 00038: val_accuracy did not improve from 0.90253\n",
            "Epoch 39/200\n",
            "61/61 [==============================] - 45s 742ms/step - loss: 0.2046 - accuracy: 0.9123 - val_loss: 0.4628 - val_accuracy: 0.8490\n",
            "\n",
            "Epoch 00039: val_accuracy did not improve from 0.90253\n",
            "Epoch 40/200\n",
            "61/61 [==============================] - 45s 739ms/step - loss: 0.2718 - accuracy: 0.8907 - val_loss: 0.2472 - val_accuracy: 0.8911\n",
            "\n",
            "Epoch 00040: val_accuracy did not improve from 0.90253\n",
            "Epoch 41/200\n",
            "61/61 [==============================] - 45s 738ms/step - loss: 0.1889 - accuracy: 0.9150 - val_loss: 0.3929 - val_accuracy: 0.8628\n",
            "\n",
            "Epoch 00041: val_accuracy did not improve from 0.90253\n",
            "Epoch 42/200\n",
            "61/61 [==============================] - 45s 737ms/step - loss: 0.2633 - accuracy: 0.8888 - val_loss: 0.2281 - val_accuracy: 0.9049\n",
            "\n",
            "Epoch 00042: val_accuracy improved from 0.90253 to 0.90493, saving model to /content/drive/MyDrive/building1/mod26marchPart1_100slots_lstm/best_model.pkl\n"
          ],
          "name": "stdout"
        },
        {
          "output_type": "stream",
          "text": [
            "WARNING:absl:Found untraced functions such as lstm_cell_2_layer_call_fn, lstm_cell_2_layer_call_and_return_conditional_losses, lstm_cell_2_layer_call_fn, lstm_cell_2_layer_call_and_return_conditional_losses, lstm_cell_2_layer_call_and_return_conditional_losses while saving (showing 5 of 5). These functions will not be directly callable after loading.\n",
            "WARNING:absl:Found untraced functions such as lstm_cell_2_layer_call_fn, lstm_cell_2_layer_call_and_return_conditional_losses, lstm_cell_2_layer_call_fn, lstm_cell_2_layer_call_and_return_conditional_losses, lstm_cell_2_layer_call_and_return_conditional_losses while saving (showing 5 of 5). These functions will not be directly callable after loading.\n"
          ],
          "name": "stderr"
        },
        {
          "output_type": "stream",
          "text": [
            "INFO:tensorflow:Assets written to: /content/drive/MyDrive/building1/mod26marchPart1_100slots_lstm/best_model.pkl/assets\n"
          ],
          "name": "stdout"
        },
        {
          "output_type": "stream",
          "text": [
            "INFO:tensorflow:Assets written to: /content/drive/MyDrive/building1/mod26marchPart1_100slots_lstm/best_model.pkl/assets\n"
          ],
          "name": "stderr"
        },
        {
          "output_type": "stream",
          "text": [
            "Epoch 43/200\n",
            "61/61 [==============================] - 45s 733ms/step - loss: 0.1753 - accuracy: 0.9237 - val_loss: 0.2340 - val_accuracy: 0.9043\n",
            "\n",
            "Epoch 00043: val_accuracy did not improve from 0.90493\n",
            "Epoch 44/200\n",
            "61/61 [==============================] - 44s 726ms/step - loss: 0.1937 - accuracy: 0.9173 - val_loss: 0.2601 - val_accuracy: 0.8887\n",
            "\n",
            "Epoch 00044: val_accuracy did not improve from 0.90493\n",
            "Epoch 45/200\n",
            "61/61 [==============================] - 44s 727ms/step - loss: 0.1758 - accuracy: 0.9240 - val_loss: 0.2369 - val_accuracy: 0.8947\n",
            "\n",
            "Epoch 00045: val_accuracy did not improve from 0.90493\n",
            "Epoch 46/200\n",
            "61/61 [==============================] - 47s 765ms/step - loss: 0.1666 - accuracy: 0.9294 - val_loss: 0.2181 - val_accuracy: 0.9031\n",
            "\n",
            "Epoch 00046: val_accuracy did not improve from 0.90493\n",
            "Epoch 47/200\n",
            "61/61 [==============================] - 45s 740ms/step - loss: 0.1634 - accuracy: 0.9323 - val_loss: 0.2200 - val_accuracy: 0.8989\n",
            "\n",
            "Epoch 00047: val_accuracy did not improve from 0.90493\n",
            "Epoch 48/200\n",
            "61/61 [==============================] - 45s 745ms/step - loss: 0.1726 - accuracy: 0.9284 - val_loss: 0.2441 - val_accuracy: 0.8935\n",
            "\n",
            "Epoch 00048: val_accuracy did not improve from 0.90493\n",
            "Epoch 49/200\n",
            "61/61 [==============================] - 45s 742ms/step - loss: 0.1804 - accuracy: 0.9235 - val_loss: 0.3007 - val_accuracy: 0.8755\n",
            "\n",
            "Epoch 00049: val_accuracy did not improve from 0.90493\n",
            "Epoch 50/200\n",
            "61/61 [==============================] - 45s 745ms/step - loss: 0.2405 - accuracy: 0.8972 - val_loss: 0.2206 - val_accuracy: 0.9031\n",
            "\n",
            "Epoch 00050: val_accuracy did not improve from 0.90493\n",
            "Epoch 51/200\n",
            "61/61 [==============================] - 45s 742ms/step - loss: 0.1827 - accuracy: 0.9182 - val_loss: 0.2229 - val_accuracy: 0.9043\n",
            "\n",
            "Epoch 00051: val_accuracy did not improve from 0.90493\n",
            "Epoch 52/200\n",
            "61/61 [==============================] - 45s 745ms/step - loss: 0.1737 - accuracy: 0.9194 - val_loss: 0.2904 - val_accuracy: 0.8833\n",
            "\n",
            "Epoch 00052: val_accuracy did not improve from 0.90493\n",
            "Epoch 53/200\n",
            "61/61 [==============================] - 45s 741ms/step - loss: 0.1818 - accuracy: 0.9212 - val_loss: 0.2170 - val_accuracy: 0.9061\n",
            "\n",
            "Epoch 00053: val_accuracy improved from 0.90493 to 0.90614, saving model to /content/drive/MyDrive/building1/mod26marchPart1_100slots_lstm/best_model.pkl\n"
          ],
          "name": "stdout"
        },
        {
          "output_type": "stream",
          "text": [
            "WARNING:absl:Found untraced functions such as lstm_cell_2_layer_call_fn, lstm_cell_2_layer_call_and_return_conditional_losses, lstm_cell_2_layer_call_fn, lstm_cell_2_layer_call_and_return_conditional_losses, lstm_cell_2_layer_call_and_return_conditional_losses while saving (showing 5 of 5). These functions will not be directly callable after loading.\n",
            "WARNING:absl:Found untraced functions such as lstm_cell_2_layer_call_fn, lstm_cell_2_layer_call_and_return_conditional_losses, lstm_cell_2_layer_call_fn, lstm_cell_2_layer_call_and_return_conditional_losses, lstm_cell_2_layer_call_and_return_conditional_losses while saving (showing 5 of 5). These functions will not be directly callable after loading.\n"
          ],
          "name": "stderr"
        },
        {
          "output_type": "stream",
          "text": [
            "INFO:tensorflow:Assets written to: /content/drive/MyDrive/building1/mod26marchPart1_100slots_lstm/best_model.pkl/assets\n"
          ],
          "name": "stdout"
        },
        {
          "output_type": "stream",
          "text": [
            "INFO:tensorflow:Assets written to: /content/drive/MyDrive/building1/mod26marchPart1_100slots_lstm/best_model.pkl/assets\n"
          ],
          "name": "stderr"
        },
        {
          "output_type": "stream",
          "text": [
            "Epoch 54/200\n",
            "61/61 [==============================] - 44s 729ms/step - loss: 0.1522 - accuracy: 0.9324 - val_loss: 0.2013 - val_accuracy: 0.9134\n",
            "\n",
            "Epoch 00054: val_accuracy improved from 0.90614 to 0.91336, saving model to /content/drive/MyDrive/building1/mod26marchPart1_100slots_lstm/best_model.pkl\n"
          ],
          "name": "stdout"
        },
        {
          "output_type": "stream",
          "text": [
            "WARNING:absl:Found untraced functions such as lstm_cell_2_layer_call_fn, lstm_cell_2_layer_call_and_return_conditional_losses, lstm_cell_2_layer_call_fn, lstm_cell_2_layer_call_and_return_conditional_losses, lstm_cell_2_layer_call_and_return_conditional_losses while saving (showing 5 of 5). These functions will not be directly callable after loading.\n",
            "WARNING:absl:Found untraced functions such as lstm_cell_2_layer_call_fn, lstm_cell_2_layer_call_and_return_conditional_losses, lstm_cell_2_layer_call_fn, lstm_cell_2_layer_call_and_return_conditional_losses, lstm_cell_2_layer_call_and_return_conditional_losses while saving (showing 5 of 5). These functions will not be directly callable after loading.\n"
          ],
          "name": "stderr"
        },
        {
          "output_type": "stream",
          "text": [
            "INFO:tensorflow:Assets written to: /content/drive/MyDrive/building1/mod26marchPart1_100slots_lstm/best_model.pkl/assets\n"
          ],
          "name": "stdout"
        },
        {
          "output_type": "stream",
          "text": [
            "INFO:tensorflow:Assets written to: /content/drive/MyDrive/building1/mod26marchPart1_100slots_lstm/best_model.pkl/assets\n"
          ],
          "name": "stderr"
        },
        {
          "output_type": "stream",
          "text": [
            "Epoch 55/200\n",
            "61/61 [==============================] - 45s 736ms/step - loss: 0.1502 - accuracy: 0.9352 - val_loss: 0.2766 - val_accuracy: 0.8815\n",
            "\n",
            "Epoch 00055: val_accuracy did not improve from 0.91336\n",
            "Epoch 56/200\n",
            "61/61 [==============================] - 45s 742ms/step - loss: 0.1943 - accuracy: 0.9135 - val_loss: 0.2241 - val_accuracy: 0.9037\n",
            "\n",
            "Epoch 00056: val_accuracy did not improve from 0.91336\n",
            "Epoch 57/200\n",
            "61/61 [==============================] - 45s 745ms/step - loss: 0.1668 - accuracy: 0.9290 - val_loss: 0.2045 - val_accuracy: 0.9097\n",
            "\n",
            "Epoch 00057: val_accuracy did not improve from 0.91336\n",
            "Epoch 58/200\n",
            "61/61 [==============================] - 45s 745ms/step - loss: 0.1692 - accuracy: 0.9283 - val_loss: 0.2705 - val_accuracy: 0.8887\n",
            "\n",
            "Epoch 00058: val_accuracy did not improve from 0.91336\n",
            "Epoch 59/200\n",
            "61/61 [==============================] - 45s 745ms/step - loss: 0.1683 - accuracy: 0.9286 - val_loss: 0.2112 - val_accuracy: 0.9085\n",
            "\n",
            "Epoch 00059: val_accuracy did not improve from 0.91336\n",
            "Epoch 60/200\n",
            "61/61 [==============================] - 45s 744ms/step - loss: 0.1484 - accuracy: 0.9360 - val_loss: 0.2149 - val_accuracy: 0.9103\n",
            "\n",
            "Epoch 00060: val_accuracy did not improve from 0.91336\n",
            "Epoch 61/200\n",
            "61/61 [==============================] - 45s 743ms/step - loss: 0.1625 - accuracy: 0.9257 - val_loss: 0.2454 - val_accuracy: 0.8899\n",
            "\n",
            "Epoch 00061: val_accuracy did not improve from 0.91336\n",
            "Epoch 62/200\n",
            "61/61 [==============================] - 46s 747ms/step - loss: 0.1651 - accuracy: 0.9271 - val_loss: 0.2833 - val_accuracy: 0.8767\n",
            "\n",
            "Epoch 00062: val_accuracy did not improve from 0.91336\n",
            "Epoch 63/200\n",
            "61/61 [==============================] - 45s 744ms/step - loss: 0.1509 - accuracy: 0.9317 - val_loss: 0.2150 - val_accuracy: 0.9061\n",
            "\n",
            "Epoch 00063: val_accuracy did not improve from 0.91336\n",
            "Epoch 64/200\n",
            "61/61 [==============================] - 45s 746ms/step - loss: 0.1417 - accuracy: 0.9418 - val_loss: 0.2256 - val_accuracy: 0.9037\n",
            "\n",
            "Epoch 00064: val_accuracy did not improve from 0.91336\n",
            "Epoch 65/200\n",
            "61/61 [==============================] - 45s 746ms/step - loss: 0.1410 - accuracy: 0.9390 - val_loss: 0.2118 - val_accuracy: 0.9134\n",
            "\n",
            "Epoch 00065: val_accuracy did not improve from 0.91336\n",
            "Epoch 66/200\n",
            "61/61 [==============================] - 46s 747ms/step - loss: 0.1268 - accuracy: 0.9467 - val_loss: 0.2422 - val_accuracy: 0.8995\n",
            "\n",
            "Epoch 00066: val_accuracy did not improve from 0.91336\n",
            "Epoch 67/200\n",
            "61/61 [==============================] - 46s 751ms/step - loss: 0.1438 - accuracy: 0.9345 - val_loss: 0.2294 - val_accuracy: 0.9037\n",
            "\n",
            "Epoch 00067: val_accuracy did not improve from 0.91336\n",
            "Epoch 68/200\n",
            "61/61 [==============================] - 46s 751ms/step - loss: 0.1386 - accuracy: 0.9421 - val_loss: 0.2439 - val_accuracy: 0.8971\n",
            "\n",
            "Epoch 00068: val_accuracy did not improve from 0.91336\n",
            "Epoch 69/200\n",
            "61/61 [==============================] - 46s 761ms/step - loss: 0.1687 - accuracy: 0.9302 - val_loss: 0.2123 - val_accuracy: 0.9164\n",
            "\n",
            "Epoch 00069: val_accuracy improved from 0.91336 to 0.91637, saving model to /content/drive/MyDrive/building1/mod26marchPart1_100slots_lstm/best_model.pkl\n"
          ],
          "name": "stdout"
        },
        {
          "output_type": "stream",
          "text": [
            "WARNING:absl:Found untraced functions such as lstm_cell_2_layer_call_fn, lstm_cell_2_layer_call_and_return_conditional_losses, lstm_cell_2_layer_call_fn, lstm_cell_2_layer_call_and_return_conditional_losses, lstm_cell_2_layer_call_and_return_conditional_losses while saving (showing 5 of 5). These functions will not be directly callable after loading.\n",
            "WARNING:absl:Found untraced functions such as lstm_cell_2_layer_call_fn, lstm_cell_2_layer_call_and_return_conditional_losses, lstm_cell_2_layer_call_fn, lstm_cell_2_layer_call_and_return_conditional_losses, lstm_cell_2_layer_call_and_return_conditional_losses while saving (showing 5 of 5). These functions will not be directly callable after loading.\n"
          ],
          "name": "stderr"
        },
        {
          "output_type": "stream",
          "text": [
            "INFO:tensorflow:Assets written to: /content/drive/MyDrive/building1/mod26marchPart1_100slots_lstm/best_model.pkl/assets\n"
          ],
          "name": "stdout"
        },
        {
          "output_type": "stream",
          "text": [
            "INFO:tensorflow:Assets written to: /content/drive/MyDrive/building1/mod26marchPart1_100slots_lstm/best_model.pkl/assets\n"
          ],
          "name": "stderr"
        },
        {
          "output_type": "stream",
          "text": [
            "Epoch 70/200\n",
            "61/61 [==============================] - 46s 749ms/step - loss: 0.1207 - accuracy: 0.9484 - val_loss: 0.2093 - val_accuracy: 0.9122\n",
            "\n",
            "Epoch 00070: val_accuracy did not improve from 0.91637\n",
            "Epoch 71/200\n",
            "61/61 [==============================] - 46s 752ms/step - loss: 0.1627 - accuracy: 0.9262 - val_loss: 0.2077 - val_accuracy: 0.9170\n",
            "\n",
            "Epoch 00071: val_accuracy improved from 0.91637 to 0.91697, saving model to /content/drive/MyDrive/building1/mod26marchPart1_100slots_lstm/best_model.pkl\n"
          ],
          "name": "stdout"
        },
        {
          "output_type": "stream",
          "text": [
            "WARNING:absl:Found untraced functions such as lstm_cell_2_layer_call_fn, lstm_cell_2_layer_call_and_return_conditional_losses, lstm_cell_2_layer_call_fn, lstm_cell_2_layer_call_and_return_conditional_losses, lstm_cell_2_layer_call_and_return_conditional_losses while saving (showing 5 of 5). These functions will not be directly callable after loading.\n",
            "WARNING:absl:Found untraced functions such as lstm_cell_2_layer_call_fn, lstm_cell_2_layer_call_and_return_conditional_losses, lstm_cell_2_layer_call_fn, lstm_cell_2_layer_call_and_return_conditional_losses, lstm_cell_2_layer_call_and_return_conditional_losses while saving (showing 5 of 5). These functions will not be directly callable after loading.\n"
          ],
          "name": "stderr"
        },
        {
          "output_type": "stream",
          "text": [
            "INFO:tensorflow:Assets written to: /content/drive/MyDrive/building1/mod26marchPart1_100slots_lstm/best_model.pkl/assets\n"
          ],
          "name": "stdout"
        },
        {
          "output_type": "stream",
          "text": [
            "INFO:tensorflow:Assets written to: /content/drive/MyDrive/building1/mod26marchPart1_100slots_lstm/best_model.pkl/assets\n"
          ],
          "name": "stderr"
        },
        {
          "output_type": "stream",
          "text": [
            "Epoch 72/200\n",
            "61/61 [==============================] - 46s 758ms/step - loss: 0.1388 - accuracy: 0.9401 - val_loss: 0.2221 - val_accuracy: 0.9073\n",
            "\n",
            "Epoch 00072: val_accuracy did not improve from 0.91697\n",
            "Epoch 73/200\n",
            "61/61 [==============================] - 46s 754ms/step - loss: 0.1414 - accuracy: 0.9347 - val_loss: 0.1954 - val_accuracy: 0.9182\n",
            "\n",
            "Epoch 00073: val_accuracy improved from 0.91697 to 0.91817, saving model to /content/drive/MyDrive/building1/mod26marchPart1_100slots_lstm/best_model.pkl\n"
          ],
          "name": "stdout"
        },
        {
          "output_type": "stream",
          "text": [
            "WARNING:absl:Found untraced functions such as lstm_cell_2_layer_call_fn, lstm_cell_2_layer_call_and_return_conditional_losses, lstm_cell_2_layer_call_fn, lstm_cell_2_layer_call_and_return_conditional_losses, lstm_cell_2_layer_call_and_return_conditional_losses while saving (showing 5 of 5). These functions will not be directly callable after loading.\n",
            "WARNING:absl:Found untraced functions such as lstm_cell_2_layer_call_fn, lstm_cell_2_layer_call_and_return_conditional_losses, lstm_cell_2_layer_call_fn, lstm_cell_2_layer_call_and_return_conditional_losses, lstm_cell_2_layer_call_and_return_conditional_losses while saving (showing 5 of 5). These functions will not be directly callable after loading.\n"
          ],
          "name": "stderr"
        },
        {
          "output_type": "stream",
          "text": [
            "INFO:tensorflow:Assets written to: /content/drive/MyDrive/building1/mod26marchPart1_100slots_lstm/best_model.pkl/assets\n"
          ],
          "name": "stdout"
        },
        {
          "output_type": "stream",
          "text": [
            "INFO:tensorflow:Assets written to: /content/drive/MyDrive/building1/mod26marchPart1_100slots_lstm/best_model.pkl/assets\n"
          ],
          "name": "stderr"
        },
        {
          "output_type": "stream",
          "text": [
            "Epoch 74/200\n",
            "61/61 [==============================] - 46s 750ms/step - loss: 0.1082 - accuracy: 0.9548 - val_loss: 0.3403 - val_accuracy: 0.8604\n",
            "\n",
            "Epoch 00074: val_accuracy did not improve from 0.91817\n",
            "Epoch 75/200\n",
            "61/61 [==============================] - 46s 750ms/step - loss: 0.1640 - accuracy: 0.9325 - val_loss: 0.2189 - val_accuracy: 0.9110\n",
            "\n",
            "Epoch 00075: val_accuracy did not improve from 0.91817\n",
            "Epoch 76/200\n",
            "61/61 [==============================] - 45s 740ms/step - loss: 0.1194 - accuracy: 0.9470 - val_loss: 0.2183 - val_accuracy: 0.9067\n",
            "\n",
            "Epoch 00076: val_accuracy did not improve from 0.91817\n",
            "Epoch 77/200\n",
            "61/61 [==============================] - 46s 755ms/step - loss: 0.1276 - accuracy: 0.9466 - val_loss: 0.2209 - val_accuracy: 0.9091\n",
            "\n",
            "Epoch 00077: val_accuracy did not improve from 0.91817\n",
            "Epoch 78/200\n",
            "61/61 [==============================] - 46s 747ms/step - loss: 0.1047 - accuracy: 0.9583 - val_loss: 0.2563 - val_accuracy: 0.9037\n",
            "\n",
            "Epoch 00078: val_accuracy did not improve from 0.91817\n",
            "Epoch 79/200\n",
            "61/61 [==============================] - 46s 749ms/step - loss: 0.1486 - accuracy: 0.9367 - val_loss: 0.2855 - val_accuracy: 0.8929\n",
            "\n",
            "Epoch 00079: val_accuracy did not improve from 0.91817\n",
            "Epoch 80/200\n",
            "61/61 [==============================] - 46s 756ms/step - loss: 0.1238 - accuracy: 0.9451 - val_loss: 0.2208 - val_accuracy: 0.9103\n",
            "\n",
            "Epoch 00080: val_accuracy did not improve from 0.91817\n",
            "Epoch 81/200\n",
            "61/61 [==============================] - 45s 745ms/step - loss: 0.1027 - accuracy: 0.9551 - val_loss: 0.2091 - val_accuracy: 0.9140\n",
            "\n",
            "Epoch 00081: val_accuracy did not improve from 0.91817\n",
            "Epoch 82/200\n",
            "61/61 [==============================] - 46s 754ms/step - loss: 0.1652 - accuracy: 0.9308 - val_loss: 0.2251 - val_accuracy: 0.9110\n",
            "\n",
            "Epoch 00082: val_accuracy did not improve from 0.91817\n",
            "Epoch 83/200\n",
            "61/61 [==============================] - 46s 761ms/step - loss: 0.1126 - accuracy: 0.9540 - val_loss: 0.2075 - val_accuracy: 0.9146\n",
            "\n",
            "Epoch 00083: val_accuracy did not improve from 0.91817\n",
            "Epoch 84/200\n",
            "61/61 [==============================] - 46s 756ms/step - loss: 0.1053 - accuracy: 0.9564 - val_loss: 0.2435 - val_accuracy: 0.9164\n",
            "\n",
            "Epoch 00084: val_accuracy did not improve from 0.91817\n",
            "Epoch 85/200\n",
            "61/61 [==============================] - 46s 758ms/step - loss: 0.1114 - accuracy: 0.9530 - val_loss: 0.2227 - val_accuracy: 0.9116\n",
            "\n",
            "Epoch 00085: val_accuracy did not improve from 0.91817\n",
            "Epoch 86/200\n",
            "61/61 [==============================] - 46s 760ms/step - loss: 0.1108 - accuracy: 0.9539 - val_loss: 0.2289 - val_accuracy: 0.9091\n",
            "\n",
            "Epoch 00086: val_accuracy did not improve from 0.91817\n",
            "Epoch 87/200\n",
            "61/61 [==============================] - 46s 755ms/step - loss: 0.1084 - accuracy: 0.9549 - val_loss: 0.2479 - val_accuracy: 0.9013\n",
            "\n",
            "Epoch 00087: val_accuracy did not improve from 0.91817\n",
            "Epoch 88/200\n",
            "61/61 [==============================] - 46s 752ms/step - loss: 0.1277 - accuracy: 0.9458 - val_loss: 0.2318 - val_accuracy: 0.9164\n",
            "\n",
            "Epoch 00088: val_accuracy did not improve from 0.91817\n",
            "Epoch 89/200\n",
            "61/61 [==============================] - 46s 752ms/step - loss: 0.1261 - accuracy: 0.9478 - val_loss: 0.2814 - val_accuracy: 0.8881\n",
            "\n",
            "Epoch 00089: val_accuracy did not improve from 0.91817\n",
            "Epoch 90/200\n",
            "61/61 [==============================] - 46s 748ms/step - loss: 0.1269 - accuracy: 0.9462 - val_loss: 0.3469 - val_accuracy: 0.8797\n",
            "\n",
            "Epoch 00090: val_accuracy did not improve from 0.91817\n",
            "Epoch 91/200\n",
            "61/61 [==============================] - 46s 750ms/step - loss: 0.1523 - accuracy: 0.9368 - val_loss: 0.3722 - val_accuracy: 0.8809\n",
            "\n",
            "Epoch 00091: val_accuracy did not improve from 0.91817\n",
            "Epoch 92/200\n",
            "61/61 [==============================] - 45s 746ms/step - loss: 0.1588 - accuracy: 0.9427 - val_loss: 0.2466 - val_accuracy: 0.9085\n",
            "\n",
            "Epoch 00092: val_accuracy did not improve from 0.91817\n",
            "Epoch 93/200\n",
            "61/61 [==============================] - 46s 749ms/step - loss: 0.1210 - accuracy: 0.9520 - val_loss: 0.2276 - val_accuracy: 0.9067\n",
            "\n",
            "Epoch 00093: val_accuracy did not improve from 0.91817\n",
            "Epoch 94/200\n",
            "61/61 [==============================] - 46s 747ms/step - loss: 0.0946 - accuracy: 0.9637 - val_loss: 0.2401 - val_accuracy: 0.9073\n",
            "\n",
            "Epoch 00094: val_accuracy did not improve from 0.91817\n",
            "Epoch 95/200\n",
            "61/61 [==============================] - 45s 744ms/step - loss: 0.1412 - accuracy: 0.9426 - val_loss: 0.2242 - val_accuracy: 0.9085\n",
            "\n",
            "Epoch 00095: val_accuracy did not improve from 0.91817\n",
            "Epoch 96/200\n",
            "61/61 [==============================] - 45s 744ms/step - loss: 0.1031 - accuracy: 0.9572 - val_loss: 0.2189 - val_accuracy: 0.9158\n",
            "\n",
            "Epoch 00096: val_accuracy did not improve from 0.91817\n",
            "Epoch 97/200\n",
            "61/61 [==============================] - 45s 742ms/step - loss: 0.1011 - accuracy: 0.9599 - val_loss: 0.3560 - val_accuracy: 0.8748\n",
            "\n",
            "Epoch 00097: val_accuracy did not improve from 0.91817\n",
            "Epoch 98/200\n",
            "61/61 [==============================] - 45s 745ms/step - loss: 0.1267 - accuracy: 0.9468 - val_loss: 0.2265 - val_accuracy: 0.9176\n",
            "\n",
            "Epoch 00098: val_accuracy did not improve from 0.91817\n",
            "Epoch 99/200\n",
            "61/61 [==============================] - 45s 744ms/step - loss: 0.0807 - accuracy: 0.9676 - val_loss: 0.2088 - val_accuracy: 0.9152\n",
            "\n",
            "Epoch 00099: val_accuracy did not improve from 0.91817\n",
            "Epoch 100/200\n",
            "61/61 [==============================] - 45s 740ms/step - loss: 0.0969 - accuracy: 0.9608 - val_loss: 0.2894 - val_accuracy: 0.8947\n",
            "\n",
            "Epoch 00100: val_accuracy did not improve from 0.91817\n",
            "Epoch 101/200\n",
            "61/61 [==============================] - 45s 742ms/step - loss: 0.1293 - accuracy: 0.9485 - val_loss: 0.2063 - val_accuracy: 0.9200\n",
            "\n",
            "Epoch 00101: val_accuracy improved from 0.91817 to 0.91998, saving model to /content/drive/MyDrive/building1/mod26marchPart1_100slots_lstm/best_model.pkl\n"
          ],
          "name": "stdout"
        },
        {
          "output_type": "stream",
          "text": [
            "WARNING:absl:Found untraced functions such as lstm_cell_2_layer_call_fn, lstm_cell_2_layer_call_and_return_conditional_losses, lstm_cell_2_layer_call_fn, lstm_cell_2_layer_call_and_return_conditional_losses, lstm_cell_2_layer_call_and_return_conditional_losses while saving (showing 5 of 5). These functions will not be directly callable after loading.\n",
            "WARNING:absl:Found untraced functions such as lstm_cell_2_layer_call_fn, lstm_cell_2_layer_call_and_return_conditional_losses, lstm_cell_2_layer_call_fn, lstm_cell_2_layer_call_and_return_conditional_losses, lstm_cell_2_layer_call_and_return_conditional_losses while saving (showing 5 of 5). These functions will not be directly callable after loading.\n"
          ],
          "name": "stderr"
        },
        {
          "output_type": "stream",
          "text": [
            "INFO:tensorflow:Assets written to: /content/drive/MyDrive/building1/mod26marchPart1_100slots_lstm/best_model.pkl/assets\n"
          ],
          "name": "stdout"
        },
        {
          "output_type": "stream",
          "text": [
            "INFO:tensorflow:Assets written to: /content/drive/MyDrive/building1/mod26marchPart1_100slots_lstm/best_model.pkl/assets\n"
          ],
          "name": "stderr"
        },
        {
          "output_type": "stream",
          "text": [
            "Epoch 102/200\n",
            "61/61 [==============================] - 45s 735ms/step - loss: 0.1278 - accuracy: 0.9463 - val_loss: 0.2492 - val_accuracy: 0.9097\n",
            "\n",
            "Epoch 00102: val_accuracy did not improve from 0.91998\n",
            "Epoch 103/200\n",
            "61/61 [==============================] - 45s 733ms/step - loss: 0.0871 - accuracy: 0.9636 - val_loss: 0.2157 - val_accuracy: 0.9170\n",
            "\n",
            "Epoch 00103: val_accuracy did not improve from 0.91998\n",
            "Epoch 104/200\n",
            "61/61 [==============================] - 45s 738ms/step - loss: 0.0852 - accuracy: 0.9636 - val_loss: 0.3259 - val_accuracy: 0.8881\n",
            "\n",
            "Epoch 00104: val_accuracy did not improve from 0.91998\n",
            "Epoch 105/200\n",
            "61/61 [==============================] - 45s 734ms/step - loss: 0.1148 - accuracy: 0.9535 - val_loss: 0.2119 - val_accuracy: 0.9176\n",
            "\n",
            "Epoch 00105: val_accuracy did not improve from 0.91998\n",
            "Epoch 106/200\n",
            "61/61 [==============================] - 45s 737ms/step - loss: 0.0850 - accuracy: 0.9638 - val_loss: 0.2173 - val_accuracy: 0.9152\n",
            "\n",
            "Epoch 00106: val_accuracy did not improve from 0.91998\n",
            "Epoch 107/200\n",
            "61/61 [==============================] - 45s 737ms/step - loss: 0.1218 - accuracy: 0.9474 - val_loss: 0.2415 - val_accuracy: 0.9140\n",
            "\n",
            "Epoch 00107: val_accuracy did not improve from 0.91998\n",
            "Epoch 108/200\n",
            "61/61 [==============================] - 46s 750ms/step - loss: 0.0836 - accuracy: 0.9653 - val_loss: 0.2688 - val_accuracy: 0.9037\n",
            "\n",
            "Epoch 00108: val_accuracy did not improve from 0.91998\n",
            "Epoch 109/200\n",
            "61/61 [==============================] - 45s 735ms/step - loss: 0.0904 - accuracy: 0.9640 - val_loss: 0.2099 - val_accuracy: 0.9152\n",
            "\n",
            "Epoch 00109: val_accuracy did not improve from 0.91998\n",
            "Epoch 110/200\n",
            "61/61 [==============================] - 45s 741ms/step - loss: 0.0701 - accuracy: 0.9731 - val_loss: 0.2467 - val_accuracy: 0.9194\n",
            "\n",
            "Epoch 00110: val_accuracy did not improve from 0.91998\n",
            "Epoch 111/200\n",
            "61/61 [==============================] - 45s 744ms/step - loss: 0.0855 - accuracy: 0.9671 - val_loss: 0.2363 - val_accuracy: 0.9146\n",
            "\n",
            "Epoch 00111: val_accuracy did not improve from 0.91998\n",
            "Epoch 112/200\n",
            "61/61 [==============================] - 46s 752ms/step - loss: 0.1014 - accuracy: 0.9579 - val_loss: 0.3890 - val_accuracy: 0.8730\n",
            "\n",
            "Epoch 00112: val_accuracy did not improve from 0.91998\n",
            "Epoch 113/200\n",
            "61/61 [==============================] - 46s 749ms/step - loss: 0.1611 - accuracy: 0.9345 - val_loss: 0.2668 - val_accuracy: 0.9061\n",
            "\n",
            "Epoch 00113: val_accuracy did not improve from 0.91998\n",
            "Epoch 114/200\n",
            "61/61 [==============================] - 46s 751ms/step - loss: 0.0859 - accuracy: 0.9651 - val_loss: 0.2007 - val_accuracy: 0.9224\n",
            "\n",
            "Epoch 00114: val_accuracy improved from 0.91998 to 0.92238, saving model to /content/drive/MyDrive/building1/mod26marchPart1_100slots_lstm/best_model.pkl\n"
          ],
          "name": "stdout"
        },
        {
          "output_type": "stream",
          "text": [
            "WARNING:absl:Found untraced functions such as lstm_cell_2_layer_call_fn, lstm_cell_2_layer_call_and_return_conditional_losses, lstm_cell_2_layer_call_fn, lstm_cell_2_layer_call_and_return_conditional_losses, lstm_cell_2_layer_call_and_return_conditional_losses while saving (showing 5 of 5). These functions will not be directly callable after loading.\n",
            "WARNING:absl:Found untraced functions such as lstm_cell_2_layer_call_fn, lstm_cell_2_layer_call_and_return_conditional_losses, lstm_cell_2_layer_call_fn, lstm_cell_2_layer_call_and_return_conditional_losses, lstm_cell_2_layer_call_and_return_conditional_losses while saving (showing 5 of 5). These functions will not be directly callable after loading.\n"
          ],
          "name": "stderr"
        },
        {
          "output_type": "stream",
          "text": [
            "INFO:tensorflow:Assets written to: /content/drive/MyDrive/building1/mod26marchPart1_100slots_lstm/best_model.pkl/assets\n"
          ],
          "name": "stdout"
        },
        {
          "output_type": "stream",
          "text": [
            "INFO:tensorflow:Assets written to: /content/drive/MyDrive/building1/mod26marchPart1_100slots_lstm/best_model.pkl/assets\n"
          ],
          "name": "stderr"
        },
        {
          "output_type": "stream",
          "text": [
            "Epoch 115/200\n",
            "61/61 [==============================] - 47s 764ms/step - loss: 0.0780 - accuracy: 0.9671 - val_loss: 0.2152 - val_accuracy: 0.9212\n",
            "\n",
            "Epoch 00115: val_accuracy did not improve from 0.92238\n",
            "Epoch 116/200\n",
            "61/61 [==============================] - 46s 760ms/step - loss: 0.0764 - accuracy: 0.9708 - val_loss: 0.2284 - val_accuracy: 0.9206\n",
            "\n",
            "Epoch 00116: val_accuracy did not improve from 0.92238\n",
            "Epoch 117/200\n",
            "61/61 [==============================] - 46s 759ms/step - loss: 0.0936 - accuracy: 0.9624 - val_loss: 0.2401 - val_accuracy: 0.9152\n",
            "\n",
            "Epoch 00117: val_accuracy did not improve from 0.92238\n",
            "Epoch 118/200\n",
            "61/61 [==============================] - 46s 751ms/step - loss: 0.0918 - accuracy: 0.9601 - val_loss: 0.2229 - val_accuracy: 0.9200\n",
            "\n",
            "Epoch 00118: val_accuracy did not improve from 0.92238\n",
            "Epoch 119/200\n",
            "61/61 [==============================] - 46s 750ms/step - loss: 0.0756 - accuracy: 0.9709 - val_loss: 0.2160 - val_accuracy: 0.9206\n",
            "\n",
            "Epoch 00119: val_accuracy did not improve from 0.92238\n",
            "Epoch 120/200\n",
            "61/61 [==============================] - 46s 749ms/step - loss: 0.0917 - accuracy: 0.9633 - val_loss: 0.3510 - val_accuracy: 0.8730\n",
            "\n",
            "Epoch 00120: val_accuracy did not improve from 0.92238\n",
            "Epoch 121/200\n",
            "61/61 [==============================] - 46s 758ms/step - loss: 0.1901 - accuracy: 0.9201 - val_loss: 0.2421 - val_accuracy: 0.9140\n",
            "\n",
            "Epoch 00121: val_accuracy did not improve from 0.92238\n",
            "Epoch 122/200\n",
            "61/61 [==============================] - 46s 756ms/step - loss: 0.0878 - accuracy: 0.9636 - val_loss: 0.2186 - val_accuracy: 0.9182\n",
            "\n",
            "Epoch 00122: val_accuracy did not improve from 0.92238\n",
            "Epoch 123/200\n",
            "61/61 [==============================] - 46s 756ms/step - loss: 0.0630 - accuracy: 0.9772 - val_loss: 0.2206 - val_accuracy: 0.9218\n",
            "\n",
            "Epoch 00123: val_accuracy did not improve from 0.92238\n",
            "Epoch 124/200\n",
            "61/61 [==============================] - 46s 758ms/step - loss: 0.0543 - accuracy: 0.9813 - val_loss: 0.2222 - val_accuracy: 0.9224\n",
            "\n",
            "Epoch 00124: val_accuracy did not improve from 0.92238\n",
            "Epoch 125/200\n",
            "61/61 [==============================] - 46s 756ms/step - loss: 0.0667 - accuracy: 0.9745 - val_loss: 0.2224 - val_accuracy: 0.9224\n",
            "\n",
            "Epoch 00125: val_accuracy did not improve from 0.92238\n",
            "Epoch 126/200\n",
            "61/61 [==============================] - 46s 752ms/step - loss: 0.0698 - accuracy: 0.9736 - val_loss: 0.2518 - val_accuracy: 0.9091\n",
            "\n",
            "Epoch 00126: val_accuracy did not improve from 0.92238\n",
            "Epoch 127/200\n",
            "61/61 [==============================] - 46s 756ms/step - loss: 0.0874 - accuracy: 0.9625 - val_loss: 0.2403 - val_accuracy: 0.9230\n",
            "\n",
            "Epoch 00127: val_accuracy improved from 0.92238 to 0.92298, saving model to /content/drive/MyDrive/building1/mod26marchPart1_100slots_lstm/best_model.pkl\n"
          ],
          "name": "stdout"
        },
        {
          "output_type": "stream",
          "text": [
            "WARNING:absl:Found untraced functions such as lstm_cell_2_layer_call_fn, lstm_cell_2_layer_call_and_return_conditional_losses, lstm_cell_2_layer_call_fn, lstm_cell_2_layer_call_and_return_conditional_losses, lstm_cell_2_layer_call_and_return_conditional_losses while saving (showing 5 of 5). These functions will not be directly callable after loading.\n",
            "WARNING:absl:Found untraced functions such as lstm_cell_2_layer_call_fn, lstm_cell_2_layer_call_and_return_conditional_losses, lstm_cell_2_layer_call_fn, lstm_cell_2_layer_call_and_return_conditional_losses, lstm_cell_2_layer_call_and_return_conditional_losses while saving (showing 5 of 5). These functions will not be directly callable after loading.\n"
          ],
          "name": "stderr"
        },
        {
          "output_type": "stream",
          "text": [
            "INFO:tensorflow:Assets written to: /content/drive/MyDrive/building1/mod26marchPart1_100slots_lstm/best_model.pkl/assets\n"
          ],
          "name": "stdout"
        },
        {
          "output_type": "stream",
          "text": [
            "INFO:tensorflow:Assets written to: /content/drive/MyDrive/building1/mod26marchPart1_100slots_lstm/best_model.pkl/assets\n"
          ],
          "name": "stderr"
        },
        {
          "output_type": "stream",
          "text": [
            "Epoch 128/200\n",
            "61/61 [==============================] - 46s 751ms/step - loss: 0.0624 - accuracy: 0.9764 - val_loss: 0.5872 - val_accuracy: 0.8586\n",
            "\n",
            "Epoch 00128: val_accuracy did not improve from 0.92298\n",
            "Epoch 129/200\n",
            "61/61 [==============================] - 46s 751ms/step - loss: 0.2324 - accuracy: 0.9195 - val_loss: 0.2450 - val_accuracy: 0.9176\n",
            "\n",
            "Epoch 00129: val_accuracy did not improve from 0.92298\n",
            "Epoch 130/200\n",
            "61/61 [==============================] - 46s 754ms/step - loss: 0.0955 - accuracy: 0.9645 - val_loss: 0.2361 - val_accuracy: 0.9176\n",
            "\n",
            "Epoch 00130: val_accuracy did not improve from 0.92298\n",
            "Epoch 131/200\n",
            "61/61 [==============================] - 45s 741ms/step - loss: 0.0745 - accuracy: 0.9689 - val_loss: 0.2455 - val_accuracy: 0.9176\n",
            "\n",
            "Epoch 00131: val_accuracy did not improve from 0.92298\n",
            "Epoch 132/200\n",
            "61/61 [==============================] - 45s 745ms/step - loss: 0.1020 - accuracy: 0.9592 - val_loss: 0.2483 - val_accuracy: 0.9079\n",
            "\n",
            "Epoch 00132: val_accuracy did not improve from 0.92298\n",
            "Epoch 133/200\n",
            "61/61 [==============================] - 45s 743ms/step - loss: 0.0756 - accuracy: 0.9719 - val_loss: 0.2575 - val_accuracy: 0.9134\n",
            "\n",
            "Epoch 00133: val_accuracy did not improve from 0.92298\n",
            "Epoch 134/200\n",
            "61/61 [==============================] - 47s 777ms/step - loss: 0.1139 - accuracy: 0.9531 - val_loss: 0.2595 - val_accuracy: 0.9061\n",
            "\n",
            "Epoch 00134: val_accuracy did not improve from 0.92298\n",
            "Epoch 135/200\n",
            "61/61 [==============================] - 47s 775ms/step - loss: 0.0672 - accuracy: 0.9728 - val_loss: 0.2701 - val_accuracy: 0.9067\n",
            "\n",
            "Epoch 00135: val_accuracy did not improve from 0.92298\n",
            "Epoch 136/200\n",
            "61/61 [==============================] - 46s 747ms/step - loss: 0.0684 - accuracy: 0.9708 - val_loss: 0.2675 - val_accuracy: 0.9091\n",
            "\n",
            "Epoch 00136: val_accuracy did not improve from 0.92298\n",
            "Epoch 137/200\n",
            "61/61 [==============================] - 45s 745ms/step - loss: 0.0688 - accuracy: 0.9736 - val_loss: 0.2711 - val_accuracy: 0.9182\n",
            "\n",
            "Epoch 00137: val_accuracy did not improve from 0.92298\n",
            "Epoch 138/200\n",
            "61/61 [==============================] - 45s 745ms/step - loss: 0.0884 - accuracy: 0.9673 - val_loss: 0.2604 - val_accuracy: 0.9122\n",
            "\n",
            "Epoch 00138: val_accuracy did not improve from 0.92298\n",
            "Epoch 139/200\n",
            "61/61 [==============================] - 45s 745ms/step - loss: 0.0627 - accuracy: 0.9755 - val_loss: 0.2488 - val_accuracy: 0.9128\n",
            "\n",
            "Epoch 00139: val_accuracy did not improve from 0.92298\n",
            "Epoch 140/200\n",
            "61/61 [==============================] - 45s 741ms/step - loss: 0.0544 - accuracy: 0.9798 - val_loss: 0.6680 - val_accuracy: 0.8532\n",
            "\n",
            "Epoch 00140: val_accuracy did not improve from 0.92298\n",
            "Epoch 141/200\n",
            "61/61 [==============================] - 45s 746ms/step - loss: 0.2849 - accuracy: 0.9072 - val_loss: 0.2530 - val_accuracy: 0.9067\n",
            "\n",
            "Epoch 00141: val_accuracy did not improve from 0.92298\n",
            "Epoch 142/200\n",
            "61/61 [==============================] - 45s 744ms/step - loss: 0.1041 - accuracy: 0.9552 - val_loss: 0.2337 - val_accuracy: 0.9146\n",
            "\n",
            "Epoch 00142: val_accuracy did not improve from 0.92298\n",
            "Epoch 143/200\n",
            "61/61 [==============================] - 46s 749ms/step - loss: 0.0676 - accuracy: 0.9747 - val_loss: 0.2395 - val_accuracy: 0.9194\n",
            "\n",
            "Epoch 00143: val_accuracy did not improve from 0.92298\n",
            "Epoch 144/200\n",
            "61/61 [==============================] - 46s 749ms/step - loss: 0.0655 - accuracy: 0.9737 - val_loss: 0.2354 - val_accuracy: 0.9200\n",
            "\n",
            "Epoch 00144: val_accuracy did not improve from 0.92298\n",
            "Epoch 145/200\n",
            "61/61 [==============================] - 46s 751ms/step - loss: 0.0558 - accuracy: 0.9787 - val_loss: 0.2347 - val_accuracy: 0.9218\n",
            "\n",
            "Epoch 00145: val_accuracy did not improve from 0.92298\n",
            "Epoch 146/200\n",
            "61/61 [==============================] - 45s 745ms/step - loss: 0.0643 - accuracy: 0.9758 - val_loss: 0.2478 - val_accuracy: 0.9176\n",
            "\n",
            "Epoch 00146: val_accuracy did not improve from 0.92298\n",
            "Epoch 147/200\n",
            "61/61 [==============================] - 45s 745ms/step - loss: 0.1308 - accuracy: 0.9504 - val_loss: 0.2442 - val_accuracy: 0.9188\n",
            "\n",
            "Epoch 00147: val_accuracy did not improve from 0.92298\n",
            "Epoch 148/200\n",
            "61/61 [==============================] - 45s 740ms/step - loss: 0.0497 - accuracy: 0.9829 - val_loss: 0.2574 - val_accuracy: 0.9182\n",
            "\n",
            "Epoch 00148: val_accuracy did not improve from 0.92298\n",
            "Epoch 149/200\n",
            "61/61 [==============================] - 45s 746ms/step - loss: 0.0507 - accuracy: 0.9815 - val_loss: 0.2547 - val_accuracy: 0.9236\n",
            "\n",
            "Epoch 00149: val_accuracy improved from 0.92298 to 0.92359, saving model to /content/drive/MyDrive/building1/mod26marchPart1_100slots_lstm/best_model.pkl\n"
          ],
          "name": "stdout"
        },
        {
          "output_type": "stream",
          "text": [
            "WARNING:absl:Found untraced functions such as lstm_cell_2_layer_call_fn, lstm_cell_2_layer_call_and_return_conditional_losses, lstm_cell_2_layer_call_fn, lstm_cell_2_layer_call_and_return_conditional_losses, lstm_cell_2_layer_call_and_return_conditional_losses while saving (showing 5 of 5). These functions will not be directly callable after loading.\n",
            "WARNING:absl:Found untraced functions such as lstm_cell_2_layer_call_fn, lstm_cell_2_layer_call_and_return_conditional_losses, lstm_cell_2_layer_call_fn, lstm_cell_2_layer_call_and_return_conditional_losses, lstm_cell_2_layer_call_and_return_conditional_losses while saving (showing 5 of 5). These functions will not be directly callable after loading.\n"
          ],
          "name": "stderr"
        },
        {
          "output_type": "stream",
          "text": [
            "INFO:tensorflow:Assets written to: /content/drive/MyDrive/building1/mod26marchPart1_100slots_lstm/best_model.pkl/assets\n"
          ],
          "name": "stdout"
        },
        {
          "output_type": "stream",
          "text": [
            "INFO:tensorflow:Assets written to: /content/drive/MyDrive/building1/mod26marchPart1_100slots_lstm/best_model.pkl/assets\n"
          ],
          "name": "stderr"
        },
        {
          "output_type": "stream",
          "text": [
            "Epoch 150/200\n",
            "61/61 [==============================] - 45s 741ms/step - loss: 0.0536 - accuracy: 0.9778 - val_loss: 0.2553 - val_accuracy: 0.9206\n",
            "\n",
            "Epoch 00150: val_accuracy did not improve from 0.92359\n",
            "Epoch 151/200\n",
            "61/61 [==============================] - 45s 735ms/step - loss: 0.1186 - accuracy: 0.9545 - val_loss: 0.3193 - val_accuracy: 0.8953\n",
            "\n",
            "Epoch 00151: val_accuracy did not improve from 0.92359\n",
            "Epoch 152/200\n",
            "61/61 [==============================] - 45s 730ms/step - loss: 0.1044 - accuracy: 0.9568 - val_loss: 0.2490 - val_accuracy: 0.9170\n",
            "\n",
            "Epoch 00152: val_accuracy did not improve from 0.92359\n",
            "Epoch 153/200\n",
            "61/61 [==============================] - 44s 726ms/step - loss: 0.0966 - accuracy: 0.9611 - val_loss: 0.2570 - val_accuracy: 0.9146\n",
            "\n",
            "Epoch 00153: val_accuracy did not improve from 0.92359\n",
            "Epoch 154/200\n",
            "61/61 [==============================] - 45s 740ms/step - loss: 0.0564 - accuracy: 0.9791 - val_loss: 0.2632 - val_accuracy: 0.9116\n",
            "\n",
            "Epoch 00154: val_accuracy did not improve from 0.92359\n",
            "Epoch 155/200\n",
            "61/61 [==============================] - 45s 740ms/step - loss: 0.0589 - accuracy: 0.9776 - val_loss: 0.2600 - val_accuracy: 0.9140\n",
            "\n",
            "Epoch 00155: val_accuracy did not improve from 0.92359\n",
            "Epoch 156/200\n",
            "61/61 [==============================] - 45s 742ms/step - loss: 0.0443 - accuracy: 0.9832 - val_loss: 0.2748 - val_accuracy: 0.9164\n",
            "\n",
            "Epoch 00156: val_accuracy did not improve from 0.92359\n",
            "Epoch 157/200\n",
            "61/61 [==============================] - 45s 733ms/step - loss: 0.0631 - accuracy: 0.9762 - val_loss: 0.2545 - val_accuracy: 0.9218\n",
            "\n",
            "Epoch 00157: val_accuracy did not improve from 0.92359\n",
            "Epoch 158/200\n",
            "61/61 [==============================] - 45s 736ms/step - loss: 0.0556 - accuracy: 0.9793 - val_loss: 0.3345 - val_accuracy: 0.9013\n",
            "\n",
            "Epoch 00158: val_accuracy did not improve from 0.92359\n",
            "Epoch 159/200\n",
            "61/61 [==============================] - 45s 745ms/step - loss: 0.1003 - accuracy: 0.9596 - val_loss: 0.2712 - val_accuracy: 0.9116\n",
            "\n",
            "Epoch 00159: val_accuracy did not improve from 0.92359\n",
            "Epoch 160/200\n",
            "61/61 [==============================] - 45s 737ms/step - loss: 0.0491 - accuracy: 0.9814 - val_loss: 0.2726 - val_accuracy: 0.9248\n",
            "\n",
            "Epoch 00160: val_accuracy improved from 0.92359 to 0.92479, saving model to /content/drive/MyDrive/building1/mod26marchPart1_100slots_lstm/best_model.pkl\n"
          ],
          "name": "stdout"
        },
        {
          "output_type": "stream",
          "text": [
            "WARNING:absl:Found untraced functions such as lstm_cell_2_layer_call_fn, lstm_cell_2_layer_call_and_return_conditional_losses, lstm_cell_2_layer_call_fn, lstm_cell_2_layer_call_and_return_conditional_losses, lstm_cell_2_layer_call_and_return_conditional_losses while saving (showing 5 of 5). These functions will not be directly callable after loading.\n",
            "WARNING:absl:Found untraced functions such as lstm_cell_2_layer_call_fn, lstm_cell_2_layer_call_and_return_conditional_losses, lstm_cell_2_layer_call_fn, lstm_cell_2_layer_call_and_return_conditional_losses, lstm_cell_2_layer_call_and_return_conditional_losses while saving (showing 5 of 5). These functions will not be directly callable after loading.\n"
          ],
          "name": "stderr"
        },
        {
          "output_type": "stream",
          "text": [
            "INFO:tensorflow:Assets written to: /content/drive/MyDrive/building1/mod26marchPart1_100slots_lstm/best_model.pkl/assets\n"
          ],
          "name": "stdout"
        },
        {
          "output_type": "stream",
          "text": [
            "INFO:tensorflow:Assets written to: /content/drive/MyDrive/building1/mod26marchPart1_100slots_lstm/best_model.pkl/assets\n"
          ],
          "name": "stderr"
        },
        {
          "output_type": "stream",
          "text": [
            "Epoch 161/200\n",
            "61/61 [==============================] - 45s 741ms/step - loss: 0.0447 - accuracy: 0.9852 - val_loss: 0.3722 - val_accuracy: 0.8941\n",
            "\n",
            "Epoch 00161: val_accuracy did not improve from 0.92479\n",
            "Epoch 162/200\n",
            "61/61 [==============================] - 45s 740ms/step - loss: 0.0641 - accuracy: 0.9763 - val_loss: 0.3008 - val_accuracy: 0.9097\n",
            "\n",
            "Epoch 00162: val_accuracy did not improve from 0.92479\n",
            "Epoch 163/200\n",
            "61/61 [==============================] - 46s 753ms/step - loss: 0.0694 - accuracy: 0.9718 - val_loss: 0.2904 - val_accuracy: 0.9091\n",
            "\n",
            "Epoch 00163: val_accuracy did not improve from 0.92479\n",
            "Epoch 164/200\n",
            "61/61 [==============================] - 46s 757ms/step - loss: 0.0853 - accuracy: 0.9625 - val_loss: 0.2660 - val_accuracy: 0.9116\n",
            "\n",
            "Epoch 00164: val_accuracy did not improve from 0.92479\n",
            "Epoch 165/200\n",
            "61/61 [==============================] - 46s 750ms/step - loss: 0.0498 - accuracy: 0.9816 - val_loss: 0.2800 - val_accuracy: 0.9079\n",
            "\n",
            "Epoch 00165: val_accuracy did not improve from 0.92479\n",
            "Epoch 166/200\n",
            "61/61 [==============================] - 45s 744ms/step - loss: 0.0525 - accuracy: 0.9794 - val_loss: 0.2597 - val_accuracy: 0.9254\n",
            "\n",
            "Epoch 00166: val_accuracy improved from 0.92479 to 0.92539, saving model to /content/drive/MyDrive/building1/mod26marchPart1_100slots_lstm/best_model.pkl\n"
          ],
          "name": "stdout"
        },
        {
          "output_type": "stream",
          "text": [
            "WARNING:absl:Found untraced functions such as lstm_cell_2_layer_call_fn, lstm_cell_2_layer_call_and_return_conditional_losses, lstm_cell_2_layer_call_fn, lstm_cell_2_layer_call_and_return_conditional_losses, lstm_cell_2_layer_call_and_return_conditional_losses while saving (showing 5 of 5). These functions will not be directly callable after loading.\n",
            "WARNING:absl:Found untraced functions such as lstm_cell_2_layer_call_fn, lstm_cell_2_layer_call_and_return_conditional_losses, lstm_cell_2_layer_call_fn, lstm_cell_2_layer_call_and_return_conditional_losses, lstm_cell_2_layer_call_and_return_conditional_losses while saving (showing 5 of 5). These functions will not be directly callable after loading.\n"
          ],
          "name": "stderr"
        },
        {
          "output_type": "stream",
          "text": [
            "INFO:tensorflow:Assets written to: /content/drive/MyDrive/building1/mod26marchPart1_100slots_lstm/best_model.pkl/assets\n"
          ],
          "name": "stdout"
        },
        {
          "output_type": "stream",
          "text": [
            "INFO:tensorflow:Assets written to: /content/drive/MyDrive/building1/mod26marchPart1_100slots_lstm/best_model.pkl/assets\n"
          ],
          "name": "stderr"
        },
        {
          "output_type": "stream",
          "text": [
            "Epoch 167/200\n",
            "61/61 [==============================] - 45s 744ms/step - loss: 0.0474 - accuracy: 0.9831 - val_loss: 0.3287 - val_accuracy: 0.9025\n",
            "\n",
            "Epoch 00167: val_accuracy did not improve from 0.92539\n",
            "Epoch 168/200\n",
            "61/61 [==============================] - 45s 740ms/step - loss: 0.1018 - accuracy: 0.9599 - val_loss: 0.5046 - val_accuracy: 0.8863\n",
            "\n",
            "Epoch 00168: val_accuracy did not improve from 0.92539\n",
            "Epoch 169/200\n",
            "61/61 [==============================] - 45s 746ms/step - loss: 0.1077 - accuracy: 0.9553 - val_loss: 0.2781 - val_accuracy: 0.9200\n",
            "\n",
            "Epoch 00169: val_accuracy did not improve from 0.92539\n",
            "Epoch 170/200\n",
            "61/61 [==============================] - 46s 751ms/step - loss: 0.0501 - accuracy: 0.9804 - val_loss: 0.2691 - val_accuracy: 0.9206\n",
            "\n",
            "Epoch 00170: val_accuracy did not improve from 0.92539\n",
            "Epoch 171/200\n",
            "61/61 [==============================] - 45s 745ms/step - loss: 0.0368 - accuracy: 0.9863 - val_loss: 0.2832 - val_accuracy: 0.9140\n",
            "\n",
            "Epoch 00171: val_accuracy did not improve from 0.92539\n",
            "Epoch 172/200\n",
            "61/61 [==============================] - 45s 743ms/step - loss: 0.0614 - accuracy: 0.9761 - val_loss: 0.3064 - val_accuracy: 0.9140\n",
            "\n",
            "Epoch 00172: val_accuracy did not improve from 0.92539\n",
            "Epoch 173/200\n",
            "61/61 [==============================] - 46s 756ms/step - loss: 0.0431 - accuracy: 0.9864 - val_loss: 0.2763 - val_accuracy: 0.9236\n",
            "\n",
            "Epoch 00173: val_accuracy did not improve from 0.92539\n",
            "Epoch 174/200\n",
            "61/61 [==============================] - 46s 760ms/step - loss: 0.0361 - accuracy: 0.9861 - val_loss: 0.2885 - val_accuracy: 0.9212\n",
            "\n",
            "Epoch 00174: val_accuracy did not improve from 0.92539\n",
            "Epoch 175/200\n",
            "61/61 [==============================] - 47s 764ms/step - loss: 0.0451 - accuracy: 0.9805 - val_loss: 0.2846 - val_accuracy: 0.9206\n",
            "\n",
            "Epoch 00175: val_accuracy did not improve from 0.92539\n",
            "Epoch 176/200\n",
            "61/61 [==============================] - 47s 766ms/step - loss: 0.0442 - accuracy: 0.9829 - val_loss: 0.3963 - val_accuracy: 0.9001\n",
            "\n",
            "Epoch 00176: val_accuracy did not improve from 0.92539\n",
            "Epoch 177/200\n",
            "61/61 [==============================] - 46s 757ms/step - loss: 0.1073 - accuracy: 0.9620 - val_loss: 0.3102 - val_accuracy: 0.9097\n",
            "\n",
            "Epoch 00177: val_accuracy did not improve from 0.92539\n",
            "Epoch 178/200\n",
            "61/61 [==============================] - 46s 752ms/step - loss: 0.1134 - accuracy: 0.9582 - val_loss: 0.3276 - val_accuracy: 0.9013\n",
            "\n",
            "Epoch 00178: val_accuracy did not improve from 0.92539\n",
            "Epoch 179/200\n",
            "61/61 [==============================] - 46s 748ms/step - loss: 0.0926 - accuracy: 0.9633 - val_loss: 0.2521 - val_accuracy: 0.9224\n",
            "\n",
            "Epoch 00179: val_accuracy did not improve from 0.92539\n",
            "Epoch 180/200\n",
            "61/61 [==============================] - 46s 752ms/step - loss: 0.0410 - accuracy: 0.9846 - val_loss: 0.2711 - val_accuracy: 0.9230\n",
            "\n",
            "Epoch 00180: val_accuracy did not improve from 0.92539\n",
            "Epoch 181/200\n",
            "61/61 [==============================] - 46s 750ms/step - loss: 0.0537 - accuracy: 0.9785 - val_loss: 0.8466 - val_accuracy: 0.8081\n",
            "\n",
            "Epoch 00181: val_accuracy did not improve from 0.92539\n",
            "Epoch 182/200\n",
            "61/61 [==============================] - 46s 756ms/step - loss: 0.2850 - accuracy: 0.9103 - val_loss: 0.2915 - val_accuracy: 0.8995\n",
            "\n",
            "Epoch 00182: val_accuracy did not improve from 0.92539\n",
            "Epoch 183/200\n",
            "61/61 [==============================] - 46s 754ms/step - loss: 0.0764 - accuracy: 0.9700 - val_loss: 0.2603 - val_accuracy: 0.9140\n",
            "\n",
            "Epoch 00183: val_accuracy did not improve from 0.92539\n",
            "Epoch 184/200\n",
            "61/61 [==============================] - 46s 748ms/step - loss: 0.0441 - accuracy: 0.9842 - val_loss: 0.3173 - val_accuracy: 0.9182\n",
            "\n",
            "Epoch 00184: val_accuracy did not improve from 0.92539\n",
            "Epoch 185/200\n",
            "61/61 [==============================] - 46s 750ms/step - loss: 0.0467 - accuracy: 0.9811 - val_loss: 0.2600 - val_accuracy: 0.9206\n",
            "\n",
            "Epoch 00185: val_accuracy did not improve from 0.92539\n",
            "Epoch 186/200\n",
            "61/61 [==============================] - 45s 745ms/step - loss: 0.0426 - accuracy: 0.9864 - val_loss: 0.2647 - val_accuracy: 0.9260\n",
            "\n",
            "Epoch 00186: val_accuracy improved from 0.92539 to 0.92599, saving model to /content/drive/MyDrive/building1/mod26marchPart1_100slots_lstm/best_model.pkl\n"
          ],
          "name": "stdout"
        },
        {
          "output_type": "stream",
          "text": [
            "WARNING:absl:Found untraced functions such as lstm_cell_2_layer_call_fn, lstm_cell_2_layer_call_and_return_conditional_losses, lstm_cell_2_layer_call_fn, lstm_cell_2_layer_call_and_return_conditional_losses, lstm_cell_2_layer_call_and_return_conditional_losses while saving (showing 5 of 5). These functions will not be directly callable after loading.\n",
            "WARNING:absl:Found untraced functions such as lstm_cell_2_layer_call_fn, lstm_cell_2_layer_call_and_return_conditional_losses, lstm_cell_2_layer_call_fn, lstm_cell_2_layer_call_and_return_conditional_losses, lstm_cell_2_layer_call_and_return_conditional_losses while saving (showing 5 of 5). These functions will not be directly callable after loading.\n"
          ],
          "name": "stderr"
        },
        {
          "output_type": "stream",
          "text": [
            "INFO:tensorflow:Assets written to: /content/drive/MyDrive/building1/mod26marchPart1_100slots_lstm/best_model.pkl/assets\n"
          ],
          "name": "stdout"
        },
        {
          "output_type": "stream",
          "text": [
            "INFO:tensorflow:Assets written to: /content/drive/MyDrive/building1/mod26marchPart1_100slots_lstm/best_model.pkl/assets\n"
          ],
          "name": "stderr"
        },
        {
          "output_type": "stream",
          "text": [
            "Epoch 187/200\n",
            "61/61 [==============================] - 45s 737ms/step - loss: 0.0515 - accuracy: 0.9804 - val_loss: 0.3291 - val_accuracy: 0.8935\n",
            "\n",
            "Epoch 00187: val_accuracy did not improve from 0.92599\n",
            "Epoch 188/200\n",
            "61/61 [==============================] - 45s 740ms/step - loss: 0.1083 - accuracy: 0.9554 - val_loss: 0.3192 - val_accuracy: 0.9085\n",
            "\n",
            "Epoch 00188: val_accuracy did not improve from 0.92599\n",
            "Epoch 189/200\n",
            "61/61 [==============================] - 45s 741ms/step - loss: 0.0602 - accuracy: 0.9764 - val_loss: 0.2891 - val_accuracy: 0.9079\n",
            "\n",
            "Epoch 00189: val_accuracy did not improve from 0.92599\n",
            "Epoch 190/200\n",
            "61/61 [==============================] - 45s 746ms/step - loss: 0.0623 - accuracy: 0.9774 - val_loss: 0.2797 - val_accuracy: 0.9164\n",
            "\n",
            "Epoch 00190: val_accuracy did not improve from 0.92599\n",
            "Epoch 191/200\n",
            "61/61 [==============================] - 45s 745ms/step - loss: 0.0439 - accuracy: 0.9835 - val_loss: 0.2915 - val_accuracy: 0.9254\n",
            "\n",
            "Epoch 00191: val_accuracy did not improve from 0.92599\n",
            "Epoch 192/200\n",
            "61/61 [==============================] - 45s 747ms/step - loss: 0.0677 - accuracy: 0.9767 - val_loss: 0.2951 - val_accuracy: 0.9164\n",
            "\n",
            "Epoch 00192: val_accuracy did not improve from 0.92599\n",
            "Epoch 193/200\n",
            "61/61 [==============================] - 46s 748ms/step - loss: 0.0550 - accuracy: 0.9787 - val_loss: 0.2987 - val_accuracy: 0.9218\n",
            "\n",
            "Epoch 00193: val_accuracy did not improve from 0.92599\n",
            "Epoch 194/200\n",
            "61/61 [==============================] - 45s 744ms/step - loss: 0.0406 - accuracy: 0.9860 - val_loss: 0.3746 - val_accuracy: 0.9043\n",
            "\n",
            "Epoch 00194: val_accuracy did not improve from 0.92599\n",
            "Epoch 195/200\n",
            "61/61 [==============================] - 45s 744ms/step - loss: 0.0499 - accuracy: 0.9811 - val_loss: 0.3065 - val_accuracy: 0.9110\n",
            "\n",
            "Epoch 00195: val_accuracy did not improve from 0.92599\n",
            "Epoch 196/200\n",
            "61/61 [==============================] - 45s 744ms/step - loss: 0.0481 - accuracy: 0.9812 - val_loss: 0.3185 - val_accuracy: 0.9110\n",
            "\n",
            "Epoch 00196: val_accuracy did not improve from 0.92599\n",
            "Epoch 197/200\n",
            "61/61 [==============================] - 45s 747ms/step - loss: 0.0348 - accuracy: 0.9890 - val_loss: 0.2662 - val_accuracy: 0.9278\n",
            "\n",
            "Epoch 00197: val_accuracy improved from 0.92599 to 0.92780, saving model to /content/drive/MyDrive/building1/mod26marchPart1_100slots_lstm/best_model.pkl\n"
          ],
          "name": "stdout"
        },
        {
          "output_type": "stream",
          "text": [
            "WARNING:absl:Found untraced functions such as lstm_cell_2_layer_call_fn, lstm_cell_2_layer_call_and_return_conditional_losses, lstm_cell_2_layer_call_fn, lstm_cell_2_layer_call_and_return_conditional_losses, lstm_cell_2_layer_call_and_return_conditional_losses while saving (showing 5 of 5). These functions will not be directly callable after loading.\n",
            "WARNING:absl:Found untraced functions such as lstm_cell_2_layer_call_fn, lstm_cell_2_layer_call_and_return_conditional_losses, lstm_cell_2_layer_call_fn, lstm_cell_2_layer_call_and_return_conditional_losses, lstm_cell_2_layer_call_and_return_conditional_losses while saving (showing 5 of 5). These functions will not be directly callable after loading.\n"
          ],
          "name": "stderr"
        },
        {
          "output_type": "stream",
          "text": [
            "INFO:tensorflow:Assets written to: /content/drive/MyDrive/building1/mod26marchPart1_100slots_lstm/best_model.pkl/assets\n"
          ],
          "name": "stdout"
        },
        {
          "output_type": "stream",
          "text": [
            "INFO:tensorflow:Assets written to: /content/drive/MyDrive/building1/mod26marchPart1_100slots_lstm/best_model.pkl/assets\n"
          ],
          "name": "stderr"
        },
        {
          "output_type": "stream",
          "text": [
            "Epoch 198/200\n",
            "61/61 [==============================] - 45s 743ms/step - loss: 0.0342 - accuracy: 0.9875 - val_loss: 0.3138 - val_accuracy: 0.9152\n",
            "\n",
            "Epoch 00198: val_accuracy did not improve from 0.92780\n",
            "Epoch 199/200\n",
            "61/61 [==============================] - 45s 744ms/step - loss: 0.0371 - accuracy: 0.9871 - val_loss: 0.2947 - val_accuracy: 0.9212\n",
            "\n",
            "Epoch 00199: val_accuracy did not improve from 0.92780\n",
            "Epoch 200/200\n",
            "61/61 [==============================] - 45s 742ms/step - loss: 0.0492 - accuracy: 0.9800 - val_loss: 0.3054 - val_accuracy: 0.9110\n",
            "\n",
            "Epoch 00200: val_accuracy did not improve from 0.92780\n"
          ],
          "name": "stdout"
        }
      ]
    },
    {
      "cell_type": "code",
      "metadata": {
        "colab": {
          "base_uri": "https://localhost:8080/"
        },
        "id": "B0xipf2Ntd1x",
        "outputId": "a2711cb5-d3e0-4551-a4d8-79a0daba5111"
      },
      "source": [
        "#loading the best model and checking accuracy on the test data\n",
        "model = load_model('/content/drive/MyDrive/building1/mod26marchPart1_100slots_lstm/best_model.pkl')\n",
        "\n",
        "from sklearn.metrics import accuracy_score\n",
        "y_pred=model.predict(test)\n",
        "test_preds=( y_pred> 0.5).astype(\"int32\")#Selecting a label only if it has >0.5 probability\n",
        "accuracy_score(test_target, test_preds)"
      ],
      "execution_count": null,
      "outputs": [
        {
          "output_type": "execute_result",
          "data": {
            "text/plain": [
              "0.9236778846153846"
            ]
          },
          "metadata": {
            "tags": []
          },
          "execution_count": 28
        }
      ]
    },
    {
      "cell_type": "code",
      "metadata": {
        "colab": {
          "base_uri": "https://localhost:8080/"
        },
        "id": "zZnkuurHILEv",
        "outputId": "7b766078-68df-43a9-8f86-03eec478fdae"
      },
      "source": [
        "#Calculating accuracy by selecting the label having the highest probability\n",
        "yhat=np.argmax(y_pred,axis=1)\n",
        "y=np.argmax(test_target,axis=1)\n",
        "accuracy_score(y,yhat)"
      ],
      "execution_count": null,
      "outputs": [
        {
          "output_type": "execute_result",
          "data": {
            "text/plain": [
              "0.9248798076923077"
            ]
          },
          "metadata": {
            "tags": []
          },
          "execution_count": 29
        }
      ]
    },
    {
      "cell_type": "code",
      "metadata": {
        "colab": {
          "base_uri": "https://localhost:8080/",
          "height": 295
        },
        "id": "ymhfVICTINo1",
        "outputId": "9a199862-164d-4fa9-8de3-8f3bdd4fb7a9"
      },
      "source": [
        "import matplotlib.pyplot as plt\n",
        "plt.plot(history.history['accuracy'])\n",
        "plt.plot(history.history['val_accuracy'])\n",
        "plt.title('model accuracy')\n",
        "plt.ylabel('accuracy')\n",
        "plt.xlabel('epoch')\n",
        "plt.legend(['train', 'Validation'], loc='upper left')\n",
        "plt.show()"
      ],
      "execution_count": null,
      "outputs": [
        {
          "output_type": "display_data",
          "data": {
            "image/png": "[encoded data removed]",
            "text/plain": [
              "<Figure size 432x288 with 1 Axes>"
            ]
          },
          "metadata": {
            "tags": [],
            "needs_background": "light"
          }
        }
      ]
    }
  ]
}