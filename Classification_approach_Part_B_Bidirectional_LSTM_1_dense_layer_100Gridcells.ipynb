{
  "nbformat": 4,
  "nbformat_minor": 0,
  "metadata": {
    "colab": {
      "name": "Part_B_classification_approach_Bidirectional_LSTM_1_dense_layer.ipynb",
      "provenance": [],
      "collapsed_sections": []
    },
    "kernelspec": {
      "display_name": "Python 3",
      "language": "python",
      "name": "python3"
    },
    "language_info": {
      "codemirror_mode": {
        "name": "ipython",
        "version": 3
      },
      "file_extension": ".py",
      "mimetype": "text/x-python",
      "name": "python",
      "nbconvert_exporter": "python",
      "pygments_lexer": "ipython3",
      "version": "3.8.5"
    }
  },
  "cells": [
    {
      "cell_type": "markdown",
      "metadata": {
        "id": "QktZ8WbxTv2T"
      },
      "source": [
        "## We have divided the problem into two parts\n",
        "(a) Predict the floor number\n",
        "(b) Predict the way points or location on that floor"
      ]
    },
    {
      "cell_type": "code",
      "metadata": {
        "id": "1f5bwMxmPWjQ"
      },
      "source": [
        "import pandas as pd\n",
        "import numpy as np\n",
        "%matplotlib inline\n",
        "import matplotlib.pyplot as plt\n",
        "from os import listdir\n",
        "from pathlib import Path\n",
        "pd.options.mode.chained_assignment = None  # default='warn'\n",
        "from dataclasses import dataclass\n",
        "from sklearn import preprocessing"
      ],
      "execution_count": null,
      "outputs": []
    },
    {
      "cell_type": "code",
      "metadata": {
        "id": "q6hAEaR6tmi9"
      },
      "source": [
        "import keras\n",
        "from keras.utils import to_categorical\n",
        "from keras.preprocessing import sequence\n",
        "import tensorflow as tf\n",
        "from keras.models import Sequential\n",
        "from keras.layers import Dense\n",
        "from keras.layers import LSTM\n",
        "from keras.optimizers import Adam\n",
        "from keras.models import load_model\n",
        "from keras.callbacks import ModelCheckpoint\n",
        "from keras.layers import Bidirectional"
      ],
      "execution_count": null,
      "outputs": []
    },
    {
      "cell_type": "code",
      "metadata": {
        "colab": {
          "base_uri": "https://localhost:8080/"
        },
        "id": "BfbMebYYWEIw",
        "outputId": "3da4911d-18da-4391-f7d2-92c1273c8415"
      },
      "source": [
        "from google.colab import drive\n",
        "drive.mount('/content/drive')"
      ],
      "execution_count": null,
      "outputs": [
        {
          "output_type": "stream",
          "text": [
            "Mounted at /content/drive\n"
          ],
          "name": "stdout"
        }
      ]
    },
    {
      "cell_type": "code",
      "metadata": {
        "id": "XpKnmwl6M_3_"
      },
      "source": [
        "#Function to connect waypoint coordinates with straight lines\n",
        "#This will be used for second part of project.We will discuss about this later.\n",
        "def connect_waypoints(wp_df):\n",
        "  if(wp_df.at[0,'waypoint_val1']==''):\n",
        "    wp_df.at[0,'waypoint_val1']=0\n",
        "  if(wp_df.at[0,'waypoint_val2']==''):\n",
        "    wp_df.at[0,'waypoint_val2']=0  \n",
        "  j=0\n",
        "  i=0\n",
        "  last=0\n",
        "  #print(wp_df.head(5))\n",
        "  while i < (len(wp_df)-1):\n",
        "    j=i+1\n",
        "    while((wp_df.at[j,'waypoint_val1']==0) and (wp_df.at[j,'waypoint_val2']==0) ):\n",
        "      if(j==len(wp_df)-1):\n",
        "        wp_df.at[j,'waypoint_val1']=wp_df.at[i,'waypoint_val1']\n",
        "        wp_df.at[j,'waypoint_val2']=wp_df.at[i,'waypoint_val2']\n",
        "        last=1\n",
        "        break\n",
        "      j+=1\n",
        "    temp_arrayx=np.linspace(wp_df.at[i,'waypoint_val1'],wp_df.at[j,'waypoint_val1'], num=j-i+1)\n",
        "    temp_arrayy=np.linspace(wp_df.at[i,'waypoint_val2'],wp_df.at[j,'waypoint_val2'], num=j-i+1)\n",
        "    #print(temp_arrayx)\n",
        "    m=0\n",
        "    for k in range(i,j+1):\n",
        "      wp_df.at[k,'waypoint_val1']=temp_arrayx[m]\n",
        "      wp_df.at[k,'waypoint_val2']=temp_arrayy[m]\n",
        "      #For final comparison of our predicted location, we will need to mark which waypoints were in original data before connecting them\n",
        "      #print('k=',k,'i=',i,'j=',j)\n",
        "      if((k==i) and (last==0)):\n",
        "        wp_df.at[k,'interpolated']=1 #original waypoints\n",
        "      else:\n",
        "        wp_df.at[k,'interpolated']=0  #interpolated waypoints\n",
        "      m+=1\n",
        "    i=j\n",
        "  return wp_df     \n"
      ],
      "execution_count": null,
      "outputs": []
    },
    {
      "cell_type": "code",
      "metadata": {
        "id": "hycBgmQSPWjX"
      },
      "source": [
        "# Function to extract arrays for each sensor with timeslots.\n",
        "# This particular function is modified from the function provided by the competition's github page at https://github.com/location-competition/indoor-location-competition-20/blob/master/io_f.py\n",
        "\n",
        "@dataclass\n",
        "class ReadData:\n",
        "    acce: np.ndarray\n",
        "    acce_uncali: np.ndarray\n",
        "    gyro: np.ndarray\n",
        "    gyro_uncali: np.ndarray\n",
        "    magn: np.ndarray\n",
        "    magn_uncali: np.ndarray\n",
        "    ahrs: np.ndarray\n",
        "    wifi: np.ndarray\n",
        "    ibeacon: np.ndarray\n",
        "    waypoint: np.ndarray\n",
        "\n",
        "\n",
        "def read_data_file(data_filename):\n",
        "    acce = []\n",
        "    acce_uncali = []\n",
        "    gyro = []\n",
        "    gyro_uncali = []\n",
        "    magn = []\n",
        "    magn_uncali = []\n",
        "    ahrs = []\n",
        "    wifi = []\n",
        "    ibeacon = []\n",
        "    waypoint = []\n",
        "    line_count=0\n",
        "    with open(data_filename, 'r', encoding='utf-8') as file:\n",
        "        lines = file.readlines()\n",
        "\n",
        "    for line_data in lines:\n",
        "        #line_count=line_count+1\n",
        "        #if(line_count>3000):\n",
        "        #  break\n",
        "        line_data = line_data.strip()\n",
        "        if not line_data or line_data[0] == '#':\n",
        "            continue\n",
        "\n",
        "        line_data = line_data.split('\\t')\n",
        "\n",
        "        if line_data[1] == 'TYPE_ACCELEROMETER':\n",
        "            acce.append([int(line_data[0]), float(line_data[2]), float(line_data[3]), float(line_data[4])])\n",
        "            continue\n",
        "\n",
        "        if line_data[1] == 'TYPE_ACCELEROMETER_UNCALIBRATED':\n",
        "            acce_uncali.append([int(line_data[0]), float(line_data[2]), float(line_data[3]), float(line_data[4])])\n",
        "            continue\n",
        "\n",
        "        if line_data[1] == 'TYPE_GYROSCOPE':\n",
        "            gyro.append([int(line_data[0]), float(line_data[2]), float(line_data[3]), float(line_data[4])])\n",
        "            continue\n",
        "\n",
        "        if line_data[1] == 'TYPE_GYROSCOPE_UNCALIBRATED':\n",
        "            gyro_uncali.append([int(line_data[0]), float(line_data[2]), float(line_data[3]), float(line_data[4])])\n",
        "            continue\n",
        "\n",
        "        if line_data[1] == 'TYPE_MAGNETIC_FIELD':\n",
        "            magn.append([int(line_data[0]), float(line_data[2]), float(line_data[3]), float(line_data[4])])\n",
        "            continue\n",
        "\n",
        "        if line_data[1] == 'TYPE_MAGNETIC_FIELD_UNCALIBRATED':\n",
        "            magn_uncali.append([int(line_data[0]), float(line_data[2]), float(line_data[3]), float(line_data[4])])\n",
        "            continue\n",
        "\n",
        "        if line_data[1] == 'TYPE_ROTATION_VECTOR':\n",
        "            ahrs.append([int(line_data[0]), float(line_data[2]), float(line_data[3]), float(line_data[4])])\n",
        "            continue\n",
        "\n",
        "        if line_data[1] == 'TYPE_WIFI':\n",
        "            sys_ts = int(line_data[0])\n",
        "            ssid = line_data[2]\n",
        "            bssid = line_data[3]\n",
        "            rssi = line_data[4]\n",
        "            lastseen_ts = line_data[6]\n",
        "            wifi_data = [sys_ts, ssid, bssid, rssi, lastseen_ts]\n",
        "            wifi.append(wifi_data)\n",
        "            continue\n",
        "\n",
        "        if line_data[1] == 'TYPE_BEACON':\n",
        "            ts = int(line_data[0])\n",
        "            uuid = line_data[2]\n",
        "            major = line_data[3]\n",
        "            minor = line_data[4]\n",
        "            rssi = line_data[6]\n",
        "            ibeacon_data = [ts, '_'.join([uuid, major, minor]), rssi]\n",
        "            ibeacon.append(ibeacon_data)\n",
        "            continue\n",
        "\n",
        "        if line_data[1] == 'TYPE_WAYPOINT':\n",
        "            waypoint.append([int(line_data[0]), float(line_data[2]), float(line_data[3])])\n",
        "\n",
        "    acce = np.array(acce,dtype=np.float)\n",
        "    acce_uncali = np.array(acce_uncali,dtype=np.float)\n",
        "    gyro = np.array(gyro,dtype=np.float)\n",
        "    gyro_uncali = np.array(gyro_uncali,dtype=np.float)\n",
        "    magn = np.array(magn,dtype=np.float)\n",
        "    magn_uncali = np.array(magn_uncali,dtype=np.float)\n",
        "    ahrs = np.array(ahrs)\n",
        "    wifi = np.array(wifi)\n",
        "    ibeacon = np.array(ibeacon)\n",
        "    waypoint = np.array(waypoint)\n",
        "\n",
        "    return ReadData(acce, acce_uncali, gyro, gyro_uncali, magn, magn_uncali, ahrs, wifi, ibeacon, waypoint)"
      ],
      "execution_count": null,
      "outputs": []
    },
    {
      "cell_type": "code",
      "metadata": {
        "id": "FpAoHhUmPWjb"
      },
      "source": [
        "#Function to go through all the files in the folder and return the sensor data \n",
        "# in the form of arrays\n",
        "@dataclass\n",
        "class trace:\n",
        "    sequence: np.ndarray\n",
        "    target_seq: np.ndarray\n",
        "    waypoint_seq: np.ndarray\n",
        "    wp_full_seq: np.ndarray\n",
        "\n",
        "def convert_to_df(file_path,floor,timeslots):\n",
        "    pathlist = Path(file_path).rglob('*.txt')\n",
        "    sequence = list()\n",
        "    target_seq=list()\n",
        "    waypoint_seq=list()\n",
        "    wp_full_seq=list()\n",
        "    path_id=1\n",
        "    floor_trace_df=pd.DataFrame()\n",
        "    for path in pathlist:\n",
        "         # because path is object not string\n",
        "        path_in_str = str(path)\n",
        "         # print(path_in_str)\n",
        "        trace_file = read_data_file(path_in_str)\n",
        "        trace_df=pd.DataFrame()\n",
        "        if(trace_file.acce.size):\n",
        "            acce_df=pd.DataFrame(trace_file.acce, columns=['Timestamp','acce_val1','acce_val2','acce_val3'])\n",
        "        if(trace_file.acce_uncali.size):\n",
        "            acce__uncal_df=pd.DataFrame(trace_file.acce_uncali, columns=['Timestamp','acce_uncal_val1','acce_uncal_val2','acce_uncal_val3'])   \n",
        "        if(trace_file.gyro.size):\n",
        "            gyro_df=pd.DataFrame(trace_file.gyro, columns=['Timestamp','gyro_val1','gyro_val2','gyro_val3'])\n",
        "        if(trace_file.gyro_uncali.size):\n",
        "            gyro_uncal_df=pd.DataFrame(trace_file.gyro_uncali, columns=['Timestamp','gyro_uncal_val1','gyro_uncal_val2','gyro_uncal_val3'])\n",
        "        if(trace_file.magn.size):\n",
        "            magn_df=pd.DataFrame(trace_file.magn, columns=['Timestamp','magn_val1','magn_val2','magn_val3'])\n",
        "        if(trace_file.magn_uncali.size):\n",
        "            magn_uncal_df=pd.DataFrame(trace_file.magn_uncali, columns=['Timestamp','magn_uncal_val1','magn_uncal_val2','magn_uncal_val3'])\n",
        "        if(trace_file.ahrs.size):\n",
        "            rot_df=pd.DataFrame(trace_file.ahrs, columns=['Timestamp','rot_val1','rot_val2','rot_val3'])           \n",
        "        if(trace_file.wifi.size):\n",
        "            wifi_df=pd.DataFrame(trace_file.wifi, columns=['Timestamp','wifi_val1','wifi_val2','wifi_val3','wifi_val4']) \n",
        "        if(trace_file.ibeacon.size):\n",
        "            ibeacon_df=pd.DataFrame(trace_file.ibeacon, columns=['Timestamp','ibeacon_val1','ibeacon_val2'])    \n",
        "        if(trace_file.waypoint.size):\n",
        "            waypoint_df=pd.DataFrame(trace_file.waypoint, columns=['Timestamp','waypoint_val1','waypoint_val2'])\n",
        "        \n",
        "        #change data type of wifi dataframe timestamp and ibeacon timestamp\n",
        "        wifi_df[\"Timestamp\"] = wifi_df.Timestamp.astype(float)\n",
        "        ibeacon_df[\"Timestamp\"] = ibeacon_df.Timestamp.astype(float)\n",
        "        trace_df = pd.merge(acce_df, acce__uncal_df, on='Timestamp', how='outer')\n",
        "        trace_df = pd.merge(trace_df, gyro_df, on='Timestamp', how='outer')\n",
        "        trace_df = pd.merge(trace_df, gyro_uncal_df, on='Timestamp', how='outer')\n",
        "        trace_df = pd.merge(trace_df, magn_df, on='Timestamp', how='outer')\n",
        "        trace_df = pd.merge(trace_df, magn_uncal_df, on='Timestamp', how='outer')\n",
        "        trace_df = pd.merge(trace_df, rot_df, on='Timestamp', how='outer')\n",
        "        trace_df = pd.merge(trace_df, wifi_df, on='Timestamp', how='outer')\n",
        "        trace_df = pd.merge(trace_df, ibeacon_df, on='Timestamp', how='outer')\n",
        "        trace_df = pd.merge(trace_df, waypoint_df, on='Timestamp', how='outer')\n",
        "        ###### Cast time stamp to integer\n",
        "        trace_df[\"Timestamp\"] = trace_df.Timestamp.astype(int)\n",
        "\n",
        "        # sorting by Timestamp and deleting duplicate timeslots \n",
        "        \n",
        "        trace_df.sort_values(\"Timestamp\", inplace = True)\n",
        "        trace_df = trace_df.reset_index(drop=True)\n",
        "        trace_df.drop_duplicates(subset=\"Timestamp\",keep=False, inplace=True)\n",
        "        trace_df = trace_df.reset_index(drop=True)\n",
        "        \n",
        "        trace_df=trace_df.replace(np.nan,0)\n",
        "\n",
        "        #keep only top 200 rows in one sequence     \n",
        "        #trace_df=trace_df.head(200)\n",
        "\n",
        "        #for i in range(0,len(trace_df)):\n",
        "         # trace_df.at[i,'Timestamp']=i\n",
        "        \n",
        "        #trace_df['time_index'] = trace_df.index\n",
        "        #print(trace_df.head())\n",
        "        #trace_df['floor_name']=floor\n",
        "        #trace_df['path_id']=floor+path_id\n",
        "        #path_id=path_id+1\n",
        "        #trace_df['wifi_df'].fillna(0)\n",
        "        #trace_df['ibeacon_df'].fillna(0)\n",
        "        #trace_df['wifi_df'].fillna(0)\n",
        "        \n",
        "\n",
        "        wp_df = trace_df[['waypoint_val1', 'waypoint_val2']].copy()\n",
        "        wp_df=connect_waypoints(wp_df)\n",
        "        wp_values=wp_df.values\n",
        "        #Removing text based fields in dataframe\n",
        "        trace_df=trace_df.drop(['Timestamp'], axis=1)\n",
        "        trace_df=trace_df.drop(['wifi_val1'], axis=1)\n",
        "        trace_df=trace_df.drop(['wifi_val2'], axis=1)\n",
        "        trace_df=trace_df.drop(['ibeacon_val1'], axis=1)\n",
        "        trace_df.astype('float32')        \n",
        "        trace_df=trace_df.drop(['waypoint_val1','waypoint_val2'], axis=1)\n",
        "        #floor_trace_df=floor_trace_df.append(trace_df)\n",
        "        values = trace_df.values \n",
        "\n",
        "\n",
        "        \n",
        "\n",
        "\n",
        "        #Now split sequence into required number of timeslots\n",
        "        l=int(len(values)/timeslots)\n",
        "        k=0\n",
        "        for m in range(l):\n",
        "          s_temp=values[k:k+timeslots]\n",
        "          wp_temp=wp_values[k:k+timeslots]\n",
        "          #Normalize\n",
        "          #min_max_scaler = preprocessing.MinMaxScaler()\n",
        "          #s_scaled = min_max_scaler.fit_transform(s_temp)\n",
        "          sequence.append(s_temp)\n",
        "          wp_full_seq.append(wp_temp)\n",
        "          target_seq.append(floor)\n",
        "          wp_temp=wp_df.iloc[k:k+timeslots,0:]\n",
        "          wp_temp=wp_temp.reset_index(drop=True)\n",
        "          #wp_temp=connect_waypoints(wp_temp)\n",
        "        #Now after connecting the waypoints, the avearge has become a wieghted average in time series\n",
        "          wp_avg_x=wp_temp['waypoint_val1'].mean()\n",
        "          wp_avg_y=wp_temp['waypoint_val2'].mean()\n",
        "        #maximum and minimum will be useful in second part\n",
        "          wp_max_x=wp_temp['waypoint_val1'].max()\n",
        "          wp_min_x=wp_temp['waypoint_val1'].min()\n",
        "          wp_max_y=wp_temp['waypoint_val2'].max()\n",
        "          wp_min_y=wp_temp['waypoint_val2'].min()\n",
        "          \n",
        "          waypoint_seq.append([wp_avg_x,wp_avg_y,wp_max_x,wp_min_x,wp_max_y,wp_min_y])\n",
        "          k+=timeslots\n",
        "\n",
        "    return trace(sequence,target_seq,waypoint_seq,wp_full_seq)"
      ],
      "execution_count": null,
      "outputs": []
    },
    {
      "cell_type": "code",
      "metadata": {
        "id": "RIHmyZk8PWje"
      },
      "source": [
        "#Extracting data for B1 floor only\n",
        "sequences = list()\n",
        "target_sequence=list()\n",
        "waypoint_sequence=list()\n",
        "waypoint_full_sequence=list()\n",
        "#floors_df=pd.DataFrame()\n",
        "file_path = '/content/drive/MyDrive/building1/data/B1'\n",
        "trace_values=(convert_to_df(file_path,0,5))\n",
        "sequences.extend(trace_values.sequence)\n",
        "target_sequence.extend(trace_values.target_seq)\n",
        "waypoint_sequence.extend(trace_values.waypoint_seq)\n",
        "waypoint_full_sequence.extend(trace_values.wp_full_seq)"
      ],
      "execution_count": null,
      "outputs": []
    },
    {
      "cell_type": "code",
      "metadata": {
        "colab": {
          "base_uri": "https://localhost:8080/"
        },
        "id": "-H8pSsXd15bP",
        "outputId": "07e98f2a-eb69-4d8b-e724-8f711d71aa6d"
      },
      "source": [
        "waypoint_sequence[0]"
      ],
      "execution_count": null,
      "outputs": [
        {
          "output_type": "execute_result",
          "data": {
            "text/plain": [
              "[198.39352660531696,\n",
              " 163.5148854601227,\n",
              " 198.41872321063394,\n",
              " 198.36833,\n",
              " 163.52063,\n",
              " 163.50914092024541]"
            ]
          },
          "metadata": {
            "tags": []
          },
          "execution_count": 8
        }
      ]
    },
    {
      "cell_type": "code",
      "metadata": {
        "colab": {
          "base_uri": "https://localhost:8080/"
        },
        "id": "cu3Zj31ukXcD",
        "outputId": "c78487eb-fb5e-4e56-cc7f-2ca07d1f156f"
      },
      "source": [
        "len(sequences[0])"
      ],
      "execution_count": null,
      "outputs": [
        {
          "output_type": "execute_result",
          "data": {
            "text/plain": [
              "5"
            ]
          },
          "metadata": {
            "tags": []
          },
          "execution_count": 38
        }
      ]
    },
    {
      "cell_type": "code",
      "metadata": {
        "colab": {
          "base_uri": "https://localhost:8080/"
        },
        "id": "z_7S8TmaPWje",
        "outputId": "e319afe6-e700-4f59-d5c0-e0efc18c6b84"
      },
      "source": [
        "print('Number of sequences',len(sequences))\n",
        "print('Number of targets',len(target_sequence))\n",
        "print('Number of timeslots in first sequence',(sequences[0].shape)[0])\n",
        "print('Number of timeslots in tenth sequence',(sequences[9].shape)[0])\n",
        "print('Number of timeslots in hundredth sequence',(sequences[99].shape)[0])"
      ],
      "execution_count": null,
      "outputs": [
        {
          "output_type": "stream",
          "text": [
            "Number of sequences 44943\n",
            "Number of targets 44943\n",
            "Number of timeslots in first sequence 5\n",
            "Number of timeslots in tenth sequence 5\n",
            "Number of timeslots in hundredth sequence 5\n"
          ],
          "name": "stdout"
        }
      ]
    },
    {
      "cell_type": "markdown",
      "metadata": {
        "id": "vo62w2LuQHNq"
      },
      "source": [
        "# Part 2 "
      ]
    },
    {
      "cell_type": "markdown",
      "metadata": {
        "id": "Qnk26WqnQJKY"
      },
      "source": [
        "### After knowing the floor, now we need to predict waypoints on that floor."
      ]
    },
    {
      "cell_type": "markdown",
      "metadata": {
        "id": "uGoxuEgijbH1"
      },
      "source": [
        "### We assume that floor B1 was predicted in first part. So, for this part we will only take data of floor B1."
      ]
    },
    {
      "cell_type": "code",
      "metadata": {
        "colab": {
          "base_uri": "https://localhost:8080/"
        },
        "id": "ISwnNpCoPWji",
        "outputId": "811f976d-3dec-405f-a212-5014bde9ac8c"
      },
      "source": [
        "len(waypoint_sequence)"
      ],
      "execution_count": null,
      "outputs": [
        {
          "output_type": "execute_result",
          "data": {
            "text/plain": [
              "44943"
            ]
          },
          "metadata": {
            "tags": []
          },
          "execution_count": 8
        }
      ]
    },
    {
      "cell_type": "code",
      "metadata": {
        "colab": {
          "base_uri": "https://localhost:8080/"
        },
        "id": "xXPijH_9Y8VR",
        "outputId": "310c9165-748c-4fd9-9225-a402d74889f6"
      },
      "source": [
        "len(sequences)"
      ],
      "execution_count": null,
      "outputs": [
        {
          "output_type": "execute_result",
          "data": {
            "text/plain": [
              "44943"
            ]
          },
          "metadata": {
            "tags": []
          },
          "execution_count": 40
        }
      ]
    },
    {
      "cell_type": "code",
      "metadata": {
        "colab": {
          "base_uri": "https://localhost:8080/"
        },
        "id": "ZvxwS2mkjomJ",
        "outputId": "74af9b9a-a576-4c2b-90e0-989cdab2273d"
      },
      "source": [
        "##We will divide the area into grids. But first we need to know the dimensions to work with\n",
        "wp_df = pd.DataFrame(waypoint_sequence, columns = ['avg_x','avg_y','max_x','min_x','max_y','min_y',])\n",
        "wp_df=wp_df.head(len(sequences))  #number of sequences for floor B1\n",
        "wp_df = wp_df.round(decimals=5)\n",
        "floor_max_x=wp_df['max_x'].max()\n",
        "floor_min_x=wp_df['min_x'].min()\n",
        "floor_max_y=wp_df['max_y'].max()\n",
        "floor_min_y=wp_df['min_y'].min()\n",
        "print(floor_max_x,floor_min_x,floor_max_y,floor_min_y)"
      ],
      "execution_count": null,
      "outputs": [
        {
          "output_type": "stream",
          "text": [
            "233.94418 36.63454 192.99721 75.00506\n"
          ],
          "name": "stdout"
        }
      ]
    },
    {
      "cell_type": "code",
      "metadata": {
        "id": "1QefxsOkmJDo"
      },
      "source": [
        "#Creating grid for labelling\n",
        "#We will create a 10X10 grid for 100 labels\n",
        "array_x=np.linspace(floor_min_x,floor_max_x,11)\n",
        "array_y=np.linspace(floor_min_y,floor_max_y,11)\n",
        "label=list()\n",
        "k=0\n",
        "for j in range(1,11):\n",
        "  for i in range(1,11):\n",
        "    label.append([array_x[i],array_y[j],k])\n",
        "    k+=1  "
      ],
      "execution_count": null,
      "outputs": []
    },
    {
      "cell_type": "code",
      "metadata": {
        "colab": {
          "base_uri": "https://localhost:8080/"
        },
        "id": "01lxZoqopST6",
        "outputId": "de9aa0c1-f14e-44f2-bae6-05c60c1f2d52"
      },
      "source": [
        "#Now we need to give labels to our waypoints sequence on the basis of average waypoints\n",
        "print(wp_df.head())\n",
        "for i in range(len(wp_df)):\n",
        "  for j in range(len(label)):\n",
        "    if(wp_df.at[i,'avg_x']<=label[j][0]):\n",
        "       for p in range(len(label)):\n",
        "         if(wp_df.at[i,'avg_y']<=label[p][1]):\n",
        "           wp_df.at[i,'label']=label[j+p][2]\n",
        "           break\n",
        "       break    \n",
        "print(wp_df.head(20))           "
      ],
      "execution_count": null,
      "outputs": [
        {
          "output_type": "stream",
          "text": [
            "       avg_x      avg_y      max_x      min_x      max_y      min_y\n",
            "0  198.39353  163.51489  198.41872  198.36833  163.52063  163.50914\n",
            "1  198.45652  163.50052  198.48171  198.43132  163.50627  163.49478\n",
            "2  198.51951  163.48616  198.54471  198.49431  163.49191  163.48042\n",
            "3  198.58250  163.47180  198.60770  198.55730  163.47755  163.46606\n",
            "4  198.64549  163.45744  198.67069  198.62030  163.46318  163.45170\n",
            "        avg_x      avg_y      max_x      min_x      max_y      min_y  label\n",
            "0   198.39353  163.51489  198.41872  198.36833  163.52063  163.50914   78.0\n",
            "1   198.45652  163.50052  198.48171  198.43132  163.50627  163.49478   78.0\n",
            "2   198.51951  163.48616  198.54471  198.49431  163.49191  163.48042   78.0\n",
            "3   198.58250  163.47180  198.60770  198.55730  163.47755  163.46606   78.0\n",
            "4   198.64549  163.45744  198.67069  198.62030  163.46318  163.45170   78.0\n",
            "5   198.70848  163.44308  198.73368  198.68329  163.44882  163.43733   78.0\n",
            "6   198.77148  163.42872  198.79667  198.74628  163.43446  163.42297   78.0\n",
            "7   198.83447  163.41436  198.85966  198.80927  163.42010  163.40861   78.0\n",
            "8   198.89746  163.39999  198.92266  198.87226  163.40574  163.39425   78.0\n",
            "9   198.96045  163.38563  198.98565  198.93525  163.39138  163.37989   78.0\n",
            "10  199.02344  163.37127  199.04864  198.99825  163.37702  163.36553   78.0\n",
            "11  199.08643  163.35691  199.11163  199.06124  163.36266  163.35117   78.0\n",
            "12  199.14942  163.34255  199.17462  199.12423  163.34829  163.33680   78.0\n",
            "13  199.21242  163.32819  199.23761  199.18722  163.33393  163.32244   78.0\n",
            "14  199.27541  163.31383  199.30060  199.25021  163.31957  163.30808   78.0\n",
            "15  199.33840  163.29947  199.36360  199.31320  163.30521  163.29372   78.0\n",
            "16  199.40139  163.28510  199.42659  199.37619  163.29085  163.27936   78.0\n",
            "17  199.46438  163.27074  199.48958  199.43919  163.27649  163.26500   78.0\n",
            "18  199.52737  163.25638  199.55257  199.50218  163.26213  163.25064   78.0\n",
            "19  199.59037  163.24202  199.61556  199.56517  163.24776  163.23628   78.0\n"
          ],
          "name": "stdout"
        }
      ]
    },
    {
      "cell_type": "code",
      "metadata": {
        "colab": {
          "base_uri": "https://localhost:8080/"
        },
        "id": "wB-6V2700gTq",
        "outputId": "af3b1d98-75d8-486c-db3f-120c3784bc40"
      },
      "source": [
        "#Now we need to create new train, validation and test split for only building 1\n",
        "train_length=int(len(sequences)*0.7)\n",
        "val_length=int(len(sequences)*0.15)\n",
        "test_length=len(sequences)-train_length-val_length\n",
        "\n",
        "train_flags=np.full((train_length), 0)\n",
        "validation_flags=np.full((val_length), 1)\n",
        "test_flags=np.full((test_length), 2)\n",
        "\n",
        "flags=[]\n",
        "flags.extend(train_flags)\n",
        "flags.extend(validation_flags)\n",
        "flags.extend(test_flags)\n",
        "np.random.shuffle(flags)\n",
        "len(flags)"
      ],
      "execution_count": null,
      "outputs": [
        {
          "output_type": "execute_result",
          "data": {
            "text/plain": [
              "44943"
            ]
          },
          "metadata": {
            "tags": []
          },
          "execution_count": 12
        }
      ]
    },
    {
      "cell_type": "code",
      "metadata": {
        "colab": {
          "base_uri": "https://localhost:8080/"
        },
        "id": "QfUNUjSi3fu_",
        "outputId": "bd502004-1446-4618-e507-15edde46994a"
      },
      "source": [
        "#Creating target sequence\n",
        "target_sequence2=wp_df['label'].values\n",
        "#Slice the sequence to get only floor B1 data\n",
        "sequences2=sequences[0:len(sequences)]\n",
        "target_sequence2=np.array(target_sequence2)\n",
        "target_sequence2"
      ],
      "execution_count": null,
      "outputs": [
        {
          "output_type": "execute_result",
          "data": {
            "text/plain": [
              "array([78., 78., 78., ..., 73., 73., 73.])"
            ]
          },
          "metadata": {
            "tags": []
          },
          "execution_count": 13
        }
      ]
    },
    {
      "cell_type": "code",
      "metadata": {
        "id": "PXaAAD281td9"
      },
      "source": [
        "train = [sequences2[i] for i in range(len(flags)) if (flags[i]==0)]\n",
        "validation = [sequences2[i] for i in range(len(flags)) if flags[i]==1]\n",
        "test = [sequences2[i] for i in range(len(flags)) if flags[i]==2]\n",
        "test_seq_wp=[waypoint_full_sequence[i] for i in range(len(flags)) if flags[i]==2]\n",
        "\n",
        "train_target = [target_sequence2[i] for i in range(len(flags)) if (flags[i]==0)]\n",
        "validation_target = [target_sequence2[i] for i in range(len(flags)) if flags[i]==1]\n",
        "test_target = [target_sequence2[i] for i in range(len(flags)) if flags[i]==2]\n",
        "train = np.array(train)\n",
        "validation = np.array(validation)\n",
        "test = np.array(test)\n",
        "\n",
        "train_target = np.array(train_target)\n",
        "train_target=to_categorical(train_target,num_classes = 100)\n",
        "\n",
        "validation_target = np.array(validation_target)\n",
        "validation_target=to_categorical(validation_target,num_classes = 100)\n",
        "test_target = np.array(test_target)\n",
        "test_target=to_categorical(test_target,num_classes = 100)"
      ],
      "execution_count": null,
      "outputs": []
    },
    {
      "cell_type": "code",
      "metadata": {
        "colab": {
          "base_uri": "https://localhost:8080/"
        },
        "id": "yDFDCkPn-GDs",
        "outputId": "7fbe74af-01bb-4b89-9a97-99c25d030d73"
      },
      "source": [
        "print(sequences2[0].shape)\n",
        "train_target[0]\n",
        "len(test_seq_wp)"
      ],
      "execution_count": null,
      "outputs": [
        {
          "output_type": "stream",
          "text": [
            "(5, 24)\n"
          ],
          "name": "stdout"
        },
        {
          "output_type": "execute_result",
          "data": {
            "text/plain": [
              "6742"
            ]
          },
          "metadata": {
            "tags": []
          },
          "execution_count": 15
        }
      ]
    },
    {
      "cell_type": "code",
      "metadata": {
        "id": "Clp7vzIBcMfP"
      },
      "source": [
        "train=tf.convert_to_tensor(train, np.float32)\n",
        "train_target=tf.convert_to_tensor(train_target, np.float32)\n",
        "validation=tf.convert_to_tensor(validation, np.float32)\n",
        "validation_target=tf.convert_to_tensor(validation_target, np.float32)\n",
        "test=tf.convert_to_tensor(test, np.float32)\n",
        "test_target=tf.convert_to_tensor(test_target, np.float32)"
      ],
      "execution_count": null,
      "outputs": []
    },
    {
      "cell_type": "code",
      "metadata": {
        "colab": {
          "base_uri": "https://localhost:8080/"
        },
        "id": "Vlq3I9B0C9HQ",
        "outputId": "60e6362f-20f6-4341-cef4-3cc040cbbdb8"
      },
      "source": [
        "#Trial with 100 grid cells \n",
        "from keras.layers import Dropout\n",
        "seq_len = 5\n",
        "seq_bredth=24\n",
        "model = Sequential()\n",
        "model.add(Bidirectional(LSTM(256,return_sequences=True),input_shape=(seq_len, seq_bredth),merge_mode='concat'))\n",
        "model.add(LSTM(256, input_shape=(3, 512)))\n",
        "model.add(Dense(100, activation='softmax'))\n",
        "model.summary()"
      ],
      "execution_count": null,
      "outputs": [
        {
          "output_type": "stream",
          "text": [
            "Model: \"sequential_1\"\n",
            "_________________________________________________________________\n",
            "Layer (type)                 Output Shape              Param #   \n",
            "=================================================================\n",
            "bidirectional_1 (Bidirection (None, 5, 512)            575488    \n",
            "_________________________________________________________________\n",
            "lstm_3 (LSTM)                (None, 256)               787456    \n",
            "_________________________________________________________________\n",
            "dense_1 (Dense)              (None, 100)               25700     \n",
            "=================================================================\n",
            "Total params: 1,388,644\n",
            "Trainable params: 1,388,644\n",
            "Non-trainable params: 0\n",
            "_________________________________________________________________\n"
          ],
          "name": "stdout"
        }
      ]
    },
    {
      "cell_type": "code",
      "metadata": {
        "colab": {
          "base_uri": "https://localhost:8080/"
        },
        "id": "8QzFV7hnDMyS",
        "outputId": "b1de96c1-ed7f-4e9e-86e5-dd084a4e6afc"
      },
      "source": [
        "#This is 100 cells simple LSTM\n",
        "adam = Adam(lr=0.001)\n",
        "checkpoint_filepath = '/content/drive/MyDrive/building1/26March5slots_200epochs_biDirLSTMsingleDense/best_model.pkl'\n",
        "chk = ModelCheckpoint(filepath=checkpoint_filepath, monitor='val_accuracy', save_best_only=True, mode='max', verbose=1)\n",
        "model.compile(loss='categorical_crossentropy', optimizer=adam, metrics=['accuracy'])\n",
        "history=model.fit(train, train_target, epochs=200, batch_size=128, callbacks=[chk], validation_data=(validation,validation_target))"
      ],
      "execution_count": null,
      "outputs": [
        {
          "output_type": "stream",
          "text": [
            "Epoch 1/200\n",
            "246/246 [==============================] - 44s 157ms/step - loss: 3.4144 - accuracy: 0.1263 - val_loss: 2.3627 - val_accuracy: 0.2830\n",
            "\n",
            "Epoch 00001: val_accuracy improved from -inf to 0.28304, saving model to /content/drive/MyDrive/building1/26March5slots_200epochs_biDirLSTMsingleDense/best_model.pkl\n"
          ],
          "name": "stdout"
        },
        {
          "output_type": "stream",
          "text": [
            "WARNING:absl:Found untraced functions such as lstm_cell_7_layer_call_fn, lstm_cell_7_layer_call_and_return_conditional_losses, lstm_cell_5_layer_call_fn, lstm_cell_5_layer_call_and_return_conditional_losses, lstm_cell_6_layer_call_fn while saving (showing 5 of 15). These functions will not be directly callable after loading.\n",
            "WARNING:absl:Found untraced functions such as lstm_cell_7_layer_call_fn, lstm_cell_7_layer_call_and_return_conditional_losses, lstm_cell_5_layer_call_fn, lstm_cell_5_layer_call_and_return_conditional_losses, lstm_cell_6_layer_call_fn while saving (showing 5 of 15). These functions will not be directly callable after loading.\n"
          ],
          "name": "stderr"
        },
        {
          "output_type": "stream",
          "text": [
            "INFO:tensorflow:Assets written to: /content/drive/MyDrive/building1/26March5slots_200epochs_biDirLSTMsingleDense/best_model.pkl/assets\n"
          ],
          "name": "stdout"
        },
        {
          "output_type": "stream",
          "text": [
            "INFO:tensorflow:Assets written to: /content/drive/MyDrive/building1/26March5slots_200epochs_biDirLSTMsingleDense/best_model.pkl/assets\n"
          ],
          "name": "stderr"
        },
        {
          "output_type": "stream",
          "text": [
            "Epoch 2/200\n",
            "246/246 [==============================] - 37s 149ms/step - loss: 2.0515 - accuracy: 0.3471 - val_loss: 1.6425 - val_accuracy: 0.4557\n",
            "\n",
            "Epoch 00002: val_accuracy improved from 0.28304 to 0.45572, saving model to /content/drive/MyDrive/building1/26March5slots_200epochs_biDirLSTMsingleDense/best_model.pkl\n"
          ],
          "name": "stdout"
        },
        {
          "output_type": "stream",
          "text": [
            "WARNING:absl:Found untraced functions such as lstm_cell_7_layer_call_fn, lstm_cell_7_layer_call_and_return_conditional_losses, lstm_cell_5_layer_call_fn, lstm_cell_5_layer_call_and_return_conditional_losses, lstm_cell_6_layer_call_fn while saving (showing 5 of 15). These functions will not be directly callable after loading.\n",
            "WARNING:absl:Found untraced functions such as lstm_cell_7_layer_call_fn, lstm_cell_7_layer_call_and_return_conditional_losses, lstm_cell_5_layer_call_fn, lstm_cell_5_layer_call_and_return_conditional_losses, lstm_cell_6_layer_call_fn while saving (showing 5 of 15). These functions will not be directly callable after loading.\n"
          ],
          "name": "stderr"
        },
        {
          "output_type": "stream",
          "text": [
            "INFO:tensorflow:Assets written to: /content/drive/MyDrive/building1/26March5slots_200epochs_biDirLSTMsingleDense/best_model.pkl/assets\n"
          ],
          "name": "stdout"
        },
        {
          "output_type": "stream",
          "text": [
            "INFO:tensorflow:Assets written to: /content/drive/MyDrive/building1/26March5slots_200epochs_biDirLSTMsingleDense/best_model.pkl/assets\n"
          ],
          "name": "stderr"
        },
        {
          "output_type": "stream",
          "text": [
            "Epoch 3/200\n",
            "246/246 [==============================] - 38s 153ms/step - loss: 1.5947 - accuracy: 0.4597 - val_loss: 1.3813 - val_accuracy: 0.5191\n",
            "\n",
            "Epoch 00003: val_accuracy improved from 0.45572 to 0.51906, saving model to /content/drive/MyDrive/building1/26March5slots_200epochs_biDirLSTMsingleDense/best_model.pkl\n"
          ],
          "name": "stdout"
        },
        {
          "output_type": "stream",
          "text": [
            "WARNING:absl:Found untraced functions such as lstm_cell_7_layer_call_fn, lstm_cell_7_layer_call_and_return_conditional_losses, lstm_cell_5_layer_call_fn, lstm_cell_5_layer_call_and_return_conditional_losses, lstm_cell_6_layer_call_fn while saving (showing 5 of 15). These functions will not be directly callable after loading.\n",
            "WARNING:absl:Found untraced functions such as lstm_cell_7_layer_call_fn, lstm_cell_7_layer_call_and_return_conditional_losses, lstm_cell_5_layer_call_fn, lstm_cell_5_layer_call_and_return_conditional_losses, lstm_cell_6_layer_call_fn while saving (showing 5 of 15). These functions will not be directly callable after loading.\n"
          ],
          "name": "stderr"
        },
        {
          "output_type": "stream",
          "text": [
            "INFO:tensorflow:Assets written to: /content/drive/MyDrive/building1/26March5slots_200epochs_biDirLSTMsingleDense/best_model.pkl/assets\n"
          ],
          "name": "stdout"
        },
        {
          "output_type": "stream",
          "text": [
            "INFO:tensorflow:Assets written to: /content/drive/MyDrive/building1/26March5slots_200epochs_biDirLSTMsingleDense/best_model.pkl/assets\n"
          ],
          "name": "stderr"
        },
        {
          "output_type": "stream",
          "text": [
            "Epoch 4/200\n",
            "246/246 [==============================] - 38s 153ms/step - loss: 1.3624 - accuracy: 0.5190 - val_loss: 1.2869 - val_accuracy: 0.5400\n",
            "\n",
            "Epoch 00004: val_accuracy improved from 0.51906 to 0.53998, saving model to /content/drive/MyDrive/building1/26March5slots_200epochs_biDirLSTMsingleDense/best_model.pkl\n"
          ],
          "name": "stdout"
        },
        {
          "output_type": "stream",
          "text": [
            "WARNING:absl:Found untraced functions such as lstm_cell_7_layer_call_fn, lstm_cell_7_layer_call_and_return_conditional_losses, lstm_cell_5_layer_call_fn, lstm_cell_5_layer_call_and_return_conditional_losses, lstm_cell_6_layer_call_fn while saving (showing 5 of 15). These functions will not be directly callable after loading.\n",
            "WARNING:absl:Found untraced functions such as lstm_cell_7_layer_call_fn, lstm_cell_7_layer_call_and_return_conditional_losses, lstm_cell_5_layer_call_fn, lstm_cell_5_layer_call_and_return_conditional_losses, lstm_cell_6_layer_call_fn while saving (showing 5 of 15). These functions will not be directly callable after loading.\n"
          ],
          "name": "stderr"
        },
        {
          "output_type": "stream",
          "text": [
            "INFO:tensorflow:Assets written to: /content/drive/MyDrive/building1/26March5slots_200epochs_biDirLSTMsingleDense/best_model.pkl/assets\n"
          ],
          "name": "stdout"
        },
        {
          "output_type": "stream",
          "text": [
            "INFO:tensorflow:Assets written to: /content/drive/MyDrive/building1/26March5slots_200epochs_biDirLSTMsingleDense/best_model.pkl/assets\n"
          ],
          "name": "stderr"
        },
        {
          "output_type": "stream",
          "text": [
            "Epoch 5/200\n",
            "246/246 [==============================] - 38s 154ms/step - loss: 1.2583 - accuracy: 0.5537 - val_loss: 1.1837 - val_accuracy: 0.5759\n",
            "\n",
            "Epoch 00005: val_accuracy improved from 0.53998 to 0.57588, saving model to /content/drive/MyDrive/building1/26March5slots_200epochs_biDirLSTMsingleDense/best_model.pkl\n"
          ],
          "name": "stdout"
        },
        {
          "output_type": "stream",
          "text": [
            "WARNING:absl:Found untraced functions such as lstm_cell_7_layer_call_fn, lstm_cell_7_layer_call_and_return_conditional_losses, lstm_cell_5_layer_call_fn, lstm_cell_5_layer_call_and_return_conditional_losses, lstm_cell_6_layer_call_fn while saving (showing 5 of 15). These functions will not be directly callable after loading.\n",
            "WARNING:absl:Found untraced functions such as lstm_cell_7_layer_call_fn, lstm_cell_7_layer_call_and_return_conditional_losses, lstm_cell_5_layer_call_fn, lstm_cell_5_layer_call_and_return_conditional_losses, lstm_cell_6_layer_call_fn while saving (showing 5 of 15). These functions will not be directly callable after loading.\n"
          ],
          "name": "stderr"
        },
        {
          "output_type": "stream",
          "text": [
            "INFO:tensorflow:Assets written to: /content/drive/MyDrive/building1/26March5slots_200epochs_biDirLSTMsingleDense/best_model.pkl/assets\n"
          ],
          "name": "stdout"
        },
        {
          "output_type": "stream",
          "text": [
            "INFO:tensorflow:Assets written to: /content/drive/MyDrive/building1/26March5slots_200epochs_biDirLSTMsingleDense/best_model.pkl/assets\n"
          ],
          "name": "stderr"
        },
        {
          "output_type": "stream",
          "text": [
            "Epoch 6/200\n",
            "246/246 [==============================] - 38s 155ms/step - loss: 1.1326 - accuracy: 0.5918 - val_loss: 1.1443 - val_accuracy: 0.5937\n",
            "\n",
            "Epoch 00006: val_accuracy improved from 0.57588 to 0.59368, saving model to /content/drive/MyDrive/building1/26March5slots_200epochs_biDirLSTMsingleDense/best_model.pkl\n"
          ],
          "name": "stdout"
        },
        {
          "output_type": "stream",
          "text": [
            "WARNING:absl:Found untraced functions such as lstm_cell_7_layer_call_fn, lstm_cell_7_layer_call_and_return_conditional_losses, lstm_cell_5_layer_call_fn, lstm_cell_5_layer_call_and_return_conditional_losses, lstm_cell_6_layer_call_fn while saving (showing 5 of 15). These functions will not be directly callable after loading.\n",
            "WARNING:absl:Found untraced functions such as lstm_cell_7_layer_call_fn, lstm_cell_7_layer_call_and_return_conditional_losses, lstm_cell_5_layer_call_fn, lstm_cell_5_layer_call_and_return_conditional_losses, lstm_cell_6_layer_call_fn while saving (showing 5 of 15). These functions will not be directly callable after loading.\n"
          ],
          "name": "stderr"
        },
        {
          "output_type": "stream",
          "text": [
            "INFO:tensorflow:Assets written to: /content/drive/MyDrive/building1/26March5slots_200epochs_biDirLSTMsingleDense/best_model.pkl/assets\n"
          ],
          "name": "stdout"
        },
        {
          "output_type": "stream",
          "text": [
            "INFO:tensorflow:Assets written to: /content/drive/MyDrive/building1/26March5slots_200epochs_biDirLSTMsingleDense/best_model.pkl/assets\n"
          ],
          "name": "stderr"
        },
        {
          "output_type": "stream",
          "text": [
            "Epoch 7/200\n",
            "246/246 [==============================] - 38s 154ms/step - loss: 1.0583 - accuracy: 0.6208 - val_loss: 1.1434 - val_accuracy: 0.5947\n",
            "\n",
            "Epoch 00007: val_accuracy improved from 0.59368 to 0.59472, saving model to /content/drive/MyDrive/building1/26March5slots_200epochs_biDirLSTMsingleDense/best_model.pkl\n"
          ],
          "name": "stdout"
        },
        {
          "output_type": "stream",
          "text": [
            "WARNING:absl:Found untraced functions such as lstm_cell_7_layer_call_fn, lstm_cell_7_layer_call_and_return_conditional_losses, lstm_cell_5_layer_call_fn, lstm_cell_5_layer_call_and_return_conditional_losses, lstm_cell_6_layer_call_fn while saving (showing 5 of 15). These functions will not be directly callable after loading.\n",
            "WARNING:absl:Found untraced functions such as lstm_cell_7_layer_call_fn, lstm_cell_7_layer_call_and_return_conditional_losses, lstm_cell_5_layer_call_fn, lstm_cell_5_layer_call_and_return_conditional_losses, lstm_cell_6_layer_call_fn while saving (showing 5 of 15). These functions will not be directly callable after loading.\n"
          ],
          "name": "stderr"
        },
        {
          "output_type": "stream",
          "text": [
            "INFO:tensorflow:Assets written to: /content/drive/MyDrive/building1/26March5slots_200epochs_biDirLSTMsingleDense/best_model.pkl/assets\n"
          ],
          "name": "stdout"
        },
        {
          "output_type": "stream",
          "text": [
            "INFO:tensorflow:Assets written to: /content/drive/MyDrive/building1/26March5slots_200epochs_biDirLSTMsingleDense/best_model.pkl/assets\n"
          ],
          "name": "stderr"
        },
        {
          "output_type": "stream",
          "text": [
            "Epoch 8/200\n",
            "246/246 [==============================] - 37s 151ms/step - loss: 1.0081 - accuracy: 0.6389 - val_loss: 1.0501 - val_accuracy: 0.6294\n",
            "\n",
            "Epoch 00008: val_accuracy improved from 0.59472 to 0.62943, saving model to /content/drive/MyDrive/building1/26March5slots_200epochs_biDirLSTMsingleDense/best_model.pkl\n"
          ],
          "name": "stdout"
        },
        {
          "output_type": "stream",
          "text": [
            "WARNING:absl:Found untraced functions such as lstm_cell_7_layer_call_fn, lstm_cell_7_layer_call_and_return_conditional_losses, lstm_cell_5_layer_call_fn, lstm_cell_5_layer_call_and_return_conditional_losses, lstm_cell_6_layer_call_fn while saving (showing 5 of 15). These functions will not be directly callable after loading.\n",
            "WARNING:absl:Found untraced functions such as lstm_cell_7_layer_call_fn, lstm_cell_7_layer_call_and_return_conditional_losses, lstm_cell_5_layer_call_fn, lstm_cell_5_layer_call_and_return_conditional_losses, lstm_cell_6_layer_call_fn while saving (showing 5 of 15). These functions will not be directly callable after loading.\n"
          ],
          "name": "stderr"
        },
        {
          "output_type": "stream",
          "text": [
            "INFO:tensorflow:Assets written to: /content/drive/MyDrive/building1/26March5slots_200epochs_biDirLSTMsingleDense/best_model.pkl/assets\n"
          ],
          "name": "stdout"
        },
        {
          "output_type": "stream",
          "text": [
            "INFO:tensorflow:Assets written to: /content/drive/MyDrive/building1/26March5slots_200epochs_biDirLSTMsingleDense/best_model.pkl/assets\n"
          ],
          "name": "stderr"
        },
        {
          "output_type": "stream",
          "text": [
            "Epoch 9/200\n",
            "246/246 [==============================] - 37s 151ms/step - loss: 0.9516 - accuracy: 0.6565 - val_loss: 1.0165 - val_accuracy: 0.6352\n",
            "\n",
            "Epoch 00009: val_accuracy improved from 0.62943 to 0.63522, saving model to /content/drive/MyDrive/building1/26March5slots_200epochs_biDirLSTMsingleDense/best_model.pkl\n"
          ],
          "name": "stdout"
        },
        {
          "output_type": "stream",
          "text": [
            "WARNING:absl:Found untraced functions such as lstm_cell_7_layer_call_fn, lstm_cell_7_layer_call_and_return_conditional_losses, lstm_cell_5_layer_call_fn, lstm_cell_5_layer_call_and_return_conditional_losses, lstm_cell_6_layer_call_fn while saving (showing 5 of 15). These functions will not be directly callable after loading.\n",
            "WARNING:absl:Found untraced functions such as lstm_cell_7_layer_call_fn, lstm_cell_7_layer_call_and_return_conditional_losses, lstm_cell_5_layer_call_fn, lstm_cell_5_layer_call_and_return_conditional_losses, lstm_cell_6_layer_call_fn while saving (showing 5 of 15). These functions will not be directly callable after loading.\n"
          ],
          "name": "stderr"
        },
        {
          "output_type": "stream",
          "text": [
            "INFO:tensorflow:Assets written to: /content/drive/MyDrive/building1/26March5slots_200epochs_biDirLSTMsingleDense/best_model.pkl/assets\n"
          ],
          "name": "stdout"
        },
        {
          "output_type": "stream",
          "text": [
            "INFO:tensorflow:Assets written to: /content/drive/MyDrive/building1/26March5slots_200epochs_biDirLSTMsingleDense/best_model.pkl/assets\n"
          ],
          "name": "stderr"
        },
        {
          "output_type": "stream",
          "text": [
            "Epoch 10/200\n",
            "246/246 [==============================] - 38s 153ms/step - loss: 0.8924 - accuracy: 0.6806 - val_loss: 0.9696 - val_accuracy: 0.6469\n",
            "\n",
            "Epoch 00010: val_accuracy improved from 0.63522 to 0.64694, saving model to /content/drive/MyDrive/building1/26March5slots_200epochs_biDirLSTMsingleDense/best_model.pkl\n"
          ],
          "name": "stdout"
        },
        {
          "output_type": "stream",
          "text": [
            "WARNING:absl:Found untraced functions such as lstm_cell_7_layer_call_fn, lstm_cell_7_layer_call_and_return_conditional_losses, lstm_cell_5_layer_call_fn, lstm_cell_5_layer_call_and_return_conditional_losses, lstm_cell_6_layer_call_fn while saving (showing 5 of 15). These functions will not be directly callable after loading.\n",
            "WARNING:absl:Found untraced functions such as lstm_cell_7_layer_call_fn, lstm_cell_7_layer_call_and_return_conditional_losses, lstm_cell_5_layer_call_fn, lstm_cell_5_layer_call_and_return_conditional_losses, lstm_cell_6_layer_call_fn while saving (showing 5 of 15). These functions will not be directly callable after loading.\n"
          ],
          "name": "stderr"
        },
        {
          "output_type": "stream",
          "text": [
            "INFO:tensorflow:Assets written to: /content/drive/MyDrive/building1/26March5slots_200epochs_biDirLSTMsingleDense/best_model.pkl/assets\n"
          ],
          "name": "stdout"
        },
        {
          "output_type": "stream",
          "text": [
            "INFO:tensorflow:Assets written to: /content/drive/MyDrive/building1/26March5slots_200epochs_biDirLSTMsingleDense/best_model.pkl/assets\n"
          ],
          "name": "stderr"
        },
        {
          "output_type": "stream",
          "text": [
            "Epoch 11/200\n",
            "246/246 [==============================] - 37s 151ms/step - loss: 0.8411 - accuracy: 0.6954 - val_loss: 1.0671 - val_accuracy: 0.6263\n",
            "\n",
            "Epoch 00011: val_accuracy did not improve from 0.64694\n",
            "Epoch 12/200\n",
            "246/246 [==============================] - 37s 151ms/step - loss: 0.8133 - accuracy: 0.7054 - val_loss: 1.0251 - val_accuracy: 0.6334\n",
            "\n",
            "Epoch 00012: val_accuracy did not improve from 0.64694\n",
            "Epoch 13/200\n",
            "246/246 [==============================] - 37s 151ms/step - loss: 0.7768 - accuracy: 0.7200 - val_loss: 0.8601 - val_accuracy: 0.6903\n",
            "\n",
            "Epoch 00013: val_accuracy improved from 0.64694 to 0.69025, saving model to /content/drive/MyDrive/building1/26March5slots_200epochs_biDirLSTMsingleDense/best_model.pkl\n"
          ],
          "name": "stdout"
        },
        {
          "output_type": "stream",
          "text": [
            "WARNING:absl:Found untraced functions such as lstm_cell_7_layer_call_fn, lstm_cell_7_layer_call_and_return_conditional_losses, lstm_cell_5_layer_call_fn, lstm_cell_5_layer_call_and_return_conditional_losses, lstm_cell_6_layer_call_fn while saving (showing 5 of 15). These functions will not be directly callable after loading.\n",
            "WARNING:absl:Found untraced functions such as lstm_cell_7_layer_call_fn, lstm_cell_7_layer_call_and_return_conditional_losses, lstm_cell_5_layer_call_fn, lstm_cell_5_layer_call_and_return_conditional_losses, lstm_cell_6_layer_call_fn while saving (showing 5 of 15). These functions will not be directly callable after loading.\n"
          ],
          "name": "stderr"
        },
        {
          "output_type": "stream",
          "text": [
            "INFO:tensorflow:Assets written to: /content/drive/MyDrive/building1/26March5slots_200epochs_biDirLSTMsingleDense/best_model.pkl/assets\n"
          ],
          "name": "stdout"
        },
        {
          "output_type": "stream",
          "text": [
            "INFO:tensorflow:Assets written to: /content/drive/MyDrive/building1/26March5slots_200epochs_biDirLSTMsingleDense/best_model.pkl/assets\n"
          ],
          "name": "stderr"
        },
        {
          "output_type": "stream",
          "text": [
            "Epoch 14/200\n",
            "246/246 [==============================] - 37s 151ms/step - loss: 0.7164 - accuracy: 0.7435 - val_loss: 0.8557 - val_accuracy: 0.6906\n",
            "\n",
            "Epoch 00014: val_accuracy improved from 0.69025 to 0.69055, saving model to /content/drive/MyDrive/building1/26March5slots_200epochs_biDirLSTMsingleDense/best_model.pkl\n"
          ],
          "name": "stdout"
        },
        {
          "output_type": "stream",
          "text": [
            "WARNING:absl:Found untraced functions such as lstm_cell_7_layer_call_fn, lstm_cell_7_layer_call_and_return_conditional_losses, lstm_cell_5_layer_call_fn, lstm_cell_5_layer_call_and_return_conditional_losses, lstm_cell_6_layer_call_fn while saving (showing 5 of 15). These functions will not be directly callable after loading.\n",
            "WARNING:absl:Found untraced functions such as lstm_cell_7_layer_call_fn, lstm_cell_7_layer_call_and_return_conditional_losses, lstm_cell_5_layer_call_fn, lstm_cell_5_layer_call_and_return_conditional_losses, lstm_cell_6_layer_call_fn while saving (showing 5 of 15). These functions will not be directly callable after loading.\n"
          ],
          "name": "stderr"
        },
        {
          "output_type": "stream",
          "text": [
            "INFO:tensorflow:Assets written to: /content/drive/MyDrive/building1/26March5slots_200epochs_biDirLSTMsingleDense/best_model.pkl/assets\n"
          ],
          "name": "stdout"
        },
        {
          "output_type": "stream",
          "text": [
            "INFO:tensorflow:Assets written to: /content/drive/MyDrive/building1/26March5slots_200epochs_biDirLSTMsingleDense/best_model.pkl/assets\n"
          ],
          "name": "stderr"
        },
        {
          "output_type": "stream",
          "text": [
            "Epoch 15/200\n",
            "246/246 [==============================] - 37s 151ms/step - loss: 0.7019 - accuracy: 0.7437 - val_loss: 0.8501 - val_accuracy: 0.6962\n",
            "\n",
            "Epoch 00015: val_accuracy improved from 0.69055 to 0.69619, saving model to /content/drive/MyDrive/building1/26March5slots_200epochs_biDirLSTMsingleDense/best_model.pkl\n"
          ],
          "name": "stdout"
        },
        {
          "output_type": "stream",
          "text": [
            "WARNING:absl:Found untraced functions such as lstm_cell_7_layer_call_fn, lstm_cell_7_layer_call_and_return_conditional_losses, lstm_cell_5_layer_call_fn, lstm_cell_5_layer_call_and_return_conditional_losses, lstm_cell_6_layer_call_fn while saving (showing 5 of 15). These functions will not be directly callable after loading.\n",
            "WARNING:absl:Found untraced functions such as lstm_cell_7_layer_call_fn, lstm_cell_7_layer_call_and_return_conditional_losses, lstm_cell_5_layer_call_fn, lstm_cell_5_layer_call_and_return_conditional_losses, lstm_cell_6_layer_call_fn while saving (showing 5 of 15). These functions will not be directly callable after loading.\n"
          ],
          "name": "stderr"
        },
        {
          "output_type": "stream",
          "text": [
            "INFO:tensorflow:Assets written to: /content/drive/MyDrive/building1/26March5slots_200epochs_biDirLSTMsingleDense/best_model.pkl/assets\n"
          ],
          "name": "stdout"
        },
        {
          "output_type": "stream",
          "text": [
            "INFO:tensorflow:Assets written to: /content/drive/MyDrive/building1/26March5slots_200epochs_biDirLSTMsingleDense/best_model.pkl/assets\n"
          ],
          "name": "stderr"
        },
        {
          "output_type": "stream",
          "text": [
            "Epoch 16/200\n",
            "246/246 [==============================] - 37s 151ms/step - loss: 0.6454 - accuracy: 0.7678 - val_loss: 0.8586 - val_accuracy: 0.6831\n",
            "\n",
            "Epoch 00016: val_accuracy did not improve from 0.69619\n",
            "Epoch 17/200\n",
            "246/246 [==============================] - 37s 151ms/step - loss: 0.6611 - accuracy: 0.7604 - val_loss: 0.8082 - val_accuracy: 0.7049\n",
            "\n",
            "Epoch 00017: val_accuracy improved from 0.69619 to 0.70494, saving model to /content/drive/MyDrive/building1/26March5slots_200epochs_biDirLSTMsingleDense/best_model.pkl\n"
          ],
          "name": "stdout"
        },
        {
          "output_type": "stream",
          "text": [
            "WARNING:absl:Found untraced functions such as lstm_cell_7_layer_call_fn, lstm_cell_7_layer_call_and_return_conditional_losses, lstm_cell_5_layer_call_fn, lstm_cell_5_layer_call_and_return_conditional_losses, lstm_cell_6_layer_call_fn while saving (showing 5 of 15). These functions will not be directly callable after loading.\n",
            "WARNING:absl:Found untraced functions such as lstm_cell_7_layer_call_fn, lstm_cell_7_layer_call_and_return_conditional_losses, lstm_cell_5_layer_call_fn, lstm_cell_5_layer_call_and_return_conditional_losses, lstm_cell_6_layer_call_fn while saving (showing 5 of 15). These functions will not be directly callable after loading.\n"
          ],
          "name": "stderr"
        },
        {
          "output_type": "stream",
          "text": [
            "INFO:tensorflow:Assets written to: /content/drive/MyDrive/building1/26March5slots_200epochs_biDirLSTMsingleDense/best_model.pkl/assets\n"
          ],
          "name": "stdout"
        },
        {
          "output_type": "stream",
          "text": [
            "INFO:tensorflow:Assets written to: /content/drive/MyDrive/building1/26March5slots_200epochs_biDirLSTMsingleDense/best_model.pkl/assets\n"
          ],
          "name": "stderr"
        },
        {
          "output_type": "stream",
          "text": [
            "Epoch 18/200\n",
            "246/246 [==============================] - 37s 151ms/step - loss: 0.5857 - accuracy: 0.7909 - val_loss: 0.7920 - val_accuracy: 0.7162\n",
            "\n",
            "Epoch 00018: val_accuracy improved from 0.70494 to 0.71621, saving model to /content/drive/MyDrive/building1/26March5slots_200epochs_biDirLSTMsingleDense/best_model.pkl\n"
          ],
          "name": "stdout"
        },
        {
          "output_type": "stream",
          "text": [
            "WARNING:absl:Found untraced functions such as lstm_cell_7_layer_call_fn, lstm_cell_7_layer_call_and_return_conditional_losses, lstm_cell_5_layer_call_fn, lstm_cell_5_layer_call_and_return_conditional_losses, lstm_cell_6_layer_call_fn while saving (showing 5 of 15). These functions will not be directly callable after loading.\n",
            "WARNING:absl:Found untraced functions such as lstm_cell_7_layer_call_fn, lstm_cell_7_layer_call_and_return_conditional_losses, lstm_cell_5_layer_call_fn, lstm_cell_5_layer_call_and_return_conditional_losses, lstm_cell_6_layer_call_fn while saving (showing 5 of 15). These functions will not be directly callable after loading.\n"
          ],
          "name": "stderr"
        },
        {
          "output_type": "stream",
          "text": [
            "INFO:tensorflow:Assets written to: /content/drive/MyDrive/building1/26March5slots_200epochs_biDirLSTMsingleDense/best_model.pkl/assets\n"
          ],
          "name": "stdout"
        },
        {
          "output_type": "stream",
          "text": [
            "INFO:tensorflow:Assets written to: /content/drive/MyDrive/building1/26March5slots_200epochs_biDirLSTMsingleDense/best_model.pkl/assets\n"
          ],
          "name": "stderr"
        },
        {
          "output_type": "stream",
          "text": [
            "Epoch 19/200\n",
            "246/246 [==============================] - 38s 155ms/step - loss: 0.5541 - accuracy: 0.8009 - val_loss: 0.7892 - val_accuracy: 0.7149\n",
            "\n",
            "Epoch 00019: val_accuracy did not improve from 0.71621\n",
            "Epoch 20/200\n",
            "246/246 [==============================] - 38s 156ms/step - loss: 0.5644 - accuracy: 0.7954 - val_loss: 0.8020 - val_accuracy: 0.7153\n",
            "\n",
            "Epoch 00020: val_accuracy did not improve from 0.71621\n",
            "Epoch 21/200\n",
            "246/246 [==============================] - 38s 155ms/step - loss: 0.5252 - accuracy: 0.8108 - val_loss: 0.8074 - val_accuracy: 0.7134\n",
            "\n",
            "Epoch 00021: val_accuracy did not improve from 0.71621\n",
            "Epoch 22/200\n",
            "246/246 [==============================] - 38s 156ms/step - loss: 0.5286 - accuracy: 0.8115 - val_loss: 0.8142 - val_accuracy: 0.7097\n",
            "\n",
            "Epoch 00022: val_accuracy did not improve from 0.71621\n",
            "Epoch 23/200\n",
            "246/246 [==============================] - 38s 156ms/step - loss: 0.4759 - accuracy: 0.8280 - val_loss: 0.7405 - val_accuracy: 0.7294\n",
            "\n",
            "Epoch 00023: val_accuracy improved from 0.71621 to 0.72942, saving model to /content/drive/MyDrive/building1/26March5slots_200epochs_biDirLSTMsingleDense/best_model.pkl\n"
          ],
          "name": "stdout"
        },
        {
          "output_type": "stream",
          "text": [
            "WARNING:absl:Found untraced functions such as lstm_cell_7_layer_call_fn, lstm_cell_7_layer_call_and_return_conditional_losses, lstm_cell_5_layer_call_fn, lstm_cell_5_layer_call_and_return_conditional_losses, lstm_cell_6_layer_call_fn while saving (showing 5 of 15). These functions will not be directly callable after loading.\n",
            "WARNING:absl:Found untraced functions such as lstm_cell_7_layer_call_fn, lstm_cell_7_layer_call_and_return_conditional_losses, lstm_cell_5_layer_call_fn, lstm_cell_5_layer_call_and_return_conditional_losses, lstm_cell_6_layer_call_fn while saving (showing 5 of 15). These functions will not be directly callable after loading.\n"
          ],
          "name": "stderr"
        },
        {
          "output_type": "stream",
          "text": [
            "INFO:tensorflow:Assets written to: /content/drive/MyDrive/building1/26March5slots_200epochs_biDirLSTMsingleDense/best_model.pkl/assets\n"
          ],
          "name": "stdout"
        },
        {
          "output_type": "stream",
          "text": [
            "INFO:tensorflow:Assets written to: /content/drive/MyDrive/building1/26March5slots_200epochs_biDirLSTMsingleDense/best_model.pkl/assets\n"
          ],
          "name": "stderr"
        },
        {
          "output_type": "stream",
          "text": [
            "Epoch 24/200\n",
            "246/246 [==============================] - 39s 158ms/step - loss: 0.4430 - accuracy: 0.8434 - val_loss: 0.8061 - val_accuracy: 0.7190\n",
            "\n",
            "Epoch 00024: val_accuracy did not improve from 0.72942\n",
            "Epoch 25/200\n",
            "246/246 [==============================] - 39s 157ms/step - loss: 0.4537 - accuracy: 0.8380 - val_loss: 0.7513 - val_accuracy: 0.7361\n",
            "\n",
            "Epoch 00025: val_accuracy improved from 0.72942 to 0.73609, saving model to /content/drive/MyDrive/building1/26March5slots_200epochs_biDirLSTMsingleDense/best_model.pkl\n"
          ],
          "name": "stdout"
        },
        {
          "output_type": "stream",
          "text": [
            "WARNING:absl:Found untraced functions such as lstm_cell_7_layer_call_fn, lstm_cell_7_layer_call_and_return_conditional_losses, lstm_cell_5_layer_call_fn, lstm_cell_5_layer_call_and_return_conditional_losses, lstm_cell_6_layer_call_fn while saving (showing 5 of 15). These functions will not be directly callable after loading.\n",
            "WARNING:absl:Found untraced functions such as lstm_cell_7_layer_call_fn, lstm_cell_7_layer_call_and_return_conditional_losses, lstm_cell_5_layer_call_fn, lstm_cell_5_layer_call_and_return_conditional_losses, lstm_cell_6_layer_call_fn while saving (showing 5 of 15). These functions will not be directly callable after loading.\n"
          ],
          "name": "stderr"
        },
        {
          "output_type": "stream",
          "text": [
            "INFO:tensorflow:Assets written to: /content/drive/MyDrive/building1/26March5slots_200epochs_biDirLSTMsingleDense/best_model.pkl/assets\n"
          ],
          "name": "stdout"
        },
        {
          "output_type": "stream",
          "text": [
            "INFO:tensorflow:Assets written to: /content/drive/MyDrive/building1/26March5slots_200epochs_biDirLSTMsingleDense/best_model.pkl/assets\n"
          ],
          "name": "stderr"
        },
        {
          "output_type": "stream",
          "text": [
            "Epoch 26/200\n",
            "246/246 [==============================] - 39s 157ms/step - loss: 0.4341 - accuracy: 0.8423 - val_loss: 0.7477 - val_accuracy: 0.7331\n",
            "\n",
            "Epoch 00026: val_accuracy did not improve from 0.73609\n",
            "Epoch 27/200\n",
            "246/246 [==============================] - 39s 158ms/step - loss: 0.4547 - accuracy: 0.8405 - val_loss: 0.7248 - val_accuracy: 0.7441\n",
            "\n",
            "Epoch 00027: val_accuracy improved from 0.73609 to 0.74410, saving model to /content/drive/MyDrive/building1/26March5slots_200epochs_biDirLSTMsingleDense/best_model.pkl\n"
          ],
          "name": "stdout"
        },
        {
          "output_type": "stream",
          "text": [
            "WARNING:absl:Found untraced functions such as lstm_cell_7_layer_call_fn, lstm_cell_7_layer_call_and_return_conditional_losses, lstm_cell_5_layer_call_fn, lstm_cell_5_layer_call_and_return_conditional_losses, lstm_cell_6_layer_call_fn while saving (showing 5 of 15). These functions will not be directly callable after loading.\n",
            "WARNING:absl:Found untraced functions such as lstm_cell_7_layer_call_fn, lstm_cell_7_layer_call_and_return_conditional_losses, lstm_cell_5_layer_call_fn, lstm_cell_5_layer_call_and_return_conditional_losses, lstm_cell_6_layer_call_fn while saving (showing 5 of 15). These functions will not be directly callable after loading.\n"
          ],
          "name": "stderr"
        },
        {
          "output_type": "stream",
          "text": [
            "INFO:tensorflow:Assets written to: /content/drive/MyDrive/building1/26March5slots_200epochs_biDirLSTMsingleDense/best_model.pkl/assets\n"
          ],
          "name": "stdout"
        },
        {
          "output_type": "stream",
          "text": [
            "INFO:tensorflow:Assets written to: /content/drive/MyDrive/building1/26March5slots_200epochs_biDirLSTMsingleDense/best_model.pkl/assets\n"
          ],
          "name": "stderr"
        },
        {
          "output_type": "stream",
          "text": [
            "Epoch 28/200\n",
            "246/246 [==============================] - 39s 158ms/step - loss: 0.3692 - accuracy: 0.8692 - val_loss: 0.8085 - val_accuracy: 0.7224\n",
            "\n",
            "Epoch 00028: val_accuracy did not improve from 0.74410\n",
            "Epoch 29/200\n",
            "246/246 [==============================] - 39s 158ms/step - loss: 0.4453 - accuracy: 0.8412 - val_loss: 0.7443 - val_accuracy: 0.7416\n",
            "\n",
            "Epoch 00029: val_accuracy did not improve from 0.74410\n",
            "Epoch 30/200\n",
            "246/246 [==============================] - 38s 156ms/step - loss: 0.3496 - accuracy: 0.8765 - val_loss: 0.7518 - val_accuracy: 0.7371\n",
            "\n",
            "Epoch 00030: val_accuracy did not improve from 0.74410\n",
            "Epoch 31/200\n",
            "246/246 [==============================] - 39s 158ms/step - loss: 0.3467 - accuracy: 0.8794 - val_loss: 0.7596 - val_accuracy: 0.7354\n",
            "\n",
            "Epoch 00031: val_accuracy did not improve from 0.74410\n",
            "Epoch 32/200\n",
            "246/246 [==============================] - 39s 159ms/step - loss: 0.3191 - accuracy: 0.8880 - val_loss: 0.7403 - val_accuracy: 0.7408\n",
            "\n",
            "Epoch 00032: val_accuracy did not improve from 0.74410\n",
            "Epoch 33/200\n",
            "246/246 [==============================] - 39s 159ms/step - loss: 0.3194 - accuracy: 0.8867 - val_loss: 0.7351 - val_accuracy: 0.7462\n",
            "\n",
            "Epoch 00033: val_accuracy improved from 0.74410 to 0.74618, saving model to /content/drive/MyDrive/building1/26March5slots_200epochs_biDirLSTMsingleDense/best_model.pkl\n"
          ],
          "name": "stdout"
        },
        {
          "output_type": "stream",
          "text": [
            "WARNING:absl:Found untraced functions such as lstm_cell_7_layer_call_fn, lstm_cell_7_layer_call_and_return_conditional_losses, lstm_cell_5_layer_call_fn, lstm_cell_5_layer_call_and_return_conditional_losses, lstm_cell_6_layer_call_fn while saving (showing 5 of 15). These functions will not be directly callable after loading.\n",
            "WARNING:absl:Found untraced functions such as lstm_cell_7_layer_call_fn, lstm_cell_7_layer_call_and_return_conditional_losses, lstm_cell_5_layer_call_fn, lstm_cell_5_layer_call_and_return_conditional_losses, lstm_cell_6_layer_call_fn while saving (showing 5 of 15). These functions will not be directly callable after loading.\n"
          ],
          "name": "stderr"
        },
        {
          "output_type": "stream",
          "text": [
            "INFO:tensorflow:Assets written to: /content/drive/MyDrive/building1/26March5slots_200epochs_biDirLSTMsingleDense/best_model.pkl/assets\n"
          ],
          "name": "stdout"
        },
        {
          "output_type": "stream",
          "text": [
            "INFO:tensorflow:Assets written to: /content/drive/MyDrive/building1/26March5slots_200epochs_biDirLSTMsingleDense/best_model.pkl/assets\n"
          ],
          "name": "stderr"
        },
        {
          "output_type": "stream",
          "text": [
            "Epoch 34/200\n",
            "246/246 [==============================] - 39s 159ms/step - loss: 0.2838 - accuracy: 0.9029 - val_loss: 0.7672 - val_accuracy: 0.7428\n",
            "\n",
            "Epoch 00034: val_accuracy did not improve from 0.74618\n",
            "Epoch 35/200\n",
            "246/246 [==============================] - 39s 159ms/step - loss: 0.2980 - accuracy: 0.8971 - val_loss: 0.7880 - val_accuracy: 0.7321\n",
            "\n",
            "Epoch 00035: val_accuracy did not improve from 0.74618\n",
            "Epoch 36/200\n",
            "246/246 [==============================] - 39s 158ms/step - loss: 0.2717 - accuracy: 0.9071 - val_loss: 0.9238 - val_accuracy: 0.6975\n",
            "\n",
            "Epoch 00036: val_accuracy did not improve from 0.74618\n",
            "Epoch 37/200\n",
            "246/246 [==============================] - 39s 158ms/step - loss: 0.3190 - accuracy: 0.8883 - val_loss: 0.7172 - val_accuracy: 0.7570\n",
            "\n",
            "Epoch 00037: val_accuracy improved from 0.74618 to 0.75701, saving model to /content/drive/MyDrive/building1/26March5slots_200epochs_biDirLSTMsingleDense/best_model.pkl\n"
          ],
          "name": "stdout"
        },
        {
          "output_type": "stream",
          "text": [
            "WARNING:absl:Found untraced functions such as lstm_cell_7_layer_call_fn, lstm_cell_7_layer_call_and_return_conditional_losses, lstm_cell_5_layer_call_fn, lstm_cell_5_layer_call_and_return_conditional_losses, lstm_cell_6_layer_call_fn while saving (showing 5 of 15). These functions will not be directly callable after loading.\n",
            "WARNING:absl:Found untraced functions such as lstm_cell_7_layer_call_fn, lstm_cell_7_layer_call_and_return_conditional_losses, lstm_cell_5_layer_call_fn, lstm_cell_5_layer_call_and_return_conditional_losses, lstm_cell_6_layer_call_fn while saving (showing 5 of 15). These functions will not be directly callable after loading.\n"
          ],
          "name": "stderr"
        },
        {
          "output_type": "stream",
          "text": [
            "INFO:tensorflow:Assets written to: /content/drive/MyDrive/building1/26March5slots_200epochs_biDirLSTMsingleDense/best_model.pkl/assets\n"
          ],
          "name": "stdout"
        },
        {
          "output_type": "stream",
          "text": [
            "INFO:tensorflow:Assets written to: /content/drive/MyDrive/building1/26March5slots_200epochs_biDirLSTMsingleDense/best_model.pkl/assets\n"
          ],
          "name": "stderr"
        },
        {
          "output_type": "stream",
          "text": [
            "Epoch 38/200\n",
            "246/246 [==============================] - 39s 159ms/step - loss: 0.2190 - accuracy: 0.9261 - val_loss: 0.7315 - val_accuracy: 0.7514\n",
            "\n",
            "Epoch 00038: val_accuracy did not improve from 0.75701\n",
            "Epoch 39/200\n",
            "246/246 [==============================] - 40s 161ms/step - loss: 0.2529 - accuracy: 0.9152 - val_loss: 0.7570 - val_accuracy: 0.7457\n",
            "\n",
            "Epoch 00039: val_accuracy did not improve from 0.75701\n",
            "Epoch 40/200\n",
            "246/246 [==============================] - 39s 160ms/step - loss: 0.2149 - accuracy: 0.9284 - val_loss: 0.7307 - val_accuracy: 0.7619\n",
            "\n",
            "Epoch 00040: val_accuracy improved from 0.75701 to 0.76190, saving model to /content/drive/MyDrive/building1/26March5slots_200epochs_biDirLSTMsingleDense/best_model.pkl\n"
          ],
          "name": "stdout"
        },
        {
          "output_type": "stream",
          "text": [
            "WARNING:absl:Found untraced functions such as lstm_cell_7_layer_call_fn, lstm_cell_7_layer_call_and_return_conditional_losses, lstm_cell_5_layer_call_fn, lstm_cell_5_layer_call_and_return_conditional_losses, lstm_cell_6_layer_call_fn while saving (showing 5 of 15). These functions will not be directly callable after loading.\n",
            "WARNING:absl:Found untraced functions such as lstm_cell_7_layer_call_fn, lstm_cell_7_layer_call_and_return_conditional_losses, lstm_cell_5_layer_call_fn, lstm_cell_5_layer_call_and_return_conditional_losses, lstm_cell_6_layer_call_fn while saving (showing 5 of 15). These functions will not be directly callable after loading.\n"
          ],
          "name": "stderr"
        },
        {
          "output_type": "stream",
          "text": [
            "INFO:tensorflow:Assets written to: /content/drive/MyDrive/building1/26March5slots_200epochs_biDirLSTMsingleDense/best_model.pkl/assets\n"
          ],
          "name": "stdout"
        },
        {
          "output_type": "stream",
          "text": [
            "INFO:tensorflow:Assets written to: /content/drive/MyDrive/building1/26March5slots_200epochs_biDirLSTMsingleDense/best_model.pkl/assets\n"
          ],
          "name": "stderr"
        },
        {
          "output_type": "stream",
          "text": [
            "Epoch 41/200\n",
            "246/246 [==============================] - 39s 157ms/step - loss: 0.2600 - accuracy: 0.9106 - val_loss: 0.7143 - val_accuracy: 0.7640\n",
            "\n",
            "Epoch 00041: val_accuracy improved from 0.76190 to 0.76398, saving model to /content/drive/MyDrive/building1/26March5slots_200epochs_biDirLSTMsingleDense/best_model.pkl\n"
          ],
          "name": "stdout"
        },
        {
          "output_type": "stream",
          "text": [
            "WARNING:absl:Found untraced functions such as lstm_cell_7_layer_call_fn, lstm_cell_7_layer_call_and_return_conditional_losses, lstm_cell_5_layer_call_fn, lstm_cell_5_layer_call_and_return_conditional_losses, lstm_cell_6_layer_call_fn while saving (showing 5 of 15). These functions will not be directly callable after loading.\n",
            "WARNING:absl:Found untraced functions such as lstm_cell_7_layer_call_fn, lstm_cell_7_layer_call_and_return_conditional_losses, lstm_cell_5_layer_call_fn, lstm_cell_5_layer_call_and_return_conditional_losses, lstm_cell_6_layer_call_fn while saving (showing 5 of 15). These functions will not be directly callable after loading.\n"
          ],
          "name": "stderr"
        },
        {
          "output_type": "stream",
          "text": [
            "INFO:tensorflow:Assets written to: /content/drive/MyDrive/building1/26March5slots_200epochs_biDirLSTMsingleDense/best_model.pkl/assets\n"
          ],
          "name": "stdout"
        },
        {
          "output_type": "stream",
          "text": [
            "INFO:tensorflow:Assets written to: /content/drive/MyDrive/building1/26March5slots_200epochs_biDirLSTMsingleDense/best_model.pkl/assets\n"
          ],
          "name": "stderr"
        },
        {
          "output_type": "stream",
          "text": [
            "Epoch 42/200\n",
            "246/246 [==============================] - 39s 158ms/step - loss: 0.1963 - accuracy: 0.9345 - val_loss: 0.7719 - val_accuracy: 0.7508\n",
            "\n",
            "Epoch 00042: val_accuracy did not improve from 0.76398\n",
            "Epoch 43/200\n",
            "246/246 [==============================] - 39s 157ms/step - loss: 0.2318 - accuracy: 0.9220 - val_loss: 0.7532 - val_accuracy: 0.7532\n",
            "\n",
            "Epoch 00043: val_accuracy did not improve from 0.76398\n",
            "Epoch 44/200\n",
            "246/246 [==============================] - 39s 157ms/step - loss: 0.2092 - accuracy: 0.9303 - val_loss: 0.7531 - val_accuracy: 0.7561\n",
            "\n",
            "Epoch 00044: val_accuracy did not improve from 0.76398\n",
            "Epoch 45/200\n",
            "246/246 [==============================] - 39s 157ms/step - loss: 0.1950 - accuracy: 0.9359 - val_loss: 0.9137 - val_accuracy: 0.7186\n",
            "\n",
            "Epoch 00045: val_accuracy did not improve from 0.76398\n",
            "Epoch 46/200\n",
            "246/246 [==============================] - 39s 158ms/step - loss: 0.2185 - accuracy: 0.9266 - val_loss: 0.8664 - val_accuracy: 0.7245\n",
            "\n",
            "Epoch 00046: val_accuracy did not improve from 0.76398\n",
            "Epoch 47/200\n",
            "246/246 [==============================] - 39s 158ms/step - loss: 0.2122 - accuracy: 0.9257 - val_loss: 0.7174 - val_accuracy: 0.7680\n",
            "\n",
            "Epoch 00047: val_accuracy improved from 0.76398 to 0.76799, saving model to /content/drive/MyDrive/building1/26March5slots_200epochs_biDirLSTMsingleDense/best_model.pkl\n"
          ],
          "name": "stdout"
        },
        {
          "output_type": "stream",
          "text": [
            "WARNING:absl:Found untraced functions such as lstm_cell_7_layer_call_fn, lstm_cell_7_layer_call_and_return_conditional_losses, lstm_cell_5_layer_call_fn, lstm_cell_5_layer_call_and_return_conditional_losses, lstm_cell_6_layer_call_fn while saving (showing 5 of 15). These functions will not be directly callable after loading.\n",
            "WARNING:absl:Found untraced functions such as lstm_cell_7_layer_call_fn, lstm_cell_7_layer_call_and_return_conditional_losses, lstm_cell_5_layer_call_fn, lstm_cell_5_layer_call_and_return_conditional_losses, lstm_cell_6_layer_call_fn while saving (showing 5 of 15). These functions will not be directly callable after loading.\n"
          ],
          "name": "stderr"
        },
        {
          "output_type": "stream",
          "text": [
            "INFO:tensorflow:Assets written to: /content/drive/MyDrive/building1/26March5slots_200epochs_biDirLSTMsingleDense/best_model.pkl/assets\n"
          ],
          "name": "stdout"
        },
        {
          "output_type": "stream",
          "text": [
            "INFO:tensorflow:Assets written to: /content/drive/MyDrive/building1/26March5slots_200epochs_biDirLSTMsingleDense/best_model.pkl/assets\n"
          ],
          "name": "stderr"
        },
        {
          "output_type": "stream",
          "text": [
            "Epoch 48/200\n",
            "246/246 [==============================] - 39s 158ms/step - loss: 0.1521 - accuracy: 0.9522 - val_loss: 0.7282 - val_accuracy: 0.7696\n",
            "\n",
            "Epoch 00048: val_accuracy improved from 0.76799 to 0.76962, saving model to /content/drive/MyDrive/building1/26March5slots_200epochs_biDirLSTMsingleDense/best_model.pkl\n"
          ],
          "name": "stdout"
        },
        {
          "output_type": "stream",
          "text": [
            "WARNING:absl:Found untraced functions such as lstm_cell_7_layer_call_fn, lstm_cell_7_layer_call_and_return_conditional_losses, lstm_cell_5_layer_call_fn, lstm_cell_5_layer_call_and_return_conditional_losses, lstm_cell_6_layer_call_fn while saving (showing 5 of 15). These functions will not be directly callable after loading.\n",
            "WARNING:absl:Found untraced functions such as lstm_cell_7_layer_call_fn, lstm_cell_7_layer_call_and_return_conditional_losses, lstm_cell_5_layer_call_fn, lstm_cell_5_layer_call_and_return_conditional_losses, lstm_cell_6_layer_call_fn while saving (showing 5 of 15). These functions will not be directly callable after loading.\n"
          ],
          "name": "stderr"
        },
        {
          "output_type": "stream",
          "text": [
            "INFO:tensorflow:Assets written to: /content/drive/MyDrive/building1/26March5slots_200epochs_biDirLSTMsingleDense/best_model.pkl/assets\n"
          ],
          "name": "stdout"
        },
        {
          "output_type": "stream",
          "text": [
            "INFO:tensorflow:Assets written to: /content/drive/MyDrive/building1/26March5slots_200epochs_biDirLSTMsingleDense/best_model.pkl/assets\n"
          ],
          "name": "stderr"
        },
        {
          "output_type": "stream",
          "text": [
            "Epoch 49/200\n",
            "246/246 [==============================] - 39s 158ms/step - loss: 0.1475 - accuracy: 0.9534 - val_loss: 0.7604 - val_accuracy: 0.7619\n",
            "\n",
            "Epoch 00049: val_accuracy did not improve from 0.76962\n",
            "Epoch 50/200\n",
            "246/246 [==============================] - 39s 158ms/step - loss: 0.2281 - accuracy: 0.9236 - val_loss: 0.7707 - val_accuracy: 0.7607\n",
            "\n",
            "Epoch 00050: val_accuracy did not improve from 0.76962\n",
            "Epoch 51/200\n",
            "246/246 [==============================] - 39s 158ms/step - loss: 0.1377 - accuracy: 0.9567 - val_loss: 0.7593 - val_accuracy: 0.7635\n",
            "\n",
            "Epoch 00051: val_accuracy did not improve from 0.76962\n",
            "Epoch 52/200\n",
            "246/246 [==============================] - 39s 157ms/step - loss: 0.1395 - accuracy: 0.9540 - val_loss: 0.7710 - val_accuracy: 0.7619\n",
            "\n",
            "Epoch 00052: val_accuracy did not improve from 0.76962\n",
            "Epoch 53/200\n",
            "246/246 [==============================] - 39s 157ms/step - loss: 0.1869 - accuracy: 0.9365 - val_loss: 1.0529 - val_accuracy: 0.6969\n",
            "\n",
            "Epoch 00053: val_accuracy did not improve from 0.76962\n",
            "Epoch 54/200\n",
            "246/246 [==============================] - 39s 157ms/step - loss: 0.2552 - accuracy: 0.9138 - val_loss: 0.7244 - val_accuracy: 0.7766\n",
            "\n",
            "Epoch 00054: val_accuracy improved from 0.76962 to 0.77659, saving model to /content/drive/MyDrive/building1/26March5slots_200epochs_biDirLSTMsingleDense/best_model.pkl\n"
          ],
          "name": "stdout"
        },
        {
          "output_type": "stream",
          "text": [
            "WARNING:absl:Found untraced functions such as lstm_cell_7_layer_call_fn, lstm_cell_7_layer_call_and_return_conditional_losses, lstm_cell_5_layer_call_fn, lstm_cell_5_layer_call_and_return_conditional_losses, lstm_cell_6_layer_call_fn while saving (showing 5 of 15). These functions will not be directly callable after loading.\n",
            "WARNING:absl:Found untraced functions such as lstm_cell_7_layer_call_fn, lstm_cell_7_layer_call_and_return_conditional_losses, lstm_cell_5_layer_call_fn, lstm_cell_5_layer_call_and_return_conditional_losses, lstm_cell_6_layer_call_fn while saving (showing 5 of 15). These functions will not be directly callable after loading.\n"
          ],
          "name": "stderr"
        },
        {
          "output_type": "stream",
          "text": [
            "INFO:tensorflow:Assets written to: /content/drive/MyDrive/building1/26March5slots_200epochs_biDirLSTMsingleDense/best_model.pkl/assets\n"
          ],
          "name": "stdout"
        },
        {
          "output_type": "stream",
          "text": [
            "INFO:tensorflow:Assets written to: /content/drive/MyDrive/building1/26March5slots_200epochs_biDirLSTMsingleDense/best_model.pkl/assets\n"
          ],
          "name": "stderr"
        },
        {
          "output_type": "stream",
          "text": [
            "Epoch 55/200\n",
            "246/246 [==============================] - 39s 158ms/step - loss: 0.1258 - accuracy: 0.9608 - val_loss: 0.8255 - val_accuracy: 0.7575\n",
            "\n",
            "Epoch 00055: val_accuracy did not improve from 0.77659\n",
            "Epoch 56/200\n",
            "246/246 [==============================] - 39s 157ms/step - loss: 0.1436 - accuracy: 0.9515 - val_loss: 0.8127 - val_accuracy: 0.7564\n",
            "\n",
            "Epoch 00056: val_accuracy did not improve from 0.77659\n",
            "Epoch 57/200\n",
            "246/246 [==============================] - 39s 157ms/step - loss: 0.1486 - accuracy: 0.9489 - val_loss: 0.7810 - val_accuracy: 0.7668\n",
            "\n",
            "Epoch 00057: val_accuracy did not improve from 0.77659\n",
            "Epoch 58/200\n",
            "246/246 [==============================] - 39s 157ms/step - loss: 0.1038 - accuracy: 0.9694 - val_loss: 0.7597 - val_accuracy: 0.7747\n",
            "\n",
            "Epoch 00058: val_accuracy did not improve from 0.77659\n",
            "Epoch 59/200\n",
            "246/246 [==============================] - 39s 157ms/step - loss: 0.2069 - accuracy: 0.9337 - val_loss: 0.7968 - val_accuracy: 0.7668\n",
            "\n",
            "Epoch 00059: val_accuracy did not improve from 0.77659\n",
            "Epoch 60/200\n",
            "246/246 [==============================] - 39s 158ms/step - loss: 0.1087 - accuracy: 0.9666 - val_loss: 0.7548 - val_accuracy: 0.7744\n",
            "\n",
            "Epoch 00060: val_accuracy did not improve from 0.77659\n",
            "Epoch 61/200\n",
            "246/246 [==============================] - 39s 157ms/step - loss: 0.0991 - accuracy: 0.9706 - val_loss: 0.7835 - val_accuracy: 0.7695\n",
            "\n",
            "Epoch 00061: val_accuracy did not improve from 0.77659\n",
            "Epoch 62/200\n",
            "246/246 [==============================] - 39s 157ms/step - loss: 0.0989 - accuracy: 0.9689 - val_loss: 0.7574 - val_accuracy: 0.7779\n",
            "\n",
            "Epoch 00062: val_accuracy improved from 0.77659 to 0.77793, saving model to /content/drive/MyDrive/building1/26March5slots_200epochs_biDirLSTMsingleDense/best_model.pkl\n"
          ],
          "name": "stdout"
        },
        {
          "output_type": "stream",
          "text": [
            "WARNING:absl:Found untraced functions such as lstm_cell_7_layer_call_fn, lstm_cell_7_layer_call_and_return_conditional_losses, lstm_cell_5_layer_call_fn, lstm_cell_5_layer_call_and_return_conditional_losses, lstm_cell_6_layer_call_fn while saving (showing 5 of 15). These functions will not be directly callable after loading.\n",
            "WARNING:absl:Found untraced functions such as lstm_cell_7_layer_call_fn, lstm_cell_7_layer_call_and_return_conditional_losses, lstm_cell_5_layer_call_fn, lstm_cell_5_layer_call_and_return_conditional_losses, lstm_cell_6_layer_call_fn while saving (showing 5 of 15). These functions will not be directly callable after loading.\n"
          ],
          "name": "stderr"
        },
        {
          "output_type": "stream",
          "text": [
            "INFO:tensorflow:Assets written to: /content/drive/MyDrive/building1/26March5slots_200epochs_biDirLSTMsingleDense/best_model.pkl/assets\n"
          ],
          "name": "stdout"
        },
        {
          "output_type": "stream",
          "text": [
            "INFO:tensorflow:Assets written to: /content/drive/MyDrive/building1/26March5slots_200epochs_biDirLSTMsingleDense/best_model.pkl/assets\n"
          ],
          "name": "stderr"
        },
        {
          "output_type": "stream",
          "text": [
            "Epoch 63/200\n",
            "246/246 [==============================] - 39s 157ms/step - loss: 0.1218 - accuracy: 0.9592 - val_loss: 0.8335 - val_accuracy: 0.7570\n",
            "\n",
            "Epoch 00063: val_accuracy did not improve from 0.77793\n",
            "Epoch 64/200\n",
            "246/246 [==============================] - 39s 159ms/step - loss: 0.1308 - accuracy: 0.9570 - val_loss: 0.8453 - val_accuracy: 0.7598\n",
            "\n",
            "Epoch 00064: val_accuracy did not improve from 0.77793\n",
            "Epoch 65/200\n",
            "246/246 [==============================] - 39s 158ms/step - loss: 0.1280 - accuracy: 0.9572 - val_loss: 0.7786 - val_accuracy: 0.7720\n",
            "\n",
            "Epoch 00065: val_accuracy did not improve from 0.77793\n",
            "Epoch 66/200\n",
            "246/246 [==============================] - 39s 157ms/step - loss: 0.1490 - accuracy: 0.9503 - val_loss: 0.8073 - val_accuracy: 0.7661\n",
            "\n",
            "Epoch 00066: val_accuracy did not improve from 0.77793\n",
            "Epoch 67/200\n",
            "246/246 [==============================] - 39s 158ms/step - loss: 0.0939 - accuracy: 0.9697 - val_loss: 0.8731 - val_accuracy: 0.7494\n",
            "\n",
            "Epoch 00067: val_accuracy did not improve from 0.77793\n",
            "Epoch 68/200\n",
            "246/246 [==============================] - 39s 159ms/step - loss: 0.1081 - accuracy: 0.9654 - val_loss: 0.8555 - val_accuracy: 0.7613\n",
            "\n",
            "Epoch 00068: val_accuracy did not improve from 0.77793\n",
            "Epoch 69/200\n",
            "246/246 [==============================] - 39s 159ms/step - loss: 0.0747 - accuracy: 0.9775 - val_loss: 0.8045 - val_accuracy: 0.7758\n",
            "\n",
            "Epoch 00069: val_accuracy did not improve from 0.77793\n",
            "Epoch 70/200\n",
            "246/246 [==============================] - 39s 158ms/step - loss: 0.1188 - accuracy: 0.9603 - val_loss: 0.8601 - val_accuracy: 0.7652\n",
            "\n",
            "Epoch 00070: val_accuracy did not improve from 0.77793\n",
            "Epoch 71/200\n",
            "246/246 [==============================] - 39s 157ms/step - loss: 0.1154 - accuracy: 0.9628 - val_loss: 0.8759 - val_accuracy: 0.7536\n",
            "\n",
            "Epoch 00071: val_accuracy did not improve from 0.77793\n",
            "Epoch 72/200\n",
            "246/246 [==============================] - 39s 159ms/step - loss: 0.1210 - accuracy: 0.9604 - val_loss: 0.7963 - val_accuracy: 0.7761\n",
            "\n",
            "Epoch 00072: val_accuracy did not improve from 0.77793\n",
            "Epoch 73/200\n",
            "246/246 [==============================] - 39s 159ms/step - loss: 0.0920 - accuracy: 0.9701 - val_loss: 0.8761 - val_accuracy: 0.7618\n",
            "\n",
            "Epoch 00073: val_accuracy did not improve from 0.77793\n",
            "Epoch 74/200\n",
            "246/246 [==============================] - 39s 158ms/step - loss: 0.1091 - accuracy: 0.9630 - val_loss: 0.8493 - val_accuracy: 0.7680\n",
            "\n",
            "Epoch 00074: val_accuracy did not improve from 0.77793\n",
            "Epoch 75/200\n",
            "246/246 [==============================] - 39s 158ms/step - loss: 0.0891 - accuracy: 0.9726 - val_loss: 0.8924 - val_accuracy: 0.7595\n",
            "\n",
            "Epoch 00075: val_accuracy did not improve from 0.77793\n",
            "Epoch 76/200\n",
            "246/246 [==============================] - 39s 158ms/step - loss: 0.1290 - accuracy: 0.9566 - val_loss: 0.8800 - val_accuracy: 0.7610\n",
            "\n",
            "Epoch 00076: val_accuracy did not improve from 0.77793\n",
            "Epoch 77/200\n",
            "246/246 [==============================] - 39s 158ms/step - loss: 0.0802 - accuracy: 0.9748 - val_loss: 0.8111 - val_accuracy: 0.7779\n",
            "\n",
            "Epoch 00077: val_accuracy did not improve from 0.77793\n",
            "Epoch 78/200\n",
            "246/246 [==============================] - 39s 158ms/step - loss: 0.0439 - accuracy: 0.9889 - val_loss: 0.8351 - val_accuracy: 0.7751\n",
            "\n",
            "Epoch 00078: val_accuracy did not improve from 0.77793\n",
            "Epoch 79/200\n",
            "246/246 [==============================] - 39s 158ms/step - loss: 0.0506 - accuracy: 0.9865 - val_loss: 0.8758 - val_accuracy: 0.7699\n",
            "\n",
            "Epoch 00079: val_accuracy did not improve from 0.77793\n",
            "Epoch 80/200\n",
            "246/246 [==============================] - 40s 161ms/step - loss: 0.1684 - accuracy: 0.9450 - val_loss: 0.8989 - val_accuracy: 0.7586\n",
            "\n",
            "Epoch 00080: val_accuracy did not improve from 0.77793\n",
            "Epoch 81/200\n",
            "246/246 [==============================] - 39s 159ms/step - loss: 0.0925 - accuracy: 0.9690 - val_loss: 0.8729 - val_accuracy: 0.7724\n",
            "\n",
            "Epoch 00081: val_accuracy did not improve from 0.77793\n",
            "Epoch 82/200\n",
            "246/246 [==============================] - 39s 158ms/step - loss: 0.0698 - accuracy: 0.9791 - val_loss: 0.8452 - val_accuracy: 0.7750\n",
            "\n",
            "Epoch 00082: val_accuracy did not improve from 0.77793\n",
            "Epoch 83/200\n",
            "246/246 [==============================] - 39s 159ms/step - loss: 0.0498 - accuracy: 0.9860 - val_loss: 0.8684 - val_accuracy: 0.7715\n",
            "\n",
            "Epoch 00083: val_accuracy did not improve from 0.77793\n",
            "Epoch 84/200\n",
            "246/246 [==============================] - 39s 158ms/step - loss: 0.0733 - accuracy: 0.9779 - val_loss: 1.0823 - val_accuracy: 0.7109\n",
            "\n",
            "Epoch 00084: val_accuracy did not improve from 0.77793\n",
            "Epoch 85/200\n",
            "246/246 [==============================] - 39s 158ms/step - loss: 0.2450 - accuracy: 0.9156 - val_loss: 0.8828 - val_accuracy: 0.7594\n",
            "\n",
            "Epoch 00085: val_accuracy did not improve from 0.77793\n",
            "Epoch 86/200\n",
            "246/246 [==============================] - 39s 159ms/step - loss: 0.0528 - accuracy: 0.9858 - val_loss: 0.8647 - val_accuracy: 0.7767\n",
            "\n",
            "Epoch 00086: val_accuracy did not improve from 0.77793\n",
            "Epoch 87/200\n",
            "246/246 [==============================] - 39s 159ms/step - loss: 0.0337 - accuracy: 0.9917 - val_loss: 0.8359 - val_accuracy: 0.7802\n",
            "\n",
            "Epoch 00087: val_accuracy improved from 0.77793 to 0.78015, saving model to /content/drive/MyDrive/building1/26March5slots_200epochs_biDirLSTMsingleDense/best_model.pkl\n"
          ],
          "name": "stdout"
        },
        {
          "output_type": "stream",
          "text": [
            "WARNING:absl:Found untraced functions such as lstm_cell_7_layer_call_fn, lstm_cell_7_layer_call_and_return_conditional_losses, lstm_cell_5_layer_call_fn, lstm_cell_5_layer_call_and_return_conditional_losses, lstm_cell_6_layer_call_fn while saving (showing 5 of 15). These functions will not be directly callable after loading.\n",
            "WARNING:absl:Found untraced functions such as lstm_cell_7_layer_call_fn, lstm_cell_7_layer_call_and_return_conditional_losses, lstm_cell_5_layer_call_fn, lstm_cell_5_layer_call_and_return_conditional_losses, lstm_cell_6_layer_call_fn while saving (showing 5 of 15). These functions will not be directly callable after loading.\n"
          ],
          "name": "stderr"
        },
        {
          "output_type": "stream",
          "text": [
            "INFO:tensorflow:Assets written to: /content/drive/MyDrive/building1/26March5slots_200epochs_biDirLSTMsingleDense/best_model.pkl/assets\n"
          ],
          "name": "stdout"
        },
        {
          "output_type": "stream",
          "text": [
            "INFO:tensorflow:Assets written to: /content/drive/MyDrive/building1/26March5slots_200epochs_biDirLSTMsingleDense/best_model.pkl/assets\n"
          ],
          "name": "stderr"
        },
        {
          "output_type": "stream",
          "text": [
            "Epoch 88/200\n",
            "246/246 [==============================] - 39s 160ms/step - loss: 0.0447 - accuracy: 0.9880 - val_loss: 0.9706 - val_accuracy: 0.7502\n",
            "\n",
            "Epoch 00088: val_accuracy did not improve from 0.78015\n",
            "Epoch 89/200\n",
            "246/246 [==============================] - 39s 159ms/step - loss: 0.1362 - accuracy: 0.9538 - val_loss: 0.9131 - val_accuracy: 0.7582\n",
            "\n",
            "Epoch 00089: val_accuracy did not improve from 0.78015\n",
            "Epoch 90/200\n",
            "246/246 [==============================] - 39s 158ms/step - loss: 0.1126 - accuracy: 0.9623 - val_loss: 0.8662 - val_accuracy: 0.7753\n",
            "\n",
            "Epoch 00090: val_accuracy did not improve from 0.78015\n",
            "Epoch 91/200\n",
            "246/246 [==============================] - 39s 157ms/step - loss: 0.0438 - accuracy: 0.9877 - val_loss: 0.8542 - val_accuracy: 0.7760\n",
            "\n",
            "Epoch 00091: val_accuracy did not improve from 0.78015\n",
            "Epoch 92/200\n",
            "246/246 [==============================] - 39s 157ms/step - loss: 0.1006 - accuracy: 0.9676 - val_loss: 1.0993 - val_accuracy: 0.7256\n",
            "\n",
            "Epoch 00092: val_accuracy did not improve from 0.78015\n",
            "Epoch 93/200\n",
            "246/246 [==============================] - 39s 157ms/step - loss: 0.0920 - accuracy: 0.9715 - val_loss: 0.8634 - val_accuracy: 0.7727\n",
            "\n",
            "Epoch 00093: val_accuracy did not improve from 0.78015\n",
            "Epoch 94/200\n",
            "246/246 [==============================] - 39s 157ms/step - loss: 0.0544 - accuracy: 0.9831 - val_loss: 0.8782 - val_accuracy: 0.7754\n",
            "\n",
            "Epoch 00094: val_accuracy did not improve from 0.78015\n",
            "Epoch 95/200\n",
            "246/246 [==============================] - 39s 157ms/step - loss: 0.0302 - accuracy: 0.9916 - val_loss: 0.8883 - val_accuracy: 0.7714\n",
            "\n",
            "Epoch 00095: val_accuracy did not improve from 0.78015\n",
            "Epoch 96/200\n",
            "246/246 [==============================] - 39s 158ms/step - loss: 0.0340 - accuracy: 0.9907 - val_loss: 0.9164 - val_accuracy: 0.7664\n",
            "\n",
            "Epoch 00096: val_accuracy did not improve from 0.78015\n",
            "Epoch 97/200\n",
            "246/246 [==============================] - 39s 157ms/step - loss: 0.0906 - accuracy: 0.9694 - val_loss: 1.1176 - val_accuracy: 0.7205\n",
            "\n",
            "Epoch 00097: val_accuracy did not improve from 0.78015\n",
            "Epoch 98/200\n",
            "246/246 [==============================] - 39s 158ms/step - loss: 0.2794 - accuracy: 0.9075 - val_loss: 0.9209 - val_accuracy: 0.7591\n",
            "\n",
            "Epoch 00098: val_accuracy did not improve from 0.78015\n",
            "Epoch 99/200\n",
            "246/246 [==============================] - 39s 158ms/step - loss: 0.0498 - accuracy: 0.9856 - val_loss: 0.8374 - val_accuracy: 0.7874\n",
            "\n",
            "Epoch 00099: val_accuracy improved from 0.78015 to 0.78742, saving model to /content/drive/MyDrive/building1/26March5slots_200epochs_biDirLSTMsingleDense/best_model.pkl\n"
          ],
          "name": "stdout"
        },
        {
          "output_type": "stream",
          "text": [
            "WARNING:absl:Found untraced functions such as lstm_cell_7_layer_call_fn, lstm_cell_7_layer_call_and_return_conditional_losses, lstm_cell_5_layer_call_fn, lstm_cell_5_layer_call_and_return_conditional_losses, lstm_cell_6_layer_call_fn while saving (showing 5 of 15). These functions will not be directly callable after loading.\n",
            "WARNING:absl:Found untraced functions such as lstm_cell_7_layer_call_fn, lstm_cell_7_layer_call_and_return_conditional_losses, lstm_cell_5_layer_call_fn, lstm_cell_5_layer_call_and_return_conditional_losses, lstm_cell_6_layer_call_fn while saving (showing 5 of 15). These functions will not be directly callable after loading.\n"
          ],
          "name": "stderr"
        },
        {
          "output_type": "stream",
          "text": [
            "INFO:tensorflow:Assets written to: /content/drive/MyDrive/building1/26March5slots_200epochs_biDirLSTMsingleDense/best_model.pkl/assets\n"
          ],
          "name": "stdout"
        },
        {
          "output_type": "stream",
          "text": [
            "INFO:tensorflow:Assets written to: /content/drive/MyDrive/building1/26March5slots_200epochs_biDirLSTMsingleDense/best_model.pkl/assets\n"
          ],
          "name": "stderr"
        },
        {
          "output_type": "stream",
          "text": [
            "Epoch 100/200\n",
            "246/246 [==============================] - 39s 157ms/step - loss: 0.0148 - accuracy: 0.9981 - val_loss: 0.8317 - val_accuracy: 0.7896\n",
            "\n",
            "Epoch 00100: val_accuracy improved from 0.78742 to 0.78965, saving model to /content/drive/MyDrive/building1/26March5slots_200epochs_biDirLSTMsingleDense/best_model.pkl\n"
          ],
          "name": "stdout"
        },
        {
          "output_type": "stream",
          "text": [
            "WARNING:absl:Found untraced functions such as lstm_cell_7_layer_call_fn, lstm_cell_7_layer_call_and_return_conditional_losses, lstm_cell_5_layer_call_fn, lstm_cell_5_layer_call_and_return_conditional_losses, lstm_cell_6_layer_call_fn while saving (showing 5 of 15). These functions will not be directly callable after loading.\n",
            "WARNING:absl:Found untraced functions such as lstm_cell_7_layer_call_fn, lstm_cell_7_layer_call_and_return_conditional_losses, lstm_cell_5_layer_call_fn, lstm_cell_5_layer_call_and_return_conditional_losses, lstm_cell_6_layer_call_fn while saving (showing 5 of 15). These functions will not be directly callable after loading.\n"
          ],
          "name": "stderr"
        },
        {
          "output_type": "stream",
          "text": [
            "INFO:tensorflow:Assets written to: /content/drive/MyDrive/building1/26March5slots_200epochs_biDirLSTMsingleDense/best_model.pkl/assets\n"
          ],
          "name": "stdout"
        },
        {
          "output_type": "stream",
          "text": [
            "INFO:tensorflow:Assets written to: /content/drive/MyDrive/building1/26March5slots_200epochs_biDirLSTMsingleDense/best_model.pkl/assets\n"
          ],
          "name": "stderr"
        },
        {
          "output_type": "stream",
          "text": [
            "Epoch 101/200\n",
            "246/246 [==============================] - 39s 158ms/step - loss: 0.0115 - accuracy: 0.9984 - val_loss: 0.8352 - val_accuracy: 0.7899\n",
            "\n",
            "Epoch 00101: val_accuracy improved from 0.78965 to 0.78994, saving model to /content/drive/MyDrive/building1/26March5slots_200epochs_biDirLSTMsingleDense/best_model.pkl\n"
          ],
          "name": "stdout"
        },
        {
          "output_type": "stream",
          "text": [
            "WARNING:absl:Found untraced functions such as lstm_cell_7_layer_call_fn, lstm_cell_7_layer_call_and_return_conditional_losses, lstm_cell_5_layer_call_fn, lstm_cell_5_layer_call_and_return_conditional_losses, lstm_cell_6_layer_call_fn while saving (showing 5 of 15). These functions will not be directly callable after loading.\n",
            "WARNING:absl:Found untraced functions such as lstm_cell_7_layer_call_fn, lstm_cell_7_layer_call_and_return_conditional_losses, lstm_cell_5_layer_call_fn, lstm_cell_5_layer_call_and_return_conditional_losses, lstm_cell_6_layer_call_fn while saving (showing 5 of 15). These functions will not be directly callable after loading.\n"
          ],
          "name": "stderr"
        },
        {
          "output_type": "stream",
          "text": [
            "INFO:tensorflow:Assets written to: /content/drive/MyDrive/building1/26March5slots_200epochs_biDirLSTMsingleDense/best_model.pkl/assets\n"
          ],
          "name": "stdout"
        },
        {
          "output_type": "stream",
          "text": [
            "INFO:tensorflow:Assets written to: /content/drive/MyDrive/building1/26March5slots_200epochs_biDirLSTMsingleDense/best_model.pkl/assets\n"
          ],
          "name": "stderr"
        },
        {
          "output_type": "stream",
          "text": [
            "Epoch 102/200\n",
            "246/246 [==============================] - 39s 157ms/step - loss: 0.0128 - accuracy: 0.9978 - val_loss: 0.9189 - val_accuracy: 0.7695\n",
            "\n",
            "Epoch 00102: val_accuracy did not improve from 0.78994\n",
            "Epoch 103/200\n",
            "246/246 [==============================] - 38s 156ms/step - loss: 0.1680 - accuracy: 0.9446 - val_loss: 0.9899 - val_accuracy: 0.7398\n",
            "\n",
            "Epoch 00103: val_accuracy did not improve from 0.78994\n",
            "Epoch 104/200\n",
            "246/246 [==============================] - 39s 157ms/step - loss: 0.1293 - accuracy: 0.9572 - val_loss: 0.9397 - val_accuracy: 0.7610\n",
            "\n",
            "Epoch 00104: val_accuracy did not improve from 0.78994\n",
            "Epoch 105/200\n",
            "246/246 [==============================] - 38s 156ms/step - loss: 0.0318 - accuracy: 0.9923 - val_loss: 0.8834 - val_accuracy: 0.7761\n",
            "\n",
            "Epoch 00105: val_accuracy did not improve from 0.78994\n",
            "Epoch 106/200\n",
            "246/246 [==============================] - 38s 156ms/step - loss: 0.0190 - accuracy: 0.9968 - val_loss: 0.8719 - val_accuracy: 0.7853\n",
            "\n",
            "Epoch 00106: val_accuracy did not improve from 0.78994\n",
            "Epoch 107/200\n",
            "246/246 [==============================] - 38s 156ms/step - loss: 0.0232 - accuracy: 0.9944 - val_loss: 0.9819 - val_accuracy: 0.7612\n",
            "\n",
            "Epoch 00107: val_accuracy did not improve from 0.78994\n",
            "Epoch 108/200\n",
            "246/246 [==============================] - 38s 156ms/step - loss: 0.0905 - accuracy: 0.9706 - val_loss: 1.2156 - val_accuracy: 0.7029\n",
            "\n",
            "Epoch 00108: val_accuracy did not improve from 0.78994\n",
            "Epoch 109/200\n",
            "246/246 [==============================] - 39s 157ms/step - loss: 0.1653 - accuracy: 0.9452 - val_loss: 0.8947 - val_accuracy: 0.7756\n",
            "\n",
            "Epoch 00109: val_accuracy did not improve from 0.78994\n",
            "Epoch 110/200\n",
            "246/246 [==============================] - 39s 157ms/step - loss: 0.0269 - accuracy: 0.9937 - val_loss: 0.9035 - val_accuracy: 0.7825\n",
            "\n",
            "Epoch 00110: val_accuracy did not improve from 0.78994\n",
            "Epoch 111/200\n",
            "246/246 [==============================] - 39s 157ms/step - loss: 0.0231 - accuracy: 0.9947 - val_loss: 0.8819 - val_accuracy: 0.7858\n",
            "\n",
            "Epoch 00111: val_accuracy did not improve from 0.78994\n",
            "Epoch 112/200\n",
            "246/246 [==============================] - 38s 156ms/step - loss: 0.0206 - accuracy: 0.9960 - val_loss: 0.9308 - val_accuracy: 0.7714\n",
            "\n",
            "Epoch 00112: val_accuracy did not improve from 0.78994\n",
            "Epoch 113/200\n",
            "246/246 [==============================] - 38s 156ms/step - loss: 0.0687 - accuracy: 0.9786 - val_loss: 1.0991 - val_accuracy: 0.7227\n",
            "\n",
            "Epoch 00113: val_accuracy did not improve from 0.78994\n",
            "Epoch 114/200\n",
            "246/246 [==============================] - 38s 156ms/step - loss: 0.2088 - accuracy: 0.9269 - val_loss: 0.9192 - val_accuracy: 0.7655\n",
            "\n",
            "Epoch 00114: val_accuracy did not improve from 0.78994\n",
            "Epoch 115/200\n",
            "246/246 [==============================] - 39s 157ms/step - loss: 0.0411 - accuracy: 0.9894 - val_loss: 0.8842 - val_accuracy: 0.7813\n",
            "\n",
            "Epoch 00115: val_accuracy did not improve from 0.78994\n",
            "Epoch 116/200\n",
            "246/246 [==============================] - 39s 157ms/step - loss: 0.0150 - accuracy: 0.9974 - val_loss: 0.8474 - val_accuracy: 0.7895\n",
            "\n",
            "Epoch 00116: val_accuracy did not improve from 0.78994\n",
            "Epoch 117/200\n",
            "246/246 [==============================] - 39s 157ms/step - loss: 0.0077 - accuracy: 0.9992 - val_loss: 0.8519 - val_accuracy: 0.7870\n",
            "\n",
            "Epoch 00117: val_accuracy did not improve from 0.78994\n",
            "Epoch 118/200\n",
            "246/246 [==============================] - 39s 157ms/step - loss: 0.0061 - accuracy: 0.9995 - val_loss: 0.8586 - val_accuracy: 0.7911\n",
            "\n",
            "Epoch 00118: val_accuracy improved from 0.78994 to 0.79113, saving model to /content/drive/MyDrive/building1/26March5slots_200epochs_biDirLSTMsingleDense/best_model.pkl\n"
          ],
          "name": "stdout"
        },
        {
          "output_type": "stream",
          "text": [
            "WARNING:absl:Found untraced functions such as lstm_cell_7_layer_call_fn, lstm_cell_7_layer_call_and_return_conditional_losses, lstm_cell_5_layer_call_fn, lstm_cell_5_layer_call_and_return_conditional_losses, lstm_cell_6_layer_call_fn while saving (showing 5 of 15). These functions will not be directly callable after loading.\n",
            "WARNING:absl:Found untraced functions such as lstm_cell_7_layer_call_fn, lstm_cell_7_layer_call_and_return_conditional_losses, lstm_cell_5_layer_call_fn, lstm_cell_5_layer_call_and_return_conditional_losses, lstm_cell_6_layer_call_fn while saving (showing 5 of 15). These functions will not be directly callable after loading.\n"
          ],
          "name": "stderr"
        },
        {
          "output_type": "stream",
          "text": [
            "INFO:tensorflow:Assets written to: /content/drive/MyDrive/building1/26March5slots_200epochs_biDirLSTMsingleDense/best_model.pkl/assets\n"
          ],
          "name": "stdout"
        },
        {
          "output_type": "stream",
          "text": [
            "INFO:tensorflow:Assets written to: /content/drive/MyDrive/building1/26March5slots_200epochs_biDirLSTMsingleDense/best_model.pkl/assets\n"
          ],
          "name": "stderr"
        },
        {
          "output_type": "stream",
          "text": [
            "Epoch 119/200\n",
            "246/246 [==============================] - 39s 159ms/step - loss: 0.0069 - accuracy: 0.9989 - val_loss: 0.9233 - val_accuracy: 0.7730\n",
            "\n",
            "Epoch 00119: val_accuracy did not improve from 0.79113\n",
            "Epoch 120/200\n",
            "246/246 [==============================] - 38s 156ms/step - loss: 0.2257 - accuracy: 0.9272 - val_loss: 1.0564 - val_accuracy: 0.7216\n",
            "\n",
            "Epoch 00120: val_accuracy did not improve from 0.79113\n",
            "Epoch 121/200\n",
            "246/246 [==============================] - 39s 157ms/step - loss: 0.1235 - accuracy: 0.9583 - val_loss: 0.8668 - val_accuracy: 0.7782\n",
            "\n",
            "Epoch 00121: val_accuracy did not improve from 0.79113\n",
            "Epoch 122/200\n",
            "246/246 [==============================] - 39s 157ms/step - loss: 0.0215 - accuracy: 0.9959 - val_loss: 0.8406 - val_accuracy: 0.7865\n",
            "\n",
            "Epoch 00122: val_accuracy did not improve from 0.79113\n",
            "Epoch 123/200\n",
            "246/246 [==============================] - 38s 156ms/step - loss: 0.0087 - accuracy: 0.9992 - val_loss: 0.8931 - val_accuracy: 0.7766\n",
            "\n",
            "Epoch 00123: val_accuracy did not improve from 0.79113\n",
            "Epoch 124/200\n",
            "246/246 [==============================] - 38s 156ms/step - loss: 0.0110 - accuracy: 0.9976 - val_loss: 0.8562 - val_accuracy: 0.7871\n",
            "\n",
            "Epoch 00124: val_accuracy did not improve from 0.79113\n",
            "Epoch 125/200\n",
            "246/246 [==============================] - 39s 157ms/step - loss: 0.0079 - accuracy: 0.9989 - val_loss: 0.8883 - val_accuracy: 0.7821\n",
            "\n",
            "Epoch 00125: val_accuracy did not improve from 0.79113\n",
            "Epoch 126/200\n",
            "246/246 [==============================] - 38s 156ms/step - loss: 0.0547 - accuracy: 0.9833 - val_loss: 1.0981 - val_accuracy: 0.7302\n",
            "\n",
            "Epoch 00126: val_accuracy did not improve from 0.79113\n",
            "Epoch 127/200\n",
            "246/246 [==============================] - 39s 157ms/step - loss: 0.2035 - accuracy: 0.9293 - val_loss: 1.0056 - val_accuracy: 0.7497\n",
            "\n",
            "Epoch 00127: val_accuracy did not improve from 0.79113\n",
            "Epoch 128/200\n",
            "246/246 [==============================] - 38s 156ms/step - loss: 0.0627 - accuracy: 0.9808 - val_loss: 0.8677 - val_accuracy: 0.7842\n",
            "\n",
            "Epoch 00128: val_accuracy did not improve from 0.79113\n",
            "Epoch 129/200\n",
            "246/246 [==============================] - 38s 156ms/step - loss: 0.0126 - accuracy: 0.9984 - val_loss: 0.8553 - val_accuracy: 0.7859\n",
            "\n",
            "Epoch 00129: val_accuracy did not improve from 0.79113\n",
            "Epoch 130/200\n",
            "246/246 [==============================] - 39s 158ms/step - loss: 0.0081 - accuracy: 0.9988 - val_loss: 0.8616 - val_accuracy: 0.7880\n",
            "\n",
            "Epoch 00130: val_accuracy did not improve from 0.79113\n",
            "Epoch 131/200\n",
            "246/246 [==============================] - 38s 156ms/step - loss: 0.0057 - accuracy: 0.9994 - val_loss: 0.8584 - val_accuracy: 0.7934\n",
            "\n",
            "Epoch 00131: val_accuracy improved from 0.79113 to 0.79335, saving model to /content/drive/MyDrive/building1/26March5slots_200epochs_biDirLSTMsingleDense/best_model.pkl\n"
          ],
          "name": "stdout"
        },
        {
          "output_type": "stream",
          "text": [
            "WARNING:absl:Found untraced functions such as lstm_cell_7_layer_call_fn, lstm_cell_7_layer_call_and_return_conditional_losses, lstm_cell_5_layer_call_fn, lstm_cell_5_layer_call_and_return_conditional_losses, lstm_cell_6_layer_call_fn while saving (showing 5 of 15). These functions will not be directly callable after loading.\n",
            "WARNING:absl:Found untraced functions such as lstm_cell_7_layer_call_fn, lstm_cell_7_layer_call_and_return_conditional_losses, lstm_cell_5_layer_call_fn, lstm_cell_5_layer_call_and_return_conditional_losses, lstm_cell_6_layer_call_fn while saving (showing 5 of 15). These functions will not be directly callable after loading.\n"
          ],
          "name": "stderr"
        },
        {
          "output_type": "stream",
          "text": [
            "INFO:tensorflow:Assets written to: /content/drive/MyDrive/building1/26March5slots_200epochs_biDirLSTMsingleDense/best_model.pkl/assets\n"
          ],
          "name": "stdout"
        },
        {
          "output_type": "stream",
          "text": [
            "INFO:tensorflow:Assets written to: /content/drive/MyDrive/building1/26March5slots_200epochs_biDirLSTMsingleDense/best_model.pkl/assets\n"
          ],
          "name": "stderr"
        },
        {
          "output_type": "stream",
          "text": [
            "Epoch 132/200\n",
            "246/246 [==============================] - 39s 157ms/step - loss: 0.0073 - accuracy: 0.9985 - val_loss: 1.0138 - val_accuracy: 0.7674\n",
            "\n",
            "Epoch 00132: val_accuracy did not improve from 0.79335\n",
            "Epoch 133/200\n",
            "246/246 [==============================] - 39s 158ms/step - loss: 0.1760 - accuracy: 0.9416 - val_loss: 1.0747 - val_accuracy: 0.7342\n",
            "\n",
            "Epoch 00133: val_accuracy did not improve from 0.79335\n",
            "Epoch 134/200\n",
            "246/246 [==============================] - 39s 159ms/step - loss: 0.1155 - accuracy: 0.9599 - val_loss: 0.9592 - val_accuracy: 0.7616\n",
            "\n",
            "Epoch 00134: val_accuracy did not improve from 0.79335\n",
            "Epoch 135/200\n",
            "246/246 [==============================] - 39s 157ms/step - loss: 0.0631 - accuracy: 0.9805 - val_loss: 0.8848 - val_accuracy: 0.7821\n",
            "\n",
            "Epoch 00135: val_accuracy did not improve from 0.79335\n",
            "Epoch 136/200\n",
            "246/246 [==============================] - 39s 158ms/step - loss: 0.0125 - accuracy: 0.9980 - val_loss: 0.8609 - val_accuracy: 0.7914\n",
            "\n",
            "Epoch 00136: val_accuracy did not improve from 0.79335\n",
            "Epoch 137/200\n",
            "246/246 [==============================] - 39s 159ms/step - loss: 0.0054 - accuracy: 0.9997 - val_loss: 0.8583 - val_accuracy: 0.7920\n",
            "\n",
            "Epoch 00137: val_accuracy did not improve from 0.79335\n",
            "Epoch 138/200\n",
            "246/246 [==============================] - 39s 157ms/step - loss: 0.0039 - accuracy: 0.9998 - val_loss: 0.8545 - val_accuracy: 0.7938\n",
            "\n",
            "Epoch 00138: val_accuracy improved from 0.79335 to 0.79380, saving model to /content/drive/MyDrive/building1/26March5slots_200epochs_biDirLSTMsingleDense/best_model.pkl\n"
          ],
          "name": "stdout"
        },
        {
          "output_type": "stream",
          "text": [
            "WARNING:absl:Found untraced functions such as lstm_cell_7_layer_call_fn, lstm_cell_7_layer_call_and_return_conditional_losses, lstm_cell_5_layer_call_fn, lstm_cell_5_layer_call_and_return_conditional_losses, lstm_cell_6_layer_call_fn while saving (showing 5 of 15). These functions will not be directly callable after loading.\n",
            "WARNING:absl:Found untraced functions such as lstm_cell_7_layer_call_fn, lstm_cell_7_layer_call_and_return_conditional_losses, lstm_cell_5_layer_call_fn, lstm_cell_5_layer_call_and_return_conditional_losses, lstm_cell_6_layer_call_fn while saving (showing 5 of 15). These functions will not be directly callable after loading.\n"
          ],
          "name": "stderr"
        },
        {
          "output_type": "stream",
          "text": [
            "INFO:tensorflow:Assets written to: /content/drive/MyDrive/building1/26March5slots_200epochs_biDirLSTMsingleDense/best_model.pkl/assets\n"
          ],
          "name": "stdout"
        },
        {
          "output_type": "stream",
          "text": [
            "INFO:tensorflow:Assets written to: /content/drive/MyDrive/building1/26March5slots_200epochs_biDirLSTMsingleDense/best_model.pkl/assets\n"
          ],
          "name": "stderr"
        },
        {
          "output_type": "stream",
          "text": [
            "Epoch 139/200\n",
            "246/246 [==============================] - 39s 159ms/step - loss: 0.0037 - accuracy: 0.9996 - val_loss: 0.8556 - val_accuracy: 0.7978\n",
            "\n",
            "Epoch 00139: val_accuracy improved from 0.79380 to 0.79780, saving model to /content/drive/MyDrive/building1/26March5slots_200epochs_biDirLSTMsingleDense/best_model.pkl\n"
          ],
          "name": "stdout"
        },
        {
          "output_type": "stream",
          "text": [
            "WARNING:absl:Found untraced functions such as lstm_cell_7_layer_call_fn, lstm_cell_7_layer_call_and_return_conditional_losses, lstm_cell_5_layer_call_fn, lstm_cell_5_layer_call_and_return_conditional_losses, lstm_cell_6_layer_call_fn while saving (showing 5 of 15). These functions will not be directly callable after loading.\n",
            "WARNING:absl:Found untraced functions such as lstm_cell_7_layer_call_fn, lstm_cell_7_layer_call_and_return_conditional_losses, lstm_cell_5_layer_call_fn, lstm_cell_5_layer_call_and_return_conditional_losses, lstm_cell_6_layer_call_fn while saving (showing 5 of 15). These functions will not be directly callable after loading.\n"
          ],
          "name": "stderr"
        },
        {
          "output_type": "stream",
          "text": [
            "INFO:tensorflow:Assets written to: /content/drive/MyDrive/building1/26March5slots_200epochs_biDirLSTMsingleDense/best_model.pkl/assets\n"
          ],
          "name": "stdout"
        },
        {
          "output_type": "stream",
          "text": [
            "INFO:tensorflow:Assets written to: /content/drive/MyDrive/building1/26March5slots_200epochs_biDirLSTMsingleDense/best_model.pkl/assets\n"
          ],
          "name": "stderr"
        },
        {
          "output_type": "stream",
          "text": [
            "Epoch 140/200\n",
            "246/246 [==============================] - 39s 157ms/step - loss: 0.0085 - accuracy: 0.9981 - val_loss: 1.8397 - val_accuracy: 0.6253\n",
            "\n",
            "Epoch 00140: val_accuracy did not improve from 0.79780\n",
            "Epoch 141/200\n",
            "246/246 [==============================] - 39s 158ms/step - loss: 0.4573 - accuracy: 0.8577 - val_loss: 0.9758 - val_accuracy: 0.7549\n",
            "\n",
            "Epoch 00141: val_accuracy did not improve from 0.79780\n",
            "Epoch 142/200\n",
            "246/246 [==============================] - 39s 158ms/step - loss: 0.0818 - accuracy: 0.9736 - val_loss: 0.9076 - val_accuracy: 0.7788\n",
            "\n",
            "Epoch 00142: val_accuracy did not improve from 0.79780\n",
            "Epoch 143/200\n",
            "246/246 [==============================] - 39s 158ms/step - loss: 0.0150 - accuracy: 0.9976 - val_loss: 0.8511 - val_accuracy: 0.7852\n",
            "\n",
            "Epoch 00143: val_accuracy did not improve from 0.79780\n",
            "Epoch 144/200\n",
            "246/246 [==============================] - 39s 157ms/step - loss: 0.0082 - accuracy: 0.9992 - val_loss: 0.8607 - val_accuracy: 0.7879\n",
            "\n",
            "Epoch 00144: val_accuracy did not improve from 0.79780\n",
            "Epoch 145/200\n",
            "246/246 [==============================] - 39s 157ms/step - loss: 0.0070 - accuracy: 0.9994 - val_loss: 0.8809 - val_accuracy: 0.7904\n",
            "\n",
            "Epoch 00145: val_accuracy did not improve from 0.79780\n",
            "Epoch 146/200\n",
            "246/246 [==============================] - 39s 157ms/step - loss: 0.0057 - accuracy: 0.9993 - val_loss: 0.8682 - val_accuracy: 0.7888\n",
            "\n",
            "Epoch 00146: val_accuracy did not improve from 0.79780\n",
            "Epoch 147/200\n",
            "246/246 [==============================] - 39s 157ms/step - loss: 0.0072 - accuracy: 0.9989 - val_loss: 1.0791 - val_accuracy: 0.7511\n",
            "\n",
            "Epoch 00147: val_accuracy did not improve from 0.79780\n",
            "Epoch 148/200\n",
            "246/246 [==============================] - 39s 157ms/step - loss: 0.3494 - accuracy: 0.8877 - val_loss: 0.9608 - val_accuracy: 0.7551\n",
            "\n",
            "Epoch 00148: val_accuracy did not improve from 0.79780\n",
            "Epoch 149/200\n",
            "246/246 [==============================] - 39s 157ms/step - loss: 0.0948 - accuracy: 0.9691 - val_loss: 0.9245 - val_accuracy: 0.7747\n",
            "\n",
            "Epoch 00149: val_accuracy did not improve from 0.79780\n",
            "Epoch 150/200\n",
            "246/246 [==============================] - 39s 158ms/step - loss: 0.0215 - accuracy: 0.9946 - val_loss: 0.8650 - val_accuracy: 0.7922\n",
            "\n",
            "Epoch 00150: val_accuracy did not improve from 0.79780\n",
            "Epoch 151/200\n",
            "246/246 [==============================] - 39s 157ms/step - loss: 0.0065 - accuracy: 0.9993 - val_loss: 0.8783 - val_accuracy: 0.7870\n",
            "\n",
            "Epoch 00151: val_accuracy did not improve from 0.79780\n",
            "Epoch 152/200\n",
            "246/246 [==============================] - 39s 157ms/step - loss: 0.0039 - accuracy: 0.9998 - val_loss: 0.8644 - val_accuracy: 0.7947\n",
            "\n",
            "Epoch 00152: val_accuracy did not improve from 0.79780\n",
            "Epoch 153/200\n",
            "246/246 [==============================] - 38s 156ms/step - loss: 0.0029 - accuracy: 0.9999 - val_loss: 0.8713 - val_accuracy: 0.7972\n",
            "\n",
            "Epoch 00153: val_accuracy did not improve from 0.79780\n",
            "Epoch 154/200\n",
            "246/246 [==============================] - 38s 156ms/step - loss: 0.0026 - accuracy: 0.9999 - val_loss: 0.8655 - val_accuracy: 0.7984\n",
            "\n",
            "Epoch 00154: val_accuracy improved from 0.79780 to 0.79840, saving model to /content/drive/MyDrive/building1/26March5slots_200epochs_biDirLSTMsingleDense/best_model.pkl\n"
          ],
          "name": "stdout"
        },
        {
          "output_type": "stream",
          "text": [
            "WARNING:absl:Found untraced functions such as lstm_cell_7_layer_call_fn, lstm_cell_7_layer_call_and_return_conditional_losses, lstm_cell_5_layer_call_fn, lstm_cell_5_layer_call_and_return_conditional_losses, lstm_cell_6_layer_call_fn while saving (showing 5 of 15). These functions will not be directly callable after loading.\n",
            "WARNING:absl:Found untraced functions such as lstm_cell_7_layer_call_fn, lstm_cell_7_layer_call_and_return_conditional_losses, lstm_cell_5_layer_call_fn, lstm_cell_5_layer_call_and_return_conditional_losses, lstm_cell_6_layer_call_fn while saving (showing 5 of 15). These functions will not be directly callable after loading.\n"
          ],
          "name": "stderr"
        },
        {
          "output_type": "stream",
          "text": [
            "INFO:tensorflow:Assets written to: /content/drive/MyDrive/building1/26March5slots_200epochs_biDirLSTMsingleDense/best_model.pkl/assets\n"
          ],
          "name": "stdout"
        },
        {
          "output_type": "stream",
          "text": [
            "INFO:tensorflow:Assets written to: /content/drive/MyDrive/building1/26March5slots_200epochs_biDirLSTMsingleDense/best_model.pkl/assets\n"
          ],
          "name": "stderr"
        },
        {
          "output_type": "stream",
          "text": [
            "Epoch 155/200\n",
            "246/246 [==============================] - 39s 158ms/step - loss: 0.0025 - accuracy: 0.9998 - val_loss: 0.8715 - val_accuracy: 0.7950\n",
            "\n",
            "Epoch 00155: val_accuracy did not improve from 0.79840\n",
            "Epoch 156/200\n",
            "246/246 [==============================] - 39s 157ms/step - loss: 0.0416 - accuracy: 0.9876 - val_loss: 1.4072 - val_accuracy: 0.6714\n",
            "\n",
            "Epoch 00156: val_accuracy did not improve from 0.79840\n",
            "Epoch 157/200\n",
            "246/246 [==============================] - 39s 158ms/step - loss: 0.3193 - accuracy: 0.8932 - val_loss: 0.9916 - val_accuracy: 0.7524\n",
            "\n",
            "Epoch 00157: val_accuracy did not improve from 0.79840\n",
            "Epoch 158/200\n",
            "246/246 [==============================] - 39s 157ms/step - loss: 0.0491 - accuracy: 0.9853 - val_loss: 0.9293 - val_accuracy: 0.7761\n",
            "\n",
            "Epoch 00158: val_accuracy did not improve from 0.79840\n",
            "Epoch 159/200\n",
            "246/246 [==============================] - 39s 158ms/step - loss: 0.0218 - accuracy: 0.9939 - val_loss: 0.8856 - val_accuracy: 0.7849\n",
            "\n",
            "Epoch 00159: val_accuracy did not improve from 0.79840\n",
            "Epoch 160/200\n",
            "246/246 [==============================] - 39s 157ms/step - loss: 0.0057 - accuracy: 0.9997 - val_loss: 0.8716 - val_accuracy: 0.7892\n",
            "\n",
            "Epoch 00160: val_accuracy did not improve from 0.79840\n",
            "Epoch 161/200\n",
            "246/246 [==============================] - 39s 158ms/step - loss: 0.0040 - accuracy: 0.9996 - val_loss: 0.9026 - val_accuracy: 0.7865\n",
            "\n",
            "Epoch 00161: val_accuracy did not improve from 0.79840\n",
            "Epoch 162/200\n",
            "246/246 [==============================] - 39s 158ms/step - loss: 0.0190 - accuracy: 0.9954 - val_loss: 1.2761 - val_accuracy: 0.6969\n",
            "\n",
            "Epoch 00162: val_accuracy did not improve from 0.79840\n",
            "Epoch 163/200\n",
            "246/246 [==============================] - 39s 158ms/step - loss: 0.2654 - accuracy: 0.9117 - val_loss: 0.9728 - val_accuracy: 0.7628\n",
            "\n",
            "Epoch 00163: val_accuracy did not improve from 0.79840\n",
            "Epoch 164/200\n",
            "246/246 [==============================] - 39s 158ms/step - loss: 0.0362 - accuracy: 0.9900 - val_loss: 0.9437 - val_accuracy: 0.7758\n",
            "\n",
            "Epoch 00164: val_accuracy did not improve from 0.79840\n",
            "Epoch 165/200\n",
            "246/246 [==============================] - 39s 158ms/step - loss: 0.0213 - accuracy: 0.9950 - val_loss: 0.8924 - val_accuracy: 0.7845\n",
            "\n",
            "Epoch 00165: val_accuracy did not improve from 0.79840\n",
            "Epoch 166/200\n",
            "246/246 [==============================] - 39s 158ms/step - loss: 0.0121 - accuracy: 0.9980 - val_loss: 0.9014 - val_accuracy: 0.7868\n",
            "\n",
            "Epoch 00166: val_accuracy did not improve from 0.79840\n",
            "Epoch 167/200\n",
            "246/246 [==============================] - 39s 158ms/step - loss: 0.0203 - accuracy: 0.9945 - val_loss: 1.2071 - val_accuracy: 0.7158\n",
            "\n",
            "Epoch 00167: val_accuracy did not improve from 0.79840\n",
            "Epoch 168/200\n",
            "246/246 [==============================] - 39s 158ms/step - loss: 0.1599 - accuracy: 0.9450 - val_loss: 1.0715 - val_accuracy: 0.7512\n",
            "\n",
            "Epoch 00168: val_accuracy did not improve from 0.79840\n",
            "Epoch 169/200\n",
            "246/246 [==============================] - 39s 159ms/step - loss: 0.0670 - accuracy: 0.9791 - val_loss: 1.0409 - val_accuracy: 0.7583\n",
            "\n",
            "Epoch 00169: val_accuracy did not improve from 0.79840\n",
            "Epoch 170/200\n",
            "246/246 [==============================] - 39s 158ms/step - loss: 0.0321 - accuracy: 0.9912 - val_loss: 0.9698 - val_accuracy: 0.7681\n",
            "\n",
            "Epoch 00170: val_accuracy did not improve from 0.79840\n",
            "Epoch 171/200\n",
            "246/246 [==============================] - 39s 157ms/step - loss: 0.0260 - accuracy: 0.9932 - val_loss: 1.1040 - val_accuracy: 0.7472\n",
            "\n",
            "Epoch 00171: val_accuracy did not improve from 0.79840\n",
            "Epoch 172/200\n",
            "246/246 [==============================] - 39s 159ms/step - loss: 0.0656 - accuracy: 0.9779 - val_loss: 1.0389 - val_accuracy: 0.7594\n",
            "\n",
            "Epoch 00172: val_accuracy did not improve from 0.79840\n",
            "Epoch 173/200\n",
            "246/246 [==============================] - 39s 158ms/step - loss: 0.0282 - accuracy: 0.9915 - val_loss: 0.9398 - val_accuracy: 0.7793\n",
            "\n",
            "Epoch 00173: val_accuracy did not improve from 0.79840\n",
            "Epoch 174/200\n",
            "246/246 [==============================] - 39s 159ms/step - loss: 0.0145 - accuracy: 0.9963 - val_loss: 1.0580 - val_accuracy: 0.7588\n",
            "\n",
            "Epoch 00174: val_accuracy did not improve from 0.79840\n",
            "Epoch 175/200\n",
            "246/246 [==============================] - 39s 159ms/step - loss: 0.0891 - accuracy: 0.9696 - val_loss: 1.0966 - val_accuracy: 0.7494\n",
            "\n",
            "Epoch 00175: val_accuracy did not improve from 0.79840\n",
            "Epoch 176/200\n",
            "246/246 [==============================] - 39s 158ms/step - loss: 0.1152 - accuracy: 0.9644 - val_loss: 0.9901 - val_accuracy: 0.7717\n",
            "\n",
            "Epoch 00176: val_accuracy did not improve from 0.79840\n",
            "Epoch 177/200\n",
            "246/246 [==============================] - 39s 158ms/step - loss: 0.0196 - accuracy: 0.9952 - val_loss: 0.9322 - val_accuracy: 0.7815\n",
            "\n",
            "Epoch 00177: val_accuracy did not improve from 0.79840\n",
            "Epoch 178/200\n",
            "246/246 [==============================] - 39s 159ms/step - loss: 0.0119 - accuracy: 0.9975 - val_loss: 0.9385 - val_accuracy: 0.7812\n",
            "\n",
            "Epoch 00178: val_accuracy did not improve from 0.79840\n",
            "Epoch 179/200\n",
            "246/246 [==============================] - 39s 159ms/step - loss: 0.0040 - accuracy: 0.9998 - val_loss: 0.9719 - val_accuracy: 0.7775\n",
            "\n",
            "Epoch 00179: val_accuracy did not improve from 0.79840\n",
            "Epoch 180/200\n",
            "246/246 [==============================] - 39s 157ms/step - loss: 0.0072 - accuracy: 0.9988 - val_loss: 0.9382 - val_accuracy: 0.7845\n",
            "\n",
            "Epoch 00180: val_accuracy did not improve from 0.79840\n",
            "Epoch 181/200\n",
            "246/246 [==============================] - 39s 158ms/step - loss: 0.0063 - accuracy: 0.9990 - val_loss: 0.9760 - val_accuracy: 0.7796\n",
            "\n",
            "Epoch 00181: val_accuracy did not improve from 0.79840\n",
            "Epoch 182/200\n",
            "246/246 [==============================] - 39s 160ms/step - loss: 0.0132 - accuracy: 0.9972 - val_loss: 1.4002 - val_accuracy: 0.7020\n",
            "\n",
            "Epoch 00182: val_accuracy did not improve from 0.79840\n",
            "Epoch 183/200\n",
            "246/246 [==============================] - 39s 158ms/step - loss: 0.3566 - accuracy: 0.8875 - val_loss: 1.0359 - val_accuracy: 0.7629\n",
            "\n",
            "Epoch 00183: val_accuracy did not improve from 0.79840\n",
            "Epoch 184/200\n",
            "246/246 [==============================] - 39s 159ms/step - loss: 0.0478 - accuracy: 0.9849 - val_loss: 0.9535 - val_accuracy: 0.7773\n",
            "\n",
            "Epoch 00184: val_accuracy did not improve from 0.79840\n",
            "Epoch 185/200\n",
            "246/246 [==============================] - 39s 158ms/step - loss: 0.0144 - accuracy: 0.9977 - val_loss: 0.9198 - val_accuracy: 0.7849\n",
            "\n",
            "Epoch 00185: val_accuracy did not improve from 0.79840\n",
            "Epoch 186/200\n",
            "246/246 [==============================] - 39s 158ms/step - loss: 0.0041 - accuracy: 0.9998 - val_loss: 0.9038 - val_accuracy: 0.7888\n",
            "\n",
            "Epoch 00186: val_accuracy did not improve from 0.79840\n",
            "Epoch 187/200\n",
            "246/246 [==============================] - 39s 159ms/step - loss: 0.0035 - accuracy: 0.9997 - val_loss: 0.9093 - val_accuracy: 0.7908\n",
            "\n",
            "Epoch 00187: val_accuracy did not improve from 0.79840\n",
            "Epoch 188/200\n",
            "246/246 [==============================] - 39s 159ms/step - loss: 0.0023 - accuracy: 0.9998 - val_loss: 0.9124 - val_accuracy: 0.7902\n",
            "\n",
            "Epoch 00188: val_accuracy did not improve from 0.79840\n",
            "Epoch 189/200\n",
            "246/246 [==============================] - 39s 159ms/step - loss: 0.0019 - accuracy: 0.9999 - val_loss: 0.9063 - val_accuracy: 0.7895\n",
            "\n",
            "Epoch 00189: val_accuracy did not improve from 0.79840\n",
            "Epoch 190/200\n",
            "246/246 [==============================] - 39s 160ms/step - loss: 0.0055 - accuracy: 0.9990 - val_loss: 1.1697 - val_accuracy: 0.7361\n",
            "\n",
            "Epoch 00190: val_accuracy did not improve from 0.79840\n",
            "Epoch 191/200\n",
            "246/246 [==============================] - 39s 159ms/step - loss: 0.3744 - accuracy: 0.8855 - val_loss: 1.0476 - val_accuracy: 0.7483\n",
            "\n",
            "Epoch 00191: val_accuracy did not improve from 0.79840\n",
            "Epoch 192/200\n",
            "246/246 [==============================] - 39s 159ms/step - loss: 0.0768 - accuracy: 0.9744 - val_loss: 0.9936 - val_accuracy: 0.7625\n",
            "\n",
            "Epoch 00192: val_accuracy did not improve from 0.79840\n",
            "Epoch 193/200\n",
            "246/246 [==============================] - 39s 160ms/step - loss: 0.0159 - accuracy: 0.9970 - val_loss: 0.9193 - val_accuracy: 0.7799\n",
            "\n",
            "Epoch 00193: val_accuracy did not improve from 0.79840\n",
            "Epoch 194/200\n",
            "246/246 [==============================] - 39s 158ms/step - loss: 0.0059 - accuracy: 0.9995 - val_loss: 0.9031 - val_accuracy: 0.7862\n",
            "\n",
            "Epoch 00194: val_accuracy did not improve from 0.79840\n",
            "Epoch 195/200\n",
            "246/246 [==============================] - 39s 159ms/step - loss: 0.0029 - accuracy: 0.9997 - val_loss: 0.9025 - val_accuracy: 0.7862\n",
            "\n",
            "Epoch 00195: val_accuracy did not improve from 0.79840\n",
            "Epoch 196/200\n",
            "246/246 [==============================] - 39s 158ms/step - loss: 0.0021 - accuracy: 1.0000 - val_loss: 0.8992 - val_accuracy: 0.7899\n",
            "\n",
            "Epoch 00196: val_accuracy did not improve from 0.79840\n",
            "Epoch 197/200\n",
            "246/246 [==============================] - 39s 159ms/step - loss: 0.0018 - accuracy: 1.0000 - val_loss: 0.9010 - val_accuracy: 0.7901\n",
            "\n",
            "Epoch 00197: val_accuracy did not improve from 0.79840\n",
            "Epoch 198/200\n",
            "246/246 [==============================] - 39s 159ms/step - loss: 0.0163 - accuracy: 0.9957 - val_loss: 1.2437 - val_accuracy: 0.7164\n",
            "\n",
            "Epoch 00198: val_accuracy did not improve from 0.79840\n",
            "Epoch 199/200\n",
            "246/246 [==============================] - 39s 159ms/step - loss: 0.2611 - accuracy: 0.9151 - val_loss: 1.0319 - val_accuracy: 0.7552\n",
            "\n",
            "Epoch 00199: val_accuracy did not improve from 0.79840\n",
            "Epoch 200/200\n",
            "246/246 [==============================] - 39s 159ms/step - loss: 0.0527 - accuracy: 0.9833 - val_loss: 0.9559 - val_accuracy: 0.7730\n",
            "\n",
            "Epoch 00200: val_accuracy did not improve from 0.79840\n"
          ],
          "name": "stdout"
        }
      ]
    },
    {
      "cell_type": "code",
      "metadata": {
        "id": "83C_zN-_HSlY",
        "colab": {
          "base_uri": "https://localhost:8080/",
          "height": 295
        },
        "outputId": "4643d2df-1ba9-47d2-81de-d2e06ec0c6d3"
      },
      "source": [
        "import matplotlib.pyplot as plt\n",
        "plt.plot(history.history['accuracy'])\n",
        "plt.plot(history.history['val_accuracy'])\n",
        "plt.title('model accuracy')\n",
        "plt.ylabel('accuracy')\n",
        "plt.xlabel('epoch')\n",
        "plt.legend(['train', 'Validation'], loc='upper left')\n",
        "plt.show()"
      ],
      "execution_count": null,
      "outputs": [
        {
          "output_type": "display_data",
          "data": {
            "image/png": "[encoded data removed]",
            "text/plain": [
              "<Figure size 432x288 with 1 Axes>"
            ]
          },
          "metadata": {
            "tags": [],
            "needs_background": "light"
          }
        }
      ]
    },
    {
      "cell_type": "code",
      "metadata": {
        "id": "oY6yOqbZHULQ",
        "colab": {
          "base_uri": "https://localhost:8080/"
        },
        "outputId": "7494864e-24c2-47c9-bd72-9eaeb14b7354"
      },
      "source": [
        "model = load_model('/content/drive/MyDrive/building1/26March5slots_200epochs_biDirLSTMsingleDense/best_model.pkl')\n",
        "\n",
        "from sklearn.metrics import accuracy_score\n",
        "y_pred=model.predict(test)\n",
        "test_preds=( y_pred> 0.5).astype(\"int32\")#Selecting a label only if it has >0.5 probability\n",
        "accuracy_score(test_target, test_preds)"
      ],
      "execution_count": null,
      "outputs": [
        {
          "output_type": "execute_result",
          "data": {
            "text/plain": [
              "0.788935034114506"
            ]
          },
          "metadata": {
            "tags": []
          },
          "execution_count": 21
        }
      ]
    },
    {
      "cell_type": "code",
      "metadata": {
        "id": "FnRdkXmpHc5s",
        "colab": {
          "base_uri": "https://localhost:8080/"
        },
        "outputId": "abc042fa-4dbc-46ef-9f04-48d4ec1fa03c"
      },
      "source": [
        "yhat=np.argmax(y_pred,axis=1)\n",
        "y=np.argmax(test_target,axis=1)\n",
        "accuracy_score(y,yhat)"
      ],
      "execution_count": null,
      "outputs": [
        {
          "output_type": "execute_result",
          "data": {
            "text/plain": [
              "0.7959062592702462"
            ]
          },
          "metadata": {
            "tags": []
          },
          "execution_count": 22
        }
      ]
    },
    {
      "cell_type": "code",
      "metadata": {
        "id": "rM7XwQExHa0U",
        "colab": {
          "base_uri": "https://localhost:8080/",
          "height": 204
        },
        "outputId": "4c4024a4-357e-426f-f9e4-bfcc4dd777ae"
      },
      "source": [
        "#converting predicted labels to waypoins.\n",
        "pred_df=pd.DataFrame(yhat,columns=['Label'])\n",
        "label_df=pd.DataFrame(label,columns=['X_up_limit','Y_up_limit','Label'])\n",
        "label_df.head()\n",
        "pred_df2 = pd.merge(pred_df, label_df, on='Label', how='left')\n",
        "pred_df2.head()"
      ],
      "execution_count": null,
      "outputs": [
        {
          "output_type": "execute_result",
          "data": {
            "text/html": [
              "<div>\n",
              "<style scoped>\n",
              "    .dataframe tbody tr th:only-of-type {\n",
              "        vertical-align: middle;\n",
              "    }\n",
              "\n",
              "    .dataframe tbody tr th {\n",
              "        vertical-align: top;\n",
              "    }\n",
              "\n",
              "    .dataframe thead th {\n",
              "        text-align: right;\n",
              "    }\n",
              "</style>\n",
              "<table border=\"1\" class=\"dataframe\">\n",
              "  <thead>\n",
              "    <tr style=\"text-align: right;\">\n",
              "      <th></th>\n",
              "      <th>Label</th>\n",
              "      <th>X_up_limit</th>\n",
              "      <th>Y_up_limit</th>\n",
              "    </tr>\n",
              "  </thead>\n",
              "  <tbody>\n",
              "    <tr>\n",
              "      <th>0</th>\n",
              "      <td>79</td>\n",
              "      <td>233.944180</td>\n",
              "      <td>169.39878</td>\n",
              "    </tr>\n",
              "    <tr>\n",
              "      <th>1</th>\n",
              "      <td>78</td>\n",
              "      <td>214.213216</td>\n",
              "      <td>169.39878</td>\n",
              "    </tr>\n",
              "    <tr>\n",
              "      <th>2</th>\n",
              "      <td>78</td>\n",
              "      <td>214.213216</td>\n",
              "      <td>169.39878</td>\n",
              "    </tr>\n",
              "    <tr>\n",
              "      <th>3</th>\n",
              "      <td>78</td>\n",
              "      <td>214.213216</td>\n",
              "      <td>169.39878</td>\n",
              "    </tr>\n",
              "    <tr>\n",
              "      <th>4</th>\n",
              "      <td>78</td>\n",
              "      <td>214.213216</td>\n",
              "      <td>169.39878</td>\n",
              "    </tr>\n",
              "  </tbody>\n",
              "</table>\n",
              "</div>"
            ],
            "text/plain": [
              "   Label  X_up_limit  Y_up_limit\n",
              "0     79  233.944180   169.39878\n",
              "1     78  214.213216   169.39878\n",
              "2     78  214.213216   169.39878\n",
              "3     78  214.213216   169.39878\n",
              "4     78  214.213216   169.39878"
            ]
          },
          "metadata": {
            "tags": []
          },
          "execution_count": 23
        }
      ]
    },
    {
      "cell_type": "code",
      "metadata": {
        "id": "YL99yJBBHs7V",
        "colab": {
          "base_uri": "https://localhost:8080/",
          "height": 204
        },
        "outputId": "65cfcddc-7058-4112-bc0d-7013a5fcb893"
      },
      "source": [
        "wp_pred=list()\n",
        "#Adjust wp to centers\n",
        "distx=(label[1][0]-label[0][0])/2\n",
        "disty=(label[10][1]-label[0][1])/2 #for 10X10 grid\n",
        "pred_df2['X_up_limit']=pred_df2['X_up_limit']-distx\n",
        "pred_df2['Y_up_limit']=pred_df2['Y_up_limit']-disty\n",
        "pred_df2.head()"
      ],
      "execution_count": null,
      "outputs": [
        {
          "output_type": "execute_result",
          "data": {
            "text/html": [
              "<div>\n",
              "<style scoped>\n",
              "    .dataframe tbody tr th:only-of-type {\n",
              "        vertical-align: middle;\n",
              "    }\n",
              "\n",
              "    .dataframe tbody tr th {\n",
              "        vertical-align: top;\n",
              "    }\n",
              "\n",
              "    .dataframe thead th {\n",
              "        text-align: right;\n",
              "    }\n",
              "</style>\n",
              "<table border=\"1\" class=\"dataframe\">\n",
              "  <thead>\n",
              "    <tr style=\"text-align: right;\">\n",
              "      <th></th>\n",
              "      <th>Label</th>\n",
              "      <th>X_up_limit</th>\n",
              "      <th>Y_up_limit</th>\n",
              "    </tr>\n",
              "  </thead>\n",
              "  <tbody>\n",
              "    <tr>\n",
              "      <th>0</th>\n",
              "      <td>79</td>\n",
              "      <td>224.078698</td>\n",
              "      <td>163.499172</td>\n",
              "    </tr>\n",
              "    <tr>\n",
              "      <th>1</th>\n",
              "      <td>78</td>\n",
              "      <td>204.347734</td>\n",
              "      <td>163.499172</td>\n",
              "    </tr>\n",
              "    <tr>\n",
              "      <th>2</th>\n",
              "      <td>78</td>\n",
              "      <td>204.347734</td>\n",
              "      <td>163.499172</td>\n",
              "    </tr>\n",
              "    <tr>\n",
              "      <th>3</th>\n",
              "      <td>78</td>\n",
              "      <td>204.347734</td>\n",
              "      <td>163.499172</td>\n",
              "    </tr>\n",
              "    <tr>\n",
              "      <th>4</th>\n",
              "      <td>78</td>\n",
              "      <td>204.347734</td>\n",
              "      <td>163.499172</td>\n",
              "    </tr>\n",
              "  </tbody>\n",
              "</table>\n",
              "</div>"
            ],
            "text/plain": [
              "   Label  X_up_limit  Y_up_limit\n",
              "0     79  224.078698  163.499172\n",
              "1     78  204.347734  163.499172\n",
              "2     78  204.347734  163.499172\n",
              "3     78  204.347734  163.499172\n",
              "4     78  204.347734  163.499172"
            ]
          },
          "metadata": {
            "tags": []
          },
          "execution_count": 24
        }
      ]
    },
    {
      "cell_type": "code",
      "metadata": {
        "id": "ZDoK5QESHzeo",
        "colab": {
          "base_uri": "https://localhost:8080/"
        },
        "outputId": "bb4bb4db-e8b9-4168-986e-8d0997626bc7"
      },
      "source": [
        "#Now we will calculate exact error in predicted and actual location\n",
        "#We will consider only those waypoints which were present in the original data\n",
        "#to calculate error and we will reject interpolated values which were introduced by us \n",
        "import math\n",
        "sum_of_error=0\n",
        "sum_sq_error=0\n",
        "count=0\n",
        "test_predicted=pred_df2[['X_up_limit','Y_up_limit']].values\n",
        "for i in range(len(test_seq_wp)):\n",
        "  for j in range(len(test_seq_wp[i])):\n",
        "    if(test_seq_wp[i][j][2]==1):\n",
        "      sum_of_error+=math.sqrt(((test_predicted[i][0]-test_seq_wp[i][j][0])**2)+((test_predicted[i][1]-test_seq_wp[i][j][1])**2))\n",
        "      sum_sq_error+=((test_predicted[i][0]-test_seq_wp[i][j][0])**2)+((test_predicted[i][1]-test_seq_wp[i][j][1])**2)\n",
        "      count+=1\n",
        "\n",
        "\n",
        "MAE=sum_of_error/count\n",
        "RMSE=math.sqrt(sum_sq_error/count)\n",
        "print('MAE value is:',round(MAE,2))  \n",
        "print('RMSE value is:',round(RMSE,2)) "
      ],
      "execution_count": null,
      "outputs": [
        {
          "output_type": "stream",
          "text": [
            "MAE value is: 24.82\n",
            "RMSE value is: 37.78\n"
          ],
          "name": "stdout"
        }
      ]
    }
  ]
}