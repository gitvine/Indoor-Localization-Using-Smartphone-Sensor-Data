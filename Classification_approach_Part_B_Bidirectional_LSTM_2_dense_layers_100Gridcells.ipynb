{
  "nbformat": 4,
  "nbformat_minor": 0,
  "metadata": {
    "colab": {
      "name": "Part_B_classification_approach_Bidirectional_LSTM_2_dense_layers.ipynb",
      "provenance": [],
      "collapsed_sections": []
    },
    "kernelspec": {
      "display_name": "Python 3",
      "language": "python",
      "name": "python3"
    },
    "language_info": {
      "codemirror_mode": {
        "name": "ipython",
        "version": 3
      },
      "file_extension": ".py",
      "mimetype": "text/x-python",
      "name": "python",
      "nbconvert_exporter": "python",
      "pygments_lexer": "ipython3",
      "version": "3.8.5"
    }
  },
  "cells": [
    {
      "cell_type": "markdown",
      "metadata": {
        "id": "QktZ8WbxTv2T"
      },
      "source": [
        "## We have divided the problem into two parts\n",
        "(a) Predict the floor number\n",
        "(b) Predict the way points or location on that floor"
      ]
    },
    {
      "cell_type": "code",
      "metadata": {
        "id": "1f5bwMxmPWjQ"
      },
      "source": [
        "import pandas as pd\n",
        "import numpy as np\n",
        "%matplotlib inline\n",
        "import matplotlib.pyplot as plt\n",
        "from os import listdir\n",
        "from pathlib import Path\n",
        "pd.options.mode.chained_assignment = None  # default='warn'\n",
        "from dataclasses import dataclass\n",
        "from sklearn import preprocessing"
      ],
      "execution_count": null,
      "outputs": []
    },
    {
      "cell_type": "code",
      "metadata": {
        "id": "q6hAEaR6tmi9"
      },
      "source": [
        "import keras\n",
        "from keras.utils import to_categorical\n",
        "from keras.preprocessing import sequence\n",
        "import tensorflow as tf\n",
        "from keras.models import Sequential\n",
        "from keras.layers import Dense\n",
        "from keras.layers import LSTM\n",
        "from keras.optimizers import Adam\n",
        "from keras.models import load_model\n",
        "from keras.callbacks import ModelCheckpoint\n",
        "from keras.layers import Bidirectional"
      ],
      "execution_count": null,
      "outputs": []
    },
    {
      "cell_type": "code",
      "metadata": {
        "colab": {
          "base_uri": "https://localhost:8080/"
        },
        "id": "BfbMebYYWEIw",
        "outputId": "2c819ecb-d32e-4c5e-bb20-8e34de659aa8"
      },
      "source": [
        "from google.colab import drive\n",
        "drive.mount('/content/drive')"
      ],
      "execution_count": null,
      "outputs": [
        {
          "output_type": "stream",
          "text": [
            "Mounted at /content/drive\n"
          ],
          "name": "stdout"
        }
      ]
    },
    {
      "cell_type": "code",
      "metadata": {
        "id": "XpKnmwl6M_3_"
      },
      "source": [
        "#Function to connect waypoint coordinates with straight lines\n",
        "#This will be used for second part of project.We will discuss about this later.\n",
        "def connect_waypoints(wp_df):\n",
        "  if(wp_df.at[0,'waypoint_val1']==''):\n",
        "    wp_df.at[0,'waypoint_val1']=0\n",
        "  if(wp_df.at[0,'waypoint_val2']==''):\n",
        "    wp_df.at[0,'waypoint_val2']=0  \n",
        "  j=0\n",
        "  i=0\n",
        "  last=0\n",
        "  #print(wp_df.head(5))\n",
        "  while i < (len(wp_df)-1):\n",
        "    j=i+1\n",
        "    while((wp_df.at[j,'waypoint_val1']==0) and (wp_df.at[j,'waypoint_val2']==0) ):\n",
        "      if(j==len(wp_df)-1):\n",
        "        wp_df.at[j,'waypoint_val1']=wp_df.at[i,'waypoint_val1']\n",
        "        wp_df.at[j,'waypoint_val2']=wp_df.at[i,'waypoint_val2']\n",
        "        last=1\n",
        "        break\n",
        "      j+=1\n",
        "    temp_arrayx=np.linspace(wp_df.at[i,'waypoint_val1'],wp_df.at[j,'waypoint_val1'], num=j-i+1)\n",
        "    temp_arrayy=np.linspace(wp_df.at[i,'waypoint_val2'],wp_df.at[j,'waypoint_val2'], num=j-i+1)\n",
        "    #print(temp_arrayx)\n",
        "    m=0\n",
        "    for k in range(i,j+1):\n",
        "      wp_df.at[k,'waypoint_val1']=temp_arrayx[m]\n",
        "      wp_df.at[k,'waypoint_val2']=temp_arrayy[m]\n",
        "      #For final comparison of our predicted location, we will need to mark which waypoints were in original data before connecting them\n",
        "      #print('k=',k,'i=',i,'j=',j)\n",
        "      if((k==i) and (last==0)):\n",
        "        wp_df.at[k,'interpolated']=1 #original waypoints\n",
        "      else:\n",
        "        wp_df.at[k,'interpolated']=0  #interpolated waypoints\n",
        "      m+=1\n",
        "    i=j\n",
        "  return wp_df     \n"
      ],
      "execution_count": null,
      "outputs": []
    },
    {
      "cell_type": "code",
      "metadata": {
        "id": "hycBgmQSPWjX"
      },
      "source": [
        "# Function to extract arrays for each sensor with timeslots.\n",
        "# This particular function is modified from the function provided by the competition's github page at https://github.com/location-competition/indoor-location-competition-20/blob/master/io_f.py\n",
        "\n",
        "@dataclass\n",
        "class ReadData:\n",
        "    acce: np.ndarray\n",
        "    acce_uncali: np.ndarray\n",
        "    gyro: np.ndarray\n",
        "    gyro_uncali: np.ndarray\n",
        "    magn: np.ndarray\n",
        "    magn_uncali: np.ndarray\n",
        "    ahrs: np.ndarray\n",
        "    wifi: np.ndarray\n",
        "    ibeacon: np.ndarray\n",
        "    waypoint: np.ndarray\n",
        "\n",
        "\n",
        "def read_data_file(data_filename):\n",
        "    acce = []\n",
        "    acce_uncali = []\n",
        "    gyro = []\n",
        "    gyro_uncali = []\n",
        "    magn = []\n",
        "    magn_uncali = []\n",
        "    ahrs = []\n",
        "    wifi = []\n",
        "    ibeacon = []\n",
        "    waypoint = []\n",
        "    line_count=0\n",
        "    with open(data_filename, 'r', encoding='utf-8') as file:\n",
        "        lines = file.readlines()\n",
        "\n",
        "    for line_data in lines:\n",
        "        #line_count=line_count+1\n",
        "        #if(line_count>3000):\n",
        "        #  break\n",
        "        line_data = line_data.strip()\n",
        "        if not line_data or line_data[0] == '#':\n",
        "            continue\n",
        "\n",
        "        line_data = line_data.split('\\t')\n",
        "\n",
        "        if line_data[1] == 'TYPE_ACCELEROMETER':\n",
        "            acce.append([int(line_data[0]), float(line_data[2]), float(line_data[3]), float(line_data[4])])\n",
        "            continue\n",
        "\n",
        "        if line_data[1] == 'TYPE_ACCELEROMETER_UNCALIBRATED':\n",
        "            acce_uncali.append([int(line_data[0]), float(line_data[2]), float(line_data[3]), float(line_data[4])])\n",
        "            continue\n",
        "\n",
        "        if line_data[1] == 'TYPE_GYROSCOPE':\n",
        "            gyro.append([int(line_data[0]), float(line_data[2]), float(line_data[3]), float(line_data[4])])\n",
        "            continue\n",
        "\n",
        "        if line_data[1] == 'TYPE_GYROSCOPE_UNCALIBRATED':\n",
        "            gyro_uncali.append([int(line_data[0]), float(line_data[2]), float(line_data[3]), float(line_data[4])])\n",
        "            continue\n",
        "\n",
        "        if line_data[1] == 'TYPE_MAGNETIC_FIELD':\n",
        "            magn.append([int(line_data[0]), float(line_data[2]), float(line_data[3]), float(line_data[4])])\n",
        "            continue\n",
        "\n",
        "        if line_data[1] == 'TYPE_MAGNETIC_FIELD_UNCALIBRATED':\n",
        "            magn_uncali.append([int(line_data[0]), float(line_data[2]), float(line_data[3]), float(line_data[4])])\n",
        "            continue\n",
        "\n",
        "        if line_data[1] == 'TYPE_ROTATION_VECTOR':\n",
        "            ahrs.append([int(line_data[0]), float(line_data[2]), float(line_data[3]), float(line_data[4])])\n",
        "            continue\n",
        "\n",
        "        if line_data[1] == 'TYPE_WIFI':\n",
        "            sys_ts = int(line_data[0])\n",
        "            ssid = line_data[2]\n",
        "            bssid = line_data[3]\n",
        "            rssi = line_data[4]\n",
        "            lastseen_ts = line_data[6]\n",
        "            wifi_data = [sys_ts, ssid, bssid, rssi, lastseen_ts]\n",
        "            wifi.append(wifi_data)\n",
        "            continue\n",
        "\n",
        "        if line_data[1] == 'TYPE_BEACON':\n",
        "            ts = int(line_data[0])\n",
        "            uuid = line_data[2]\n",
        "            major = line_data[3]\n",
        "            minor = line_data[4]\n",
        "            rssi = line_data[6]\n",
        "            ibeacon_data = [ts, '_'.join([uuid, major, minor]), rssi]\n",
        "            ibeacon.append(ibeacon_data)\n",
        "            continue\n",
        "\n",
        "        if line_data[1] == 'TYPE_WAYPOINT':\n",
        "            waypoint.append([int(line_data[0]), float(line_data[2]), float(line_data[3])])\n",
        "\n",
        "    acce = np.array(acce,dtype=np.float)\n",
        "    acce_uncali = np.array(acce_uncali,dtype=np.float)\n",
        "    gyro = np.array(gyro,dtype=np.float)\n",
        "    gyro_uncali = np.array(gyro_uncali,dtype=np.float)\n",
        "    magn = np.array(magn,dtype=np.float)\n",
        "    magn_uncali = np.array(magn_uncali,dtype=np.float)\n",
        "    ahrs = np.array(ahrs)\n",
        "    wifi = np.array(wifi)\n",
        "    ibeacon = np.array(ibeacon)\n",
        "    waypoint = np.array(waypoint)\n",
        "\n",
        "    return ReadData(acce, acce_uncali, gyro, gyro_uncali, magn, magn_uncali, ahrs, wifi, ibeacon, waypoint)"
      ],
      "execution_count": null,
      "outputs": []
    },
    {
      "cell_type": "code",
      "metadata": {
        "id": "FpAoHhUmPWjb"
      },
      "source": [
        "#Function to go through all the files in the folder and return the sensor data \n",
        "# in the form of arrays\n",
        "@dataclass\n",
        "class trace:\n",
        "    sequence: np.ndarray\n",
        "    target_seq: np.ndarray\n",
        "    waypoint_seq: np.ndarray\n",
        "    wp_full_seq: np.ndarray\n",
        "\n",
        "def convert_to_df(file_path,floor,timeslots):\n",
        "    pathlist = Path(file_path).rglob('*.txt')\n",
        "    sequence = list()\n",
        "    target_seq=list()\n",
        "    waypoint_seq=list()\n",
        "    wp_full_seq=list()\n",
        "    path_id=1\n",
        "    floor_trace_df=pd.DataFrame()\n",
        "    for path in pathlist:\n",
        "         # because path is object not string\n",
        "        path_in_str = str(path)\n",
        "         # print(path_in_str)\n",
        "        trace_file = read_data_file(path_in_str)\n",
        "        trace_df=pd.DataFrame()\n",
        "        if(trace_file.acce.size):\n",
        "            acce_df=pd.DataFrame(trace_file.acce, columns=['Timestamp','acce_val1','acce_val2','acce_val3'])\n",
        "        if(trace_file.acce_uncali.size):\n",
        "            acce__uncal_df=pd.DataFrame(trace_file.acce_uncali, columns=['Timestamp','acce_uncal_val1','acce_uncal_val2','acce_uncal_val3'])   \n",
        "        if(trace_file.gyro.size):\n",
        "            gyro_df=pd.DataFrame(trace_file.gyro, columns=['Timestamp','gyro_val1','gyro_val2','gyro_val3'])\n",
        "        if(trace_file.gyro_uncali.size):\n",
        "            gyro_uncal_df=pd.DataFrame(trace_file.gyro_uncali, columns=['Timestamp','gyro_uncal_val1','gyro_uncal_val2','gyro_uncal_val3'])\n",
        "        if(trace_file.magn.size):\n",
        "            magn_df=pd.DataFrame(trace_file.magn, columns=['Timestamp','magn_val1','magn_val2','magn_val3'])\n",
        "        if(trace_file.magn_uncali.size):\n",
        "            magn_uncal_df=pd.DataFrame(trace_file.magn_uncali, columns=['Timestamp','magn_uncal_val1','magn_uncal_val2','magn_uncal_val3'])\n",
        "        if(trace_file.ahrs.size):\n",
        "            rot_df=pd.DataFrame(trace_file.ahrs, columns=['Timestamp','rot_val1','rot_val2','rot_val3'])           \n",
        "        if(trace_file.wifi.size):\n",
        "            wifi_df=pd.DataFrame(trace_file.wifi, columns=['Timestamp','wifi_val1','wifi_val2','wifi_val3','wifi_val4']) \n",
        "        if(trace_file.ibeacon.size):\n",
        "            ibeacon_df=pd.DataFrame(trace_file.ibeacon, columns=['Timestamp','ibeacon_val1','ibeacon_val2'])    \n",
        "        if(trace_file.waypoint.size):\n",
        "            waypoint_df=pd.DataFrame(trace_file.waypoint, columns=['Timestamp','waypoint_val1','waypoint_val2'])\n",
        "        \n",
        "        #change data type of wifi dataframe timestamp and ibeacon timestamp\n",
        "        wifi_df[\"Timestamp\"] = wifi_df.Timestamp.astype(float)\n",
        "        ibeacon_df[\"Timestamp\"] = ibeacon_df.Timestamp.astype(float)\n",
        "        trace_df = pd.merge(acce_df, acce__uncal_df, on='Timestamp', how='outer')\n",
        "        trace_df = pd.merge(trace_df, gyro_df, on='Timestamp', how='outer')\n",
        "        trace_df = pd.merge(trace_df, gyro_uncal_df, on='Timestamp', how='outer')\n",
        "        trace_df = pd.merge(trace_df, magn_df, on='Timestamp', how='outer')\n",
        "        trace_df = pd.merge(trace_df, magn_uncal_df, on='Timestamp', how='outer')\n",
        "        trace_df = pd.merge(trace_df, rot_df, on='Timestamp', how='outer')\n",
        "        trace_df = pd.merge(trace_df, wifi_df, on='Timestamp', how='outer')\n",
        "        trace_df = pd.merge(trace_df, ibeacon_df, on='Timestamp', how='outer')\n",
        "        trace_df = pd.merge(trace_df, waypoint_df, on='Timestamp', how='outer')\n",
        "        ###### Cast time stamp to integer\n",
        "        trace_df[\"Timestamp\"] = trace_df.Timestamp.astype(int)\n",
        "\n",
        "        # sorting by Timestamp and deleting duplicate timeslots \n",
        "        \n",
        "        trace_df.sort_values(\"Timestamp\", inplace = True)\n",
        "        trace_df = trace_df.reset_index(drop=True)\n",
        "        trace_df.drop_duplicates(subset=\"Timestamp\",keep=False, inplace=True)\n",
        "        trace_df = trace_df.reset_index(drop=True)\n",
        "        \n",
        "        trace_df=trace_df.replace(np.nan,0)\n",
        "\n",
        "        #keep only top 200 rows in one sequence     \n",
        "        #trace_df=trace_df.head(200)\n",
        "\n",
        "        #for i in range(0,len(trace_df)):\n",
        "         # trace_df.at[i,'Timestamp']=i\n",
        "        \n",
        "        #trace_df['time_index'] = trace_df.index\n",
        "        #print(trace_df.head())\n",
        "        #trace_df['floor_name']=floor\n",
        "        #trace_df['path_id']=floor+path_id\n",
        "        #path_id=path_id+1\n",
        "        #trace_df['wifi_df'].fillna(0)\n",
        "        #trace_df['ibeacon_df'].fillna(0)\n",
        "        #trace_df['wifi_df'].fillna(0)\n",
        "        \n",
        "\n",
        "        wp_df = trace_df[['waypoint_val1', 'waypoint_val2']].copy()\n",
        "        wp_df=connect_waypoints(wp_df)\n",
        "        wp_values=wp_df.values\n",
        "        #Removing text based fields in dataframe\n",
        "        trace_df=trace_df.drop(['Timestamp'], axis=1)\n",
        "        trace_df=trace_df.drop(['wifi_val1'], axis=1)\n",
        "        trace_df=trace_df.drop(['wifi_val2'], axis=1)\n",
        "        trace_df=trace_df.drop(['ibeacon_val1'], axis=1)\n",
        "        trace_df.astype('float32')        \n",
        "        trace_df=trace_df.drop(['waypoint_val1','waypoint_val2'], axis=1)\n",
        "        #floor_trace_df=floor_trace_df.append(trace_df)\n",
        "        values = trace_df.values \n",
        "\n",
        "\n",
        "        \n",
        "\n",
        "\n",
        "        #Now split sequence into required number of timeslots\n",
        "        l=int(len(values)/timeslots)\n",
        "        k=0\n",
        "        for m in range(l):\n",
        "          s_temp=values[k:k+timeslots]\n",
        "          wp_temp=wp_values[k:k+timeslots]\n",
        "          #Normalize\n",
        "          #min_max_scaler = preprocessing.MinMaxScaler()\n",
        "          #s_scaled = min_max_scaler.fit_transform(s_temp)\n",
        "          sequence.append(s_temp)\n",
        "          wp_full_seq.append(wp_temp)\n",
        "          target_seq.append(floor)\n",
        "          wp_temp=wp_df.iloc[k:k+timeslots,0:]\n",
        "          wp_temp=wp_temp.reset_index(drop=True)\n",
        "          #wp_temp=connect_waypoints(wp_temp)\n",
        "        #Now after connecting the waypoints, the avearge has become a wieghted average in time series\n",
        "          wp_avg_x=wp_temp['waypoint_val1'].mean()\n",
        "          wp_avg_y=wp_temp['waypoint_val2'].mean()\n",
        "        #maximum and minimum will be useful in second part\n",
        "          wp_max_x=wp_temp['waypoint_val1'].max()\n",
        "          wp_min_x=wp_temp['waypoint_val1'].min()\n",
        "          wp_max_y=wp_temp['waypoint_val2'].max()\n",
        "          wp_min_y=wp_temp['waypoint_val2'].min()\n",
        "          \n",
        "          waypoint_seq.append([wp_avg_x,wp_avg_y,wp_max_x,wp_min_x,wp_max_y,wp_min_y])\n",
        "          k+=timeslots\n",
        "\n",
        "    return trace(sequence,target_seq,waypoint_seq,wp_full_seq)"
      ],
      "execution_count": null,
      "outputs": []
    },
    {
      "cell_type": "code",
      "metadata": {
        "id": "RIHmyZk8PWje"
      },
      "source": [
        "#Extracting data for B1 floor only\n",
        "sequences = list()\n",
        "target_sequence=list()\n",
        "waypoint_sequence=list()\n",
        "waypoint_full_sequence=list()\n",
        "#floors_df=pd.DataFrame()\n",
        "file_path = '/content/drive/MyDrive/building1/data/B1'\n",
        "trace_values=(convert_to_df(file_path,0,5))\n",
        "sequences.extend(trace_values.sequence)\n",
        "target_sequence.extend(trace_values.target_seq)\n",
        "waypoint_sequence.extend(trace_values.waypoint_seq)\n",
        "waypoint_full_sequence.extend(trace_values.wp_full_seq)"
      ],
      "execution_count": null,
      "outputs": []
    },
    {
      "cell_type": "code",
      "metadata": {
        "colab": {
          "base_uri": "https://localhost:8080/"
        },
        "id": "-H8pSsXd15bP",
        "outputId": "07e98f2a-eb69-4d8b-e724-8f711d71aa6d"
      },
      "source": [
        "waypoint_sequence[0]"
      ],
      "execution_count": null,
      "outputs": [
        {
          "output_type": "execute_result",
          "data": {
            "text/plain": [
              "[198.39352660531696,\n",
              " 163.5148854601227,\n",
              " 198.41872321063394,\n",
              " 198.36833,\n",
              " 163.52063,\n",
              " 163.50914092024541]"
            ]
          },
          "metadata": {
            "tags": []
          },
          "execution_count": 8
        }
      ]
    },
    {
      "cell_type": "code",
      "metadata": {
        "colab": {
          "base_uri": "https://localhost:8080/"
        },
        "id": "cu3Zj31ukXcD",
        "outputId": "c78487eb-fb5e-4e56-cc7f-2ca07d1f156f"
      },
      "source": [
        "len(sequences[0])"
      ],
      "execution_count": null,
      "outputs": [
        {
          "output_type": "execute_result",
          "data": {
            "text/plain": [
              "5"
            ]
          },
          "metadata": {
            "tags": []
          },
          "execution_count": 38
        }
      ]
    },
    {
      "cell_type": "code",
      "metadata": {
        "colab": {
          "base_uri": "https://localhost:8080/"
        },
        "id": "z_7S8TmaPWje",
        "outputId": "e319afe6-e700-4f59-d5c0-e0efc18c6b84"
      },
      "source": [
        "print('Number of sequences',len(sequences))\n",
        "print('Number of targets',len(target_sequence))\n",
        "print('Number of timeslots in first sequence',(sequences[0].shape)[0])\n",
        "print('Number of timeslots in tenth sequence',(sequences[9].shape)[0])\n",
        "print('Number of timeslots in hundredth sequence',(sequences[99].shape)[0])"
      ],
      "execution_count": null,
      "outputs": [
        {
          "output_type": "stream",
          "text": [
            "Number of sequences 44943\n",
            "Number of targets 44943\n",
            "Number of timeslots in first sequence 5\n",
            "Number of timeslots in tenth sequence 5\n",
            "Number of timeslots in hundredth sequence 5\n"
          ],
          "name": "stdout"
        }
      ]
    },
    {
      "cell_type": "markdown",
      "metadata": {
        "id": "vo62w2LuQHNq"
      },
      "source": [
        "# Part 2 "
      ]
    },
    {
      "cell_type": "markdown",
      "metadata": {
        "id": "Qnk26WqnQJKY"
      },
      "source": [
        "### After knowing the floor, now we need to predict waypoints on that floor."
      ]
    },
    {
      "cell_type": "markdown",
      "metadata": {
        "id": "uGoxuEgijbH1"
      },
      "source": [
        "### We assume that floor B1 was predicted in first part. So, for this part we will only take data of floor B1."
      ]
    },
    {
      "cell_type": "code",
      "metadata": {
        "colab": {
          "base_uri": "https://localhost:8080/"
        },
        "id": "ISwnNpCoPWji",
        "outputId": "7d406e83-c5cb-44af-aff6-e92a9e3e8c3a"
      },
      "source": [
        "len(waypoint_sequence)"
      ],
      "execution_count": null,
      "outputs": [
        {
          "output_type": "execute_result",
          "data": {
            "text/plain": [
              "44943"
            ]
          },
          "metadata": {
            "tags": []
          },
          "execution_count": 8
        }
      ]
    },
    {
      "cell_type": "code",
      "metadata": {
        "colab": {
          "base_uri": "https://localhost:8080/"
        },
        "id": "xXPijH_9Y8VR",
        "outputId": "b30e7e07-855a-4bc2-f205-3f1659905c06"
      },
      "source": [
        "len(sequences)"
      ],
      "execution_count": null,
      "outputs": [
        {
          "output_type": "execute_result",
          "data": {
            "text/plain": [
              "44943"
            ]
          },
          "metadata": {
            "tags": []
          },
          "execution_count": 9
        }
      ]
    },
    {
      "cell_type": "code",
      "metadata": {
        "colab": {
          "base_uri": "https://localhost:8080/"
        },
        "id": "ZvxwS2mkjomJ",
        "outputId": "e494b14e-34ae-4a2c-8486-ef21b70b655a"
      },
      "source": [
        "##We will divide the area into grids. But first we need to know the dimensions to work with\n",
        "wp_df = pd.DataFrame(waypoint_sequence, columns = ['avg_x','avg_y','max_x','min_x','max_y','min_y',])\n",
        "wp_df=wp_df.head(len(sequences))  #number of sequences for floor B1\n",
        "wp_df = wp_df.round(decimals=5)\n",
        "floor_max_x=wp_df['max_x'].max()\n",
        "floor_min_x=wp_df['min_x'].min()\n",
        "floor_max_y=wp_df['max_y'].max()\n",
        "floor_min_y=wp_df['min_y'].min()\n",
        "print(floor_max_x,floor_min_x,floor_max_y,floor_min_y)"
      ],
      "execution_count": null,
      "outputs": [
        {
          "output_type": "stream",
          "text": [
            "233.94418 36.63454 192.99721 75.00506\n"
          ],
          "name": "stdout"
        }
      ]
    },
    {
      "cell_type": "code",
      "metadata": {
        "id": "1QefxsOkmJDo"
      },
      "source": [
        "#Creating grid for labelling\n",
        "#We will create a 10X10 grid for 100 labels\n",
        "array_x=np.linspace(floor_min_x,floor_max_x,11)\n",
        "array_y=np.linspace(floor_min_y,floor_max_y,11)\n",
        "label=list()\n",
        "k=0\n",
        "for j in range(1,11):\n",
        "  for i in range(1,11):\n",
        "    label.append([array_x[i],array_y[j],k])\n",
        "    k+=1  "
      ],
      "execution_count": null,
      "outputs": []
    },
    {
      "cell_type": "code",
      "metadata": {
        "colab": {
          "base_uri": "https://localhost:8080/"
        },
        "id": "01lxZoqopST6",
        "outputId": "67b48e72-aec3-4b17-a30f-effa1ba9e9a8"
      },
      "source": [
        "#Now we need to give labels to our waypoints sequence on the basis of average waypoints\n",
        "print(wp_df.head())\n",
        "for i in range(len(wp_df)):\n",
        "  for j in range(len(label)):\n",
        "    if(wp_df.at[i,'avg_x']<=label[j][0]):\n",
        "       for p in range(len(label)):\n",
        "         if(wp_df.at[i,'avg_y']<=label[p][1]):\n",
        "           wp_df.at[i,'label']=label[j+p][2]\n",
        "           break\n",
        "       break    \n",
        "print(wp_df.head(20))           "
      ],
      "execution_count": null,
      "outputs": [
        {
          "output_type": "stream",
          "text": [
            "       avg_x      avg_y      max_x      min_x      max_y      min_y\n",
            "0  198.39353  163.51489  198.41872  198.36833  163.52063  163.50914\n",
            "1  198.45652  163.50052  198.48171  198.43132  163.50627  163.49478\n",
            "2  198.51951  163.48616  198.54471  198.49431  163.49191  163.48042\n",
            "3  198.58250  163.47180  198.60770  198.55730  163.47755  163.46606\n",
            "4  198.64549  163.45744  198.67069  198.62030  163.46318  163.45170\n",
            "        avg_x      avg_y      max_x      min_x      max_y      min_y  label\n",
            "0   198.39353  163.51489  198.41872  198.36833  163.52063  163.50914   78.0\n",
            "1   198.45652  163.50052  198.48171  198.43132  163.50627  163.49478   78.0\n",
            "2   198.51951  163.48616  198.54471  198.49431  163.49191  163.48042   78.0\n",
            "3   198.58250  163.47180  198.60770  198.55730  163.47755  163.46606   78.0\n",
            "4   198.64549  163.45744  198.67069  198.62030  163.46318  163.45170   78.0\n",
            "5   198.70848  163.44308  198.73368  198.68329  163.44882  163.43733   78.0\n",
            "6   198.77148  163.42872  198.79667  198.74628  163.43446  163.42297   78.0\n",
            "7   198.83447  163.41436  198.85966  198.80927  163.42010  163.40861   78.0\n",
            "8   198.89746  163.39999  198.92266  198.87226  163.40574  163.39425   78.0\n",
            "9   198.96045  163.38563  198.98565  198.93525  163.39138  163.37989   78.0\n",
            "10  199.02344  163.37127  199.04864  198.99825  163.37702  163.36553   78.0\n",
            "11  199.08643  163.35691  199.11163  199.06124  163.36266  163.35117   78.0\n",
            "12  199.14942  163.34255  199.17462  199.12423  163.34829  163.33680   78.0\n",
            "13  199.21242  163.32819  199.23761  199.18722  163.33393  163.32244   78.0\n",
            "14  199.27541  163.31383  199.30060  199.25021  163.31957  163.30808   78.0\n",
            "15  199.33840  163.29947  199.36360  199.31320  163.30521  163.29372   78.0\n",
            "16  199.40139  163.28510  199.42659  199.37619  163.29085  163.27936   78.0\n",
            "17  199.46438  163.27074  199.48958  199.43919  163.27649  163.26500   78.0\n",
            "18  199.52737  163.25638  199.55257  199.50218  163.26213  163.25064   78.0\n",
            "19  199.59037  163.24202  199.61556  199.56517  163.24776  163.23628   78.0\n"
          ],
          "name": "stdout"
        }
      ]
    },
    {
      "cell_type": "code",
      "metadata": {
        "colab": {
          "base_uri": "https://localhost:8080/"
        },
        "id": "wB-6V2700gTq",
        "outputId": "56ea8638-6ded-4597-83e0-cbc07349dcb0"
      },
      "source": [
        "#Now we need to create new train, validation and test split for only building 1\n",
        "train_length=int(len(sequences)*0.7)\n",
        "val_length=int(len(sequences)*0.15)\n",
        "test_length=len(sequences)-train_length-val_length\n",
        "\n",
        "train_flags=np.full((train_length), 0)\n",
        "validation_flags=np.full((val_length), 1)\n",
        "test_flags=np.full((test_length), 2)\n",
        "\n",
        "flags=[]\n",
        "flags.extend(train_flags)\n",
        "flags.extend(validation_flags)\n",
        "flags.extend(test_flags)\n",
        "np.random.shuffle(flags)\n",
        "len(flags)"
      ],
      "execution_count": null,
      "outputs": [
        {
          "output_type": "execute_result",
          "data": {
            "text/plain": [
              "44943"
            ]
          },
          "metadata": {
            "tags": []
          },
          "execution_count": 13
        }
      ]
    },
    {
      "cell_type": "code",
      "metadata": {
        "colab": {
          "base_uri": "https://localhost:8080/"
        },
        "id": "QfUNUjSi3fu_",
        "outputId": "7be14b6b-4007-4cb7-cd93-e00a1bc678a4"
      },
      "source": [
        "#Creating target sequence\n",
        "target_sequence2=wp_df['label'].values\n",
        "#Slice the sequence to get only floor B1 data\n",
        "sequences2=sequences[0:len(sequences)]\n",
        "target_sequence2=np.array(target_sequence2)\n",
        "target_sequence2"
      ],
      "execution_count": null,
      "outputs": [
        {
          "output_type": "execute_result",
          "data": {
            "text/plain": [
              "array([78., 78., 78., ..., 73., 73., 73.])"
            ]
          },
          "metadata": {
            "tags": []
          },
          "execution_count": 14
        }
      ]
    },
    {
      "cell_type": "code",
      "metadata": {
        "id": "PXaAAD281td9"
      },
      "source": [
        "train = [sequences2[i] for i in range(len(flags)) if (flags[i]==0)]\n",
        "validation = [sequences2[i] for i in range(len(flags)) if flags[i]==1]\n",
        "test = [sequences2[i] for i in range(len(flags)) if flags[i]==2]\n",
        "test_seq_wp=[waypoint_full_sequence[i] for i in range(len(flags)) if flags[i]==2]\n",
        "\n",
        "train_target = [target_sequence2[i] for i in range(len(flags)) if (flags[i]==0)]\n",
        "validation_target = [target_sequence2[i] for i in range(len(flags)) if flags[i]==1]\n",
        "test_target = [target_sequence2[i] for i in range(len(flags)) if flags[i]==2]\n",
        "train = np.array(train)\n",
        "validation = np.array(validation)\n",
        "test = np.array(test)\n",
        "\n",
        "train_target = np.array(train_target)\n",
        "train_target=to_categorical(train_target,num_classes = 100)\n",
        "\n",
        "validation_target = np.array(validation_target)\n",
        "validation_target=to_categorical(validation_target,num_classes = 100)\n",
        "test_target = np.array(test_target)\n",
        "test_target=to_categorical(test_target,num_classes = 100)"
      ],
      "execution_count": null,
      "outputs": []
    },
    {
      "cell_type": "code",
      "metadata": {
        "colab": {
          "base_uri": "https://localhost:8080/"
        },
        "id": "yDFDCkPn-GDs",
        "outputId": "0d68142a-ef56-41f6-da81-c965a758a3ca"
      },
      "source": [
        "print(sequences2[0].shape)\n",
        "train_target[0]\n",
        "len(test_seq_wp)"
      ],
      "execution_count": null,
      "outputs": [
        {
          "output_type": "stream",
          "text": [
            "(5, 24)\n"
          ],
          "name": "stdout"
        },
        {
          "output_type": "execute_result",
          "data": {
            "text/plain": [
              "6742"
            ]
          },
          "metadata": {
            "tags": []
          },
          "execution_count": 16
        }
      ]
    },
    {
      "cell_type": "code",
      "metadata": {
        "id": "Clp7vzIBcMfP"
      },
      "source": [
        "train=tf.convert_to_tensor(train, np.float32)\n",
        "train_target=tf.convert_to_tensor(train_target, np.float32)\n",
        "validation=tf.convert_to_tensor(validation, np.float32)\n",
        "validation_target=tf.convert_to_tensor(validation_target, np.float32)\n",
        "test=tf.convert_to_tensor(test, np.float32)\n",
        "test_target=tf.convert_to_tensor(test_target, np.float32)"
      ],
      "execution_count": null,
      "outputs": []
    },
    {
      "cell_type": "code",
      "metadata": {
        "colab": {
          "base_uri": "https://localhost:8080/"
        },
        "id": "Vlq3I9B0C9HQ",
        "outputId": "5d683272-c7db-4af0-c0d9-a1a804c97987"
      },
      "source": [
        "#Trial with 100 grid cells \n",
        "from keras.layers import Dropout\n",
        "seq_len = 5\n",
        "seq_bredth=24\n",
        "model = Sequential()\n",
        "model.add(Bidirectional(LSTM(256,return_sequences=True),input_shape=(seq_len, seq_bredth),merge_mode='concat'))\n",
        "model.add(LSTM(256, input_shape=(3, 512)))\n",
        "model.add(Dense(128, activation='relu'))\n",
        "model.add(Dense(100, activation='softmax'))\n",
        "model.summary()"
      ],
      "execution_count": null,
      "outputs": [
        {
          "output_type": "stream",
          "text": [
            "Model: \"sequential\"\n",
            "_________________________________________________________________\n",
            "Layer (type)                 Output Shape              Param #   \n",
            "=================================================================\n",
            "bidirectional (Bidirectional (None, 5, 512)            575488    \n",
            "_________________________________________________________________\n",
            "lstm_1 (LSTM)                (None, 256)               787456    \n",
            "_________________________________________________________________\n",
            "dense (Dense)                (None, 128)               32896     \n",
            "_________________________________________________________________\n",
            "dense_1 (Dense)              (None, 100)               12900     \n",
            "=================================================================\n",
            "Total params: 1,408,740\n",
            "Trainable params: 1,408,740\n",
            "Non-trainable params: 0\n",
            "_________________________________________________________________\n"
          ],
          "name": "stdout"
        }
      ]
    },
    {
      "cell_type": "code",
      "metadata": {
        "colab": {
          "base_uri": "https://localhost:8080/"
        },
        "id": "8QzFV7hnDMyS",
        "outputId": "58cef006-5f58-40a9-fed2-896ddfe25e5c"
      },
      "source": [
        "#This is 100 cells simple LSTM\n",
        "adam = Adam(lr=0.001)\n",
        "checkpoint_filepath = '/content/drive/MyDrive/building1/26March5slots_200epochs_biDirLSTMDoubleDense/best_model.pkl'\n",
        "chk = ModelCheckpoint(filepath=checkpoint_filepath, monitor='val_accuracy', save_best_only=True, mode='max', verbose=1)\n",
        "model.compile(loss='categorical_crossentropy', optimizer=adam, metrics=['accuracy'])\n",
        "history=model.fit(train, train_target, epochs=200, batch_size=128, callbacks=[chk], validation_data=(validation,validation_target))"
      ],
      "execution_count": null,
      "outputs": [
        {
          "output_type": "stream",
          "text": [
            "Epoch 1/200\n",
            "246/246 [==============================] - 49s 177ms/step - loss: 3.5233 - accuracy: 0.1159 - val_loss: 2.4341 - val_accuracy: 0.2608\n",
            "\n",
            "Epoch 00001: val_accuracy improved from -inf to 0.26079, saving model to /content/drive/MyDrive/building1/26March5slots_200epochs_biDirLSTMDoubleDense/best_model.pkl\n"
          ],
          "name": "stdout"
        },
        {
          "output_type": "stream",
          "text": [
            "WARNING:absl:Found untraced functions such as lstm_cell_3_layer_call_fn, lstm_cell_3_layer_call_and_return_conditional_losses, lstm_cell_1_layer_call_fn, lstm_cell_1_layer_call_and_return_conditional_losses, lstm_cell_2_layer_call_fn while saving (showing 5 of 15). These functions will not be directly callable after loading.\n",
            "WARNING:absl:Found untraced functions such as lstm_cell_3_layer_call_fn, lstm_cell_3_layer_call_and_return_conditional_losses, lstm_cell_1_layer_call_fn, lstm_cell_1_layer_call_and_return_conditional_losses, lstm_cell_2_layer_call_fn while saving (showing 5 of 15). These functions will not be directly callable after loading.\n"
          ],
          "name": "stderr"
        },
        {
          "output_type": "stream",
          "text": [
            "INFO:tensorflow:Assets written to: /content/drive/MyDrive/building1/26March5slots_200epochs_biDirLSTMDoubleDense/best_model.pkl/assets\n"
          ],
          "name": "stdout"
        },
        {
          "output_type": "stream",
          "text": [
            "INFO:tensorflow:Assets written to: /content/drive/MyDrive/building1/26March5slots_200epochs_biDirLSTMDoubleDense/best_model.pkl/assets\n"
          ],
          "name": "stderr"
        },
        {
          "output_type": "stream",
          "text": [
            "Epoch 2/200\n",
            "246/246 [==============================] - 41s 168ms/step - loss: 2.1269 - accuracy: 0.3241 - val_loss: 1.6560 - val_accuracy: 0.4314\n",
            "\n",
            "Epoch 00002: val_accuracy improved from 0.26079 to 0.43139, saving model to /content/drive/MyDrive/building1/26March5slots_200epochs_biDirLSTMDoubleDense/best_model.pkl\n"
          ],
          "name": "stdout"
        },
        {
          "output_type": "stream",
          "text": [
            "WARNING:absl:Found untraced functions such as lstm_cell_3_layer_call_fn, lstm_cell_3_layer_call_and_return_conditional_losses, lstm_cell_1_layer_call_fn, lstm_cell_1_layer_call_and_return_conditional_losses, lstm_cell_2_layer_call_fn while saving (showing 5 of 15). These functions will not be directly callable after loading.\n",
            "WARNING:absl:Found untraced functions such as lstm_cell_3_layer_call_fn, lstm_cell_3_layer_call_and_return_conditional_losses, lstm_cell_1_layer_call_fn, lstm_cell_1_layer_call_and_return_conditional_losses, lstm_cell_2_layer_call_fn while saving (showing 5 of 15). These functions will not be directly callable after loading.\n"
          ],
          "name": "stderr"
        },
        {
          "output_type": "stream",
          "text": [
            "INFO:tensorflow:Assets written to: /content/drive/MyDrive/building1/26March5slots_200epochs_biDirLSTMDoubleDense/best_model.pkl/assets\n"
          ],
          "name": "stdout"
        },
        {
          "output_type": "stream",
          "text": [
            "INFO:tensorflow:Assets written to: /content/drive/MyDrive/building1/26March5slots_200epochs_biDirLSTMDoubleDense/best_model.pkl/assets\n"
          ],
          "name": "stderr"
        },
        {
          "output_type": "stream",
          "text": [
            "Epoch 3/200\n",
            "246/246 [==============================] - 42s 169ms/step - loss: 1.6012 - accuracy: 0.4476 - val_loss: 1.3982 - val_accuracy: 0.5010\n",
            "\n",
            "Epoch 00003: val_accuracy improved from 0.43139 to 0.50096, saving model to /content/drive/MyDrive/building1/26March5slots_200epochs_biDirLSTMDoubleDense/best_model.pkl\n"
          ],
          "name": "stdout"
        },
        {
          "output_type": "stream",
          "text": [
            "WARNING:absl:Found untraced functions such as lstm_cell_3_layer_call_fn, lstm_cell_3_layer_call_and_return_conditional_losses, lstm_cell_1_layer_call_fn, lstm_cell_1_layer_call_and_return_conditional_losses, lstm_cell_2_layer_call_fn while saving (showing 5 of 15). These functions will not be directly callable after loading.\n",
            "WARNING:absl:Found untraced functions such as lstm_cell_3_layer_call_fn, lstm_cell_3_layer_call_and_return_conditional_losses, lstm_cell_1_layer_call_fn, lstm_cell_1_layer_call_and_return_conditional_losses, lstm_cell_2_layer_call_fn while saving (showing 5 of 15). These functions will not be directly callable after loading.\n"
          ],
          "name": "stderr"
        },
        {
          "output_type": "stream",
          "text": [
            "INFO:tensorflow:Assets written to: /content/drive/MyDrive/building1/26March5slots_200epochs_biDirLSTMDoubleDense/best_model.pkl/assets\n"
          ],
          "name": "stdout"
        },
        {
          "output_type": "stream",
          "text": [
            "INFO:tensorflow:Assets written to: /content/drive/MyDrive/building1/26March5slots_200epochs_biDirLSTMDoubleDense/best_model.pkl/assets\n"
          ],
          "name": "stderr"
        },
        {
          "output_type": "stream",
          "text": [
            "Epoch 4/200\n",
            "246/246 [==============================] - 42s 170ms/step - loss: 1.3832 - accuracy: 0.5092 - val_loss: 1.3455 - val_accuracy: 0.5177\n",
            "\n",
            "Epoch 00004: val_accuracy improved from 0.50096 to 0.51773, saving model to /content/drive/MyDrive/building1/26March5slots_200epochs_biDirLSTMDoubleDense/best_model.pkl\n"
          ],
          "name": "stdout"
        },
        {
          "output_type": "stream",
          "text": [
            "WARNING:absl:Found untraced functions such as lstm_cell_3_layer_call_fn, lstm_cell_3_layer_call_and_return_conditional_losses, lstm_cell_1_layer_call_fn, lstm_cell_1_layer_call_and_return_conditional_losses, lstm_cell_2_layer_call_fn while saving (showing 5 of 15). These functions will not be directly callable after loading.\n",
            "WARNING:absl:Found untraced functions such as lstm_cell_3_layer_call_fn, lstm_cell_3_layer_call_and_return_conditional_losses, lstm_cell_1_layer_call_fn, lstm_cell_1_layer_call_and_return_conditional_losses, lstm_cell_2_layer_call_fn while saving (showing 5 of 15). These functions will not be directly callable after loading.\n"
          ],
          "name": "stderr"
        },
        {
          "output_type": "stream",
          "text": [
            "INFO:tensorflow:Assets written to: /content/drive/MyDrive/building1/26March5slots_200epochs_biDirLSTMDoubleDense/best_model.pkl/assets\n"
          ],
          "name": "stdout"
        },
        {
          "output_type": "stream",
          "text": [
            "INFO:tensorflow:Assets written to: /content/drive/MyDrive/building1/26March5slots_200epochs_biDirLSTMDoubleDense/best_model.pkl/assets\n"
          ],
          "name": "stderr"
        },
        {
          "output_type": "stream",
          "text": [
            "Epoch 5/200\n",
            "246/246 [==============================] - 42s 172ms/step - loss: 1.2466 - accuracy: 0.5540 - val_loss: 1.2150 - val_accuracy: 0.5526\n",
            "\n",
            "Epoch 00005: val_accuracy improved from 0.51773 to 0.55259, saving model to /content/drive/MyDrive/building1/26March5slots_200epochs_biDirLSTMDoubleDense/best_model.pkl\n"
          ],
          "name": "stdout"
        },
        {
          "output_type": "stream",
          "text": [
            "WARNING:absl:Found untraced functions such as lstm_cell_3_layer_call_fn, lstm_cell_3_layer_call_and_return_conditional_losses, lstm_cell_1_layer_call_fn, lstm_cell_1_layer_call_and_return_conditional_losses, lstm_cell_2_layer_call_fn while saving (showing 5 of 15). These functions will not be directly callable after loading.\n",
            "WARNING:absl:Found untraced functions such as lstm_cell_3_layer_call_fn, lstm_cell_3_layer_call_and_return_conditional_losses, lstm_cell_1_layer_call_fn, lstm_cell_1_layer_call_and_return_conditional_losses, lstm_cell_2_layer_call_fn while saving (showing 5 of 15). These functions will not be directly callable after loading.\n"
          ],
          "name": "stderr"
        },
        {
          "output_type": "stream",
          "text": [
            "INFO:tensorflow:Assets written to: /content/drive/MyDrive/building1/26March5slots_200epochs_biDirLSTMDoubleDense/best_model.pkl/assets\n"
          ],
          "name": "stdout"
        },
        {
          "output_type": "stream",
          "text": [
            "INFO:tensorflow:Assets written to: /content/drive/MyDrive/building1/26March5slots_200epochs_biDirLSTMDoubleDense/best_model.pkl/assets\n"
          ],
          "name": "stderr"
        },
        {
          "output_type": "stream",
          "text": [
            "Epoch 6/200\n",
            "246/246 [==============================] - 42s 171ms/step - loss: 1.1629 - accuracy: 0.5780 - val_loss: 1.2810 - val_accuracy: 0.5389\n",
            "\n",
            "Epoch 00006: val_accuracy did not improve from 0.55259\n",
            "Epoch 7/200\n",
            "246/246 [==============================] - 41s 168ms/step - loss: 1.1245 - accuracy: 0.5905 - val_loss: 1.1072 - val_accuracy: 0.5889\n",
            "\n",
            "Epoch 00007: val_accuracy improved from 0.55259 to 0.58893, saving model to /content/drive/MyDrive/building1/26March5slots_200epochs_biDirLSTMDoubleDense/best_model.pkl\n"
          ],
          "name": "stdout"
        },
        {
          "output_type": "stream",
          "text": [
            "WARNING:absl:Found untraced functions such as lstm_cell_3_layer_call_fn, lstm_cell_3_layer_call_and_return_conditional_losses, lstm_cell_1_layer_call_fn, lstm_cell_1_layer_call_and_return_conditional_losses, lstm_cell_2_layer_call_fn while saving (showing 5 of 15). These functions will not be directly callable after loading.\n",
            "WARNING:absl:Found untraced functions such as lstm_cell_3_layer_call_fn, lstm_cell_3_layer_call_and_return_conditional_losses, lstm_cell_1_layer_call_fn, lstm_cell_1_layer_call_and_return_conditional_losses, lstm_cell_2_layer_call_fn while saving (showing 5 of 15). These functions will not be directly callable after loading.\n"
          ],
          "name": "stderr"
        },
        {
          "output_type": "stream",
          "text": [
            "INFO:tensorflow:Assets written to: /content/drive/MyDrive/building1/26March5slots_200epochs_biDirLSTMDoubleDense/best_model.pkl/assets\n"
          ],
          "name": "stdout"
        },
        {
          "output_type": "stream",
          "text": [
            "INFO:tensorflow:Assets written to: /content/drive/MyDrive/building1/26March5slots_200epochs_biDirLSTMDoubleDense/best_model.pkl/assets\n"
          ],
          "name": "stderr"
        },
        {
          "output_type": "stream",
          "text": [
            "Epoch 8/200\n",
            "246/246 [==============================] - 42s 170ms/step - loss: 1.0451 - accuracy: 0.6199 - val_loss: 1.0884 - val_accuracy: 0.6084\n",
            "\n",
            "Epoch 00008: val_accuracy improved from 0.58893 to 0.60837, saving model to /content/drive/MyDrive/building1/26March5slots_200epochs_biDirLSTMDoubleDense/best_model.pkl\n"
          ],
          "name": "stdout"
        },
        {
          "output_type": "stream",
          "text": [
            "WARNING:absl:Found untraced functions such as lstm_cell_3_layer_call_fn, lstm_cell_3_layer_call_and_return_conditional_losses, lstm_cell_1_layer_call_fn, lstm_cell_1_layer_call_and_return_conditional_losses, lstm_cell_2_layer_call_fn while saving (showing 5 of 15). These functions will not be directly callable after loading.\n",
            "WARNING:absl:Found untraced functions such as lstm_cell_3_layer_call_fn, lstm_cell_3_layer_call_and_return_conditional_losses, lstm_cell_1_layer_call_fn, lstm_cell_1_layer_call_and_return_conditional_losses, lstm_cell_2_layer_call_fn while saving (showing 5 of 15). These functions will not be directly callable after loading.\n"
          ],
          "name": "stderr"
        },
        {
          "output_type": "stream",
          "text": [
            "INFO:tensorflow:Assets written to: /content/drive/MyDrive/building1/26March5slots_200epochs_biDirLSTMDoubleDense/best_model.pkl/assets\n"
          ],
          "name": "stdout"
        },
        {
          "output_type": "stream",
          "text": [
            "INFO:tensorflow:Assets written to: /content/drive/MyDrive/building1/26March5slots_200epochs_biDirLSTMDoubleDense/best_model.pkl/assets\n"
          ],
          "name": "stderr"
        },
        {
          "output_type": "stream",
          "text": [
            "Epoch 9/200\n",
            "246/246 [==============================] - 42s 170ms/step - loss: 0.9631 - accuracy: 0.6498 - val_loss: 1.0494 - val_accuracy: 0.6170\n",
            "\n",
            "Epoch 00009: val_accuracy improved from 0.60837 to 0.61697, saving model to /content/drive/MyDrive/building1/26March5slots_200epochs_biDirLSTMDoubleDense/best_model.pkl\n"
          ],
          "name": "stdout"
        },
        {
          "output_type": "stream",
          "text": [
            "WARNING:absl:Found untraced functions such as lstm_cell_3_layer_call_fn, lstm_cell_3_layer_call_and_return_conditional_losses, lstm_cell_1_layer_call_fn, lstm_cell_1_layer_call_and_return_conditional_losses, lstm_cell_2_layer_call_fn while saving (showing 5 of 15). These functions will not be directly callable after loading.\n",
            "WARNING:absl:Found untraced functions such as lstm_cell_3_layer_call_fn, lstm_cell_3_layer_call_and_return_conditional_losses, lstm_cell_1_layer_call_fn, lstm_cell_1_layer_call_and_return_conditional_losses, lstm_cell_2_layer_call_fn while saving (showing 5 of 15). These functions will not be directly callable after loading.\n"
          ],
          "name": "stderr"
        },
        {
          "output_type": "stream",
          "text": [
            "INFO:tensorflow:Assets written to: /content/drive/MyDrive/building1/26March5slots_200epochs_biDirLSTMDoubleDense/best_model.pkl/assets\n"
          ],
          "name": "stdout"
        },
        {
          "output_type": "stream",
          "text": [
            "INFO:tensorflow:Assets written to: /content/drive/MyDrive/building1/26March5slots_200epochs_biDirLSTMDoubleDense/best_model.pkl/assets\n"
          ],
          "name": "stderr"
        },
        {
          "output_type": "stream",
          "text": [
            "Epoch 10/200\n",
            "246/246 [==============================] - 41s 168ms/step - loss: 0.9194 - accuracy: 0.6684 - val_loss: 1.0655 - val_accuracy: 0.6063\n",
            "\n",
            "Epoch 00010: val_accuracy did not improve from 0.61697\n",
            "Epoch 11/200\n",
            "246/246 [==============================] - 41s 167ms/step - loss: 0.8986 - accuracy: 0.6705 - val_loss: 1.0110 - val_accuracy: 0.6244\n",
            "\n",
            "Epoch 00011: val_accuracy improved from 0.61697 to 0.62439, saving model to /content/drive/MyDrive/building1/26March5slots_200epochs_biDirLSTMDoubleDense/best_model.pkl\n"
          ],
          "name": "stdout"
        },
        {
          "output_type": "stream",
          "text": [
            "WARNING:absl:Found untraced functions such as lstm_cell_3_layer_call_fn, lstm_cell_3_layer_call_and_return_conditional_losses, lstm_cell_1_layer_call_fn, lstm_cell_1_layer_call_and_return_conditional_losses, lstm_cell_2_layer_call_fn while saving (showing 5 of 15). These functions will not be directly callable after loading.\n",
            "WARNING:absl:Found untraced functions such as lstm_cell_3_layer_call_fn, lstm_cell_3_layer_call_and_return_conditional_losses, lstm_cell_1_layer_call_fn, lstm_cell_1_layer_call_and_return_conditional_losses, lstm_cell_2_layer_call_fn while saving (showing 5 of 15). These functions will not be directly callable after loading.\n"
          ],
          "name": "stderr"
        },
        {
          "output_type": "stream",
          "text": [
            "INFO:tensorflow:Assets written to: /content/drive/MyDrive/building1/26March5slots_200epochs_biDirLSTMDoubleDense/best_model.pkl/assets\n"
          ],
          "name": "stdout"
        },
        {
          "output_type": "stream",
          "text": [
            "INFO:tensorflow:Assets written to: /content/drive/MyDrive/building1/26March5slots_200epochs_biDirLSTMDoubleDense/best_model.pkl/assets\n"
          ],
          "name": "stderr"
        },
        {
          "output_type": "stream",
          "text": [
            "Epoch 12/200\n",
            "246/246 [==============================] - 42s 169ms/step - loss: 0.8365 - accuracy: 0.6934 - val_loss: 0.9127 - val_accuracy: 0.6595\n",
            "\n",
            "Epoch 00012: val_accuracy improved from 0.62439 to 0.65955, saving model to /content/drive/MyDrive/building1/26March5slots_200epochs_biDirLSTMDoubleDense/best_model.pkl\n"
          ],
          "name": "stdout"
        },
        {
          "output_type": "stream",
          "text": [
            "WARNING:absl:Found untraced functions such as lstm_cell_3_layer_call_fn, lstm_cell_3_layer_call_and_return_conditional_losses, lstm_cell_1_layer_call_fn, lstm_cell_1_layer_call_and_return_conditional_losses, lstm_cell_2_layer_call_fn while saving (showing 5 of 15). These functions will not be directly callable after loading.\n",
            "WARNING:absl:Found untraced functions such as lstm_cell_3_layer_call_fn, lstm_cell_3_layer_call_and_return_conditional_losses, lstm_cell_1_layer_call_fn, lstm_cell_1_layer_call_and_return_conditional_losses, lstm_cell_2_layer_call_fn while saving (showing 5 of 15). These functions will not be directly callable after loading.\n"
          ],
          "name": "stderr"
        },
        {
          "output_type": "stream",
          "text": [
            "INFO:tensorflow:Assets written to: /content/drive/MyDrive/building1/26March5slots_200epochs_biDirLSTMDoubleDense/best_model.pkl/assets\n"
          ],
          "name": "stdout"
        },
        {
          "output_type": "stream",
          "text": [
            "INFO:tensorflow:Assets written to: /content/drive/MyDrive/building1/26March5slots_200epochs_biDirLSTMDoubleDense/best_model.pkl/assets\n"
          ],
          "name": "stderr"
        },
        {
          "output_type": "stream",
          "text": [
            "Epoch 13/200\n",
            "246/246 [==============================] - 42s 169ms/step - loss: 0.7869 - accuracy: 0.7111 - val_loss: 0.9517 - val_accuracy: 0.6471\n",
            "\n",
            "Epoch 00013: val_accuracy did not improve from 0.65955\n",
            "Epoch 14/200\n",
            "246/246 [==============================] - 41s 168ms/step - loss: 0.7579 - accuracy: 0.7197 - val_loss: 0.9497 - val_accuracy: 0.6538\n",
            "\n",
            "Epoch 00014: val_accuracy did not improve from 0.65955\n",
            "Epoch 15/200\n",
            "246/246 [==============================] - 42s 169ms/step - loss: 0.7494 - accuracy: 0.7300 - val_loss: 0.9192 - val_accuracy: 0.6704\n",
            "\n",
            "Epoch 00015: val_accuracy improved from 0.65955 to 0.67038, saving model to /content/drive/MyDrive/building1/26March5slots_200epochs_biDirLSTMDoubleDense/best_model.pkl\n"
          ],
          "name": "stdout"
        },
        {
          "output_type": "stream",
          "text": [
            "WARNING:absl:Found untraced functions such as lstm_cell_3_layer_call_fn, lstm_cell_3_layer_call_and_return_conditional_losses, lstm_cell_1_layer_call_fn, lstm_cell_1_layer_call_and_return_conditional_losses, lstm_cell_2_layer_call_fn while saving (showing 5 of 15). These functions will not be directly callable after loading.\n",
            "WARNING:absl:Found untraced functions such as lstm_cell_3_layer_call_fn, lstm_cell_3_layer_call_and_return_conditional_losses, lstm_cell_1_layer_call_fn, lstm_cell_1_layer_call_and_return_conditional_losses, lstm_cell_2_layer_call_fn while saving (showing 5 of 15). These functions will not be directly callable after loading.\n"
          ],
          "name": "stderr"
        },
        {
          "output_type": "stream",
          "text": [
            "INFO:tensorflow:Assets written to: /content/drive/MyDrive/building1/26March5slots_200epochs_biDirLSTMDoubleDense/best_model.pkl/assets\n"
          ],
          "name": "stdout"
        },
        {
          "output_type": "stream",
          "text": [
            "INFO:tensorflow:Assets written to: /content/drive/MyDrive/building1/26March5slots_200epochs_biDirLSTMDoubleDense/best_model.pkl/assets\n"
          ],
          "name": "stderr"
        },
        {
          "output_type": "stream",
          "text": [
            "Epoch 16/200\n",
            "246/246 [==============================] - 41s 167ms/step - loss: 0.6958 - accuracy: 0.7449 - val_loss: 0.9572 - val_accuracy: 0.6613\n",
            "\n",
            "Epoch 00016: val_accuracy did not improve from 0.67038\n",
            "Epoch 17/200\n",
            "246/246 [==============================] - 41s 169ms/step - loss: 0.6857 - accuracy: 0.7478 - val_loss: 0.8553 - val_accuracy: 0.6950\n",
            "\n",
            "Epoch 00017: val_accuracy improved from 0.67038 to 0.69500, saving model to /content/drive/MyDrive/building1/26March5slots_200epochs_biDirLSTMDoubleDense/best_model.pkl\n"
          ],
          "name": "stdout"
        },
        {
          "output_type": "stream",
          "text": [
            "WARNING:absl:Found untraced functions such as lstm_cell_3_layer_call_fn, lstm_cell_3_layer_call_and_return_conditional_losses, lstm_cell_1_layer_call_fn, lstm_cell_1_layer_call_and_return_conditional_losses, lstm_cell_2_layer_call_fn while saving (showing 5 of 15). These functions will not be directly callable after loading.\n",
            "WARNING:absl:Found untraced functions such as lstm_cell_3_layer_call_fn, lstm_cell_3_layer_call_and_return_conditional_losses, lstm_cell_1_layer_call_fn, lstm_cell_1_layer_call_and_return_conditional_losses, lstm_cell_2_layer_call_fn while saving (showing 5 of 15). These functions will not be directly callable after loading.\n"
          ],
          "name": "stderr"
        },
        {
          "output_type": "stream",
          "text": [
            "INFO:tensorflow:Assets written to: /content/drive/MyDrive/building1/26March5slots_200epochs_biDirLSTMDoubleDense/best_model.pkl/assets\n"
          ],
          "name": "stdout"
        },
        {
          "output_type": "stream",
          "text": [
            "INFO:tensorflow:Assets written to: /content/drive/MyDrive/building1/26March5slots_200epochs_biDirLSTMDoubleDense/best_model.pkl/assets\n"
          ],
          "name": "stderr"
        },
        {
          "output_type": "stream",
          "text": [
            "Epoch 18/200\n",
            "246/246 [==============================] - 41s 168ms/step - loss: 0.6151 - accuracy: 0.7739 - val_loss: 0.9692 - val_accuracy: 0.6622\n",
            "\n",
            "Epoch 00018: val_accuracy did not improve from 0.69500\n",
            "Epoch 19/200\n",
            "246/246 [==============================] - 41s 169ms/step - loss: 0.6173 - accuracy: 0.7770 - val_loss: 0.8587 - val_accuracy: 0.6943\n",
            "\n",
            "Epoch 00019: val_accuracy did not improve from 0.69500\n",
            "Epoch 20/200\n",
            "246/246 [==============================] - 42s 170ms/step - loss: 0.5613 - accuracy: 0.7960 - val_loss: 0.8143 - val_accuracy: 0.7085\n",
            "\n",
            "Epoch 00020: val_accuracy improved from 0.69500 to 0.70850, saving model to /content/drive/MyDrive/building1/26March5slots_200epochs_biDirLSTMDoubleDense/best_model.pkl\n"
          ],
          "name": "stdout"
        },
        {
          "output_type": "stream",
          "text": [
            "WARNING:absl:Found untraced functions such as lstm_cell_3_layer_call_fn, lstm_cell_3_layer_call_and_return_conditional_losses, lstm_cell_1_layer_call_fn, lstm_cell_1_layer_call_and_return_conditional_losses, lstm_cell_2_layer_call_fn while saving (showing 5 of 15). These functions will not be directly callable after loading.\n",
            "WARNING:absl:Found untraced functions such as lstm_cell_3_layer_call_fn, lstm_cell_3_layer_call_and_return_conditional_losses, lstm_cell_1_layer_call_fn, lstm_cell_1_layer_call_and_return_conditional_losses, lstm_cell_2_layer_call_fn while saving (showing 5 of 15). These functions will not be directly callable after loading.\n"
          ],
          "name": "stderr"
        },
        {
          "output_type": "stream",
          "text": [
            "INFO:tensorflow:Assets written to: /content/drive/MyDrive/building1/26March5slots_200epochs_biDirLSTMDoubleDense/best_model.pkl/assets\n"
          ],
          "name": "stdout"
        },
        {
          "output_type": "stream",
          "text": [
            "INFO:tensorflow:Assets written to: /content/drive/MyDrive/building1/26March5slots_200epochs_biDirLSTMDoubleDense/best_model.pkl/assets\n"
          ],
          "name": "stderr"
        },
        {
          "output_type": "stream",
          "text": [
            "Epoch 21/200\n",
            "246/246 [==============================] - 42s 169ms/step - loss: 0.5429 - accuracy: 0.8022 - val_loss: 0.8704 - val_accuracy: 0.6900\n",
            "\n",
            "Epoch 00021: val_accuracy did not improve from 0.70850\n",
            "Epoch 22/200\n",
            "246/246 [==============================] - 41s 168ms/step - loss: 0.5325 - accuracy: 0.8044 - val_loss: 0.8515 - val_accuracy: 0.7079\n",
            "\n",
            "Epoch 00022: val_accuracy did not improve from 0.70850\n",
            "Epoch 23/200\n",
            "246/246 [==============================] - 41s 168ms/step - loss: 0.4935 - accuracy: 0.8153 - val_loss: 0.8898 - val_accuracy: 0.6885\n",
            "\n",
            "Epoch 00023: val_accuracy did not improve from 0.70850\n",
            "Epoch 24/200\n",
            "246/246 [==============================] - 41s 168ms/step - loss: 0.5425 - accuracy: 0.8010 - val_loss: 0.8151 - val_accuracy: 0.7098\n",
            "\n",
            "Epoch 00024: val_accuracy improved from 0.70850 to 0.70984, saving model to /content/drive/MyDrive/building1/26March5slots_200epochs_biDirLSTMDoubleDense/best_model.pkl\n"
          ],
          "name": "stdout"
        },
        {
          "output_type": "stream",
          "text": [
            "WARNING:absl:Found untraced functions such as lstm_cell_3_layer_call_fn, lstm_cell_3_layer_call_and_return_conditional_losses, lstm_cell_1_layer_call_fn, lstm_cell_1_layer_call_and_return_conditional_losses, lstm_cell_2_layer_call_fn while saving (showing 5 of 15). These functions will not be directly callable after loading.\n",
            "WARNING:absl:Found untraced functions such as lstm_cell_3_layer_call_fn, lstm_cell_3_layer_call_and_return_conditional_losses, lstm_cell_1_layer_call_fn, lstm_cell_1_layer_call_and_return_conditional_losses, lstm_cell_2_layer_call_fn while saving (showing 5 of 15). These functions will not be directly callable after loading.\n"
          ],
          "name": "stderr"
        },
        {
          "output_type": "stream",
          "text": [
            "INFO:tensorflow:Assets written to: /content/drive/MyDrive/building1/26March5slots_200epochs_biDirLSTMDoubleDense/best_model.pkl/assets\n"
          ],
          "name": "stdout"
        },
        {
          "output_type": "stream",
          "text": [
            "INFO:tensorflow:Assets written to: /content/drive/MyDrive/building1/26March5slots_200epochs_biDirLSTMDoubleDense/best_model.pkl/assets\n"
          ],
          "name": "stderr"
        },
        {
          "output_type": "stream",
          "text": [
            "Epoch 25/200\n",
            "246/246 [==============================] - 42s 169ms/step - loss: 0.4753 - accuracy: 0.8256 - val_loss: 0.8607 - val_accuracy: 0.7026\n",
            "\n",
            "Epoch 00025: val_accuracy did not improve from 0.70984\n",
            "Epoch 26/200\n",
            "246/246 [==============================] - 42s 169ms/step - loss: 0.4476 - accuracy: 0.8368 - val_loss: 0.7620 - val_accuracy: 0.7371\n",
            "\n",
            "Epoch 00026: val_accuracy improved from 0.70984 to 0.73713, saving model to /content/drive/MyDrive/building1/26March5slots_200epochs_biDirLSTMDoubleDense/best_model.pkl\n"
          ],
          "name": "stdout"
        },
        {
          "output_type": "stream",
          "text": [
            "WARNING:absl:Found untraced functions such as lstm_cell_3_layer_call_fn, lstm_cell_3_layer_call_and_return_conditional_losses, lstm_cell_1_layer_call_fn, lstm_cell_1_layer_call_and_return_conditional_losses, lstm_cell_2_layer_call_fn while saving (showing 5 of 15). These functions will not be directly callable after loading.\n",
            "WARNING:absl:Found untraced functions such as lstm_cell_3_layer_call_fn, lstm_cell_3_layer_call_and_return_conditional_losses, lstm_cell_1_layer_call_fn, lstm_cell_1_layer_call_and_return_conditional_losses, lstm_cell_2_layer_call_fn while saving (showing 5 of 15). These functions will not be directly callable after loading.\n"
          ],
          "name": "stderr"
        },
        {
          "output_type": "stream",
          "text": [
            "INFO:tensorflow:Assets written to: /content/drive/MyDrive/building1/26March5slots_200epochs_biDirLSTMDoubleDense/best_model.pkl/assets\n"
          ],
          "name": "stdout"
        },
        {
          "output_type": "stream",
          "text": [
            "INFO:tensorflow:Assets written to: /content/drive/MyDrive/building1/26March5slots_200epochs_biDirLSTMDoubleDense/best_model.pkl/assets\n"
          ],
          "name": "stderr"
        },
        {
          "output_type": "stream",
          "text": [
            "Epoch 27/200\n",
            "246/246 [==============================] - 41s 168ms/step - loss: 0.4129 - accuracy: 0.8504 - val_loss: 0.8773 - val_accuracy: 0.7067\n",
            "\n",
            "Epoch 00027: val_accuracy did not improve from 0.73713\n",
            "Epoch 28/200\n",
            "246/246 [==============================] - 41s 168ms/step - loss: 0.4580 - accuracy: 0.8318 - val_loss: 0.7846 - val_accuracy: 0.7308\n",
            "\n",
            "Epoch 00028: val_accuracy did not improve from 0.73713\n",
            "Epoch 29/200\n",
            "246/246 [==============================] - 42s 169ms/step - loss: 0.3867 - accuracy: 0.8606 - val_loss: 0.7843 - val_accuracy: 0.7310\n",
            "\n",
            "Epoch 00029: val_accuracy did not improve from 0.73713\n",
            "Epoch 30/200\n",
            "246/246 [==============================] - 41s 168ms/step - loss: 0.3564 - accuracy: 0.8671 - val_loss: 1.0233 - val_accuracy: 0.6781\n",
            "\n",
            "Epoch 00030: val_accuracy did not improve from 0.73713\n",
            "Epoch 31/200\n",
            "246/246 [==============================] - 41s 167ms/step - loss: 0.3822 - accuracy: 0.8613 - val_loss: 0.8483 - val_accuracy: 0.7290\n",
            "\n",
            "Epoch 00031: val_accuracy did not improve from 0.73713\n",
            "Epoch 32/200\n",
            "246/246 [==============================] - 41s 168ms/step - loss: 0.3633 - accuracy: 0.8662 - val_loss: 0.7850 - val_accuracy: 0.7414\n",
            "\n",
            "Epoch 00032: val_accuracy improved from 0.73713 to 0.74143, saving model to /content/drive/MyDrive/building1/26March5slots_200epochs_biDirLSTMDoubleDense/best_model.pkl\n"
          ],
          "name": "stdout"
        },
        {
          "output_type": "stream",
          "text": [
            "WARNING:absl:Found untraced functions such as lstm_cell_3_layer_call_fn, lstm_cell_3_layer_call_and_return_conditional_losses, lstm_cell_1_layer_call_fn, lstm_cell_1_layer_call_and_return_conditional_losses, lstm_cell_2_layer_call_fn while saving (showing 5 of 15). These functions will not be directly callable after loading.\n",
            "WARNING:absl:Found untraced functions such as lstm_cell_3_layer_call_fn, lstm_cell_3_layer_call_and_return_conditional_losses, lstm_cell_1_layer_call_fn, lstm_cell_1_layer_call_and_return_conditional_losses, lstm_cell_2_layer_call_fn while saving (showing 5 of 15). These functions will not be directly callable after loading.\n"
          ],
          "name": "stderr"
        },
        {
          "output_type": "stream",
          "text": [
            "INFO:tensorflow:Assets written to: /content/drive/MyDrive/building1/26March5slots_200epochs_biDirLSTMDoubleDense/best_model.pkl/assets\n"
          ],
          "name": "stdout"
        },
        {
          "output_type": "stream",
          "text": [
            "INFO:tensorflow:Assets written to: /content/drive/MyDrive/building1/26March5slots_200epochs_biDirLSTMDoubleDense/best_model.pkl/assets\n"
          ],
          "name": "stderr"
        },
        {
          "output_type": "stream",
          "text": [
            "Epoch 33/200\n",
            "246/246 [==============================] - 42s 169ms/step - loss: 0.3301 - accuracy: 0.8788 - val_loss: 0.9011 - val_accuracy: 0.7106\n",
            "\n",
            "Epoch 00033: val_accuracy did not improve from 0.74143\n",
            "Epoch 34/200\n",
            "246/246 [==============================] - 41s 168ms/step - loss: 0.4302 - accuracy: 0.8408 - val_loss: 0.8137 - val_accuracy: 0.7367\n",
            "\n",
            "Epoch 00034: val_accuracy did not improve from 0.74143\n",
            "Epoch 35/200\n",
            "246/246 [==============================] - 41s 168ms/step - loss: 0.2985 - accuracy: 0.8917 - val_loss: 0.8720 - val_accuracy: 0.7256\n",
            "\n",
            "Epoch 00035: val_accuracy did not improve from 0.74143\n",
            "Epoch 36/200\n",
            "246/246 [==============================] - 41s 169ms/step - loss: 0.3756 - accuracy: 0.8628 - val_loss: 0.7849 - val_accuracy: 0.7437\n",
            "\n",
            "Epoch 00036: val_accuracy improved from 0.74143 to 0.74366, saving model to /content/drive/MyDrive/building1/26March5slots_200epochs_biDirLSTMDoubleDense/best_model.pkl\n"
          ],
          "name": "stdout"
        },
        {
          "output_type": "stream",
          "text": [
            "WARNING:absl:Found untraced functions such as lstm_cell_3_layer_call_fn, lstm_cell_3_layer_call_and_return_conditional_losses, lstm_cell_1_layer_call_fn, lstm_cell_1_layer_call_and_return_conditional_losses, lstm_cell_2_layer_call_fn while saving (showing 5 of 15). These functions will not be directly callable after loading.\n",
            "WARNING:absl:Found untraced functions such as lstm_cell_3_layer_call_fn, lstm_cell_3_layer_call_and_return_conditional_losses, lstm_cell_1_layer_call_fn, lstm_cell_1_layer_call_and_return_conditional_losses, lstm_cell_2_layer_call_fn while saving (showing 5 of 15). These functions will not be directly callable after loading.\n"
          ],
          "name": "stderr"
        },
        {
          "output_type": "stream",
          "text": [
            "INFO:tensorflow:Assets written to: /content/drive/MyDrive/building1/26March5slots_200epochs_biDirLSTMDoubleDense/best_model.pkl/assets\n"
          ],
          "name": "stdout"
        },
        {
          "output_type": "stream",
          "text": [
            "INFO:tensorflow:Assets written to: /content/drive/MyDrive/building1/26March5slots_200epochs_biDirLSTMDoubleDense/best_model.pkl/assets\n"
          ],
          "name": "stderr"
        },
        {
          "output_type": "stream",
          "text": [
            "Epoch 37/200\n",
            "246/246 [==============================] - 42s 170ms/step - loss: 0.2682 - accuracy: 0.9024 - val_loss: 0.7730 - val_accuracy: 0.7530\n",
            "\n",
            "Epoch 00037: val_accuracy improved from 0.74366 to 0.75300, saving model to /content/drive/MyDrive/building1/26March5slots_200epochs_biDirLSTMDoubleDense/best_model.pkl\n"
          ],
          "name": "stdout"
        },
        {
          "output_type": "stream",
          "text": [
            "WARNING:absl:Found untraced functions such as lstm_cell_3_layer_call_fn, lstm_cell_3_layer_call_and_return_conditional_losses, lstm_cell_1_layer_call_fn, lstm_cell_1_layer_call_and_return_conditional_losses, lstm_cell_2_layer_call_fn while saving (showing 5 of 15). These functions will not be directly callable after loading.\n",
            "WARNING:absl:Found untraced functions such as lstm_cell_3_layer_call_fn, lstm_cell_3_layer_call_and_return_conditional_losses, lstm_cell_1_layer_call_fn, lstm_cell_1_layer_call_and_return_conditional_losses, lstm_cell_2_layer_call_fn while saving (showing 5 of 15). These functions will not be directly callable after loading.\n"
          ],
          "name": "stderr"
        },
        {
          "output_type": "stream",
          "text": [
            "INFO:tensorflow:Assets written to: /content/drive/MyDrive/building1/26March5slots_200epochs_biDirLSTMDoubleDense/best_model.pkl/assets\n"
          ],
          "name": "stdout"
        },
        {
          "output_type": "stream",
          "text": [
            "INFO:tensorflow:Assets written to: /content/drive/MyDrive/building1/26March5slots_200epochs_biDirLSTMDoubleDense/best_model.pkl/assets\n"
          ],
          "name": "stderr"
        },
        {
          "output_type": "stream",
          "text": [
            "Epoch 38/200\n",
            "246/246 [==============================] - 42s 169ms/step - loss: 0.2582 - accuracy: 0.9068 - val_loss: 0.8357 - val_accuracy: 0.7370\n",
            "\n",
            "Epoch 00038: val_accuracy did not improve from 0.75300\n",
            "Epoch 39/200\n",
            "246/246 [==============================] - 41s 167ms/step - loss: 0.3276 - accuracy: 0.8847 - val_loss: 0.8202 - val_accuracy: 0.7440\n",
            "\n",
            "Epoch 00039: val_accuracy did not improve from 0.75300\n",
            "Epoch 40/200\n",
            "246/246 [==============================] - 41s 168ms/step - loss: 0.2668 - accuracy: 0.9038 - val_loss: 0.8629 - val_accuracy: 0.7334\n",
            "\n",
            "Epoch 00040: val_accuracy did not improve from 0.75300\n",
            "Epoch 41/200\n",
            "246/246 [==============================] - 42s 169ms/step - loss: 0.2443 - accuracy: 0.9114 - val_loss: 1.0422 - val_accuracy: 0.6977\n",
            "\n",
            "Epoch 00041: val_accuracy did not improve from 0.75300\n",
            "Epoch 42/200\n",
            "246/246 [==============================] - 42s 169ms/step - loss: 0.4458 - accuracy: 0.8565 - val_loss: 0.8684 - val_accuracy: 0.7386\n",
            "\n",
            "Epoch 00042: val_accuracy did not improve from 0.75300\n",
            "Epoch 43/200\n",
            "246/246 [==============================] - 42s 170ms/step - loss: 0.2269 - accuracy: 0.9168 - val_loss: 0.7963 - val_accuracy: 0.7600\n",
            "\n",
            "Epoch 00043: val_accuracy improved from 0.75300 to 0.75998, saving model to /content/drive/MyDrive/building1/26March5slots_200epochs_biDirLSTMDoubleDense/best_model.pkl\n"
          ],
          "name": "stdout"
        },
        {
          "output_type": "stream",
          "text": [
            "WARNING:absl:Found untraced functions such as lstm_cell_3_layer_call_fn, lstm_cell_3_layer_call_and_return_conditional_losses, lstm_cell_1_layer_call_fn, lstm_cell_1_layer_call_and_return_conditional_losses, lstm_cell_2_layer_call_fn while saving (showing 5 of 15). These functions will not be directly callable after loading.\n",
            "WARNING:absl:Found untraced functions such as lstm_cell_3_layer_call_fn, lstm_cell_3_layer_call_and_return_conditional_losses, lstm_cell_1_layer_call_fn, lstm_cell_1_layer_call_and_return_conditional_losses, lstm_cell_2_layer_call_fn while saving (showing 5 of 15). These functions will not be directly callable after loading.\n"
          ],
          "name": "stderr"
        },
        {
          "output_type": "stream",
          "text": [
            "INFO:tensorflow:Assets written to: /content/drive/MyDrive/building1/26March5slots_200epochs_biDirLSTMDoubleDense/best_model.pkl/assets\n"
          ],
          "name": "stdout"
        },
        {
          "output_type": "stream",
          "text": [
            "INFO:tensorflow:Assets written to: /content/drive/MyDrive/building1/26March5slots_200epochs_biDirLSTMDoubleDense/best_model.pkl/assets\n"
          ],
          "name": "stderr"
        },
        {
          "output_type": "stream",
          "text": [
            "Epoch 44/200\n",
            "246/246 [==============================] - 42s 169ms/step - loss: 0.2150 - accuracy: 0.9243 - val_loss: 0.8426 - val_accuracy: 0.7444\n",
            "\n",
            "Epoch 00044: val_accuracy did not improve from 0.75998\n",
            "Epoch 45/200\n",
            "246/246 [==============================] - 42s 169ms/step - loss: 0.2117 - accuracy: 0.9258 - val_loss: 1.0130 - val_accuracy: 0.7162\n",
            "\n",
            "Epoch 00045: val_accuracy did not improve from 0.75998\n",
            "Epoch 46/200\n",
            "246/246 [==============================] - 42s 171ms/step - loss: 0.3037 - accuracy: 0.8932 - val_loss: 0.8860 - val_accuracy: 0.7401\n",
            "\n",
            "Epoch 00046: val_accuracy did not improve from 0.75998\n",
            "Epoch 47/200\n",
            "246/246 [==============================] - 42s 170ms/step - loss: 0.2157 - accuracy: 0.9239 - val_loss: 0.9261 - val_accuracy: 0.7334\n",
            "\n",
            "Epoch 00047: val_accuracy did not improve from 0.75998\n",
            "Epoch 48/200\n",
            "246/246 [==============================] - 42s 171ms/step - loss: 0.2334 - accuracy: 0.9185 - val_loss: 0.9046 - val_accuracy: 0.7463\n",
            "\n",
            "Epoch 00048: val_accuracy did not improve from 0.75998\n",
            "Epoch 49/200\n",
            "246/246 [==============================] - 42s 171ms/step - loss: 0.1930 - accuracy: 0.9302 - val_loss: 0.9561 - val_accuracy: 0.7352\n",
            "\n",
            "Epoch 00049: val_accuracy did not improve from 0.75998\n",
            "Epoch 50/200\n",
            "246/246 [==============================] - 42s 172ms/step - loss: 0.2055 - accuracy: 0.9246 - val_loss: 0.9216 - val_accuracy: 0.7434\n",
            "\n",
            "Epoch 00050: val_accuracy did not improve from 0.75998\n",
            "Epoch 51/200\n",
            "246/246 [==============================] - 42s 171ms/step - loss: 0.1738 - accuracy: 0.9382 - val_loss: 0.9372 - val_accuracy: 0.7278\n",
            "\n",
            "Epoch 00051: val_accuracy did not improve from 0.75998\n",
            "Epoch 52/200\n",
            "246/246 [==============================] - 42s 170ms/step - loss: 0.1986 - accuracy: 0.9297 - val_loss: 0.9561 - val_accuracy: 0.7432\n",
            "\n",
            "Epoch 00052: val_accuracy did not improve from 0.75998\n",
            "Epoch 53/200\n",
            "246/246 [==============================] - 42s 170ms/step - loss: 0.2435 - accuracy: 0.9150 - val_loss: 0.9020 - val_accuracy: 0.7480\n",
            "\n",
            "Epoch 00053: val_accuracy did not improve from 0.75998\n",
            "Epoch 54/200\n",
            "246/246 [==============================] - 42s 170ms/step - loss: 0.2203 - accuracy: 0.9249 - val_loss: 0.9117 - val_accuracy: 0.7466\n",
            "\n",
            "Epoch 00054: val_accuracy did not improve from 0.75998\n",
            "Epoch 55/200\n",
            "246/246 [==============================] - 41s 169ms/step - loss: 0.1518 - accuracy: 0.9459 - val_loss: 0.9398 - val_accuracy: 0.7521\n",
            "\n",
            "Epoch 00055: val_accuracy did not improve from 0.75998\n",
            "Epoch 56/200\n",
            "246/246 [==============================] - 41s 167ms/step - loss: 0.1369 - accuracy: 0.9524 - val_loss: 0.9803 - val_accuracy: 0.7394\n",
            "\n",
            "Epoch 00056: val_accuracy did not improve from 0.75998\n",
            "Epoch 57/200\n",
            "246/246 [==============================] - 41s 167ms/step - loss: 0.1558 - accuracy: 0.9446 - val_loss: 0.9795 - val_accuracy: 0.7361\n",
            "\n",
            "Epoch 00057: val_accuracy did not improve from 0.75998\n",
            "Epoch 58/200\n",
            "246/246 [==============================] - 41s 169ms/step - loss: 0.1792 - accuracy: 0.9366 - val_loss: 0.9177 - val_accuracy: 0.7582\n",
            "\n",
            "Epoch 00058: val_accuracy did not improve from 0.75998\n",
            "Epoch 59/200\n",
            "246/246 [==============================] - 41s 167ms/step - loss: 0.1340 - accuracy: 0.9528 - val_loss: 0.9599 - val_accuracy: 0.7502\n",
            "\n",
            "Epoch 00059: val_accuracy did not improve from 0.75998\n",
            "Epoch 60/200\n",
            "246/246 [==============================] - 41s 168ms/step - loss: 0.2714 - accuracy: 0.9170 - val_loss: 0.9545 - val_accuracy: 0.7465\n",
            "\n",
            "Epoch 00060: val_accuracy did not improve from 0.75998\n",
            "Epoch 61/200\n",
            "246/246 [==============================] - 41s 168ms/step - loss: 0.1442 - accuracy: 0.9499 - val_loss: 1.0030 - val_accuracy: 0.7345\n",
            "\n",
            "Epoch 00061: val_accuracy did not improve from 0.75998\n",
            "Epoch 62/200\n",
            "246/246 [==============================] - 41s 169ms/step - loss: 0.1487 - accuracy: 0.9474 - val_loss: 0.9384 - val_accuracy: 0.7570\n",
            "\n",
            "Epoch 00062: val_accuracy did not improve from 0.75998\n",
            "Epoch 63/200\n",
            "246/246 [==============================] - 41s 168ms/step - loss: 0.1590 - accuracy: 0.9453 - val_loss: 0.9115 - val_accuracy: 0.7655\n",
            "\n",
            "Epoch 00063: val_accuracy improved from 0.75998 to 0.76547, saving model to /content/drive/MyDrive/building1/26March5slots_200epochs_biDirLSTMDoubleDense/best_model.pkl\n"
          ],
          "name": "stdout"
        },
        {
          "output_type": "stream",
          "text": [
            "WARNING:absl:Found untraced functions such as lstm_cell_3_layer_call_fn, lstm_cell_3_layer_call_and_return_conditional_losses, lstm_cell_1_layer_call_fn, lstm_cell_1_layer_call_and_return_conditional_losses, lstm_cell_2_layer_call_fn while saving (showing 5 of 15). These functions will not be directly callable after loading.\n",
            "WARNING:absl:Found untraced functions such as lstm_cell_3_layer_call_fn, lstm_cell_3_layer_call_and_return_conditional_losses, lstm_cell_1_layer_call_fn, lstm_cell_1_layer_call_and_return_conditional_losses, lstm_cell_2_layer_call_fn while saving (showing 5 of 15). These functions will not be directly callable after loading.\n"
          ],
          "name": "stderr"
        },
        {
          "output_type": "stream",
          "text": [
            "INFO:tensorflow:Assets written to: /content/drive/MyDrive/building1/26March5slots_200epochs_biDirLSTMDoubleDense/best_model.pkl/assets\n"
          ],
          "name": "stdout"
        },
        {
          "output_type": "stream",
          "text": [
            "INFO:tensorflow:Assets written to: /content/drive/MyDrive/building1/26March5slots_200epochs_biDirLSTMDoubleDense/best_model.pkl/assets\n"
          ],
          "name": "stderr"
        },
        {
          "output_type": "stream",
          "text": [
            "Epoch 64/200\n",
            "246/246 [==============================] - 41s 168ms/step - loss: 0.1272 - accuracy: 0.9549 - val_loss: 0.9640 - val_accuracy: 0.7518\n",
            "\n",
            "Epoch 00064: val_accuracy did not improve from 0.76547\n",
            "Epoch 65/200\n",
            "246/246 [==============================] - 41s 167ms/step - loss: 0.1120 - accuracy: 0.9615 - val_loss: 1.0163 - val_accuracy: 0.7515\n",
            "\n",
            "Epoch 00065: val_accuracy did not improve from 0.76547\n",
            "Epoch 66/200\n",
            "246/246 [==============================] - 41s 167ms/step - loss: 0.1705 - accuracy: 0.9402 - val_loss: 1.1058 - val_accuracy: 0.7270\n",
            "\n",
            "Epoch 00066: val_accuracy did not improve from 0.76547\n",
            "Epoch 67/200\n",
            "246/246 [==============================] - 41s 167ms/step - loss: 0.1858 - accuracy: 0.9377 - val_loss: 0.9579 - val_accuracy: 0.7548\n",
            "\n",
            "Epoch 00067: val_accuracy did not improve from 0.76547\n",
            "Epoch 68/200\n",
            "246/246 [==============================] - 41s 168ms/step - loss: 0.1167 - accuracy: 0.9595 - val_loss: 0.9796 - val_accuracy: 0.7532\n",
            "\n",
            "Epoch 00068: val_accuracy did not improve from 0.76547\n",
            "Epoch 69/200\n",
            "246/246 [==============================] - 41s 168ms/step - loss: 0.1155 - accuracy: 0.9605 - val_loss: 1.0316 - val_accuracy: 0.7484\n",
            "\n",
            "Epoch 00069: val_accuracy did not improve from 0.76547\n",
            "Epoch 70/200\n",
            "246/246 [==============================] - 41s 167ms/step - loss: 0.1238 - accuracy: 0.9555 - val_loss: 1.0164 - val_accuracy: 0.7529\n",
            "\n",
            "Epoch 00070: val_accuracy did not improve from 0.76547\n",
            "Epoch 71/200\n",
            "246/246 [==============================] - 41s 167ms/step - loss: 0.1734 - accuracy: 0.9394 - val_loss: 1.0146 - val_accuracy: 0.7453\n",
            "\n",
            "Epoch 00071: val_accuracy did not improve from 0.76547\n",
            "Epoch 72/200\n",
            "246/246 [==============================] - 41s 167ms/step - loss: 0.1170 - accuracy: 0.9580 - val_loss: 0.9985 - val_accuracy: 0.7586\n",
            "\n",
            "Epoch 00072: val_accuracy did not improve from 0.76547\n",
            "Epoch 73/200\n",
            "246/246 [==============================] - 41s 168ms/step - loss: 0.1080 - accuracy: 0.9627 - val_loss: 1.0706 - val_accuracy: 0.7447\n",
            "\n",
            "Epoch 00073: val_accuracy did not improve from 0.76547\n",
            "Epoch 74/200\n",
            "246/246 [==============================] - 41s 167ms/step - loss: 0.1926 - accuracy: 0.9383 - val_loss: 1.0120 - val_accuracy: 0.7563\n",
            "\n",
            "Epoch 00074: val_accuracy did not improve from 0.76547\n",
            "Epoch 75/200\n",
            "246/246 [==============================] - 41s 167ms/step - loss: 0.0962 - accuracy: 0.9647 - val_loss: 1.0773 - val_accuracy: 0.7463\n",
            "\n",
            "Epoch 00075: val_accuracy did not improve from 0.76547\n",
            "Epoch 76/200\n",
            "246/246 [==============================] - 41s 167ms/step - loss: 0.1605 - accuracy: 0.9477 - val_loss: 0.9918 - val_accuracy: 0.7586\n",
            "\n",
            "Epoch 00076: val_accuracy did not improve from 0.76547\n",
            "Epoch 77/200\n",
            "246/246 [==============================] - 41s 168ms/step - loss: 0.1215 - accuracy: 0.9583 - val_loss: 1.0246 - val_accuracy: 0.7606\n",
            "\n",
            "Epoch 00077: val_accuracy did not improve from 0.76547\n",
            "Epoch 78/200\n",
            "246/246 [==============================] - 41s 168ms/step - loss: 0.0816 - accuracy: 0.9718 - val_loss: 1.1712 - val_accuracy: 0.7331\n",
            "\n",
            "Epoch 00078: val_accuracy did not improve from 0.76547\n",
            "Epoch 79/200\n",
            "246/246 [==============================] - 41s 167ms/step - loss: 0.1493 - accuracy: 0.9476 - val_loss: 1.1169 - val_accuracy: 0.7392\n",
            "\n",
            "Epoch 00079: val_accuracy did not improve from 0.76547\n",
            "Epoch 80/200\n",
            "246/246 [==============================] - 41s 167ms/step - loss: 0.1334 - accuracy: 0.9524 - val_loss: 1.1726 - val_accuracy: 0.7276\n",
            "\n",
            "Epoch 00080: val_accuracy did not improve from 0.76547\n",
            "Epoch 81/200\n",
            "246/246 [==============================] - 41s 167ms/step - loss: 0.1297 - accuracy: 0.9555 - val_loss: 1.0823 - val_accuracy: 0.7554\n",
            "\n",
            "Epoch 00081: val_accuracy did not improve from 0.76547\n",
            "Epoch 82/200\n",
            "246/246 [==============================] - 41s 167ms/step - loss: 0.0997 - accuracy: 0.9660 - val_loss: 1.0935 - val_accuracy: 0.7489\n",
            "\n",
            "Epoch 00082: val_accuracy did not improve from 0.76547\n",
            "Epoch 83/200\n",
            "246/246 [==============================] - 41s 167ms/step - loss: 0.0939 - accuracy: 0.9671 - val_loss: 1.1838 - val_accuracy: 0.7290\n",
            "\n",
            "Epoch 00083: val_accuracy did not improve from 0.76547\n",
            "Epoch 84/200\n",
            "246/246 [==============================] - 42s 169ms/step - loss: 0.1124 - accuracy: 0.9611 - val_loss: 1.0863 - val_accuracy: 0.7546\n",
            "\n",
            "Epoch 00084: val_accuracy did not improve from 0.76547\n",
            "Epoch 85/200\n",
            "246/246 [==============================] - 41s 167ms/step - loss: 0.1183 - accuracy: 0.9590 - val_loss: 1.4478 - val_accuracy: 0.6686\n",
            "\n",
            "Epoch 00085: val_accuracy did not improve from 0.76547\n",
            "Epoch 86/200\n",
            "246/246 [==============================] - 41s 166ms/step - loss: 0.2624 - accuracy: 0.9134 - val_loss: 1.0177 - val_accuracy: 0.7669\n",
            "\n",
            "Epoch 00086: val_accuracy improved from 0.76547 to 0.76695, saving model to /content/drive/MyDrive/building1/26March5slots_200epochs_biDirLSTMDoubleDense/best_model.pkl\n"
          ],
          "name": "stdout"
        },
        {
          "output_type": "stream",
          "text": [
            "WARNING:absl:Found untraced functions such as lstm_cell_3_layer_call_fn, lstm_cell_3_layer_call_and_return_conditional_losses, lstm_cell_1_layer_call_fn, lstm_cell_1_layer_call_and_return_conditional_losses, lstm_cell_2_layer_call_fn while saving (showing 5 of 15). These functions will not be directly callable after loading.\n",
            "WARNING:absl:Found untraced functions such as lstm_cell_3_layer_call_fn, lstm_cell_3_layer_call_and_return_conditional_losses, lstm_cell_1_layer_call_fn, lstm_cell_1_layer_call_and_return_conditional_losses, lstm_cell_2_layer_call_fn while saving (showing 5 of 15). These functions will not be directly callable after loading.\n"
          ],
          "name": "stderr"
        },
        {
          "output_type": "stream",
          "text": [
            "INFO:tensorflow:Assets written to: /content/drive/MyDrive/building1/26March5slots_200epochs_biDirLSTMDoubleDense/best_model.pkl/assets\n"
          ],
          "name": "stdout"
        },
        {
          "output_type": "stream",
          "text": [
            "INFO:tensorflow:Assets written to: /content/drive/MyDrive/building1/26March5slots_200epochs_biDirLSTMDoubleDense/best_model.pkl/assets\n"
          ],
          "name": "stderr"
        },
        {
          "output_type": "stream",
          "text": [
            "Epoch 87/200\n",
            "246/246 [==============================] - 41s 168ms/step - loss: 0.0412 - accuracy: 0.9884 - val_loss: 1.0224 - val_accuracy: 0.7689\n",
            "\n",
            "Epoch 00087: val_accuracy improved from 0.76695 to 0.76888, saving model to /content/drive/MyDrive/building1/26March5slots_200epochs_biDirLSTMDoubleDense/best_model.pkl\n"
          ],
          "name": "stdout"
        },
        {
          "output_type": "stream",
          "text": [
            "WARNING:absl:Found untraced functions such as lstm_cell_3_layer_call_fn, lstm_cell_3_layer_call_and_return_conditional_losses, lstm_cell_1_layer_call_fn, lstm_cell_1_layer_call_and_return_conditional_losses, lstm_cell_2_layer_call_fn while saving (showing 5 of 15). These functions will not be directly callable after loading.\n",
            "WARNING:absl:Found untraced functions such as lstm_cell_3_layer_call_fn, lstm_cell_3_layer_call_and_return_conditional_losses, lstm_cell_1_layer_call_fn, lstm_cell_1_layer_call_and_return_conditional_losses, lstm_cell_2_layer_call_fn while saving (showing 5 of 15). These functions will not be directly callable after loading.\n"
          ],
          "name": "stderr"
        },
        {
          "output_type": "stream",
          "text": [
            "INFO:tensorflow:Assets written to: /content/drive/MyDrive/building1/26March5slots_200epochs_biDirLSTMDoubleDense/best_model.pkl/assets\n"
          ],
          "name": "stdout"
        },
        {
          "output_type": "stream",
          "text": [
            "INFO:tensorflow:Assets written to: /content/drive/MyDrive/building1/26March5slots_200epochs_biDirLSTMDoubleDense/best_model.pkl/assets\n"
          ],
          "name": "stderr"
        },
        {
          "output_type": "stream",
          "text": [
            "Epoch 88/200\n",
            "246/246 [==============================] - 41s 167ms/step - loss: 0.0367 - accuracy: 0.9888 - val_loss: 1.0071 - val_accuracy: 0.7748\n",
            "\n",
            "Epoch 00088: val_accuracy improved from 0.76888 to 0.77481, saving model to /content/drive/MyDrive/building1/26March5slots_200epochs_biDirLSTMDoubleDense/best_model.pkl\n"
          ],
          "name": "stdout"
        },
        {
          "output_type": "stream",
          "text": [
            "WARNING:absl:Found untraced functions such as lstm_cell_3_layer_call_fn, lstm_cell_3_layer_call_and_return_conditional_losses, lstm_cell_1_layer_call_fn, lstm_cell_1_layer_call_and_return_conditional_losses, lstm_cell_2_layer_call_fn while saving (showing 5 of 15). These functions will not be directly callable after loading.\n",
            "WARNING:absl:Found untraced functions such as lstm_cell_3_layer_call_fn, lstm_cell_3_layer_call_and_return_conditional_losses, lstm_cell_1_layer_call_fn, lstm_cell_1_layer_call_and_return_conditional_losses, lstm_cell_2_layer_call_fn while saving (showing 5 of 15). These functions will not be directly callable after loading.\n"
          ],
          "name": "stderr"
        },
        {
          "output_type": "stream",
          "text": [
            "INFO:tensorflow:Assets written to: /content/drive/MyDrive/building1/26March5slots_200epochs_biDirLSTMDoubleDense/best_model.pkl/assets\n"
          ],
          "name": "stdout"
        },
        {
          "output_type": "stream",
          "text": [
            "INFO:tensorflow:Assets written to: /content/drive/MyDrive/building1/26March5slots_200epochs_biDirLSTMDoubleDense/best_model.pkl/assets\n"
          ],
          "name": "stderr"
        },
        {
          "output_type": "stream",
          "text": [
            "Epoch 89/200\n",
            "246/246 [==============================] - 42s 170ms/step - loss: 0.0363 - accuracy: 0.9896 - val_loss: 1.3007 - val_accuracy: 0.7187\n",
            "\n",
            "Epoch 00089: val_accuracy did not improve from 0.77481\n",
            "Epoch 90/200\n",
            "246/246 [==============================] - 41s 168ms/step - loss: 0.1709 - accuracy: 0.9408 - val_loss: 1.3352 - val_accuracy: 0.7040\n",
            "\n",
            "Epoch 00090: val_accuracy did not improve from 0.77481\n",
            "Epoch 91/200\n",
            "246/246 [==============================] - 42s 169ms/step - loss: 0.1592 - accuracy: 0.9447 - val_loss: 1.0671 - val_accuracy: 0.7549\n",
            "\n",
            "Epoch 00091: val_accuracy did not improve from 0.77481\n",
            "Epoch 92/200\n",
            "246/246 [==============================] - 41s 169ms/step - loss: 0.1013 - accuracy: 0.9680 - val_loss: 1.1023 - val_accuracy: 0.7432\n",
            "\n",
            "Epoch 00092: val_accuracy did not improve from 0.77481\n",
            "Epoch 93/200\n",
            "246/246 [==============================] - 42s 169ms/step - loss: 0.0692 - accuracy: 0.9763 - val_loss: 1.1026 - val_accuracy: 0.7570\n",
            "\n",
            "Epoch 00093: val_accuracy did not improve from 0.77481\n",
            "Epoch 94/200\n",
            "246/246 [==============================] - 42s 170ms/step - loss: 0.0669 - accuracy: 0.9764 - val_loss: 1.3214 - val_accuracy: 0.7248\n",
            "\n",
            "Epoch 00094: val_accuracy did not improve from 0.77481\n",
            "Epoch 95/200\n",
            "246/246 [==============================] - 42s 170ms/step - loss: 0.1328 - accuracy: 0.9548 - val_loss: 1.0964 - val_accuracy: 0.7603\n",
            "\n",
            "Epoch 00095: val_accuracy did not improve from 0.77481\n",
            "Epoch 96/200\n",
            "246/246 [==============================] - 42s 169ms/step - loss: 0.0728 - accuracy: 0.9756 - val_loss: 1.2898 - val_accuracy: 0.7213\n",
            "\n",
            "Epoch 00096: val_accuracy did not improve from 0.77481\n",
            "Epoch 97/200\n",
            "246/246 [==============================] - 42s 170ms/step - loss: 0.1255 - accuracy: 0.9585 - val_loss: 1.2155 - val_accuracy: 0.7379\n",
            "\n",
            "Epoch 00097: val_accuracy did not improve from 0.77481\n",
            "Epoch 98/200\n",
            "246/246 [==============================] - 42s 169ms/step - loss: 0.0953 - accuracy: 0.9661 - val_loss: 1.1577 - val_accuracy: 0.7445\n",
            "\n",
            "Epoch 00098: val_accuracy did not improve from 0.77481\n",
            "Epoch 99/200\n",
            "246/246 [==============================] - 42s 169ms/step - loss: 0.0837 - accuracy: 0.9703 - val_loss: 1.1164 - val_accuracy: 0.7598\n",
            "\n",
            "Epoch 00099: val_accuracy did not improve from 0.77481\n",
            "Epoch 100/200\n",
            "246/246 [==============================] - 42s 171ms/step - loss: 0.0631 - accuracy: 0.9782 - val_loss: 1.0778 - val_accuracy: 0.7661\n",
            "\n",
            "Epoch 00100: val_accuracy did not improve from 0.77481\n",
            "Epoch 101/200\n",
            "246/246 [==============================] - 42s 170ms/step - loss: 0.0405 - accuracy: 0.9875 - val_loss: 1.2027 - val_accuracy: 0.7500\n",
            "\n",
            "Epoch 00101: val_accuracy did not improve from 0.77481\n",
            "Epoch 102/200\n",
            "246/246 [==============================] - 42s 169ms/step - loss: 0.3234 - accuracy: 0.9122 - val_loss: 1.0662 - val_accuracy: 0.7536\n",
            "\n",
            "Epoch 00102: val_accuracy did not improve from 0.77481\n",
            "Epoch 103/200\n",
            "246/246 [==============================] - 42s 169ms/step - loss: 0.0682 - accuracy: 0.9784 - val_loss: 1.0370 - val_accuracy: 0.7753\n",
            "\n",
            "Epoch 00103: val_accuracy improved from 0.77481 to 0.77526, saving model to /content/drive/MyDrive/building1/26March5slots_200epochs_biDirLSTMDoubleDense/best_model.pkl\n"
          ],
          "name": "stdout"
        },
        {
          "output_type": "stream",
          "text": [
            "WARNING:absl:Found untraced functions such as lstm_cell_3_layer_call_fn, lstm_cell_3_layer_call_and_return_conditional_losses, lstm_cell_1_layer_call_fn, lstm_cell_1_layer_call_and_return_conditional_losses, lstm_cell_2_layer_call_fn while saving (showing 5 of 15). These functions will not be directly callable after loading.\n",
            "WARNING:absl:Found untraced functions such as lstm_cell_3_layer_call_fn, lstm_cell_3_layer_call_and_return_conditional_losses, lstm_cell_1_layer_call_fn, lstm_cell_1_layer_call_and_return_conditional_losses, lstm_cell_2_layer_call_fn while saving (showing 5 of 15). These functions will not be directly callable after loading.\n"
          ],
          "name": "stderr"
        },
        {
          "output_type": "stream",
          "text": [
            "INFO:tensorflow:Assets written to: /content/drive/MyDrive/building1/26March5slots_200epochs_biDirLSTMDoubleDense/best_model.pkl/assets\n"
          ],
          "name": "stdout"
        },
        {
          "output_type": "stream",
          "text": [
            "INFO:tensorflow:Assets written to: /content/drive/MyDrive/building1/26March5slots_200epochs_biDirLSTMDoubleDense/best_model.pkl/assets\n"
          ],
          "name": "stderr"
        },
        {
          "output_type": "stream",
          "text": [
            "Epoch 104/200\n",
            "246/246 [==============================] - 42s 170ms/step - loss: 0.0263 - accuracy: 0.9930 - val_loss: 1.0565 - val_accuracy: 0.7705\n",
            "\n",
            "Epoch 00104: val_accuracy did not improve from 0.77526\n",
            "Epoch 105/200\n",
            "246/246 [==============================] - 41s 169ms/step - loss: 0.0238 - accuracy: 0.9936 - val_loss: 1.1805 - val_accuracy: 0.7539\n",
            "\n",
            "Epoch 00105: val_accuracy did not improve from 0.77526\n",
            "Epoch 106/200\n",
            "246/246 [==============================] - 41s 167ms/step - loss: 0.1324 - accuracy: 0.9548 - val_loss: 1.1979 - val_accuracy: 0.7426\n",
            "\n",
            "Epoch 00106: val_accuracy did not improve from 0.77526\n",
            "Epoch 107/200\n",
            "246/246 [==============================] - 41s 168ms/step - loss: 0.0686 - accuracy: 0.9772 - val_loss: 1.1225 - val_accuracy: 0.7594\n",
            "\n",
            "Epoch 00107: val_accuracy did not improve from 0.77526\n",
            "Epoch 108/200\n",
            "246/246 [==============================] - 42s 169ms/step - loss: 0.0650 - accuracy: 0.9785 - val_loss: 1.1627 - val_accuracy: 0.7619\n",
            "\n",
            "Epoch 00108: val_accuracy did not improve from 0.77526\n",
            "Epoch 109/200\n",
            "246/246 [==============================] - 41s 168ms/step - loss: 0.1109 - accuracy: 0.9624 - val_loss: 1.5262 - val_accuracy: 0.6833\n",
            "\n",
            "Epoch 00109: val_accuracy did not improve from 0.77526\n",
            "Epoch 110/200\n",
            "246/246 [==============================] - 41s 168ms/step - loss: 0.1710 - accuracy: 0.9450 - val_loss: 1.1908 - val_accuracy: 0.7450\n",
            "\n",
            "Epoch 00110: val_accuracy did not improve from 0.77526\n",
            "Epoch 111/200\n",
            "246/246 [==============================] - 41s 167ms/step - loss: 0.0613 - accuracy: 0.9792 - val_loss: 1.1576 - val_accuracy: 0.7609\n",
            "\n",
            "Epoch 00111: val_accuracy did not improve from 0.77526\n",
            "Epoch 112/200\n",
            "246/246 [==============================] - 41s 168ms/step - loss: 0.0725 - accuracy: 0.9752 - val_loss: 1.3190 - val_accuracy: 0.7211\n",
            "\n",
            "Epoch 00112: val_accuracy did not improve from 0.77526\n",
            "Epoch 113/200\n",
            "246/246 [==============================] - 41s 167ms/step - loss: 0.1306 - accuracy: 0.9536 - val_loss: 1.2277 - val_accuracy: 0.7428\n",
            "\n",
            "Epoch 00113: val_accuracy did not improve from 0.77526\n",
            "Epoch 114/200\n",
            "246/246 [==============================] - 41s 167ms/step - loss: 0.0704 - accuracy: 0.9767 - val_loss: 1.2815 - val_accuracy: 0.7361\n",
            "\n",
            "Epoch 00114: val_accuracy did not improve from 0.77526\n",
            "Epoch 115/200\n",
            "246/246 [==============================] - 41s 167ms/step - loss: 0.0413 - accuracy: 0.9876 - val_loss: 1.1121 - val_accuracy: 0.7674\n",
            "\n",
            "Epoch 00115: val_accuracy did not improve from 0.77526\n",
            "Epoch 116/200\n",
            "246/246 [==============================] - 41s 167ms/step - loss: 0.0553 - accuracy: 0.9813 - val_loss: 1.1921 - val_accuracy: 0.7456\n",
            "\n",
            "Epoch 00116: val_accuracy did not improve from 0.77526\n",
            "Epoch 117/200\n",
            "246/246 [==============================] - 41s 167ms/step - loss: 0.0921 - accuracy: 0.9688 - val_loss: 1.2310 - val_accuracy: 0.7451\n",
            "\n",
            "Epoch 00117: val_accuracy did not improve from 0.77526\n",
            "Epoch 118/200\n",
            "246/246 [==============================] - 41s 167ms/step - loss: 0.0747 - accuracy: 0.9746 - val_loss: 1.2484 - val_accuracy: 0.7487\n",
            "\n",
            "Epoch 00118: val_accuracy did not improve from 0.77526\n",
            "Epoch 119/200\n",
            "246/246 [==============================] - 41s 167ms/step - loss: 0.1893 - accuracy: 0.9420 - val_loss: 1.2111 - val_accuracy: 0.7423\n",
            "\n",
            "Epoch 00119: val_accuracy did not improve from 0.77526\n",
            "Epoch 120/200\n",
            "246/246 [==============================] - 41s 167ms/step - loss: 0.0578 - accuracy: 0.9801 - val_loss: 1.1354 - val_accuracy: 0.7646\n",
            "\n",
            "Epoch 00120: val_accuracy did not improve from 0.77526\n",
            "Epoch 121/200\n",
            "246/246 [==============================] - 42s 172ms/step - loss: 0.0403 - accuracy: 0.9868 - val_loss: 1.1814 - val_accuracy: 0.7631\n",
            "\n",
            "Epoch 00121: val_accuracy did not improve from 0.77526\n",
            "Epoch 122/200\n",
            "246/246 [==============================] - 42s 173ms/step - loss: 0.0173 - accuracy: 0.9950 - val_loss: 1.1139 - val_accuracy: 0.7758\n",
            "\n",
            "Epoch 00122: val_accuracy improved from 0.77526 to 0.77585, saving model to /content/drive/MyDrive/building1/26March5slots_200epochs_biDirLSTMDoubleDense/best_model.pkl\n"
          ],
          "name": "stdout"
        },
        {
          "output_type": "stream",
          "text": [
            "WARNING:absl:Found untraced functions such as lstm_cell_3_layer_call_fn, lstm_cell_3_layer_call_and_return_conditional_losses, lstm_cell_1_layer_call_fn, lstm_cell_1_layer_call_and_return_conditional_losses, lstm_cell_2_layer_call_fn while saving (showing 5 of 15). These functions will not be directly callable after loading.\n",
            "WARNING:absl:Found untraced functions such as lstm_cell_3_layer_call_fn, lstm_cell_3_layer_call_and_return_conditional_losses, lstm_cell_1_layer_call_fn, lstm_cell_1_layer_call_and_return_conditional_losses, lstm_cell_2_layer_call_fn while saving (showing 5 of 15). These functions will not be directly callable after loading.\n"
          ],
          "name": "stderr"
        },
        {
          "output_type": "stream",
          "text": [
            "INFO:tensorflow:Assets written to: /content/drive/MyDrive/building1/26March5slots_200epochs_biDirLSTMDoubleDense/best_model.pkl/assets\n"
          ],
          "name": "stdout"
        },
        {
          "output_type": "stream",
          "text": [
            "INFO:tensorflow:Assets written to: /content/drive/MyDrive/building1/26March5slots_200epochs_biDirLSTMDoubleDense/best_model.pkl/assets\n"
          ],
          "name": "stderr"
        },
        {
          "output_type": "stream",
          "text": [
            "Epoch 123/200\n",
            "246/246 [==============================] - 43s 173ms/step - loss: 0.0206 - accuracy: 0.9948 - val_loss: 1.2745 - val_accuracy: 0.7497\n",
            "\n",
            "Epoch 00123: val_accuracy did not improve from 0.77585\n",
            "Epoch 124/200\n",
            "246/246 [==============================] - 42s 172ms/step - loss: 0.1935 - accuracy: 0.9394 - val_loss: 1.3030 - val_accuracy: 0.7318\n",
            "\n",
            "Epoch 00124: val_accuracy did not improve from 0.77585\n",
            "Epoch 125/200\n",
            "246/246 [==============================] - 42s 172ms/step - loss: 0.1214 - accuracy: 0.9586 - val_loss: 1.1499 - val_accuracy: 0.7575\n",
            "\n",
            "Epoch 00125: val_accuracy did not improve from 0.77585\n",
            "Epoch 126/200\n",
            "246/246 [==============================] - 43s 173ms/step - loss: 0.0474 - accuracy: 0.9846 - val_loss: 1.1851 - val_accuracy: 0.7631\n",
            "\n",
            "Epoch 00126: val_accuracy did not improve from 0.77585\n",
            "Epoch 127/200\n",
            "246/246 [==============================] - 42s 172ms/step - loss: 0.0431 - accuracy: 0.9859 - val_loss: 1.1964 - val_accuracy: 0.7564\n",
            "\n",
            "Epoch 00127: val_accuracy did not improve from 0.77585\n",
            "Epoch 128/200\n",
            "246/246 [==============================] - 42s 172ms/step - loss: 0.0530 - accuracy: 0.9826 - val_loss: 1.4603 - val_accuracy: 0.7127\n",
            "\n",
            "Epoch 00128: val_accuracy did not improve from 0.77585\n",
            "Epoch 129/200\n",
            "246/246 [==============================] - 42s 172ms/step - loss: 0.2523 - accuracy: 0.9255 - val_loss: 1.1343 - val_accuracy: 0.7641\n",
            "\n",
            "Epoch 00129: val_accuracy did not improve from 0.77585\n",
            "Epoch 130/200\n",
            "246/246 [==============================] - 42s 172ms/step - loss: 0.0423 - accuracy: 0.9856 - val_loss: 1.1472 - val_accuracy: 0.7656\n",
            "\n",
            "Epoch 00130: val_accuracy did not improve from 0.77585\n",
            "Epoch 131/200\n",
            "246/246 [==============================] - 43s 173ms/step - loss: 0.0198 - accuracy: 0.9947 - val_loss: 1.1181 - val_accuracy: 0.7785\n",
            "\n",
            "Epoch 00131: val_accuracy improved from 0.77585 to 0.77852, saving model to /content/drive/MyDrive/building1/26March5slots_200epochs_biDirLSTMDoubleDense/best_model.pkl\n"
          ],
          "name": "stdout"
        },
        {
          "output_type": "stream",
          "text": [
            "WARNING:absl:Found untraced functions such as lstm_cell_3_layer_call_fn, lstm_cell_3_layer_call_and_return_conditional_losses, lstm_cell_1_layer_call_fn, lstm_cell_1_layer_call_and_return_conditional_losses, lstm_cell_2_layer_call_fn while saving (showing 5 of 15). These functions will not be directly callable after loading.\n",
            "WARNING:absl:Found untraced functions such as lstm_cell_3_layer_call_fn, lstm_cell_3_layer_call_and_return_conditional_losses, lstm_cell_1_layer_call_fn, lstm_cell_1_layer_call_and_return_conditional_losses, lstm_cell_2_layer_call_fn while saving (showing 5 of 15). These functions will not be directly callable after loading.\n"
          ],
          "name": "stderr"
        },
        {
          "output_type": "stream",
          "text": [
            "INFO:tensorflow:Assets written to: /content/drive/MyDrive/building1/26March5slots_200epochs_biDirLSTMDoubleDense/best_model.pkl/assets\n"
          ],
          "name": "stdout"
        },
        {
          "output_type": "stream",
          "text": [
            "INFO:tensorflow:Assets written to: /content/drive/MyDrive/building1/26March5slots_200epochs_biDirLSTMDoubleDense/best_model.pkl/assets\n"
          ],
          "name": "stderr"
        },
        {
          "output_type": "stream",
          "text": [
            "Epoch 132/200\n",
            "246/246 [==============================] - 43s 173ms/step - loss: 0.0101 - accuracy: 0.9981 - val_loss: 1.1468 - val_accuracy: 0.7718\n",
            "\n",
            "Epoch 00132: val_accuracy did not improve from 0.77852\n",
            "Epoch 133/200\n",
            "246/246 [==============================] - 43s 173ms/step - loss: 0.0119 - accuracy: 0.9968 - val_loss: 1.5026 - val_accuracy: 0.7130\n",
            "\n",
            "Epoch 00133: val_accuracy did not improve from 0.77852\n",
            "Epoch 134/200\n",
            "246/246 [==============================] - 42s 172ms/step - loss: 0.3312 - accuracy: 0.9029 - val_loss: 1.1971 - val_accuracy: 0.7441\n",
            "\n",
            "Epoch 00134: val_accuracy did not improve from 0.77852\n",
            "Epoch 135/200\n",
            "246/246 [==============================] - 42s 171ms/step - loss: 0.0809 - accuracy: 0.9738 - val_loss: 1.1373 - val_accuracy: 0.7567\n",
            "\n",
            "Epoch 00135: val_accuracy did not improve from 0.77852\n",
            "Epoch 136/200\n",
            "246/246 [==============================] - 43s 173ms/step - loss: 0.0368 - accuracy: 0.9889 - val_loss: 1.1283 - val_accuracy: 0.7609\n",
            "\n",
            "Epoch 00136: val_accuracy did not improve from 0.77852\n",
            "Epoch 137/200\n",
            "246/246 [==============================] - 42s 173ms/step - loss: 0.0247 - accuracy: 0.9925 - val_loss: 1.2697 - val_accuracy: 0.7459\n",
            "\n",
            "Epoch 00137: val_accuracy did not improve from 0.77852\n",
            "Epoch 138/200\n",
            "246/246 [==============================] - 42s 172ms/step - loss: 0.1541 - accuracy: 0.9515 - val_loss: 1.2798 - val_accuracy: 0.7337\n",
            "\n",
            "Epoch 00138: val_accuracy did not improve from 0.77852\n",
            "Epoch 139/200\n",
            "246/246 [==============================] - 43s 173ms/step - loss: 0.0739 - accuracy: 0.9737 - val_loss: 1.1536 - val_accuracy: 0.7640\n",
            "\n",
            "Epoch 00139: val_accuracy did not improve from 0.77852\n",
            "Epoch 140/200\n",
            "246/246 [==============================] - 42s 173ms/step - loss: 0.0212 - accuracy: 0.9941 - val_loss: 1.1624 - val_accuracy: 0.7683\n",
            "\n",
            "Epoch 00140: val_accuracy did not improve from 0.77852\n",
            "Epoch 141/200\n",
            "246/246 [==============================] - 42s 172ms/step - loss: 0.0155 - accuracy: 0.9960 - val_loss: 1.1614 - val_accuracy: 0.7715\n",
            "\n",
            "Epoch 00141: val_accuracy did not improve from 0.77852\n",
            "Epoch 142/200\n",
            "246/246 [==============================] - 42s 172ms/step - loss: 0.0152 - accuracy: 0.9964 - val_loss: 1.2645 - val_accuracy: 0.7567\n",
            "\n",
            "Epoch 00142: val_accuracy did not improve from 0.77852\n",
            "Epoch 143/200\n",
            "246/246 [==============================] - 42s 172ms/step - loss: 0.1849 - accuracy: 0.9475 - val_loss: 1.2588 - val_accuracy: 0.7288\n",
            "\n",
            "Epoch 00143: val_accuracy did not improve from 0.77852\n",
            "Epoch 144/200\n",
            "246/246 [==============================] - 42s 172ms/step - loss: 0.1043 - accuracy: 0.9639 - val_loss: 1.1948 - val_accuracy: 0.7517\n",
            "\n",
            "Epoch 00144: val_accuracy did not improve from 0.77852\n",
            "Epoch 145/200\n",
            "246/246 [==============================] - 42s 172ms/step - loss: 0.0262 - accuracy: 0.9929 - val_loss: 1.1405 - val_accuracy: 0.7695\n",
            "\n",
            "Epoch 00145: val_accuracy did not improve from 0.77852\n",
            "Epoch 146/200\n",
            "246/246 [==============================] - 42s 172ms/step - loss: 0.0262 - accuracy: 0.9929 - val_loss: 1.1165 - val_accuracy: 0.7720\n",
            "\n",
            "Epoch 00146: val_accuracy did not improve from 0.77852\n",
            "Epoch 147/200\n",
            "246/246 [==============================] - 42s 171ms/step - loss: 0.0098 - accuracy: 0.9980 - val_loss: 1.1713 - val_accuracy: 0.7678\n",
            "\n",
            "Epoch 00147: val_accuracy did not improve from 0.77852\n",
            "Epoch 148/200\n",
            "246/246 [==============================] - 42s 172ms/step - loss: 0.0129 - accuracy: 0.9965 - val_loss: 1.1886 - val_accuracy: 0.7675\n",
            "\n",
            "Epoch 00148: val_accuracy did not improve from 0.77852\n",
            "Epoch 149/200\n",
            "246/246 [==============================] - 42s 172ms/step - loss: 0.1746 - accuracy: 0.9511 - val_loss: 1.1965 - val_accuracy: 0.7505\n",
            "\n",
            "Epoch 00149: val_accuracy did not improve from 0.77852\n",
            "Epoch 150/200\n",
            "246/246 [==============================] - 42s 172ms/step - loss: 0.0703 - accuracy: 0.9774 - val_loss: 1.2399 - val_accuracy: 0.7506\n",
            "\n",
            "Epoch 00150: val_accuracy did not improve from 0.77852\n",
            "Epoch 151/200\n",
            "246/246 [==============================] - 43s 173ms/step - loss: 0.0346 - accuracy: 0.9892 - val_loss: 1.2946 - val_accuracy: 0.7416\n",
            "\n",
            "Epoch 00151: val_accuracy did not improve from 0.77852\n",
            "Epoch 152/200\n",
            "246/246 [==============================] - 42s 172ms/step - loss: 0.0366 - accuracy: 0.9888 - val_loss: 1.2240 - val_accuracy: 0.7549\n",
            "\n",
            "Epoch 00152: val_accuracy did not improve from 0.77852\n",
            "Epoch 153/200\n",
            "246/246 [==============================] - 42s 172ms/step - loss: 0.0497 - accuracy: 0.9839 - val_loss: 1.3611 - val_accuracy: 0.7426\n",
            "\n",
            "Epoch 00153: val_accuracy did not improve from 0.77852\n",
            "Epoch 154/200\n",
            "246/246 [==============================] - 42s 173ms/step - loss: 0.1018 - accuracy: 0.9668 - val_loss: 1.2686 - val_accuracy: 0.7460\n",
            "\n",
            "Epoch 00154: val_accuracy did not improve from 0.77852\n",
            "Epoch 155/200\n",
            "246/246 [==============================] - 43s 173ms/step - loss: 0.0659 - accuracy: 0.9765 - val_loss: 1.3495 - val_accuracy: 0.7411\n",
            "\n",
            "Epoch 00155: val_accuracy did not improve from 0.77852\n",
            "Epoch 156/200\n",
            "246/246 [==============================] - 43s 173ms/step - loss: 0.0649 - accuracy: 0.9794 - val_loss: 1.3019 - val_accuracy: 0.7453\n",
            "\n",
            "Epoch 00156: val_accuracy did not improve from 0.77852\n",
            "Epoch 157/200\n",
            "246/246 [==============================] - 42s 172ms/step - loss: 0.0421 - accuracy: 0.9863 - val_loss: 1.2145 - val_accuracy: 0.7606\n",
            "\n",
            "Epoch 00157: val_accuracy did not improve from 0.77852\n",
            "Epoch 158/200\n",
            "246/246 [==============================] - 43s 173ms/step - loss: 0.0551 - accuracy: 0.9808 - val_loss: 1.3661 - val_accuracy: 0.7460\n",
            "\n",
            "Epoch 00158: val_accuracy did not improve from 0.77852\n",
            "Epoch 159/200\n",
            "246/246 [==============================] - 42s 172ms/step - loss: 0.1173 - accuracy: 0.9640 - val_loss: 1.3867 - val_accuracy: 0.7284\n",
            "\n",
            "Epoch 00159: val_accuracy did not improve from 0.77852\n",
            "Epoch 160/200\n",
            "246/246 [==============================] - 42s 172ms/step - loss: 0.0806 - accuracy: 0.9726 - val_loss: 1.2625 - val_accuracy: 0.7497\n",
            "\n",
            "Epoch 00160: val_accuracy did not improve from 0.77852\n",
            "Epoch 161/200\n",
            "246/246 [==============================] - 42s 173ms/step - loss: 0.0471 - accuracy: 0.9849 - val_loss: 1.2556 - val_accuracy: 0.7530\n",
            "\n",
            "Epoch 00161: val_accuracy did not improve from 0.77852\n",
            "Epoch 162/200\n",
            "246/246 [==============================] - 42s 172ms/step - loss: 0.0390 - accuracy: 0.9876 - val_loss: 1.1982 - val_accuracy: 0.7675\n",
            "\n",
            "Epoch 00162: val_accuracy did not improve from 0.77852\n",
            "Epoch 163/200\n",
            "246/246 [==============================] - 42s 173ms/step - loss: 0.0138 - accuracy: 0.9955 - val_loss: 1.2704 - val_accuracy: 0.7625\n",
            "\n",
            "Epoch 00163: val_accuracy did not improve from 0.77852\n",
            "Epoch 164/200\n",
            "246/246 [==============================] - 42s 172ms/step - loss: 0.0602 - accuracy: 0.9801 - val_loss: 1.4996 - val_accuracy: 0.7221\n",
            "\n",
            "Epoch 00164: val_accuracy did not improve from 0.77852\n",
            "Epoch 165/200\n",
            "246/246 [==============================] - 43s 173ms/step - loss: 0.1212 - accuracy: 0.9599 - val_loss: 1.3465 - val_accuracy: 0.7426\n",
            "\n",
            "Epoch 00165: val_accuracy did not improve from 0.77852\n",
            "Epoch 166/200\n",
            "246/246 [==============================] - 42s 173ms/step - loss: 0.0893 - accuracy: 0.9687 - val_loss: 1.2663 - val_accuracy: 0.7491\n",
            "\n",
            "Epoch 00166: val_accuracy did not improve from 0.77852\n",
            "Epoch 167/200\n",
            "246/246 [==============================] - 42s 172ms/step - loss: 0.0942 - accuracy: 0.9710 - val_loss: 1.2730 - val_accuracy: 0.7548\n",
            "\n",
            "Epoch 00167: val_accuracy did not improve from 0.77852\n",
            "Epoch 168/200\n",
            "246/246 [==============================] - 42s 172ms/step - loss: 0.0317 - accuracy: 0.9898 - val_loss: 1.2600 - val_accuracy: 0.7610\n",
            "\n",
            "Epoch 00168: val_accuracy did not improve from 0.77852\n",
            "Epoch 169/200\n",
            "246/246 [==============================] - 42s 172ms/step - loss: 0.0187 - accuracy: 0.9946 - val_loss: 1.2320 - val_accuracy: 0.7653\n",
            "\n",
            "Epoch 00169: val_accuracy did not improve from 0.77852\n",
            "Epoch 170/200\n",
            "246/246 [==============================] - 43s 174ms/step - loss: 0.0200 - accuracy: 0.9944 - val_loss: 1.7257 - val_accuracy: 0.6983\n",
            "\n",
            "Epoch 00170: val_accuracy did not improve from 0.77852\n",
            "Epoch 171/200\n",
            "246/246 [==============================] - 42s 172ms/step - loss: 0.3596 - accuracy: 0.9030 - val_loss: 1.2896 - val_accuracy: 0.7374\n",
            "\n",
            "Epoch 00171: val_accuracy did not improve from 0.77852\n",
            "Epoch 172/200\n",
            "246/246 [==============================] - 43s 173ms/step - loss: 0.0636 - accuracy: 0.9784 - val_loss: 1.1544 - val_accuracy: 0.7582\n",
            "\n",
            "Epoch 00172: val_accuracy did not improve from 0.77852\n",
            "Epoch 173/200\n",
            "246/246 [==============================] - 43s 173ms/step - loss: 0.0148 - accuracy: 0.9964 - val_loss: 1.1862 - val_accuracy: 0.7669\n",
            "\n",
            "Epoch 00173: val_accuracy did not improve from 0.77852\n",
            "Epoch 174/200\n",
            "246/246 [==============================] - 42s 172ms/step - loss: 0.0093 - accuracy: 0.9975 - val_loss: 1.1650 - val_accuracy: 0.7754\n",
            "\n",
            "Epoch 00174: val_accuracy did not improve from 0.77852\n",
            "Epoch 175/200\n",
            "246/246 [==============================] - 42s 173ms/step - loss: 0.0062 - accuracy: 0.9985 - val_loss: 1.2345 - val_accuracy: 0.7652\n",
            "\n",
            "Epoch 00175: val_accuracy did not improve from 0.77852\n",
            "Epoch 176/200\n",
            "246/246 [==============================] - 42s 173ms/step - loss: 0.0099 - accuracy: 0.9974 - val_loss: 1.3136 - val_accuracy: 0.7500\n",
            "\n",
            "Epoch 00176: val_accuracy did not improve from 0.77852\n",
            "Epoch 177/200\n",
            "246/246 [==============================] - 42s 172ms/step - loss: 0.2113 - accuracy: 0.9395 - val_loss: 1.4415 - val_accuracy: 0.7175\n",
            "\n",
            "Epoch 00177: val_accuracy did not improve from 0.77852\n",
            "Epoch 178/200\n",
            "246/246 [==============================] - 43s 173ms/step - loss: 0.0831 - accuracy: 0.9712 - val_loss: 1.2552 - val_accuracy: 0.7509\n",
            "\n",
            "Epoch 00178: val_accuracy did not improve from 0.77852\n",
            "Epoch 179/200\n",
            "246/246 [==============================] - 42s 173ms/step - loss: 0.0381 - accuracy: 0.9875 - val_loss: 1.2033 - val_accuracy: 0.7610\n",
            "\n",
            "Epoch 00179: val_accuracy did not improve from 0.77852\n",
            "Epoch 180/200\n",
            "246/246 [==============================] - 42s 173ms/step - loss: 0.0161 - accuracy: 0.9950 - val_loss: 1.1806 - val_accuracy: 0.7695\n",
            "\n",
            "Epoch 00180: val_accuracy did not improve from 0.77852\n",
            "Epoch 181/200\n",
            "246/246 [==============================] - 42s 172ms/step - loss: 0.0121 - accuracy: 0.9973 - val_loss: 1.2244 - val_accuracy: 0.7696\n",
            "\n",
            "Epoch 00181: val_accuracy did not improve from 0.77852\n",
            "Epoch 182/200\n",
            "246/246 [==============================] - 43s 173ms/step - loss: 0.0206 - accuracy: 0.9939 - val_loss: 1.4638 - val_accuracy: 0.7336\n",
            "\n",
            "Epoch 00182: val_accuracy did not improve from 0.77852\n",
            "Epoch 183/200\n",
            "246/246 [==============================] - 43s 173ms/step - loss: 0.2475 - accuracy: 0.9257 - val_loss: 1.3111 - val_accuracy: 0.7337\n",
            "\n",
            "Epoch 00183: val_accuracy did not improve from 0.77852\n",
            "Epoch 184/200\n",
            "246/246 [==============================] - 43s 173ms/step - loss: 0.0613 - accuracy: 0.9784 - val_loss: 1.2384 - val_accuracy: 0.7612\n",
            "\n",
            "Epoch 00184: val_accuracy did not improve from 0.77852\n",
            "Epoch 185/200\n",
            "246/246 [==============================] - 43s 174ms/step - loss: 0.0173 - accuracy: 0.9955 - val_loss: 1.2526 - val_accuracy: 0.7646\n",
            "\n",
            "Epoch 00185: val_accuracy did not improve from 0.77852\n",
            "Epoch 186/200\n",
            "246/246 [==============================] - 42s 172ms/step - loss: 0.0156 - accuracy: 0.9962 - val_loss: 1.2731 - val_accuracy: 0.7579\n",
            "\n",
            "Epoch 00186: val_accuracy did not improve from 0.77852\n",
            "Epoch 187/200\n",
            "246/246 [==============================] - 42s 173ms/step - loss: 0.0722 - accuracy: 0.9762 - val_loss: 1.3114 - val_accuracy: 0.7546\n",
            "\n",
            "Epoch 00187: val_accuracy did not improve from 0.77852\n",
            "Epoch 188/200\n",
            "246/246 [==============================] - 42s 172ms/step - loss: 0.0614 - accuracy: 0.9806 - val_loss: 1.3215 - val_accuracy: 0.7493\n",
            "\n",
            "Epoch 00188: val_accuracy did not improve from 0.77852\n",
            "Epoch 189/200\n",
            "246/246 [==============================] - 42s 172ms/step - loss: 0.0654 - accuracy: 0.9789 - val_loss: 1.4538 - val_accuracy: 0.7241\n",
            "\n",
            "Epoch 00189: val_accuracy did not improve from 0.77852\n",
            "Epoch 190/200\n",
            "246/246 [==============================] - 43s 173ms/step - loss: 0.0964 - accuracy: 0.9683 - val_loss: 1.2954 - val_accuracy: 0.7578\n",
            "\n",
            "Epoch 00190: val_accuracy did not improve from 0.77852\n",
            "Epoch 191/200\n",
            "246/246 [==============================] - 42s 172ms/step - loss: 0.0225 - accuracy: 0.9922 - val_loss: 1.2241 - val_accuracy: 0.7696\n",
            "\n",
            "Epoch 00191: val_accuracy did not improve from 0.77852\n",
            "Epoch 192/200\n",
            "246/246 [==============================] - 43s 174ms/step - loss: 0.0183 - accuracy: 0.9945 - val_loss: 1.3234 - val_accuracy: 0.7532\n",
            "\n",
            "Epoch 00192: val_accuracy did not improve from 0.77852\n",
            "Epoch 193/200\n",
            "246/246 [==============================] - 43s 175ms/step - loss: 0.0210 - accuracy: 0.9941 - val_loss: 1.3607 - val_accuracy: 0.7533\n",
            "\n",
            "Epoch 00193: val_accuracy did not improve from 0.77852\n",
            "Epoch 194/200\n",
            "246/246 [==============================] - 43s 173ms/step - loss: 0.0427 - accuracy: 0.9877 - val_loss: 1.4797 - val_accuracy: 0.7266\n",
            "\n",
            "Epoch 00194: val_accuracy did not improve from 0.77852\n",
            "Epoch 195/200\n",
            "246/246 [==============================] - 42s 173ms/step - loss: 0.1459 - accuracy: 0.9531 - val_loss: 1.3251 - val_accuracy: 0.7471\n",
            "\n",
            "Epoch 00195: val_accuracy did not improve from 0.77852\n",
            "Epoch 196/200\n",
            "246/246 [==============================] - 42s 172ms/step - loss: 0.0704 - accuracy: 0.9759 - val_loss: 1.2850 - val_accuracy: 0.7589\n",
            "\n",
            "Epoch 00196: val_accuracy did not improve from 0.77852\n",
            "Epoch 197/200\n",
            "246/246 [==============================] - 42s 172ms/step - loss: 0.0306 - accuracy: 0.9903 - val_loss: 1.2652 - val_accuracy: 0.7637\n",
            "\n",
            "Epoch 00197: val_accuracy did not improve from 0.77852\n",
            "Epoch 198/200\n",
            "246/246 [==============================] - 43s 173ms/step - loss: 0.0247 - accuracy: 0.9917 - val_loss: 1.3219 - val_accuracy: 0.7526\n",
            "\n",
            "Epoch 00198: val_accuracy did not improve from 0.77852\n",
            "Epoch 199/200\n",
            "246/246 [==============================] - 42s 173ms/step - loss: 0.0564 - accuracy: 0.9828 - val_loss: 1.4345 - val_accuracy: 0.7349\n",
            "\n",
            "Epoch 00199: val_accuracy did not improve from 0.77852\n",
            "Epoch 200/200\n",
            "246/246 [==============================] - 42s 172ms/step - loss: 0.0623 - accuracy: 0.9790 - val_loss: 1.3095 - val_accuracy: 0.7558\n",
            "\n",
            "Epoch 00200: val_accuracy did not improve from 0.77852\n"
          ],
          "name": "stdout"
        }
      ]
    },
    {
      "cell_type": "code",
      "metadata": {
        "id": "83C_zN-_HSlY",
        "colab": {
          "base_uri": "https://localhost:8080/",
          "height": 295
        },
        "outputId": "2fe6a753-13ad-4f65-c37e-927928016aa8"
      },
      "source": [
        "import matplotlib.pyplot as plt\n",
        "plt.plot(history.history['accuracy'])\n",
        "plt.plot(history.history['val_accuracy'])\n",
        "plt.title('model accuracy')\n",
        "plt.ylabel('accuracy')\n",
        "plt.xlabel('epoch')\n",
        "plt.legend(['train', 'Validation'], loc='upper left')\n",
        "plt.show()"
      ],
      "execution_count": null,
      "outputs": [
        {
          "output_type": "display_data",
          "data": {
            "image/png": "[encoded data removed]",
            "text/plain": [
              "<Figure size 432x288 with 1 Axes>"
            ]
          },
          "metadata": {
            "tags": [],
            "needs_background": "light"
          }
        }
      ]
    },
    {
      "cell_type": "code",
      "metadata": {
        "id": "oY6yOqbZHULQ",
        "colab": {
          "base_uri": "https://localhost:8080/"
        },
        "outputId": "0fd382e4-6454-4495-be0a-912bca053a32"
      },
      "source": [
        "model = load_model('/content/drive/MyDrive/building1/26March5slots_200epochs_biDirLSTMDoubleDense/best_model.pkl')\n",
        "\n",
        "from sklearn.metrics import accuracy_score\n",
        "y_pred=model.predict(test)\n",
        "test_preds=( y_pred> 0.5).astype(\"int32\")#Selecting a label only if it has >0.5 probability\n",
        "accuracy_score(test_target, test_preds)"
      ],
      "execution_count": null,
      "outputs": [
        {
          "output_type": "execute_result",
          "data": {
            "text/plain": [
              "0.763274992583803"
            ]
          },
          "metadata": {
            "tags": []
          },
          "execution_count": 21
        }
      ]
    },
    {
      "cell_type": "code",
      "metadata": {
        "id": "FnRdkXmpHc5s",
        "colab": {
          "base_uri": "https://localhost:8080/"
        },
        "outputId": "4eb6e3e1-efad-48b7-b9e8-e74f984e7594"
      },
      "source": [
        "yhat=np.argmax(y_pred,axis=1)\n",
        "y=np.argmax(test_target,axis=1)\n",
        "accuracy_score(y,yhat)"
      ],
      "execution_count": null,
      "outputs": [
        {
          "output_type": "execute_result",
          "data": {
            "text/plain": [
              "0.7687629783447049"
            ]
          },
          "metadata": {
            "tags": []
          },
          "execution_count": 22
        }
      ]
    },
    {
      "cell_type": "code",
      "metadata": {
        "id": "rM7XwQExHa0U",
        "colab": {
          "base_uri": "https://localhost:8080/",
          "height": 204
        },
        "outputId": "ca2b0be9-7259-4421-b75c-235bd21a2965"
      },
      "source": [
        "#converting predicted labels to waypoins.\n",
        "pred_df=pd.DataFrame(yhat,columns=['Label'])\n",
        "label_df=pd.DataFrame(label,columns=['X_up_limit','Y_up_limit','Label'])\n",
        "label_df.head()\n",
        "pred_df2 = pd.merge(pred_df, label_df, on='Label', how='left')\n",
        "pred_df2.head()"
      ],
      "execution_count": null,
      "outputs": [
        {
          "output_type": "execute_result",
          "data": {
            "text/html": [
              "<div>\n",
              "<style scoped>\n",
              "    .dataframe tbody tr th:only-of-type {\n",
              "        vertical-align: middle;\n",
              "    }\n",
              "\n",
              "    .dataframe tbody tr th {\n",
              "        vertical-align: top;\n",
              "    }\n",
              "\n",
              "    .dataframe thead th {\n",
              "        text-align: right;\n",
              "    }\n",
              "</style>\n",
              "<table border=\"1\" class=\"dataframe\">\n",
              "  <thead>\n",
              "    <tr style=\"text-align: right;\">\n",
              "      <th></th>\n",
              "      <th>Label</th>\n",
              "      <th>X_up_limit</th>\n",
              "      <th>Y_up_limit</th>\n",
              "    </tr>\n",
              "  </thead>\n",
              "  <tbody>\n",
              "    <tr>\n",
              "      <th>0</th>\n",
              "      <td>78</td>\n",
              "      <td>214.213216</td>\n",
              "      <td>169.39878</td>\n",
              "    </tr>\n",
              "    <tr>\n",
              "      <th>1</th>\n",
              "      <td>78</td>\n",
              "      <td>214.213216</td>\n",
              "      <td>169.39878</td>\n",
              "    </tr>\n",
              "    <tr>\n",
              "      <th>2</th>\n",
              "      <td>78</td>\n",
              "      <td>214.213216</td>\n",
              "      <td>169.39878</td>\n",
              "    </tr>\n",
              "    <tr>\n",
              "      <th>3</th>\n",
              "      <td>78</td>\n",
              "      <td>214.213216</td>\n",
              "      <td>169.39878</td>\n",
              "    </tr>\n",
              "    <tr>\n",
              "      <th>4</th>\n",
              "      <td>78</td>\n",
              "      <td>214.213216</td>\n",
              "      <td>169.39878</td>\n",
              "    </tr>\n",
              "  </tbody>\n",
              "</table>\n",
              "</div>"
            ],
            "text/plain": [
              "   Label  X_up_limit  Y_up_limit\n",
              "0     78  214.213216   169.39878\n",
              "1     78  214.213216   169.39878\n",
              "2     78  214.213216   169.39878\n",
              "3     78  214.213216   169.39878\n",
              "4     78  214.213216   169.39878"
            ]
          },
          "metadata": {
            "tags": []
          },
          "execution_count": 23
        }
      ]
    },
    {
      "cell_type": "code",
      "metadata": {
        "id": "YL99yJBBHs7V",
        "colab": {
          "base_uri": "https://localhost:8080/",
          "height": 204
        },
        "outputId": "8e83606c-d201-43d1-bd77-842eb390062d"
      },
      "source": [
        "wp_pred=list()\n",
        "#Adjust wp to centers\n",
        "distx=(label[1][0]-label[0][0])/2\n",
        "disty=(label[10][1]-label[0][1])/2 #for 10X10 grid\n",
        "pred_df2['X_up_limit']=pred_df2['X_up_limit']-distx\n",
        "pred_df2['Y_up_limit']=pred_df2['Y_up_limit']-disty\n",
        "pred_df2.head()"
      ],
      "execution_count": null,
      "outputs": [
        {
          "output_type": "execute_result",
          "data": {
            "text/html": [
              "<div>\n",
              "<style scoped>\n",
              "    .dataframe tbody tr th:only-of-type {\n",
              "        vertical-align: middle;\n",
              "    }\n",
              "\n",
              "    .dataframe tbody tr th {\n",
              "        vertical-align: top;\n",
              "    }\n",
              "\n",
              "    .dataframe thead th {\n",
              "        text-align: right;\n",
              "    }\n",
              "</style>\n",
              "<table border=\"1\" class=\"dataframe\">\n",
              "  <thead>\n",
              "    <tr style=\"text-align: right;\">\n",
              "      <th></th>\n",
              "      <th>Label</th>\n",
              "      <th>X_up_limit</th>\n",
              "      <th>Y_up_limit</th>\n",
              "    </tr>\n",
              "  </thead>\n",
              "  <tbody>\n",
              "    <tr>\n",
              "      <th>0</th>\n",
              "      <td>78</td>\n",
              "      <td>204.347734</td>\n",
              "      <td>163.499172</td>\n",
              "    </tr>\n",
              "    <tr>\n",
              "      <th>1</th>\n",
              "      <td>78</td>\n",
              "      <td>204.347734</td>\n",
              "      <td>163.499172</td>\n",
              "    </tr>\n",
              "    <tr>\n",
              "      <th>2</th>\n",
              "      <td>78</td>\n",
              "      <td>204.347734</td>\n",
              "      <td>163.499172</td>\n",
              "    </tr>\n",
              "    <tr>\n",
              "      <th>3</th>\n",
              "      <td>78</td>\n",
              "      <td>204.347734</td>\n",
              "      <td>163.499172</td>\n",
              "    </tr>\n",
              "    <tr>\n",
              "      <th>4</th>\n",
              "      <td>78</td>\n",
              "      <td>204.347734</td>\n",
              "      <td>163.499172</td>\n",
              "    </tr>\n",
              "  </tbody>\n",
              "</table>\n",
              "</div>"
            ],
            "text/plain": [
              "   Label  X_up_limit  Y_up_limit\n",
              "0     78  204.347734  163.499172\n",
              "1     78  204.347734  163.499172\n",
              "2     78  204.347734  163.499172\n",
              "3     78  204.347734  163.499172\n",
              "4     78  204.347734  163.499172"
            ]
          },
          "metadata": {
            "tags": []
          },
          "execution_count": 24
        }
      ]
    },
    {
      "cell_type": "code",
      "metadata": {
        "id": "ZDoK5QESHzeo",
        "colab": {
          "base_uri": "https://localhost:8080/"
        },
        "outputId": "5cdc8098-9540-4f9d-c011-0bd12d1100d1"
      },
      "source": [
        "#Now we will calculate exact error in predicted and actual location\n",
        "#We will consider only those waypoints which were present in the original data\n",
        "#to calculate error and we will reject interpolated values which were introduced by us \n",
        "import math\n",
        "sum_of_error=0\n",
        "sum_sq_error=0\n",
        "count=0\n",
        "test_predicted=pred_df2[['X_up_limit','Y_up_limit']].values\n",
        "for i in range(len(test_seq_wp)):\n",
        "  for j in range(len(test_seq_wp[i])):\n",
        "    if(test_seq_wp[i][j][2]==1):\n",
        "      sum_of_error+=math.sqrt(((test_predicted[i][0]-test_seq_wp[i][j][0])**2)+((test_predicted[i][1]-test_seq_wp[i][j][1])**2))\n",
        "      sum_sq_error+=((test_predicted[i][0]-test_seq_wp[i][j][0])**2)+((test_predicted[i][1]-test_seq_wp[i][j][1])**2)\n",
        "      count+=1\n",
        "\n",
        "\n",
        "MAE=sum_of_error/count\n",
        "RMSE=math.sqrt(sum_sq_error/count)\n",
        "print('MAE value is:',round(MAE,2))  \n",
        "print('RMSE value is:',round(RMSE,2))"
      ],
      "execution_count": null,
      "outputs": [
        {
          "output_type": "stream",
          "text": [
            "MAE value is: 19.09\n",
            "RMSE value is: 29.26\n"
          ],
          "name": "stdout"
        }
      ]
    }
  ]
}