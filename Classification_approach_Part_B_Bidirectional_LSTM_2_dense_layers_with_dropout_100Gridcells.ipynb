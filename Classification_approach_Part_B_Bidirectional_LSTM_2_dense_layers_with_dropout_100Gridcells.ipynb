{
  "nbformat": 4,
  "nbformat_minor": 0,
  "metadata": {
    "colab": {
      "name": "Part_B_classification_approach_Bidirectional_LSTM_2_dense_layers_with_dropout.ipynb",
      "provenance": [],
      "collapsed_sections": []
    },
    "kernelspec": {
      "display_name": "Python 3",
      "language": "python",
      "name": "python3"
    },
    "language_info": {
      "codemirror_mode": {
        "name": "ipython",
        "version": 3
      },
      "file_extension": ".py",
      "mimetype": "text/x-python",
      "name": "python",
      "nbconvert_exporter": "python",
      "pygments_lexer": "ipython3",
      "version": "3.8.5"
    }
  },
  "cells": [
    {
      "cell_type": "markdown",
      "metadata": {
        "id": "QktZ8WbxTv2T"
      },
      "source": [
        "## We have divided the problem into two parts\n",
        "(a) Predict the floor number\n",
        "(b) Predict the way points or location on that floor"
      ]
    },
    {
      "cell_type": "code",
      "metadata": {
        "id": "1f5bwMxmPWjQ"
      },
      "source": [
        "import pandas as pd\n",
        "import numpy as np\n",
        "%matplotlib inline\n",
        "import matplotlib.pyplot as plt\n",
        "from os import listdir\n",
        "from pathlib import Path\n",
        "pd.options.mode.chained_assignment = None  # default='warn'\n",
        "from dataclasses import dataclass\n",
        "from sklearn import preprocessing"
      ],
      "execution_count": null,
      "outputs": []
    },
    {
      "cell_type": "code",
      "metadata": {
        "id": "q6hAEaR6tmi9"
      },
      "source": [
        "import keras\n",
        "from keras.utils import to_categorical\n",
        "from keras.preprocessing import sequence\n",
        "import tensorflow as tf\n",
        "from keras.models import Sequential\n",
        "from keras.layers import Dense\n",
        "from keras.layers import LSTM\n",
        "from keras.optimizers import Adam\n",
        "from keras.models import load_model\n",
        "from keras.callbacks import ModelCheckpoint\n",
        "from keras.layers import Bidirectional"
      ],
      "execution_count": null,
      "outputs": []
    },
    {
      "cell_type": "code",
      "metadata": {
        "colab": {
          "base_uri": "https://localhost:8080/"
        },
        "id": "BfbMebYYWEIw",
        "outputId": "eebe3b6a-ad66-4d4a-feca-525d2f6a9e76"
      },
      "source": [
        "from google.colab import drive\n",
        "drive.mount('/content/drive')"
      ],
      "execution_count": null,
      "outputs": [
        {
          "output_type": "stream",
          "text": [
            "Mounted at /content/drive\n"
          ],
          "name": "stdout"
        }
      ]
    },
    {
      "cell_type": "code",
      "metadata": {
        "id": "XpKnmwl6M_3_"
      },
      "source": [
        "#Function to connect waypoint coordinates with straight lines\n",
        "#This will be used for second part of project.We will discuss about this later.\n",
        "def connect_waypoints(wp_df):\n",
        "  if(wp_df.at[0,'waypoint_val1']==''):\n",
        "    wp_df.at[0,'waypoint_val1']=0\n",
        "  if(wp_df.at[0,'waypoint_val2']==''):\n",
        "    wp_df.at[0,'waypoint_val2']=0  \n",
        "  j=0\n",
        "  i=0\n",
        "  last=0\n",
        "  #print(wp_df.head(5))\n",
        "  while i < (len(wp_df)-1):\n",
        "    j=i+1\n",
        "    while((wp_df.at[j,'waypoint_val1']==0) and (wp_df.at[j,'waypoint_val2']==0) ):\n",
        "      if(j==len(wp_df)-1):\n",
        "        wp_df.at[j,'waypoint_val1']=wp_df.at[i,'waypoint_val1']\n",
        "        wp_df.at[j,'waypoint_val2']=wp_df.at[i,'waypoint_val2']\n",
        "        last=1\n",
        "        break\n",
        "      j+=1\n",
        "    temp_arrayx=np.linspace(wp_df.at[i,'waypoint_val1'],wp_df.at[j,'waypoint_val1'], num=j-i+1)\n",
        "    temp_arrayy=np.linspace(wp_df.at[i,'waypoint_val2'],wp_df.at[j,'waypoint_val2'], num=j-i+1)\n",
        "    #print(temp_arrayx)\n",
        "    m=0\n",
        "    for k in range(i,j+1):\n",
        "      wp_df.at[k,'waypoint_val1']=temp_arrayx[m]\n",
        "      wp_df.at[k,'waypoint_val2']=temp_arrayy[m]\n",
        "      #For final comparison of our predicted location, we will need to mark which waypoints were in original data before connecting them\n",
        "      #print('k=',k,'i=',i,'j=',j)\n",
        "      if((k==i) and (last==0)):\n",
        "        wp_df.at[k,'interpolated']=1 #original waypoints\n",
        "      else:\n",
        "        wp_df.at[k,'interpolated']=0  #interpolated waypoints\n",
        "      m+=1\n",
        "    i=j\n",
        "  return wp_df     \n"
      ],
      "execution_count": null,
      "outputs": []
    },
    {
      "cell_type": "code",
      "metadata": {
        "id": "hycBgmQSPWjX"
      },
      "source": [
        "# Function to extract arrays for each sensor with timeslots.\n",
        "# This particular function is modified from the function provided by the competition's github page at https://github.com/location-competition/indoor-location-competition-20/blob/master/io_f.py\n",
        "\n",
        "@dataclass\n",
        "class ReadData:\n",
        "    acce: np.ndarray\n",
        "    acce_uncali: np.ndarray\n",
        "    gyro: np.ndarray\n",
        "    gyro_uncali: np.ndarray\n",
        "    magn: np.ndarray\n",
        "    magn_uncali: np.ndarray\n",
        "    ahrs: np.ndarray\n",
        "    wifi: np.ndarray\n",
        "    ibeacon: np.ndarray\n",
        "    waypoint: np.ndarray\n",
        "\n",
        "\n",
        "def read_data_file(data_filename):\n",
        "    acce = []\n",
        "    acce_uncali = []\n",
        "    gyro = []\n",
        "    gyro_uncali = []\n",
        "    magn = []\n",
        "    magn_uncali = []\n",
        "    ahrs = []\n",
        "    wifi = []\n",
        "    ibeacon = []\n",
        "    waypoint = []\n",
        "    line_count=0\n",
        "    with open(data_filename, 'r', encoding='utf-8') as file:\n",
        "        lines = file.readlines()\n",
        "\n",
        "    for line_data in lines:\n",
        "        #line_count=line_count+1\n",
        "        #if(line_count>3000):\n",
        "        #  break\n",
        "        line_data = line_data.strip()\n",
        "        if not line_data or line_data[0] == '#':\n",
        "            continue\n",
        "\n",
        "        line_data = line_data.split('\\t')\n",
        "\n",
        "        if line_data[1] == 'TYPE_ACCELEROMETER':\n",
        "            acce.append([int(line_data[0]), float(line_data[2]), float(line_data[3]), float(line_data[4])])\n",
        "            continue\n",
        "\n",
        "        if line_data[1] == 'TYPE_ACCELEROMETER_UNCALIBRATED':\n",
        "            acce_uncali.append([int(line_data[0]), float(line_data[2]), float(line_data[3]), float(line_data[4])])\n",
        "            continue\n",
        "\n",
        "        if line_data[1] == 'TYPE_GYROSCOPE':\n",
        "            gyro.append([int(line_data[0]), float(line_data[2]), float(line_data[3]), float(line_data[4])])\n",
        "            continue\n",
        "\n",
        "        if line_data[1] == 'TYPE_GYROSCOPE_UNCALIBRATED':\n",
        "            gyro_uncali.append([int(line_data[0]), float(line_data[2]), float(line_data[3]), float(line_data[4])])\n",
        "            continue\n",
        "\n",
        "        if line_data[1] == 'TYPE_MAGNETIC_FIELD':\n",
        "            magn.append([int(line_data[0]), float(line_data[2]), float(line_data[3]), float(line_data[4])])\n",
        "            continue\n",
        "\n",
        "        if line_data[1] == 'TYPE_MAGNETIC_FIELD_UNCALIBRATED':\n",
        "            magn_uncali.append([int(line_data[0]), float(line_data[2]), float(line_data[3]), float(line_data[4])])\n",
        "            continue\n",
        "\n",
        "        if line_data[1] == 'TYPE_ROTATION_VECTOR':\n",
        "            ahrs.append([int(line_data[0]), float(line_data[2]), float(line_data[3]), float(line_data[4])])\n",
        "            continue\n",
        "\n",
        "        if line_data[1] == 'TYPE_WIFI':\n",
        "            sys_ts = int(line_data[0])\n",
        "            ssid = line_data[2]\n",
        "            bssid = line_data[3]\n",
        "            rssi = line_data[4]\n",
        "            lastseen_ts = line_data[6]\n",
        "            wifi_data = [sys_ts, ssid, bssid, rssi, lastseen_ts]\n",
        "            wifi.append(wifi_data)\n",
        "            continue\n",
        "\n",
        "        if line_data[1] == 'TYPE_BEACON':\n",
        "            ts = int(line_data[0])\n",
        "            uuid = line_data[2]\n",
        "            major = line_data[3]\n",
        "            minor = line_data[4]\n",
        "            rssi = line_data[6]\n",
        "            ibeacon_data = [ts, '_'.join([uuid, major, minor]), rssi]\n",
        "            ibeacon.append(ibeacon_data)\n",
        "            continue\n",
        "\n",
        "        if line_data[1] == 'TYPE_WAYPOINT':\n",
        "            waypoint.append([int(line_data[0]), float(line_data[2]), float(line_data[3])])\n",
        "\n",
        "    acce = np.array(acce,dtype=np.float)\n",
        "    acce_uncali = np.array(acce_uncali,dtype=np.float)\n",
        "    gyro = np.array(gyro,dtype=np.float)\n",
        "    gyro_uncali = np.array(gyro_uncali,dtype=np.float)\n",
        "    magn = np.array(magn,dtype=np.float)\n",
        "    magn_uncali = np.array(magn_uncali,dtype=np.float)\n",
        "    ahrs = np.array(ahrs)\n",
        "    wifi = np.array(wifi)\n",
        "    ibeacon = np.array(ibeacon)\n",
        "    waypoint = np.array(waypoint)\n",
        "\n",
        "    return ReadData(acce, acce_uncali, gyro, gyro_uncali, magn, magn_uncali, ahrs, wifi, ibeacon, waypoint)"
      ],
      "execution_count": null,
      "outputs": []
    },
    {
      "cell_type": "code",
      "metadata": {
        "id": "FpAoHhUmPWjb"
      },
      "source": [
        "#Function to go through all the files in the folder and return the sensor data \n",
        "# in the form of arrays\n",
        "@dataclass\n",
        "class trace:\n",
        "    sequence: np.ndarray\n",
        "    target_seq: np.ndarray\n",
        "    waypoint_seq: np.ndarray\n",
        "    wp_full_seq: np.ndarray\n",
        "\n",
        "def convert_to_df(file_path,floor,timeslots):\n",
        "    pathlist = Path(file_path).rglob('*.txt')\n",
        "    sequence = list()\n",
        "    target_seq=list()\n",
        "    waypoint_seq=list()\n",
        "    wp_full_seq=list()\n",
        "    path_id=1\n",
        "    floor_trace_df=pd.DataFrame()\n",
        "    for path in pathlist:\n",
        "         # because path is object not string\n",
        "        path_in_str = str(path)\n",
        "         # print(path_in_str)\n",
        "        trace_file = read_data_file(path_in_str)\n",
        "        trace_df=pd.DataFrame()\n",
        "        if(trace_file.acce.size):\n",
        "            acce_df=pd.DataFrame(trace_file.acce, columns=['Timestamp','acce_val1','acce_val2','acce_val3'])\n",
        "        if(trace_file.acce_uncali.size):\n",
        "            acce__uncal_df=pd.DataFrame(trace_file.acce_uncali, columns=['Timestamp','acce_uncal_val1','acce_uncal_val2','acce_uncal_val3'])   \n",
        "        if(trace_file.gyro.size):\n",
        "            gyro_df=pd.DataFrame(trace_file.gyro, columns=['Timestamp','gyro_val1','gyro_val2','gyro_val3'])\n",
        "        if(trace_file.gyro_uncali.size):\n",
        "            gyro_uncal_df=pd.DataFrame(trace_file.gyro_uncali, columns=['Timestamp','gyro_uncal_val1','gyro_uncal_val2','gyro_uncal_val3'])\n",
        "        if(trace_file.magn.size):\n",
        "            magn_df=pd.DataFrame(trace_file.magn, columns=['Timestamp','magn_val1','magn_val2','magn_val3'])\n",
        "        if(trace_file.magn_uncali.size):\n",
        "            magn_uncal_df=pd.DataFrame(trace_file.magn_uncali, columns=['Timestamp','magn_uncal_val1','magn_uncal_val2','magn_uncal_val3'])\n",
        "        if(trace_file.ahrs.size):\n",
        "            rot_df=pd.DataFrame(trace_file.ahrs, columns=['Timestamp','rot_val1','rot_val2','rot_val3'])           \n",
        "        if(trace_file.wifi.size):\n",
        "            wifi_df=pd.DataFrame(trace_file.wifi, columns=['Timestamp','wifi_val1','wifi_val2','wifi_val3','wifi_val4']) \n",
        "        if(trace_file.ibeacon.size):\n",
        "            ibeacon_df=pd.DataFrame(trace_file.ibeacon, columns=['Timestamp','ibeacon_val1','ibeacon_val2'])    \n",
        "        if(trace_file.waypoint.size):\n",
        "            waypoint_df=pd.DataFrame(trace_file.waypoint, columns=['Timestamp','waypoint_val1','waypoint_val2'])\n",
        "        \n",
        "        #change data type of wifi dataframe timestamp and ibeacon timestamp\n",
        "        wifi_df[\"Timestamp\"] = wifi_df.Timestamp.astype(float)\n",
        "        ibeacon_df[\"Timestamp\"] = ibeacon_df.Timestamp.astype(float)\n",
        "        trace_df = pd.merge(acce_df, acce__uncal_df, on='Timestamp', how='outer')\n",
        "        trace_df = pd.merge(trace_df, gyro_df, on='Timestamp', how='outer')\n",
        "        trace_df = pd.merge(trace_df, gyro_uncal_df, on='Timestamp', how='outer')\n",
        "        trace_df = pd.merge(trace_df, magn_df, on='Timestamp', how='outer')\n",
        "        trace_df = pd.merge(trace_df, magn_uncal_df, on='Timestamp', how='outer')\n",
        "        trace_df = pd.merge(trace_df, rot_df, on='Timestamp', how='outer')\n",
        "        trace_df = pd.merge(trace_df, wifi_df, on='Timestamp', how='outer')\n",
        "        trace_df = pd.merge(trace_df, ibeacon_df, on='Timestamp', how='outer')\n",
        "        trace_df = pd.merge(trace_df, waypoint_df, on='Timestamp', how='outer')\n",
        "        ###### Cast time stamp to integer\n",
        "        trace_df[\"Timestamp\"] = trace_df.Timestamp.astype(int)\n",
        "\n",
        "        # sorting by Timestamp and deleting duplicate timeslots \n",
        "        \n",
        "        trace_df.sort_values(\"Timestamp\", inplace = True)\n",
        "        trace_df = trace_df.reset_index(drop=True)\n",
        "        trace_df.drop_duplicates(subset=\"Timestamp\",keep=False, inplace=True)\n",
        "        trace_df = trace_df.reset_index(drop=True)\n",
        "        \n",
        "        trace_df=trace_df.replace(np.nan,0)\n",
        "\n",
        "        #keep only top 200 rows in one sequence     \n",
        "        #trace_df=trace_df.head(200)\n",
        "\n",
        "        #for i in range(0,len(trace_df)):\n",
        "         # trace_df.at[i,'Timestamp']=i\n",
        "        \n",
        "        #trace_df['time_index'] = trace_df.index\n",
        "        #print(trace_df.head())\n",
        "        #trace_df['floor_name']=floor\n",
        "        #trace_df['path_id']=floor+path_id\n",
        "        #path_id=path_id+1\n",
        "        #trace_df['wifi_df'].fillna(0)\n",
        "        #trace_df['ibeacon_df'].fillna(0)\n",
        "        #trace_df['wifi_df'].fillna(0)\n",
        "        \n",
        "\n",
        "        wp_df = trace_df[['waypoint_val1', 'waypoint_val2']].copy()\n",
        "        wp_df=connect_waypoints(wp_df)\n",
        "        wp_values=wp_df.values\n",
        "        #Removing text based fields in dataframe\n",
        "        trace_df=trace_df.drop(['Timestamp'], axis=1)\n",
        "        trace_df=trace_df.drop(['wifi_val1'], axis=1)\n",
        "        trace_df=trace_df.drop(['wifi_val2'], axis=1)\n",
        "        trace_df=trace_df.drop(['ibeacon_val1'], axis=1)\n",
        "        trace_df.astype('float32')        \n",
        "        trace_df=trace_df.drop(['waypoint_val1','waypoint_val2'], axis=1)\n",
        "        #floor_trace_df=floor_trace_df.append(trace_df)\n",
        "        values = trace_df.values \n",
        "\n",
        "\n",
        "        \n",
        "\n",
        "\n",
        "        #Now split sequence into required number of timeslots\n",
        "        l=int(len(values)/timeslots)\n",
        "        k=0\n",
        "        for m in range(l):\n",
        "          s_temp=values[k:k+timeslots]\n",
        "          wp_temp=wp_values[k:k+timeslots]\n",
        "          #Normalize\n",
        "          #min_max_scaler = preprocessing.MinMaxScaler()\n",
        "          #s_scaled = min_max_scaler.fit_transform(s_temp)\n",
        "          sequence.append(s_temp)\n",
        "          wp_full_seq.append(wp_temp)\n",
        "          target_seq.append(floor)\n",
        "          wp_temp=wp_df.iloc[k:k+timeslots,0:]\n",
        "          wp_temp=wp_temp.reset_index(drop=True)\n",
        "          #wp_temp=connect_waypoints(wp_temp)\n",
        "        #Now after connecting the waypoints, the avearge has become a wieghted average in time series\n",
        "          wp_avg_x=wp_temp['waypoint_val1'].mean()\n",
        "          wp_avg_y=wp_temp['waypoint_val2'].mean()\n",
        "        #maximum and minimum will be useful in second part\n",
        "          wp_max_x=wp_temp['waypoint_val1'].max()\n",
        "          wp_min_x=wp_temp['waypoint_val1'].min()\n",
        "          wp_max_y=wp_temp['waypoint_val2'].max()\n",
        "          wp_min_y=wp_temp['waypoint_val2'].min()\n",
        "          \n",
        "          waypoint_seq.append([wp_avg_x,wp_avg_y,wp_max_x,wp_min_x,wp_max_y,wp_min_y])\n",
        "          k+=timeslots\n",
        "\n",
        "    return trace(sequence,target_seq,waypoint_seq,wp_full_seq)"
      ],
      "execution_count": null,
      "outputs": []
    },
    {
      "cell_type": "code",
      "metadata": {
        "id": "RIHmyZk8PWje"
      },
      "source": [
        "#Extracting data for B1 floor only\n",
        "sequences = list()\n",
        "target_sequence=list()\n",
        "waypoint_sequence=list()\n",
        "waypoint_full_sequence=list()\n",
        "#floors_df=pd.DataFrame()\n",
        "file_path = '/content/drive/MyDrive/building1/data/B1'\n",
        "trace_values=(convert_to_df(file_path,0,5))\n",
        "sequences.extend(trace_values.sequence)\n",
        "target_sequence.extend(trace_values.target_seq)\n",
        "waypoint_sequence.extend(trace_values.waypoint_seq)\n",
        "waypoint_full_sequence.extend(trace_values.wp_full_seq)"
      ],
      "execution_count": null,
      "outputs": []
    },
    {
      "cell_type": "code",
      "metadata": {
        "colab": {
          "base_uri": "https://localhost:8080/"
        },
        "id": "z_7S8TmaPWje",
        "outputId": "e319afe6-e700-4f59-d5c0-e0efc18c6b84"
      },
      "source": [
        "print('Number of sequences',len(sequences))\n",
        "print('Number of targets',len(target_sequence))\n",
        "print('Number of timeslots in first sequence',(sequences[0].shape)[0])\n",
        "print('Number of timeslots in tenth sequence',(sequences[9].shape)[0])\n",
        "print('Number of timeslots in hundredth sequence',(sequences[99].shape)[0])"
      ],
      "execution_count": null,
      "outputs": [
        {
          "output_type": "stream",
          "text": [
            "Number of sequences 44943\n",
            "Number of targets 44943\n",
            "Number of timeslots in first sequence 5\n",
            "Number of timeslots in tenth sequence 5\n",
            "Number of timeslots in hundredth sequence 5\n"
          ],
          "name": "stdout"
        }
      ]
    },
    {
      "cell_type": "markdown",
      "metadata": {
        "id": "vo62w2LuQHNq"
      },
      "source": [
        "# Part 2 "
      ]
    },
    {
      "cell_type": "markdown",
      "metadata": {
        "id": "Qnk26WqnQJKY"
      },
      "source": [
        "### After knowing the floor, now we need to predict waypoints on that floor."
      ]
    },
    {
      "cell_type": "markdown",
      "metadata": {
        "id": "uGoxuEgijbH1"
      },
      "source": [
        "### We assume that floor B1 was predicted in first part. So, for this part we will only take data of floor B1."
      ]
    },
    {
      "cell_type": "code",
      "metadata": {
        "colab": {
          "base_uri": "https://localhost:8080/"
        },
        "id": "ISwnNpCoPWji",
        "outputId": "05a88738-52eb-49d2-9207-6cfc024bf3e8"
      },
      "source": [
        "len(waypoint_sequence)"
      ],
      "execution_count": null,
      "outputs": [
        {
          "output_type": "execute_result",
          "data": {
            "text/plain": [
              "44943"
            ]
          },
          "metadata": {
            "tags": []
          },
          "execution_count": 9
        }
      ]
    },
    {
      "cell_type": "code",
      "metadata": {
        "colab": {
          "base_uri": "https://localhost:8080/"
        },
        "id": "xXPijH_9Y8VR",
        "outputId": "310c9165-748c-4fd9-9225-a402d74889f6"
      },
      "source": [
        "len(sequences)"
      ],
      "execution_count": null,
      "outputs": [
        {
          "output_type": "execute_result",
          "data": {
            "text/plain": [
              "44943"
            ]
          },
          "metadata": {
            "tags": []
          },
          "execution_count": 40
        }
      ]
    },
    {
      "cell_type": "code",
      "metadata": {
        "colab": {
          "base_uri": "https://localhost:8080/"
        },
        "id": "ZvxwS2mkjomJ",
        "outputId": "6d3b7db9-fb5e-4557-ab1b-1ac73c5e4934"
      },
      "source": [
        "##We will divide the area into grids. But first we need to know the dimensions to work with\n",
        "wp_df = pd.DataFrame(waypoint_sequence, columns = ['avg_x','avg_y','max_x','min_x','max_y','min_y',])\n",
        "wp_df=wp_df.head(len(sequences))  #number of sequences for floor B1\n",
        "wp_df = wp_df.round(decimals=5)\n",
        "floor_max_x=wp_df['max_x'].max()\n",
        "floor_min_x=wp_df['min_x'].min()\n",
        "floor_max_y=wp_df['max_y'].max()\n",
        "floor_min_y=wp_df['min_y'].min()\n",
        "print(floor_max_x,floor_min_x,floor_max_y,floor_min_y)"
      ],
      "execution_count": null,
      "outputs": [
        {
          "output_type": "stream",
          "text": [
            "233.94418 36.63454 192.99721 75.00506\n"
          ],
          "name": "stdout"
        }
      ]
    },
    {
      "cell_type": "code",
      "metadata": {
        "id": "1QefxsOkmJDo"
      },
      "source": [
        "#Creating grid for labelling\n",
        "#We will create a 10X10 grid for 100 labels\n",
        "array_x=np.linspace(floor_min_x,floor_max_x,11)\n",
        "array_y=np.linspace(floor_min_y,floor_max_y,11)\n",
        "label=list()\n",
        "k=0\n",
        "for j in range(1,11):\n",
        "  for i in range(1,11):\n",
        "    label.append([array_x[i],array_y[j],k])\n",
        "    k+=1  "
      ],
      "execution_count": null,
      "outputs": []
    },
    {
      "cell_type": "code",
      "metadata": {
        "colab": {
          "base_uri": "https://localhost:8080/"
        },
        "id": "01lxZoqopST6",
        "outputId": "83bfdab3-ca54-4dd2-d2a3-9926ef49e403"
      },
      "source": [
        "#Now we need to give labels to our waypoints sequence on the basis of average waypoints\n",
        "print(wp_df.head())\n",
        "for i in range(len(wp_df)):\n",
        "  for j in range(len(label)):\n",
        "    if(wp_df.at[i,'avg_x']<=label[j][0]):\n",
        "       for p in range(len(label)):\n",
        "         if(wp_df.at[i,'avg_y']<=label[p][1]):\n",
        "           wp_df.at[i,'label']=label[j+p][2]\n",
        "           break\n",
        "       break    \n",
        "print(wp_df.head(20))           "
      ],
      "execution_count": null,
      "outputs": [
        {
          "output_type": "stream",
          "text": [
            "       avg_x      avg_y      max_x      min_x      max_y      min_y\n",
            "0  198.39353  163.51489  198.41872  198.36833  163.52063  163.50914\n",
            "1  198.45652  163.50052  198.48171  198.43132  163.50627  163.49478\n",
            "2  198.51951  163.48616  198.54471  198.49431  163.49191  163.48042\n",
            "3  198.58250  163.47180  198.60770  198.55730  163.47755  163.46606\n",
            "4  198.64549  163.45744  198.67069  198.62030  163.46318  163.45170\n",
            "        avg_x      avg_y      max_x      min_x      max_y      min_y  label\n",
            "0   198.39353  163.51489  198.41872  198.36833  163.52063  163.50914   78.0\n",
            "1   198.45652  163.50052  198.48171  198.43132  163.50627  163.49478   78.0\n",
            "2   198.51951  163.48616  198.54471  198.49431  163.49191  163.48042   78.0\n",
            "3   198.58250  163.47180  198.60770  198.55730  163.47755  163.46606   78.0\n",
            "4   198.64549  163.45744  198.67069  198.62030  163.46318  163.45170   78.0\n",
            "5   198.70848  163.44308  198.73368  198.68329  163.44882  163.43733   78.0\n",
            "6   198.77148  163.42872  198.79667  198.74628  163.43446  163.42297   78.0\n",
            "7   198.83447  163.41436  198.85966  198.80927  163.42010  163.40861   78.0\n",
            "8   198.89746  163.39999  198.92266  198.87226  163.40574  163.39425   78.0\n",
            "9   198.96045  163.38563  198.98565  198.93525  163.39138  163.37989   78.0\n",
            "10  199.02344  163.37127  199.04864  198.99825  163.37702  163.36553   78.0\n",
            "11  199.08643  163.35691  199.11163  199.06124  163.36266  163.35117   78.0\n",
            "12  199.14942  163.34255  199.17462  199.12423  163.34829  163.33680   78.0\n",
            "13  199.21242  163.32819  199.23761  199.18722  163.33393  163.32244   78.0\n",
            "14  199.27541  163.31383  199.30060  199.25021  163.31957  163.30808   78.0\n",
            "15  199.33840  163.29947  199.36360  199.31320  163.30521  163.29372   78.0\n",
            "16  199.40139  163.28510  199.42659  199.37619  163.29085  163.27936   78.0\n",
            "17  199.46438  163.27074  199.48958  199.43919  163.27649  163.26500   78.0\n",
            "18  199.52737  163.25638  199.55257  199.50218  163.26213  163.25064   78.0\n",
            "19  199.59037  163.24202  199.61556  199.56517  163.24776  163.23628   78.0\n"
          ],
          "name": "stdout"
        }
      ]
    },
    {
      "cell_type": "code",
      "metadata": {
        "colab": {
          "base_uri": "https://localhost:8080/"
        },
        "id": "wB-6V2700gTq",
        "outputId": "31aea724-13d1-439e-c963-b417253c5e82"
      },
      "source": [
        "#Now we need to create new train, validation and test split for only building 1\n",
        "train_length=int(len(sequences)*0.7)\n",
        "val_length=int(len(sequences)*0.15)\n",
        "test_length=len(sequences)-train_length-val_length\n",
        "\n",
        "train_flags=np.full((train_length), 0)\n",
        "validation_flags=np.full((val_length), 1)\n",
        "test_flags=np.full((test_length), 2)\n",
        "\n",
        "flags=[]\n",
        "flags.extend(train_flags)\n",
        "flags.extend(validation_flags)\n",
        "flags.extend(test_flags)\n",
        "np.random.shuffle(flags)\n",
        "len(flags)"
      ],
      "execution_count": null,
      "outputs": [
        {
          "output_type": "execute_result",
          "data": {
            "text/plain": [
              "44943"
            ]
          },
          "metadata": {
            "tags": []
          },
          "execution_count": 13
        }
      ]
    },
    {
      "cell_type": "code",
      "metadata": {
        "colab": {
          "base_uri": "https://localhost:8080/"
        },
        "id": "QfUNUjSi3fu_",
        "outputId": "0f6842e5-e7a3-49d2-e119-93c8fda6a839"
      },
      "source": [
        "#Creating target sequence\n",
        "target_sequence2=wp_df['label'].values\n",
        "#Slice the sequence to get only floor B1 data\n",
        "sequences2=sequences[0:len(sequences)]\n",
        "target_sequence2=np.array(target_sequence2)\n",
        "target_sequence2"
      ],
      "execution_count": null,
      "outputs": [
        {
          "output_type": "execute_result",
          "data": {
            "text/plain": [
              "array([78., 78., 78., ..., 73., 73., 73.])"
            ]
          },
          "metadata": {
            "tags": []
          },
          "execution_count": 14
        }
      ]
    },
    {
      "cell_type": "code",
      "metadata": {
        "id": "PXaAAD281td9"
      },
      "source": [
        "train = [sequences2[i] for i in range(len(flags)) if (flags[i]==0)]\n",
        "validation = [sequences2[i] for i in range(len(flags)) if flags[i]==1]\n",
        "test = [sequences2[i] for i in range(len(flags)) if flags[i]==2]\n",
        "test_seq_wp=[waypoint_full_sequence[i] for i in range(len(flags)) if flags[i]==2]\n",
        "\n",
        "train_target = [target_sequence2[i] for i in range(len(flags)) if (flags[i]==0)]\n",
        "validation_target = [target_sequence2[i] for i in range(len(flags)) if flags[i]==1]\n",
        "test_target = [target_sequence2[i] for i in range(len(flags)) if flags[i]==2]\n",
        "train = np.array(train)\n",
        "validation = np.array(validation)\n",
        "test = np.array(test)\n",
        "\n",
        "train_target = np.array(train_target)\n",
        "train_target=to_categorical(train_target,num_classes = 100)\n",
        "\n",
        "validation_target = np.array(validation_target)\n",
        "validation_target=to_categorical(validation_target,num_classes = 100)\n",
        "test_target = np.array(test_target)\n",
        "test_target=to_categorical(test_target,num_classes = 100)"
      ],
      "execution_count": null,
      "outputs": []
    },
    {
      "cell_type": "code",
      "metadata": {
        "colab": {
          "base_uri": "https://localhost:8080/"
        },
        "id": "yDFDCkPn-GDs",
        "outputId": "3266ba0a-94b2-4e6f-8bf8-404c41c5af0b"
      },
      "source": [
        "print(sequences2[0].shape)\n",
        "train_target[0]\n",
        "len(test_seq_wp)"
      ],
      "execution_count": null,
      "outputs": [
        {
          "output_type": "stream",
          "text": [
            "(5, 24)\n"
          ],
          "name": "stdout"
        },
        {
          "output_type": "execute_result",
          "data": {
            "text/plain": [
              "6742"
            ]
          },
          "metadata": {
            "tags": []
          },
          "execution_count": 16
        }
      ]
    },
    {
      "cell_type": "code",
      "metadata": {
        "id": "Clp7vzIBcMfP"
      },
      "source": [
        "train=tf.convert_to_tensor(train, np.float32)\n",
        "train_target=tf.convert_to_tensor(train_target, np.float32)\n",
        "validation=tf.convert_to_tensor(validation, np.float32)\n",
        "validation_target=tf.convert_to_tensor(validation_target, np.float32)\n",
        "test=tf.convert_to_tensor(test, np.float32)\n",
        "test_target=tf.convert_to_tensor(test_target, np.float32)"
      ],
      "execution_count": null,
      "outputs": []
    },
    {
      "cell_type": "code",
      "metadata": {
        "colab": {
          "base_uri": "https://localhost:8080/"
        },
        "id": "Vlq3I9B0C9HQ",
        "outputId": "fafe4366-d0f1-4261-e257-df6f2d38c92c"
      },
      "source": [
        "#Trial with 100 grid cells \n",
        "from keras.layers import Dropout\n",
        "seq_len = 5\n",
        "seq_bredth=24\n",
        "model = Sequential()\n",
        "model.add(Bidirectional(LSTM(256,return_sequences=True),input_shape=(seq_len, seq_bredth),merge_mode='concat'))\n",
        "model.add(Dropout(0.2))\n",
        "model.add(LSTM(256, input_shape=(3, 512)))\n",
        "model.add(Dropout(0.2))\n",
        "model.add(Dense(128, activation='relu'))\n",
        "model.add(Dropout(0.2))\n",
        "model.add(Dense(100, activation='softmax'))\n",
        "model.summary()"
      ],
      "execution_count": null,
      "outputs": [
        {
          "output_type": "stream",
          "text": [
            "Model: \"sequential\"\n",
            "_________________________________________________________________\n",
            "Layer (type)                 Output Shape              Param #   \n",
            "=================================================================\n",
            "bidirectional (Bidirectional (None, 5, 512)            575488    \n",
            "_________________________________________________________________\n",
            "dropout (Dropout)            (None, 5, 512)            0         \n",
            "_________________________________________________________________\n",
            "lstm_1 (LSTM)                (None, 256)               787456    \n",
            "_________________________________________________________________\n",
            "dropout_1 (Dropout)          (None, 256)               0         \n",
            "_________________________________________________________________\n",
            "dense (Dense)                (None, 128)               32896     \n",
            "_________________________________________________________________\n",
            "dropout_2 (Dropout)          (None, 128)               0         \n",
            "_________________________________________________________________\n",
            "dense_1 (Dense)              (None, 100)               12900     \n",
            "=================================================================\n",
            "Total params: 1,408,740\n",
            "Trainable params: 1,408,740\n",
            "Non-trainable params: 0\n",
            "_________________________________________________________________\n"
          ],
          "name": "stdout"
        }
      ]
    },
    {
      "cell_type": "code",
      "metadata": {
        "colab": {
          "base_uri": "https://localhost:8080/"
        },
        "id": "8QzFV7hnDMyS",
        "outputId": "561c0d0d-65e3-4b45-cc5b-eb5dd610d4e7"
      },
      "source": [
        "#This is 100 cells simple LSTM\n",
        "adam = Adam(lr=0.001)\n",
        "checkpoint_filepath = '/content/drive/MyDrive/building1/26March5slots_200epochs_biDirLSTMDoubleDenseDropout/best_model.pkl'\n",
        "chk = ModelCheckpoint(filepath=checkpoint_filepath, monitor='val_accuracy', save_best_only=True, mode='max', verbose=1)\n",
        "model.compile(loss='categorical_crossentropy', optimizer=adam, metrics=['accuracy'])\n",
        "history=model.fit(train, train_target, epochs=200, batch_size=128, callbacks=[chk], validation_data=(validation,validation_target))"
      ],
      "execution_count": null,
      "outputs": [
        {
          "output_type": "stream",
          "text": [
            "Epoch 1/200\n",
            "246/246 [==============================] - 48s 174ms/step - loss: 3.6314 - accuracy: 0.0999 - val_loss: 2.5799 - val_accuracy: 0.2483\n",
            "\n",
            "Epoch 00001: val_accuracy improved from -inf to 0.24833, saving model to /content/drive/MyDrive/building1/26March5slots_200epochs_biDirLSTMDoubleDenseDropout/best_model.pkl\n"
          ],
          "name": "stdout"
        },
        {
          "output_type": "stream",
          "text": [
            "WARNING:absl:Found untraced functions such as lstm_cell_3_layer_call_and_return_conditional_losses, lstm_cell_3_layer_call_fn, lstm_cell_1_layer_call_and_return_conditional_losses, lstm_cell_1_layer_call_fn, lstm_cell_2_layer_call_and_return_conditional_losses while saving (showing 5 of 15). These functions will not be directly callable after loading.\n",
            "WARNING:absl:Found untraced functions such as lstm_cell_3_layer_call_and_return_conditional_losses, lstm_cell_3_layer_call_fn, lstm_cell_1_layer_call_and_return_conditional_losses, lstm_cell_1_layer_call_fn, lstm_cell_2_layer_call_and_return_conditional_losses while saving (showing 5 of 15). These functions will not be directly callable after loading.\n"
          ],
          "name": "stderr"
        },
        {
          "output_type": "stream",
          "text": [
            "INFO:tensorflow:Assets written to: /content/drive/MyDrive/building1/26March5slots_200epochs_biDirLSTMDoubleDenseDropout/best_model.pkl/assets\n"
          ],
          "name": "stdout"
        },
        {
          "output_type": "stream",
          "text": [
            "INFO:tensorflow:Assets written to: /content/drive/MyDrive/building1/26March5slots_200epochs_biDirLSTMDoubleDenseDropout/best_model.pkl/assets\n"
          ],
          "name": "stderr"
        },
        {
          "output_type": "stream",
          "text": [
            "Epoch 2/200\n",
            "246/246 [==============================] - 42s 169ms/step - loss: 2.4043 - accuracy: 0.2692 - val_loss: 1.8128 - val_accuracy: 0.4047\n",
            "\n",
            "Epoch 00002: val_accuracy improved from 0.24833 to 0.40469, saving model to /content/drive/MyDrive/building1/26March5slots_200epochs_biDirLSTMDoubleDenseDropout/best_model.pkl\n"
          ],
          "name": "stdout"
        },
        {
          "output_type": "stream",
          "text": [
            "WARNING:absl:Found untraced functions such as lstm_cell_3_layer_call_and_return_conditional_losses, lstm_cell_3_layer_call_fn, lstm_cell_1_layer_call_and_return_conditional_losses, lstm_cell_1_layer_call_fn, lstm_cell_2_layer_call_and_return_conditional_losses while saving (showing 5 of 15). These functions will not be directly callable after loading.\n",
            "WARNING:absl:Found untraced functions such as lstm_cell_3_layer_call_and_return_conditional_losses, lstm_cell_3_layer_call_fn, lstm_cell_1_layer_call_and_return_conditional_losses, lstm_cell_1_layer_call_fn, lstm_cell_2_layer_call_and_return_conditional_losses while saving (showing 5 of 15). These functions will not be directly callable after loading.\n"
          ],
          "name": "stderr"
        },
        {
          "output_type": "stream",
          "text": [
            "INFO:tensorflow:Assets written to: /content/drive/MyDrive/building1/26March5slots_200epochs_biDirLSTMDoubleDenseDropout/best_model.pkl/assets\n"
          ],
          "name": "stdout"
        },
        {
          "output_type": "stream",
          "text": [
            "INFO:tensorflow:Assets written to: /content/drive/MyDrive/building1/26March5slots_200epochs_biDirLSTMDoubleDenseDropout/best_model.pkl/assets\n"
          ],
          "name": "stderr"
        },
        {
          "output_type": "stream",
          "text": [
            "Epoch 3/200\n",
            "246/246 [==============================] - 42s 171ms/step - loss: 1.8988 - accuracy: 0.3727 - val_loss: 1.6011 - val_accuracy: 0.4415\n",
            "\n",
            "Epoch 00003: val_accuracy improved from 0.40469 to 0.44148, saving model to /content/drive/MyDrive/building1/26March5slots_200epochs_biDirLSTMDoubleDenseDropout/best_model.pkl\n"
          ],
          "name": "stdout"
        },
        {
          "output_type": "stream",
          "text": [
            "WARNING:absl:Found untraced functions such as lstm_cell_3_layer_call_and_return_conditional_losses, lstm_cell_3_layer_call_fn, lstm_cell_1_layer_call_and_return_conditional_losses, lstm_cell_1_layer_call_fn, lstm_cell_2_layer_call_and_return_conditional_losses while saving (showing 5 of 15). These functions will not be directly callable after loading.\n",
            "WARNING:absl:Found untraced functions such as lstm_cell_3_layer_call_and_return_conditional_losses, lstm_cell_3_layer_call_fn, lstm_cell_1_layer_call_and_return_conditional_losses, lstm_cell_1_layer_call_fn, lstm_cell_2_layer_call_and_return_conditional_losses while saving (showing 5 of 15). These functions will not be directly callable after loading.\n"
          ],
          "name": "stderr"
        },
        {
          "output_type": "stream",
          "text": [
            "INFO:tensorflow:Assets written to: /content/drive/MyDrive/building1/26March5slots_200epochs_biDirLSTMDoubleDenseDropout/best_model.pkl/assets\n"
          ],
          "name": "stdout"
        },
        {
          "output_type": "stream",
          "text": [
            "INFO:tensorflow:Assets written to: /content/drive/MyDrive/building1/26March5slots_200epochs_biDirLSTMDoubleDenseDropout/best_model.pkl/assets\n"
          ],
          "name": "stderr"
        },
        {
          "output_type": "stream",
          "text": [
            "Epoch 4/200\n",
            "246/246 [==============================] - 42s 172ms/step - loss: 1.6934 - accuracy: 0.4296 - val_loss: 1.4623 - val_accuracy: 0.4882\n",
            "\n",
            "Epoch 00004: val_accuracy improved from 0.44148 to 0.48821, saving model to /content/drive/MyDrive/building1/26March5slots_200epochs_biDirLSTMDoubleDenseDropout/best_model.pkl\n"
          ],
          "name": "stdout"
        },
        {
          "output_type": "stream",
          "text": [
            "WARNING:absl:Found untraced functions such as lstm_cell_3_layer_call_and_return_conditional_losses, lstm_cell_3_layer_call_fn, lstm_cell_1_layer_call_and_return_conditional_losses, lstm_cell_1_layer_call_fn, lstm_cell_2_layer_call_and_return_conditional_losses while saving (showing 5 of 15). These functions will not be directly callable after loading.\n",
            "WARNING:absl:Found untraced functions such as lstm_cell_3_layer_call_and_return_conditional_losses, lstm_cell_3_layer_call_fn, lstm_cell_1_layer_call_and_return_conditional_losses, lstm_cell_1_layer_call_fn, lstm_cell_2_layer_call_and_return_conditional_losses while saving (showing 5 of 15). These functions will not be directly callable after loading.\n"
          ],
          "name": "stderr"
        },
        {
          "output_type": "stream",
          "text": [
            "INFO:tensorflow:Assets written to: /content/drive/MyDrive/building1/26March5slots_200epochs_biDirLSTMDoubleDenseDropout/best_model.pkl/assets\n"
          ],
          "name": "stdout"
        },
        {
          "output_type": "stream",
          "text": [
            "INFO:tensorflow:Assets written to: /content/drive/MyDrive/building1/26March5slots_200epochs_biDirLSTMDoubleDenseDropout/best_model.pkl/assets\n"
          ],
          "name": "stderr"
        },
        {
          "output_type": "stream",
          "text": [
            "Epoch 5/200\n",
            "246/246 [==============================] - 42s 171ms/step - loss: 1.5420 - accuracy: 0.4645 - val_loss: 1.3325 - val_accuracy: 0.5305\n",
            "\n",
            "Epoch 00005: val_accuracy improved from 0.48821 to 0.53049, saving model to /content/drive/MyDrive/building1/26March5slots_200epochs_biDirLSTMDoubleDenseDropout/best_model.pkl\n"
          ],
          "name": "stdout"
        },
        {
          "output_type": "stream",
          "text": [
            "WARNING:absl:Found untraced functions such as lstm_cell_3_layer_call_and_return_conditional_losses, lstm_cell_3_layer_call_fn, lstm_cell_1_layer_call_and_return_conditional_losses, lstm_cell_1_layer_call_fn, lstm_cell_2_layer_call_and_return_conditional_losses while saving (showing 5 of 15). These functions will not be directly callable after loading.\n",
            "WARNING:absl:Found untraced functions such as lstm_cell_3_layer_call_and_return_conditional_losses, lstm_cell_3_layer_call_fn, lstm_cell_1_layer_call_and_return_conditional_losses, lstm_cell_1_layer_call_fn, lstm_cell_2_layer_call_and_return_conditional_losses while saving (showing 5 of 15). These functions will not be directly callable after loading.\n"
          ],
          "name": "stderr"
        },
        {
          "output_type": "stream",
          "text": [
            "INFO:tensorflow:Assets written to: /content/drive/MyDrive/building1/26March5slots_200epochs_biDirLSTMDoubleDenseDropout/best_model.pkl/assets\n"
          ],
          "name": "stdout"
        },
        {
          "output_type": "stream",
          "text": [
            "INFO:tensorflow:Assets written to: /content/drive/MyDrive/building1/26March5slots_200epochs_biDirLSTMDoubleDenseDropout/best_model.pkl/assets\n"
          ],
          "name": "stderr"
        },
        {
          "output_type": "stream",
          "text": [
            "Epoch 6/200\n",
            "246/246 [==============================] - 43s 173ms/step - loss: 1.4479 - accuracy: 0.4899 - val_loss: 1.2412 - val_accuracy: 0.5567\n",
            "\n",
            "Epoch 00006: val_accuracy improved from 0.53049 to 0.55674, saving model to /content/drive/MyDrive/building1/26March5slots_200epochs_biDirLSTMDoubleDenseDropout/best_model.pkl\n"
          ],
          "name": "stdout"
        },
        {
          "output_type": "stream",
          "text": [
            "WARNING:absl:Found untraced functions such as lstm_cell_3_layer_call_and_return_conditional_losses, lstm_cell_3_layer_call_fn, lstm_cell_1_layer_call_and_return_conditional_losses, lstm_cell_1_layer_call_fn, lstm_cell_2_layer_call_and_return_conditional_losses while saving (showing 5 of 15). These functions will not be directly callable after loading.\n",
            "WARNING:absl:Found untraced functions such as lstm_cell_3_layer_call_and_return_conditional_losses, lstm_cell_3_layer_call_fn, lstm_cell_1_layer_call_and_return_conditional_losses, lstm_cell_1_layer_call_fn, lstm_cell_2_layer_call_and_return_conditional_losses while saving (showing 5 of 15). These functions will not be directly callable after loading.\n"
          ],
          "name": "stderr"
        },
        {
          "output_type": "stream",
          "text": [
            "INFO:tensorflow:Assets written to: /content/drive/MyDrive/building1/26March5slots_200epochs_biDirLSTMDoubleDenseDropout/best_model.pkl/assets\n"
          ],
          "name": "stdout"
        },
        {
          "output_type": "stream",
          "text": [
            "INFO:tensorflow:Assets written to: /content/drive/MyDrive/building1/26March5slots_200epochs_biDirLSTMDoubleDenseDropout/best_model.pkl/assets\n"
          ],
          "name": "stderr"
        },
        {
          "output_type": "stream",
          "text": [
            "Epoch 7/200\n",
            "246/246 [==============================] - 42s 171ms/step - loss: 1.3903 - accuracy: 0.5080 - val_loss: 1.2222 - val_accuracy: 0.5676\n",
            "\n",
            "Epoch 00007: val_accuracy improved from 0.55674 to 0.56757, saving model to /content/drive/MyDrive/building1/26March5slots_200epochs_biDirLSTMDoubleDenseDropout/best_model.pkl\n"
          ],
          "name": "stdout"
        },
        {
          "output_type": "stream",
          "text": [
            "WARNING:absl:Found untraced functions such as lstm_cell_3_layer_call_and_return_conditional_losses, lstm_cell_3_layer_call_fn, lstm_cell_1_layer_call_and_return_conditional_losses, lstm_cell_1_layer_call_fn, lstm_cell_2_layer_call_and_return_conditional_losses while saving (showing 5 of 15). These functions will not be directly callable after loading.\n",
            "WARNING:absl:Found untraced functions such as lstm_cell_3_layer_call_and_return_conditional_losses, lstm_cell_3_layer_call_fn, lstm_cell_1_layer_call_and_return_conditional_losses, lstm_cell_1_layer_call_fn, lstm_cell_2_layer_call_and_return_conditional_losses while saving (showing 5 of 15). These functions will not be directly callable after loading.\n"
          ],
          "name": "stderr"
        },
        {
          "output_type": "stream",
          "text": [
            "INFO:tensorflow:Assets written to: /content/drive/MyDrive/building1/26March5slots_200epochs_biDirLSTMDoubleDenseDropout/best_model.pkl/assets\n"
          ],
          "name": "stdout"
        },
        {
          "output_type": "stream",
          "text": [
            "INFO:tensorflow:Assets written to: /content/drive/MyDrive/building1/26March5slots_200epochs_biDirLSTMDoubleDenseDropout/best_model.pkl/assets\n"
          ],
          "name": "stderr"
        },
        {
          "output_type": "stream",
          "text": [
            "Epoch 8/200\n",
            "246/246 [==============================] - 43s 174ms/step - loss: 1.2813 - accuracy: 0.5425 - val_loss: 1.2254 - val_accuracy: 0.5593\n",
            "\n",
            "Epoch 00008: val_accuracy did not improve from 0.56757\n",
            "Epoch 9/200\n",
            "246/246 [==============================] - 42s 173ms/step - loss: 1.2378 - accuracy: 0.5571 - val_loss: 1.1060 - val_accuracy: 0.5944\n",
            "\n",
            "Epoch 00009: val_accuracy improved from 0.56757 to 0.59442, saving model to /content/drive/MyDrive/building1/26March5slots_200epochs_biDirLSTMDoubleDenseDropout/best_model.pkl\n"
          ],
          "name": "stdout"
        },
        {
          "output_type": "stream",
          "text": [
            "WARNING:absl:Found untraced functions such as lstm_cell_3_layer_call_and_return_conditional_losses, lstm_cell_3_layer_call_fn, lstm_cell_1_layer_call_and_return_conditional_losses, lstm_cell_1_layer_call_fn, lstm_cell_2_layer_call_and_return_conditional_losses while saving (showing 5 of 15). These functions will not be directly callable after loading.\n",
            "WARNING:absl:Found untraced functions such as lstm_cell_3_layer_call_and_return_conditional_losses, lstm_cell_3_layer_call_fn, lstm_cell_1_layer_call_and_return_conditional_losses, lstm_cell_1_layer_call_fn, lstm_cell_2_layer_call_and_return_conditional_losses while saving (showing 5 of 15). These functions will not be directly callable after loading.\n"
          ],
          "name": "stderr"
        },
        {
          "output_type": "stream",
          "text": [
            "INFO:tensorflow:Assets written to: /content/drive/MyDrive/building1/26March5slots_200epochs_biDirLSTMDoubleDenseDropout/best_model.pkl/assets\n"
          ],
          "name": "stdout"
        },
        {
          "output_type": "stream",
          "text": [
            "INFO:tensorflow:Assets written to: /content/drive/MyDrive/building1/26March5slots_200epochs_biDirLSTMDoubleDenseDropout/best_model.pkl/assets\n"
          ],
          "name": "stderr"
        },
        {
          "output_type": "stream",
          "text": [
            "Epoch 10/200\n",
            "246/246 [==============================] - 42s 172ms/step - loss: 1.1887 - accuracy: 0.5734 - val_loss: 1.1410 - val_accuracy: 0.5852\n",
            "\n",
            "Epoch 00010: val_accuracy did not improve from 0.59442\n",
            "Epoch 11/200\n",
            "246/246 [==============================] - 42s 172ms/step - loss: 1.1284 - accuracy: 0.5944 - val_loss: 1.0569 - val_accuracy: 0.6146\n",
            "\n",
            "Epoch 00011: val_accuracy improved from 0.59442 to 0.61460, saving model to /content/drive/MyDrive/building1/26March5slots_200epochs_biDirLSTMDoubleDenseDropout/best_model.pkl\n"
          ],
          "name": "stdout"
        },
        {
          "output_type": "stream",
          "text": [
            "WARNING:absl:Found untraced functions such as lstm_cell_3_layer_call_and_return_conditional_losses, lstm_cell_3_layer_call_fn, lstm_cell_1_layer_call_and_return_conditional_losses, lstm_cell_1_layer_call_fn, lstm_cell_2_layer_call_and_return_conditional_losses while saving (showing 5 of 15). These functions will not be directly callable after loading.\n",
            "WARNING:absl:Found untraced functions such as lstm_cell_3_layer_call_and_return_conditional_losses, lstm_cell_3_layer_call_fn, lstm_cell_1_layer_call_and_return_conditional_losses, lstm_cell_1_layer_call_fn, lstm_cell_2_layer_call_and_return_conditional_losses while saving (showing 5 of 15). These functions will not be directly callable after loading.\n"
          ],
          "name": "stderr"
        },
        {
          "output_type": "stream",
          "text": [
            "INFO:tensorflow:Assets written to: /content/drive/MyDrive/building1/26March5slots_200epochs_biDirLSTMDoubleDenseDropout/best_model.pkl/assets\n"
          ],
          "name": "stdout"
        },
        {
          "output_type": "stream",
          "text": [
            "INFO:tensorflow:Assets written to: /content/drive/MyDrive/building1/26March5slots_200epochs_biDirLSTMDoubleDenseDropout/best_model.pkl/assets\n"
          ],
          "name": "stderr"
        },
        {
          "output_type": "stream",
          "text": [
            "Epoch 12/200\n",
            "246/246 [==============================] - 42s 170ms/step - loss: 1.1065 - accuracy: 0.6026 - val_loss: 1.1280 - val_accuracy: 0.5935\n",
            "\n",
            "Epoch 00012: val_accuracy did not improve from 0.61460\n",
            "Epoch 13/200\n",
            "246/246 [==============================] - 42s 169ms/step - loss: 1.0860 - accuracy: 0.6095 - val_loss: 0.9939 - val_accuracy: 0.6325\n",
            "\n",
            "Epoch 00013: val_accuracy improved from 0.61460 to 0.63255, saving model to /content/drive/MyDrive/building1/26March5slots_200epochs_biDirLSTMDoubleDenseDropout/best_model.pkl\n"
          ],
          "name": "stdout"
        },
        {
          "output_type": "stream",
          "text": [
            "WARNING:absl:Found untraced functions such as lstm_cell_3_layer_call_and_return_conditional_losses, lstm_cell_3_layer_call_fn, lstm_cell_1_layer_call_and_return_conditional_losses, lstm_cell_1_layer_call_fn, lstm_cell_2_layer_call_and_return_conditional_losses while saving (showing 5 of 15). These functions will not be directly callable after loading.\n",
            "WARNING:absl:Found untraced functions such as lstm_cell_3_layer_call_and_return_conditional_losses, lstm_cell_3_layer_call_fn, lstm_cell_1_layer_call_and_return_conditional_losses, lstm_cell_1_layer_call_fn, lstm_cell_2_layer_call_and_return_conditional_losses while saving (showing 5 of 15). These functions will not be directly callable after loading.\n"
          ],
          "name": "stderr"
        },
        {
          "output_type": "stream",
          "text": [
            "INFO:tensorflow:Assets written to: /content/drive/MyDrive/building1/26March5slots_200epochs_biDirLSTMDoubleDenseDropout/best_model.pkl/assets\n"
          ],
          "name": "stdout"
        },
        {
          "output_type": "stream",
          "text": [
            "INFO:tensorflow:Assets written to: /content/drive/MyDrive/building1/26March5slots_200epochs_biDirLSTMDoubleDenseDropout/best_model.pkl/assets\n"
          ],
          "name": "stderr"
        },
        {
          "output_type": "stream",
          "text": [
            "Epoch 14/200\n",
            "246/246 [==============================] - 42s 170ms/step - loss: 1.0170 - accuracy: 0.6316 - val_loss: 1.0107 - val_accuracy: 0.6309\n",
            "\n",
            "Epoch 00014: val_accuracy did not improve from 0.63255\n",
            "Epoch 15/200\n",
            "246/246 [==============================] - 42s 171ms/step - loss: 1.0117 - accuracy: 0.6312 - val_loss: 1.0089 - val_accuracy: 0.6342\n",
            "\n",
            "Epoch 00015: val_accuracy improved from 0.63255 to 0.63418, saving model to /content/drive/MyDrive/building1/26March5slots_200epochs_biDirLSTMDoubleDenseDropout/best_model.pkl\n"
          ],
          "name": "stdout"
        },
        {
          "output_type": "stream",
          "text": [
            "WARNING:absl:Found untraced functions such as lstm_cell_3_layer_call_and_return_conditional_losses, lstm_cell_3_layer_call_fn, lstm_cell_1_layer_call_and_return_conditional_losses, lstm_cell_1_layer_call_fn, lstm_cell_2_layer_call_and_return_conditional_losses while saving (showing 5 of 15). These functions will not be directly callable after loading.\n",
            "WARNING:absl:Found untraced functions such as lstm_cell_3_layer_call_and_return_conditional_losses, lstm_cell_3_layer_call_fn, lstm_cell_1_layer_call_and_return_conditional_losses, lstm_cell_1_layer_call_fn, lstm_cell_2_layer_call_and_return_conditional_losses while saving (showing 5 of 15). These functions will not be directly callable after loading.\n"
          ],
          "name": "stderr"
        },
        {
          "output_type": "stream",
          "text": [
            "INFO:tensorflow:Assets written to: /content/drive/MyDrive/building1/26March5slots_200epochs_biDirLSTMDoubleDenseDropout/best_model.pkl/assets\n"
          ],
          "name": "stdout"
        },
        {
          "output_type": "stream",
          "text": [
            "INFO:tensorflow:Assets written to: /content/drive/MyDrive/building1/26March5slots_200epochs_biDirLSTMDoubleDenseDropout/best_model.pkl/assets\n"
          ],
          "name": "stderr"
        },
        {
          "output_type": "stream",
          "text": [
            "Epoch 16/200\n",
            "246/246 [==============================] - 42s 172ms/step - loss: 1.0750 - accuracy: 0.6185 - val_loss: 0.9586 - val_accuracy: 0.6547\n",
            "\n",
            "Epoch 00016: val_accuracy improved from 0.63418 to 0.65465, saving model to /content/drive/MyDrive/building1/26March5slots_200epochs_biDirLSTMDoubleDenseDropout/best_model.pkl\n"
          ],
          "name": "stdout"
        },
        {
          "output_type": "stream",
          "text": [
            "WARNING:absl:Found untraced functions such as lstm_cell_3_layer_call_and_return_conditional_losses, lstm_cell_3_layer_call_fn, lstm_cell_1_layer_call_and_return_conditional_losses, lstm_cell_1_layer_call_fn, lstm_cell_2_layer_call_and_return_conditional_losses while saving (showing 5 of 15). These functions will not be directly callable after loading.\n",
            "WARNING:absl:Found untraced functions such as lstm_cell_3_layer_call_and_return_conditional_losses, lstm_cell_3_layer_call_fn, lstm_cell_1_layer_call_and_return_conditional_losses, lstm_cell_1_layer_call_fn, lstm_cell_2_layer_call_and_return_conditional_losses while saving (showing 5 of 15). These functions will not be directly callable after loading.\n"
          ],
          "name": "stderr"
        },
        {
          "output_type": "stream",
          "text": [
            "INFO:tensorflow:Assets written to: /content/drive/MyDrive/building1/26March5slots_200epochs_biDirLSTMDoubleDenseDropout/best_model.pkl/assets\n"
          ],
          "name": "stdout"
        },
        {
          "output_type": "stream",
          "text": [
            "INFO:tensorflow:Assets written to: /content/drive/MyDrive/building1/26March5slots_200epochs_biDirLSTMDoubleDenseDropout/best_model.pkl/assets\n"
          ],
          "name": "stderr"
        },
        {
          "output_type": "stream",
          "text": [
            "Epoch 17/200\n",
            "246/246 [==============================] - 42s 172ms/step - loss: 0.9670 - accuracy: 0.6500 - val_loss: 0.9131 - val_accuracy: 0.6643\n",
            "\n",
            "Epoch 00017: val_accuracy improved from 0.65465 to 0.66429, saving model to /content/drive/MyDrive/building1/26March5slots_200epochs_biDirLSTMDoubleDenseDropout/best_model.pkl\n"
          ],
          "name": "stdout"
        },
        {
          "output_type": "stream",
          "text": [
            "WARNING:absl:Found untraced functions such as lstm_cell_3_layer_call_and_return_conditional_losses, lstm_cell_3_layer_call_fn, lstm_cell_1_layer_call_and_return_conditional_losses, lstm_cell_1_layer_call_fn, lstm_cell_2_layer_call_and_return_conditional_losses while saving (showing 5 of 15). These functions will not be directly callable after loading.\n",
            "WARNING:absl:Found untraced functions such as lstm_cell_3_layer_call_and_return_conditional_losses, lstm_cell_3_layer_call_fn, lstm_cell_1_layer_call_and_return_conditional_losses, lstm_cell_1_layer_call_fn, lstm_cell_2_layer_call_and_return_conditional_losses while saving (showing 5 of 15). These functions will not be directly callable after loading.\n"
          ],
          "name": "stderr"
        },
        {
          "output_type": "stream",
          "text": [
            "INFO:tensorflow:Assets written to: /content/drive/MyDrive/building1/26March5slots_200epochs_biDirLSTMDoubleDenseDropout/best_model.pkl/assets\n"
          ],
          "name": "stdout"
        },
        {
          "output_type": "stream",
          "text": [
            "INFO:tensorflow:Assets written to: /content/drive/MyDrive/building1/26March5slots_200epochs_biDirLSTMDoubleDenseDropout/best_model.pkl/assets\n"
          ],
          "name": "stderr"
        },
        {
          "output_type": "stream",
          "text": [
            "Epoch 18/200\n",
            "246/246 [==============================] - 42s 171ms/step - loss: 0.9260 - accuracy: 0.6635 - val_loss: 0.9209 - val_accuracy: 0.6653\n",
            "\n",
            "Epoch 00018: val_accuracy improved from 0.66429 to 0.66533, saving model to /content/drive/MyDrive/building1/26March5slots_200epochs_biDirLSTMDoubleDenseDropout/best_model.pkl\n"
          ],
          "name": "stdout"
        },
        {
          "output_type": "stream",
          "text": [
            "WARNING:absl:Found untraced functions such as lstm_cell_3_layer_call_and_return_conditional_losses, lstm_cell_3_layer_call_fn, lstm_cell_1_layer_call_and_return_conditional_losses, lstm_cell_1_layer_call_fn, lstm_cell_2_layer_call_and_return_conditional_losses while saving (showing 5 of 15). These functions will not be directly callable after loading.\n",
            "WARNING:absl:Found untraced functions such as lstm_cell_3_layer_call_and_return_conditional_losses, lstm_cell_3_layer_call_fn, lstm_cell_1_layer_call_and_return_conditional_losses, lstm_cell_1_layer_call_fn, lstm_cell_2_layer_call_and_return_conditional_losses while saving (showing 5 of 15). These functions will not be directly callable after loading.\n"
          ],
          "name": "stderr"
        },
        {
          "output_type": "stream",
          "text": [
            "INFO:tensorflow:Assets written to: /content/drive/MyDrive/building1/26March5slots_200epochs_biDirLSTMDoubleDenseDropout/best_model.pkl/assets\n"
          ],
          "name": "stdout"
        },
        {
          "output_type": "stream",
          "text": [
            "INFO:tensorflow:Assets written to: /content/drive/MyDrive/building1/26March5slots_200epochs_biDirLSTMDoubleDenseDropout/best_model.pkl/assets\n"
          ],
          "name": "stderr"
        },
        {
          "output_type": "stream",
          "text": [
            "Epoch 19/200\n",
            "246/246 [==============================] - 42s 172ms/step - loss: 0.8959 - accuracy: 0.6696 - val_loss: 0.9197 - val_accuracy: 0.6630\n",
            "\n",
            "Epoch 00019: val_accuracy did not improve from 0.66533\n",
            "Epoch 20/200\n",
            "246/246 [==============================] - 42s 171ms/step - loss: 0.9040 - accuracy: 0.6731 - val_loss: 0.8979 - val_accuracy: 0.6701\n",
            "\n",
            "Epoch 00020: val_accuracy improved from 0.66533 to 0.67008, saving model to /content/drive/MyDrive/building1/26March5slots_200epochs_biDirLSTMDoubleDenseDropout/best_model.pkl\n"
          ],
          "name": "stdout"
        },
        {
          "output_type": "stream",
          "text": [
            "WARNING:absl:Found untraced functions such as lstm_cell_3_layer_call_and_return_conditional_losses, lstm_cell_3_layer_call_fn, lstm_cell_1_layer_call_and_return_conditional_losses, lstm_cell_1_layer_call_fn, lstm_cell_2_layer_call_and_return_conditional_losses while saving (showing 5 of 15). These functions will not be directly callable after loading.\n",
            "WARNING:absl:Found untraced functions such as lstm_cell_3_layer_call_and_return_conditional_losses, lstm_cell_3_layer_call_fn, lstm_cell_1_layer_call_and_return_conditional_losses, lstm_cell_1_layer_call_fn, lstm_cell_2_layer_call_and_return_conditional_losses while saving (showing 5 of 15). These functions will not be directly callable after loading.\n"
          ],
          "name": "stderr"
        },
        {
          "output_type": "stream",
          "text": [
            "INFO:tensorflow:Assets written to: /content/drive/MyDrive/building1/26March5slots_200epochs_biDirLSTMDoubleDenseDropout/best_model.pkl/assets\n"
          ],
          "name": "stdout"
        },
        {
          "output_type": "stream",
          "text": [
            "INFO:tensorflow:Assets written to: /content/drive/MyDrive/building1/26March5slots_200epochs_biDirLSTMDoubleDenseDropout/best_model.pkl/assets\n"
          ],
          "name": "stderr"
        },
        {
          "output_type": "stream",
          "text": [
            "Epoch 21/200\n",
            "246/246 [==============================] - 42s 172ms/step - loss: 0.8877 - accuracy: 0.6828 - val_loss: 0.9134 - val_accuracy: 0.6781\n",
            "\n",
            "Epoch 00021: val_accuracy improved from 0.67008 to 0.67809, saving model to /content/drive/MyDrive/building1/26March5slots_200epochs_biDirLSTMDoubleDenseDropout/best_model.pkl\n"
          ],
          "name": "stdout"
        },
        {
          "output_type": "stream",
          "text": [
            "WARNING:absl:Found untraced functions such as lstm_cell_3_layer_call_and_return_conditional_losses, lstm_cell_3_layer_call_fn, lstm_cell_1_layer_call_and_return_conditional_losses, lstm_cell_1_layer_call_fn, lstm_cell_2_layer_call_and_return_conditional_losses while saving (showing 5 of 15). These functions will not be directly callable after loading.\n",
            "WARNING:absl:Found untraced functions such as lstm_cell_3_layer_call_and_return_conditional_losses, lstm_cell_3_layer_call_fn, lstm_cell_1_layer_call_and_return_conditional_losses, lstm_cell_1_layer_call_fn, lstm_cell_2_layer_call_and_return_conditional_losses while saving (showing 5 of 15). These functions will not be directly callable after loading.\n"
          ],
          "name": "stderr"
        },
        {
          "output_type": "stream",
          "text": [
            "INFO:tensorflow:Assets written to: /content/drive/MyDrive/building1/26March5slots_200epochs_biDirLSTMDoubleDenseDropout/best_model.pkl/assets\n"
          ],
          "name": "stdout"
        },
        {
          "output_type": "stream",
          "text": [
            "INFO:tensorflow:Assets written to: /content/drive/MyDrive/building1/26March5slots_200epochs_biDirLSTMDoubleDenseDropout/best_model.pkl/assets\n"
          ],
          "name": "stderr"
        },
        {
          "output_type": "stream",
          "text": [
            "Epoch 22/200\n",
            "246/246 [==============================] - 42s 172ms/step - loss: 0.8427 - accuracy: 0.6942 - val_loss: 0.8546 - val_accuracy: 0.6953\n",
            "\n",
            "Epoch 00022: val_accuracy improved from 0.67809 to 0.69530, saving model to /content/drive/MyDrive/building1/26March5slots_200epochs_biDirLSTMDoubleDenseDropout/best_model.pkl\n"
          ],
          "name": "stdout"
        },
        {
          "output_type": "stream",
          "text": [
            "WARNING:absl:Found untraced functions such as lstm_cell_3_layer_call_and_return_conditional_losses, lstm_cell_3_layer_call_fn, lstm_cell_1_layer_call_and_return_conditional_losses, lstm_cell_1_layer_call_fn, lstm_cell_2_layer_call_and_return_conditional_losses while saving (showing 5 of 15). These functions will not be directly callable after loading.\n",
            "WARNING:absl:Found untraced functions such as lstm_cell_3_layer_call_and_return_conditional_losses, lstm_cell_3_layer_call_fn, lstm_cell_1_layer_call_and_return_conditional_losses, lstm_cell_1_layer_call_fn, lstm_cell_2_layer_call_and_return_conditional_losses while saving (showing 5 of 15). These functions will not be directly callable after loading.\n"
          ],
          "name": "stderr"
        },
        {
          "output_type": "stream",
          "text": [
            "INFO:tensorflow:Assets written to: /content/drive/MyDrive/building1/26March5slots_200epochs_biDirLSTMDoubleDenseDropout/best_model.pkl/assets\n"
          ],
          "name": "stdout"
        },
        {
          "output_type": "stream",
          "text": [
            "INFO:tensorflow:Assets written to: /content/drive/MyDrive/building1/26March5slots_200epochs_biDirLSTMDoubleDenseDropout/best_model.pkl/assets\n"
          ],
          "name": "stderr"
        },
        {
          "output_type": "stream",
          "text": [
            "Epoch 23/200\n",
            "246/246 [==============================] - 42s 171ms/step - loss: 0.8256 - accuracy: 0.6995 - val_loss: 0.9334 - val_accuracy: 0.6713\n",
            "\n",
            "Epoch 00023: val_accuracy did not improve from 0.69530\n",
            "Epoch 24/200\n",
            "246/246 [==============================] - 42s 171ms/step - loss: 0.8115 - accuracy: 0.7029 - val_loss: 0.8183 - val_accuracy: 0.7061\n",
            "\n",
            "Epoch 00024: val_accuracy improved from 0.69530 to 0.70613, saving model to /content/drive/MyDrive/building1/26March5slots_200epochs_biDirLSTMDoubleDenseDropout/best_model.pkl\n"
          ],
          "name": "stdout"
        },
        {
          "output_type": "stream",
          "text": [
            "WARNING:absl:Found untraced functions such as lstm_cell_3_layer_call_and_return_conditional_losses, lstm_cell_3_layer_call_fn, lstm_cell_1_layer_call_and_return_conditional_losses, lstm_cell_1_layer_call_fn, lstm_cell_2_layer_call_and_return_conditional_losses while saving (showing 5 of 15). These functions will not be directly callable after loading.\n",
            "WARNING:absl:Found untraced functions such as lstm_cell_3_layer_call_and_return_conditional_losses, lstm_cell_3_layer_call_fn, lstm_cell_1_layer_call_and_return_conditional_losses, lstm_cell_1_layer_call_fn, lstm_cell_2_layer_call_and_return_conditional_losses while saving (showing 5 of 15). These functions will not be directly callable after loading.\n"
          ],
          "name": "stderr"
        },
        {
          "output_type": "stream",
          "text": [
            "INFO:tensorflow:Assets written to: /content/drive/MyDrive/building1/26March5slots_200epochs_biDirLSTMDoubleDenseDropout/best_model.pkl/assets\n"
          ],
          "name": "stdout"
        },
        {
          "output_type": "stream",
          "text": [
            "INFO:tensorflow:Assets written to: /content/drive/MyDrive/building1/26March5slots_200epochs_biDirLSTMDoubleDenseDropout/best_model.pkl/assets\n"
          ],
          "name": "stderr"
        },
        {
          "output_type": "stream",
          "text": [
            "Epoch 25/200\n",
            "246/246 [==============================] - 43s 174ms/step - loss: 0.7881 - accuracy: 0.7080 - val_loss: 0.8339 - val_accuracy: 0.6971\n",
            "\n",
            "Epoch 00025: val_accuracy did not improve from 0.70613\n",
            "Epoch 26/200\n",
            "246/246 [==============================] - 42s 172ms/step - loss: 0.7641 - accuracy: 0.7191 - val_loss: 0.8131 - val_accuracy: 0.7029\n",
            "\n",
            "Epoch 00026: val_accuracy did not improve from 0.70613\n",
            "Epoch 27/200\n",
            "246/246 [==============================] - 42s 172ms/step - loss: 0.7280 - accuracy: 0.7291 - val_loss: 0.7758 - val_accuracy: 0.7204\n",
            "\n",
            "Epoch 00027: val_accuracy improved from 0.70613 to 0.72037, saving model to /content/drive/MyDrive/building1/26March5slots_200epochs_biDirLSTMDoubleDenseDropout/best_model.pkl\n"
          ],
          "name": "stdout"
        },
        {
          "output_type": "stream",
          "text": [
            "WARNING:absl:Found untraced functions such as lstm_cell_3_layer_call_and_return_conditional_losses, lstm_cell_3_layer_call_fn, lstm_cell_1_layer_call_and_return_conditional_losses, lstm_cell_1_layer_call_fn, lstm_cell_2_layer_call_and_return_conditional_losses while saving (showing 5 of 15). These functions will not be directly callable after loading.\n",
            "WARNING:absl:Found untraced functions such as lstm_cell_3_layer_call_and_return_conditional_losses, lstm_cell_3_layer_call_fn, lstm_cell_1_layer_call_and_return_conditional_losses, lstm_cell_1_layer_call_fn, lstm_cell_2_layer_call_and_return_conditional_losses while saving (showing 5 of 15). These functions will not be directly callable after loading.\n"
          ],
          "name": "stderr"
        },
        {
          "output_type": "stream",
          "text": [
            "INFO:tensorflow:Assets written to: /content/drive/MyDrive/building1/26March5slots_200epochs_biDirLSTMDoubleDenseDropout/best_model.pkl/assets\n"
          ],
          "name": "stdout"
        },
        {
          "output_type": "stream",
          "text": [
            "INFO:tensorflow:Assets written to: /content/drive/MyDrive/building1/26March5slots_200epochs_biDirLSTMDoubleDenseDropout/best_model.pkl/assets\n"
          ],
          "name": "stderr"
        },
        {
          "output_type": "stream",
          "text": [
            "Epoch 28/200\n",
            "246/246 [==============================] - 42s 172ms/step - loss: 0.7187 - accuracy: 0.7351 - val_loss: 0.8476 - val_accuracy: 0.6914\n",
            "\n",
            "Epoch 00028: val_accuracy did not improve from 0.72037\n",
            "Epoch 29/200\n",
            "246/246 [==============================] - 42s 170ms/step - loss: 0.7123 - accuracy: 0.7374 - val_loss: 0.8084 - val_accuracy: 0.7073\n",
            "\n",
            "Epoch 00029: val_accuracy did not improve from 0.72037\n",
            "Epoch 30/200\n",
            "246/246 [==============================] - 42s 171ms/step - loss: 0.7390 - accuracy: 0.7329 - val_loss: 0.7971 - val_accuracy: 0.7168\n",
            "\n",
            "Epoch 00030: val_accuracy did not improve from 0.72037\n",
            "Epoch 31/200\n",
            "246/246 [==============================] - 42s 172ms/step - loss: 0.6895 - accuracy: 0.7457 - val_loss: 0.8341 - val_accuracy: 0.7049\n",
            "\n",
            "Epoch 00031: val_accuracy did not improve from 0.72037\n",
            "Epoch 32/200\n",
            "246/246 [==============================] - 42s 171ms/step - loss: 0.6576 - accuracy: 0.7567 - val_loss: 0.8389 - val_accuracy: 0.6972\n",
            "\n",
            "Epoch 00032: val_accuracy did not improve from 0.72037\n",
            "Epoch 33/200\n",
            "246/246 [==============================] - 42s 171ms/step - loss: 0.6830 - accuracy: 0.7484 - val_loss: 0.7658 - val_accuracy: 0.7256\n",
            "\n",
            "Epoch 00033: val_accuracy improved from 0.72037 to 0.72556, saving model to /content/drive/MyDrive/building1/26March5slots_200epochs_biDirLSTMDoubleDenseDropout/best_model.pkl\n"
          ],
          "name": "stdout"
        },
        {
          "output_type": "stream",
          "text": [
            "WARNING:absl:Found untraced functions such as lstm_cell_3_layer_call_and_return_conditional_losses, lstm_cell_3_layer_call_fn, lstm_cell_1_layer_call_and_return_conditional_losses, lstm_cell_1_layer_call_fn, lstm_cell_2_layer_call_and_return_conditional_losses while saving (showing 5 of 15). These functions will not be directly callable after loading.\n",
            "WARNING:absl:Found untraced functions such as lstm_cell_3_layer_call_and_return_conditional_losses, lstm_cell_3_layer_call_fn, lstm_cell_1_layer_call_and_return_conditional_losses, lstm_cell_1_layer_call_fn, lstm_cell_2_layer_call_and_return_conditional_losses while saving (showing 5 of 15). These functions will not be directly callable after loading.\n"
          ],
          "name": "stderr"
        },
        {
          "output_type": "stream",
          "text": [
            "INFO:tensorflow:Assets written to: /content/drive/MyDrive/building1/26March5slots_200epochs_biDirLSTMDoubleDenseDropout/best_model.pkl/assets\n"
          ],
          "name": "stdout"
        },
        {
          "output_type": "stream",
          "text": [
            "INFO:tensorflow:Assets written to: /content/drive/MyDrive/building1/26March5slots_200epochs_biDirLSTMDoubleDenseDropout/best_model.pkl/assets\n"
          ],
          "name": "stderr"
        },
        {
          "output_type": "stream",
          "text": [
            "Epoch 34/200\n",
            "246/246 [==============================] - 42s 171ms/step - loss: 0.6269 - accuracy: 0.7700 - val_loss: 0.7972 - val_accuracy: 0.7211\n",
            "\n",
            "Epoch 00034: val_accuracy did not improve from 0.72556\n",
            "Epoch 35/200\n",
            "246/246 [==============================] - 42s 170ms/step - loss: 0.6544 - accuracy: 0.7630 - val_loss: 0.7472 - val_accuracy: 0.7221\n",
            "\n",
            "Epoch 00035: val_accuracy did not improve from 0.72556\n",
            "Epoch 36/200\n",
            "246/246 [==============================] - 42s 170ms/step - loss: 0.5842 - accuracy: 0.7809 - val_loss: 0.7621 - val_accuracy: 0.7300\n",
            "\n",
            "Epoch 00036: val_accuracy improved from 0.72556 to 0.73001, saving model to /content/drive/MyDrive/building1/26March5slots_200epochs_biDirLSTMDoubleDenseDropout/best_model.pkl\n"
          ],
          "name": "stdout"
        },
        {
          "output_type": "stream",
          "text": [
            "WARNING:absl:Found untraced functions such as lstm_cell_3_layer_call_and_return_conditional_losses, lstm_cell_3_layer_call_fn, lstm_cell_1_layer_call_and_return_conditional_losses, lstm_cell_1_layer_call_fn, lstm_cell_2_layer_call_and_return_conditional_losses while saving (showing 5 of 15). These functions will not be directly callable after loading.\n",
            "WARNING:absl:Found untraced functions such as lstm_cell_3_layer_call_and_return_conditional_losses, lstm_cell_3_layer_call_fn, lstm_cell_1_layer_call_and_return_conditional_losses, lstm_cell_1_layer_call_fn, lstm_cell_2_layer_call_and_return_conditional_losses while saving (showing 5 of 15). These functions will not be directly callable after loading.\n"
          ],
          "name": "stderr"
        },
        {
          "output_type": "stream",
          "text": [
            "INFO:tensorflow:Assets written to: /content/drive/MyDrive/building1/26March5slots_200epochs_biDirLSTMDoubleDenseDropout/best_model.pkl/assets\n"
          ],
          "name": "stdout"
        },
        {
          "output_type": "stream",
          "text": [
            "INFO:tensorflow:Assets written to: /content/drive/MyDrive/building1/26March5slots_200epochs_biDirLSTMDoubleDenseDropout/best_model.pkl/assets\n"
          ],
          "name": "stderr"
        },
        {
          "output_type": "stream",
          "text": [
            "Epoch 37/200\n",
            "246/246 [==============================] - 42s 172ms/step - loss: 0.5826 - accuracy: 0.7853 - val_loss: 0.7781 - val_accuracy: 0.7269\n",
            "\n",
            "Epoch 00037: val_accuracy did not improve from 0.73001\n",
            "Epoch 38/200\n",
            "246/246 [==============================] - 42s 172ms/step - loss: 0.6098 - accuracy: 0.7760 - val_loss: 0.7301 - val_accuracy: 0.7365\n",
            "\n",
            "Epoch 00038: val_accuracy improved from 0.73001 to 0.73654, saving model to /content/drive/MyDrive/building1/26March5slots_200epochs_biDirLSTMDoubleDenseDropout/best_model.pkl\n"
          ],
          "name": "stdout"
        },
        {
          "output_type": "stream",
          "text": [
            "WARNING:absl:Found untraced functions such as lstm_cell_3_layer_call_and_return_conditional_losses, lstm_cell_3_layer_call_fn, lstm_cell_1_layer_call_and_return_conditional_losses, lstm_cell_1_layer_call_fn, lstm_cell_2_layer_call_and_return_conditional_losses while saving (showing 5 of 15). These functions will not be directly callable after loading.\n",
            "WARNING:absl:Found untraced functions such as lstm_cell_3_layer_call_and_return_conditional_losses, lstm_cell_3_layer_call_fn, lstm_cell_1_layer_call_and_return_conditional_losses, lstm_cell_1_layer_call_fn, lstm_cell_2_layer_call_and_return_conditional_losses while saving (showing 5 of 15). These functions will not be directly callable after loading.\n"
          ],
          "name": "stderr"
        },
        {
          "output_type": "stream",
          "text": [
            "INFO:tensorflow:Assets written to: /content/drive/MyDrive/building1/26March5slots_200epochs_biDirLSTMDoubleDenseDropout/best_model.pkl/assets\n"
          ],
          "name": "stdout"
        },
        {
          "output_type": "stream",
          "text": [
            "INFO:tensorflow:Assets written to: /content/drive/MyDrive/building1/26March5slots_200epochs_biDirLSTMDoubleDenseDropout/best_model.pkl/assets\n"
          ],
          "name": "stderr"
        },
        {
          "output_type": "stream",
          "text": [
            "Epoch 39/200\n",
            "246/246 [==============================] - 42s 172ms/step - loss: 0.5653 - accuracy: 0.7922 - val_loss: 0.7782 - val_accuracy: 0.7278\n",
            "\n",
            "Epoch 00039: val_accuracy did not improve from 0.73654\n",
            "Epoch 40/200\n",
            "246/246 [==============================] - 42s 171ms/step - loss: 0.5649 - accuracy: 0.7899 - val_loss: 0.7617 - val_accuracy: 0.7324\n",
            "\n",
            "Epoch 00040: val_accuracy did not improve from 0.73654\n",
            "Epoch 41/200\n",
            "246/246 [==============================] - 42s 172ms/step - loss: 0.5816 - accuracy: 0.7844 - val_loss: 0.7706 - val_accuracy: 0.7337\n",
            "\n",
            "Epoch 00041: val_accuracy did not improve from 0.73654\n",
            "Epoch 42/200\n",
            "246/246 [==============================] - 42s 171ms/step - loss: 0.5364 - accuracy: 0.8016 - val_loss: 0.7033 - val_accuracy: 0.7536\n",
            "\n",
            "Epoch 00042: val_accuracy improved from 0.73654 to 0.75360, saving model to /content/drive/MyDrive/building1/26March5slots_200epochs_biDirLSTMDoubleDenseDropout/best_model.pkl\n"
          ],
          "name": "stdout"
        },
        {
          "output_type": "stream",
          "text": [
            "WARNING:absl:Found untraced functions such as lstm_cell_3_layer_call_and_return_conditional_losses, lstm_cell_3_layer_call_fn, lstm_cell_1_layer_call_and_return_conditional_losses, lstm_cell_1_layer_call_fn, lstm_cell_2_layer_call_and_return_conditional_losses while saving (showing 5 of 15). These functions will not be directly callable after loading.\n",
            "WARNING:absl:Found untraced functions such as lstm_cell_3_layer_call_and_return_conditional_losses, lstm_cell_3_layer_call_fn, lstm_cell_1_layer_call_and_return_conditional_losses, lstm_cell_1_layer_call_fn, lstm_cell_2_layer_call_and_return_conditional_losses while saving (showing 5 of 15). These functions will not be directly callable after loading.\n"
          ],
          "name": "stderr"
        },
        {
          "output_type": "stream",
          "text": [
            "INFO:tensorflow:Assets written to: /content/drive/MyDrive/building1/26March5slots_200epochs_biDirLSTMDoubleDenseDropout/best_model.pkl/assets\n"
          ],
          "name": "stdout"
        },
        {
          "output_type": "stream",
          "text": [
            "INFO:tensorflow:Assets written to: /content/drive/MyDrive/building1/26March5slots_200epochs_biDirLSTMDoubleDenseDropout/best_model.pkl/assets\n"
          ],
          "name": "stderr"
        },
        {
          "output_type": "stream",
          "text": [
            "Epoch 43/200\n",
            "246/246 [==============================] - 42s 171ms/step - loss: 0.5063 - accuracy: 0.8098 - val_loss: 0.7348 - val_accuracy: 0.7435\n",
            "\n",
            "Epoch 00043: val_accuracy did not improve from 0.75360\n",
            "Epoch 44/200\n",
            "246/246 [==============================] - 42s 172ms/step - loss: 0.5238 - accuracy: 0.8075 - val_loss: 0.7354 - val_accuracy: 0.7503\n",
            "\n",
            "Epoch 00044: val_accuracy did not improve from 0.75360\n",
            "Epoch 45/200\n",
            "246/246 [==============================] - 42s 173ms/step - loss: 0.5305 - accuracy: 0.8044 - val_loss: 0.7953 - val_accuracy: 0.7352\n",
            "\n",
            "Epoch 00045: val_accuracy did not improve from 0.75360\n",
            "Epoch 46/200\n",
            "246/246 [==============================] - 42s 173ms/step - loss: 0.5131 - accuracy: 0.8121 - val_loss: 0.7219 - val_accuracy: 0.7520\n",
            "\n",
            "Epoch 00046: val_accuracy did not improve from 0.75360\n",
            "Epoch 47/200\n",
            "246/246 [==============================] - 42s 171ms/step - loss: 0.5053 - accuracy: 0.8161 - val_loss: 0.6912 - val_accuracy: 0.7557\n",
            "\n",
            "Epoch 00047: val_accuracy improved from 0.75360 to 0.75567, saving model to /content/drive/MyDrive/building1/26March5slots_200epochs_biDirLSTMDoubleDenseDropout/best_model.pkl\n"
          ],
          "name": "stdout"
        },
        {
          "output_type": "stream",
          "text": [
            "WARNING:absl:Found untraced functions such as lstm_cell_3_layer_call_and_return_conditional_losses, lstm_cell_3_layer_call_fn, lstm_cell_1_layer_call_and_return_conditional_losses, lstm_cell_1_layer_call_fn, lstm_cell_2_layer_call_and_return_conditional_losses while saving (showing 5 of 15). These functions will not be directly callable after loading.\n",
            "WARNING:absl:Found untraced functions such as lstm_cell_3_layer_call_and_return_conditional_losses, lstm_cell_3_layer_call_fn, lstm_cell_1_layer_call_and_return_conditional_losses, lstm_cell_1_layer_call_fn, lstm_cell_2_layer_call_and_return_conditional_losses while saving (showing 5 of 15). These functions will not be directly callable after loading.\n"
          ],
          "name": "stderr"
        },
        {
          "output_type": "stream",
          "text": [
            "INFO:tensorflow:Assets written to: /content/drive/MyDrive/building1/26March5slots_200epochs_biDirLSTMDoubleDenseDropout/best_model.pkl/assets\n"
          ],
          "name": "stdout"
        },
        {
          "output_type": "stream",
          "text": [
            "INFO:tensorflow:Assets written to: /content/drive/MyDrive/building1/26March5slots_200epochs_biDirLSTMDoubleDenseDropout/best_model.pkl/assets\n"
          ],
          "name": "stderr"
        },
        {
          "output_type": "stream",
          "text": [
            "Epoch 48/200\n",
            "246/246 [==============================] - 42s 171ms/step - loss: 0.4769 - accuracy: 0.8234 - val_loss: 0.7291 - val_accuracy: 0.7515\n",
            "\n",
            "Epoch 00048: val_accuracy did not improve from 0.75567\n",
            "Epoch 49/200\n",
            "246/246 [==============================] - 42s 172ms/step - loss: 0.4700 - accuracy: 0.8256 - val_loss: 0.7798 - val_accuracy: 0.7359\n",
            "\n",
            "Epoch 00049: val_accuracy did not improve from 0.75567\n",
            "Epoch 50/200\n",
            "246/246 [==============================] - 42s 172ms/step - loss: 0.5261 - accuracy: 0.8083 - val_loss: 0.7123 - val_accuracy: 0.7539\n",
            "\n",
            "Epoch 00050: val_accuracy did not improve from 0.75567\n",
            "Epoch 51/200\n",
            "246/246 [==============================] - 42s 173ms/step - loss: 0.4683 - accuracy: 0.8261 - val_loss: 0.7325 - val_accuracy: 0.7527\n",
            "\n",
            "Epoch 00051: val_accuracy did not improve from 0.75567\n",
            "Epoch 52/200\n",
            "246/246 [==============================] - 42s 173ms/step - loss: 0.4781 - accuracy: 0.8222 - val_loss: 0.8001 - val_accuracy: 0.7358\n",
            "\n",
            "Epoch 00052: val_accuracy did not improve from 0.75567\n",
            "Epoch 53/200\n",
            "246/246 [==============================] - 42s 172ms/step - loss: 0.5027 - accuracy: 0.8156 - val_loss: 0.7753 - val_accuracy: 0.7481\n",
            "\n",
            "Epoch 00053: val_accuracy did not improve from 0.75567\n",
            "Epoch 54/200\n",
            "246/246 [==============================] - 42s 172ms/step - loss: 0.4350 - accuracy: 0.8387 - val_loss: 0.7492 - val_accuracy: 0.7481\n",
            "\n",
            "Epoch 00054: val_accuracy did not improve from 0.75567\n",
            "Epoch 55/200\n",
            "246/246 [==============================] - 42s 172ms/step - loss: 0.4782 - accuracy: 0.8270 - val_loss: 0.7228 - val_accuracy: 0.7653\n",
            "\n",
            "Epoch 00055: val_accuracy improved from 0.75567 to 0.76532, saving model to /content/drive/MyDrive/building1/26March5slots_200epochs_biDirLSTMDoubleDenseDropout/best_model.pkl\n"
          ],
          "name": "stdout"
        },
        {
          "output_type": "stream",
          "text": [
            "WARNING:absl:Found untraced functions such as lstm_cell_3_layer_call_and_return_conditional_losses, lstm_cell_3_layer_call_fn, lstm_cell_1_layer_call_and_return_conditional_losses, lstm_cell_1_layer_call_fn, lstm_cell_2_layer_call_and_return_conditional_losses while saving (showing 5 of 15). These functions will not be directly callable after loading.\n",
            "WARNING:absl:Found untraced functions such as lstm_cell_3_layer_call_and_return_conditional_losses, lstm_cell_3_layer_call_fn, lstm_cell_1_layer_call_and_return_conditional_losses, lstm_cell_1_layer_call_fn, lstm_cell_2_layer_call_and_return_conditional_losses while saving (showing 5 of 15). These functions will not be directly callable after loading.\n"
          ],
          "name": "stderr"
        },
        {
          "output_type": "stream",
          "text": [
            "INFO:tensorflow:Assets written to: /content/drive/MyDrive/building1/26March5slots_200epochs_biDirLSTMDoubleDenseDropout/best_model.pkl/assets\n"
          ],
          "name": "stdout"
        },
        {
          "output_type": "stream",
          "text": [
            "INFO:tensorflow:Assets written to: /content/drive/MyDrive/building1/26March5slots_200epochs_biDirLSTMDoubleDenseDropout/best_model.pkl/assets\n"
          ],
          "name": "stderr"
        },
        {
          "output_type": "stream",
          "text": [
            "Epoch 56/200\n",
            "246/246 [==============================] - 43s 173ms/step - loss: 0.4126 - accuracy: 0.8439 - val_loss: 0.7017 - val_accuracy: 0.7727\n",
            "\n",
            "Epoch 00056: val_accuracy improved from 0.76532 to 0.77273, saving model to /content/drive/MyDrive/building1/26March5slots_200epochs_biDirLSTMDoubleDenseDropout/best_model.pkl\n"
          ],
          "name": "stdout"
        },
        {
          "output_type": "stream",
          "text": [
            "WARNING:absl:Found untraced functions such as lstm_cell_3_layer_call_and_return_conditional_losses, lstm_cell_3_layer_call_fn, lstm_cell_1_layer_call_and_return_conditional_losses, lstm_cell_1_layer_call_fn, lstm_cell_2_layer_call_and_return_conditional_losses while saving (showing 5 of 15). These functions will not be directly callable after loading.\n",
            "WARNING:absl:Found untraced functions such as lstm_cell_3_layer_call_and_return_conditional_losses, lstm_cell_3_layer_call_fn, lstm_cell_1_layer_call_and_return_conditional_losses, lstm_cell_1_layer_call_fn, lstm_cell_2_layer_call_and_return_conditional_losses while saving (showing 5 of 15). These functions will not be directly callable after loading.\n"
          ],
          "name": "stderr"
        },
        {
          "output_type": "stream",
          "text": [
            "INFO:tensorflow:Assets written to: /content/drive/MyDrive/building1/26March5slots_200epochs_biDirLSTMDoubleDenseDropout/best_model.pkl/assets\n"
          ],
          "name": "stdout"
        },
        {
          "output_type": "stream",
          "text": [
            "INFO:tensorflow:Assets written to: /content/drive/MyDrive/building1/26March5slots_200epochs_biDirLSTMDoubleDenseDropout/best_model.pkl/assets\n"
          ],
          "name": "stderr"
        },
        {
          "output_type": "stream",
          "text": [
            "Epoch 57/200\n",
            "246/246 [==============================] - 42s 172ms/step - loss: 0.4161 - accuracy: 0.8461 - val_loss: 0.7400 - val_accuracy: 0.7533\n",
            "\n",
            "Epoch 00057: val_accuracy did not improve from 0.77273\n",
            "Epoch 58/200\n",
            "246/246 [==============================] - 42s 172ms/step - loss: 0.4339 - accuracy: 0.8421 - val_loss: 0.7199 - val_accuracy: 0.7517\n",
            "\n",
            "Epoch 00058: val_accuracy did not improve from 0.77273\n",
            "Epoch 59/200\n",
            "246/246 [==============================] - 42s 171ms/step - loss: 0.3982 - accuracy: 0.8481 - val_loss: 0.7699 - val_accuracy: 0.7526\n",
            "\n",
            "Epoch 00059: val_accuracy did not improve from 0.77273\n",
            "Epoch 60/200\n",
            "246/246 [==============================] - 42s 172ms/step - loss: 0.4222 - accuracy: 0.8445 - val_loss: 0.7304 - val_accuracy: 0.7652\n",
            "\n",
            "Epoch 00060: val_accuracy did not improve from 0.77273\n",
            "Epoch 61/200\n",
            "246/246 [==============================] - 42s 171ms/step - loss: 0.4005 - accuracy: 0.8517 - val_loss: 0.7881 - val_accuracy: 0.7512\n",
            "\n",
            "Epoch 00061: val_accuracy did not improve from 0.77273\n",
            "Epoch 62/200\n",
            "246/246 [==============================] - 42s 171ms/step - loss: 0.4077 - accuracy: 0.8490 - val_loss: 0.7157 - val_accuracy: 0.7692\n",
            "\n",
            "Epoch 00062: val_accuracy did not improve from 0.77273\n",
            "Epoch 63/200\n",
            "246/246 [==============================] - 42s 171ms/step - loss: 0.3924 - accuracy: 0.8563 - val_loss: 0.7165 - val_accuracy: 0.7683\n",
            "\n",
            "Epoch 00063: val_accuracy did not improve from 0.77273\n",
            "Epoch 64/200\n",
            "246/246 [==============================] - 42s 172ms/step - loss: 0.3962 - accuracy: 0.8560 - val_loss: 0.7023 - val_accuracy: 0.7726\n",
            "\n",
            "Epoch 00064: val_accuracy did not improve from 0.77273\n",
            "Epoch 65/200\n",
            "246/246 [==============================] - 42s 171ms/step - loss: 0.3768 - accuracy: 0.8605 - val_loss: 0.7467 - val_accuracy: 0.7619\n",
            "\n",
            "Epoch 00065: val_accuracy did not improve from 0.77273\n",
            "Epoch 66/200\n",
            "246/246 [==============================] - 42s 172ms/step - loss: 0.3767 - accuracy: 0.8638 - val_loss: 0.7277 - val_accuracy: 0.7766\n",
            "\n",
            "Epoch 00066: val_accuracy improved from 0.77273 to 0.77659, saving model to /content/drive/MyDrive/building1/26March5slots_200epochs_biDirLSTMDoubleDenseDropout/best_model.pkl\n"
          ],
          "name": "stdout"
        },
        {
          "output_type": "stream",
          "text": [
            "WARNING:absl:Found untraced functions such as lstm_cell_3_layer_call_and_return_conditional_losses, lstm_cell_3_layer_call_fn, lstm_cell_1_layer_call_and_return_conditional_losses, lstm_cell_1_layer_call_fn, lstm_cell_2_layer_call_and_return_conditional_losses while saving (showing 5 of 15). These functions will not be directly callable after loading.\n",
            "WARNING:absl:Found untraced functions such as lstm_cell_3_layer_call_and_return_conditional_losses, lstm_cell_3_layer_call_fn, lstm_cell_1_layer_call_and_return_conditional_losses, lstm_cell_1_layer_call_fn, lstm_cell_2_layer_call_and_return_conditional_losses while saving (showing 5 of 15). These functions will not be directly callable after loading.\n"
          ],
          "name": "stderr"
        },
        {
          "output_type": "stream",
          "text": [
            "INFO:tensorflow:Assets written to: /content/drive/MyDrive/building1/26March5slots_200epochs_biDirLSTMDoubleDenseDropout/best_model.pkl/assets\n"
          ],
          "name": "stdout"
        },
        {
          "output_type": "stream",
          "text": [
            "INFO:tensorflow:Assets written to: /content/drive/MyDrive/building1/26March5slots_200epochs_biDirLSTMDoubleDenseDropout/best_model.pkl/assets\n"
          ],
          "name": "stderr"
        },
        {
          "output_type": "stream",
          "text": [
            "Epoch 67/200\n",
            "246/246 [==============================] - 42s 171ms/step - loss: 0.3698 - accuracy: 0.8632 - val_loss: 0.7415 - val_accuracy: 0.7692\n",
            "\n",
            "Epoch 00067: val_accuracy did not improve from 0.77659\n",
            "Epoch 68/200\n",
            "246/246 [==============================] - 42s 169ms/step - loss: 0.3568 - accuracy: 0.8685 - val_loss: 0.7312 - val_accuracy: 0.7710\n",
            "\n",
            "Epoch 00068: val_accuracy did not improve from 0.77659\n",
            "Epoch 69/200\n",
            "246/246 [==============================] - 42s 171ms/step - loss: 0.3630 - accuracy: 0.8682 - val_loss: 0.7818 - val_accuracy: 0.7586\n",
            "\n",
            "Epoch 00069: val_accuracy did not improve from 0.77659\n",
            "Epoch 70/200\n",
            "246/246 [==============================] - 42s 171ms/step - loss: 0.3487 - accuracy: 0.8729 - val_loss: 0.7920 - val_accuracy: 0.7539\n",
            "\n",
            "Epoch 00070: val_accuracy did not improve from 0.77659\n",
            "Epoch 71/200\n",
            "246/246 [==============================] - 42s 171ms/step - loss: 0.3593 - accuracy: 0.8713 - val_loss: 0.7433 - val_accuracy: 0.7714\n",
            "\n",
            "Epoch 00071: val_accuracy did not improve from 0.77659\n",
            "Epoch 72/200\n",
            "246/246 [==============================] - 42s 171ms/step - loss: 0.3463 - accuracy: 0.8738 - val_loss: 0.7167 - val_accuracy: 0.7804\n",
            "\n",
            "Epoch 00072: val_accuracy improved from 0.77659 to 0.78045, saving model to /content/drive/MyDrive/building1/26March5slots_200epochs_biDirLSTMDoubleDenseDropout/best_model.pkl\n"
          ],
          "name": "stdout"
        },
        {
          "output_type": "stream",
          "text": [
            "WARNING:absl:Found untraced functions such as lstm_cell_3_layer_call_and_return_conditional_losses, lstm_cell_3_layer_call_fn, lstm_cell_1_layer_call_and_return_conditional_losses, lstm_cell_1_layer_call_fn, lstm_cell_2_layer_call_and_return_conditional_losses while saving (showing 5 of 15). These functions will not be directly callable after loading.\n",
            "WARNING:absl:Found untraced functions such as lstm_cell_3_layer_call_and_return_conditional_losses, lstm_cell_3_layer_call_fn, lstm_cell_1_layer_call_and_return_conditional_losses, lstm_cell_1_layer_call_fn, lstm_cell_2_layer_call_and_return_conditional_losses while saving (showing 5 of 15). These functions will not be directly callable after loading.\n"
          ],
          "name": "stderr"
        },
        {
          "output_type": "stream",
          "text": [
            "INFO:tensorflow:Assets written to: /content/drive/MyDrive/building1/26March5slots_200epochs_biDirLSTMDoubleDenseDropout/best_model.pkl/assets\n"
          ],
          "name": "stdout"
        },
        {
          "output_type": "stream",
          "text": [
            "INFO:tensorflow:Assets written to: /content/drive/MyDrive/building1/26March5slots_200epochs_biDirLSTMDoubleDenseDropout/best_model.pkl/assets\n"
          ],
          "name": "stderr"
        },
        {
          "output_type": "stream",
          "text": [
            "Epoch 73/200\n",
            "246/246 [==============================] - 42s 171ms/step - loss: 0.3375 - accuracy: 0.8745 - val_loss: 0.7346 - val_accuracy: 0.7707\n",
            "\n",
            "Epoch 00073: val_accuracy did not improve from 0.78045\n",
            "Epoch 74/200\n",
            "246/246 [==============================] - 42s 170ms/step - loss: 0.3310 - accuracy: 0.8755 - val_loss: 0.7053 - val_accuracy: 0.7859\n",
            "\n",
            "Epoch 00074: val_accuracy improved from 0.78045 to 0.78594, saving model to /content/drive/MyDrive/building1/26March5slots_200epochs_biDirLSTMDoubleDenseDropout/best_model.pkl\n"
          ],
          "name": "stdout"
        },
        {
          "output_type": "stream",
          "text": [
            "WARNING:absl:Found untraced functions such as lstm_cell_3_layer_call_and_return_conditional_losses, lstm_cell_3_layer_call_fn, lstm_cell_1_layer_call_and_return_conditional_losses, lstm_cell_1_layer_call_fn, lstm_cell_2_layer_call_and_return_conditional_losses while saving (showing 5 of 15). These functions will not be directly callable after loading.\n",
            "WARNING:absl:Found untraced functions such as lstm_cell_3_layer_call_and_return_conditional_losses, lstm_cell_3_layer_call_fn, lstm_cell_1_layer_call_and_return_conditional_losses, lstm_cell_1_layer_call_fn, lstm_cell_2_layer_call_and_return_conditional_losses while saving (showing 5 of 15). These functions will not be directly callable after loading.\n"
          ],
          "name": "stderr"
        },
        {
          "output_type": "stream",
          "text": [
            "INFO:tensorflow:Assets written to: /content/drive/MyDrive/building1/26March5slots_200epochs_biDirLSTMDoubleDenseDropout/best_model.pkl/assets\n"
          ],
          "name": "stdout"
        },
        {
          "output_type": "stream",
          "text": [
            "INFO:tensorflow:Assets written to: /content/drive/MyDrive/building1/26March5slots_200epochs_biDirLSTMDoubleDenseDropout/best_model.pkl/assets\n"
          ],
          "name": "stderr"
        },
        {
          "output_type": "stream",
          "text": [
            "Epoch 75/200\n",
            "246/246 [==============================] - 42s 170ms/step - loss: 0.3275 - accuracy: 0.8800 - val_loss: 0.7373 - val_accuracy: 0.7718\n",
            "\n",
            "Epoch 00075: val_accuracy did not improve from 0.78594\n",
            "Epoch 76/200\n",
            "246/246 [==============================] - 42s 171ms/step - loss: 0.3255 - accuracy: 0.8793 - val_loss: 0.8263 - val_accuracy: 0.7578\n",
            "\n",
            "Epoch 00076: val_accuracy did not improve from 0.78594\n",
            "Epoch 77/200\n",
            "246/246 [==============================] - 42s 171ms/step - loss: 0.3332 - accuracy: 0.8803 - val_loss: 0.7529 - val_accuracy: 0.7718\n",
            "\n",
            "Epoch 00077: val_accuracy did not improve from 0.78594\n",
            "Epoch 78/200\n",
            "246/246 [==============================] - 42s 171ms/step - loss: 0.3141 - accuracy: 0.8849 - val_loss: 0.9026 - val_accuracy: 0.7444\n",
            "\n",
            "Epoch 00078: val_accuracy did not improve from 0.78594\n",
            "Epoch 79/200\n",
            "246/246 [==============================] - 42s 171ms/step - loss: 0.3782 - accuracy: 0.8655 - val_loss: 0.7078 - val_accuracy: 0.7770\n",
            "\n",
            "Epoch 00079: val_accuracy did not improve from 0.78594\n",
            "Epoch 80/200\n",
            "246/246 [==============================] - 42s 172ms/step - loss: 0.3023 - accuracy: 0.8872 - val_loss: 0.6975 - val_accuracy: 0.7902\n",
            "\n",
            "Epoch 00080: val_accuracy improved from 0.78594 to 0.79024, saving model to /content/drive/MyDrive/building1/26March5slots_200epochs_biDirLSTMDoubleDenseDropout/best_model.pkl\n"
          ],
          "name": "stdout"
        },
        {
          "output_type": "stream",
          "text": [
            "WARNING:absl:Found untraced functions such as lstm_cell_3_layer_call_and_return_conditional_losses, lstm_cell_3_layer_call_fn, lstm_cell_1_layer_call_and_return_conditional_losses, lstm_cell_1_layer_call_fn, lstm_cell_2_layer_call_and_return_conditional_losses while saving (showing 5 of 15). These functions will not be directly callable after loading.\n",
            "WARNING:absl:Found untraced functions such as lstm_cell_3_layer_call_and_return_conditional_losses, lstm_cell_3_layer_call_fn, lstm_cell_1_layer_call_and_return_conditional_losses, lstm_cell_1_layer_call_fn, lstm_cell_2_layer_call_and_return_conditional_losses while saving (showing 5 of 15). These functions will not be directly callable after loading.\n"
          ],
          "name": "stderr"
        },
        {
          "output_type": "stream",
          "text": [
            "INFO:tensorflow:Assets written to: /content/drive/MyDrive/building1/26March5slots_200epochs_biDirLSTMDoubleDenseDropout/best_model.pkl/assets\n"
          ],
          "name": "stdout"
        },
        {
          "output_type": "stream",
          "text": [
            "INFO:tensorflow:Assets written to: /content/drive/MyDrive/building1/26March5slots_200epochs_biDirLSTMDoubleDenseDropout/best_model.pkl/assets\n"
          ],
          "name": "stderr"
        },
        {
          "output_type": "stream",
          "text": [
            "Epoch 81/200\n",
            "246/246 [==============================] - 42s 171ms/step - loss: 0.3087 - accuracy: 0.8871 - val_loss: 0.7565 - val_accuracy: 0.7775\n",
            "\n",
            "Epoch 00081: val_accuracy did not improve from 0.79024\n",
            "Epoch 82/200\n",
            "246/246 [==============================] - 42s 171ms/step - loss: 0.3265 - accuracy: 0.8800 - val_loss: 0.7535 - val_accuracy: 0.7756\n",
            "\n",
            "Epoch 00082: val_accuracy did not improve from 0.79024\n",
            "Epoch 83/200\n",
            "246/246 [==============================] - 42s 172ms/step - loss: 0.2860 - accuracy: 0.8956 - val_loss: 0.7374 - val_accuracy: 0.7770\n",
            "\n",
            "Epoch 00083: val_accuracy did not improve from 0.79024\n",
            "Epoch 84/200\n",
            "246/246 [==============================] - 42s 173ms/step - loss: 0.2952 - accuracy: 0.8891 - val_loss: 0.7552 - val_accuracy: 0.7761\n",
            "\n",
            "Epoch 00084: val_accuracy did not improve from 0.79024\n",
            "Epoch 85/200\n",
            "246/246 [==============================] - 42s 172ms/step - loss: 0.3144 - accuracy: 0.8845 - val_loss: 0.8417 - val_accuracy: 0.7520\n",
            "\n",
            "Epoch 00085: val_accuracy did not improve from 0.79024\n",
            "Epoch 86/200\n",
            "246/246 [==============================] - 42s 172ms/step - loss: 0.2937 - accuracy: 0.8933 - val_loss: 0.7635 - val_accuracy: 0.7751\n",
            "\n",
            "Epoch 00086: val_accuracy did not improve from 0.79024\n",
            "Epoch 87/200\n",
            "246/246 [==============================] - 42s 171ms/step - loss: 0.2828 - accuracy: 0.8992 - val_loss: 0.8050 - val_accuracy: 0.7692\n",
            "\n",
            "Epoch 00087: val_accuracy did not improve from 0.79024\n",
            "Epoch 88/200\n",
            "246/246 [==============================] - 42s 171ms/step - loss: 0.3520 - accuracy: 0.8762 - val_loss: 0.7750 - val_accuracy: 0.7705\n",
            "\n",
            "Epoch 00088: val_accuracy did not improve from 0.79024\n",
            "Epoch 89/200\n",
            "246/246 [==============================] - 42s 173ms/step - loss: 0.2836 - accuracy: 0.8955 - val_loss: 0.7564 - val_accuracy: 0.7799\n",
            "\n",
            "Epoch 00089: val_accuracy did not improve from 0.79024\n",
            "Epoch 90/200\n",
            "246/246 [==============================] - 42s 172ms/step - loss: 0.2732 - accuracy: 0.9005 - val_loss: 0.7723 - val_accuracy: 0.7803\n",
            "\n",
            "Epoch 00090: val_accuracy did not improve from 0.79024\n",
            "Epoch 91/200\n",
            "246/246 [==============================] - 42s 171ms/step - loss: 0.3016 - accuracy: 0.8886 - val_loss: 0.7845 - val_accuracy: 0.7772\n",
            "\n",
            "Epoch 00091: val_accuracy did not improve from 0.79024\n",
            "Epoch 92/200\n",
            "246/246 [==============================] - 42s 171ms/step - loss: 0.3379 - accuracy: 0.8839 - val_loss: 0.7642 - val_accuracy: 0.7800\n",
            "\n",
            "Epoch 00092: val_accuracy did not improve from 0.79024\n",
            "Epoch 93/200\n",
            "246/246 [==============================] - 42s 172ms/step - loss: 0.2567 - accuracy: 0.9055 - val_loss: 0.7629 - val_accuracy: 0.7833\n",
            "\n",
            "Epoch 00093: val_accuracy did not improve from 0.79024\n",
            "Epoch 94/200\n",
            "246/246 [==============================] - 42s 172ms/step - loss: 0.2543 - accuracy: 0.9107 - val_loss: 0.9804 - val_accuracy: 0.7312\n",
            "\n",
            "Epoch 00094: val_accuracy did not improve from 0.79024\n",
            "Epoch 95/200\n",
            "246/246 [==============================] - 42s 171ms/step - loss: 0.3384 - accuracy: 0.8783 - val_loss: 0.7698 - val_accuracy: 0.7815\n",
            "\n",
            "Epoch 00095: val_accuracy did not improve from 0.79024\n",
            "Epoch 96/200\n",
            "246/246 [==============================] - 42s 171ms/step - loss: 0.2660 - accuracy: 0.9022 - val_loss: 0.8312 - val_accuracy: 0.7727\n",
            "\n",
            "Epoch 00096: val_accuracy did not improve from 0.79024\n",
            "Epoch 97/200\n",
            "246/246 [==============================] - 42s 171ms/step - loss: 0.2539 - accuracy: 0.9089 - val_loss: 0.7542 - val_accuracy: 0.7852\n",
            "\n",
            "Epoch 00097: val_accuracy did not improve from 0.79024\n",
            "Epoch 98/200\n",
            "246/246 [==============================] - 42s 171ms/step - loss: 0.2421 - accuracy: 0.9125 - val_loss: 0.7563 - val_accuracy: 0.7892\n",
            "\n",
            "Epoch 00098: val_accuracy did not improve from 0.79024\n",
            "Epoch 99/200\n",
            "246/246 [==============================] - 42s 170ms/step - loss: 0.4301 - accuracy: 0.8659 - val_loss: 0.7571 - val_accuracy: 0.7807\n",
            "\n",
            "Epoch 00099: val_accuracy did not improve from 0.79024\n",
            "Epoch 100/200\n",
            "246/246 [==============================] - 42s 170ms/step - loss: 0.2473 - accuracy: 0.9082 - val_loss: 0.8120 - val_accuracy: 0.7769\n",
            "\n",
            "Epoch 00100: val_accuracy did not improve from 0.79024\n",
            "Epoch 101/200\n",
            "246/246 [==============================] - 42s 170ms/step - loss: 0.2416 - accuracy: 0.9129 - val_loss: 0.8072 - val_accuracy: 0.7815\n",
            "\n",
            "Epoch 00101: val_accuracy did not improve from 0.79024\n",
            "Epoch 102/200\n",
            "246/246 [==============================] - 42s 169ms/step - loss: 0.2797 - accuracy: 0.9004 - val_loss: 0.8393 - val_accuracy: 0.7735\n",
            "\n",
            "Epoch 00102: val_accuracy did not improve from 0.79024\n",
            "Epoch 103/200\n",
            "246/246 [==============================] - 42s 171ms/step - loss: 0.2451 - accuracy: 0.9092 - val_loss: 0.7998 - val_accuracy: 0.7799\n",
            "\n",
            "Epoch 00103: val_accuracy did not improve from 0.79024\n",
            "Epoch 104/200\n",
            "246/246 [==============================] - 42s 172ms/step - loss: 0.2360 - accuracy: 0.9144 - val_loss: 0.8092 - val_accuracy: 0.7778\n",
            "\n",
            "Epoch 00104: val_accuracy did not improve from 0.79024\n",
            "Epoch 105/200\n",
            "246/246 [==============================] - 42s 172ms/step - loss: 0.2531 - accuracy: 0.9075 - val_loss: 0.8355 - val_accuracy: 0.7726\n",
            "\n",
            "Epoch 00105: val_accuracy did not improve from 0.79024\n",
            "Epoch 106/200\n",
            "246/246 [==============================] - 43s 174ms/step - loss: 0.2515 - accuracy: 0.9103 - val_loss: 0.8459 - val_accuracy: 0.7764\n",
            "\n",
            "Epoch 00106: val_accuracy did not improve from 0.79024\n",
            "Epoch 107/200\n",
            "246/246 [==============================] - 43s 175ms/step - loss: 0.2648 - accuracy: 0.9083 - val_loss: 0.8311 - val_accuracy: 0.7744\n",
            "\n",
            "Epoch 00107: val_accuracy did not improve from 0.79024\n",
            "Epoch 108/200\n",
            "246/246 [==============================] - 43s 174ms/step - loss: 0.2558 - accuracy: 0.9083 - val_loss: 0.8204 - val_accuracy: 0.7812\n",
            "\n",
            "Epoch 00108: val_accuracy did not improve from 0.79024\n",
            "Epoch 109/200\n",
            "246/246 [==============================] - 42s 172ms/step - loss: 0.2414 - accuracy: 0.9121 - val_loss: 0.9834 - val_accuracy: 0.7484\n",
            "\n",
            "Epoch 00109: val_accuracy did not improve from 0.79024\n",
            "Epoch 110/200\n",
            "246/246 [==============================] - 42s 172ms/step - loss: 0.3068 - accuracy: 0.8943 - val_loss: 0.7877 - val_accuracy: 0.7886\n",
            "\n",
            "Epoch 00110: val_accuracy did not improve from 0.79024\n",
            "Epoch 111/200\n",
            "246/246 [==============================] - 42s 173ms/step - loss: 0.2220 - accuracy: 0.9191 - val_loss: 0.8000 - val_accuracy: 0.7865\n",
            "\n",
            "Epoch 00111: val_accuracy did not improve from 0.79024\n",
            "Epoch 112/200\n",
            "246/246 [==============================] - 42s 172ms/step - loss: 0.2237 - accuracy: 0.9164 - val_loss: 0.7929 - val_accuracy: 0.7837\n",
            "\n",
            "Epoch 00112: val_accuracy did not improve from 0.79024\n",
            "Epoch 113/200\n",
            "246/246 [==============================] - 42s 172ms/step - loss: 0.2447 - accuracy: 0.9115 - val_loss: 0.8552 - val_accuracy: 0.7724\n",
            "\n",
            "Epoch 00113: val_accuracy did not improve from 0.79024\n",
            "Epoch 114/200\n",
            "246/246 [==============================] - 42s 171ms/step - loss: 0.2312 - accuracy: 0.9167 - val_loss: 0.8259 - val_accuracy: 0.7764\n",
            "\n",
            "Epoch 00114: val_accuracy did not improve from 0.79024\n",
            "Epoch 115/200\n",
            "246/246 [==============================] - 42s 172ms/step - loss: 0.2226 - accuracy: 0.9219 - val_loss: 0.7989 - val_accuracy: 0.7757\n",
            "\n",
            "Epoch 00115: val_accuracy did not improve from 0.79024\n",
            "Epoch 116/200\n",
            "246/246 [==============================] - 42s 171ms/step - loss: 0.2737 - accuracy: 0.9060 - val_loss: 0.8171 - val_accuracy: 0.7756\n",
            "\n",
            "Epoch 00116: val_accuracy did not improve from 0.79024\n",
            "Epoch 117/200\n",
            "246/246 [==============================] - 42s 170ms/step - loss: 0.2899 - accuracy: 0.8985 - val_loss: 0.8290 - val_accuracy: 0.7874\n",
            "\n",
            "Epoch 00117: val_accuracy did not improve from 0.79024\n",
            "Epoch 118/200\n",
            "246/246 [==============================] - 42s 171ms/step - loss: 0.1962 - accuracy: 0.9312 - val_loss: 0.7919 - val_accuracy: 0.7874\n",
            "\n",
            "Epoch 00118: val_accuracy did not improve from 0.79024\n",
            "Epoch 119/200\n",
            "246/246 [==============================] - 42s 172ms/step - loss: 0.2214 - accuracy: 0.9216 - val_loss: 0.7901 - val_accuracy: 0.7901\n",
            "\n",
            "Epoch 00119: val_accuracy did not improve from 0.79024\n",
            "Epoch 120/200\n",
            "246/246 [==============================] - 42s 172ms/step - loss: 0.2050 - accuracy: 0.9240 - val_loss: 0.8346 - val_accuracy: 0.7883\n",
            "\n",
            "Epoch 00120: val_accuracy did not improve from 0.79024\n",
            "Epoch 121/200\n",
            "246/246 [==============================] - 42s 172ms/step - loss: 0.2177 - accuracy: 0.9226 - val_loss: 0.8689 - val_accuracy: 0.7713\n",
            "\n",
            "Epoch 00121: val_accuracy did not improve from 0.79024\n",
            "Epoch 122/200\n",
            "246/246 [==============================] - 43s 174ms/step - loss: 0.2318 - accuracy: 0.9184 - val_loss: 0.8185 - val_accuracy: 0.7896\n",
            "\n",
            "Epoch 00122: val_accuracy did not improve from 0.79024\n",
            "Epoch 123/200\n",
            "246/246 [==============================] - 42s 172ms/step - loss: 0.2304 - accuracy: 0.9194 - val_loss: 0.8164 - val_accuracy: 0.7871\n",
            "\n",
            "Epoch 00123: val_accuracy did not improve from 0.79024\n",
            "Epoch 124/200\n",
            "246/246 [==============================] - 42s 172ms/step - loss: 0.2138 - accuracy: 0.9234 - val_loss: 0.8988 - val_accuracy: 0.7747\n",
            "\n",
            "Epoch 00124: val_accuracy did not improve from 0.79024\n",
            "Epoch 125/200\n",
            "246/246 [==============================] - 43s 173ms/step - loss: 0.2306 - accuracy: 0.9173 - val_loss: 0.8298 - val_accuracy: 0.7913\n",
            "\n",
            "Epoch 00125: val_accuracy improved from 0.79024 to 0.79128, saving model to /content/drive/MyDrive/building1/26March5slots_200epochs_biDirLSTMDoubleDenseDropout/best_model.pkl\n"
          ],
          "name": "stdout"
        },
        {
          "output_type": "stream",
          "text": [
            "WARNING:absl:Found untraced functions such as lstm_cell_3_layer_call_and_return_conditional_losses, lstm_cell_3_layer_call_fn, lstm_cell_1_layer_call_and_return_conditional_losses, lstm_cell_1_layer_call_fn, lstm_cell_2_layer_call_and_return_conditional_losses while saving (showing 5 of 15). These functions will not be directly callable after loading.\n",
            "WARNING:absl:Found untraced functions such as lstm_cell_3_layer_call_and_return_conditional_losses, lstm_cell_3_layer_call_fn, lstm_cell_1_layer_call_and_return_conditional_losses, lstm_cell_1_layer_call_fn, lstm_cell_2_layer_call_and_return_conditional_losses while saving (showing 5 of 15). These functions will not be directly callable after loading.\n"
          ],
          "name": "stderr"
        },
        {
          "output_type": "stream",
          "text": [
            "INFO:tensorflow:Assets written to: /content/drive/MyDrive/building1/26March5slots_200epochs_biDirLSTMDoubleDenseDropout/best_model.pkl/assets\n"
          ],
          "name": "stdout"
        },
        {
          "output_type": "stream",
          "text": [
            "INFO:tensorflow:Assets written to: /content/drive/MyDrive/building1/26March5slots_200epochs_biDirLSTMDoubleDenseDropout/best_model.pkl/assets\n"
          ],
          "name": "stderr"
        },
        {
          "output_type": "stream",
          "text": [
            "Epoch 126/200\n",
            "246/246 [==============================] - 42s 172ms/step - loss: 0.1977 - accuracy: 0.9286 - val_loss: 0.8526 - val_accuracy: 0.7769\n",
            "\n",
            "Epoch 00126: val_accuracy did not improve from 0.79128\n",
            "Epoch 127/200\n",
            "246/246 [==============================] - 42s 171ms/step - loss: 0.2352 - accuracy: 0.9189 - val_loss: 0.8502 - val_accuracy: 0.7794\n",
            "\n",
            "Epoch 00127: val_accuracy did not improve from 0.79128\n",
            "Epoch 128/200\n",
            "246/246 [==============================] - 42s 171ms/step - loss: 0.2000 - accuracy: 0.9288 - val_loss: 0.8226 - val_accuracy: 0.7868\n",
            "\n",
            "Epoch 00128: val_accuracy did not improve from 0.79128\n",
            "Epoch 129/200\n",
            "246/246 [==============================] - 42s 171ms/step - loss: 0.2039 - accuracy: 0.9278 - val_loss: 0.8512 - val_accuracy: 0.7902\n",
            "\n",
            "Epoch 00129: val_accuracy did not improve from 0.79128\n",
            "Epoch 130/200\n",
            "246/246 [==============================] - 42s 170ms/step - loss: 0.1917 - accuracy: 0.9339 - val_loss: 0.8334 - val_accuracy: 0.7899\n",
            "\n",
            "Epoch 00130: val_accuracy did not improve from 0.79128\n",
            "Epoch 131/200\n",
            "246/246 [==============================] - 42s 171ms/step - loss: 0.1926 - accuracy: 0.9312 - val_loss: 0.9647 - val_accuracy: 0.7661\n",
            "\n",
            "Epoch 00131: val_accuracy did not improve from 0.79128\n",
            "Epoch 132/200\n",
            "246/246 [==============================] - 42s 171ms/step - loss: 0.2723 - accuracy: 0.9088 - val_loss: 0.8471 - val_accuracy: 0.7845\n",
            "\n",
            "Epoch 00132: val_accuracy did not improve from 0.79128\n",
            "Epoch 133/200\n",
            "246/246 [==============================] - 42s 169ms/step - loss: 0.1948 - accuracy: 0.9292 - val_loss: 0.8264 - val_accuracy: 0.7913\n",
            "\n",
            "Epoch 00133: val_accuracy did not improve from 0.79128\n",
            "Epoch 134/200\n",
            "246/246 [==============================] - 42s 171ms/step - loss: 0.1893 - accuracy: 0.9310 - val_loss: 0.9099 - val_accuracy: 0.7721\n",
            "\n",
            "Epoch 00134: val_accuracy did not improve from 0.79128\n",
            "Epoch 135/200\n",
            "246/246 [==============================] - 42s 171ms/step - loss: 0.2240 - accuracy: 0.9250 - val_loss: 0.8404 - val_accuracy: 0.7898\n",
            "\n",
            "Epoch 00135: val_accuracy did not improve from 0.79128\n",
            "Epoch 136/200\n",
            "246/246 [==============================] - 42s 171ms/step - loss: 0.2035 - accuracy: 0.9270 - val_loss: 0.9351 - val_accuracy: 0.7778\n",
            "\n",
            "Epoch 00136: val_accuracy did not improve from 0.79128\n",
            "Epoch 137/200\n",
            "246/246 [==============================] - 42s 171ms/step - loss: 0.2158 - accuracy: 0.9225 - val_loss: 0.9045 - val_accuracy: 0.7756\n",
            "\n",
            "Epoch 00137: val_accuracy did not improve from 0.79128\n",
            "Epoch 138/200\n",
            "246/246 [==============================] - 42s 171ms/step - loss: 0.2082 - accuracy: 0.9274 - val_loss: 0.9097 - val_accuracy: 0.7715\n",
            "\n",
            "Epoch 00138: val_accuracy did not improve from 0.79128\n",
            "Epoch 139/200\n",
            "246/246 [==============================] - 42s 170ms/step - loss: 0.2016 - accuracy: 0.9295 - val_loss: 0.8572 - val_accuracy: 0.7898\n",
            "\n",
            "Epoch 00139: val_accuracy did not improve from 0.79128\n",
            "Epoch 140/200\n",
            "246/246 [==============================] - 42s 171ms/step - loss: 0.2037 - accuracy: 0.9273 - val_loss: 0.8767 - val_accuracy: 0.7842\n",
            "\n",
            "Epoch 00140: val_accuracy did not improve from 0.79128\n",
            "Epoch 141/200\n",
            "246/246 [==============================] - 42s 172ms/step - loss: 0.1954 - accuracy: 0.9277 - val_loss: 0.8684 - val_accuracy: 0.7880\n",
            "\n",
            "Epoch 00141: val_accuracy did not improve from 0.79128\n",
            "Epoch 142/200\n",
            "246/246 [==============================] - 42s 171ms/step - loss: 0.1699 - accuracy: 0.9380 - val_loss: 0.8755 - val_accuracy: 0.7944\n",
            "\n",
            "Epoch 00142: val_accuracy improved from 0.79128 to 0.79439, saving model to /content/drive/MyDrive/building1/26March5slots_200epochs_biDirLSTMDoubleDenseDropout/best_model.pkl\n"
          ],
          "name": "stdout"
        },
        {
          "output_type": "stream",
          "text": [
            "WARNING:absl:Found untraced functions such as lstm_cell_3_layer_call_and_return_conditional_losses, lstm_cell_3_layer_call_fn, lstm_cell_1_layer_call_and_return_conditional_losses, lstm_cell_1_layer_call_fn, lstm_cell_2_layer_call_and_return_conditional_losses while saving (showing 5 of 15). These functions will not be directly callable after loading.\n",
            "WARNING:absl:Found untraced functions such as lstm_cell_3_layer_call_and_return_conditional_losses, lstm_cell_3_layer_call_fn, lstm_cell_1_layer_call_and_return_conditional_losses, lstm_cell_1_layer_call_fn, lstm_cell_2_layer_call_and_return_conditional_losses while saving (showing 5 of 15). These functions will not be directly callable after loading.\n"
          ],
          "name": "stderr"
        },
        {
          "output_type": "stream",
          "text": [
            "INFO:tensorflow:Assets written to: /content/drive/MyDrive/building1/26March5slots_200epochs_biDirLSTMDoubleDenseDropout/best_model.pkl/assets\n"
          ],
          "name": "stdout"
        },
        {
          "output_type": "stream",
          "text": [
            "INFO:tensorflow:Assets written to: /content/drive/MyDrive/building1/26March5slots_200epochs_biDirLSTMDoubleDenseDropout/best_model.pkl/assets\n"
          ],
          "name": "stderr"
        },
        {
          "output_type": "stream",
          "text": [
            "Epoch 143/200\n",
            "246/246 [==============================] - 42s 171ms/step - loss: 0.1858 - accuracy: 0.9351 - val_loss: 0.8787 - val_accuracy: 0.7886\n",
            "\n",
            "Epoch 00143: val_accuracy did not improve from 0.79439\n",
            "Epoch 144/200\n",
            "246/246 [==============================] - 42s 171ms/step - loss: 0.1898 - accuracy: 0.9345 - val_loss: 0.9297 - val_accuracy: 0.7735\n",
            "\n",
            "Epoch 00144: val_accuracy did not improve from 0.79439\n",
            "Epoch 145/200\n",
            "246/246 [==============================] - 42s 170ms/step - loss: 0.1869 - accuracy: 0.9365 - val_loss: 0.9149 - val_accuracy: 0.7816\n",
            "\n",
            "Epoch 00145: val_accuracy did not improve from 0.79439\n",
            "Epoch 146/200\n",
            "246/246 [==============================] - 42s 170ms/step - loss: 0.1985 - accuracy: 0.9308 - val_loss: 0.9674 - val_accuracy: 0.7618\n",
            "\n",
            "Epoch 00146: val_accuracy did not improve from 0.79439\n",
            "Epoch 147/200\n",
            "246/246 [==============================] - 42s 170ms/step - loss: 0.1996 - accuracy: 0.9290 - val_loss: 0.9378 - val_accuracy: 0.7687\n",
            "\n",
            "Epoch 00147: val_accuracy did not improve from 0.79439\n",
            "Epoch 148/200\n",
            "246/246 [==============================] - 42s 172ms/step - loss: 0.2215 - accuracy: 0.9229 - val_loss: 0.9186 - val_accuracy: 0.7726\n",
            "\n",
            "Epoch 00148: val_accuracy did not improve from 0.79439\n",
            "Epoch 149/200\n",
            "246/246 [==============================] - 42s 170ms/step - loss: 0.1733 - accuracy: 0.9383 - val_loss: 0.9361 - val_accuracy: 0.7710\n",
            "\n",
            "Epoch 00149: val_accuracy did not improve from 0.79439\n",
            "Epoch 150/200\n",
            "246/246 [==============================] - 42s 169ms/step - loss: 0.1822 - accuracy: 0.9358 - val_loss: 0.8876 - val_accuracy: 0.7849\n",
            "\n",
            "Epoch 00150: val_accuracy did not improve from 0.79439\n",
            "Epoch 151/200\n",
            "246/246 [==============================] - 42s 170ms/step - loss: 0.1936 - accuracy: 0.9310 - val_loss: 0.8814 - val_accuracy: 0.7842\n",
            "\n",
            "Epoch 00151: val_accuracy did not improve from 0.79439\n",
            "Epoch 152/200\n",
            "246/246 [==============================] - 42s 170ms/step - loss: 0.1756 - accuracy: 0.9382 - val_loss: 0.9652 - val_accuracy: 0.7707\n",
            "\n",
            "Epoch 00152: val_accuracy did not improve from 0.79439\n",
            "Epoch 153/200\n",
            "246/246 [==============================] - 42s 171ms/step - loss: 0.1806 - accuracy: 0.9375 - val_loss: 0.8726 - val_accuracy: 0.7939\n",
            "\n",
            "Epoch 00153: val_accuracy did not improve from 0.79439\n",
            "Epoch 154/200\n",
            "246/246 [==============================] - 42s 169ms/step - loss: 0.1694 - accuracy: 0.9386 - val_loss: 0.8955 - val_accuracy: 0.7845\n",
            "\n",
            "Epoch 00154: val_accuracy did not improve from 0.79439\n",
            "Epoch 155/200\n",
            "246/246 [==============================] - 42s 171ms/step - loss: 0.2302 - accuracy: 0.9235 - val_loss: 0.8711 - val_accuracy: 0.7880\n",
            "\n",
            "Epoch 00155: val_accuracy did not improve from 0.79439\n",
            "Epoch 156/200\n",
            "246/246 [==============================] - 42s 169ms/step - loss: 0.1751 - accuracy: 0.9382 - val_loss: 0.9346 - val_accuracy: 0.7769\n",
            "\n",
            "Epoch 00156: val_accuracy did not improve from 0.79439\n",
            "Epoch 157/200\n",
            "246/246 [==============================] - 42s 170ms/step - loss: 0.1918 - accuracy: 0.9316 - val_loss: 0.9318 - val_accuracy: 0.7715\n",
            "\n",
            "Epoch 00157: val_accuracy did not improve from 0.79439\n",
            "Epoch 158/200\n",
            "246/246 [==============================] - 42s 170ms/step - loss: 0.1937 - accuracy: 0.9315 - val_loss: 0.8862 - val_accuracy: 0.7893\n",
            "\n",
            "Epoch 00158: val_accuracy did not improve from 0.79439\n",
            "Epoch 159/200\n",
            "246/246 [==============================] - 42s 170ms/step - loss: 0.1725 - accuracy: 0.9385 - val_loss: 0.9073 - val_accuracy: 0.7760\n",
            "\n",
            "Epoch 00159: val_accuracy did not improve from 0.79439\n",
            "Epoch 160/200\n",
            "246/246 [==============================] - 43s 173ms/step - loss: 0.1784 - accuracy: 0.9385 - val_loss: 0.9123 - val_accuracy: 0.7797\n",
            "\n",
            "Epoch 00160: val_accuracy did not improve from 0.79439\n",
            "Epoch 161/200\n",
            "246/246 [==============================] - 43s 174ms/step - loss: 0.1565 - accuracy: 0.9457 - val_loss: 0.9205 - val_accuracy: 0.7867\n",
            "\n",
            "Epoch 00161: val_accuracy did not improve from 0.79439\n",
            "Epoch 162/200\n",
            "246/246 [==============================] - 42s 173ms/step - loss: 0.1764 - accuracy: 0.9396 - val_loss: 0.8958 - val_accuracy: 0.7871\n",
            "\n",
            "Epoch 00162: val_accuracy did not improve from 0.79439\n",
            "Epoch 163/200\n",
            "246/246 [==============================] - 42s 172ms/step - loss: 0.1745 - accuracy: 0.9392 - val_loss: 0.9194 - val_accuracy: 0.7824\n",
            "\n",
            "Epoch 00163: val_accuracy did not improve from 0.79439\n",
            "Epoch 164/200\n",
            "246/246 [==============================] - 43s 173ms/step - loss: 0.1627 - accuracy: 0.9424 - val_loss: 0.9405 - val_accuracy: 0.7830\n",
            "\n",
            "Epoch 00164: val_accuracy did not improve from 0.79439\n",
            "Epoch 165/200\n",
            "246/246 [==============================] - 43s 173ms/step - loss: 0.1745 - accuracy: 0.9391 - val_loss: 0.9896 - val_accuracy: 0.7735\n",
            "\n",
            "Epoch 00165: val_accuracy did not improve from 0.79439\n",
            "Epoch 166/200\n",
            "246/246 [==============================] - 43s 173ms/step - loss: 0.1882 - accuracy: 0.9359 - val_loss: 0.8904 - val_accuracy: 0.7904\n",
            "\n",
            "Epoch 00166: val_accuracy did not improve from 0.79439\n",
            "Epoch 167/200\n",
            "246/246 [==============================] - 42s 172ms/step - loss: 0.1885 - accuracy: 0.9355 - val_loss: 0.8221 - val_accuracy: 0.7898\n",
            "\n",
            "Epoch 00167: val_accuracy did not improve from 0.79439\n",
            "Epoch 168/200\n",
            "246/246 [==============================] - 42s 171ms/step - loss: 0.1539 - accuracy: 0.9449 - val_loss: 0.8633 - val_accuracy: 0.7911\n",
            "\n",
            "Epoch 00168: val_accuracy did not improve from 0.79439\n",
            "Epoch 169/200\n",
            "246/246 [==============================] - 42s 172ms/step - loss: 0.1683 - accuracy: 0.9429 - val_loss: 0.9266 - val_accuracy: 0.7775\n",
            "\n",
            "Epoch 00169: val_accuracy did not improve from 0.79439\n",
            "Epoch 170/200\n",
            "246/246 [==============================] - 42s 171ms/step - loss: 0.1988 - accuracy: 0.9344 - val_loss: 0.8747 - val_accuracy: 0.7928\n",
            "\n",
            "Epoch 00170: val_accuracy did not improve from 0.79439\n",
            "Epoch 171/200\n",
            "246/246 [==============================] - 42s 171ms/step - loss: 0.1576 - accuracy: 0.9468 - val_loss: 0.8935 - val_accuracy: 0.7833\n",
            "\n",
            "Epoch 00171: val_accuracy did not improve from 0.79439\n",
            "Epoch 172/200\n",
            "246/246 [==============================] - 42s 172ms/step - loss: 0.1694 - accuracy: 0.9408 - val_loss: 0.8777 - val_accuracy: 0.7972\n",
            "\n",
            "Epoch 00172: val_accuracy improved from 0.79439 to 0.79721, saving model to /content/drive/MyDrive/building1/26March5slots_200epochs_biDirLSTMDoubleDenseDropout/best_model.pkl\n"
          ],
          "name": "stdout"
        },
        {
          "output_type": "stream",
          "text": [
            "WARNING:absl:Found untraced functions such as lstm_cell_3_layer_call_and_return_conditional_losses, lstm_cell_3_layer_call_fn, lstm_cell_1_layer_call_and_return_conditional_losses, lstm_cell_1_layer_call_fn, lstm_cell_2_layer_call_and_return_conditional_losses while saving (showing 5 of 15). These functions will not be directly callable after loading.\n",
            "WARNING:absl:Found untraced functions such as lstm_cell_3_layer_call_and_return_conditional_losses, lstm_cell_3_layer_call_fn, lstm_cell_1_layer_call_and_return_conditional_losses, lstm_cell_1_layer_call_fn, lstm_cell_2_layer_call_and_return_conditional_losses while saving (showing 5 of 15). These functions will not be directly callable after loading.\n"
          ],
          "name": "stderr"
        },
        {
          "output_type": "stream",
          "text": [
            "INFO:tensorflow:Assets written to: /content/drive/MyDrive/building1/26March5slots_200epochs_biDirLSTMDoubleDenseDropout/best_model.pkl/assets\n"
          ],
          "name": "stdout"
        },
        {
          "output_type": "stream",
          "text": [
            "INFO:tensorflow:Assets written to: /content/drive/MyDrive/building1/26March5slots_200epochs_biDirLSTMDoubleDenseDropout/best_model.pkl/assets\n"
          ],
          "name": "stderr"
        },
        {
          "output_type": "stream",
          "text": [
            "Epoch 173/200\n",
            "246/246 [==============================] - 42s 171ms/step - loss: 0.1449 - accuracy: 0.9508 - val_loss: 0.9013 - val_accuracy: 0.7905\n",
            "\n",
            "Epoch 00173: val_accuracy did not improve from 0.79721\n",
            "Epoch 174/200\n",
            "246/246 [==============================] - 42s 171ms/step - loss: 0.1855 - accuracy: 0.9357 - val_loss: 0.9369 - val_accuracy: 0.7751\n",
            "\n",
            "Epoch 00174: val_accuracy did not improve from 0.79721\n",
            "Epoch 175/200\n",
            "246/246 [==============================] - 42s 170ms/step - loss: 0.1800 - accuracy: 0.9393 - val_loss: 0.9100 - val_accuracy: 0.7819\n",
            "\n",
            "Epoch 00175: val_accuracy did not improve from 0.79721\n",
            "Epoch 176/200\n",
            "246/246 [==============================] - 42s 171ms/step - loss: 0.1611 - accuracy: 0.9448 - val_loss: 0.8511 - val_accuracy: 0.8005\n",
            "\n",
            "Epoch 00176: val_accuracy improved from 0.79721 to 0.80047, saving model to /content/drive/MyDrive/building1/26March5slots_200epochs_biDirLSTMDoubleDenseDropout/best_model.pkl\n"
          ],
          "name": "stdout"
        },
        {
          "output_type": "stream",
          "text": [
            "WARNING:absl:Found untraced functions such as lstm_cell_3_layer_call_and_return_conditional_losses, lstm_cell_3_layer_call_fn, lstm_cell_1_layer_call_and_return_conditional_losses, lstm_cell_1_layer_call_fn, lstm_cell_2_layer_call_and_return_conditional_losses while saving (showing 5 of 15). These functions will not be directly callable after loading.\n",
            "WARNING:absl:Found untraced functions such as lstm_cell_3_layer_call_and_return_conditional_losses, lstm_cell_3_layer_call_fn, lstm_cell_1_layer_call_and_return_conditional_losses, lstm_cell_1_layer_call_fn, lstm_cell_2_layer_call_and_return_conditional_losses while saving (showing 5 of 15). These functions will not be directly callable after loading.\n"
          ],
          "name": "stderr"
        },
        {
          "output_type": "stream",
          "text": [
            "INFO:tensorflow:Assets written to: /content/drive/MyDrive/building1/26March5slots_200epochs_biDirLSTMDoubleDenseDropout/best_model.pkl/assets\n"
          ],
          "name": "stdout"
        },
        {
          "output_type": "stream",
          "text": [
            "INFO:tensorflow:Assets written to: /content/drive/MyDrive/building1/26March5slots_200epochs_biDirLSTMDoubleDenseDropout/best_model.pkl/assets\n"
          ],
          "name": "stderr"
        },
        {
          "output_type": "stream",
          "text": [
            "Epoch 177/200\n",
            "246/246 [==============================] - 42s 170ms/step - loss: 0.1481 - accuracy: 0.9480 - val_loss: 0.9138 - val_accuracy: 0.7828\n",
            "\n",
            "Epoch 00177: val_accuracy did not improve from 0.80047\n",
            "Epoch 178/200\n",
            "246/246 [==============================] - 42s 170ms/step - loss: 0.1546 - accuracy: 0.9463 - val_loss: 0.9042 - val_accuracy: 0.7825\n",
            "\n",
            "Epoch 00178: val_accuracy did not improve from 0.80047\n",
            "Epoch 179/200\n",
            "246/246 [==============================] - 42s 171ms/step - loss: 0.1481 - accuracy: 0.9476 - val_loss: 0.8922 - val_accuracy: 0.7901\n",
            "\n",
            "Epoch 00179: val_accuracy did not improve from 0.80047\n",
            "Epoch 180/200\n",
            "246/246 [==============================] - 42s 170ms/step - loss: 0.1845 - accuracy: 0.9389 - val_loss: 0.8744 - val_accuracy: 0.7874\n",
            "\n",
            "Epoch 00180: val_accuracy did not improve from 0.80047\n",
            "Epoch 181/200\n",
            "246/246 [==============================] - 42s 169ms/step - loss: 0.1564 - accuracy: 0.9455 - val_loss: 0.8922 - val_accuracy: 0.7937\n",
            "\n",
            "Epoch 00181: val_accuracy did not improve from 0.80047\n",
            "Epoch 182/200\n",
            "246/246 [==============================] - 42s 170ms/step - loss: 0.1546 - accuracy: 0.9479 - val_loss: 0.9449 - val_accuracy: 0.7815\n",
            "\n",
            "Epoch 00182: val_accuracy did not improve from 0.80047\n",
            "Epoch 183/200\n",
            "246/246 [==============================] - 42s 170ms/step - loss: 0.1773 - accuracy: 0.9387 - val_loss: 0.8948 - val_accuracy: 0.7913\n",
            "\n",
            "Epoch 00183: val_accuracy did not improve from 0.80047\n",
            "Epoch 184/200\n",
            "246/246 [==============================] - 42s 170ms/step - loss: 0.1368 - accuracy: 0.9524 - val_loss: 0.9874 - val_accuracy: 0.7764\n",
            "\n",
            "Epoch 00184: val_accuracy did not improve from 0.80047\n",
            "Epoch 185/200\n",
            "246/246 [==============================] - 42s 170ms/step - loss: 0.1643 - accuracy: 0.9404 - val_loss: 1.0045 - val_accuracy: 0.7643\n",
            "\n",
            "Epoch 00185: val_accuracy did not improve from 0.80047\n",
            "Epoch 186/200\n",
            "246/246 [==============================] - 42s 170ms/step - loss: 0.1883 - accuracy: 0.9372 - val_loss: 0.8966 - val_accuracy: 0.7880\n",
            "\n",
            "Epoch 00186: val_accuracy did not improve from 0.80047\n",
            "Epoch 187/200\n",
            "246/246 [==============================] - 42s 171ms/step - loss: 0.1468 - accuracy: 0.9475 - val_loss: 0.9469 - val_accuracy: 0.7849\n",
            "\n",
            "Epoch 00187: val_accuracy did not improve from 0.80047\n",
            "Epoch 188/200\n",
            "246/246 [==============================] - 42s 170ms/step - loss: 0.1416 - accuracy: 0.9490 - val_loss: 0.9325 - val_accuracy: 0.7889\n",
            "\n",
            "Epoch 00188: val_accuracy did not improve from 0.80047\n",
            "Epoch 189/200\n",
            "246/246 [==============================] - 42s 170ms/step - loss: 0.1630 - accuracy: 0.9435 - val_loss: 0.9339 - val_accuracy: 0.7889\n",
            "\n",
            "Epoch 00189: val_accuracy did not improve from 0.80047\n",
            "Epoch 190/200\n",
            "246/246 [==============================] - 42s 170ms/step - loss: 0.1665 - accuracy: 0.9411 - val_loss: 0.9240 - val_accuracy: 0.7879\n",
            "\n",
            "Epoch 00190: val_accuracy did not improve from 0.80047\n",
            "Epoch 191/200\n",
            "246/246 [==============================] - 42s 171ms/step - loss: 0.1539 - accuracy: 0.9470 - val_loss: 0.9746 - val_accuracy: 0.7689\n",
            "\n",
            "Epoch 00191: val_accuracy did not improve from 0.80047\n",
            "Epoch 192/200\n",
            "246/246 [==============================] - 42s 170ms/step - loss: 0.1616 - accuracy: 0.9452 - val_loss: 0.9392 - val_accuracy: 0.7907\n",
            "\n",
            "Epoch 00192: val_accuracy did not improve from 0.80047\n",
            "Epoch 193/200\n",
            "246/246 [==============================] - 42s 171ms/step - loss: 0.1524 - accuracy: 0.9497 - val_loss: 0.9677 - val_accuracy: 0.7862\n",
            "\n",
            "Epoch 00193: val_accuracy did not improve from 0.80047\n",
            "Epoch 194/200\n",
            "246/246 [==============================] - 42s 171ms/step - loss: 0.1978 - accuracy: 0.9325 - val_loss: 0.9399 - val_accuracy: 0.7876\n",
            "\n",
            "Epoch 00194: val_accuracy did not improve from 0.80047\n",
            "Epoch 195/200\n",
            "246/246 [==============================] - 42s 170ms/step - loss: 0.1364 - accuracy: 0.9547 - val_loss: 0.9944 - val_accuracy: 0.7806\n",
            "\n",
            "Epoch 00195: val_accuracy did not improve from 0.80047\n",
            "Epoch 196/200\n",
            "246/246 [==============================] - 42s 170ms/step - loss: 0.1435 - accuracy: 0.9492 - val_loss: 1.0093 - val_accuracy: 0.7794\n",
            "\n",
            "Epoch 00196: val_accuracy did not improve from 0.80047\n",
            "Epoch 197/200\n",
            "246/246 [==============================] - 42s 171ms/step - loss: 0.1823 - accuracy: 0.9357 - val_loss: 0.9816 - val_accuracy: 0.7779\n",
            "\n",
            "Epoch 00197: val_accuracy did not improve from 0.80047\n",
            "Epoch 198/200\n",
            "246/246 [==============================] - 42s 171ms/step - loss: 0.1583 - accuracy: 0.9470 - val_loss: 0.9823 - val_accuracy: 0.7781\n",
            "\n",
            "Epoch 00198: val_accuracy did not improve from 0.80047\n",
            "Epoch 199/200\n",
            "246/246 [==============================] - 42s 171ms/step - loss: 0.1437 - accuracy: 0.9502 - val_loss: 0.9292 - val_accuracy: 0.7893\n",
            "\n",
            "Epoch 00199: val_accuracy did not improve from 0.80047\n",
            "Epoch 200/200\n",
            "246/246 [==============================] - 42s 171ms/step - loss: 0.1854 - accuracy: 0.9386 - val_loss: 0.8847 - val_accuracy: 0.7981\n",
            "\n",
            "Epoch 00200: val_accuracy did not improve from 0.80047\n"
          ],
          "name": "stdout"
        }
      ]
    },
    {
      "cell_type": "code",
      "metadata": {
        "id": "83C_zN-_HSlY",
        "colab": {
          "base_uri": "https://localhost:8080/",
          "height": 295
        },
        "outputId": "9580f048-407c-4c0a-9915-b1dc6a147e44"
      },
      "source": [
        "import matplotlib.pyplot as plt\n",
        "plt.plot(history.history['accuracy'])\n",
        "plt.plot(history.history['val_accuracy'])\n",
        "plt.title('model accuracy')\n",
        "plt.ylabel('accuracy')\n",
        "plt.xlabel('epoch')\n",
        "plt.legend(['train', 'Validation'], loc='upper left')\n",
        "plt.show()"
      ],
      "execution_count": null,
      "outputs": [
        {
          "output_type": "display_data",
          "data": {
            "image/png": "[encoded data removed]",
            "text/plain": [
              "<Figure size 432x288 with 1 Axes>"
            ]
          },
          "metadata": {
            "tags": [],
            "needs_background": "light"
          }
        }
      ]
    },
    {
      "cell_type": "code",
      "metadata": {
        "id": "oY6yOqbZHULQ",
        "colab": {
          "base_uri": "https://localhost:8080/"
        },
        "outputId": "84705d6f-91e8-4b9d-92fc-37b2ac3eaf43"
      },
      "source": [
        "model = load_model('/content/drive/MyDrive/building1/26March5slots_200epochs_biDirLSTMDoubleDenseDropout/best_model.pkl')\n",
        "\n",
        "from sklearn.metrics import accuracy_score\n",
        "y_pred=model.predict(test)\n",
        "test_preds=( y_pred> 0.5).astype(\"int32\")#Selecting a label only if it has >0.5 probability\n",
        "accuracy_score(test_target, test_preds)"
      ],
      "execution_count": null,
      "outputs": [
        {
          "output_type": "execute_result",
          "data": {
            "text/plain": [
              "0.8024325126075349"
            ]
          },
          "metadata": {
            "tags": []
          },
          "execution_count": 21
        }
      ]
    },
    {
      "cell_type": "code",
      "metadata": {
        "id": "FnRdkXmpHc5s",
        "colab": {
          "base_uri": "https://localhost:8080/"
        },
        "outputId": "28842b9c-bac7-42a2-baf4-da14ecfab301"
      },
      "source": [
        "yhat=np.argmax(y_pred,axis=1)\n",
        "y=np.argmax(test_target,axis=1)\n",
        "accuracy_score(y,yhat)"
      ],
      "execution_count": null,
      "outputs": [
        {
          "output_type": "execute_result",
          "data": {
            "text/plain": [
              "0.8083654701868882"
            ]
          },
          "metadata": {
            "tags": []
          },
          "execution_count": 22
        }
      ]
    },
    {
      "cell_type": "code",
      "metadata": {
        "id": "rM7XwQExHa0U",
        "colab": {
          "base_uri": "https://localhost:8080/",
          "height": 204
        },
        "outputId": "3e860ebe-6150-438f-e644-948ec428fc36"
      },
      "source": [
        "#converting predicted labels to waypoins.\n",
        "pred_df=pd.DataFrame(yhat,columns=['Label'])\n",
        "label_df=pd.DataFrame(label,columns=['X_up_limit','Y_up_limit','Label'])\n",
        "label_df.head()\n",
        "pred_df2 = pd.merge(pred_df, label_df, on='Label', how='left')\n",
        "pred_df2.head()"
      ],
      "execution_count": null,
      "outputs": [
        {
          "output_type": "execute_result",
          "data": {
            "text/html": [
              "<div>\n",
              "<style scoped>\n",
              "    .dataframe tbody tr th:only-of-type {\n",
              "        vertical-align: middle;\n",
              "    }\n",
              "\n",
              "    .dataframe tbody tr th {\n",
              "        vertical-align: top;\n",
              "    }\n",
              "\n",
              "    .dataframe thead th {\n",
              "        text-align: right;\n",
              "    }\n",
              "</style>\n",
              "<table border=\"1\" class=\"dataframe\">\n",
              "  <thead>\n",
              "    <tr style=\"text-align: right;\">\n",
              "      <th></th>\n",
              "      <th>Label</th>\n",
              "      <th>X_up_limit</th>\n",
              "      <th>Y_up_limit</th>\n",
              "    </tr>\n",
              "  </thead>\n",
              "  <tbody>\n",
              "    <tr>\n",
              "      <th>0</th>\n",
              "      <td>78</td>\n",
              "      <td>214.213216</td>\n",
              "      <td>169.39878</td>\n",
              "    </tr>\n",
              "    <tr>\n",
              "      <th>1</th>\n",
              "      <td>78</td>\n",
              "      <td>214.213216</td>\n",
              "      <td>169.39878</td>\n",
              "    </tr>\n",
              "    <tr>\n",
              "      <th>2</th>\n",
              "      <td>78</td>\n",
              "      <td>214.213216</td>\n",
              "      <td>169.39878</td>\n",
              "    </tr>\n",
              "    <tr>\n",
              "      <th>3</th>\n",
              "      <td>78</td>\n",
              "      <td>214.213216</td>\n",
              "      <td>169.39878</td>\n",
              "    </tr>\n",
              "    <tr>\n",
              "      <th>4</th>\n",
              "      <td>78</td>\n",
              "      <td>214.213216</td>\n",
              "      <td>169.39878</td>\n",
              "    </tr>\n",
              "  </tbody>\n",
              "</table>\n",
              "</div>"
            ],
            "text/plain": [
              "   Label  X_up_limit  Y_up_limit\n",
              "0     78  214.213216   169.39878\n",
              "1     78  214.213216   169.39878\n",
              "2     78  214.213216   169.39878\n",
              "3     78  214.213216   169.39878\n",
              "4     78  214.213216   169.39878"
            ]
          },
          "metadata": {
            "tags": []
          },
          "execution_count": 23
        }
      ]
    },
    {
      "cell_type": "code",
      "metadata": {
        "id": "YL99yJBBHs7V",
        "colab": {
          "base_uri": "https://localhost:8080/",
          "height": 204
        },
        "outputId": "6f2ece84-f7f1-4a7d-801d-cb947b9e706d"
      },
      "source": [
        "wp_pred=list()\n",
        "#Adjust wp to centers\n",
        "distx=(label[1][0]-label[0][0])/2\n",
        "disty=(label[10][1]-label[0][1])/2 #for 10X10 grid\n",
        "pred_df2['X_up_limit']=pred_df2['X_up_limit']-distx\n",
        "pred_df2['Y_up_limit']=pred_df2['Y_up_limit']-disty\n",
        "pred_df2.head()"
      ],
      "execution_count": null,
      "outputs": [
        {
          "output_type": "execute_result",
          "data": {
            "text/html": [
              "<div>\n",
              "<style scoped>\n",
              "    .dataframe tbody tr th:only-of-type {\n",
              "        vertical-align: middle;\n",
              "    }\n",
              "\n",
              "    .dataframe tbody tr th {\n",
              "        vertical-align: top;\n",
              "    }\n",
              "\n",
              "    .dataframe thead th {\n",
              "        text-align: right;\n",
              "    }\n",
              "</style>\n",
              "<table border=\"1\" class=\"dataframe\">\n",
              "  <thead>\n",
              "    <tr style=\"text-align: right;\">\n",
              "      <th></th>\n",
              "      <th>Label</th>\n",
              "      <th>X_up_limit</th>\n",
              "      <th>Y_up_limit</th>\n",
              "    </tr>\n",
              "  </thead>\n",
              "  <tbody>\n",
              "    <tr>\n",
              "      <th>0</th>\n",
              "      <td>78</td>\n",
              "      <td>204.347734</td>\n",
              "      <td>163.499172</td>\n",
              "    </tr>\n",
              "    <tr>\n",
              "      <th>1</th>\n",
              "      <td>78</td>\n",
              "      <td>204.347734</td>\n",
              "      <td>163.499172</td>\n",
              "    </tr>\n",
              "    <tr>\n",
              "      <th>2</th>\n",
              "      <td>78</td>\n",
              "      <td>204.347734</td>\n",
              "      <td>163.499172</td>\n",
              "    </tr>\n",
              "    <tr>\n",
              "      <th>3</th>\n",
              "      <td>78</td>\n",
              "      <td>204.347734</td>\n",
              "      <td>163.499172</td>\n",
              "    </tr>\n",
              "    <tr>\n",
              "      <th>4</th>\n",
              "      <td>78</td>\n",
              "      <td>204.347734</td>\n",
              "      <td>163.499172</td>\n",
              "    </tr>\n",
              "  </tbody>\n",
              "</table>\n",
              "</div>"
            ],
            "text/plain": [
              "   Label  X_up_limit  Y_up_limit\n",
              "0     78  204.347734  163.499172\n",
              "1     78  204.347734  163.499172\n",
              "2     78  204.347734  163.499172\n",
              "3     78  204.347734  163.499172\n",
              "4     78  204.347734  163.499172"
            ]
          },
          "metadata": {
            "tags": []
          },
          "execution_count": 24
        }
      ]
    },
    {
      "cell_type": "code",
      "metadata": {
        "id": "ZDoK5QESHzeo",
        "colab": {
          "base_uri": "https://localhost:8080/"
        },
        "outputId": "fd6acdb2-4200-4cd1-e9e9-9a37de71c864"
      },
      "source": [
        "#Now we will calculate exact error in predicted and actual location\n",
        "#We will consider only those waypoints which were present in the original data\n",
        "#to calculate error and we will reject interpolated values which were introduced by us \n",
        "import math\n",
        "sum_of_error=0\n",
        "sum_sq_error=0\n",
        "count=0\n",
        "test_predicted=pred_df2[['X_up_limit','Y_up_limit']].values\n",
        "for i in range(len(test_seq_wp)):\n",
        "  for j in range(len(test_seq_wp[i])):\n",
        "    if(test_seq_wp[i][j][2]==1):\n",
        "      sum_of_error+=math.sqrt(((test_predicted[i][0]-test_seq_wp[i][j][0])**2)+((test_predicted[i][1]-test_seq_wp[i][j][1])**2))\n",
        "      sum_sq_error+=((test_predicted[i][0]-test_seq_wp[i][j][0])**2)+((test_predicted[i][1]-test_seq_wp[i][j][1])**2)\n",
        "      count+=1\n",
        "\n",
        "\n",
        "MAE=sum_of_error/count\n",
        "RMSE=math.sqrt(sum_sq_error/count)\n",
        "print('MAE value is:',round(MAE,2))  \n",
        "print('RMSE value is:',round(RMSE,2)) "
      ],
      "execution_count": null,
      "outputs": [
        {
          "output_type": "stream",
          "text": [
            "MAE value is: 17.29\n",
            "RMSE value is: 27.83\n"
          ],
          "name": "stdout"
        }
      ]
    }
  ]
}